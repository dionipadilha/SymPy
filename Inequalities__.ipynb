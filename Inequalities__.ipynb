{
  "nbformat": 4,
  "nbformat_minor": 0,
  "metadata": {
    "colab": {
      "provenance": [],
      "authorship_tag": "ABX9TyPNVdC0TOdEaoH+zDDEacsC",
      "include_colab_link": true
    },
    "kernelspec": {
      "name": "python3",
      "display_name": "Python 3"
    },
    "language_info": {
      "name": "python"
    }
  },
  "cells": [
    {
      "cell_type": "markdown",
      "metadata": {
        "id": "view-in-github",
        "colab_type": "text"
      },
      "source": [
        "<a href=\"https://colab.research.google.com/github/dionipadilha/sympy/blob/main/Inequalities__.ipynb\" target=\"_parent\"><img src=\"https://colab.research.google.com/assets/colab-badge.svg\" alt=\"Open In Colab\"/></a>"
      ]
    },
    {
      "cell_type": "markdown",
      "source": [
        "# Inequalities"
      ],
      "metadata": {
        "id": "JPbFo1K5EGzE"
      }
    },
    {
      "cell_type": "code",
      "source": [
        "from sympy import *\n",
        "init_session()"
      ],
      "metadata": {
        "colab": {
          "base_uri": "https://localhost:8080/"
        },
        "id": "qwK3wqFAEXK4",
        "outputId": "64116495-06dd-49df-e10e-e997f06e2ffb"
      },
      "execution_count": null,
      "outputs": [
        {
          "output_type": "stream",
          "name": "stdout",
          "text": [
            "IPython console for SymPy 1.12.1 (Python 3.10.12-64-bit) (ground types: python)\n",
            "\n",
            "These commands were executed:\n",
            ">>> from sympy import *\n",
            ">>> x, y, z, t = symbols('x y z t')\n",
            ">>> k, m, n = symbols('k m n', integer=True)\n",
            ">>> f, g, h = symbols('f g h', cls=Function)\n",
            ">>> init_printing()\n",
            "\n",
            "Documentation can be found at https://docs.sympy.org/1.12.1/\n",
            "\n"
          ]
        }
      ]
    },
    {
      "cell_type": "code",
      "execution_count": null,
      "metadata": {
        "colab": {
          "base_uri": "https://localhost:8080/",
          "height": 38
        },
        "id": "LwL-3Y10D_ZU",
        "outputId": "afafc4ec-6edd-4be0-c072-0c17f1371b9f"
      },
      "outputs": [
        {
          "output_type": "execute_result",
          "data": {
            "text/plain": [
              "3 - x > 2⋅x + 1"
            ],
            "text/latex": "$\\displaystyle 3 - x > 2 x + 1$"
          },
          "metadata": {},
          "execution_count": 19
        }
      ],
      "source": [
        "inequality = 3 - x > 2*x + 1\n",
        "inequality"
      ]
    },
    {
      "cell_type": "code",
      "source": [
        "solve(inequality, x)"
      ],
      "metadata": {
        "colab": {
          "base_uri": "https://localhost:8080/",
          "height": 51
        },
        "id": "lx3hvkRGFdXN",
        "outputId": "f74df2e7-dd22-4f0a-8c49-6657aa6dc948"
      },
      "execution_count": null,
      "outputs": [
        {
          "output_type": "execute_result",
          "data": {
            "text/plain": [
              "-∞ < x ∧ x < 2/3"
            ],
            "text/latex": "$\\displaystyle -\\infty < x \\wedge x < \\frac{2}{3}$"
          },
          "metadata": {},
          "execution_count": 20
        }
      ]
    },
    {
      "cell_type": "code",
      "source": [
        "reduce_inequalities(inequality, [x])"
      ],
      "metadata": {
        "colab": {
          "base_uri": "https://localhost:8080/",
          "height": 51
        },
        "id": "XB5T41X0ERzg",
        "outputId": "7c0754cd-027b-416b-946a-173dfa793f8b"
      },
      "execution_count": null,
      "outputs": [
        {
          "output_type": "execute_result",
          "data": {
            "text/plain": [
              "-∞ < x ∧ x < 2/3"
            ],
            "text/latex": "$\\displaystyle -\\infty < x \\wedge x < \\frac{2}{3}$"
          },
          "metadata": {},
          "execution_count": 21
        }
      ]
    },
    {
      "cell_type": "code",
      "source": [
        "Inequalities = [0 < x, x < 2, 1 <= x, x <= 4]\n",
        "Inequalities"
      ],
      "metadata": {
        "colab": {
          "base_uri": "https://localhost:8080/",
          "height": 38
        },
        "id": "u7n5D8fXEww0",
        "outputId": "93eb643d-0399-4d04-8b7e-ce1bb1df1d5b"
      },
      "execution_count": null,
      "outputs": [
        {
          "output_type": "execute_result",
          "data": {
            "text/plain": [
              "[x > 0, x < 2, x ≥ 1, x ≤ 4]"
            ],
            "text/latex": "$\\displaystyle \\left[ x > 0, \\  x < 2, \\  x \\geq 1, \\  x \\leq 4\\right]$"
          },
          "metadata": {},
          "execution_count": 22
        }
      ]
    },
    {
      "cell_type": "code",
      "source": [
        "reduce_inequalities(Inequalities, [x])"
      ],
      "metadata": {
        "colab": {
          "base_uri": "https://localhost:8080/",
          "height": 38
        },
        "id": "2w9aCAqdFI8g",
        "outputId": "d2f87c75-e316-4f71-9f22-bda2994fb322"
      },
      "execution_count": null,
      "outputs": [
        {
          "output_type": "execute_result",
          "data": {
            "text/plain": [
              "1 ≤ x ∧ x < 2"
            ],
            "text/latex": "$\\displaystyle 1 \\leq x \\wedge x < 2$"
          },
          "metadata": {},
          "execution_count": 23
        }
      ]
    },
    {
      "cell_type": "code",
      "source": [
        "solve(Inequalities, [x])"
      ],
      "metadata": {
        "colab": {
          "base_uri": "https://localhost:8080/",
          "height": 38
        },
        "id": "xEyE5gVHFQUy",
        "outputId": "a05db1bd-60c9-475b-fdb4-1d02343f86d7"
      },
      "execution_count": null,
      "outputs": [
        {
          "output_type": "execute_result",
          "data": {
            "text/plain": [
              "1 ≤ x ∧ x < 2"
            ],
            "text/latex": "$\\displaystyle 1 \\leq x \\wedge x < 2$"
          },
          "metadata": {},
          "execution_count": 24
        }
      ]
    },
    {
      "cell_type": "code",
      "source": [
        "reduce_inequalities(0 <= x + y*2 - 1, [x])"
      ],
      "metadata": {
        "colab": {
          "base_uri": "https://localhost:8080/",
          "height": 38
        },
        "id": "RG9_jYKOFjPL",
        "outputId": "d64dfa51-8d82-443a-bcef-b2f915656a67"
      },
      "execution_count": null,
      "outputs": [
        {
          "output_type": "execute_result",
          "data": {
            "text/plain": [
              "x ≥ 1 - 2⋅y ∧ x < ∞"
            ],
            "text/latex": "$\\displaystyle x \\geq 1 - 2 y \\wedge x < \\infty$"
          },
          "metadata": {},
          "execution_count": 25
        }
      ]
    },
    {
      "cell_type": "code",
      "source": [
        "reduce_inequalities(0 <= x + y*2 - 1, [y])"
      ],
      "metadata": {
        "colab": {
          "base_uri": "https://localhost:8080/",
          "height": 51
        },
        "id": "qh1HGAQdF3J_",
        "outputId": "e9b0ccf0-d7c4-4685-d9e9-f431510fffe6"
      },
      "execution_count": null,
      "outputs": [
        {
          "output_type": "execute_result",
          "data": {
            "text/plain": [
              "    1   x        \n",
              "y ≥ ─ - ─ ∧ y < ∞\n",
              "    2   2        "
            ],
            "text/latex": "$\\displaystyle y \\geq \\frac{1}{2} - \\frac{x}{2} \\wedge y < \\infty$"
          },
          "metadata": {},
          "execution_count": 26
        }
      ]
    },
    {
      "cell_type": "code",
      "source": [
        "solve(0 <= x + y*2 - 1, [y])"
      ],
      "metadata": {
        "colab": {
          "base_uri": "https://localhost:8080/",
          "height": 51
        },
        "id": "pQOajs9yGGQL",
        "outputId": "1b171fda-d12a-4f73-9fef-12e84d498b1d"
      },
      "execution_count": null,
      "outputs": [
        {
          "output_type": "execute_result",
          "data": {
            "text/plain": [
              "    1   x        \n",
              "y ≥ ─ - ─ ∧ y < ∞\n",
              "    2   2        "
            ],
            "text/latex": "$\\displaystyle y \\geq \\frac{1}{2} - \\frac{x}{2} \\wedge y < \\infty$"
          },
          "metadata": {},
          "execution_count": 27
        }
      ]
    }
  ]
}