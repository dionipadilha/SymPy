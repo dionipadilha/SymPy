{
  "nbformat": 4,
  "nbformat_minor": 0,
  "metadata": {
    "colab": {
      "provenance": [],
      "include_colab_link": true
    },
    "kernelspec": {
      "name": "python3",
      "display_name": "Python 3"
    },
    "language_info": {
      "name": "python"
    }
  },
  "cells": [
    {
      "cell_type": "markdown",
      "metadata": {
        "id": "view-in-github",
        "colab_type": "text"
      },
      "source": [
        "<a href=\"https://colab.research.google.com/github/dionipadilha/sympy/blob/main/Simplification_1.ipynb\" target=\"_parent\"><img src=\"https://colab.research.google.com/assets/colab-badge.svg\" alt=\"Open In Colab\"/></a>"
      ]
    },
    {
      "cell_type": "markdown",
      "source": [
        "# Simplification 1"
      ],
      "metadata": {
        "id": "epVoXkOZHC_Q"
      }
    },
    {
      "cell_type": "code",
      "execution_count": null,
      "metadata": {
        "id": "NXYSL9HZ_Ar1"
      },
      "outputs": [],
      "source": [
        "from sympy import *\n",
        "x, y, z = symbols('x, y, z')\n",
        "init_printing()"
      ]
    },
    {
      "cell_type": "markdown",
      "source": [
        "## General function to simplifications"
      ],
      "metadata": {
        "id": "mGlf_s9IuToF"
      }
    },
    {
      "cell_type": "code",
      "source": [
        "# General function to simplify math expressions\n",
        "expr = (sin(x)**2 + cos(x)**2)\n",
        "Eq(expr, expr.simplify())"
      ],
      "metadata": {
        "colab": {
          "base_uri": "https://localhost:8080/",
          "height": 38
        },
        "id": "63UmUNbW_UIX",
        "outputId": "e6defa60-6459-4e81-fa20-2465df16a330"
      },
      "execution_count": null,
      "outputs": [
        {
          "output_type": "execute_result",
          "data": {
            "text/plain": [
              "   2         2       \n",
              "sin (x) + cos (x) = 1"
            ],
            "text/latex": "$\\displaystyle \\sin^{2}{\\left(x \\right)} + \\cos^{2}{\\left(x \\right)} = 1$"
          },
          "metadata": {},
          "execution_count": 2
        }
      ]
    },
    {
      "cell_type": "code",
      "source": [
        "# General function to simplify math expressions\n",
        "expr = ((x**3 + x**2 - x - 1)/(x**2 + 2*x + 1))\n",
        "Eq(expr, expr.simplify())"
      ],
      "metadata": {
        "colab": {
          "base_uri": "https://localhost:8080/",
          "height": 55
        },
        "id": "x-0xrsO6_tPQ",
        "outputId": "938d96aa-4dba-43db-d816-4ad65bdb7ec7"
      },
      "execution_count": null,
      "outputs": [
        {
          "output_type": "execute_result",
          "data": {
            "text/plain": [
              " 3    2                \n",
              "x  + x  - x - 1        \n",
              "─────────────── = x - 1\n",
              "   2                   \n",
              "  x  + 2⋅x + 1         "
            ],
            "text/latex": "$\\displaystyle \\frac{x^{3} + x^{2} - x - 1}{x^{2} + 2 x + 1} = x - 1$"
          },
          "metadata": {},
          "execution_count": 3
        }
      ]
    },
    {
      "cell_type": "code",
      "source": [
        "# General function to simplify math expressions\n",
        "expr = gamma(x)/gamma(x - 2)\n",
        "Eq(expr, expr.simplify())"
      ],
      "metadata": {
        "colab": {
          "base_uri": "https://localhost:8080/",
          "height": 57
        },
        "id": "0__B-OFrAGcQ",
        "outputId": "feaa7da4-17ec-463e-9eec-fb16764b1735"
      },
      "execution_count": null,
      "outputs": [
        {
          "output_type": "execute_result",
          "data": {
            "text/plain": [
              "  Γ(x)                    \n",
              "──────── = (x - 2)⋅(x - 1)\n",
              "Γ(x - 2)                  "
            ],
            "text/latex": "$\\displaystyle \\frac{\\Gamma\\left(x\\right)}{\\Gamma\\left(x - 2\\right)} = \\left(x - 2\\right) \\left(x - 1\\right)$"
          },
          "metadata": {},
          "execution_count": 4
        }
      ]
    },
    {
      "cell_type": "code",
      "source": [
        "# But simplify has a pitfall\n",
        "expr = (x**2 + 2*x + 1)\n",
        "Eq(expr, expr.simplify())"
      ],
      "metadata": {
        "colab": {
          "base_uri": "https://localhost:8080/",
          "height": 37
        },
        "id": "LWtGqqpVANaW",
        "outputId": "f5a3e350-4ea5-4c9d-86d6-134e3cc226fb"
      },
      "execution_count": null,
      "outputs": [
        {
          "output_type": "execute_result",
          "data": {
            "text/plain": [
              "True"
            ],
            "text/latex": "$\\displaystyle \\text{True}$"
          },
          "metadata": {},
          "execution_count": 5
        }
      ]
    },
    {
      "cell_type": "markdown",
      "source": [
        "##  Polynomial Simplifications"
      ],
      "metadata": {
        "id": "lgyt9LJbuO_F"
      }
    },
    {
      "cell_type": "code",
      "source": [
        "# Factors over the rational numbers\n",
        "expr = (x**2 + 2*x + 1)\n",
        "Eq(expr, expr.factor())"
      ],
      "metadata": {
        "colab": {
          "base_uri": "https://localhost:8080/",
          "height": 38
        },
        "id": "H4HXrAfyDwJC",
        "outputId": "a6221d3a-7b50-475d-9249-f5e9c65af0a5"
      },
      "execution_count": null,
      "outputs": [
        {
          "output_type": "execute_result",
          "data": {
            "text/plain": [
              " 2                    2\n",
              "x  + 2⋅x + 1 = (x + 1) "
            ],
            "text/latex": "$\\displaystyle x^{2} + 2 x + 1 = \\left(x + 1\\right)^{2}$"
          },
          "metadata": {},
          "execution_count": 6
        }
      ]
    },
    {
      "cell_type": "code",
      "source": [
        "# expanding polynomial expressions\n",
        "expr = (x + 1) ** 2\n",
        "Eq(expr, expr.expand())"
      ],
      "metadata": {
        "colab": {
          "base_uri": "https://localhost:8080/",
          "height": 39
        },
        "id": "MQhbVX7IAuRP",
        "outputId": "a4a0e9f0-969e-4fad-ead1-3bb9b65e3ff6"
      },
      "execution_count": null,
      "outputs": [
        {
          "output_type": "execute_result",
          "data": {
            "text/plain": [
              "       2    2          \n",
              "(x + 1)  = x  + 2⋅x + 1"
            ],
            "text/latex": "$\\displaystyle \\left(x + 1\\right)^{2} = x^{2} + 2 x + 1$"
          },
          "metadata": {},
          "execution_count": 7
        }
      ]
    },
    {
      "cell_type": "code",
      "source": [
        "# Get factors themselves\n",
        "expr = x**2 + 2*x + 1\n",
        "factor_list(expr)"
      ],
      "metadata": {
        "colab": {
          "base_uri": "https://localhost:8080/",
          "height": 37
        },
        "id": "xr0uOpEzELIx",
        "outputId": "de0dcdd8-4da6-4e75-ba50-0cceef0331a3"
      },
      "execution_count": null,
      "outputs": [
        {
          "output_type": "execute_result",
          "data": {
            "text/plain": [
              "(1, [(x + 1, 2)])"
            ],
            "text/latex": "$\\displaystyle \\left( 1, \\  \\left[ \\left( x + 1, \\  2\\right)\\right]\\right)$"
          },
          "metadata": {},
          "execution_count": 8
        }
      ]
    },
    {
      "cell_type": "code",
      "source": [
        "# Collects common powers of a term in an expression\n",
        "expr = x*y + x - 3 + 2*x**2 - z*x**2 + x**3\n",
        "collect(expr, x)"
      ],
      "metadata": {
        "colab": {
          "base_uri": "https://localhost:8080/",
          "height": 37
        },
        "id": "B9FyYK7KsWO2",
        "outputId": "e91dbe10-3abe-4fd5-9429-f34d0dfeb6dc"
      },
      "execution_count": null,
      "outputs": [
        {
          "output_type": "execute_result",
          "data": {
            "text/plain": [
              " 3    2                        \n",
              "x  + x ⋅(2 - z) + x⋅(y + 1) - 3"
            ],
            "text/latex": "$\\displaystyle x^{3} + x^{2} \\cdot \\left(2 - z\\right) + x \\left(y + 1\\right) - 3$"
          },
          "metadata": {},
          "execution_count": 9
        }
      ]
    },
    {
      "cell_type": "code",
      "source": [
        "# Get the coefficient of x**n in expr\n",
        "expr = x*y + x - 3 + 2*x**2 - z*x**2 + x**3\n",
        "collected_expr = collect(expr, x)\n",
        "collected_expr.coeff(x, 2)"
      ],
      "metadata": {
        "colab": {
          "base_uri": "https://localhost:8080/",
          "height": 37
        },
        "id": "n_bJ0gEps1Ci",
        "outputId": "3e974b8a-ba50-4045-bfd5-11b8c6c7b2fc"
      },
      "execution_count": null,
      "outputs": [
        {
          "output_type": "execute_result",
          "data": {
            "text/plain": [
              "2 - z"
            ],
            "text/latex": "$\\displaystyle 2 - z$"
          },
          "metadata": {},
          "execution_count": 10
        }
      ]
    },
    {
      "cell_type": "code",
      "source": [
        "# Put rational functions into the standard canonical form\n",
        "expr = (x**2 + 2*x + 1)/(x**2 + x)\n",
        "Eq(expr,expr.cancel())"
      ],
      "metadata": {
        "colab": {
          "base_uri": "https://localhost:8080/",
          "height": 55
        },
        "id": "ST1WFj0Is5oZ",
        "outputId": "ce24f600-b9d7-4386-d18a-ef35d34ac5f6"
      },
      "execution_count": null,
      "outputs": [
        {
          "output_type": "execute_result",
          "data": {
            "text/plain": [
              " 2                  \n",
              "x  + 2⋅x + 1   x + 1\n",
              "──────────── = ─────\n",
              "    2            x  \n",
              "   x  + x           "
            ],
            "text/latex": "$\\displaystyle \\frac{x^{2} + 2 x + 1}{x^{2} + x} = \\frac{x + 1}{x}$"
          },
          "metadata": {},
          "execution_count": 11
        }
      ]
    },
    {
      "cell_type": "code",
      "source": [
        "# Partial fraction decomposition\n",
        "expr = (x**2 + 2*x + 1)/(x**2 + x)\n",
        "Eq(expr,expr.apart())"
      ],
      "metadata": {
        "colab": {
          "base_uri": "https://localhost:8080/",
          "height": 55
        },
        "id": "4O2il7YGvMS-",
        "outputId": "06e3d037-7243-486b-df8e-d6ad14316f44"
      },
      "execution_count": null,
      "outputs": [
        {
          "output_type": "execute_result",
          "data": {
            "text/plain": [
              " 2                  \n",
              "x  + 2⋅x + 1       1\n",
              "──────────── = 1 + ─\n",
              "    2              x\n",
              "   x  + x           "
            ],
            "text/latex": "$\\displaystyle \\frac{x^{2} + 2 x + 1}{x^{2} + x} = 1 + \\frac{1}{x}$"
          },
          "metadata": {},
          "execution_count": 12
        }
      ]
    },
    {
      "cell_type": "code",
      "source": [
        "# Partial fraction mix\n",
        "expr = 1+1/x\n",
        "Eq(expr,expr.together())"
      ],
      "metadata": {
        "colab": {
          "base_uri": "https://localhost:8080/",
          "height": 51
        },
        "id": "jkowAkgFv7lw",
        "outputId": "13ea626b-c392-4e12-eb41-02423e9f6e0e"
      },
      "execution_count": null,
      "outputs": [
        {
          "output_type": "execute_result",
          "data": {
            "text/plain": [
              "    1   x + 1\n",
              "1 + ─ = ─────\n",
              "    x     x  "
            ],
            "text/latex": "$\\displaystyle 1 + \\frac{1}{x} = \\frac{x + 1}{x}$"
          },
          "metadata": {},
          "execution_count": 13
        }
      ]
    },
    {
      "cell_type": "markdown",
      "source": [
        "## Trigonometric Simplification"
      ],
      "metadata": {
        "id": "VJm6waXywi0d"
      }
    },
    {
      "cell_type": "code",
      "source": [
        "# Inverse trigonometric\n",
        "cos(acos(x))"
      ],
      "metadata": {
        "colab": {
          "base_uri": "https://localhost:8080/",
          "height": 37
        },
        "id": "z8HDlZuQwEYc",
        "outputId": "0b260e69-4778-4c83-c36f-fbc919169246"
      },
      "execution_count": null,
      "outputs": [
        {
          "output_type": "execute_result",
          "data": {
            "text/plain": [
              "x"
            ],
            "text/latex": "$\\displaystyle x$"
          },
          "metadata": {},
          "execution_count": 14
        }
      ]
    },
    {
      "cell_type": "code",
      "source": [
        "# Inverse trigonometric\n",
        "asin(1)"
      ],
      "metadata": {
        "colab": {
          "base_uri": "https://localhost:8080/",
          "height": 47
        },
        "id": "mZ_l3heywz1M",
        "outputId": "d31b6336-07af-41b9-e672-177f8b7b8573"
      },
      "execution_count": null,
      "outputs": [
        {
          "output_type": "execute_result",
          "data": {
            "text/plain": [
              "π\n",
              "─\n",
              "2"
            ],
            "text/latex": "$\\displaystyle \\frac{\\pi}{2}$"
          },
          "metadata": {},
          "execution_count": 15
        }
      ]
    },
    {
      "cell_type": "code",
      "source": [
        "# trigonometric identities\n",
        "expr = sin(x)**2 + cos(x)**2\n",
        "Eq(expr,expr.trigsimp())"
      ],
      "metadata": {
        "colab": {
          "base_uri": "https://localhost:8080/",
          "height": 37
        },
        "id": "tzi13TD2w8aK",
        "outputId": "de661c3a-8870-42a4-ccd0-a354560689f9"
      },
      "execution_count": null,
      "outputs": [
        {
          "output_type": "execute_result",
          "data": {
            "text/plain": [
              "   2         2       \n",
              "sin (x) + cos (x) = 1"
            ],
            "text/latex": "$\\displaystyle \\sin^{2}{\\left(x \\right)} + \\cos^{2}{\\left(x \\right)} = 1$"
          },
          "metadata": {},
          "execution_count": 16
        }
      ]
    },
    {
      "cell_type": "code",
      "source": [
        "# trigsimp() also works with hyperbolic trig functions\n",
        "expr = sinh(x)**2 + cosh(x)**2\n",
        "Eq(expr,expr.trigsimp())"
      ],
      "metadata": {
        "colab": {
          "base_uri": "https://localhost:8080/",
          "height": 39
        },
        "id": "T0IcF2NWxHJo",
        "outputId": "666a8439-f8bd-4e6d-dce7-7366ae6a4036"
      },
      "execution_count": null,
      "outputs": [
        {
          "output_type": "execute_result",
          "data": {
            "text/plain": [
              "    2          2               \n",
              "sinh (x) + cosh (x) = cosh(2⋅x)"
            ],
            "text/latex": "$\\displaystyle \\sinh^{2}{\\left(x \\right)} + \\cosh^{2}{\\left(x \\right)} = \\cosh{\\left(2 x \\right)}$"
          },
          "metadata": {},
          "execution_count": 17
        }
      ]
    },
    {
      "cell_type": "code",
      "source": [
        "# expand trigonometric functions\n",
        "expr = sin(x + y)\n",
        "Eq(expr,expand_trig(expr))"
      ],
      "metadata": {
        "colab": {
          "base_uri": "https://localhost:8080/",
          "height": 38
        },
        "id": "DX9DYyWzxTzU",
        "outputId": "48d47348-0d88-4480-80da-82ddcdea756c"
      },
      "execution_count": null,
      "outputs": [
        {
          "output_type": "execute_result",
          "data": {
            "text/plain": [
              "sin(x + y) = sin(x)⋅cos(y) + sin(y)⋅cos(x)"
            ],
            "text/latex": "$\\displaystyle \\sin{\\left(x + y \\right)} = \\sin{\\left(x \\right)} \\cos{\\left(y \\right)} + \\sin{\\left(y \\right)} \\cos{\\left(x \\right)}$"
          },
          "metadata": {},
          "execution_count": 18
        }
      ]
    }
  ]
}