{
  "nbformat": 4,
  "nbformat_minor": 0,
  "metadata": {
    "colab": {
      "provenance": [],
      "authorship_tag": "ABX9TyPo2kKsvR8CMauIEg/vyRWC",
      "include_colab_link": true
    },
    "kernelspec": {
      "name": "python3",
      "display_name": "Python 3"
    },
    "language_info": {
      "name": "python"
    }
  },
  "cells": [
    {
      "cell_type": "markdown",
      "metadata": {
        "id": "view-in-github",
        "colab_type": "text"
      },
      "source": [
        "<a href=\"https://colab.research.google.com/github/dionipadilha/sympy/blob/main/algebra_fast.ipynb\" target=\"_parent\"><img src=\"https://colab.research.google.com/assets/colab-badge.svg\" alt=\"Open In Colab\"/></a>"
      ]
    },
    {
      "cell_type": "markdown",
      "source": [
        "# Álgebra"
      ],
      "metadata": {
        "id": "b5scMcDfdyLj"
      }
    },
    {
      "cell_type": "code",
      "source": [
        "# Symbolic environment:\n",
        "from sympy import *\n",
        "x, y, z = symbols('x, y, z')"
      ],
      "metadata": {
        "id": "bo0x9HWLc_XU"
      },
      "execution_count": 1,
      "outputs": []
    },
    {
      "cell_type": "code",
      "source": [
        "# Combining expressions:\n",
        "expr1 = x**2 + 2*x + 1\n",
        "expr2 = 2*y + z\n",
        "Eq(expr1 , expr2)"
      ],
      "metadata": {
        "colab": {
          "base_uri": "https://localhost:8080/",
          "height": 38
        },
        "id": "uK5fpCo9eL9m",
        "outputId": "b6b77cca-f392-4d5c-e213-8dd15a917dd1"
      },
      "execution_count": 2,
      "outputs": [
        {
          "output_type": "execute_result",
          "data": {
            "text/plain": [
              "Eq(x**2 + 2*x + 1, 2*y + z)"
            ],
            "text/latex": "$\\displaystyle x^{2} + 2 x + 1 = 2 y + z$"
          },
          "metadata": {},
          "execution_count": 2
        }
      ]
    },
    {
      "cell_type": "code",
      "source": [
        "# Expanding expressions:\n",
        "expr = (x + 1)**2\n",
        "Eq(expr , expr.expand())"
      ],
      "metadata": {
        "colab": {
          "base_uri": "https://localhost:8080/",
          "height": 39
        },
        "id": "UWZ7tZdadi72",
        "outputId": "a0dc71f4-ab35-48d9-a75e-19609431e109"
      },
      "execution_count": 3,
      "outputs": [
        {
          "output_type": "execute_result",
          "data": {
            "text/plain": [
              "Eq((x + 1)**2, x**2 + 2*x + 1)"
            ],
            "text/latex": "$\\displaystyle \\left(x + 1\\right)^{2} = x^{2} + 2 x + 1$"
          },
          "metadata": {},
          "execution_count": 3
        }
      ]
    },
    {
      "cell_type": "code",
      "execution_count": 4,
      "metadata": {
        "colab": {
          "base_uri": "https://localhost:8080/",
          "height": 39
        },
        "id": "SGz0FXrScx0V",
        "outputId": "dc444b63-ec52-436f-ebde-881a2f9f14fd"
      },
      "outputs": [
        {
          "output_type": "execute_result",
          "data": {
            "text/plain": [
              "Eq(x**2 + 2*x + 1, (x + 1)**2)"
            ],
            "text/latex": "$\\displaystyle x^{2} + 2 x + 1 = \\left(x + 1\\right)^{2}$"
          },
          "metadata": {},
          "execution_count": 4
        }
      ],
      "source": [
        "# Factoring expressions:\n",
        "expr = x**2 + 2*x + 1\n",
        "Eq(expr , expr.factor())"
      ]
    },
    {
      "cell_type": "code",
      "source": [
        "# Cancel expressions:\n",
        "expr = (x**2 + 2*x + 1)/(x**2 + x)\n",
        "Eq(expr , expr.cancel())"
      ],
      "metadata": {
        "colab": {
          "base_uri": "https://localhost:8080/",
          "height": 55
        },
        "id": "fpu3efmK47Vl",
        "outputId": "c294d5a8-7423-4942-a9f0-363f3f153e60"
      },
      "execution_count": 5,
      "outputs": [
        {
          "output_type": "execute_result",
          "data": {
            "text/plain": [
              "Eq((x**2 + 2*x + 1)/(x**2 + x), (x + 1)/x)"
            ],
            "text/latex": "$\\displaystyle \\frac{x^{2} + 2 x + 1}{x^{2} + x} = \\frac{x + 1}{x}$"
          },
          "metadata": {},
          "execution_count": 5
        }
      ]
    },
    {
      "cell_type": "code",
      "source": [
        "# Collecting common powers:\n",
        "expr = x*y + x - 3 + 2*x**2 - z*x**2 + x**3\n",
        "Eq(expr , expr.collect(x))"
      ],
      "metadata": {
        "colab": {
          "base_uri": "https://localhost:8080/",
          "height": 38
        },
        "id": "Zut1Bzjp37px",
        "outputId": "60325375-e2aa-4c0d-ebb9-13dc6602c62d"
      },
      "execution_count": 6,
      "outputs": [
        {
          "output_type": "execute_result",
          "data": {
            "text/plain": [
              "Eq(x**3 - x**2*z + 2*x**2 + x*y + x - 3, x**3 + x**2*(2 - z) + x*(y + 1) - 3)"
            ],
            "text/latex": "$\\displaystyle x^{3} - x^{2} z + 2 x^{2} + x y + x - 3 = x^{3} + x^{2} \\cdot \\left(2 - z\\right) + x \\left(y + 1\\right) - 3$"
          },
          "metadata": {},
          "execution_count": 6
        }
      ]
    },
    {
      "cell_type": "code",
      "source": [
        "# Partial fraction decomposition:\n",
        "expr = (4*x**3 + 21*x**2 + 10*x + 12)/(x**4 + 5*x**3 + 5*x**2 + 4*x)\n",
        "Eq(expr , expr.apart())"
      ],
      "metadata": {
        "colab": {
          "base_uri": "https://localhost:8080/",
          "height": 55
        },
        "id": "4le21y5H5STV",
        "outputId": "401a9a83-4466-4178-8901-9e360057037b"
      },
      "execution_count": 7,
      "outputs": [
        {
          "output_type": "execute_result",
          "data": {
            "text/plain": [
              "Eq((4*x**3 + 21*x**2 + 10*x + 12)/(x**4 + 5*x**3 + 5*x**2 + 4*x), (2*x - 1)/(x**2 + x + 1) - 1/(x + 4) + 3/x)"
            ],
            "text/latex": "$\\displaystyle \\frac{4 x^{3} + 21 x^{2} + 10 x + 12}{x^{4} + 5 x^{3} + 5 x^{2} + 4 x} = \\frac{2 x - 1}{x^{2} + x + 1} - \\frac{1}{x + 4} + \\frac{3}{x}$"
          },
          "metadata": {},
          "execution_count": 7
        }
      ]
    },
    {
      "cell_type": "code",
      "source": [
        "# Finding exact solutions:\n",
        "solveset(Eq(7*x**2 + 3*x -5 , 0), x)"
      ],
      "metadata": {
        "colab": {
          "base_uri": "https://localhost:8080/",
          "height": 68
        },
        "id": "_nR0JvqOeTOO",
        "outputId": "06f240db-97c1-43ce-a64b-69a9e0bdd639"
      },
      "execution_count": 8,
      "outputs": [
        {
          "output_type": "execute_result",
          "data": {
            "text/plain": [
              "{-3/14 + sqrt(149)/14, -sqrt(149)/14 - 3/14}"
            ],
            "text/latex": "$\\displaystyle \\left\\{- \\frac{3}{14} + \\frac{\\sqrt{149}}{14}, - \\frac{\\sqrt{149}}{14} - \\frac{3}{14}\\right\\}$"
          },
          "metadata": {},
          "execution_count": 8
        }
      ]
    },
    {
      "cell_type": "code",
      "source": [
        "# Finding approximate results:\n",
        "N(solveset(Eq(7*x**2 + 3*x -5 , 0), x), 3)"
      ],
      "metadata": {
        "colab": {
          "base_uri": "https://localhost:8080/",
          "height": 37
        },
        "id": "2qFk1Jx8fVxv",
        "outputId": "72e6f94c-6048-467c-95ee-9931b08fcaec"
      },
      "execution_count": 9,
      "outputs": [
        {
          "output_type": "execute_result",
          "data": {
            "text/plain": [
              "{-1.09, 0.658}"
            ],
            "text/latex": "$\\displaystyle \\left\\{-1.09, 0.658\\right\\}$"
          },
          "metadata": {},
          "execution_count": 9
        }
      ]
    },
    {
      "cell_type": "code",
      "source": [
        "# Finding numeric results:\n",
        "nsolve(7*x**2 + 3*x -5, 0)"
      ],
      "metadata": {
        "colab": {
          "base_uri": "https://localhost:8080/",
          "height": 37
        },
        "id": "WiusbXtv3lVZ",
        "outputId": "40e8da8c-24c9-4dbb-ea0e-77949ef8dfc8"
      },
      "execution_count": 10,
      "outputs": [
        {
          "output_type": "execute_result",
          "data": {
            "text/plain": [
              "0.657611115409550"
            ],
            "text/latex": "$\\displaystyle 0.65761111540955$"
          },
          "metadata": {},
          "execution_count": 10
        }
      ]
    },
    {
      "cell_type": "code",
      "source": [
        "# System of equations:\n",
        "eq1 = Eq(3*x + 2*y, 7)\n",
        "eq2 = Eq(x - y, 1)\n",
        "system_of_equations = [ eq1, eq2]\n",
        "solutions = solve(system_of_equations, [x, y])\n",
        "solutions"
      ],
      "metadata": {
        "colab": {
          "base_uri": "https://localhost:8080/"
        },
        "id": "HwbdXqhKf7uh",
        "outputId": "acfb1aa5-d44c-4a52-ef17-8edb43f6badd"
      },
      "execution_count": 11,
      "outputs": [
        {
          "output_type": "execute_result",
          "data": {
            "text/plain": [
              "{x: 9/5, y: 4/5}"
            ]
          },
          "metadata": {},
          "execution_count": 11
        }
      ]
    },
    {
      "cell_type": "code",
      "source": [
        "# Using dictionary solutions:\n",
        "(x + y).evalf(subs = solutions)"
      ],
      "metadata": {
        "colab": {
          "base_uri": "https://localhost:8080/",
          "height": 37
        },
        "id": "6RcrVl1Ziq4j",
        "outputId": "c0364bad-9e6c-45d4-d411-c97311ef9d70"
      },
      "execution_count": 12,
      "outputs": [
        {
          "output_type": "execute_result",
          "data": {
            "text/plain": [
              "2.60000000000000"
            ],
            "text/latex": "$\\displaystyle 2.6$"
          },
          "metadata": {},
          "execution_count": 12
        }
      ]
    },
    {
      "cell_type": "code",
      "source": [
        "# Roots of an equation:\n",
        "solutions = solveset(Eq(x**2 + 3*x -4, 0), x)\n",
        "solutions"
      ],
      "metadata": {
        "colab": {
          "base_uri": "https://localhost:8080/",
          "height": 37
        },
        "id": "-g6vdn0ynEha",
        "outputId": "fd02fa24-9049-4eb8-ec97-3d81f0b447cc"
      },
      "execution_count": 13,
      "outputs": [
        {
          "output_type": "execute_result",
          "data": {
            "text/plain": [
              "{-4, 1}"
            ],
            "text/latex": "$\\displaystyle \\left\\{-4, 1\\right\\}$"
          },
          "metadata": {},
          "execution_count": 13
        }
      ]
    }
  ]
}