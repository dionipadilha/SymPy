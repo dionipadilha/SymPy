{
  "nbformat": 4,
  "nbformat_minor": 0,
  "metadata": {
    "colab": {
      "provenance": [],
      "authorship_tag": "ABX9TyOblKRT7aJ1C+lI2jnv/Jrx",
      "include_colab_link": true
    },
    "kernelspec": {
      "name": "python3",
      "display_name": "Python 3"
    },
    "language_info": {
      "name": "python"
    }
  },
  "cells": [
    {
      "cell_type": "markdown",
      "metadata": {
        "id": "view-in-github",
        "colab_type": "text"
      },
      "source": [
        "<a href=\"https://colab.research.google.com/github/dionipadilha/sympy/blob/main/algebra_fast.ipynb\" target=\"_parent\"><img src=\"https://colab.research.google.com/assets/colab-badge.svg\" alt=\"Open In Colab\"/></a>"
      ]
    },
    {
      "cell_type": "markdown",
      "source": [
        "# Álgebra"
      ],
      "metadata": {
        "id": "b5scMcDfdyLj"
      }
    },
    {
      "cell_type": "code",
      "source": [
        "# Symbolic environment\n",
        "from sympy import *\n",
        "x, y, z = symbols('x, y, z')"
      ],
      "metadata": {
        "id": "bo0x9HWLc_XU"
      },
      "execution_count": null,
      "outputs": []
    },
    {
      "cell_type": "code",
      "source": [
        "# Combining algebraic expressions to represent an equation:\n",
        "expr1 = x**2 + 2*x + 1\n",
        "expr2 = 2*y + z\n",
        "Eq(expr1 , expr2)"
      ],
      "metadata": {
        "colab": {
          "base_uri": "https://localhost:8080/",
          "height": 38
        },
        "id": "uK5fpCo9eL9m",
        "outputId": "dea07fa9-867f-46e6-846f-0e7e11279c75"
      },
      "execution_count": null,
      "outputs": [
        {
          "output_type": "execute_result",
          "data": {
            "text/plain": [
              "Eq(x**2 + 2*x + 1, 2*y + z)"
            ],
            "text/latex": "$\\displaystyle x^{2} + 2 x + 1 = 2 y + z$"
          },
          "metadata": {},
          "execution_count": 2
        }
      ]
    },
    {
      "cell_type": "code",
      "source": [
        "# Expanding algebraic expressions:\n",
        "expr = (x + 1)**2\n",
        "Eq(expr , expr.expand())"
      ],
      "metadata": {
        "colab": {
          "base_uri": "https://localhost:8080/",
          "height": 39
        },
        "id": "UWZ7tZdadi72",
        "outputId": "f8da9452-915c-4334-9438-9cfe66450430"
      },
      "execution_count": null,
      "outputs": [
        {
          "output_type": "execute_result",
          "data": {
            "text/plain": [
              "Eq((x + 1)**2, x**2 + 2*x + 1)"
            ],
            "text/latex": "$\\displaystyle \\left(x + 1\\right)^{2} = x^{2} + 2 x + 1$"
          },
          "metadata": {},
          "execution_count": 3
        }
      ]
    },
    {
      "cell_type": "code",
      "execution_count": null,
      "metadata": {
        "colab": {
          "base_uri": "https://localhost:8080/",
          "height": 39
        },
        "id": "SGz0FXrScx0V",
        "outputId": "9aec139f-5604-41f6-d0d4-1f7db8788e13"
      },
      "outputs": [
        {
          "output_type": "execute_result",
          "data": {
            "text/plain": [
              "Eq(x**2 + 2*x + 1, (x + 1)**2)"
            ],
            "text/latex": "$\\displaystyle x^{2} + 2 x + 1 = \\left(x + 1\\right)^{2}$"
          },
          "metadata": {},
          "execution_count": 4
        }
      ],
      "source": [
        "# Factoring algebraic expressions:\n",
        "expr = x**2 + 2*x + 1\n",
        "Eq(expr , expr.factor())"
      ]
    },
    {
      "cell_type": "code",
      "source": [
        "# Putting algebraic expressions into the standard canonical form:\n",
        "expr = (x**2 + 2*x + 1)/(x**2 + x)\n",
        "Eq(expr , expr.cancel())"
      ],
      "metadata": {
        "colab": {
          "base_uri": "https://localhost:8080/",
          "height": 55
        },
        "id": "fpu3efmK47Vl",
        "outputId": "3f4cc249-c262-487c-90db-a28116176a8c"
      },
      "execution_count": null,
      "outputs": [
        {
          "output_type": "execute_result",
          "data": {
            "text/plain": [
              "Eq((x**2 + 2*x + 1)/(x**2 + x), (x + 1)/x)"
            ],
            "text/latex": "$\\displaystyle \\frac{x^{2} + 2 x + 1}{x^{2} + x} = \\frac{x + 1}{x}$"
          },
          "metadata": {},
          "execution_count": 5
        }
      ]
    },
    {
      "cell_type": "code",
      "source": [
        "# Collecting common powers of a term in an algebraic expression:\n",
        "expr = x*y + x - 3 + 2*x**2 - z*x**2 + x**3\n",
        "Eq(expr , expr.collect(x))"
      ],
      "metadata": {
        "colab": {
          "base_uri": "https://localhost:8080/",
          "height": 38
        },
        "id": "Zut1Bzjp37px",
        "outputId": "03a2eed1-48c5-4cab-d79c-a870c58bd9c7"
      },
      "execution_count": null,
      "outputs": [
        {
          "output_type": "execute_result",
          "data": {
            "text/plain": [
              "Eq(x**3 - x**2*z + 2*x**2 + x*y + x - 3, x**3 + x**2*(2 - z) + x*(y + 1) - 3)"
            ],
            "text/latex": "$\\displaystyle x^{3} - x^{2} z + 2 x^{2} + x y + x - 3 = x^{3} + x^{2} \\cdot \\left(2 - z\\right) + x \\left(y + 1\\right) - 3$"
          },
          "metadata": {},
          "execution_count": 6
        }
      ]
    },
    {
      "cell_type": "code",
      "source": [
        "# Performing a partial fraction decomposition on a rational function:\n",
        "expr = (4*x**3 + 21*x**2 + 10*x + 12)/(x**4 + 5*x**3 + 5*x**2 + 4*x)\n",
        "Eq(expr , expr.apart())"
      ],
      "metadata": {
        "colab": {
          "base_uri": "https://localhost:8080/",
          "height": 55
        },
        "id": "4le21y5H5STV",
        "outputId": "9ca71511-4f52-44e8-a238-957b7c323cde"
      },
      "execution_count": null,
      "outputs": [
        {
          "output_type": "execute_result",
          "data": {
            "text/plain": [
              "Eq((4*x**3 + 21*x**2 + 10*x + 12)/(x**4 + 5*x**3 + 5*x**2 + 4*x), (2*x - 1)/(x**2 + x + 1) - 1/(x + 4) + 3/x)"
            ],
            "text/latex": "$\\displaystyle \\frac{4 x^{3} + 21 x^{2} + 10 x + 12}{x^{4} + 5 x^{3} + 5 x^{2} + 4 x} = \\frac{2 x - 1}{x^{2} + x + 1} - \\frac{1}{x + 4} + \\frac{3}{x}$"
          },
          "metadata": {},
          "execution_count": 7
        }
      ]
    },
    {
      "cell_type": "code",
      "source": [
        "# Finding exact solutions to equations:\n",
        "solveset(Eq(7*x**2 + 3*x -5 , 0), x)"
      ],
      "metadata": {
        "colab": {
          "base_uri": "https://localhost:8080/",
          "height": 68
        },
        "id": "_nR0JvqOeTOO",
        "outputId": "52ed97d8-8e51-43e4-92e6-db09b80cf975"
      },
      "execution_count": null,
      "outputs": [
        {
          "output_type": "execute_result",
          "data": {
            "text/plain": [
              "{-3/14 + sqrt(149)/14, -sqrt(149)/14 - 3/14}"
            ],
            "text/latex": "$\\displaystyle \\left\\{- \\frac{3}{14} + \\frac{\\sqrt{149}}{14}, - \\frac{\\sqrt{149}}{14} - \\frac{3}{14}\\right\\}$"
          },
          "metadata": {},
          "execution_count": 8
        }
      ]
    },
    {
      "cell_type": "code",
      "source": [
        "# Finding approximate results to solutions:\n",
        "N(solveset(Eq(7*x**2 + 3*x -5 , 0), x), 3)"
      ],
      "metadata": {
        "colab": {
          "base_uri": "https://localhost:8080/",
          "height": 38
        },
        "id": "2qFk1Jx8fVxv",
        "outputId": "a6c2e2ce-4a16-42f2-a850-16228f14bfce"
      },
      "execution_count": null,
      "outputs": [
        {
          "output_type": "execute_result",
          "data": {
            "text/plain": [
              "{-1.09, 0.658}"
            ],
            "text/latex": "$\\displaystyle \\left\\{-1.09, 0.658\\right\\}$"
          },
          "metadata": {},
          "execution_count": 9
        }
      ]
    },
    {
      "cell_type": "code",
      "source": [
        "# Finding numeric results to solutions:\n",
        "nsolve(7*x**2 + 3*x -5, 0)"
      ],
      "metadata": {
        "colab": {
          "base_uri": "https://localhost:8080/",
          "height": 38
        },
        "id": "WiusbXtv3lVZ",
        "outputId": "52a88d54-1444-4e9e-f5f3-18fe256e3eaf"
      },
      "execution_count": null,
      "outputs": [
        {
          "output_type": "execute_result",
          "data": {
            "text/plain": [
              "0.657611115409550"
            ],
            "text/latex": "$\\displaystyle 0.65761111540955$"
          },
          "metadata": {},
          "execution_count": 10
        }
      ]
    },
    {
      "cell_type": "code",
      "source": [
        "# Solving a system of equations:\n",
        "eq1 = Eq(3*x + 2*y, 7)\n",
        "eq2 = Eq(x - y, 1)\n",
        "system_of_equations = [ eq1, eq2]\n",
        "solutions = solve(system_of_equations, [x, y])\n",
        "solutions"
      ],
      "metadata": {
        "colab": {
          "base_uri": "https://localhost:8080/"
        },
        "id": "HwbdXqhKf7uh",
        "outputId": "6e6fe114-2e9b-4ec3-e7c2-351ee85636b7"
      },
      "execution_count": null,
      "outputs": [
        {
          "output_type": "execute_result",
          "data": {
            "text/plain": [
              "{x: 9/5, y: 4/5}"
            ]
          },
          "metadata": {},
          "execution_count": 11
        }
      ]
    },
    {
      "cell_type": "code",
      "source": [
        "# Using a solution given as a dictionary:\n",
        "(x + y).evalf(subs = solutions)"
      ],
      "metadata": {
        "colab": {
          "base_uri": "https://localhost:8080/",
          "height": 38
        },
        "id": "6RcrVl1Ziq4j",
        "outputId": "e4c74d07-941f-4893-da6e-39fcdd43f69c"
      },
      "execution_count": null,
      "outputs": [
        {
          "output_type": "execute_result",
          "data": {
            "text/plain": [
              "2.60000000000000"
            ],
            "text/latex": "$\\displaystyle 2.6$"
          },
          "metadata": {},
          "execution_count": 12
        }
      ]
    },
    {
      "cell_type": "code",
      "source": [
        "# Finding the roots of an equation:\n",
        "solutions = solveset(Eq(x**2 + 3*x -4, 0), x)\n",
        "solutions"
      ],
      "metadata": {
        "colab": {
          "base_uri": "https://localhost:8080/",
          "height": 38
        },
        "id": "-g6vdn0ynEha",
        "outputId": "9fd7135a-426b-4984-f752-e0af15490d25"
      },
      "execution_count": null,
      "outputs": [
        {
          "output_type": "execute_result",
          "data": {
            "text/plain": [
              "{-4, 1}"
            ],
            "text/latex": "$\\displaystyle \\left\\{-4, 1\\right\\}$"
          },
          "metadata": {},
          "execution_count": 13
        }
      ]
    }
  ]
}