{
  "nbformat": 4,
  "nbformat_minor": 0,
  "metadata": {
    "colab": {
      "provenance": [],
      "authorship_tag": "ABX9TyMDcbAEzBrsJR16tmq261FR",
      "include_colab_link": true
    },
    "kernelspec": {
      "name": "python3",
      "display_name": "Python 3"
    },
    "language_info": {
      "name": "python"
    }
  },
  "cells": [
    {
      "cell_type": "markdown",
      "metadata": {
        "id": "view-in-github",
        "colab_type": "text"
      },
      "source": [
        "<a href=\"https://colab.research.google.com/github/dionipadilha/SymPy-Fast-Intro/blob/main/assumptions.ipynb\" target=\"_parent\"><img src=\"https://colab.research.google.com/assets/colab-badge.svg\" alt=\"Open In Colab\"/></a>"
      ]
    },
    {
      "cell_type": "markdown",
      "source": [
        "# Assumptions"
      ],
      "metadata": {
        "id": "bKJXCCgNuV2i"
      }
    },
    {
      "cell_type": "markdown",
      "source": [
        "These snippets illustrate how assumptions and predicates can influence the behavior of symbolic computation."
      ],
      "metadata": {
        "id": "PihfP4Vk5FlZ"
      }
    },
    {
      "cell_type": "markdown",
      "source": [
        "## Assumptions"
      ],
      "metadata": {
        "id": "BmPH4EWd35-5"
      }
    },
    {
      "cell_type": "code",
      "execution_count": 1,
      "metadata": {
        "id": "OUbVcJOGuEFn"
      },
      "outputs": [],
      "source": [
        "# Symbolic Env\n",
        "from sympy import *\n",
        "init_printing()"
      ]
    },
    {
      "cell_type": "code",
      "source": [
        "# Assumptions returns:\n",
        "a, b = symbols('a, b')\n",
        "m, n = symbols('m, n', positive=True)\n",
        "x, y = symbols('x, y', negative=True)\n",
        "[\n",
        "  (a + b).is_positive, #--> None\n",
        "  (m + n).is_positive, #--> True\n",
        "  (x + y).is_positive  #--> Flase\n",
        "]"
      ],
      "metadata": {
        "id": "s_YXU6CN2CIt",
        "colab": {
          "base_uri": "https://localhost:8080/"
        },
        "outputId": "0a0ade40-4bf1-4b17-b59d-1c1f0b30f301"
      },
      "execution_count": 2,
      "outputs": [
        {
          "output_type": "execute_result",
          "data": {
            "text/plain": [
              "[None, True, False]"
            ]
          },
          "metadata": {},
          "execution_count": 2
        }
      ]
    },
    {
      "cell_type": "code",
      "source": [
        "# Simplification based on assumptions:\n",
        "inputs = [\n",
        "  symbols('x'),                #--> sqrt(x**2)\n",
        "  symbols('x', positive=True), #--> x\n",
        "  symbols('x', real=True)      #--> |x|\n",
        "]\n",
        "[sqrt(x**2) for x in inputs]"
      ],
      "metadata": {
        "id": "yaRmkU04vG4M",
        "colab": {
          "base_uri": "https://localhost:8080/",
          "height": 47
        },
        "outputId": "50107398-6ec2-4755-8d41-9daadc58e7d8"
      },
      "execution_count": 3,
      "outputs": [
        {
          "output_type": "execute_result",
          "data": {
            "text/plain": [
              "⎡   ____        ⎤\n",
              "⎢  ╱  2         ⎥\n",
              "⎣╲╱  x  , x, │x│⎦"
            ],
            "text/latex": "$\\displaystyle \\left[ \\sqrt{x^{2}}, \\  x, \\  \\left|{x}\\right|\\right]$"
          },
          "metadata": {},
          "execution_count": 3
        }
      ]
    },
    {
      "cell_type": "code",
      "source": [
        "# Trigonometric simplification based on assumptions:\n",
        "inputs = [\n",
        "  Symbol('n'),              #--> sin(pi*n)\n",
        "  Symbol('n', integer=True) #--> 0\n",
        "]\n",
        "[sin(n * pi) for n in inputs]"
      ],
      "metadata": {
        "id": "SUjm-JEoH-Pm",
        "colab": {
          "base_uri": "https://localhost:8080/",
          "height": 38
        },
        "outputId": "89b29dc1-68a1-4fbe-bb3c-9ff343d0c931"
      },
      "execution_count": 4,
      "outputs": [
        {
          "output_type": "execute_result",
          "data": {
            "text/plain": [
              "[sin(π⋅n), 0]"
            ],
            "text/latex": "$\\displaystyle \\left[ \\sin{\\left(\\pi n \\right)}, \\  0\\right]$"
          },
          "metadata": {},
          "execution_count": 4
        }
      ]
    },
    {
      "cell_type": "code",
      "source": [
        "# Multiple assumptions\n",
        "x, y = symbols('x, y', positive=True, integer=True)\n",
        "n = symbols('n', real=True, negative=False, zero=False)\n",
        "[\n",
        "  (x * y).is_integer, #--> True\n",
        "  n.is_positive       #--> True\n",
        "]"
      ],
      "metadata": {
        "id": "1EY4gT2lziBv",
        "colab": {
          "base_uri": "https://localhost:8080/"
        },
        "outputId": "fdb56018-c0a7-45fb-889a-a417b4f4fb5c"
      },
      "execution_count": 5,
      "outputs": [
        {
          "output_type": "execute_result",
          "data": {
            "text/plain": [
              "[True, True]"
            ]
          },
          "metadata": {},
          "execution_count": 5
        }
      ]
    },
    {
      "cell_type": "markdown",
      "source": [
        "## Predicates"
      ],
      "metadata": {
        "id": "vVTv9T10CAQ8"
      }
    },
    {
      "cell_type": "code",
      "source": [
        "# Set of predicates for a symbol\n",
        "x = Symbol('x')\n",
        "x.assumptions0"
      ],
      "metadata": {
        "id": "-8N1AaJh1qNv",
        "colab": {
          "base_uri": "https://localhost:8080/"
        },
        "outputId": "b26303ab-a7fc-4470-aa19-5e09ce0e68c2"
      },
      "execution_count": 6,
      "outputs": [
        {
          "output_type": "execute_result",
          "data": {
            "text/plain": [
              "{'commutative': True}"
            ]
          },
          "metadata": {},
          "execution_count": 6
        }
      ]
    },
    {
      "cell_type": "code",
      "source": [
        "# Set of predicates for a real symbol\n",
        "x = Symbol('x', real=True)\n",
        "x.assumptions0"
      ],
      "metadata": {
        "id": "FpMmiQ55Bsq6",
        "colab": {
          "base_uri": "https://localhost:8080/"
        },
        "outputId": "709a2e46-7970-4c2c-b86a-db3822e99a0e"
      },
      "execution_count": 7,
      "outputs": [
        {
          "output_type": "execute_result",
          "data": {
            "text/plain": [
              "{'real': True,\n",
              " 'finite': True,\n",
              " 'imaginary': False,\n",
              " 'complex': True,\n",
              " 'extended_real': True,\n",
              " 'hermitian': True,\n",
              " 'commutative': True,\n",
              " 'infinite': False}"
            ]
          },
          "metadata": {},
          "execution_count": 7
        }
      ]
    },
    {
      "cell_type": "code",
      "source": [
        "# Set of predicates for a integer symbol\n",
        "x = Symbol('x', integer=True)\n",
        "x.assumptions0"
      ],
      "metadata": {
        "id": "SyQZz1ZBDLs8",
        "colab": {
          "base_uri": "https://localhost:8080/"
        },
        "outputId": "7b146f91-4495-4463-b682-6d98b021e449"
      },
      "execution_count": 8,
      "outputs": [
        {
          "output_type": "execute_result",
          "data": {
            "text/plain": [
              "{'integer': True,\n",
              " 'finite': True,\n",
              " 'rational': True,\n",
              " 'imaginary': False,\n",
              " 'irrational': False,\n",
              " 'transcendental': False,\n",
              " 'complex': True,\n",
              " 'extended_real': True,\n",
              " 'hermitian': True,\n",
              " 'real': True,\n",
              " 'commutative': True,\n",
              " 'infinite': False,\n",
              " 'noninteger': False,\n",
              " 'algebraic': True}"
            ]
          },
          "metadata": {},
          "execution_count": 8
        }
      ]
    },
    {
      "cell_type": "code",
      "source": [
        "# Implications of predicates\n",
        "a, b = symbols('a, b')                    #--> 2ab\n",
        "x, y = symbols('x, y', commutative=False) #--> xy + yx\n",
        "[a*b + b*a, x*y + y*x]"
      ],
      "metadata": {
        "id": "RobPzI2DDQe8",
        "colab": {
          "base_uri": "https://localhost:8080/",
          "height": 38
        },
        "outputId": "27485880-8543-4ade-ee12-6fe40f6b2a3f"
      },
      "execution_count": 9,
      "outputs": [
        {
          "output_type": "execute_result",
          "data": {
            "text/plain": [
              "[2⋅a⋅b, x⋅y + y⋅x]"
            ],
            "text/latex": "$\\displaystyle \\left[ 2 a b, \\  x y + y x\\right]$"
          },
          "metadata": {},
          "execution_count": 9
        }
      ]
    }
  ]
}