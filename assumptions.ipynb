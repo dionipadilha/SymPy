{
  "nbformat": 4,
  "nbformat_minor": 0,
  "metadata": {
    "colab": {
      "provenance": [],
      "authorship_tag": "ABX9TyPOgIQG6G5+Lx4WGevGsAko",
      "include_colab_link": true
    },
    "kernelspec": {
      "name": "python3",
      "display_name": "Python 3"
    },
    "language_info": {
      "name": "python"
    }
  },
  "cells": [
    {
      "cell_type": "markdown",
      "metadata": {
        "id": "view-in-github",
        "colab_type": "text"
      },
      "source": [
        "<a href=\"https://colab.research.google.com/github/dionipadilha/SymPy-Fast-Intro/blob/main/assumptions.ipynb\" target=\"_parent\"><img src=\"https://colab.research.google.com/assets/colab-badge.svg\" alt=\"Open In Colab\"/></a>"
      ]
    },
    {
      "cell_type": "markdown",
      "source": [
        "# Assumptions"
      ],
      "metadata": {
        "id": "bKJXCCgNuV2i"
      }
    },
    {
      "cell_type": "markdown",
      "source": [
        "These examples illustrate how assumptions and predicates can influence the behavior of symbolic computation."
      ],
      "metadata": {
        "id": "PihfP4Vk5FlZ"
      }
    },
    {
      "cell_type": "markdown",
      "source": [
        "## Assumptions"
      ],
      "metadata": {
        "id": "BmPH4EWd35-5"
      }
    },
    {
      "cell_type": "code",
      "execution_count": 1,
      "metadata": {
        "id": "OUbVcJOGuEFn"
      },
      "outputs": [],
      "source": [
        "# Symbolic Env\n",
        "from sympy import *\n",
        "init_printing()"
      ]
    },
    {
      "cell_type": "code",
      "source": [
        "# Assumptions returns:\n",
        "a, b = symbols('a, b')\n",
        "m, n = symbols('m, n', positive=True)\n",
        "x, y = symbols('x, y', negative=True)\n",
        "[\n",
        "  (a + b).is_positive, #--> None\n",
        "  (m + n).is_positive, #--> True\n",
        "  (x + y).is_positive  #--> Flase\n",
        "]"
      ],
      "metadata": {
        "id": "s_YXU6CN2CIt",
        "colab": {
          "base_uri": "https://localhost:8080/"
        },
        "outputId": "96efc312-4cad-4c43-c05f-33d5cac804db"
      },
      "execution_count": 2,
      "outputs": [
        {
          "output_type": "execute_result",
          "data": {
            "text/plain": [
              "[None, True, False]"
            ]
          },
          "metadata": {},
          "execution_count": 2
        }
      ]
    },
    {
      "cell_type": "code",
      "source": [
        "# Simplification based on assumptions:\n",
        "inputs = [\n",
        "  symbols('x'),                #--> sqrt(x**2)\n",
        "  symbols('x', positive=True), #--> x\n",
        "  symbols('x', real=True)      #--> |x|\n",
        "]\n",
        "[sqrt(x**2) for x in inputs]"
      ],
      "metadata": {
        "id": "yaRmkU04vG4M",
        "colab": {
          "base_uri": "https://localhost:8080/",
          "height": 47
        },
        "outputId": "cf378218-6b92-4c09-8857-7760eed4f5cd"
      },
      "execution_count": 3,
      "outputs": [
        {
          "output_type": "execute_result",
          "data": {
            "text/plain": [
              "⎡   ____        ⎤\n",
              "⎢  ╱  2         ⎥\n",
              "⎣╲╱  x  , x, │x│⎦"
            ],
            "text/latex": "$\\displaystyle \\left[ \\sqrt{x^{2}}, \\  x, \\  \\left|{x}\\right|\\right]$"
          },
          "metadata": {},
          "execution_count": 3
        }
      ]
    },
    {
      "cell_type": "code",
      "source": [
        "# Trigonometric simplification based on assumptions:\n",
        "inputs = [\n",
        "  Symbol('n'),              #--> sin(pi*n)\n",
        "  Symbol('n', integer=True) #--> 0\n",
        "]\n",
        "[sin(n * pi) for n in inputs]"
      ],
      "metadata": {
        "id": "SUjm-JEoH-Pm",
        "colab": {
          "base_uri": "https://localhost:8080/",
          "height": 38
        },
        "outputId": "47a8cf45-a063-4411-c30b-effaf70c8456"
      },
      "execution_count": 4,
      "outputs": [
        {
          "output_type": "execute_result",
          "data": {
            "text/plain": [
              "[sin(π⋅n), 0]"
            ],
            "text/latex": "$\\displaystyle \\left[ \\sin{\\left(\\pi n \\right)}, \\  0\\right]$"
          },
          "metadata": {},
          "execution_count": 4
        }
      ]
    },
    {
      "cell_type": "code",
      "source": [
        "# Multiple assumptions\n",
        "a = symbols('a', positive=True, integer=True)\n",
        "x, y = symbols('x, y', positive=True, integer=True)\n",
        "n = symbols('n', real=True, negative=False, zero=False)\n",
        "[\n",
        "  a.is_integer,       #--> True\n",
        "  (x * y).is_integer, #--> True\n",
        "  n.is_positive       #--> True\n",
        "]"
      ],
      "metadata": {
        "id": "1EY4gT2lziBv",
        "colab": {
          "base_uri": "https://localhost:8080/"
        },
        "outputId": "e87ee545-ed44-4a23-9c93-514d94c4ba93"
      },
      "execution_count": 5,
      "outputs": [
        {
          "output_type": "execute_result",
          "data": {
            "text/plain": [
              "[True, True, True]"
            ]
          },
          "metadata": {},
          "execution_count": 5
        }
      ]
    },
    {
      "cell_type": "markdown",
      "source": [
        "## Predicates"
      ],
      "metadata": {
        "id": "vVTv9T10CAQ8"
      }
    },
    {
      "cell_type": "code",
      "source": [
        "# Set of predicates for a symbol\n",
        "x = Symbol('x')\n",
        "x.assumptions0"
      ],
      "metadata": {
        "id": "-8N1AaJh1qNv",
        "colab": {
          "base_uri": "https://localhost:8080/"
        },
        "outputId": "474c5508-f73c-4275-d1a6-80d9ee8d402f"
      },
      "execution_count": 6,
      "outputs": [
        {
          "output_type": "execute_result",
          "data": {
            "text/plain": [
              "{'commutative': True}"
            ]
          },
          "metadata": {},
          "execution_count": 6
        }
      ]
    },
    {
      "cell_type": "code",
      "source": [
        "# Set of predicates for a real symbol\n",
        "x = Symbol('x', real=True)\n",
        "x.assumptions0"
      ],
      "metadata": {
        "id": "FpMmiQ55Bsq6",
        "colab": {
          "base_uri": "https://localhost:8080/"
        },
        "outputId": "aa2600f8-1c9b-4baa-ba99-2d277968ae48"
      },
      "execution_count": 7,
      "outputs": [
        {
          "output_type": "execute_result",
          "data": {
            "text/plain": [
              "{'real': True,\n",
              " 'finite': True,\n",
              " 'infinite': False,\n",
              " 'imaginary': False,\n",
              " 'complex': True,\n",
              " 'commutative': True,\n",
              " 'extended_real': True,\n",
              " 'hermitian': True}"
            ]
          },
          "metadata": {},
          "execution_count": 7
        }
      ]
    },
    {
      "cell_type": "code",
      "source": [
        "# Set of predicates for a integer symbol\n",
        "x = Symbol('x', integer=True)\n",
        "x.assumptions0"
      ],
      "metadata": {
        "id": "SyQZz1ZBDLs8",
        "colab": {
          "base_uri": "https://localhost:8080/"
        },
        "outputId": "03a3706c-be22-4eae-c589-756330854b72"
      },
      "execution_count": 8,
      "outputs": [
        {
          "output_type": "execute_result",
          "data": {
            "text/plain": [
              "{'integer': True,\n",
              " 'finite': True,\n",
              " 'infinite': False,\n",
              " 'algebraic': True,\n",
              " 'imaginary': False,\n",
              " 'complex': True,\n",
              " 'noninteger': False,\n",
              " 'real': True,\n",
              " 'commutative': True,\n",
              " 'transcendental': False,\n",
              " 'rational': True,\n",
              " 'extended_real': True,\n",
              " 'irrational': False,\n",
              " 'hermitian': True}"
            ]
          },
          "metadata": {},
          "execution_count": 8
        }
      ]
    },
    {
      "cell_type": "code",
      "source": [
        "# Implications of predicates\n",
        "a, b = symbols('a, b')                    #--> 2ab\n",
        "x, y = symbols('x, y', commutative=False) #--> xy + yx\n",
        "[a*b + b*a, x*y + y*x]"
      ],
      "metadata": {
        "id": "RobPzI2DDQe8",
        "colab": {
          "base_uri": "https://localhost:8080/",
          "height": 38
        },
        "outputId": "923c1120-f2d1-4bab-a1f4-a111e6371277"
      },
      "execution_count": 9,
      "outputs": [
        {
          "output_type": "execute_result",
          "data": {
            "text/plain": [
              "[2⋅a⋅b, x⋅y + y⋅x]"
            ],
            "text/latex": "$\\displaystyle \\left[ 2 a b, \\  x y + y x\\right]$"
          },
          "metadata": {},
          "execution_count": 9
        }
      ]
    }
  ]
}