{
  "nbformat": 4,
  "nbformat_minor": 0,
  "metadata": {
    "colab": {
      "provenance": [],
      "authorship_tag": "ABX9TyP70BYTT2VCge6fipRDLbVU",
      "include_colab_link": true
    },
    "kernelspec": {
      "name": "python3",
      "display_name": "Python 3"
    },
    "language_info": {
      "name": "python"
    }
  },
  "cells": [
    {
      "cell_type": "markdown",
      "metadata": {
        "id": "view-in-github",
        "colab_type": "text"
      },
      "source": [
        "<a href=\"https://colab.research.google.com/github/dionipadilha/sympy/blob/main/basic_evaluation.ipynb\" target=\"_parent\"><img src=\"https://colab.research.google.com/assets/colab-badge.svg\" alt=\"Open In Colab\"/></a>"
      ]
    },
    {
      "cell_type": "markdown",
      "source": [
        "# Basic Operations"
      ],
      "metadata": {
        "id": "VP4h-xRoL2Vq"
      }
    },
    {
      "cell_type": "code",
      "execution_count": null,
      "metadata": {
        "id": "W65rm0cwLklE"
      },
      "outputs": [],
      "source": [
        "from sympy import *\n",
        "init_printing()\n",
        "x, y, z = symbols(\"x y z\")"
      ]
    },
    {
      "cell_type": "markdown",
      "source": [
        "## subs"
      ],
      "metadata": {
        "id": "hfOd414NL8kG"
      }
    },
    {
      "cell_type": "code",
      "source": [
        "# replaces all instances of something in an expression:\n",
        "expr = x + cos(x)\n",
        "expr.subs(x, y)"
      ],
      "metadata": {
        "colab": {
          "base_uri": "https://localhost:8080/",
          "height": 38
        },
        "id": "wMRm1AyPL6ss",
        "outputId": "fde78c1c-569d-4e0e-c4a5-68b359f36034"
      },
      "execution_count": null,
      "outputs": [
        {
          "output_type": "execute_result",
          "data": {
            "text/plain": [
              "y + cos(y)"
            ],
            "text/latex": "$\\displaystyle y + \\cos{\\left(y \\right)}$"
          },
          "metadata": {},
          "execution_count": 2
        }
      ]
    },
    {
      "cell_type": "code",
      "source": [
        "# evaluating an expression at a point:\n",
        "expr = 2*x + 1\n",
        "expr.subs(x, 5)"
      ],
      "metadata": {
        "colab": {
          "base_uri": "https://localhost:8080/",
          "height": 38
        },
        "id": "hAo8K0LWMFFU",
        "outputId": "4d1caa4d-18eb-4122-9d8e-29c58af5a79e"
      },
      "execution_count": null,
      "outputs": [
        {
          "output_type": "execute_result",
          "data": {
            "text/plain": [
              "11"
            ],
            "text/latex": "$\\displaystyle 11$"
          },
          "metadata": {},
          "execution_count": 3
        }
      ]
    },
    {
      "cell_type": "code",
      "source": [
        "# replacing a subexpression with another subexpression:\n",
        "expr = sin(2*x) + cos(2*x)\n",
        "expr.subs(sin(2*x), 2*sin(x)*cos(x))"
      ],
      "metadata": {
        "colab": {
          "base_uri": "https://localhost:8080/",
          "height": 38
        },
        "id": "befY8eRsMa30",
        "outputId": "1e224143-686e-43e0-b36b-71595331fcb7"
      },
      "execution_count": null,
      "outputs": [
        {
          "output_type": "execute_result",
          "data": {
            "text/plain": [
              "2⋅sin(x)⋅cos(x) + cos(2⋅x)"
            ],
            "text/latex": "$\\displaystyle 2 \\sin{\\left(x \\right)} \\cos{\\left(x \\right)} + \\cos{\\left(2 x \\right)}$"
          },
          "metadata": {},
          "execution_count": 4
        }
      ]
    },
    {
      "cell_type": "code",
      "source": [
        "# perform multiple substitutions at once:\n",
        "expr = x + y - z\n",
        "expr.subs([(x, 2), (y, 4), (z, 1)])"
      ],
      "metadata": {
        "colab": {
          "base_uri": "https://localhost:8080/",
          "height": 38
        },
        "id": "TM3mydkjMseF",
        "outputId": "6fd0e632-cc89-49d4-ae8c-dee5045756a2"
      },
      "execution_count": null,
      "outputs": [
        {
          "output_type": "execute_result",
          "data": {
            "text/plain": [
              "5"
            ],
            "text/latex": "$\\displaystyle 5$"
          },
          "metadata": {},
          "execution_count": 5
        }
      ]
    },
    {
      "cell_type": "code",
      "source": [
        "# do a large set of similar replacements all at once:\n",
        "expr = x**4 - 4*x**3 + 4*x**2 - 2*x + 3\n",
        "replacements = [(x**i, y**i) for i in range(5) if i % 2 == 0]\n",
        "expr.subs(replacements)"
      ],
      "metadata": {
        "colab": {
          "base_uri": "https://localhost:8080/",
          "height": 38
        },
        "id": "JSUSBFuSOHBv",
        "outputId": "48b52aa0-7ac9-4f71-b265-53e1a6d087d4"
      },
      "execution_count": null,
      "outputs": [
        {
          "output_type": "execute_result",
          "data": {
            "text/plain": [
              "     3          4      2    \n",
              "- 4⋅x  - 2⋅x + y  + 4⋅y  + 3"
            ],
            "text/latex": "$\\displaystyle - 4 x^{3} - 2 x + y^{4} + 4 y^{2} + 3$"
          },
          "metadata": {},
          "execution_count": 6
        }
      ]
    },
    {
      "cell_type": "code",
      "source": [
        "# perform multiple substitutions using a dict:\n",
        "expr = x + y - z\n",
        "expr.subs({x:2, y:4, z:1})"
      ],
      "metadata": {
        "colab": {
          "base_uri": "https://localhost:8080/",
          "height": 38
        },
        "id": "f7kMhtpEPFzx",
        "outputId": "7f97cbe0-e6ee-4874-a798-3fa966b1348b"
      },
      "execution_count": null,
      "outputs": [
        {
          "output_type": "execute_result",
          "data": {
            "text/plain": [
              "5"
            ],
            "text/latex": "$\\displaystyle 5$"
          },
          "metadata": {},
          "execution_count": 7
        }
      ]
    },
    {
      "cell_type": "markdown",
      "source": [
        "## evalf"
      ],
      "metadata": {
        "id": "TQYH-EhVPox9"
      }
    },
    {
      "cell_type": "code",
      "source": [
        "# evaluate a numerical expression:\n",
        "expr = sqrt(8)\n",
        "[expr, expr.evalf()]"
      ],
      "metadata": {
        "colab": {
          "base_uri": "https://localhost:8080/",
          "height": 47
        },
        "id": "m50LXyANPbgL",
        "outputId": "b1c4fbef-fb13-427d-f21a-f841a4d585b0"
      },
      "execution_count": null,
      "outputs": [
        {
          "output_type": "execute_result",
          "data": {
            "text/plain": [
              "[2⋅√2, 2.82842712474619]"
            ],
            "text/latex": "$\\displaystyle \\left[ 2 \\sqrt{2}, \\  2.82842712474619\\right]$"
          },
          "metadata": {},
          "execution_count": 8
        }
      ]
    },
    {
      "cell_type": "code",
      "source": [
        "# evaluate expressions to arbitrary precision:\n",
        "expr = sqrt(8)\n",
        "[expr, expr.evalf(3), expr.evalf(20)]"
      ],
      "metadata": {
        "colab": {
          "base_uri": "https://localhost:8080/",
          "height": 47
        },
        "id": "-gg2filAP-8E",
        "outputId": "b8ab23be-cc99-4e7d-f19f-83092bcab3e6"
      },
      "execution_count": null,
      "outputs": [
        {
          "output_type": "execute_result",
          "data": {
            "text/plain": [
              "[2⋅√2, 2.83, 2.8284271247461900976]"
            ],
            "text/latex": "$\\displaystyle \\left[ 2 \\sqrt{2}, \\  2.83, \\  2.8284271247461900976\\right]$"
          },
          "metadata": {},
          "execution_count": 9
        }
      ]
    },
    {
      "cell_type": "code",
      "source": [
        "# numerically evaluate a symbolic expression at a point:\n",
        "expr = cos(2*x)\n",
        "expr.evalf(subs={x: 2.4})"
      ],
      "metadata": {
        "colab": {
          "base_uri": "https://localhost:8080/",
          "height": 38
        },
        "id": "a7MPXSOVQq17",
        "outputId": "7254ca7a-f4ad-400c-d869-dcee0487b2df"
      },
      "execution_count": null,
      "outputs": [
        {
          "output_type": "execute_result",
          "data": {
            "text/plain": [
              "0.0874989834394464"
            ],
            "text/latex": "$\\displaystyle 0.0874989834394464$"
          },
          "metadata": {},
          "execution_count": 10
        }
      ]
    },
    {
      "cell_type": "code",
      "source": [
        "# handling roundoff errors:\n",
        "one = cos(1)**2 + sin(1)**2\n",
        "roundoff = (one - 1).evalf()\n",
        "removed_roundoff  = (one - 1).evalf(chop=True)\n",
        "roundoff, removed_roundoff"
      ],
      "metadata": {
        "colab": {
          "base_uri": "https://localhost:8080/",
          "height": 38
        },
        "id": "ZpDsq5-lRTNH",
        "outputId": "ce1c345f-3da1-408f-d1e0-afdbceed4585"
      },
      "execution_count": null,
      "outputs": [
        {
          "output_type": "execute_result",
          "data": {
            "text/plain": [
              "(-0.e-124, 0)"
            ],
            "text/latex": "$\\displaystyle \\left( -4.0 \\cdot 10^{-124}, \\  0\\right)$"
          },
          "metadata": {},
          "execution_count": 11
        }
      ]
    },
    {
      "cell_type": "markdown",
      "source": [
        "## lambdify"
      ],
      "metadata": {
        "id": "vjMT9Q47UiT6"
      }
    },
    {
      "cell_type": "code",
      "source": [
        "# use an external numerical library with sympy function:\n",
        "f = lambdify(x, sin(x),\"numpy\")\n",
        "from numpy import arange\n",
        "a = arange(10)\n",
        "f(a)"
      ],
      "metadata": {
        "colab": {
          "base_uri": "https://localhost:8080/"
        },
        "id": "mjEomJ9RTAoS",
        "outputId": "69417803-ed2a-496e-d0ca-27316f7ceda4"
      },
      "execution_count": null,
      "outputs": [
        {
          "output_type": "execute_result",
          "data": {
            "text/plain": [
              "array([ 0.        ,  0.84147098,  0.90929743,  0.14112001, -0.7568025 ,\n",
              "       -0.95892427, -0.2794155 ,  0.6569866 ,  0.98935825,  0.41211849])"
            ]
          },
          "metadata": {},
          "execution_count": 12
        }
      ]
    },
    {
      "cell_type": "markdown",
      "source": [
        "## sympify"
      ],
      "metadata": {
        "id": "YZzLaPfRZmzE"
      }
    },
    {
      "cell_type": "code",
      "source": [
        "# convert strings into sympy expressions:\n",
        "str_expr = \"x^2 + 3*x - 1/2\"\n",
        "sympify(str_expr).subs({x:2})"
      ],
      "metadata": {
        "colab": {
          "base_uri": "https://localhost:8080/",
          "height": 51
        },
        "id": "xK0fA-mgZwjI",
        "outputId": "d8603312-fd93-413d-da2f-88c7e774d340"
      },
      "execution_count": null,
      "outputs": [
        {
          "output_type": "execute_result",
          "data": {
            "text/plain": [
              "19/2"
            ],
            "text/latex": "$\\displaystyle \\frac{19}{2}$"
          },
          "metadata": {},
          "execution_count": 13
        }
      ]
    }
  ]
}