{
  "nbformat": 4,
  "nbformat_minor": 0,
  "metadata": {
    "colab": {
      "provenance": [],
      "authorship_tag": "ABX9TyMAvjFQ3MZE2A2j09PUdt0Q",
      "include_colab_link": true
    },
    "kernelspec": {
      "name": "python3",
      "display_name": "Python 3"
    },
    "language_info": {
      "name": "python"
    }
  },
  "cells": [
    {
      "cell_type": "markdown",
      "metadata": {
        "id": "view-in-github",
        "colab_type": "text"
      },
      "source": [
        "<a href=\"https://colab.research.google.com/github/dionipadilha/sympy/blob/main/basic_operations.ipynb\" target=\"_parent\"><img src=\"https://colab.research.google.com/assets/colab-badge.svg\" alt=\"Open In Colab\"/></a>"
      ]
    },
    {
      "cell_type": "markdown",
      "source": [
        "# Basic Operations"
      ],
      "metadata": {
        "id": "2ira9-RpxnhR"
      }
    },
    {
      "cell_type": "code",
      "source": [
        "from sympy import *\n",
        "init_printing()\n",
        "x = symbols('x')"
      ],
      "metadata": {
        "id": "Jy1NxT6ctH1r"
      },
      "execution_count": null,
      "outputs": []
    },
    {
      "cell_type": "code",
      "execution_count": null,
      "metadata": {
        "colab": {
          "base_uri": "https://localhost:8080/",
          "height": 38
        },
        "id": "jT4q4OmEs7Yv",
        "outputId": "39a061b2-8f3f-4fda-c135-f9186ccdd896"
      },
      "outputs": [
        {
          "output_type": "execute_result",
          "data": {
            "text/plain": [
              "13"
            ],
            "text/latex": "$\\displaystyle 13$"
          },
          "metadata": {},
          "execution_count": 2
        }
      ],
      "source": [
        "4 + (2 + 1)**2"
      ]
    },
    {
      "cell_type": "code",
      "source": [
        "39/7-3"
      ],
      "metadata": {
        "colab": {
          "base_uri": "https://localhost:8080/",
          "height": 38
        },
        "id": "fATDKD-mxDUy",
        "outputId": "77b5287d-3d29-4680-dcb8-b38a18e35e0c"
      },
      "execution_count": null,
      "outputs": [
        {
          "output_type": "execute_result",
          "data": {
            "text/plain": [
              "2.571428571428571"
            ],
            "text/latex": "$\\displaystyle 2.57142857142857$"
          },
          "metadata": {},
          "execution_count": 10
        }
      ]
    },
    {
      "cell_type": "code",
      "source": [
        "3*(x + 6)"
      ],
      "metadata": {
        "colab": {
          "base_uri": "https://localhost:8080/",
          "height": 38
        },
        "id": "ew0nb4AOti_E",
        "outputId": "1431bb03-b65b-4d6d-9581-1a5107233a25"
      },
      "execution_count": null,
      "outputs": [
        {
          "output_type": "execute_result",
          "data": {
            "text/plain": [
              "3⋅x + 18"
            ],
            "text/latex": "$\\displaystyle 3 x + 18$"
          },
          "metadata": {},
          "execution_count": 3
        }
      ]
    },
    {
      "cell_type": "code",
      "source": [
        "factor(3*x + 18)"
      ],
      "metadata": {
        "colab": {
          "base_uri": "https://localhost:8080/",
          "height": 38
        },
        "id": "QX4dqViyuEzD",
        "outputId": "e496b0ab-fa2d-4c80-d24f-573ca439e2a3"
      },
      "execution_count": null,
      "outputs": [
        {
          "output_type": "execute_result",
          "data": {
            "text/plain": [
              "3⋅(x + 6)"
            ],
            "text/latex": "$\\displaystyle 3 \\left(x + 6\\right)$"
          },
          "metadata": {},
          "execution_count": 4
        }
      ]
    },
    {
      "cell_type": "code",
      "source": [
        "(x-3)*(x-2)"
      ],
      "metadata": {
        "colab": {
          "base_uri": "https://localhost:8080/",
          "height": 38
        },
        "id": "af4Nko5JxZhF",
        "outputId": "27063b0c-8795-44d6-b224-d5cad98780c6"
      },
      "execution_count": null,
      "outputs": [
        {
          "output_type": "execute_result",
          "data": {
            "text/plain": [
              "(x - 3)⋅(x - 2)"
            ],
            "text/latex": "$\\displaystyle \\left(x - 3\\right) \\left(x - 2\\right)$"
          },
          "metadata": {},
          "execution_count": 11
        }
      ]
    },
    {
      "cell_type": "code",
      "source": [
        "expand((x-3)*(x-2))"
      ],
      "metadata": {
        "colab": {
          "base_uri": "https://localhost:8080/",
          "height": 38
        },
        "id": "a3Dgnr8ztbZM",
        "outputId": "896c094f-0c97-4f9d-d897-1c182805dc38"
      },
      "execution_count": null,
      "outputs": [
        {
          "output_type": "execute_result",
          "data": {
            "text/plain": [
              " 2          \n",
              "x  - 5⋅x + 6"
            ],
            "text/latex": "$\\displaystyle x^{2} - 5 x + 6$"
          },
          "metadata": {},
          "execution_count": 12
        }
      ]
    },
    {
      "cell_type": "code",
      "source": [
        "factor(x**2-5*x+6)"
      ],
      "metadata": {
        "colab": {
          "base_uri": "https://localhost:8080/",
          "height": 38
        },
        "id": "7kJ5CN2ytWOU",
        "outputId": "a6cc1e3d-6321-4e59-ec56-fdf37a86e8ab"
      },
      "execution_count": null,
      "outputs": [
        {
          "output_type": "execute_result",
          "data": {
            "text/plain": [
              "(x - 3)⋅(x - 2)"
            ],
            "text/latex": "$\\displaystyle \\left(x - 3\\right) \\left(x - 2\\right)$"
          },
          "metadata": {},
          "execution_count": 13
        }
      ]
    },
    {
      "cell_type": "code",
      "source": [
        "(1/(x + 1)) * (x**2/5)"
      ],
      "metadata": {
        "colab": {
          "base_uri": "https://localhost:8080/",
          "height": 58
        },
        "id": "vAm_011ftF_c",
        "outputId": "a7ca7a85-6471-4ca1-d8f3-2e3c9e11bc63"
      },
      "execution_count": null,
      "outputs": [
        {
          "output_type": "execute_result",
          "data": {
            "text/plain": [
              "     2   \n",
              "    x    \n",
              "─────────\n",
              "5⋅(x + 1)"
            ],
            "text/latex": "$\\displaystyle \\frac{x^{2}}{5 \\left(x + 1\\right)}$"
          },
          "metadata": {},
          "execution_count": 14
        }
      ]
    },
    {
      "cell_type": "code",
      "source": [
        "UnevaluatedExpr(1/(x + 1)) * UnevaluatedExpr(x**2/5)"
      ],
      "metadata": {
        "colab": {
          "base_uri": "https://localhost:8080/",
          "height": 55
        },
        "id": "HGWHXPbcwEg8",
        "outputId": "facd2604-dd7f-483e-8fac-a6f609427cfc"
      },
      "execution_count": null,
      "outputs": [
        {
          "output_type": "execute_result",
          "data": {
            "text/plain": [
              "       2\n",
              "  1   x \n",
              "─────⋅──\n",
              "x + 1 5 "
            ],
            "text/latex": "$\\displaystyle \\frac{1}{x + 1} \\frac{x^{2}}{5}$"
          },
          "metadata": {},
          "execution_count": 15
        }
      ]
    }
  ]
}