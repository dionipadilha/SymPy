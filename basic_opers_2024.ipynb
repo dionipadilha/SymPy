{
  "nbformat": 4,
  "nbformat_minor": 0,
  "metadata": {
    "colab": {
      "provenance": [],
      "authorship_tag": "ABX9TyO8wGEm+FtOVCCIl6T4UtMs",
      "include_colab_link": true
    },
    "kernelspec": {
      "name": "python3",
      "display_name": "Python 3"
    },
    "language_info": {
      "name": "python"
    }
  },
  "cells": [
    {
      "cell_type": "markdown",
      "metadata": {
        "id": "view-in-github",
        "colab_type": "text"
      },
      "source": [
        "<a href=\"https://colab.research.google.com/github/dionipadilha/sympy/blob/main/basic_opers_2024.ipynb\" target=\"_parent\"><img src=\"https://colab.research.google.com/assets/colab-badge.svg\" alt=\"Open In Colab\"/></a>"
      ]
    },
    {
      "cell_type": "markdown",
      "source": [
        "### Substitution"
      ],
      "metadata": {
        "id": "295sIs_oPTOd"
      }
    },
    {
      "cell_type": "code",
      "execution_count": 1,
      "metadata": {
        "id": "sAGoFeBoL4Gj"
      },
      "outputs": [],
      "source": [
        "from sympy import *\n",
        "x, y, z = symbols('x, y, z')\n",
        "init_printing()"
      ]
    },
    {
      "cell_type": "code",
      "source": [
        "# replaces all instances of something in an expression:\n",
        "expr = cos(x) + 1\n",
        "expr.subs(x, y)"
      ],
      "metadata": {
        "colab": {
          "base_uri": "https://localhost:8080/",
          "height": 38
        },
        "id": "cUkbls_nL8hq",
        "outputId": "78997cd0-6a69-49ef-9ca8-2fdae4af28b8"
      },
      "execution_count": 2,
      "outputs": [
        {
          "output_type": "execute_result",
          "data": {
            "text/plain": [
              "cos(y) + 1"
            ],
            "text/latex": "$\\displaystyle \\cos{\\left(y \\right)} + 1$"
          },
          "metadata": {},
          "execution_count": 2
        }
      ]
    },
    {
      "cell_type": "code",
      "source": [
        "# evaluate an expression at a point:\n",
        "expr.subs(x, 0)"
      ],
      "metadata": {
        "colab": {
          "base_uri": "https://localhost:8080/",
          "height": 37
        },
        "id": "BWLem-PHMN1i",
        "outputId": "295ad7ec-82b6-41db-cb2e-d5f59521eb7f"
      },
      "execution_count": 3,
      "outputs": [
        {
          "output_type": "execute_result",
          "data": {
            "text/plain": [
              "2"
            ],
            "text/latex": "$\\displaystyle 2$"
          },
          "metadata": {},
          "execution_count": 3
        }
      ]
    },
    {
      "cell_type": "code",
      "source": [
        "# replaces a subexpression with another subexpression:\n",
        "expr = x + y\n",
        "expr.subs(y, x + y)"
      ],
      "metadata": {
        "colab": {
          "base_uri": "https://localhost:8080/",
          "height": 38
        },
        "id": "NQ5Fd0zRMx2y",
        "outputId": "7ce3b44f-35b9-4ed4-f395-5574f037c85f"
      },
      "execution_count": 4,
      "outputs": [
        {
          "output_type": "execute_result",
          "data": {
            "text/plain": [
              "2⋅x + y"
            ],
            "text/latex": "$\\displaystyle 2 x + y$"
          },
          "metadata": {},
          "execution_count": 4
        }
      ]
    },
    {
      "cell_type": "code",
      "source": [
        "# perform a very controlled simplification:\n",
        "expr = sin(2*x) + cos(2*x)\n",
        "simplify(expr), expr.subs(sin(2*x), 2*sin(x)*cos(x))"
      ],
      "metadata": {
        "colab": {
          "base_uri": "https://localhost:8080/",
          "height": 48
        },
        "id": "vSIxeoocNJ3i",
        "outputId": "8060fbd3-214b-4fd2-f458-cbb8840692f6"
      },
      "execution_count": 5,
      "outputs": [
        {
          "output_type": "execute_result",
          "data": {
            "text/plain": [
              "⎛      ⎛      π⎞                            ⎞\n",
              "⎜√2⋅sin⎜2⋅x + ─⎟, 2⋅sin(x)⋅cos(x) + cos(2⋅x)⎟\n",
              "⎝      ⎝      4⎠                            ⎠"
            ],
            "text/latex": "$\\displaystyle \\left( \\sqrt{2} \\sin{\\left(2 x + \\frac{\\pi}{4} \\right)}, \\  2 \\sin{\\left(x \\right)} \\cos{\\left(x \\right)} + \\cos{\\left(2 x \\right)}\\right)$"
          },
          "metadata": {},
          "execution_count": 5
        }
      ]
    },
    {
      "cell_type": "code",
      "source": [
        "# perform multiple substitutions at once:\n",
        "expr = x**3 + 4*x*y - z\n",
        "expr.subs({x:2, y:4, z:0})"
      ],
      "metadata": {
        "colab": {
          "base_uri": "https://localhost:8080/",
          "height": 37
        },
        "id": "YYKIG52ENneh",
        "outputId": "2462a399-2249-4f74-918e-78d3bf3e1caf"
      },
      "execution_count": 6,
      "outputs": [
        {
          "output_type": "execute_result",
          "data": {
            "text/plain": [
              "40"
            ],
            "text/latex": "$\\displaystyle 40$"
          },
          "metadata": {},
          "execution_count": 6
        }
      ]
    },
    {
      "cell_type": "code",
      "source": [
        "# do a large set of similar replacements all at once:\n",
        "expr = x**4 - 4*x**3 + 4*x**2 - 2*x + 3\n",
        "replacements = [(x**i, y**i) for i in range(5) if i % 2 == 0]\n",
        "expr.subs(replacements)"
      ],
      "metadata": {
        "colab": {
          "base_uri": "https://localhost:8080/",
          "height": 38
        },
        "id": "CbrWVe89OHvM",
        "outputId": "44ed63cb-0298-4721-e140-d584c20ad073"
      },
      "execution_count": 7,
      "outputs": [
        {
          "output_type": "execute_result",
          "data": {
            "text/plain": [
              "     3          4      2    \n",
              "- 4⋅x  - 2⋅x + y  + 4⋅y  + 3"
            ],
            "text/latex": "$\\displaystyle - 4 x^{3} - 2 x + y^{4} + 4 y^{2} + 3$"
          },
          "metadata": {},
          "execution_count": 7
        }
      ]
    },
    {
      "cell_type": "markdown",
      "source": [
        "### evalf"
      ],
      "metadata": {
        "id": "vRF3tvALcHc9"
      }
    },
    {
      "cell_type": "code",
      "source": [
        "# evaluate a numerical expression into a floating point number:\n"
      ],
      "metadata": {
        "id": "8AWuxY4gcKBV"
      },
      "execution_count": 8,
      "outputs": []
    },
    {
      "cell_type": "code",
      "source": [
        "pi, pi.evalf()"
      ],
      "metadata": {
        "colab": {
          "base_uri": "https://localhost:8080/",
          "height": 38
        },
        "id": "tw8Nw77KcM_E",
        "outputId": "443c759b-3ade-4294-b9a4-6c9e90c5b8c0"
      },
      "execution_count": 9,
      "outputs": [
        {
          "output_type": "execute_result",
          "data": {
            "text/plain": [
              "(π, 3.14159265358979)"
            ],
            "text/latex": "$\\displaystyle \\left( \\pi, \\  3.14159265358979\\right)$"
          },
          "metadata": {},
          "execution_count": 9
        }
      ]
    },
    {
      "cell_type": "code",
      "source": [
        "# evaluate floating point expressions to arbitrary precision:\n",
        "pi.evalf(3)"
      ],
      "metadata": {
        "colab": {
          "base_uri": "https://localhost:8080/",
          "height": 37
        },
        "id": "8rP6mAySch-0",
        "outputId": "13548830-8d33-47d2-c2d6-319398291cba"
      },
      "execution_count": 10,
      "outputs": [
        {
          "output_type": "execute_result",
          "data": {
            "text/plain": [
              "3.14"
            ],
            "text/latex": "$\\displaystyle 3.14$"
          },
          "metadata": {},
          "execution_count": 10
        }
      ]
    },
    {
      "cell_type": "code",
      "source": [
        "# numerically evaluate an expression with a Symbol at a point:\n",
        "expr = cos(2*x)\n",
        "expr.evalf(subs={x:pi})"
      ],
      "metadata": {
        "colab": {
          "base_uri": "https://localhost:8080/",
          "height": 37
        },
        "id": "FHXFS0GTcoes",
        "outputId": "f98bb3d9-b7b0-4eb3-fd32-d057b6802f0d"
      },
      "execution_count": 11,
      "outputs": [
        {
          "output_type": "execute_result",
          "data": {
            "text/plain": [
              "1.00000000000000"
            ],
            "text/latex": "$\\displaystyle 1.0$"
          },
          "metadata": {},
          "execution_count": 11
        }
      ]
    },
    {
      "cell_type": "code",
      "source": [
        "# remove roundoff errors\n",
        "one = cos(1)**2 + sin(1)**2\n",
        "(one -1).evalf(chop=True)"
      ],
      "metadata": {
        "colab": {
          "base_uri": "https://localhost:8080/",
          "height": 37
        },
        "id": "Z1M4iGd3dMrh",
        "outputId": "385408c6-4ba4-4071-d979-97636950bca4"
      },
      "execution_count": 12,
      "outputs": [
        {
          "output_type": "execute_result",
          "data": {
            "text/plain": [
              "0"
            ],
            "text/latex": "$\\displaystyle 0$"
          },
          "metadata": {},
          "execution_count": 12
        }
      ]
    },
    {
      "cell_type": "markdown",
      "source": [
        "### lambdify"
      ],
      "metadata": {
        "id": "DFGz-isJesj3"
      }
    },
    {
      "cell_type": "code",
      "source": [
        "# convert a SymPy expression to an expression that can be numerically evaluate:\n",
        "import numpy\n",
        "t = numpy.arange(10)\n",
        "expr = sin(x)\n",
        "f = lambdify(x, expr, \"numpy\")\n",
        "f(t)"
      ],
      "metadata": {
        "colab": {
          "base_uri": "https://localhost:8080/"
        },
        "id": "TRUrAd30eJdB",
        "outputId": "2fde909f-444e-4501-b546-5d4c0bd29324"
      },
      "execution_count": 13,
      "outputs": [
        {
          "output_type": "execute_result",
          "data": {
            "text/plain": [
              "array([ 0.        ,  0.84147098,  0.90929743,  0.14112001, -0.7568025 ,\n",
              "       -0.95892427, -0.2794155 ,  0.6569866 ,  0.98935825,  0.41211849])"
            ]
          },
          "metadata": {},
          "execution_count": 13
        }
      ]
    },
    {
      "cell_type": "markdown",
      "source": [
        "### sympify"
      ],
      "metadata": {
        "id": "uopJQOU1iT6I"
      }
    },
    {
      "cell_type": "code",
      "source": [
        "# convert strings into SymPy expressions:\n",
        "expr = sympify(\"x^2 + 2*x - 3\")\n",
        "solve(expr, x)"
      ],
      "metadata": {
        "colab": {
          "base_uri": "https://localhost:8080/",
          "height": 37
        },
        "id": "71Q5nqB9iaPS",
        "outputId": "65bd2de0-43ad-4dee-dab4-1899d1e68451"
      },
      "execution_count": 14,
      "outputs": [
        {
          "output_type": "execute_result",
          "data": {
            "text/plain": [
              "[-3, 1]"
            ],
            "text/latex": "$\\displaystyle \\left[ -3, \\  1\\right]$"
          },
          "metadata": {},
          "execution_count": 14
        }
      ]
    }
  ]
}