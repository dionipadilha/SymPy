{
  "nbformat": 4,
  "nbformat_minor": 0,
  "metadata": {
    "colab": {
      "provenance": [],
      "authorship_tag": "ABX9TyO6m13PqowlZ+brjBcBRvbc",
      "include_colab_link": true
    },
    "kernelspec": {
      "name": "python3",
      "display_name": "Python 3"
    },
    "language_info": {
      "name": "python"
    }
  },
  "cells": [
    {
      "cell_type": "markdown",
      "metadata": {
        "id": "view-in-github",
        "colab_type": "text"
      },
      "source": [
        "<a href=\"https://colab.research.google.com/github/dionipadilha/sympy/blob/main/boolean_expressions.ipynb\" target=\"_parent\"><img src=\"https://colab.research.google.com/assets/colab-badge.svg\" alt=\"Open In Colab\"/></a>"
      ]
    },
    {
      "cell_type": "markdown",
      "source": [
        "# Symbolic Boolean Expressions"
      ],
      "metadata": {
        "id": "bvOmkLIMIY0I"
      }
    },
    {
      "cell_type": "code",
      "source": [
        "from sympy import *\n",
        "from sympy.logic.boolalg import *\n",
        "init_printing()\n",
        "p, q, x, y = symbols('p, q, x, y')"
      ],
      "metadata": {
        "id": "IYlINz6vIXkH"
      },
      "execution_count": null,
      "outputs": []
    },
    {
      "cell_type": "code",
      "source": [
        "from IPython.core.interactiveshell import InteractiveShell\n",
        "InteractiveShell.ast_node_interactivity = \"all\""
      ],
      "metadata": {
        "id": "3MJzBKu94-Im"
      },
      "execution_count": null,
      "outputs": []
    },
    {
      "cell_type": "code",
      "source": [
        "# symbolic boolean expressions:\n",
        "(p | q).subs({p: True, q: False})"
      ],
      "metadata": {
        "colab": {
          "base_uri": "https://localhost:8080/",
          "height": 38
        },
        "id": "RGO0TwfRa_Vg",
        "outputId": "b397b74a-ec74-49f5-9b65-c44531f16366"
      },
      "execution_count": null,
      "outputs": [
        {
          "output_type": "execute_result",
          "data": {
            "text/plain": [
              "True"
            ],
            "text/latex": "$\\displaystyle \\text{True}$"
          },
          "metadata": {},
          "execution_count": 3
        }
      ]
    },
    {
      "cell_type": "code",
      "execution_count": null,
      "metadata": {
        "colab": {
          "base_uri": "https://localhost:8080/",
          "height": 38
        },
        "id": "2YYSdUItIBIL",
        "outputId": "259b678b-42ec-4b07-8b3e-87b34b28b9a6"
      },
      "outputs": [
        {
          "output_type": "execute_result",
          "data": {
            "text/plain": [
              "(p ∧ q) ∨ ¬p"
            ],
            "text/latex": "$\\displaystyle \\left(p \\wedge q\\right) \\vee \\neg p$"
          },
          "metadata": {},
          "execution_count": 4
        }
      ],
      "source": [
        "# standard logical operators:\n",
        "~ p | p & q"
      ]
    },
    {
      "cell_type": "code",
      "source": [
        "# standard logical notation:\n",
        "Or(Not(p),And(p, q))"
      ],
      "metadata": {
        "colab": {
          "base_uri": "https://localhost:8080/",
          "height": 38
        },
        "id": "AXASboEQPSO7",
        "outputId": "e46b62b9-be81-4d00-acf3-349bce6ac93a"
      },
      "execution_count": null,
      "outputs": [
        {
          "output_type": "execute_result",
          "data": {
            "text/plain": [
              "(p ∧ q) ∨ ¬p"
            ],
            "text/latex": "$\\displaystyle \\left(p \\wedge q\\right) \\vee \\neg p$"
          },
          "metadata": {},
          "execution_count": 5
        }
      ]
    },
    {
      "cell_type": "code",
      "source": [
        "# not logical operators:\n",
        "Not(p), Nor(p, q), Nand(p, q)"
      ],
      "metadata": {
        "colab": {
          "base_uri": "https://localhost:8080/",
          "height": 38
        },
        "id": "4oZ9R8OQ4Ynr",
        "outputId": "cab37580-47b7-40ba-f836-c6d8e4641975"
      },
      "execution_count": null,
      "outputs": [
        {
          "output_type": "execute_result",
          "data": {
            "text/plain": [
              "(¬p, ¬(p ∨ q), ¬(p ∧ q))"
            ],
            "text/latex": "$\\displaystyle \\left( \\neg p, \\  \\neg \\left(p \\vee q\\right), \\  \\neg \\left(p \\wedge q\\right)\\right)$"
          },
          "metadata": {},
          "execution_count": 6
        }
      ]
    },
    {
      "cell_type": "code",
      "source": [
        "# exclusive relation:\n",
        "# returns True if only one or no argument is true:\n",
        "Exclusive(p, q, x).subs({p: False, q: False, x: True})"
      ],
      "metadata": {
        "colab": {
          "base_uri": "https://localhost:8080/",
          "height": 38
        },
        "id": "LGzqOCr5ZbO8",
        "outputId": "677725b7-1542-42cc-8271-493b33c357b3"
      },
      "execution_count": null,
      "outputs": [
        {
          "output_type": "execute_result",
          "data": {
            "text/plain": [
              "True"
            ],
            "text/latex": "$\\displaystyle \\text{True}$"
          },
          "metadata": {},
          "execution_count": 7
        }
      ]
    },
    {
      "cell_type": "code",
      "source": [
        "# exclusive logical operators:\n",
        "Xor(p, q), Xnor(p, q)"
      ],
      "metadata": {
        "colab": {
          "base_uri": "https://localhost:8080/",
          "height": 38
        },
        "id": "zXfAquKM6D94",
        "outputId": "fa7e01e6-7209-46ce-ee6e-ec12b0fbbae3"
      },
      "execution_count": null,
      "outputs": [
        {
          "output_type": "execute_result",
          "data": {
            "text/plain": [
              "(p ⊻ q, ¬(p ⊻ q))"
            ],
            "text/latex": "$\\displaystyle \\left( p \\veebar q, \\  \\neg \\left(p \\veebar q\\right)\\right)$"
          },
          "metadata": {},
          "execution_count": 8
        }
      ]
    },
    {
      "cell_type": "code",
      "source": [
        "# implies relation:\n",
        "# returns False if p is True and q is False\n",
        "(p >> q)"
      ],
      "metadata": {
        "colab": {
          "base_uri": "https://localhost:8080/",
          "height": 38
        },
        "id": "5tlEk0U8IpJi",
        "outputId": "45defa43-8220-4614-9f8d-5fad952d7fb6"
      },
      "execution_count": null,
      "outputs": [
        {
          "output_type": "execute_result",
          "data": {
            "text/plain": [
              "p → q"
            ],
            "text/latex": "$\\displaystyle p \\Rightarrow q$"
          },
          "metadata": {},
          "execution_count": 9
        }
      ]
    },
    {
      "cell_type": "code",
      "source": [
        "# equivalence relation:\n",
        "# returns True if p and q are both True or both False\n",
        "Equivalent(p, q)"
      ],
      "metadata": {
        "colab": {
          "base_uri": "https://localhost:8080/",
          "height": 38
        },
        "id": "VaxUhaA4UC1Z",
        "outputId": "daac2e98-1e2d-460a-dbae-dc0ff638641f"
      },
      "execution_count": null,
      "outputs": [
        {
          "output_type": "execute_result",
          "data": {
            "text/plain": [
              "p ⇔ q"
            ],
            "text/latex": "$\\displaystyle p \\Leftrightarrow q$"
          },
          "metadata": {},
          "execution_count": 10
        }
      ]
    },
    {
      "cell_type": "code",
      "source": [
        "# if-then-else clause:\n",
        "# if x is True then returns p, else returns q\n",
        "ITE(x, p, q).subs({x: True})"
      ],
      "metadata": {
        "colab": {
          "base_uri": "https://localhost:8080/",
          "height": 38
        },
        "id": "MVQ2LEneUyF3",
        "outputId": "140de9dc-6e4a-4783-fe70-749aaea85cd3"
      },
      "execution_count": null,
      "outputs": [
        {
          "output_type": "execute_result",
          "data": {
            "text/plain": [
              "p"
            ],
            "text/latex": "$\\displaystyle p$"
          },
          "metadata": {},
          "execution_count": 11
        }
      ]
    }
  ]
}