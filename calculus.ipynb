{
  "nbformat": 4,
  "nbformat_minor": 0,
  "metadata": {
    "colab": {
      "provenance": [],
      "authorship_tag": "ABX9TyPU1dI1/KWaBteklKf1udGE",
      "include_colab_link": true
    },
    "kernelspec": {
      "name": "python3",
      "display_name": "Python 3"
    },
    "language_info": {
      "name": "python"
    }
  },
  "cells": [
    {
      "cell_type": "markdown",
      "metadata": {
        "id": "view-in-github",
        "colab_type": "text"
      },
      "source": [
        "<a href=\"https://colab.research.google.com/github/dionipadilha/sympy/blob/main/calculus.ipynb\" target=\"_parent\"><img src=\"https://colab.research.google.com/assets/colab-badge.svg\" alt=\"Open In Colab\"/></a>"
      ]
    },
    {
      "cell_type": "markdown",
      "source": [
        "# Calculus"
      ],
      "metadata": {
        "id": "iacyt7IomJYJ"
      }
    },
    {
      "cell_type": "code",
      "execution_count": null,
      "metadata": {
        "id": "7dAwznq_lziB"
      },
      "outputs": [],
      "source": [
        "from sympy import *\n",
        "a, b, c = symbols('a, b, c')\n",
        "x, y, z = symbols('x, y, z')\n",
        "f = Function('f')\n",
        "init_printing()"
      ]
    },
    {
      "cell_type": "markdown",
      "source": [
        "## Limits"
      ],
      "metadata": {
        "id": "Hep3mxuKmZ3P"
      }
    },
    {
      "cell_type": "code",
      "source": [
        "# Compute symbolic limits\n",
        "limit(f(x), x, a)"
      ],
      "metadata": {
        "colab": {
          "base_uri": "https://localhost:8080/",
          "height": 37
        },
        "id": "2z-1LCNTmHqa",
        "outputId": "ab003c15-d68b-4b5c-c6c8-1e4c4b56376b"
      },
      "execution_count": null,
      "outputs": [
        {
          "output_type": "execute_result",
          "data": {
            "text/plain": [
              "f(a)"
            ],
            "text/latex": "$\\displaystyle f{\\left(a \\right)}$"
          },
          "metadata": {},
          "execution_count": 2
        }
      ]
    },
    {
      "cell_type": "code",
      "source": [
        "# Evaluate a limit at a singularity\n",
        "limit(sin(x)/x, x, 0)"
      ],
      "metadata": {
        "colab": {
          "base_uri": "https://localhost:8080/",
          "height": 36
        },
        "id": "q0OiEJNFoeaY",
        "outputId": "1a7a8bec-2eed-484c-a7eb-514efb1cfb00"
      },
      "execution_count": null,
      "outputs": [
        {
          "output_type": "execute_result",
          "data": {
            "text/plain": [
              "1"
            ],
            "text/latex": "$\\displaystyle 1$"
          },
          "metadata": {},
          "execution_count": 3
        }
      ]
    },
    {
      "cell_type": "code",
      "source": [
        "# Evaluate a limit at infinity\n",
        "limit(x**2/exp(x), x, oo)"
      ],
      "metadata": {
        "colab": {
          "base_uri": "https://localhost:8080/",
          "height": 36
        },
        "id": "O_7Y8PAWmgZR",
        "outputId": "7a1215f4-80ef-4a11-b916-7512291f73c1"
      },
      "execution_count": null,
      "outputs": [
        {
          "output_type": "execute_result",
          "data": {
            "text/plain": [
              "0"
            ],
            "text/latex": "$\\displaystyle 0$"
          },
          "metadata": {},
          "execution_count": 4
        }
      ]
    },
    {
      "cell_type": "code",
      "source": [
        "# Evaluate a limit at one side only\n",
        "limit(1/x, x, 0, '+')"
      ],
      "metadata": {
        "colab": {
          "base_uri": "https://localhost:8080/",
          "height": 36
        },
        "id": "yk8huvCcmteF",
        "outputId": "8e96f8f6-e4e6-41b7-c580-314950afd308"
      },
      "execution_count": null,
      "outputs": [
        {
          "output_type": "execute_result",
          "data": {
            "text/plain": [
              "∞"
            ],
            "text/latex": "$\\displaystyle \\infty$"
          },
          "metadata": {},
          "execution_count": 5
        }
      ]
    },
    {
      "cell_type": "code",
      "source": [
        "# Evaluate a limit at one side only\n",
        "limit(1/x, x, 0, '-')"
      ],
      "metadata": {
        "colab": {
          "base_uri": "https://localhost:8080/",
          "height": 36
        },
        "id": "mJ6yWC9xpTD1",
        "outputId": "ab938b6f-19de-4cd0-b4d1-9c7dfe3c471a"
      },
      "execution_count": null,
      "outputs": [
        {
          "output_type": "execute_result",
          "data": {
            "text/plain": [
              "-∞"
            ],
            "text/latex": "$\\displaystyle -\\infty$"
          },
          "metadata": {},
          "execution_count": 6
        }
      ]
    },
    {
      "cell_type": "code",
      "source": [
        "# Unevaluated limit\n",
        "expr = Limit(sin(x)/x, x, 0)\n",
        "Eq(expr, expr.doit())"
      ],
      "metadata": {
        "colab": {
          "base_uri": "https://localhost:8080/",
          "height": 57
        },
        "id": "LZHaRtxPrsLS",
        "outputId": "54467a6e-8a83-4976-c5ef-fc83d90ac6b9"
      },
      "execution_count": null,
      "outputs": [
        {
          "output_type": "execute_result",
          "data": {
            "text/plain": [
              "     ⎛sin(x)⎞    \n",
              " lim ⎜──────⎟ = 1\n",
              "x─→0⁺⎝  x   ⎠    "
            ],
            "text/latex": "$\\displaystyle \\lim_{x \\to 0^+}\\left(\\frac{\\sin{\\left(x \\right)}}{x}\\right) = 1$"
          },
          "metadata": {},
          "execution_count": 7
        }
      ]
    },
    {
      "cell_type": "markdown",
      "source": [
        "## Derivatives"
      ],
      "metadata": {
        "id": "z1xGhHeTpm-o"
      }
    },
    {
      "cell_type": "code",
      "source": [
        "# Take symbolic derivatives\n",
        "diff(f(x), x)"
      ],
      "metadata": {
        "colab": {
          "base_uri": "https://localhost:8080/",
          "height": 52
        },
        "id": "pVZAxQElpY1j",
        "outputId": "ce08011b-6da0-41be-edf0-fa48146e52da"
      },
      "execution_count": null,
      "outputs": [
        {
          "output_type": "execute_result",
          "data": {
            "text/plain": [
              "d       \n",
              "──(f(x))\n",
              "dx      "
            ],
            "text/latex": "$\\displaystyle \\frac{d}{d x} f{\\left(x \\right)}$"
          },
          "metadata": {},
          "execution_count": 8
        }
      ]
    },
    {
      "cell_type": "code",
      "source": [
        "# Single variable derivatives\n",
        "diff(x**2 - 4*x + 3, x)"
      ],
      "metadata": {
        "colab": {
          "base_uri": "https://localhost:8080/",
          "height": 37
        },
        "id": "NFWgkcARp2Dx",
        "outputId": "657e0df2-e8e9-4b67-b906-e8f8dd642a9e"
      },
      "execution_count": null,
      "outputs": [
        {
          "output_type": "execute_result",
          "data": {
            "text/plain": [
              "2⋅x - 4"
            ],
            "text/latex": "$\\displaystyle 2 x - 4$"
          },
          "metadata": {},
          "execution_count": 9
        }
      ]
    },
    {
      "cell_type": "code",
      "source": [
        "# Take multiple derivatives at once\n",
        "diff(x**4, x, 2)"
      ],
      "metadata": {
        "colab": {
          "base_uri": "https://localhost:8080/",
          "height": 37
        },
        "id": "bwf_Fh08qbUg",
        "outputId": "01cc494a-3214-4bfc-fda4-3a66d02aa50a"
      },
      "execution_count": null,
      "outputs": [
        {
          "output_type": "execute_result",
          "data": {
            "text/plain": [
              "    2\n",
              "12⋅x "
            ],
            "text/latex": "$\\displaystyle 12 x^{2}$"
          },
          "metadata": {},
          "execution_count": 10
        }
      ]
    },
    {
      "cell_type": "code",
      "source": [
        "# Take derivatives with respect to many variables at once\n",
        "diff(exp(x*y)+ 2*z, x, y)"
      ],
      "metadata": {
        "colab": {
          "base_uri": "https://localhost:8080/",
          "height": 37
        },
        "id": "8PdSt7uaqrk-",
        "outputId": "66c2cc92-d1f0-4385-a306-f53759a556e6"
      },
      "execution_count": null,
      "outputs": [
        {
          "output_type": "execute_result",
          "data": {
            "text/plain": [
              "           x⋅y\n",
              "(x⋅y + 1)⋅ℯ   "
            ],
            "text/latex": "$\\displaystyle \\left(x y + 1\\right) e^{x y}$"
          },
          "metadata": {},
          "execution_count": 11
        }
      ]
    },
    {
      "cell_type": "code",
      "source": [
        "# Unevaluated derivative\n",
        "expr = Derivative(exp(x*y*z), x, y)\n",
        "Eq(expr, expr.doit())"
      ],
      "metadata": {
        "colab": {
          "base_uri": "https://localhost:8080/",
          "height": 57
        },
        "id": "nrQLmCRerMLi",
        "outputId": "66d57f18-15c5-49ed-a8b1-5c411010142f"
      },
      "execution_count": null,
      "outputs": [
        {
          "output_type": "execute_result",
          "data": {
            "text/plain": [
              "   2                                \n",
              "  ∂  ⎛ x⋅y⋅z⎞                  x⋅y⋅z\n",
              "─────⎝ℯ     ⎠ = z⋅(x⋅y⋅z + 1)⋅ℯ     \n",
              "∂y ∂x                               "
            ],
            "text/latex": "$\\displaystyle \\frac{\\partial^{2}}{\\partial y\\partial x} e^{x y z} = z \\left(x y z + 1\\right) e^{x y z}$"
          },
          "metadata": {},
          "execution_count": 12
        }
      ]
    },
    {
      "cell_type": "markdown",
      "source": [
        "## Integrals"
      ],
      "metadata": {
        "id": "mjVBWYVqtlA_"
      }
    },
    {
      "cell_type": "code",
      "source": [
        "# Compute symbolic integral\n",
        "integrate(f(x), x)"
      ],
      "metadata": {
        "colab": {
          "base_uri": "https://localhost:8080/",
          "height": 54
        },
        "id": "GAiP5eMetbhV",
        "outputId": "b1fe54d0-7ad7-4b7b-9773-1ee0cfcb4cf7"
      },
      "execution_count": null,
      "outputs": [
        {
          "output_type": "execute_result",
          "data": {
            "text/plain": [
              "⌠        \n",
              "⎮ f(x) dx\n",
              "⌡        "
            ],
            "text/latex": "$\\displaystyle \\int f{\\left(x \\right)}\\, dx$"
          },
          "metadata": {},
          "execution_count": 13
        }
      ]
    },
    {
      "cell_type": "code",
      "source": [
        "# Compute symbolic integral with limits\n",
        "integrate(f(x), (x, a, b))"
      ],
      "metadata": {
        "colab": {
          "base_uri": "https://localhost:8080/",
          "height": 80
        },
        "id": "iQBHZTLVt7DM",
        "outputId": "d1d7927e-5fdb-4084-829e-cdd63c22c0d8"
      },
      "execution_count": null,
      "outputs": [
        {
          "output_type": "execute_result",
          "data": {
            "text/plain": [
              "b        \n",
              "⌠        \n",
              "⎮ f(x) dx\n",
              "⌡        \n",
              "a        "
            ],
            "text/latex": "$\\displaystyle \\int\\limits_{a}^{b} f{\\left(x \\right)}\\, dx$"
          },
          "metadata": {},
          "execution_count": 14
        }
      ]
    },
    {
      "cell_type": "code",
      "source": [
        "# Calculate a integral from zero to infinity\n",
        "integrate(exp(-x), (x, 0, oo))"
      ],
      "metadata": {
        "colab": {
          "base_uri": "https://localhost:8080/",
          "height": 36
        },
        "id": "ZLl2n3XquNyt",
        "outputId": "c78a6434-07a3-4040-9876-920856b65b01"
      },
      "execution_count": null,
      "outputs": [
        {
          "output_type": "execute_result",
          "data": {
            "text/plain": [
              "1"
            ],
            "text/latex": "$\\displaystyle 1$"
          },
          "metadata": {},
          "execution_count": 15
        }
      ]
    },
    {
      "cell_type": "code",
      "source": [
        "# Calculate multiple integrals\n",
        "integrate(exp(-x**2 - y**2), (x, -oo, oo), (y, -oo, oo))"
      ],
      "metadata": {
        "colab": {
          "base_uri": "https://localhost:8080/",
          "height": 37
        },
        "id": "-tLgJkwduYgd",
        "outputId": "befbc9c1-9bec-40f8-8f35-8f1cb82f3048"
      },
      "execution_count": null,
      "outputs": [
        {
          "output_type": "execute_result",
          "data": {
            "text/plain": [
              "π"
            ],
            "text/latex": "$\\displaystyle \\pi$"
          },
          "metadata": {},
          "execution_count": 16
        }
      ]
    },
    {
      "cell_type": "code",
      "source": [
        "# Unevaluated integral\n",
        "expr = Integral(exp(-x**2 - y**2), (x, -oo, oo), (y, -oo, oo))\n",
        "Eq(expr, expr.doit())"
      ],
      "metadata": {
        "colab": {
          "base_uri": "https://localhost:8080/",
          "height": 77
        },
        "id": "DQOGugVRu9UN",
        "outputId": "b4fbfa9c-44e5-4db6-b71c-98518ae55679"
      },
      "execution_count": null,
      "outputs": [
        {
          "output_type": "execute_result",
          "data": {
            "text/plain": [
              "∞  ∞                      \n",
              "⌠  ⌠                      \n",
              "⎮  ⎮      2    2          \n",
              "⎮  ⎮   - x  - y           \n",
              "⎮  ⎮  ℯ          dx dy = π\n",
              "⌡  ⌡                      \n",
              "-∞ -∞                     "
            ],
            "text/latex": "$\\displaystyle \\int\\limits_{-\\infty}^{\\infty}\\int\\limits_{-\\infty}^{\\infty} e^{- x^{2} - y^{2}}\\, dx\\, dy = \\pi$"
          },
          "metadata": {},
          "execution_count": 17
        }
      ]
    }
  ]
}