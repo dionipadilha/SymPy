{
  "nbformat": 4,
  "nbformat_minor": 0,
  "metadata": {
    "colab": {
      "provenance": [],
      "authorship_tag": "ABX9TyNJ1+4+L8rIjEpS/pUbpI4W",
      "include_colab_link": true
    },
    "kernelspec": {
      "name": "python3",
      "display_name": "Python 3"
    },
    "language_info": {
      "name": "python"
    }
  },
  "cells": [
    {
      "cell_type": "markdown",
      "metadata": {
        "id": "view-in-github",
        "colab_type": "text"
      },
      "source": [
        "<a href=\"https://colab.research.google.com/github/dionipadilha/sympy/blob/main/complex.ipynb\" target=\"_parent\"><img src=\"https://colab.research.google.com/assets/colab-badge.svg\" alt=\"Open In Colab\"/></a>"
      ]
    },
    {
      "cell_type": "markdown",
      "source": [
        "# Complex Numbers"
      ],
      "metadata": {
        "id": "zE7qi7bu8jcD"
      }
    },
    {
      "cell_type": "code",
      "source": [
        "# symbolic environment:\n",
        "from sympy import *\n",
        "init_printing()"
      ],
      "metadata": {
        "id": "HK93Po4x8tSO"
      },
      "execution_count": null,
      "outputs": []
    },
    {
      "cell_type": "markdown",
      "source": [
        "## Complex Number"
      ],
      "metadata": {
        "id": "KyVs8GNZIxO3"
      }
    },
    {
      "cell_type": "code",
      "source": [
        "# imaginary unity:\n",
        "I**2"
      ],
      "metadata": {
        "colab": {
          "base_uri": "https://localhost:8080/",
          "height": 38
        },
        "id": "AGYvK26B85SI",
        "outputId": "e7e974de-4618-4fe0-ee76-403a3e30569c"
      },
      "execution_count": null,
      "outputs": [
        {
          "output_type": "execute_result",
          "data": {
            "text/plain": [
              "-1"
            ],
            "text/latex": "$\\displaystyle -1$"
          },
          "metadata": {},
          "execution_count": 2
        }
      ]
    },
    {
      "cell_type": "code",
      "execution_count": null,
      "metadata": {
        "id": "7LokePj88BRr"
      },
      "outputs": [],
      "source": [
        "# complex number:\n",
        "z = 3 + 4*I"
      ]
    },
    {
      "cell_type": "code",
      "source": [
        "# real part:\n",
        "re(z)"
      ],
      "metadata": {
        "colab": {
          "base_uri": "https://localhost:8080/",
          "height": 38
        },
        "id": "_3MQI-v69Mow",
        "outputId": "219112f1-6ba3-48d6-c307-bdd54990df11"
      },
      "execution_count": null,
      "outputs": [
        {
          "output_type": "execute_result",
          "data": {
            "text/plain": [
              "3"
            ],
            "text/latex": "$\\displaystyle 3$"
          },
          "metadata": {},
          "execution_count": 4
        }
      ]
    },
    {
      "cell_type": "code",
      "source": [
        "# imaginary part:\n",
        "im(z)"
      ],
      "metadata": {
        "colab": {
          "base_uri": "https://localhost:8080/",
          "height": 38
        },
        "id": "JrcClizbAGkG",
        "outputId": "c7b152db-4431-462d-892d-8f5a7ec9f12b"
      },
      "execution_count": null,
      "outputs": [
        {
          "output_type": "execute_result",
          "data": {
            "text/plain": [
              "4"
            ],
            "text/latex": "$\\displaystyle 4$"
          },
          "metadata": {},
          "execution_count": 5
        }
      ]
    },
    {
      "cell_type": "code",
      "source": [
        "# absolute value:\n",
        "Abs(z)"
      ],
      "metadata": {
        "colab": {
          "base_uri": "https://localhost:8080/",
          "height": 38
        },
        "id": "x6MW7ZakA30G",
        "outputId": "2b6bd59f-efc6-4772-c5ae-d0734ff34194"
      },
      "execution_count": null,
      "outputs": [
        {
          "output_type": "execute_result",
          "data": {
            "text/plain": [
              "5"
            ],
            "text/latex": "$\\displaystyle 5$"
          },
          "metadata": {},
          "execution_count": 6
        }
      ]
    },
    {
      "cell_type": "code",
      "source": [
        "# argument (phase angle in radians):\n",
        "arg(z)"
      ],
      "metadata": {
        "colab": {
          "base_uri": "https://localhost:8080/",
          "height": 58
        },
        "id": "mNO5ykp3BVtQ",
        "outputId": "7b126882-8c1d-471b-9673-d2343d253eb9"
      },
      "execution_count": null,
      "outputs": [
        {
          "output_type": "execute_result",
          "data": {
            "text/plain": [
              "atan(4/3)"
            ],
            "text/latex": "$\\displaystyle \\operatorname{atan}{\\left(\\frac{4}{3} \\right)}$"
          },
          "metadata": {},
          "execution_count": 7
        }
      ]
    },
    {
      "cell_type": "code",
      "source": [
        "# normalized direction:\n",
        "sign(z).evalf()"
      ],
      "metadata": {
        "colab": {
          "base_uri": "https://localhost:8080/",
          "height": 38
        },
        "id": "Z5gaIwgcBPZW",
        "outputId": "65c6c312-221a-48ed-bd3b-8549892b6285"
      },
      "execution_count": null,
      "outputs": [
        {
          "output_type": "execute_result",
          "data": {
            "text/plain": [
              "0.6 + 0.8⋅ⅈ"
            ],
            "text/latex": "$\\displaystyle 0.6 + 0.8 i$"
          },
          "metadata": {},
          "execution_count": 8
        }
      ]
    },
    {
      "cell_type": "code",
      "source": [
        "#complex conjugate:\n",
        "conjugate(z)"
      ],
      "metadata": {
        "colab": {
          "base_uri": "https://localhost:8080/",
          "height": 38
        },
        "id": "bjFdhshdBAmG",
        "outputId": "572c3c8e-b541-4c93-e83a-19a224c0bdc4"
      },
      "execution_count": null,
      "outputs": [
        {
          "output_type": "execute_result",
          "data": {
            "text/plain": [
              "3 - 4⋅ⅈ"
            ],
            "text/latex": "$\\displaystyle 3 - 4 i$"
          },
          "metadata": {},
          "execution_count": 9
        }
      ]
    },
    {
      "cell_type": "markdown",
      "source": [
        "## power complex"
      ],
      "metadata": {
        "id": "HSiln91oIlmL"
      }
    },
    {
      "cell_type": "code",
      "source": [
        "# power complex\n",
        "exp_z = exp(z)\n",
        "exp_z"
      ],
      "metadata": {
        "colab": {
          "base_uri": "https://localhost:8080/",
          "height": 38
        },
        "id": "kPm_NT8yI_hi",
        "outputId": "84edcb36-26ea-4171-afd5-a8bba8b1ad4a"
      },
      "execution_count": null,
      "outputs": [
        {
          "output_type": "execute_result",
          "data": {
            "text/plain": [
              " 3 + 4⋅ⅈ\n",
              "ℯ       "
            ],
            "text/latex": "$\\displaystyle e^{3 + 4 i}$"
          },
          "metadata": {},
          "execution_count": 29
        }
      ]
    },
    {
      "cell_type": "code",
      "source": [
        "# expand complex number into its trigonometric form:\n",
        "expanded_exp_z = expand_complex(exp_z)\n",
        "expanded_exp_z"
      ],
      "metadata": {
        "colab": {
          "base_uri": "https://localhost:8080/",
          "height": 38
        },
        "id": "ZjNCkCwKEV0p",
        "outputId": "942c786b-9738-4aca-f049-a10719f68d02"
      },
      "execution_count": null,
      "outputs": [
        {
          "output_type": "execute_result",
          "data": {
            "text/plain": [
              " 3             3       \n",
              "ℯ ⋅cos(4) + ⅈ⋅ℯ ⋅sin(4)"
            ],
            "text/latex": "$\\displaystyle e^{3} \\cos{\\left(4 \\right)} + i e^{3} \\sin{\\left(4 \\right)}$"
          },
          "metadata": {},
          "execution_count": 30
        }
      ]
    },
    {
      "cell_type": "code",
      "source": [
        "# simplify the expanded complex number:\n",
        "simplify(expanded_exp_z)"
      ],
      "metadata": {
        "colab": {
          "base_uri": "https://localhost:8080/",
          "height": 38
        },
        "id": "CqoWX4AoEmwJ",
        "outputId": "b0a603fd-89d1-4121-c6ff-c3592657905e"
      },
      "execution_count": null,
      "outputs": [
        {
          "output_type": "execute_result",
          "data": {
            "text/plain": [
              " 3 + 4⋅ⅈ\n",
              "ℯ       "
            ],
            "text/latex": "$\\displaystyle e^{3 + 4 i}$"
          },
          "metadata": {},
          "execution_count": 31
        }
      ]
    },
    {
      "cell_type": "code",
      "source": [
        "# alternate forms:\n",
        "expanded_exp_z.rewrite(exp)"
      ],
      "metadata": {
        "colab": {
          "base_uri": "https://localhost:8080/",
          "height": 60
        },
        "id": "oH9ZYtlhHtw0",
        "outputId": "523e8920-3492-4e41-80e9-6798bf052d8f"
      },
      "execution_count": null,
      "outputs": [
        {
          "output_type": "execute_result",
          "data": {
            "text/plain": [
              "⎛ 4⋅ⅈ    -4⋅ⅈ⎞  3   ⎛ 4⋅ⅈ    -4⋅ⅈ⎞   \n",
              "⎝ℯ    - ℯ    ⎠⋅ℯ    ⎜ℯ      ℯ    ⎟  3\n",
              "───────────────── + ⎜──── + ─────⎟⋅ℯ \n",
              "        2           ⎝ 2       2  ⎠   "
            ],
            "text/latex": "$\\displaystyle \\frac{\\left(e^{4 i} - e^{- 4 i}\\right) e^{3}}{2} + \\left(\\frac{e^{4 i}}{2} + \\frac{e^{- 4 i}}{2}\\right) e^{3}$"
          },
          "metadata": {},
          "execution_count": 35
        }
      ]
    },
    {
      "cell_type": "code",
      "source": [
        "# alternate forms:\n",
        "expanded_exp_z.rewrite(exp).factor()"
      ],
      "metadata": {
        "colab": {
          "base_uri": "https://localhost:8080/",
          "height": 38
        },
        "id": "vdP-swPdJy1S",
        "outputId": "e95d059b-0804-4e1f-d633-7d9d786b98b7"
      },
      "execution_count": null,
      "outputs": [
        {
          "output_type": "execute_result",
          "data": {
            "text/plain": [
              " 3  4⋅ⅈ\n",
              "ℯ ⋅ℯ   "
            ],
            "text/latex": "$\\displaystyle e^{3} e^{4 i}$"
          },
          "metadata": {},
          "execution_count": 42
        }
      ]
    }
  ]
}