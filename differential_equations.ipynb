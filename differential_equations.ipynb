{
  "nbformat": 4,
  "nbformat_minor": 0,
  "metadata": {
    "colab": {
      "provenance": [],
      "authorship_tag": "ABX9TyMn9PjRg3CwdYUa/gmhyckL",
      "include_colab_link": true
    },
    "kernelspec": {
      "name": "python3",
      "display_name": "Python 3"
    },
    "language_info": {
      "name": "python"
    }
  },
  "cells": [
    {
      "cell_type": "markdown",
      "metadata": {
        "id": "view-in-github",
        "colab_type": "text"
      },
      "source": [
        "<a href=\"https://colab.research.google.com/github/dionipadilha/sympy/blob/main/differential_equations.ipynb\" target=\"_parent\"><img src=\"https://colab.research.google.com/assets/colab-badge.svg\" alt=\"Open In Colab\"/></a>"
      ]
    },
    {
      "cell_type": "markdown",
      "source": [
        "# Differential Equations"
      ],
      "metadata": {
        "id": "ewuOhu26boSP"
      }
    },
    {
      "cell_type": "code",
      "execution_count": null,
      "metadata": {
        "id": "DOuRDeM_bANM"
      },
      "outputs": [],
      "source": [
        "# Symbolic env\n",
        "from sympy import *\n",
        "x = symbols('x')\n",
        "f, g = symbols('f g', cls=Function)\n",
        "init_printing()"
      ]
    },
    {
      "cell_type": "code",
      "source": [
        "# Use dsolve to solve differential equations:\n",
        "dsolve(f(x).diff(x, 2) + 9*f(x), f(x))"
      ],
      "metadata": {
        "colab": {
          "base_uri": "https://localhost:8080/",
          "height": 38
        },
        "id": "G39h0jZZdh14",
        "outputId": "09b63fa0-9d5d-488e-f92e-687c67ba9c77"
      },
      "execution_count": null,
      "outputs": [
        {
          "output_type": "execute_result",
          "data": {
            "text/plain": [
              "f(x) = C₁⋅sin(3⋅x) + C₂⋅cos(3⋅x)"
            ],
            "text/latex": "$\\displaystyle f{\\left(x \\right)} = C_{1} \\sin{\\left(3 x \\right)} + C_{2} \\cos{\\left(3 x \\right)}$"
          },
          "metadata": {},
          "execution_count": 28
        }
      ]
    },
    {
      "cell_type": "code",
      "source": [],
      "metadata": {
        "id": "zgy00Ktudr5w"
      },
      "execution_count": null,
      "outputs": []
    }
  ]
}