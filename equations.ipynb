{
  "nbformat": 4,
  "nbformat_minor": 0,
  "metadata": {
    "colab": {
      "provenance": [],
      "authorship_tag": "ABX9TyO9xHN/Bva1R/OGJ2XvGOUm",
      "include_colab_link": true
    },
    "kernelspec": {
      "name": "python3",
      "display_name": "Python 3"
    },
    "language_info": {
      "name": "python"
    }
  },
  "cells": [
    {
      "cell_type": "markdown",
      "metadata": {
        "id": "view-in-github",
        "colab_type": "text"
      },
      "source": [
        "<a href=\"https://colab.research.google.com/github/dionipadilha/sympy/blob/main/equations.ipynb\" target=\"_parent\"><img src=\"https://colab.research.google.com/assets/colab-badge.svg\" alt=\"Open In Colab\"/></a>"
      ]
    },
    {
      "cell_type": "markdown",
      "source": [
        "# Equation Calculator"
      ],
      "metadata": {
        "id": "0f-A0D-ggu_n"
      }
    },
    {
      "cell_type": "markdown",
      "source": [
        "This code is useful for solving various types of equations, including linear, quadratic, polynomial, transcendental, logarithmic, absolute value, and exponential equations. It can be used for mathematical analysis, engineering problems, physics calculations, and many other fields where solving equations is required."
      ],
      "metadata": {
        "id": "4_ZFaUPDF20v"
      }
    },
    {
      "cell_type": "code",
      "source": [
        "# Symbolically environment\n",
        "from sympy import *\n",
        "init_printing()\n",
        "x = symbols('x')\n",
        "\n",
        "from IPython.core.interactiveshell import InteractiveShell\n",
        "InteractiveShell.ast_node_interactivity = \"all\""
      ],
      "metadata": {
        "id": "32xI8_SUhFod"
      },
      "execution_count": null,
      "outputs": []
    },
    {
      "cell_type": "code",
      "source": [
        "# Linear Equation:\n",
        "eq = Eq(5*x - 6, 3*x - 8)\n",
        "eq\n",
        "solveset(eq, x)"
      ],
      "metadata": {
        "colab": {
          "base_uri": "https://localhost:8080/",
          "height": 59
        },
        "id": "1KFOXk9ck1YO",
        "outputId": "1199b810-3926-41e8-d637-35cbed34f68b"
      },
      "execution_count": null,
      "outputs": [
        {
          "output_type": "execute_result",
          "data": {
            "text/plain": [
              "5⋅x - 6 = 3⋅x - 8"
            ],
            "text/latex": "$\\displaystyle 5 x - 6 = 3 x - 8$"
          },
          "metadata": {},
          "execution_count": 2
        },
        {
          "output_type": "execute_result",
          "data": {
            "text/plain": [
              "{-1}"
            ],
            "text/latex": "$\\displaystyle \\left\\{-1\\right\\}$"
          },
          "metadata": {},
          "execution_count": 2
        }
      ]
    },
    {
      "cell_type": "code",
      "source": [
        "# Quadratic Equation:\n",
        "eq = Eq(x**2 - x - 6, 0)\n",
        "eq\n",
        "solveset(eq, x)"
      ],
      "metadata": {
        "colab": {
          "base_uri": "https://localhost:8080/",
          "height": 59
        },
        "id": "Kb3g1TTlhDU-",
        "outputId": "61877309-9abe-4f70-8bd8-232b3e4beaef"
      },
      "execution_count": null,
      "outputs": [
        {
          "output_type": "execute_result",
          "data": {
            "text/plain": [
              " 2            \n",
              "x  - x - 6 = 0"
            ],
            "text/latex": "$\\displaystyle x^{2} - x - 6 = 0$"
          },
          "metadata": {},
          "execution_count": 3
        },
        {
          "output_type": "execute_result",
          "data": {
            "text/plain": [
              "{-2, 3}"
            ],
            "text/latex": "$\\displaystyle \\left\\{-2, 3\\right\\}$"
          },
          "metadata": {},
          "execution_count": 3
        }
      ]
    },
    {
      "cell_type": "code",
      "source": [
        "# Polynomial Equation:\n",
        "eq = Eq(x**4 - 5*x**2 + 4, 0)\n",
        "eq\n",
        "solveset(eq, x)"
      ],
      "metadata": {
        "colab": {
          "base_uri": "https://localhost:8080/",
          "height": 59
        },
        "id": "yOtm8x4rh-Nf",
        "outputId": "ac17cad3-6368-4459-e1ac-884a3317302c"
      },
      "execution_count": null,
      "outputs": [
        {
          "output_type": "execute_result",
          "data": {
            "text/plain": [
              " 4      2        \n",
              "x  - 5⋅x  + 4 = 0"
            ],
            "text/latex": "$\\displaystyle x^{4} - 5 x^{2} + 4 = 0$"
          },
          "metadata": {},
          "execution_count": 4
        },
        {
          "output_type": "execute_result",
          "data": {
            "text/plain": [
              "{-2, -1, 1, 2}"
            ],
            "text/latex": "$\\displaystyle \\left\\{-2, -1, 1, 2\\right\\}$"
          },
          "metadata": {},
          "execution_count": 4
        }
      ]
    },
    {
      "cell_type": "code",
      "source": [
        "# Transcendental Equation:\n",
        "eq = Eq(sqrt(x - 1) - x, -7)\n",
        "eq\n",
        "solveset(eq, x)"
      ],
      "metadata": {
        "colab": {
          "base_uri": "https://localhost:8080/",
          "height": 59
        },
        "id": "yKdOVebMie_O",
        "outputId": "764eaf03-47fb-41c0-80b5-f4a328555f0d"
      },
      "execution_count": null,
      "outputs": [
        {
          "output_type": "execute_result",
          "data": {
            "text/plain": [
              "       _______     \n",
              "-x + ╲╱ x - 1  = -7"
            ],
            "text/latex": "$\\displaystyle - x + \\sqrt{x - 1} = -7$"
          },
          "metadata": {},
          "execution_count": 5
        },
        {
          "output_type": "execute_result",
          "data": {
            "text/plain": [
              "{10}"
            ],
            "text/latex": "$\\displaystyle \\left\\{10\\right\\}$"
          },
          "metadata": {},
          "execution_count": 5
        }
      ]
    },
    {
      "cell_type": "code",
      "source": [
        "# Equation with Logarithmic Function:\n",
        "eq = Eq(log(x + 1, 2), log(27, 3))\n",
        "eq\n",
        "solveset(eq, x)"
      ],
      "metadata": {
        "colab": {
          "base_uri": "https://localhost:8080/",
          "height": 78
        },
        "id": "pgXxmT3bjac3",
        "outputId": "fdef5a4c-94b6-4407-c463-16c88f3f97f0"
      },
      "execution_count": null,
      "outputs": [
        {
          "output_type": "execute_result",
          "data": {
            "text/plain": [
              "log(x + 1)    \n",
              "────────── = 3\n",
              "  log(2)      "
            ],
            "text/latex": "$\\displaystyle \\frac{\\log{\\left(x + 1 \\right)}}{\\log{\\left(2 \\right)}} = 3$"
          },
          "metadata": {},
          "execution_count": 6
        },
        {
          "output_type": "execute_result",
          "data": {
            "text/plain": [
              "{7}"
            ],
            "text/latex": "$\\displaystyle \\left\\{7\\right\\}$"
          },
          "metadata": {},
          "execution_count": 6
        }
      ]
    },
    {
      "cell_type": "code",
      "source": [
        "# Equation with Absolute Value:\n",
        "eq = Eq(Abs(3*x + 1), 4)\n",
        "eq\n",
        "solveset(eq, x, S.Reals)"
      ],
      "metadata": {
        "colab": {
          "base_uri": "https://localhost:8080/",
          "height": 79
        },
        "id": "YHHCWSfCjNeh",
        "outputId": "95bb0f5b-364b-4dd1-fdd2-10346898f75e"
      },
      "execution_count": null,
      "outputs": [
        {
          "output_type": "execute_result",
          "data": {
            "text/plain": [
              "│3⋅x + 1│ = 4"
            ],
            "text/latex": "$\\displaystyle \\left|{3 x + 1}\\right| = 4$"
          },
          "metadata": {},
          "execution_count": 7
        },
        {
          "output_type": "execute_result",
          "data": {
            "text/plain": [
              "{-5/3, 1}"
            ],
            "text/latex": "$\\displaystyle \\left\\{- \\frac{5}{3}, 1\\right\\}$"
          },
          "metadata": {},
          "execution_count": 7
        }
      ]
    },
    {
      "cell_type": "code",
      "source": [
        "# Exponential Equation:\n",
        "eq = Eq(3**x, 9**(x+5))\n",
        "eq\n",
        "solveset(eq, x, S.Reals)"
      ],
      "metadata": {
        "colab": {
          "base_uri": "https://localhost:8080/",
          "height": 58
        },
        "id": "r_M_lOD2jc7w",
        "outputId": "c86969ef-80f8-437d-99c8-032b3ddfb59a"
      },
      "execution_count": null,
      "outputs": [
        {
          "output_type": "execute_result",
          "data": {
            "text/plain": [
              " x    x + 5\n",
              "3  = 9     "
            ],
            "text/latex": "$\\displaystyle 3^{x} = 9^{x + 5}$"
          },
          "metadata": {},
          "execution_count": 8
        },
        {
          "output_type": "execute_result",
          "data": {
            "text/plain": [
              "{-10}"
            ],
            "text/latex": "$\\displaystyle \\left\\{-10\\right\\}$"
          },
          "metadata": {},
          "execution_count": 8
        }
      ]
    }
  ]
}