{
  "nbformat": 4,
  "nbformat_minor": 0,
  "metadata": {
    "colab": {
      "provenance": [],
      "authorship_tag": "ABX9TyN3Dzj6CfCJ7wNOctUZLRTa",
      "include_colab_link": true
    },
    "kernelspec": {
      "name": "python3",
      "display_name": "Python 3"
    },
    "language_info": {
      "name": "python"
    }
  },
  "cells": [
    {
      "cell_type": "markdown",
      "metadata": {
        "id": "view-in-github",
        "colab_type": "text"
      },
      "source": [
        "<a href=\"https://colab.research.google.com/github/dionipadilha/sympy/blob/main/evaluate_numerical_expr.ipynb\" target=\"_parent\"><img src=\"https://colab.research.google.com/assets/colab-badge.svg\" alt=\"Open In Colab\"/></a>"
      ]
    },
    {
      "cell_type": "markdown",
      "source": [
        "# Evaluate a Numerical Expression"
      ],
      "metadata": {
        "id": "LQy85Y_YbfyU"
      }
    },
    {
      "cell_type": "code",
      "execution_count": null,
      "metadata": {
        "id": "zAP_i1aSbHgH"
      },
      "outputs": [],
      "source": [
        "# symbolic env:\n",
        "from sympy import *\n",
        "init_printing()\n",
        "x, y, z = symbols(\"x, y, z\")\n",
        "k = symbols('k', integer=True)"
      ]
    },
    {
      "cell_type": "markdown",
      "source": [
        "# evalf"
      ],
      "metadata": {
        "id": "QAQT1oxbbMl1"
      }
    },
    {
      "cell_type": "code",
      "source": [
        "# creates an expression:\n",
        "expr = sqrt(8)\n",
        "expr"
      ],
      "metadata": {
        "colab": {
          "base_uri": "https://localhost:8080/",
          "height": 38
        },
        "id": "L3hxKtbDbrxv",
        "outputId": "3415d596-919a-47c4-ee11-6b39f64c9df1"
      },
      "execution_count": null,
      "outputs": [
        {
          "output_type": "execute_result",
          "data": {
            "text/plain": [
              "2⋅√2"
            ],
            "text/latex": "$\\displaystyle 2 \\sqrt{2}$"
          },
          "metadata": {},
          "execution_count": 2
        }
      ]
    },
    {
      "cell_type": "code",
      "source": [
        "# numerically evaluate expressions to default precision:\n",
        "expr.evalf()"
      ],
      "metadata": {
        "colab": {
          "base_uri": "https://localhost:8080/",
          "height": 38
        },
        "id": "mT5Y-LhrbIOw",
        "outputId": "9686bb25-b3c2-480c-fa38-a0644d2ab066"
      },
      "execution_count": null,
      "outputs": [
        {
          "output_type": "execute_result",
          "data": {
            "text/plain": [
              "2.82842712474619"
            ],
            "text/latex": "$\\displaystyle 2.82842712474619$"
          },
          "metadata": {},
          "execution_count": 3
        }
      ]
    },
    {
      "cell_type": "code",
      "source": [
        "# numerically evaluate expressions to arbitrary precision:\n",
        "expr.evalf(6), expr.evalf(20)"
      ],
      "metadata": {
        "colab": {
          "base_uri": "https://localhost:8080/",
          "height": 38
        },
        "id": "exbmWiYxbowy",
        "outputId": "5c42abcb-a80d-4289-9a72-5c8d10e2125c"
      },
      "execution_count": null,
      "outputs": [
        {
          "output_type": "execute_result",
          "data": {
            "text/plain": [
              "(2.82843, 2.8284271247461900976)"
            ],
            "text/latex": "$\\displaystyle \\left( 2.82843, \\  2.8284271247461900976\\right)$"
          },
          "metadata": {},
          "execution_count": 4
        }
      ]
    },
    {
      "cell_type": "code",
      "source": [
        "# numerically evaluate an expression with a Symbol at a point:\n",
        "expr = cos(2*x)\n",
        "expr.evalf(subs={x: 2.4})"
      ],
      "metadata": {
        "colab": {
          "base_uri": "https://localhost:8080/",
          "height": 38
        },
        "id": "xrfv_qeNcRcL",
        "outputId": "4592c552-1d7f-4400-fbc4-ddbea5f5da98"
      },
      "execution_count": null,
      "outputs": [
        {
          "output_type": "execute_result",
          "data": {
            "text/plain": [
              "0.0874989834394464"
            ],
            "text/latex": "$\\displaystyle 0.0874989834394464$"
          },
          "metadata": {},
          "execution_count": 5
        }
      ]
    },
    {
      "cell_type": "code",
      "source": [
        "# sometimes there are roundoff errors:\n",
        "one = cos(1)**2 + sin(1)**2\n",
        "(one - 1).evalf()"
      ],
      "metadata": {
        "colab": {
          "base_uri": "https://localhost:8080/",
          "height": 38
        },
        "id": "LOaAjvCnco7O",
        "outputId": "aa9066ff-71e4-4ced-bf79-105cf869461f"
      },
      "execution_count": null,
      "outputs": [
        {
          "output_type": "execute_result",
          "data": {
            "text/plain": [
              "-0.e-124"
            ],
            "text/latex": "$\\displaystyle -4.0 \\cdot 10^{-124}$"
          },
          "metadata": {},
          "execution_count": 6
        }
      ]
    },
    {
      "cell_type": "code",
      "source": [
        "# removes the roundoff errors:\n",
        "(one - 1).evalf(chop=True)"
      ],
      "metadata": {
        "colab": {
          "base_uri": "https://localhost:8080/",
          "height": 38
        },
        "id": "Vp_mP6qfdRVw",
        "outputId": "99a022e8-d40c-42b8-ad19-ab3b3db43f37"
      },
      "execution_count": null,
      "outputs": [
        {
          "output_type": "execute_result",
          "data": {
            "text/plain": [
              "0"
            ],
            "text/latex": "$\\displaystyle 0$"
          },
          "metadata": {},
          "execution_count": 7
        }
      ]
    },
    {
      "cell_type": "markdown",
      "source": [
        "## N function"
      ],
      "metadata": {
        "id": "0yRo9Z1XdgxH"
      }
    },
    {
      "cell_type": "code",
      "source": [
        "# creates an expression:\n",
        "expr = sqrt(8)\n",
        "expr"
      ],
      "metadata": {
        "colab": {
          "base_uri": "https://localhost:8080/",
          "height": 38
        },
        "id": "Fis3GhdXd61S",
        "outputId": "3a094a34-3a0e-4996-a6e6-155f59d6f328"
      },
      "execution_count": null,
      "outputs": [
        {
          "output_type": "execute_result",
          "data": {
            "text/plain": [
              "2⋅√2"
            ],
            "text/latex": "$\\displaystyle 2 \\sqrt{2}$"
          },
          "metadata": {},
          "execution_count": 8
        }
      ]
    },
    {
      "cell_type": "code",
      "source": [
        "# numerically evaluate expressions to default precision:\n",
        "N(expr)"
      ],
      "metadata": {
        "colab": {
          "base_uri": "https://localhost:8080/",
          "height": 38
        },
        "id": "rsq7bDyKeY-s",
        "outputId": "9725f920-a8fa-42e7-c144-c8970f718eaa"
      },
      "execution_count": null,
      "outputs": [
        {
          "output_type": "execute_result",
          "data": {
            "text/plain": [
              "2.82842712474619"
            ],
            "text/latex": "$\\displaystyle 2.82842712474619$"
          },
          "metadata": {},
          "execution_count": 9
        }
      ]
    },
    {
      "cell_type": "code",
      "source": [
        "# numerically evaluate expressions to arbitrary precision:\n",
        "N(expr, 3), N(expr, 20)"
      ],
      "metadata": {
        "colab": {
          "base_uri": "https://localhost:8080/",
          "height": 38
        },
        "id": "elBsEL_debj7",
        "outputId": "380372ed-262d-48af-f9fb-8211caed5c06"
      },
      "execution_count": null,
      "outputs": [
        {
          "output_type": "execute_result",
          "data": {
            "text/plain": [
              "(2.83, 2.8284271247461900976)"
            ],
            "text/latex": "$\\displaystyle \\left( 2.83, \\  2.8284271247461900976\\right)$"
          },
          "metadata": {},
          "execution_count": 10
        }
      ]
    },
    {
      "cell_type": "code",
      "source": [
        "# numerically evaluate an expression with a Symbol at a point:\n",
        "expr = cos(2*x)\n",
        "N(expr, subs={x: 2.4})"
      ],
      "metadata": {
        "colab": {
          "base_uri": "https://localhost:8080/",
          "height": 38
        },
        "id": "A0iJyq5LejR7",
        "outputId": "e77bf425-5b71-462b-e3c4-498b4e72dbc1"
      },
      "execution_count": null,
      "outputs": [
        {
          "output_type": "execute_result",
          "data": {
            "text/plain": [
              "0.0874989834394464"
            ],
            "text/latex": "$\\displaystyle 0.0874989834394464$"
          },
          "metadata": {},
          "execution_count": 11
        }
      ]
    },
    {
      "cell_type": "code",
      "source": [
        "# sometimes there are roundoff errors:\n",
        "one = cos(1)**2 + sin(1)**2\n",
        "N(one - 1)"
      ],
      "metadata": {
        "colab": {
          "base_uri": "https://localhost:8080/",
          "height": 38
        },
        "id": "D7KDRjJuesM0",
        "outputId": "588e4517-182a-473e-c87f-17df58e53c2f"
      },
      "execution_count": null,
      "outputs": [
        {
          "output_type": "execute_result",
          "data": {
            "text/plain": [
              "-0.e-124"
            ],
            "text/latex": "$\\displaystyle -4.0 \\cdot 10^{-124}$"
          },
          "metadata": {},
          "execution_count": 12
        }
      ]
    },
    {
      "cell_type": "code",
      "source": [
        "# removes the roundoff errors:\n",
        "N(one - 1, chop=True)"
      ],
      "metadata": {
        "colab": {
          "base_uri": "https://localhost:8080/",
          "height": 38
        },
        "id": "5d_jnuA5ezWr",
        "outputId": "67f5097d-6c8a-4927-c291-468f3e85d624"
      },
      "execution_count": null,
      "outputs": [
        {
          "output_type": "execute_result",
          "data": {
            "text/plain": [
              "0"
            ],
            "text/latex": "$\\displaystyle 0$"
          },
          "metadata": {},
          "execution_count": 13
        }
      ]
    },
    {
      "cell_type": "markdown",
      "source": [
        "## Force numerically results"
      ],
      "metadata": {
        "id": "QkenK88NfNt-"
      }
    },
    {
      "cell_type": "code",
      "source": [
        "expr = Sum(1/k**k, (k, 1, oo))\n",
        "expr"
      ],
      "metadata": {
        "colab": {
          "base_uri": "https://localhost:8080/",
          "height": 67
        },
        "id": "1opkdjnDe5it",
        "outputId": "48599381-c4b9-4e95-dfd0-b608f7a5dfc1"
      },
      "execution_count": null,
      "outputs": [
        {
          "output_type": "execute_result",
          "data": {
            "text/plain": [
              "  ∞      \n",
              " ___     \n",
              " ╲       \n",
              "  ╲    -k\n",
              "  ╱   k  \n",
              " ╱       \n",
              " ‾‾‾     \n",
              "k = 1    "
            ],
            "text/latex": "$\\displaystyle \\sum_{k=1}^{\\infty} k^{- k}$"
          },
          "metadata": {},
          "execution_count": 14
        }
      ]
    },
    {
      "cell_type": "code",
      "source": [
        "expr.doit()"
      ],
      "metadata": {
        "colab": {
          "base_uri": "https://localhost:8080/",
          "height": 67
        },
        "id": "_lmt-RlagYpd",
        "outputId": "4eb56be9-a42a-413a-906c-d0173498a129"
      },
      "execution_count": null,
      "outputs": [
        {
          "output_type": "execute_result",
          "data": {
            "text/plain": [
              "  ∞      \n",
              " ___     \n",
              " ╲       \n",
              "  ╲    -k\n",
              "  ╱   k  \n",
              " ╱       \n",
              " ‾‾‾     \n",
              "k = 1    "
            ],
            "text/latex": "$\\displaystyle \\sum_{k=1}^{\\infty} k^{- k}$"
          },
          "metadata": {},
          "execution_count": 15
        }
      ]
    },
    {
      "cell_type": "code",
      "source": [
        "expr.evalf(4)"
      ],
      "metadata": {
        "colab": {
          "base_uri": "https://localhost:8080/",
          "height": 38
        },
        "id": "qBiCp3jWfvm6",
        "outputId": "af8cfc36-f4a7-4978-c1e0-f7cb1f1ccfcf"
      },
      "execution_count": null,
      "outputs": [
        {
          "output_type": "execute_result",
          "data": {
            "text/plain": [
              "1.291"
            ],
            "text/latex": "$\\displaystyle 1.291$"
          },
          "metadata": {},
          "execution_count": 16
        }
      ]
    },
    {
      "cell_type": "code",
      "source": [
        "N(expr, 4)"
      ],
      "metadata": {
        "colab": {
          "base_uri": "https://localhost:8080/",
          "height": 38
        },
        "id": "O7n9yRHvfgv-",
        "outputId": "1acea07e-8db9-401c-9a77-62425be1be97"
      },
      "execution_count": null,
      "outputs": [
        {
          "output_type": "execute_result",
          "data": {
            "text/plain": [
              "1.291"
            ],
            "text/latex": "$\\displaystyle 1.291$"
          },
          "metadata": {},
          "execution_count": 17
        }
      ]
    }
  ]
}