{
  "nbformat": 4,
  "nbformat_minor": 0,
  "metadata": {
    "colab": {
      "provenance": [],
      "authorship_tag": "ABX9TyNtH1FCudAY7J6nmu8k8ug2",
      "include_colab_link": true
    },
    "kernelspec": {
      "name": "python3",
      "display_name": "Python 3"
    },
    "language_info": {
      "name": "python"
    }
  },
  "cells": [
    {
      "cell_type": "markdown",
      "metadata": {
        "id": "view-in-github",
        "colab_type": "text"
      },
      "source": [
        "<a href=\"https://colab.research.google.com/github/dionipadilha/sympy/blob/main/fast_intro_sympy_.ipynb\" target=\"_parent\"><img src=\"https://colab.research.google.com/assets/colab-badge.svg\" alt=\"Open In Colab\"/></a>"
      ]
    },
    {
      "cell_type": "markdown",
      "source": [
        "# Fast Introduction for Math Students"
      ],
      "metadata": {
        "id": "YhL6KtYr6p2O"
      }
    },
    {
      "cell_type": "code",
      "execution_count": null,
      "metadata": {
        "id": "EzHGgBk22I0g"
      },
      "outputs": [],
      "source": [
        "# Symbolic environment\n",
        "from sympy import *\n",
        "init_printing()\n",
        "a, b, c, d = symbols('a, b, c, d')\n",
        "x, y, z, w = symbols('x, y, z, w')\n",
        "r, s, t, u, v = symbols('r, s, t, u, v')\n",
        "k, m, n = symbols('k m n', integer=True)\n",
        "f, g, h = symbols('f g h', cls=Function)\n",
        "\n",
        "# Graph\n",
        "# Configure the plot style\n",
        "from seaborn import set_style as sns_plotstyle\n",
        "sns_plotstyle({\n",
        "  'figure.facecolor': '#333',\n",
        "  'axes.facecolor': '#333',\n",
        "  'axes.edgecolor': '.75',\n",
        "  'axes.labelcolor': '.75',\n",
        "  'axes.grid': True,\n",
        "  'grid.color':'.75',\n",
        "  'grid.linestyle':':',\n",
        "  'xtick.color': '.75',\n",
        "  'ytick.color': '.75',\n",
        "  'text.color': '.75'\n",
        "})\n",
        "%matplotlib inline"
      ]
    },
    {
      "cell_type": "markdown",
      "source": [
        "## Entering Input"
      ],
      "metadata": {
        "id": "XxRkyr2R6nmF"
      }
    },
    {
      "cell_type": "code",
      "source": [
        "# To enter input, just type an expression and press [Shift][Enter]:\n",
        "2 + 2"
      ],
      "metadata": {
        "colab": {
          "base_uri": "https://localhost:8080/",
          "height": 38
        },
        "id": "-mS2asst4gcz",
        "outputId": "97983e49-e47b-49e8-b8d7-605c946f7a24"
      },
      "execution_count": null,
      "outputs": [
        {
          "output_type": "execute_result",
          "data": {
            "text/plain": [
              "4"
            ],
            "text/latex": "$\\displaystyle 4$"
          },
          "metadata": {},
          "execution_count": 2
        }
      ]
    },
    {
      "cell_type": "code",
      "source": [
        "# SymPy will automatically label successive inputs and outputs:\n",
        "1 + 2 + 3"
      ],
      "metadata": {
        "colab": {
          "base_uri": "https://localhost:8080/",
          "height": 38
        },
        "id": "RoxI1orw46UT",
        "outputId": "c40616f9-74fc-4cde-d290-ef5e0dd95946"
      },
      "execution_count": null,
      "outputs": [
        {
          "output_type": "execute_result",
          "data": {
            "text/plain": [
              "6"
            ],
            "text/latex": "$\\displaystyle 6$"
          },
          "metadata": {},
          "execution_count": 3
        }
      ]
    },
    {
      "cell_type": "code",
      "source": [
        "# Refer to the most recent output by using the underscore character (_):\n",
        "_ + 4"
      ],
      "metadata": {
        "colab": {
          "base_uri": "https://localhost:8080/",
          "height": 38
        },
        "id": "pVXfQCwx7EWv",
        "outputId": "ab43327c-6994-4f0c-b9e1-f1ecdaee3839"
      },
      "execution_count": null,
      "outputs": [
        {
          "output_type": "execute_result",
          "data": {
            "text/plain": [
              "10"
            ],
            "text/latex": "$\\displaystyle 10$"
          },
          "metadata": {},
          "execution_count": 4
        }
      ]
    },
    {
      "cell_type": "code",
      "source": [
        "# Standard symbols work for mathematical operations:\n",
        "5 + 2 * 3 - 7.5"
      ],
      "metadata": {
        "colab": {
          "base_uri": "https://localhost:8080/",
          "height": 38
        },
        "id": "zZGnEBRR7GP_",
        "outputId": "171d5116-80a9-4df4-d240-536082c05ef9"
      },
      "execution_count": null,
      "outputs": [
        {
          "output_type": "execute_result",
          "data": {
            "text/plain": [
              "3.5"
            ],
            "text/latex": "$\\displaystyle 3.5$"
          },
          "metadata": {},
          "execution_count": 5
        }
      ]
    },
    {
      "cell_type": "code",
      "source": [
        "# Levels of grouping:\n",
        "((5 - 3)**(1 + 2))/4"
      ],
      "metadata": {
        "colab": {
          "base_uri": "https://localhost:8080/",
          "height": 38
        },
        "id": "MPQCdFnj77Vo",
        "outputId": "9f1f1019-9dd3-46be-b0cb-7dd96846ffee"
      },
      "execution_count": null,
      "outputs": [
        {
          "output_type": "execute_result",
          "data": {
            "text/plain": [
              "2.0"
            ],
            "text/latex": "$\\displaystyle 2.0$"
          },
          "metadata": {},
          "execution_count": 6
        }
      ]
    },
    {
      "cell_type": "code",
      "source": [
        "# SymPy has a wide range of built-in functions:\n",
        "gcd(12, 15)"
      ],
      "metadata": {
        "colab": {
          "base_uri": "https://localhost:8080/",
          "height": 38
        },
        "id": "r7LNr1238HeQ",
        "outputId": "881daa2f-9e5e-4645-de5e-7ac3fd8b587a"
      },
      "execution_count": null,
      "outputs": [
        {
          "output_type": "execute_result",
          "data": {
            "text/plain": [
              "3"
            ],
            "text/latex": "$\\displaystyle 3$"
          },
          "metadata": {},
          "execution_count": 7
        }
      ]
    },
    {
      "cell_type": "code",
      "source": [
        "# You can make simple plots using the plot() function:\n",
        "plot(sin(x), (x, -10, 10));"
      ],
      "metadata": {
        "colab": {
          "base_uri": "https://localhost:8080/",
          "height": 487
        },
        "id": "Wfn-8BHJ8oyp",
        "outputId": "12a1043f-fc4f-42ab-e8e0-7ec0de9b99c9"
      },
      "execution_count": null,
      "outputs": [
        {
          "output_type": "display_data",
          "data": {
            "text/plain": [
              "<Figure size 640x480 with 1 Axes>"
            ],
            "image/png": "[encoded data removed]"
          },
          "metadata": {}
        }
      ]
    },
    {
      "cell_type": "code",
      "source": [
        "# Lists represent collections of items:\n",
        "{ 1, 4, 3, 5}"
      ],
      "metadata": {
        "colab": {
          "base_uri": "https://localhost:8080/",
          "height": 38
        },
        "id": "wKmAfglj83HZ",
        "outputId": "4b3a407b-6f9c-4dad-d453-623562e61cb4"
      },
      "execution_count": null,
      "outputs": [
        {
          "output_type": "execute_result",
          "data": {
            "text/plain": [
              "{1, 3, 4, 5}"
            ],
            "text/latex": "$\\displaystyle \\left\\{1, 3, 4, 5\\right\\}$"
          },
          "metadata": {},
          "execution_count": 9
        }
      ]
    },
    {
      "cell_type": "code",
      "source": [
        "# Lists can contain numbers, variables, computations, or even other lists:\n",
        "[1 , 2, x, y, z, f(x), {a, b, c}]"
      ],
      "metadata": {
        "colab": {
          "base_uri": "https://localhost:8080/",
          "height": 38
        },
        "id": "84YsfT_j9lTC",
        "outputId": "6b6b3b2a-3db3-41c3-a1d7-0a514452d380"
      },
      "execution_count": null,
      "outputs": [
        {
          "output_type": "execute_result",
          "data": {
            "text/plain": [
              "[1, 2, x, y, z, f(x), {a, b, c}]"
            ],
            "text/latex": "$\\displaystyle \\left[ 1, \\  2, \\  x, \\  y, \\  z, \\  f{\\left(x \\right)}, \\  \\left\\{a, b, c\\right\\}\\right]$"
          },
          "metadata": {},
          "execution_count": 10
        }
      ]
    },
    {
      "cell_type": "code",
      "source": [
        "# Many operations are applied elementwise to lists:\n",
        "[n + 2 for n in {1, 2, 3}]"
      ],
      "metadata": {
        "colab": {
          "base_uri": "https://localhost:8080/",
          "height": 38
        },
        "id": "TUsMcfxJ9tyy",
        "outputId": "d936fb1a-96e0-4ad1-aec4-ebe4d5ad686f"
      },
      "execution_count": null,
      "outputs": [
        {
          "output_type": "execute_result",
          "data": {
            "text/plain": [
              "[3, 4, 5]"
            ],
            "text/latex": "$\\displaystyle \\left[ 3, \\  4, \\  5\\right]$"
          },
          "metadata": {},
          "execution_count": 11
        }
      ]
    },
    {
      "cell_type": "code",
      "source": [
        "# Parts of lists can be extracted:\n",
        "[a, b, c][0]"
      ],
      "metadata": {
        "colab": {
          "base_uri": "https://localhost:8080/",
          "height": 38
        },
        "id": "UYVEVipS-kMz",
        "outputId": "fc4d938c-02ff-4d5a-9176-7f5ecc8bba0e"
      },
      "execution_count": null,
      "outputs": [
        {
          "output_type": "execute_result",
          "data": {
            "text/plain": [
              "a"
            ],
            "text/latex": "$\\displaystyle a$"
          },
          "metadata": {},
          "execution_count": 12
        }
      ]
    },
    {
      "cell_type": "code",
      "source": [
        "# You can easily construct lists with functions like Range():\n",
        "[n**2 for n in Range(5)]"
      ],
      "metadata": {
        "colab": {
          "base_uri": "https://localhost:8080/",
          "height": 38
        },
        "id": "D2L2b9Xk_m0z",
        "outputId": "80d9f45d-2fb0-41f4-d04a-56c6d4160711"
      },
      "execution_count": null,
      "outputs": [
        {
          "output_type": "execute_result",
          "data": {
            "text/plain": [
              "[0, 1, 4, 9, 16]"
            ],
            "text/latex": "$\\displaystyle \\left[ 0, \\  1, \\  4, \\  9, \\  16\\right]$"
          },
          "metadata": {},
          "execution_count": 13
        }
      ]
    },
    {
      "cell_type": "markdown",
      "source": [
        "## Fractions & Decimals"
      ],
      "metadata": {
        "id": "mT1xpdHsBkaS"
      }
    },
    {
      "cell_type": "code",
      "source": [
        "# Numerical fractions will provide simplified output:\n",
        "1/4 + 1/3"
      ],
      "metadata": {
        "colab": {
          "base_uri": "https://localhost:8080/",
          "height": 38
        },
        "id": "-L7i-f02CEgS",
        "outputId": "c4e03425-a35f-4ab3-eecb-98c47637a752"
      },
      "execution_count": null,
      "outputs": [
        {
          "output_type": "execute_result",
          "data": {
            "text/plain": [
              "0.5833333333333333"
            ],
            "text/latex": "$\\displaystyle 0.583333333333333$"
          },
          "metadata": {},
          "execution_count": 14
        }
      ]
    },
    {
      "cell_type": "code",
      "source": [
        "# Symbolic fractions will provide exact output:\n",
        "1/a + 1/b"
      ],
      "metadata": {
        "colab": {
          "base_uri": "https://localhost:8080/",
          "height": 51
        },
        "id": "gPZCgbA1Cb48",
        "outputId": "8debeecb-70ee-4110-f17e-a631415bb232"
      },
      "execution_count": null,
      "outputs": [
        {
          "output_type": "execute_result",
          "data": {
            "text/plain": [
              "1   1\n",
              "─ + ─\n",
              "b   a"
            ],
            "text/latex": "$\\displaystyle \\frac{1}{b} + \\frac{1}{a}$"
          },
          "metadata": {},
          "execution_count": 15
        }
      ]
    },
    {
      "cell_type": "code",
      "source": [
        "# You can use the Rational() function to get a numerical exact output:\n",
        "Rational(1, 4) + Rational(1, 3)"
      ],
      "metadata": {
        "colab": {
          "base_uri": "https://localhost:8080/",
          "height": 51
        },
        "id": "sTSV9SXZBpvI",
        "outputId": "5791a902-5185-479a-c619-2ca811f2b751"
      },
      "execution_count": null,
      "outputs": [
        {
          "output_type": "execute_result",
          "data": {
            "text/plain": [
              "7/12"
            ],
            "text/latex": "$\\displaystyle \\frac{7}{12}$"
          },
          "metadata": {},
          "execution_count": 16
        }
      ]
    },
    {
      "cell_type": "code",
      "source": [
        "# Put fractions over their lowest common denominator:\n",
        "together(1/a+1/b)"
      ],
      "metadata": {
        "colab": {
          "base_uri": "https://localhost:8080/",
          "height": 52
        },
        "id": "_Oc8FBfbB3BM",
        "outputId": "c3939ff1-0155-4ef1-a56c-680411351cb4"
      },
      "execution_count": null,
      "outputs": [
        {
          "output_type": "execute_result",
          "data": {
            "text/plain": [
              "a + b\n",
              "─────\n",
              " a⋅b "
            ],
            "text/latex": "$\\displaystyle \\frac{a + b}{a b}$"
          },
          "metadata": {},
          "execution_count": 17
        }
      ]
    },
    {
      "cell_type": "code",
      "source": [
        "# Any input containing decimals gives approximate output:\n",
        ".25 + Rational(1, 3)"
      ],
      "metadata": {
        "colab": {
          "base_uri": "https://localhost:8080/",
          "height": 38
        },
        "id": "4kf5jGUADQdH",
        "outputId": "c330444b-4f6f-4011-d594-ea2a92897740"
      },
      "execution_count": null,
      "outputs": [
        {
          "output_type": "execute_result",
          "data": {
            "text/plain": [
              "0.583333333333333"
            ],
            "text/latex": "$\\displaystyle 0.583333333333333$"
          },
          "metadata": {},
          "execution_count": 18
        }
      ]
    },
    {
      "cell_type": "code",
      "source": [
        "# Use the N() function to get a numerical approximation of a result:\n",
        "N(1/4 + 1/7)"
      ],
      "metadata": {
        "colab": {
          "base_uri": "https://localhost:8080/",
          "height": 38
        },
        "id": "3v2XQsZDDkru",
        "outputId": "40607ab6-f03c-4478-dfee-8eddda5d4d38"
      },
      "execution_count": null,
      "outputs": [
        {
          "output_type": "execute_result",
          "data": {
            "text/plain": [
              "0.392857142857143"
            ],
            "text/latex": "$\\displaystyle 0.392857142857143$"
          },
          "metadata": {},
          "execution_count": 19
        }
      ]
    },
    {
      "cell_type": "code",
      "source": [
        "# You can specify the accuracy to which your answer is displayed:\n",
        "N(1/4 + 1/7, 3)"
      ],
      "metadata": {
        "colab": {
          "base_uri": "https://localhost:8080/",
          "height": 38
        },
        "id": "1VLpGqDwDvGm",
        "outputId": "22b63c09-f298-4244-f83c-884c9fefcdfe"
      },
      "execution_count": null,
      "outputs": [
        {
          "output_type": "execute_result",
          "data": {
            "text/plain": [
              "0.393"
            ],
            "text/latex": "$\\displaystyle 0.393$"
          },
          "metadata": {},
          "execution_count": 20
        }
      ]
    },
    {
      "cell_type": "code",
      "source": [
        "# Some numbers are better expressed in ScientificForm:\n",
        "1.23e-3"
      ],
      "metadata": {
        "colab": {
          "base_uri": "https://localhost:8080/",
          "height": 38
        },
        "id": "wZ4RZpTND0fe",
        "outputId": "f488068a-daf2-4809-9ba6-5040996e2c59"
      },
      "execution_count": null,
      "outputs": [
        {
          "output_type": "execute_result",
          "data": {
            "text/plain": [
              "0.00123"
            ],
            "text/latex": "$\\displaystyle 0.00123$"
          },
          "metadata": {},
          "execution_count": 21
        }
      ]
    },
    {
      "cell_type": "code",
      "source": [
        "# ScientificForm is applied automatically when appropriate:\n",
        "N(factorial(100))"
      ],
      "metadata": {
        "colab": {
          "base_uri": "https://localhost:8080/",
          "height": 38
        },
        "id": "e7wBRkzgD8An",
        "outputId": "54553a6c-b52e-4765-f5b5-072572843644"
      },
      "execution_count": null,
      "outputs": [
        {
          "output_type": "execute_result",
          "data": {
            "text/plain": [
              "9.33262154439442e+157"
            ],
            "text/latex": "$\\displaystyle 9.33262154439442 \\cdot 10^{157}$"
          },
          "metadata": {},
          "execution_count": 22
        }
      ]
    }
  ]
}