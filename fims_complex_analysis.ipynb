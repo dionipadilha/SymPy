{
  "nbformat": 4,
  "nbformat_minor": 0,
  "metadata": {
    "colab": {
      "provenance": [],
      "authorship_tag": "ABX9TyPX3Owj2qIWX9CozxHaWddo",
      "include_colab_link": true
    },
    "kernelspec": {
      "name": "python3",
      "display_name": "Python 3"
    },
    "language_info": {
      "name": "python"
    }
  },
  "cells": [
    {
      "cell_type": "markdown",
      "metadata": {
        "id": "view-in-github",
        "colab_type": "text"
      },
      "source": [
        "<a href=\"https://colab.research.google.com/github/dionipadilha/sympy/blob/main/fims_complex_analysis.ipynb\" target=\"_parent\"><img src=\"https://colab.research.google.com/assets/colab-badge.svg\" alt=\"Open In Colab\"/></a>"
      ]
    },
    {
      "cell_type": "code",
      "execution_count": 1,
      "metadata": {
        "id": "UtLsG94B3jZL"
      },
      "outputs": [],
      "source": [
        "# symbolic environment\n",
        "from sympy import *\n",
        "a, b, c, d = symbols('a, b, c, d')\n",
        "x, y, z = symbols('x, y, z')\n",
        "r, s, t = symbols('r, s, t ')\n",
        "k, m, n = symbols('k, m, n', integer=True)\n",
        "f, g, h = symbols('f, g, h', cls=Function)\n",
        "init_printing()"
      ]
    },
    {
      "cell_type": "code",
      "source": [
        "# the imaginary unit:\n",
        "I**2"
      ],
      "metadata": {
        "colab": {
          "base_uri": "https://localhost:8080/",
          "height": 37
        },
        "id": "JtIAFqr13kcX",
        "outputId": "7b2c597f-d991-495f-e405-cb92cf83a584"
      },
      "execution_count": 2,
      "outputs": [
        {
          "output_type": "execute_result",
          "data": {
            "text/plain": [
              "-1"
            ],
            "text/latex": "$\\displaystyle -1$"
          },
          "metadata": {},
          "execution_count": 2
        }
      ]
    },
    {
      "cell_type": "code",
      "source": [
        "# handle complex numbers:\n",
        "simplify((1+I)*(2-3*I))"
      ],
      "metadata": {
        "colab": {
          "base_uri": "https://localhost:8080/",
          "height": 38
        },
        "id": "iZqLg93O37Co",
        "outputId": "780bdea5-b1e8-4d85-c93d-e62f4711aea8"
      },
      "execution_count": 3,
      "outputs": [
        {
          "output_type": "execute_result",
          "data": {
            "text/plain": [
              "5 - ⅈ"
            ],
            "text/latex": "$\\displaystyle 5 - i$"
          },
          "metadata": {},
          "execution_count": 3
        }
      ]
    },
    {
      "cell_type": "code",
      "source": [
        "# expand complex expressions:\n",
        "expand_trig(sin(x + y*I))"
      ],
      "metadata": {
        "colab": {
          "base_uri": "https://localhost:8080/",
          "height": 38
        },
        "id": "EjVcef2G4Ezf",
        "outputId": "18908525-20c3-4d6a-c36f-bea5a28fd4e1"
      },
      "execution_count": 4,
      "outputs": [
        {
          "output_type": "execute_result",
          "data": {
            "text/plain": [
              "sin(x)⋅cosh(y) + ⅈ⋅cos(x)⋅sinh(y)"
            ],
            "text/latex": "$\\displaystyle \\sin{\\left(x \\right)} \\cosh{\\left(y \\right)} + i \\cos{\\left(x \\right)} \\sinh{\\left(y \\right)}$"
          },
          "metadata": {},
          "execution_count": 4
        }
      ]
    },
    {
      "cell_type": "code",
      "source": [
        "# convert expressions between exponential and trig forms:\n",
        "exp(I*x).rewrite(sin)"
      ],
      "metadata": {
        "colab": {
          "base_uri": "https://localhost:8080/",
          "height": 38
        },
        "id": "LtZG4xaK4yHS",
        "outputId": "55404589-9e7f-45c7-971e-c83161da31f4"
      },
      "execution_count": 5,
      "outputs": [
        {
          "output_type": "execute_result",
          "data": {
            "text/plain": [
              "ⅈ⋅sin(x) + cos(x)"
            ],
            "text/latex": "$\\displaystyle i \\sin{\\left(x \\right)} + \\cos{\\left(x \\right)}$"
          },
          "metadata": {},
          "execution_count": 5
        }
      ]
    },
    {
      "cell_type": "code",
      "source": [
        "# convert expressions between exponential and trig forms:\n",
        "(cos(x)+I*sin(x)).rewrite(exp)"
      ],
      "metadata": {
        "colab": {
          "base_uri": "https://localhost:8080/",
          "height": 38
        },
        "id": "t17HSbwV64B1",
        "outputId": "2c36f27b-3d61-47c1-af55-9a9b5e785107"
      },
      "execution_count": 6,
      "outputs": [
        {
          "output_type": "execute_result",
          "data": {
            "text/plain": [
              " ⅈ⋅x\n",
              "ℯ   "
            ],
            "text/latex": "$\\displaystyle e^{i x}$"
          },
          "metadata": {},
          "execution_count": 6
        }
      ]
    },
    {
      "cell_type": "code",
      "source": [
        "# Extract the real part of an expression:\n",
        "re(3 + 4*I)"
      ],
      "metadata": {
        "colab": {
          "base_uri": "https://localhost:8080/",
          "height": 37
        },
        "id": "22JTe22bEElp",
        "outputId": "0f97cdbe-402a-471a-b011-30c617c58f0d"
      },
      "execution_count": 7,
      "outputs": [
        {
          "output_type": "execute_result",
          "data": {
            "text/plain": [
              "3"
            ],
            "text/latex": "$\\displaystyle 3$"
          },
          "metadata": {},
          "execution_count": 7
        }
      ]
    },
    {
      "cell_type": "code",
      "source": [
        "# Extract the imaginary part of an expression:\n",
        "im(3 + 4*I)"
      ],
      "metadata": {
        "colab": {
          "base_uri": "https://localhost:8080/",
          "height": 37
        },
        "id": "Iy_bu9n2Ekxo",
        "outputId": "cd38f886-f1b3-415f-b50b-b0ba4bf126e1"
      },
      "execution_count": 8,
      "outputs": [
        {
          "output_type": "execute_result",
          "data": {
            "text/plain": [
              "4"
            ],
            "text/latex": "$\\displaystyle 4$"
          },
          "metadata": {},
          "execution_count": 8
        }
      ]
    },
    {
      "cell_type": "code",
      "source": [
        "# find the conjugate:\n",
        "conjugate(3 + 4*I)"
      ],
      "metadata": {
        "colab": {
          "base_uri": "https://localhost:8080/",
          "height": 38
        },
        "id": "TDyrYJG0DySy",
        "outputId": "f26c67d0-770f-45fb-d990-4b37aeed7ff8"
      },
      "execution_count": 9,
      "outputs": [
        {
          "output_type": "execute_result",
          "data": {
            "text/plain": [
              "3 - 4⋅ⅈ"
            ],
            "text/latex": "$\\displaystyle 3 - 4 i$"
          },
          "metadata": {},
          "execution_count": 9
        }
      ]
    },
    {
      "cell_type": "code",
      "source": [
        "# find the absolute value:\n",
        "Abs(3 + 4*I)"
      ],
      "metadata": {
        "colab": {
          "base_uri": "https://localhost:8080/",
          "height": 37
        },
        "id": "4r7LNiAJFSIs",
        "outputId": "d616e8df-942c-4c65-e45b-64993691051d"
      },
      "execution_count": 10,
      "outputs": [
        {
          "output_type": "execute_result",
          "data": {
            "text/plain": [
              "5"
            ],
            "text/latex": "$\\displaystyle 5$"
          },
          "metadata": {},
          "execution_count": 10
        }
      ]
    },
    {
      "cell_type": "code",
      "source": [
        "# find the argument:\n",
        "arg(3 + 4*I)"
      ],
      "metadata": {
        "colab": {
          "base_uri": "https://localhost:8080/",
          "height": 58
        },
        "id": "oRKOAtAeJ8KR",
        "outputId": "e21fc52b-e822-421c-b4ad-c146854ee44c"
      },
      "execution_count": 11,
      "outputs": [
        {
          "output_type": "execute_result",
          "data": {
            "text/plain": [
              "atan(4/3)"
            ],
            "text/latex": "$\\displaystyle \\operatorname{atan}{\\left(\\frac{4}{3} \\right)}$"
          },
          "metadata": {},
          "execution_count": 11
        }
      ]
    }
  ]
}