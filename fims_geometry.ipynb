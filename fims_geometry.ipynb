{
  "nbformat": 4,
  "nbformat_minor": 0,
  "metadata": {
    "colab": {
      "provenance": [],
      "include_colab_link": true
    },
    "kernelspec": {
      "name": "python3",
      "display_name": "Python 3"
    },
    "language_info": {
      "name": "python"
    }
  },
  "cells": [
    {
      "cell_type": "markdown",
      "metadata": {
        "id": "view-in-github",
        "colab_type": "text"
      },
      "source": [
        "<a href=\"https://colab.research.google.com/github/dionipadilha/sympy/blob/main/fims_geometry.ipynb\" target=\"_parent\"><img src=\"https://colab.research.google.com/assets/colab-badge.svg\" alt=\"Open In Colab\"/></a>"
      ]
    },
    {
      "cell_type": "markdown",
      "source": [
        "# Geometry"
      ],
      "metadata": {
        "id": "HMBCLTg1vaMR"
      }
    },
    {
      "cell_type": "code",
      "source": [
        "# symbolic environment\n",
        "from sympy import *\n",
        "a, b, c, d = symbols('a, b, c, d')\n",
        "x, y, z = symbols('x, y, z')\n",
        "r, s, t = symbols('r, s, t ')\n",
        "k, m, n = symbols('k, m, n', integer=True)\n",
        "f, g, h = symbols('f, g, h', cls=Function)\n",
        "init_printing()"
      ],
      "metadata": {
        "id": "i0B4fLPN13B5"
      },
      "execution_count": 1,
      "outputs": []
    },
    {
      "cell_type": "code",
      "source": [
        "# geometry primitive object:\n",
        "point = Point(0, 1)"
      ],
      "metadata": {
        "id": "KYUlto_EZcaz"
      },
      "execution_count": 2,
      "outputs": []
    },
    {
      "cell_type": "code",
      "source": [
        "# one-dimensional objects:\n",
        "p1, p2 = Point(0, 1), Point(3, 0)\n",
        "line = Line(p1, p2)"
      ],
      "metadata": {
        "id": "5FRnvo96uGoJ"
      },
      "execution_count": 3,
      "outputs": []
    },
    {
      "cell_type": "code",
      "source": [
        "# angle between two lines:\n",
        "p1, p2, p3 = Point(0, 0), Point(1, 0), Point(1, 1)\n",
        "line_1 = Line(p1, p2)\n",
        "line_2 = Line(p1, p3)\n",
        "line_1.angle_between(line_2)"
      ],
      "metadata": {
        "colab": {
          "base_uri": "https://localhost:8080/",
          "height": 47
        },
        "id": "gdHJary9yHSC",
        "outputId": "ca4e3749-57df-4d71-e13e-b82614c82828"
      },
      "execution_count": 4,
      "outputs": [
        {
          "output_type": "execute_result",
          "data": {
            "text/plain": [
              "π\n",
              "─\n",
              "4"
            ],
            "text/latex": "$\\displaystyle \\frac{\\pi}{4}$"
          },
          "metadata": {},
          "execution_count": 4
        }
      ]
    },
    {
      "cell_type": "code",
      "source": [
        "# two-dimensional regions:\n",
        "p1, p2, p3 = Point(0, 0), Point(3, 0), Point(0, 4)\n",
        "triangle = Triangle(p1, p2, p3)\n",
        "circle = Circle(p1, 1)\n",
        "ellipse = Ellipse(p1, 1, 1)\n",
        "square = RegularPolygon(p1, 1, 4)"
      ],
      "metadata": {
        "id": "NoCSsoWUZK93"
      },
      "execution_count": 5,
      "outputs": []
    },
    {
      "cell_type": "code",
      "source": [
        "# gives the area of the two-dimensional regions:\n",
        "[reg.area for reg in [triangle, circle, ellipse, square]]"
      ],
      "metadata": {
        "colab": {
          "base_uri": "https://localhost:8080/",
          "height": 38
        },
        "id": "eFShT0ryv3dM",
        "outputId": "baf3be3c-3bc5-4ef5-e0b9-6c7db1156bb4"
      },
      "execution_count": 6,
      "outputs": [
        {
          "output_type": "execute_result",
          "data": {
            "text/plain": [
              "[6, π, π, 2]"
            ],
            "text/latex": "$\\displaystyle \\left[ 6, \\  \\pi, \\  \\pi, \\  2\\right]$"
          },
          "metadata": {},
          "execution_count": 6
        }
      ]
    },
    {
      "cell_type": "code",
      "source": [
        "# gives the eccentricity of a ellipse:\n",
        "p1 = Point(0, 0)\n",
        "ellipse = Ellipse(p1, 5, 1)\n",
        "ellipse.eccentricity"
      ],
      "metadata": {
        "colab": {
          "base_uri": "https://localhost:8080/",
          "height": 55
        },
        "id": "iMn2de-Wy9MC",
        "outputId": "5d328b5c-d851-49d5-ba75-140ecb9946ad"
      },
      "execution_count": 7,
      "outputs": [
        {
          "output_type": "execute_result",
          "data": {
            "text/plain": [
              "2⋅√6\n",
              "────\n",
              " 5  "
            ],
            "text/latex": "$\\displaystyle \\frac{2 \\sqrt{6}}{5}$"
          },
          "metadata": {},
          "execution_count": 7
        }
      ]
    }
  ]
}