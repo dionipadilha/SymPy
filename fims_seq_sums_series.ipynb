{
  "nbformat": 4,
  "nbformat_minor": 0,
  "metadata": {
    "colab": {
      "provenance": [],
      "authorship_tag": "ABX9TyO47OgkTVcSirolhiv14adu",
      "include_colab_link": true
    },
    "kernelspec": {
      "name": "python3",
      "display_name": "Python 3"
    },
    "language_info": {
      "name": "python"
    }
  },
  "cells": [
    {
      "cell_type": "markdown",
      "metadata": {
        "id": "view-in-github",
        "colab_type": "text"
      },
      "source": [
        "<a href=\"https://colab.research.google.com/github/dionipadilha/sympy/blob/main/fims_seq_sums_series.ipynb\" target=\"_parent\"><img src=\"https://colab.research.google.com/assets/colab-badge.svg\" alt=\"Open In Colab\"/></a>"
      ]
    },
    {
      "cell_type": "markdown",
      "source": [
        "# Sequences, Sums & Series"
      ],
      "metadata": {
        "id": "lV7bLtZ1LtrO"
      }
    },
    {
      "cell_type": "code",
      "execution_count": 1,
      "metadata": {
        "id": "CHrniCvKLibb"
      },
      "outputs": [],
      "source": [
        "# symbolic environment\n",
        "from sympy import *\n",
        "a, b, c, d = symbols('a, b, c, d')\n",
        "x, y, z = symbols('x, y, z')\n",
        "r, s, t = symbols('r, s, t ')\n",
        "k, m, n = symbols('k, m, n', integer=True)\n",
        "f, g, h = symbols('f, g, h', cls=Function)\n",
        "init_printing()"
      ]
    },
    {
      "cell_type": "code",
      "source": [
        "# define a simple sequence:\n",
        "sequence(n**2, (n, 1, 7))"
      ],
      "metadata": {
        "colab": {
          "base_uri": "https://localhost:8080/",
          "height": 37
        },
        "id": "_Mibxa-_L44Q",
        "outputId": "d5ee8828-d084-40c2-bbfa-9aff4e38c49b"
      },
      "execution_count": 2,
      "outputs": [
        {
          "output_type": "execute_result",
          "data": {
            "text/plain": [
              "[1, 4, 9, 16, …]"
            ],
            "text/latex": "$\\displaystyle \\left[1, 4, 9, 16, \\ldots\\right]$"
          },
          "metadata": {},
          "execution_count": 2
        }
      ]
    },
    {
      "cell_type": "code",
      "source": [
        "# built-in sequences:\n",
        "sequence(fibonacci(n), (n, 1, 7))"
      ],
      "metadata": {
        "colab": {
          "base_uri": "https://localhost:8080/",
          "height": 37
        },
        "id": "ZNoQ-Fc5MG62",
        "outputId": "6e4e7447-183b-49e8-c922-01043b77158d"
      },
      "execution_count": 3,
      "outputs": [
        {
          "output_type": "execute_result",
          "data": {
            "text/plain": [
              "[1, 1, 2, 3, …]"
            ],
            "text/latex": "$\\displaystyle \\left[1, 1, 2, 3, \\ldots\\right]$"
          },
          "metadata": {},
          "execution_count": 3
        }
      ]
    },
    {
      "cell_type": "code",
      "source": [
        "# define a recursive sequence:\n",
        "from sympy.series.sequences import RecursiveSeq\n",
        "n = symbols(\"n\")\n",
        "fib = RecursiveSeq(f(n - 1) + f(n - 2), f(n), n, [0, 1])\n",
        "fib[1:8]"
      ],
      "metadata": {
        "colab": {
          "base_uri": "https://localhost:8080/",
          "height": 37
        },
        "id": "oaeV2nzzMgCO",
        "outputId": "2be3e487-76fa-4aba-bbeb-4c4d786e8338"
      },
      "execution_count": 4,
      "outputs": [
        {
          "output_type": "execute_result",
          "data": {
            "text/plain": [
              "[1, 1, 2, 3, 5, 8, 13]"
            ],
            "text/latex": "$\\displaystyle \\left[ 1, \\  1, \\  2, \\  3, \\  5, \\  8, \\  13\\right]$"
          },
          "metadata": {},
          "execution_count": 4
        }
      ]
    },
    {
      "cell_type": "code",
      "source": [
        "# generating function from sum of a sequence:\n",
        "Sum(n*(n + 1), (n, 1, 10))"
      ],
      "metadata": {
        "colab": {
          "base_uri": "https://localhost:8080/",
          "height": 69
        },
        "id": "uy4ZgiBEXiw3",
        "outputId": "9fbc18a1-0a5a-4397-9bdb-3d17bfbd269b"
      },
      "execution_count": 5,
      "outputs": [
        {
          "output_type": "execute_result",
          "data": {
            "text/plain": [
              "  10           \n",
              " ___           \n",
              " ╲             \n",
              "  ╲            \n",
              "  ╱   n⋅(n + 1)\n",
              " ╱             \n",
              " ‾‾‾           \n",
              "n = 1          "
            ],
            "text/latex": "$\\displaystyle \\sum_{n=1}^{10} n \\left(n + 1\\right)$"
          },
          "metadata": {},
          "execution_count": 5
        }
      ]
    },
    {
      "cell_type": "code",
      "source": [
        "# compute the total of the sequence:\n",
        "summation(n*(n + 1), (n, 1, 10))"
      ],
      "metadata": {
        "colab": {
          "base_uri": "https://localhost:8080/",
          "height": 37
        },
        "id": "rB08WNCYOuCq",
        "outputId": "028f7c4f-2a1a-4cea-9be9-1cfbfc4538ad"
      },
      "execution_count": 6,
      "outputs": [
        {
          "output_type": "execute_result",
          "data": {
            "text/plain": [
              "440"
            ],
            "text/latex": "$\\displaystyle 440$"
          },
          "metadata": {},
          "execution_count": 6
        }
      ]
    },
    {
      "cell_type": "code",
      "source": [
        "# do indefinite and multiple sums:\n",
        "simplify(summation(x, (x, 1, n)) * summation(y, (y, 1, n)))"
      ],
      "metadata": {
        "colab": {
          "base_uri": "https://localhost:8080/",
          "height": 56
        },
        "id": "3AbSOqrFbN2b",
        "outputId": "43fe2f01-0b1c-421d-9791-7b33ab1060e7"
      },
      "execution_count": 7,
      "outputs": [
        {
          "output_type": "execute_result",
          "data": {
            "text/plain": [
              " 2        2\n",
              "n ⋅(n + 1) \n",
              "───────────\n",
              "     4     "
            ],
            "text/latex": "$\\displaystyle \\frac{n^{2} \\left(n + 1\\right)^{2}}{4}$"
          },
          "metadata": {},
          "execution_count": 7
        }
      ]
    },
    {
      "cell_type": "code",
      "source": [
        "# calculate a generating function for a sequence:\n",
        "# FindSequenceFunction([2,4,6,8,...], n)\n",
        "#--> 2n"
      ],
      "metadata": {
        "id": "h4ufaO4BcMBH"
      },
      "execution_count": 8,
      "outputs": []
    },
    {
      "cell_type": "code",
      "source": [
        "# generate power series approximations:\n",
        "series(exp(x**2), x, 0, 9)"
      ],
      "metadata": {
        "colab": {
          "base_uri": "https://localhost:8080/",
          "height": 54
        },
        "id": "x5EVXtR7kJkB",
        "outputId": "d9fe5f11-13bf-46d1-c0ea-67bd682f2814"
      },
      "execution_count": 9,
      "outputs": [
        {
          "output_type": "execute_result",
          "data": {
            "text/plain": [
              "          4    6    8        \n",
              "     2   x    x    x     ⎛ 9⎞\n",
              "1 + x  + ── + ── + ── + O⎝x ⎠\n",
              "         2    6    24        "
            ],
            "text/latex": "$\\displaystyle 1 + x^{2} + \\frac{x^{4}}{2} + \\frac{x^{6}}{6} + \\frac{x^{8}}{24} + O\\left(x^{9}\\right)$"
          },
          "metadata": {},
          "execution_count": 9
        }
      ]
    },
    {
      "cell_type": "code",
      "source": [
        "# truncate this term:\n",
        "# series(exp(x**2), x, 0, 9).truncate()"
      ],
      "metadata": {
        "id": "86YxUl8kllSp"
      },
      "execution_count": 10,
      "outputs": []
    },
    {
      "cell_type": "code",
      "source": [
        "# returns a power series in terms of derivatives:\n",
        "series(2*f(x)-3, x, 0, 4).evalf()"
      ],
      "metadata": {
        "colab": {
          "base_uri": "https://localhost:8080/",
          "height": 62
        },
        "id": "op94XFwmnCZO",
        "outputId": "0fb9ec85-eb45-4395-855a-70073f449143"
      },
      "execution_count": 11,
      "outputs": [
        {
          "output_type": "execute_result",
          "data": {
            "text/plain": [
              "                                            ⎛  2      ⎞│                      \n",
              "                        ⎛d       ⎞│       2 ⎜ d       ⎟│                      \n",
              "-3.0 + 2.0⋅f(0) + 2.0⋅x⋅⎜──(f(ξ))⎟│    + x ⋅⎜───(f(ξ))⎟│    + 0.33333333333333\n",
              "                        ⎝dξ      ⎠│ξ=0      ⎜  2      ⎟│                      \n",
              "                                            ⎝dξ       ⎠│ξ=0                   \n",
              "\n",
              "     ⎛  3      ⎞│           \n",
              "   3 ⎜ d       ⎟│       ⎛ 4⎞\n",
              "3⋅x ⋅⎜───(f(ξ))⎟│    + O⎝x ⎠\n",
              "     ⎜  3      ⎟│           \n",
              "     ⎝dξ       ⎠│ξ=0        "
            ],
            "text/latex": "$\\displaystyle -3.0 + 2.0 f{\\left(0 \\right)} + 2.0 x \\left. \\frac{d}{d \\xi} f{\\left(\\xi \\right)} \\right|_{\\substack{ \\xi=0 }} + x^{2} \\left. \\frac{d^{2}}{d \\xi^{2}} f{\\left(\\xi \\right)} \\right|_{\\substack{ \\xi=0 }} + 0.333333333333333 x^{3} \\left. \\frac{d^{3}}{d \\xi^{3}} f{\\left(\\xi \\right)} \\right|_{\\substack{ \\xi=0 }} + O\\left(x^{4}\\right)$"
          },
          "metadata": {},
          "execution_count": 11
        }
      ]
    }
  ]
}