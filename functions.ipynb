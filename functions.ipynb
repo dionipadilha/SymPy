{
  "nbformat": 4,
  "nbformat_minor": 0,
  "metadata": {
    "colab": {
      "provenance": [],
      "authorship_tag": "ABX9TyNR7bFxZ30IswAOWOQ4sY/J",
      "include_colab_link": true
    },
    "kernelspec": {
      "name": "python3",
      "display_name": "Python 3"
    },
    "language_info": {
      "name": "python"
    }
  },
  "cells": [
    {
      "cell_type": "markdown",
      "metadata": {
        "id": "view-in-github",
        "colab_type": "text"
      },
      "source": [
        "<a href=\"https://colab.research.google.com/github/dionipadilha/SymPy/blob/main/functions.ipynb\" target=\"_parent\"><img src=\"https://colab.research.google.com/assets/colab-badge.svg\" alt=\"Open In Colab\"/></a>"
      ]
    },
    {
      "cell_type": "markdown",
      "source": [
        "# Sympy Functions"
      ],
      "metadata": {
        "id": "8To8RUMOGodS"
      }
    },
    {
      "cell_type": "code",
      "execution_count": null,
      "metadata": {
        "id": "ozakZ9Yu7XES"
      },
      "outputs": [],
      "source": [
        "from sympy import *\n",
        "init_printing()"
      ]
    },
    {
      "cell_type": "markdown",
      "source": [
        "## Undefined Functions"
      ],
      "metadata": {
        "id": "oasLKivPHVLi"
      }
    },
    {
      "cell_type": "code",
      "source": [
        "# Create an undefined functions\n",
        "x = Symbol('x')\n",
        "f = Function('f')\n",
        "g = Function('g')(x)"
      ],
      "metadata": {
        "id": "sSj4II4PGUhU"
      },
      "execution_count": null,
      "outputs": []
    },
    {
      "cell_type": "code",
      "source": [
        "# Manipulate the undefined functions\n",
        "[f(x), g]"
      ],
      "metadata": {
        "colab": {
          "base_uri": "https://localhost:8080/",
          "height": 38
        },
        "id": "pcqIADufHL3U",
        "outputId": "4f1994b3-9322-418d-b567-581f381725ea"
      },
      "execution_count": null,
      "outputs": [
        {
          "output_type": "execute_result",
          "data": {
            "text/plain": [
              "[f(x), g(x)]"
            ],
            "text/latex": "$\\displaystyle \\left[ f{\\left(x \\right)}, \\  g{\\left(x \\right)}\\right]$"
          },
          "metadata": {},
          "execution_count": 3
        }
      ]
    },
    {
      "cell_type": "code",
      "source": [
        "# Manipulate the undefined functions\n",
        "[f(x).diff(x), g.diff(x)]"
      ],
      "metadata": {
        "colab": {
          "base_uri": "https://localhost:8080/",
          "height": 58
        },
        "id": "0vbeKa3EHIR1",
        "outputId": "cf7865fa-93a4-449b-c312-b352e7382a05"
      },
      "execution_count": null,
      "outputs": [
        {
          "output_type": "execute_result",
          "data": {
            "text/plain": [
              "⎡d         d       ⎤\n",
              "⎢──(f(x)), ──(g(x))⎥\n",
              "⎣dx        dx      ⎦"
            ],
            "text/latex": "$\\displaystyle \\left[ \\frac{d}{d x} f{\\left(x \\right)}, \\  \\frac{d}{d x} g{\\left(x \\right)}\\right]$"
          },
          "metadata": {},
          "execution_count": 4
        }
      ]
    },
    {
      "cell_type": "code",
      "source": [
        "# Manipulate the undefined functions\n",
        "[f(0), g.subs(x, 0)]"
      ],
      "metadata": {
        "colab": {
          "base_uri": "https://localhost:8080/",
          "height": 38
        },
        "id": "D7D3vnWAHNIL",
        "outputId": "feb292b7-fe6a-48f0-da10-8e4f9954d03d"
      },
      "execution_count": null,
      "outputs": [
        {
          "output_type": "execute_result",
          "data": {
            "text/plain": [
              "[f(0), g(0)]"
            ],
            "text/latex": "$\\displaystyle \\left[ f{\\left(0 \\right)}, \\  g{\\left(0 \\right)}\\right]$"
          },
          "metadata": {},
          "execution_count": 5
        }
      ]
    },
    {
      "cell_type": "code",
      "source": [
        "# Assumptions can be passed to undefined functions\n",
        "x = Symbol('x')\n",
        "f = Function('f', real=True)\n",
        "[f.is_real, g.is_real]"
      ],
      "metadata": {
        "colab": {
          "base_uri": "https://localhost:8080/"
        },
        "id": "Gjc4ha_FH6Nm",
        "outputId": "055fcd42-10a2-4d3e-e43a-37a5943f471a"
      },
      "execution_count": null,
      "outputs": [
        {
          "output_type": "execute_result",
          "data": {
            "text/plain": [
              "[True, None]"
            ]
          },
          "metadata": {},
          "execution_count": 6
        }
      ]
    },
    {
      "cell_type": "markdown",
      "source": [
        "## Defined Functions"
      ],
      "metadata": {
        "id": "tYkVbDliX5Pq"
      }
    },
    {
      "cell_type": "code",
      "source": [
        "# Create an defined function\n",
        "x = Symbol('x')\n",
        "f = (x**2 + 2*x)\n",
        "f"
      ],
      "metadata": {
        "colab": {
          "base_uri": "https://localhost:8080/",
          "height": 38
        },
        "id": "LYg9GmjZX_IF",
        "outputId": "e9e569c9-9e30-4af9-ab6d-4af4d506c6e2"
      },
      "execution_count": null,
      "outputs": [
        {
          "output_type": "execute_result",
          "data": {
            "text/plain": [
              " 2      \n",
              "x  + 2⋅x"
            ],
            "text/latex": "$\\displaystyle x^{2} + 2 x$"
          },
          "metadata": {},
          "execution_count": 7
        }
      ]
    },
    {
      "cell_type": "code",
      "source": [
        "# Evaluate at a point\n",
        "f.evalf(subs={x: 2})"
      ],
      "metadata": {
        "colab": {
          "base_uri": "https://localhost:8080/",
          "height": 37
        },
        "id": "r3h87ueOYLtr",
        "outputId": "e2323f8c-b6a4-4481-8ad2-5d284405d17b"
      },
      "execution_count": null,
      "outputs": [
        {
          "output_type": "execute_result",
          "data": {
            "text/plain": [
              "8.00000000000000"
            ],
            "text/latex": "$\\displaystyle 8.0$"
          },
          "metadata": {},
          "execution_count": 8
        }
      ]
    },
    {
      "cell_type": "code",
      "source": [
        "# Manipulate the defined functions\n",
        "f.diff(x)"
      ],
      "metadata": {
        "colab": {
          "base_uri": "https://localhost:8080/",
          "height": 38
        },
        "id": "uMT3aA4oY0u-",
        "outputId": "b42cbced-28e1-4913-c126-29820f009ab2"
      },
      "execution_count": null,
      "outputs": [
        {
          "output_type": "execute_result",
          "data": {
            "text/plain": [
              "2⋅x + 2"
            ],
            "text/latex": "$\\displaystyle 2 x + 2$"
          },
          "metadata": {},
          "execution_count": 9
        }
      ]
    },
    {
      "cell_type": "markdown",
      "source": [
        "## Defined Functions (Python)"
      ],
      "metadata": {
        "id": "ZpNDK7UNwx03"
      }
    },
    {
      "cell_type": "code",
      "source": [
        "# Create a defined function\n",
        "x = Symbol('x')\n",
        "def f(x): return sqrt(x)\n",
        "f"
      ],
      "metadata": {
        "colab": {
          "base_uri": "https://localhost:8080/"
        },
        "id": "-Qv5wiy4w-ii",
        "outputId": "c09a354e-c117-4c5e-8f9e-443b38b9a8d7"
      },
      "execution_count": null,
      "outputs": [
        {
          "output_type": "execute_result",
          "data": {
            "text/plain": [
              "<function __main__.f(x)>"
            ]
          },
          "metadata": {},
          "execution_count": 10
        }
      ]
    },
    {
      "cell_type": "code",
      "source": [
        "f(2)"
      ],
      "metadata": {
        "colab": {
          "base_uri": "https://localhost:8080/",
          "height": 39
        },
        "id": "lF_tENyXxT9h",
        "outputId": "ee8d725e-b48c-46d7-e947-6071b3e7f16d"
      },
      "execution_count": null,
      "outputs": [
        {
          "output_type": "execute_result",
          "data": {
            "text/plain": [
              "√2"
            ],
            "text/latex": "$\\displaystyle \\sqrt{2}$"
          },
          "metadata": {},
          "execution_count": 11
        }
      ]
    },
    {
      "cell_type": "markdown",
      "source": [
        "## Lambda Functions"
      ],
      "metadata": {
        "id": "LCmQXxW6SpgO"
      }
    },
    {
      "cell_type": "code",
      "source": [
        "# Create a defined function\n",
        "x = Symbol('x')\n",
        "f = Lambda(x, x**2)\n",
        "f"
      ],
      "metadata": {
        "colab": {
          "base_uri": "https://localhost:8080/",
          "height": 38
        },
        "id": "cg8qruUHSrFc",
        "outputId": "686aa335-e10e-4708-ac29-185b8019e9e9"
      },
      "execution_count": null,
      "outputs": [
        {
          "output_type": "execute_result",
          "data": {
            "text/plain": [
              "     2\n",
              "x ↦ x "
            ],
            "text/latex": "$\\displaystyle \\left( x \\mapsto x^{2} \\right)$"
          },
          "metadata": {},
          "execution_count": 12
        }
      ]
    },
    {
      "cell_type": "code",
      "source": [
        "# Evaluate at a point\n",
        "f(2)"
      ],
      "metadata": {
        "colab": {
          "base_uri": "https://localhost:8080/",
          "height": 37
        },
        "id": "T-qOTTJFTHXu",
        "outputId": "0e45c935-4f14-4ad6-ef5d-389a6fc0875e"
      },
      "execution_count": null,
      "outputs": [
        {
          "output_type": "execute_result",
          "data": {
            "text/plain": [
              "4"
            ],
            "text/latex": "$\\displaystyle 4$"
          },
          "metadata": {},
          "execution_count": 13
        }
      ]
    },
    {
      "cell_type": "code",
      "source": [
        "# Define a function of several variables\n",
        "x, y, z = symbols('x, y, z')\n",
        "f = Lambda((x, y, z), x + y + z)\n",
        "f(1, 2, 3)"
      ],
      "metadata": {
        "colab": {
          "base_uri": "https://localhost:8080/",
          "height": 37
        },
        "id": "ZNl36PIoUvaR",
        "outputId": "3b69c6e4-58fa-4d4f-a8d5-250e2646cefa"
      },
      "execution_count": null,
      "outputs": [
        {
          "output_type": "execute_result",
          "data": {
            "text/plain": [
              "6"
            ],
            "text/latex": "$\\displaystyle 6$"
          },
          "metadata": {},
          "execution_count": 14
        }
      ]
    },
    {
      "cell_type": "code",
      "source": [
        "# Pack arguments\n",
        "x, y, z = symbols('x, y, z')\n",
        "p = x, y, z\n",
        "f = Lambda(p, x + y + z)\n",
        "f(1, 2, 3)"
      ],
      "metadata": {
        "colab": {
          "base_uri": "https://localhost:8080/",
          "height": 37
        },
        "id": "_RgLT_ITVShi",
        "outputId": "e55ff94d-4edc-4e8a-e69d-94aed9c4c027"
      },
      "execution_count": null,
      "outputs": [
        {
          "output_type": "execute_result",
          "data": {
            "text/plain": [
              "6"
            ],
            "text/latex": "$\\displaystyle 6$"
          },
          "metadata": {},
          "execution_count": 15
        }
      ]
    },
    {
      "cell_type": "code",
      "source": [
        "# Grouping arguments\n",
        "x, y, z = symbols('x, y, z')\n",
        "p = ((x, y), z)\n",
        "f = Lambda(p, x + y + z)\n",
        "f((1, 2), 3)"
      ],
      "metadata": {
        "colab": {
          "base_uri": "https://localhost:8080/",
          "height": 37
        },
        "id": "TjaVuvtxWGXP",
        "outputId": "836d038f-a2f9-4cae-be5c-0363043bb218"
      },
      "execution_count": null,
      "outputs": [
        {
          "output_type": "execute_result",
          "data": {
            "text/plain": [
              "6"
            ],
            "text/latex": "$\\displaystyle 6$"
          },
          "metadata": {},
          "execution_count": 16
        }
      ]
    },
    {
      "cell_type": "markdown",
      "source": [
        "# Piecewise functions"
      ],
      "metadata": {
        "id": "l4o0ik_LQJyu"
      }
    },
    {
      "cell_type": "code",
      "source": [
        "# Piecewise function\n",
        "x = Symbol('x')\n",
        "f = Piecewise((0, Eq(x, 0)), (x + 1, True))\n",
        "f"
      ],
      "metadata": {
        "colab": {
          "base_uri": "https://localhost:8080/",
          "height": 68
        },
        "id": "E3RyMbleNOpC",
        "outputId": "4597d495-e501-4ffd-f39f-61978bf6fcdc"
      },
      "execution_count": null,
      "outputs": [
        {
          "output_type": "execute_result",
          "data": {
            "text/plain": [
              "⎧  0    for x = 0\n",
              "⎨                \n",
              "⎩x + 1  otherwise"
            ],
            "text/latex": "$\\displaystyle \\begin{cases} 0 & \\text{for}\\: x = 0 \\\\x + 1 & \\text{otherwise} \\end{cases}$"
          },
          "metadata": {},
          "execution_count": 17
        }
      ]
    },
    {
      "cell_type": "code",
      "source": [
        "# Manipulate piecewise function\n",
        "[f.evalf(subs={x: 0}), f.evalf(subs={x: 1})]"
      ],
      "metadata": {
        "colab": {
          "base_uri": "https://localhost:8080/",
          "height": 37
        },
        "id": "mLWvZhkKPFiC",
        "outputId": "d74e1519-c672-4b2f-d137-7db793c38652"
      },
      "execution_count": null,
      "outputs": [
        {
          "output_type": "execute_result",
          "data": {
            "text/plain": [
              "[0, 2.0]"
            ],
            "text/latex": "$\\displaystyle \\left[ 0, \\  2.0\\right]$"
          },
          "metadata": {},
          "execution_count": 18
        }
      ]
    },
    {
      "cell_type": "code",
      "source": [
        "# Piecewise lambda function\n",
        "x = Symbol('x')\n",
        "f = Lambda(x, Piecewise((0, Eq(x, 0)), (x + 1, True)))\n",
        "f"
      ],
      "metadata": {
        "colab": {
          "base_uri": "https://localhost:8080/",
          "height": 68
        },
        "id": "oEGW1cQ6cH34",
        "outputId": "9f64b4ac-b062-451f-aae7-0b035e5b8dab"
      },
      "execution_count": null,
      "outputs": [
        {
          "output_type": "execute_result",
          "data": {
            "text/plain": [
              "    ⎧  0    for x = 0\n",
              "x ↦ ⎨                \n",
              "    ⎩x + 1  otherwise"
            ],
            "text/latex": "$\\displaystyle \\left( x \\mapsto \\begin{cases} 0 & \\text{for}\\: x = 0 \\\\x + 1 & \\text{otherwise} \\end{cases} \\right)$"
          },
          "metadata": {},
          "execution_count": 19
        }
      ]
    },
    {
      "cell_type": "code",
      "source": [
        "# Manipulate piecewise lambda function\n",
        "[f(0), f(1)]"
      ],
      "metadata": {
        "colab": {
          "base_uri": "https://localhost:8080/",
          "height": 37
        },
        "id": "IWQjM8xycPcI",
        "outputId": "9cd192fa-4733-4537-9e76-52f5b620b378"
      },
      "execution_count": null,
      "outputs": [
        {
          "output_type": "execute_result",
          "data": {
            "text/plain": [
              "[0, 2]"
            ],
            "text/latex": "$\\displaystyle \\left[ 0, \\  2\\right]$"
          },
          "metadata": {},
          "execution_count": 20
        }
      ]
    }
  ]
}