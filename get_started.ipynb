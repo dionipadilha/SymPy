{
  "nbformat": 4,
  "nbformat_minor": 0,
  "metadata": {
    "colab": {
      "provenance": [],
      "authorship_tag": "ABX9TyNQiuaaf+m99MVeao+jtH45",
      "include_colab_link": true
    },
    "kernelspec": {
      "name": "python3",
      "display_name": "Python 3"
    },
    "language_info": {
      "name": "python"
    }
  },
  "cells": [
    {
      "cell_type": "markdown",
      "metadata": {
        "id": "view-in-github",
        "colab_type": "text"
      },
      "source": [
        "<a href=\"https://colab.research.google.com/github/dionipadilha/sympy/blob/main/get_started.ipynb\" target=\"_parent\"><img src=\"https://colab.research.google.com/assets/colab-badge.svg\" alt=\"Open In Colab\"/></a>"
      ]
    },
    {
      "cell_type": "markdown",
      "source": [
        "## SymPy Get Started"
      ],
      "metadata": {
        "id": "nXwOvBcumH_G"
      }
    },
    {
      "cell_type": "markdown",
      "source": [
        "### Symbolic env:"
      ],
      "metadata": {
        "id": "faq_8j3omml2"
      }
    },
    {
      "cell_type": "code",
      "execution_count": 1,
      "metadata": {
        "id": "XSfANMKVgJdt"
      },
      "outputs": [],
      "source": [
        "# symbolic env:\n",
        "from sympy import *\n",
        "init_printing()"
      ]
    },
    {
      "cell_type": "code",
      "source": [
        "# define symbols:\n",
        "a, b, c, d = symbols('a, b, c, d')\n",
        "x, y, z, t = symbols('x, y, z, t')\n",
        "k, m, n = symbols('k, m, n', integer=True)\n",
        "f, g, h = symbols('f, g, h', cls=Function)"
      ],
      "metadata": {
        "id": "uXRkc5gTgMQi"
      },
      "execution_count": 2,
      "outputs": []
    },
    {
      "cell_type": "markdown",
      "source": [
        "### Symbolic math:"
      ],
      "metadata": {
        "id": "n0V8z3JBmrsB"
      }
    },
    {
      "cell_type": "code",
      "source": [
        "# create expressions:\n",
        "expr = (x**2 + 2*x*y)/(x*z)\n",
        "expr"
      ],
      "metadata": {
        "colab": {
          "base_uri": "https://localhost:8080/",
          "height": 54
        },
        "id": "URc3Q2VLgvlc",
        "outputId": "a7d658c3-3e96-4989-db3b-06131008e897"
      },
      "execution_count": 3,
      "outputs": [
        {
          "output_type": "execute_result",
          "data": {
            "text/plain": [
              " 2        \n",
              "x  + 2⋅x⋅y\n",
              "──────────\n",
              "   x⋅z    "
            ],
            "text/latex": "$\\displaystyle \\frac{x^{2} + 2 x y}{x z}$"
          },
          "metadata": {},
          "execution_count": 3
        }
      ]
    },
    {
      "cell_type": "code",
      "source": [
        "# manipulate expressions:\n",
        "simplify(expr)"
      ],
      "metadata": {
        "colab": {
          "base_uri": "https://localhost:8080/",
          "height": 51
        },
        "id": "rhhwcgF4g7mi",
        "outputId": "493656c5-1bd5-41e8-ec4c-7182c94638e6"
      },
      "execution_count": 4,
      "outputs": [
        {
          "output_type": "execute_result",
          "data": {
            "text/plain": [
              "x + 2⋅y\n",
              "───────\n",
              "   z   "
            ],
            "text/latex": "$\\displaystyle \\frac{x + 2 y}{z}$"
          },
          "metadata": {},
          "execution_count": 4
        }
      ]
    },
    {
      "cell_type": "code",
      "source": [
        "# substitute values into expressions:\n",
        "expr.subs({x:2, y:3, z:4})"
      ],
      "metadata": {
        "colab": {
          "base_uri": "https://localhost:8080/",
          "height": 37
        },
        "id": "lrsjUA0EhruI",
        "outputId": "05a88510-4464-426c-95fb-688b4ce4906d"
      },
      "execution_count": 5,
      "outputs": [
        {
          "output_type": "execute_result",
          "data": {
            "text/plain": [
              "2"
            ],
            "text/latex": "$\\displaystyle 2$"
          },
          "metadata": {},
          "execution_count": 5
        }
      ]
    },
    {
      "cell_type": "code",
      "source": [
        "# create equations:\n",
        "eq = Eq(x**2 + 2*x - 3, 0)\n",
        "eq"
      ],
      "metadata": {
        "colab": {
          "base_uri": "https://localhost:8080/",
          "height": 38
        },
        "id": "_OQ290N5hNi5",
        "outputId": "85c7f912-57d9-44ab-f5c6-8f693572ca76"
      },
      "execution_count": 6,
      "outputs": [
        {
          "output_type": "execute_result",
          "data": {
            "text/plain": [
              " 2              \n",
              "x  + 2⋅x - 3 = 0"
            ],
            "text/latex": "$\\displaystyle x^{2} + 2 x - 3 = 0$"
          },
          "metadata": {},
          "execution_count": 6
        }
      ]
    },
    {
      "cell_type": "code",
      "source": [
        "# solve equations:\n",
        "solutions = solve(eq, x)\n",
        "solutions"
      ],
      "metadata": {
        "colab": {
          "base_uri": "https://localhost:8080/",
          "height": 37
        },
        "id": "kNeWlntFhfww",
        "outputId": "106a21e3-1026-456e-8c8f-bb8a898d3067"
      },
      "execution_count": 7,
      "outputs": [
        {
          "output_type": "execute_result",
          "data": {
            "text/plain": [
              "[-3, 1]"
            ],
            "text/latex": "$\\displaystyle \\left[ -3, \\  1\\right]$"
          },
          "metadata": {},
          "execution_count": 7
        }
      ]
    },
    {
      "cell_type": "code",
      "source": [
        "# test equations:\n",
        "eq.subs(x, 1)"
      ],
      "metadata": {
        "colab": {
          "base_uri": "https://localhost:8080/",
          "height": 37
        },
        "id": "mLKub3m-iNNp",
        "outputId": "eb35d295-54f3-44c0-ae3d-7e61e79ec476"
      },
      "execution_count": 8,
      "outputs": [
        {
          "output_type": "execute_result",
          "data": {
            "text/plain": [
              "True"
            ],
            "text/latex": "$\\displaystyle \\text{True}$"
          },
          "metadata": {},
          "execution_count": 8
        }
      ]
    },
    {
      "cell_type": "code",
      "source": [
        "# buildin mathematical functions:\n",
        "sqrt(8), log(8, 2), sin(pi/3)"
      ],
      "metadata": {
        "colab": {
          "base_uri": "https://localhost:8080/",
          "height": 68
        },
        "id": "Szr7wclrivW6",
        "outputId": "1e4308c9-dc0b-46e6-930c-bad852889c33"
      },
      "execution_count": 9,
      "outputs": [
        {
          "output_type": "execute_result",
          "data": {
            "text/plain": [
              "⎛         √3⎞\n",
              "⎜2⋅√2, 3, ──⎟\n",
              "⎝         2 ⎠"
            ],
            "text/latex": "$\\displaystyle \\left( 2 \\sqrt{2}, \\  3, \\  \\frac{\\sqrt{3}}{2}\\right)$"
          },
          "metadata": {},
          "execution_count": 9
        }
      ]
    },
    {
      "cell_type": "markdown",
      "source": [
        "### Matrices"
      ],
      "metadata": {
        "id": "KnLGz_ZHm8Du"
      }
    },
    {
      "cell_type": "code",
      "source": [
        "# create matrices:\n",
        "A = Matrix([[1, 2], [3, 4]])\n",
        "A"
      ],
      "metadata": {
        "colab": {
          "base_uri": "https://localhost:8080/",
          "height": 58
        },
        "id": "q_hIrRUxkx2H",
        "outputId": "19312b1e-b33e-46de-df0c-568157dd7276"
      },
      "execution_count": 10,
      "outputs": [
        {
          "output_type": "execute_result",
          "data": {
            "text/plain": [
              "⎡1  2⎤\n",
              "⎢    ⎥\n",
              "⎣3  4⎦"
            ],
            "text/latex": "$\\displaystyle \\left[\\begin{matrix}1 & 2\\\\3 & 4\\end{matrix}\\right]$"
          },
          "metadata": {},
          "execution_count": 10
        }
      ]
    },
    {
      "cell_type": "code",
      "source": [
        "# handle matrices:\n",
        "A.transpose()"
      ],
      "metadata": {
        "colab": {
          "base_uri": "https://localhost:8080/",
          "height": 58
        },
        "id": "JJT_HQHvleRo",
        "outputId": "3279fca6-bda6-422c-aba2-40036c5e9d07"
      },
      "execution_count": 11,
      "outputs": [
        {
          "output_type": "execute_result",
          "data": {
            "text/plain": [
              "⎡1  3⎤\n",
              "⎢    ⎥\n",
              "⎣2  4⎦"
            ],
            "text/latex": "$\\displaystyle \\left[\\begin{matrix}1 & 3\\\\2 & 4\\end{matrix}\\right]$"
          },
          "metadata": {},
          "execution_count": 11
        }
      ]
    },
    {
      "cell_type": "code",
      "source": [
        "# determinant of a matrix:\n",
        "A.det()"
      ],
      "metadata": {
        "colab": {
          "base_uri": "https://localhost:8080/",
          "height": 37
        },
        "id": "px4TtnN0nHOI",
        "outputId": "280ade18-5392-4249-e60c-080a01a46fba"
      },
      "execution_count": 12,
      "outputs": [
        {
          "output_type": "execute_result",
          "data": {
            "text/plain": [
              "-2"
            ],
            "text/latex": "$\\displaystyle -2$"
          },
          "metadata": {},
          "execution_count": 12
        }
      ]
    },
    {
      "cell_type": "markdown",
      "source": [
        "### Functions"
      ],
      "metadata": {
        "id": "w41fHJ9Rm1hv"
      }
    },
    {
      "cell_type": "code",
      "source": [
        "# define functions:\n",
        "f = Lambda(x, x**2 + 2*x - 3)\n",
        "f"
      ],
      "metadata": {
        "colab": {
          "base_uri": "https://localhost:8080/",
          "height": 38
        },
        "id": "qRsvwlT-jchN",
        "outputId": "329a4f0a-5ec6-4f28-e3a1-dea41df7d5f1"
      },
      "execution_count": 13,
      "outputs": [
        {
          "output_type": "execute_result",
          "data": {
            "text/plain": [
              "     2          \n",
              "x ↦ x  + 2⋅x - 3"
            ],
            "text/latex": "$\\displaystyle \\left( x \\mapsto x^{2} + 2 x - 3 \\right)$"
          },
          "metadata": {},
          "execution_count": 13
        }
      ]
    },
    {
      "cell_type": "code",
      "source": [
        "# use defined functions:\n",
        "f(1)"
      ],
      "metadata": {
        "colab": {
          "base_uri": "https://localhost:8080/",
          "height": 37
        },
        "id": "2TvErhLTkGWX",
        "outputId": "f6e91836-3db5-437b-8c2b-d27dfc5fe83b"
      },
      "execution_count": 14,
      "outputs": [
        {
          "output_type": "execute_result",
          "data": {
            "text/plain": [
              "0"
            ],
            "text/latex": "$\\displaystyle 0$"
          },
          "metadata": {},
          "execution_count": 14
        }
      ]
    },
    {
      "cell_type": "code",
      "source": [
        "# plot functions:\n",
        "plot(f(x), (x, -5, 5));"
      ],
      "metadata": {
        "colab": {
          "base_uri": "https://localhost:8080/",
          "height": 485
        },
        "id": "6vu4KY11kTyf",
        "outputId": "5d5d983f-e197-420f-93f7-f5279d63c6bc"
      },
      "execution_count": 15,
      "outputs": [
        {
          "output_type": "display_data",
          "data": {
            "text/plain": [
              "<Figure size 640x480 with 1 Axes>"
            ],
            "image/png": "[encoded data removed]"
          },
          "metadata": {}
        }
      ]
    },
    {
      "cell_type": "markdown",
      "source": [
        "### Calculus"
      ],
      "metadata": {
        "id": "bj-9kdMnnBGl"
      }
    },
    {
      "cell_type": "code",
      "source": [
        "# limit:\n",
        "L = Limit(sin(x)/x, x, 0, '+')\n",
        "Eq(L, L.doit())"
      ],
      "metadata": {
        "colab": {
          "base_uri": "https://localhost:8080/",
          "height": 58
        },
        "id": "54Zn-v6zlrkf",
        "outputId": "10e5de86-ad16-49ef-9282-28a0dc4306fd"
      },
      "execution_count": 16,
      "outputs": [
        {
          "output_type": "execute_result",
          "data": {
            "text/plain": [
              "     ⎛sin(x)⎞    \n",
              " lim ⎜──────⎟ = 1\n",
              "x─→0⁺⎝  x   ⎠    "
            ],
            "text/latex": "$\\displaystyle \\lim_{x \\to 0^+}\\left(\\frac{\\sin{\\left(x \\right)}}{x}\\right) = 1$"
          },
          "metadata": {},
          "execution_count": 16
        }
      ]
    },
    {
      "cell_type": "code",
      "source": [
        "# differentiate:\n",
        "df = Derivative(x**2, x)\n",
        "Eq(df, df.doit())"
      ],
      "metadata": {
        "colab": {
          "base_uri": "https://localhost:8080/",
          "height": 52
        },
        "id": "tmOs4gDqoYQ-",
        "outputId": "35bac5fb-1742-44e6-bc71-f6f2afd34a6a"
      },
      "execution_count": 17,
      "outputs": [
        {
          "output_type": "execute_result",
          "data": {
            "text/plain": [
              "d ⎛ 2⎞      \n",
              "──⎝x ⎠ = 2⋅x\n",
              "dx          "
            ],
            "text/latex": "$\\displaystyle \\frac{d}{d x} x^{2} = 2 x$"
          },
          "metadata": {},
          "execution_count": 17
        }
      ]
    },
    {
      "cell_type": "code",
      "source": [
        "# integrate:\n",
        "F = Integral(x**2, x)\n",
        "Eq(F, F.doit())"
      ],
      "metadata": {
        "colab": {
          "base_uri": "https://localhost:8080/",
          "height": 57
        },
        "id": "GtJeyNSxom9n",
        "outputId": "48644ba8-928b-405e-a8bb-9a905a99c64a"
      },
      "execution_count": 18,
      "outputs": [
        {
          "output_type": "execute_result",
          "data": {
            "text/plain": [
              "⌠          3\n",
              "⎮  2      x \n",
              "⎮ x  dx = ──\n",
              "⌡         3 "
            ],
            "text/latex": "$\\displaystyle \\int x^{2}\\, dx = \\frac{x^{3}}{3}$"
          },
          "metadata": {},
          "execution_count": 18
        }
      ]
    },
    {
      "cell_type": "code",
      "source": [
        "# definite integrate:\n",
        "F = Integral(x**2, (x, 0 , 1))\n",
        "Eq(F, F.doit())"
      ],
      "metadata": {
        "colab": {
          "base_uri": "https://localhost:8080/",
          "height": 80
        },
        "id": "EFOkl3aFo9JH",
        "outputId": "be26762e-c8af-4f83-d984-3e70373d7e8a"
      },
      "execution_count": 19,
      "outputs": [
        {
          "output_type": "execute_result",
          "data": {
            "text/plain": [
              "1            \n",
              "⌠            \n",
              "⎮  2         \n",
              "⎮ x  dx = 1/3\n",
              "⌡            \n",
              "0            "
            ],
            "text/latex": "$\\displaystyle \\int\\limits_{0}^{1} x^{2}\\, dx = \\frac{1}{3}$"
          },
          "metadata": {},
          "execution_count": 19
        }
      ]
    }
  ]
}