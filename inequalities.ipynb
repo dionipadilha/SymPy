{
  "nbformat": 4,
  "nbformat_minor": 0,
  "metadata": {
    "colab": {
      "provenance": [],
      "authorship_tag": "ABX9TyPIZ6Dd7XTKsLrS+oJgI4J5",
      "include_colab_link": true
    },
    "kernelspec": {
      "name": "python3",
      "display_name": "Python 3"
    },
    "language_info": {
      "name": "python"
    }
  },
  "cells": [
    {
      "cell_type": "markdown",
      "metadata": {
        "id": "view-in-github",
        "colab_type": "text"
      },
      "source": [
        "<a href=\"https://colab.research.google.com/github/dionipadilha/sympy/blob/main/inequalities.ipynb\" target=\"_parent\"><img src=\"https://colab.research.google.com/assets/colab-badge.svg\" alt=\"Open In Colab\"/></a>"
      ]
    },
    {
      "cell_type": "markdown",
      "source": [
        "# Inequalities"
      ],
      "metadata": {
        "id": "7lVF71wn4tDh"
      }
    },
    {
      "cell_type": "code",
      "execution_count": 1,
      "metadata": {
        "id": "Tv-mT0tp4mTF"
      },
      "outputs": [],
      "source": [
        "from sympy import *\n",
        "init_printing()\n",
        "x = symbols('x')"
      ]
    },
    {
      "cell_type": "code",
      "source": [
        "solve(3 - x > 2*x + 1, x)"
      ],
      "metadata": {
        "colab": {
          "base_uri": "https://localhost:8080/",
          "height": 51
        },
        "id": "pfh_gAhh40a2",
        "outputId": "666457d3-f108-46f0-c2ba-e7abe06ef287"
      },
      "execution_count": 2,
      "outputs": [
        {
          "output_type": "execute_result",
          "data": {
            "text/plain": [
              "-∞ < x ∧ x < 2/3"
            ],
            "text/latex": "$\\displaystyle -\\infty < x \\wedge x < \\frac{2}{3}$"
          },
          "metadata": {},
          "execution_count": 2
        }
      ]
    },
    {
      "cell_type": "code",
      "source": [
        "solve((x+5)*(x-5) > 0, x)"
      ],
      "metadata": {
        "colab": {
          "base_uri": "https://localhost:8080/",
          "height": 38
        },
        "id": "Gc3h39ck44Dw",
        "outputId": "daaab67b-1fa0-4f71-c214-7f5063f2f1a5"
      },
      "execution_count": 3,
      "outputs": [
        {
          "output_type": "execute_result",
          "data": {
            "text/plain": [
              "(-∞ < x ∧ x < -5) ∨ (5 < x ∧ x < ∞)"
            ],
            "text/latex": "$\\displaystyle \\left(-\\infty < x \\wedge x < -5\\right) \\vee \\left(5 < x \\wedge x < \\infty\\right)$"
          },
          "metadata": {},
          "execution_count": 3
        }
      ]
    },
    {
      "cell_type": "code",
      "source": [
        "solve(2*x**2-x > 0, x)"
      ],
      "metadata": {
        "colab": {
          "base_uri": "https://localhost:8080/",
          "height": 58
        },
        "id": "CRHYMKE245uu",
        "outputId": "873fadfe-999e-4e5a-cb90-19500e44cb3e"
      },
      "execution_count": 4,
      "outputs": [
        {
          "output_type": "execute_result",
          "data": {
            "text/plain": [
              "(-∞ < x ∧ x < 0) ∨ (1/2 < x ∧ x < ∞)"
            ],
            "text/latex": "$\\displaystyle \\left(-\\infty < x \\wedge x < 0\\right) \\vee \\left(\\frac{1}{2} < x \\wedge x < \\infty\\right)$"
          },
          "metadata": {},
          "execution_count": 4
        }
      ]
    },
    {
      "cell_type": "code",
      "source": [
        "solve((x+3)**2 <= 10*x+6, x)"
      ],
      "metadata": {
        "colab": {
          "base_uri": "https://localhost:8080/",
          "height": 38
        },
        "id": "D7-iJ7Wm47Ep",
        "outputId": "ae093100-289b-4f16-bd6b-21cd82a1c557"
      },
      "execution_count": 5,
      "outputs": [
        {
          "output_type": "execute_result",
          "data": {
            "text/plain": [
              "1 ≤ x ∧ x ≤ 3"
            ],
            "text/latex": "$\\displaystyle 1 \\leq x \\wedge x \\leq 3$"
          },
          "metadata": {},
          "execution_count": 5
        }
      ]
    },
    {
      "cell_type": "code",
      "source": [
        "solve(Abs(3 + 2*x) <= 7, x)"
      ],
      "metadata": {
        "colab": {
          "base_uri": "https://localhost:8080/",
          "height": 38
        },
        "id": "yToj4lat48Yt",
        "outputId": "d3cb8490-02e5-4f47-bbd7-46c2f7bc8cfd"
      },
      "execution_count": 6,
      "outputs": [
        {
          "output_type": "execute_result",
          "data": {
            "text/plain": [
              "-5 ≤ x ∧ x ≤ 2"
            ],
            "text/latex": "$\\displaystyle -5 \\leq x \\wedge x \\leq 2$"
          },
          "metadata": {},
          "execution_count": 6
        }
      ]
    },
    {
      "cell_type": "code",
      "source": [
        "solve(Abs(3*x + 2)/Abs(x-1) > 2, x)"
      ],
      "metadata": {
        "colab": {
          "base_uri": "https://localhost:8080/",
          "height": 38
        },
        "id": "j0CZeONy49gq",
        "outputId": "62c5a102-897f-4092-add1-9c0f7483a88c"
      },
      "execution_count": 7,
      "outputs": [
        {
          "output_type": "execute_result",
          "data": {
            "text/plain": [
              "(-∞ < x ∧ x < -4) ∨ (0 < x ∧ x < 1) ∨ (1 < x ∧ x < ∞)"
            ],
            "text/latex": "$\\displaystyle \\left(-\\infty < x \\wedge x < -4\\right) \\vee \\left(0 < x \\wedge x < 1\\right) \\vee \\left(1 < x \\wedge x < \\infty\\right)$"
          },
          "metadata": {},
          "execution_count": 7
        }
      ]
    }
  ]
}