{
  "nbformat": 4,
  "nbformat_minor": 0,
  "metadata": {
    "colab": {
      "provenance": [],
      "authorship_tag": "ABX9TyPe7E4yxWDrLpK/skN379Jy",
      "include_colab_link": true
    },
    "kernelspec": {
      "name": "python3",
      "display_name": "Python 3"
    },
    "language_info": {
      "name": "python"
    }
  },
  "cells": [
    {
      "cell_type": "markdown",
      "metadata": {
        "id": "view-in-github",
        "colab_type": "text"
      },
      "source": [
        "<a href=\"https://colab.research.google.com/github/dionipadilha/sympy/blob/main/interval.ipynb\" target=\"_parent\"><img src=\"https://colab.research.google.com/assets/colab-badge.svg\" alt=\"Open In Colab\"/></a>"
      ]
    },
    {
      "cell_type": "markdown",
      "source": [
        "# Interval"
      ],
      "metadata": {
        "id": "4AnFRN0fH3P6"
      }
    },
    {
      "cell_type": "code",
      "execution_count": 1,
      "metadata": {
        "id": "0Cw_TH_PHs92"
      },
      "outputs": [],
      "source": [
        "from sympy import *\n",
        "init_printing()"
      ]
    },
    {
      "cell_type": "markdown",
      "source": [
        "## Interval Construct"
      ],
      "metadata": {
        "id": "6Z2eae4BIpf7"
      }
    },
    {
      "cell_type": "code",
      "source": [
        "# Create a symbolic interval\n",
        "a, b = symbols('a, b')\n",
        "A = Interval(a, b)\n",
        "A"
      ],
      "metadata": {
        "colab": {
          "base_uri": "https://localhost:8080/",
          "height": 38
        },
        "id": "lMkBoqwRH_fp",
        "outputId": "91243591-aeba-4d18-eab8-42e195263170"
      },
      "execution_count": 2,
      "outputs": [
        {
          "output_type": "execute_result",
          "data": {
            "text/plain": [
              "[a, b]"
            ],
            "text/latex": "$\\displaystyle \\left[a, b\\right]$"
          },
          "metadata": {},
          "execution_count": 2
        }
      ]
    },
    {
      "cell_type": "code",
      "source": [
        "# Create a numerical interval\n",
        "a, b = symbols('a, b')\n",
        "A = Interval(0, 1)\n",
        "A"
      ],
      "metadata": {
        "colab": {
          "base_uri": "https://localhost:8080/",
          "height": 37
        },
        "id": "gfnfMTvi78lv",
        "outputId": "b81f5e38-32bd-437f-bef4-ba71f0f2c683"
      },
      "execution_count": 3,
      "outputs": [
        {
          "output_type": "execute_result",
          "data": {
            "text/plain": [
              "[0, 1]"
            ],
            "text/latex": "$\\displaystyle \\left[0, 1\\right]$"
          },
          "metadata": {},
          "execution_count": 3
        }
      ]
    },
    {
      "cell_type": "code",
      "source": [
        "# Create a right_open interval\n",
        "A = Interval(0, 1, right_open=True)\n",
        "A"
      ],
      "metadata": {
        "colab": {
          "base_uri": "https://localhost:8080/",
          "height": 37
        },
        "id": "4BzTbQl7t5QP",
        "outputId": "9147ae77-a55a-48da-932b-e5f006b8aae6"
      },
      "execution_count": 4,
      "outputs": [
        {
          "output_type": "execute_result",
          "data": {
            "text/plain": [
              "[0, 1)"
            ],
            "text/latex": "$\\displaystyle \\left[0, 1\\right)$"
          },
          "metadata": {},
          "execution_count": 4
        }
      ]
    },
    {
      "cell_type": "code",
      "source": [
        "# Create a left-open interval\n",
        "A = Interval(0, 1, left_open=True)\n",
        "A"
      ],
      "metadata": {
        "colab": {
          "base_uri": "https://localhost:8080/",
          "height": 37
        },
        "id": "-FqDye7j5Ys5",
        "outputId": "88c5dcbd-81a5-4300-e4ea-9d86195c9ca0"
      },
      "execution_count": 5,
      "outputs": [
        {
          "output_type": "execute_result",
          "data": {
            "text/plain": [
              "(0, 1]"
            ],
            "text/latex": "$\\displaystyle \\left(0, 1\\right]$"
          },
          "metadata": {},
          "execution_count": 5
        }
      ]
    },
    {
      "cell_type": "code",
      "source": [
        "# Create an open interval\n",
        "A = Interval.open(0, 1)\n",
        "A"
      ],
      "metadata": {
        "colab": {
          "base_uri": "https://localhost:8080/",
          "height": 37
        },
        "id": "OxS4VUud8oZQ",
        "outputId": "08d269b2-0238-454f-a1fe-82c9d8b82138"
      },
      "execution_count": 6,
      "outputs": [
        {
          "output_type": "execute_result",
          "data": {
            "text/plain": [
              "(0, 1)"
            ],
            "text/latex": "$\\displaystyle \\left(0, 1\\right)$"
          },
          "metadata": {},
          "execution_count": 6
        }
      ]
    },
    {
      "cell_type": "markdown",
      "source": [
        "## Image of the Interval"
      ],
      "metadata": {
        "id": "7zBZeCcWsCgl"
      }
    },
    {
      "cell_type": "code",
      "source": [
        "# Applying the function over the interval\n",
        "imageset(sin, Interval(0, pi))"
      ],
      "metadata": {
        "colab": {
          "base_uri": "https://localhost:8080/",
          "height": 38
        },
        "id": "6Clrb5zA2DOx",
        "outputId": "8e6b6bad-2084-4ce5-d648-a352532dcbcb"
      },
      "execution_count": 7,
      "outputs": [
        {
          "output_type": "execute_result",
          "data": {
            "text/plain": [
              "{sin(x) │ x ∊ [0, π]}"
            ],
            "text/latex": "$\\displaystyle \\left\\{\\sin{\\left(x \\right)}\\; \\middle|\\; x \\in \\left[0, \\pi\\right]\\right\\}$"
          },
          "metadata": {},
          "execution_count": 7
        }
      ]
    },
    {
      "cell_type": "code",
      "source": [
        "# Applying the function over the interval\n",
        "x = Symbol('x')\n",
        "imageset(x, 2*x, Interval(0, 2))"
      ],
      "metadata": {
        "colab": {
          "base_uri": "https://localhost:8080/",
          "height": 37
        },
        "id": "Gk-tAloGr2AU",
        "outputId": "52397335-112c-4768-aa5e-bb2dcf027719"
      },
      "execution_count": 8,
      "outputs": [
        {
          "output_type": "execute_result",
          "data": {
            "text/plain": [
              "[0, 4]"
            ],
            "text/latex": "$\\displaystyle \\left[0, 4\\right]$"
          },
          "metadata": {},
          "execution_count": 8
        }
      ]
    },
    {
      "cell_type": "markdown",
      "source": [
        "# Elements of an Interval"
      ],
      "metadata": {
        "id": "eWuKvkT9tr1X"
      }
    },
    {
      "cell_type": "code",
      "source": [
        "# Getting the start and end points\n",
        "A = Interval(0, 1)\n",
        "A.boundary"
      ],
      "metadata": {
        "colab": {
          "base_uri": "https://localhost:8080/",
          "height": 37
        },
        "id": "trCjxbIOJJ_u",
        "outputId": "aa0cf5ca-32cf-4249-cb7b-3b9745faabbb"
      },
      "execution_count": 9,
      "outputs": [
        {
          "output_type": "execute_result",
          "data": {
            "text/plain": [
              "{0, 1}"
            ],
            "text/latex": "$\\displaystyle \\left\\{0, 1\\right\\}$"
          },
          "metadata": {},
          "execution_count": 9
        }
      ]
    },
    {
      "cell_type": "code",
      "source": [
        "# Getting the interior points\n",
        "A = Interval(0, 1)\n",
        "A.interior"
      ],
      "metadata": {
        "colab": {
          "base_uri": "https://localhost:8080/",
          "height": 37
        },
        "id": "Hislm1y7Mnq9",
        "outputId": "ed78f453-b1dc-4384-8b3c-5678ca200257"
      },
      "execution_count": 10,
      "outputs": [
        {
          "output_type": "execute_result",
          "data": {
            "text/plain": [
              "(0, 1)"
            ],
            "text/latex": "$\\displaystyle \\left(0, 1\\right)$"
          },
          "metadata": {},
          "execution_count": 10
        }
      ]
    },
    {
      "cell_type": "code",
      "source": [
        "# Getting the closure of a interval\n",
        "A = Interval(0, 1)\n",
        "A.closure"
      ],
      "metadata": {
        "colab": {
          "base_uri": "https://localhost:8080/",
          "height": 37
        },
        "id": "zUIroYmnKel_",
        "outputId": "0462695c-74b5-45bd-8cb0-27f373c31a77"
      },
      "execution_count": 11,
      "outputs": [
        {
          "output_type": "execute_result",
          "data": {
            "text/plain": [
              "[0, 1]"
            ],
            "text/latex": "$\\displaystyle \\left[0, 1\\right]$"
          },
          "metadata": {},
          "execution_count": 11
        }
      ]
    },
    {
      "cell_type": "code",
      "source": [
        "# Getting the supremum of a interval\n",
        "A = Interval(0, 1)\n",
        "A.sup"
      ],
      "metadata": {
        "colab": {
          "base_uri": "https://localhost:8080/",
          "height": 37
        },
        "id": "RQS_uek5tKP2",
        "outputId": "62c844b4-4155-4daf-9cfb-142feb51c8b3"
      },
      "execution_count": 12,
      "outputs": [
        {
          "output_type": "execute_result",
          "data": {
            "text/plain": [
              "1"
            ],
            "text/latex": "$\\displaystyle 1$"
          },
          "metadata": {},
          "execution_count": 12
        }
      ]
    },
    {
      "cell_type": "code",
      "source": [
        "# Getting the infimum of a interval\n",
        "A = Interval(0, 1)\n",
        "A.inf"
      ],
      "metadata": {
        "colab": {
          "base_uri": "https://localhost:8080/",
          "height": 37
        },
        "id": "MtlivP7itflV",
        "outputId": "d00c2187-d074-455f-9a23-1804398d70db"
      },
      "execution_count": 13,
      "outputs": [
        {
          "output_type": "execute_result",
          "data": {
            "text/plain": [
              "0"
            ],
            "text/latex": "$\\displaystyle 0$"
          },
          "metadata": {},
          "execution_count": 13
        }
      ]
    },
    {
      "cell_type": "markdown",
      "source": [
        "## Compound Sets"
      ],
      "metadata": {
        "id": "oibqhZXuXpCX"
      }
    },
    {
      "cell_type": "code",
      "source": [
        "# Returns the union\n",
        "A = Interval(0, 1)\n",
        "B = Interval(2, 5)\n",
        "A.union(B)"
      ],
      "metadata": {
        "colab": {
          "base_uri": "https://localhost:8080/",
          "height": 37
        },
        "id": "6-C45FO9bVYq",
        "outputId": "d6ad3560-d97e-40a0-bc1b-7c233bded24d"
      },
      "execution_count": 14,
      "outputs": [
        {
          "output_type": "execute_result",
          "data": {
            "text/plain": [
              "[0, 1] ∪ [2, 5]"
            ],
            "text/latex": "$\\displaystyle \\left[0, 1\\right] \\cup \\left[2, 5\\right]$"
          },
          "metadata": {},
          "execution_count": 14
        }
      ]
    },
    {
      "cell_type": "code",
      "source": [
        "# Union Merge overlapping intervals\n",
        "A = Interval(0, 1)\n",
        "B = Interval(0.5, 1.5)\n",
        "A.union(B)"
      ],
      "metadata": {
        "colab": {
          "base_uri": "https://localhost:8080/",
          "height": 37
        },
        "id": "IDFpKlXcNr3p",
        "outputId": "0c11b817-a6dc-472a-9b30-40fe9ca29037"
      },
      "execution_count": 15,
      "outputs": [
        {
          "output_type": "execute_result",
          "data": {
            "text/plain": [
              "[0, 1.5]"
            ],
            "text/latex": "$\\displaystyle \\left[0, 1.5\\right]$"
          },
          "metadata": {},
          "execution_count": 15
        }
      ]
    },
    {
      "cell_type": "code",
      "source": [
        "# Returns the intersection\n",
        "A = Interval(0, 1)\n",
        "B = Interval(0.5, 1.5)\n",
        "A.intersect(B)"
      ],
      "metadata": {
        "colab": {
          "base_uri": "https://localhost:8080/",
          "height": 37
        },
        "id": "V0IiULmHLI7_",
        "outputId": "6ad1ea66-d83c-4611-b068-80b47722d53c"
      },
      "execution_count": 16,
      "outputs": [
        {
          "output_type": "execute_result",
          "data": {
            "text/plain": [
              "[0.5, 1]"
            ],
            "text/latex": "$\\displaystyle \\left[0.5, 1\\right]$"
          },
          "metadata": {},
          "execution_count": 16
        }
      ]
    },
    {
      "cell_type": "code",
      "source": [
        "# Returns the empty set\n",
        "A = Interval(0, 1)\n",
        "B = Interval(2, 5)\n",
        "A.intersect(B)"
      ],
      "metadata": {
        "colab": {
          "base_uri": "https://localhost:8080/",
          "height": 37
        },
        "id": "zjbYdsZNbGoH",
        "outputId": "7b9cbd9f-46d9-44c4-d50d-a0e82bbbb5b9"
      },
      "execution_count": 17,
      "outputs": [
        {
          "output_type": "execute_result",
          "data": {
            "text/plain": [
              "∅"
            ],
            "text/latex": "$\\displaystyle \\emptyset$"
          },
          "metadata": {},
          "execution_count": 17
        }
      ]
    },
    {
      "cell_type": "code",
      "source": [
        "# Returns the set of elements that are in either set,\n",
        "# but not in the intersection.\n",
        "A = Interval(0, 1)\n",
        "B = Interval(0.5, 1.5)\n",
        "A.symmetric_difference(B)"
      ],
      "metadata": {
        "colab": {
          "base_uri": "https://localhost:8080/",
          "height": 37
        },
        "id": "jq7ZV0w-r-vW",
        "outputId": "2b40d9e8-9ae1-4b7b-bb1d-ec55a5bf374c"
      },
      "execution_count": 18,
      "outputs": [
        {
          "output_type": "execute_result",
          "data": {
            "text/plain": [
              "[0, 0.5) ∪ (1, 1.5]"
            ],
            "text/latex": "$\\displaystyle \\left[0, 0.5\\right) \\cup \\left(1, 1.5\\right]$"
          },
          "metadata": {},
          "execution_count": 18
        }
      ]
    },
    {
      "cell_type": "code",
      "source": [
        "# Returns the complement\n",
        "A = Interval(0, 1)\n",
        "B = Interval(0.5, 1.5)\n",
        "A.complement(B)"
      ],
      "metadata": {
        "colab": {
          "base_uri": "https://localhost:8080/",
          "height": 37
        },
        "id": "N5qlvS1QKlV-",
        "outputId": "2a2786aa-cc0b-4e58-f4cb-200a9d657f85"
      },
      "execution_count": 19,
      "outputs": [
        {
          "output_type": "execute_result",
          "data": {
            "text/plain": [
              "(1, 1.5]"
            ],
            "text/latex": "$\\displaystyle \\left(1, 1.5\\right]$"
          },
          "metadata": {},
          "execution_count": 19
        }
      ]
    },
    {
      "cell_type": "markdown",
      "source": [
        "## Checks"
      ],
      "metadata": {
        "id": "RcL8Uwei6DRb"
      }
    },
    {
      "cell_type": "code",
      "source": [
        "# Checking if a value is in the interval\n",
        "A = Interval(0, 1)\n",
        "A.contains(0.5)"
      ],
      "metadata": {
        "colab": {
          "base_uri": "https://localhost:8080/",
          "height": 37
        },
        "id": "u0FyJZWuZy6b",
        "outputId": "72b18bc7-7d76-4184-8d5a-4dce027590f3"
      },
      "execution_count": 20,
      "outputs": [
        {
          "output_type": "execute_result",
          "data": {
            "text/plain": [
              "True"
            ],
            "text/latex": "$\\displaystyle \\text{True}$"
          },
          "metadata": {},
          "execution_count": 20
        }
      ]
    },
    {
      "cell_type": "code",
      "source": [
        "# Check whether a set is open\n",
        "A = Interval(0, 1)\n",
        "A.is_open"
      ],
      "metadata": {
        "colab": {
          "base_uri": "https://localhost:8080/"
        },
        "id": "f9JaCu2DtM1T",
        "outputId": "0b39eaa6-87d5-416e-d687-bf0280cd30f2"
      },
      "execution_count": 21,
      "outputs": [
        {
          "output_type": "execute_result",
          "data": {
            "text/plain": [
              "False"
            ]
          },
          "metadata": {},
          "execution_count": 21
        }
      ]
    },
    {
      "cell_type": "code",
      "source": [
        "# Check if sets have no element in common\n",
        "A = Interval(0, 1)\n",
        "B = Interval(2, 5)\n",
        "A.is_disjoint(B)"
      ],
      "metadata": {
        "colab": {
          "base_uri": "https://localhost:8080/"
        },
        "id": "Y_uvs7tzNH7Q",
        "outputId": "2caf6a9b-80f1-4a6f-b019-620c60fee987"
      },
      "execution_count": 22,
      "outputs": [
        {
          "output_type": "execute_result",
          "data": {
            "text/plain": [
              "True"
            ]
          },
          "metadata": {},
          "execution_count": 22
        }
      ]
    },
    {
      "cell_type": "code",
      "source": [
        "# Check if is a subset\n",
        "A = Interval(2, 5)\n",
        "B = Interval(0, 10)\n",
        "A.is_subset(B)"
      ],
      "metadata": {
        "colab": {
          "base_uri": "https://localhost:8080/"
        },
        "id": "G0D6lBZ1Yauv",
        "outputId": "3371adf3-46a5-4deb-840b-d83a1682d79a"
      },
      "execution_count": 23,
      "outputs": [
        {
          "output_type": "execute_result",
          "data": {
            "text/plain": [
              "True"
            ]
          },
          "metadata": {},
          "execution_count": 23
        }
      ]
    },
    {
      "cell_type": "code",
      "source": [
        "# Check if is a superset\n",
        "A = Interval(0, 10)\n",
        "B = Interval(3, 5)\n",
        "A.is_superset(B)"
      ],
      "metadata": {
        "colab": {
          "base_uri": "https://localhost:8080/"
        },
        "id": "NC_za1y9Y6xo",
        "outputId": "bff170ca-06db-4662-8294-bf8f7170379f"
      },
      "execution_count": 24,
      "outputs": [
        {
          "output_type": "execute_result",
          "data": {
            "text/plain": [
              "True"
            ]
          },
          "metadata": {},
          "execution_count": 24
        }
      ]
    },
    {
      "cell_type": "code",
      "source": [
        "# Check if is a proper subset\n",
        "A = Interval(2, 5)\n",
        "B = Interval(3, 10)\n",
        "A.is_proper_subset(B)"
      ],
      "metadata": {
        "colab": {
          "base_uri": "https://localhost:8080/"
        },
        "id": "-SJsJ3guV_Fl",
        "outputId": "9d7ebcfb-6b23-498f-c670-9de3efb13054"
      },
      "execution_count": 25,
      "outputs": [
        {
          "output_type": "execute_result",
          "data": {
            "text/plain": [
              "False"
            ]
          },
          "metadata": {},
          "execution_count": 25
        }
      ]
    },
    {
      "cell_type": "code",
      "source": [
        "# Check if is a proper superset\n",
        "A = Interval(2, 5)\n",
        "B = Interval(3, 10)\n",
        "A.is_proper_superset(B)"
      ],
      "metadata": {
        "colab": {
          "base_uri": "https://localhost:8080/"
        },
        "id": "Xh9QVteuX8OY",
        "outputId": "0ec952e3-0917-456e-c992-8353bfb3c885"
      },
      "execution_count": 26,
      "outputs": [
        {
          "output_type": "execute_result",
          "data": {
            "text/plain": [
              "False"
            ]
          },
          "metadata": {},
          "execution_count": 26
        }
      ]
    }
  ]
}