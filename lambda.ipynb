{
  "nbformat": 4,
  "nbformat_minor": 0,
  "metadata": {
    "colab": {
      "provenance": [],
      "authorship_tag": "ABX9TyNV6ENfFiPjDFARerZqt6RX",
      "include_colab_link": true
    },
    "kernelspec": {
      "name": "python3",
      "display_name": "Python 3"
    },
    "language_info": {
      "name": "python"
    }
  },
  "cells": [
    {
      "cell_type": "markdown",
      "metadata": {
        "id": "view-in-github",
        "colab_type": "text"
      },
      "source": [
        "<a href=\"https://colab.research.google.com/github/dionipadilha/sympy/blob/main/lambda.ipynb\" target=\"_parent\"><img src=\"https://colab.research.google.com/assets/colab-badge.svg\" alt=\"Open In Colab\"/></a>"
      ]
    },
    {
      "cell_type": "markdown",
      "source": [
        "# Lambda"
      ],
      "metadata": {
        "id": "7egheB93rXa5"
      }
    },
    {
      "cell_type": "code",
      "execution_count": 1,
      "metadata": {
        "id": "cLuOPsoD-D5P"
      },
      "outputs": [],
      "source": [
        "from sympy import *\n",
        "x, y = symbols('x, y')"
      ]
    },
    {
      "cell_type": "code",
      "source": [
        "# Lambda function with one parameter:\n",
        "Lambda(x, 2*x + 3)"
      ],
      "metadata": {
        "colab": {
          "base_uri": "https://localhost:8080/",
          "height": 38
        },
        "id": "y02_IIlu-pKb",
        "outputId": "d321c983-adad-46f9-ad57-a3cb3a9193b0"
      },
      "execution_count": 2,
      "outputs": [
        {
          "output_type": "execute_result",
          "data": {
            "text/plain": [
              "Lambda(x, 2*x + 3)"
            ],
            "text/latex": "$\\displaystyle \\left( x \\mapsto 2 x + 3 \\right)$"
          },
          "metadata": {},
          "execution_count": 2
        }
      ]
    },
    {
      "cell_type": "code",
      "source": [
        "# Lambda function with value:\n",
        "Lambda(x, 2*x + 3)(4)"
      ],
      "metadata": {
        "colab": {
          "base_uri": "https://localhost:8080/",
          "height": 37
        },
        "id": "mkZaTFUJ_zlY",
        "outputId": "08948d99-1318-4303-d100-20541d2c02d1"
      },
      "execution_count": 3,
      "outputs": [
        {
          "output_type": "execute_result",
          "data": {
            "text/plain": [
              "11"
            ],
            "text/latex": "$\\displaystyle 11$"
          },
          "metadata": {},
          "execution_count": 3
        }
      ]
    },
    {
      "cell_type": "code",
      "source": [
        "# Lambda function with two parameters:\n",
        "Lambda((x, y), sqrt(x**2 + y**2))(3 , 4)"
      ],
      "metadata": {
        "colab": {
          "base_uri": "https://localhost:8080/",
          "height": 37
        },
        "id": "YsxVxKGB-tTa",
        "outputId": "a72f242e-3bb8-4ea5-d7aa-bafa121475f9"
      },
      "execution_count": 4,
      "outputs": [
        {
          "output_type": "execute_result",
          "data": {
            "text/plain": [
              "5"
            ],
            "text/latex": "$\\displaystyle 5$"
          },
          "metadata": {},
          "execution_count": 4
        }
      ]
    },
    {
      "cell_type": "code",
      "source": [
        "# Set f to be a Lambda function:\n",
        "f = Lambda(x, 2*x + 3)\n",
        "f"
      ],
      "metadata": {
        "colab": {
          "base_uri": "https://localhost:8080/",
          "height": 38
        },
        "id": "Y51D3xgr-75x",
        "outputId": "101c7f39-68a2-4253-e88d-a123b5bf4251"
      },
      "execution_count": 5,
      "outputs": [
        {
          "output_type": "execute_result",
          "data": {
            "text/plain": [
              "Lambda(x, 2*x + 3)"
            ],
            "text/latex": "$\\displaystyle \\left( x \\mapsto 2 x + 3 \\right)$"
          },
          "metadata": {},
          "execution_count": 5
        }
      ]
    },
    {
      "cell_type": "code",
      "source": [
        "# Use the pure function:\n",
        "f(2)"
      ],
      "metadata": {
        "colab": {
          "base_uri": "https://localhost:8080/",
          "height": 37
        },
        "id": "GQTQF32rBoG0",
        "outputId": "d2bd2799-c569-4ed4-860b-4dd3e0627aba"
      },
      "execution_count": 6,
      "outputs": [
        {
          "output_type": "execute_result",
          "data": {
            "text/plain": [
              "7"
            ],
            "text/latex": "$\\displaystyle 7$"
          },
          "metadata": {},
          "execution_count": 6
        }
      ]
    },
    {
      "cell_type": "code",
      "source": [
        "# Set PythagorasTheorem to be a Lambda function:\n",
        "a, b = symbols('a, b')\n",
        "Pythagoras = Lambda((a, b), sqrt(a**2 + b**2))\n",
        "Pythagoras"
      ],
      "metadata": {
        "colab": {
          "base_uri": "https://localhost:8080/",
          "height": 47
        },
        "id": "iHDS8rI-BvtD",
        "outputId": "4836f78a-3a2c-4afa-9186-be7407761fd1"
      },
      "execution_count": 7,
      "outputs": [
        {
          "output_type": "execute_result",
          "data": {
            "text/plain": [
              "Lambda((a, b), sqrt(a**2 + b**2))"
            ],
            "text/latex": "$\\displaystyle \\left( \\left( a, \\  b\\right) \\mapsto \\sqrt{a^{2} + b^{2}} \\right)$"
          },
          "metadata": {},
          "execution_count": 7
        }
      ]
    },
    {
      "cell_type": "code",
      "source": [
        "# Use PythagorasTheorem to be a Lambda function:\n",
        "Pythagoras(3, 4)"
      ],
      "metadata": {
        "colab": {
          "base_uri": "https://localhost:8080/",
          "height": 37
        },
        "id": "wph6EEVICKGc",
        "outputId": "bb285358-c950-4d50-a3af-ccb24770e8f9"
      },
      "execution_count": 8,
      "outputs": [
        {
          "output_type": "execute_result",
          "data": {
            "text/plain": [
              "5"
            ],
            "text/latex": "$\\displaystyle 5$"
          },
          "metadata": {},
          "execution_count": 8
        }
      ]
    },
    {
      "cell_type": "code",
      "source": [
        "# A handy shortcut for lots of arguments::\n",
        "legs = symbols('a, b')\n",
        "Pythagoras = Lambda(legs, sqrt(a**2 + b**2))\n",
        "Pythagoras(*legs)"
      ],
      "metadata": {
        "colab": {
          "base_uri": "https://localhost:8080/",
          "height": 40
        },
        "id": "ye7p2jePpNsY",
        "outputId": "5e193a3b-04e9-477e-9c03-86e60a8aa30b"
      },
      "execution_count": 9,
      "outputs": [
        {
          "output_type": "execute_result",
          "data": {
            "text/plain": [
              "sqrt(a**2 + b**2)"
            ],
            "text/latex": "$\\displaystyle \\sqrt{a^{2} + b^{2}}$"
          },
          "metadata": {},
          "execution_count": 9
        }
      ]
    },
    {
      "cell_type": "code",
      "source": [
        "# A handy shortcut for lots of arguments::\n",
        "legs = symbols('a, b')\n",
        "Pythagoras = Lambda(legs, sqrt(a**2 + b**2))\n",
        "Pythagoras(3, 4)"
      ],
      "metadata": {
        "colab": {
          "base_uri": "https://localhost:8080/",
          "height": 37
        },
        "id": "rHQUYy2nrTfY",
        "outputId": "808e84bd-083b-4cee-c537-ed3e3ffc25bd"
      },
      "execution_count": 10,
      "outputs": [
        {
          "output_type": "execute_result",
          "data": {
            "text/plain": [
              "5"
            ],
            "text/latex": "$\\displaystyle 5$"
          },
          "metadata": {},
          "execution_count": 10
        }
      ]
    }
  ]
}