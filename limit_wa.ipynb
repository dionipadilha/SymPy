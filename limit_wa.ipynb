{
  "nbformat": 4,
  "nbformat_minor": 0,
  "metadata": {
    "colab": {
      "provenance": [],
      "authorship_tag": "ABX9TyNr2qvt9Dd68+7cTlP/e4px",
      "include_colab_link": true
    },
    "kernelspec": {
      "name": "python3",
      "display_name": "Python 3"
    },
    "language_info": {
      "name": "python"
    }
  },
  "cells": [
    {
      "cell_type": "markdown",
      "metadata": {
        "id": "view-in-github",
        "colab_type": "text"
      },
      "source": [
        "<a href=\"https://colab.research.google.com/github/dionipadilha/SymPy/blob/main/limit_wa.ipynb\" target=\"_parent\"><img src=\"https://colab.research.google.com/assets/colab-badge.svg\" alt=\"Open In Colab\"/></a>"
      ]
    },
    {
      "cell_type": "code",
      "execution_count": 1,
      "metadata": {
        "id": "DrWFiX4oUiOy"
      },
      "outputs": [],
      "source": [
        "# symbolic env\n",
        "from sympy import *\n",
        "a, b, c, d    = symbols('a, b, c, d')\n",
        "x, y, z, t, h = symbols('x, y, z, t, h')\n",
        "k, m, n       = symbols('k, m, n', integer=True)\n",
        "f, g          = symbols('f, g', cls=Function)\n",
        "init_printing()"
      ]
    },
    {
      "cell_type": "code",
      "source": [
        "# Compute a limit:\n",
        "expr = (sin(x) - x)/x**3\n",
        "L = Limit(expr, x, 0)\n",
        "Eq(L, L.doit())"
      ],
      "metadata": {
        "colab": {
          "base_uri": "https://localhost:8080/",
          "height": 58
        },
        "id": "KsO4tkr6UsQy",
        "outputId": "75fc77ca-8295-4620-90a9-bfa8e5f2b3d9"
      },
      "execution_count": 2,
      "outputs": [
        {
          "output_type": "execute_result",
          "data": {
            "text/plain": [
              "     ⎛-x + sin(x)⎞       \n",
              " lim ⎜───────────⎟ = -1/6\n",
              "x─→0⁺⎜      3    ⎟       \n",
              "     ⎝     x     ⎠       "
            ],
            "text/latex": "$\\displaystyle \\lim_{x \\to 0^+}\\left(\\frac{- x + \\sin{\\left(x \\right)}}{x^{3}}\\right) = - \\frac{1}{6}$"
          },
          "metadata": {},
          "execution_count": 2
        }
      ]
    },
    {
      "cell_type": "code",
      "source": [
        "# Compute a limit:\n",
        "expr = (1+(1/n))**n\n",
        "L = Limit(expr, n, oo)\n",
        "Eq(L, L.doit())"
      ],
      "metadata": {
        "colab": {
          "base_uri": "https://localhost:8080/",
          "height": 59
        },
        "id": "dI_RkY7hV531",
        "outputId": "94557d97-9e83-4f94-cbd3-90a26ec4e08f"
      },
      "execution_count": 3,
      "outputs": [
        {
          "output_type": "execute_result",
          "data": {
            "text/plain": [
              "           n    \n",
              "    ⎛    1⎞     \n",
              "lim ⎜1 + ─⎟  = ℯ\n",
              "n─→∞⎝    n⎠     "
            ],
            "text/latex": "$\\displaystyle \\lim_{n \\to \\infty} \\left(1 + \\frac{1}{n}\\right)^{n} = e$"
          },
          "metadata": {},
          "execution_count": 3
        }
      ]
    },
    {
      "cell_type": "code",
      "source": [
        "# Take the limit of a difference quotient:\n",
        "expr = ((x+h)**5 - x**5)/h\n",
        "L = Limit(expr, h, 0)\n",
        "Eq(L, L.doit())"
      ],
      "metadata": {
        "colab": {
          "base_uri": "https://localhost:8080/",
          "height": 68
        },
        "id": "zgHjdt9OWG6Y",
        "outputId": "99d3d046-8c74-4a84-94f4-602996485206"
      },
      "execution_count": 4,
      "outputs": [
        {
          "output_type": "execute_result",
          "data": {
            "text/plain": [
              "     ⎛   5          5⎞       \n",
              "     ⎜- x  + (h + x) ⎟      4\n",
              " lim ⎜───────────────⎟ = 5⋅x \n",
              "h─→0⁺⎝       h       ⎠       "
            ],
            "text/latex": "$\\displaystyle \\lim_{h \\to 0^+}\\left(\\frac{- x^{5} + \\left(h + x\\right)^{5}}{h}\\right) = 5 x^{4}$"
          },
          "metadata": {},
          "execution_count": 4
        }
      ]
    },
    {
      "cell_type": "code",
      "source": [
        "# Compute a limit involving abstract functions:\n",
        "expr = (f(x+h) - 2*f(x) + f(x-h)) / h**2\n",
        "L = Limit(expr, h, 0)\n",
        "Eq(L, L.doit().simplify())"
      ],
      "metadata": {
        "colab": {
          "base_uri": "https://localhost:8080/",
          "height": 58
        },
        "id": "OUgiCprRXQVX",
        "outputId": "3c31648a-6d06-48e4-a800-af5227a5083d"
      },
      "execution_count": 5,
      "outputs": [
        {
          "output_type": "execute_result",
          "data": {
            "text/plain": [
              "                                          2      \n",
              "     ⎛-2⋅f(x) + f(-h + x) + f(h + x)⎞    d       \n",
              " lim ⎜──────────────────────────────⎟ = ───(f(x))\n",
              "h─→0⁺⎜               2              ⎟     2      \n",
              "     ⎝              h               ⎠   dx       "
            ],
            "text/latex": "$\\displaystyle \\lim_{h \\to 0^+}\\left(\\frac{- 2 f{\\left(x \\right)} + f{\\left(- h + x \\right)} + f{\\left(h + x \\right)}}{h^{2}}\\right) = \\frac{d^{2}}{d x^{2}} f{\\left(x \\right)}$"
          },
          "metadata": {},
          "execution_count": 5
        }
      ]
    },
    {
      "cell_type": "code",
      "source": [
        "# Compute one-sided limits at a point of discontinuity:\n",
        "expr = (x**2 + 2*x + 3)/(x**2 - 2*x - 3)\n",
        "L = Limit(expr, x, 3)\n",
        "Eq(L, L.doit())"
      ],
      "metadata": {
        "colab": {
          "base_uri": "https://localhost:8080/",
          "height": 58
        },
        "id": "J-d8KsXVahHC",
        "outputId": "ddd145b6-7422-40e2-8f0f-4a6d121855ff"
      },
      "execution_count": 6,
      "outputs": [
        {
          "output_type": "execute_result",
          "data": {
            "text/plain": [
              "     ⎛ 2          ⎞    \n",
              "     ⎜x  + 2⋅x + 3⎟    \n",
              " lim ⎜────────────⎟ = ∞\n",
              "x─→3⁺⎜ 2          ⎟    \n",
              "     ⎝x  - 2⋅x - 3⎠    "
            ],
            "text/latex": "$\\displaystyle \\lim_{x \\to 3^+}\\left(\\frac{x^{2} + 2 x + 3}{x^{2} - 2 x - 3}\\right) = \\infty$"
          },
          "metadata": {},
          "execution_count": 6
        }
      ]
    },
    {
      "cell_type": "code",
      "source": [
        "# Compute one-sided limits at a point of discontinuity:\n",
        "p = Piecewise((x**2, x <= 2), (5*x - 7, x > 2))\n",
        "L = Limit(p, x, 2)\n",
        "Eq(L, L.doit()) # ERROR: deveria reultar 3"
      ],
      "metadata": {
        "colab": {
          "base_uri": "https://localhost:8080/",
          "height": 68
        },
        "id": "OfAlyvTMeKL-",
        "outputId": "3f66caac-2e9d-4719-883d-2c0e0f88ea0a"
      },
      "execution_count": 7,
      "outputs": [
        {
          "output_type": "execute_result",
          "data": {
            "text/plain": [
              "     ⎧   2                  \n",
              "     ⎪  x      for x ≤ 2    \n",
              " lim ⎨                   = 4\n",
              "x─→2⁺⎪5⋅x - 7  otherwise    \n",
              "     ⎩                      "
            ],
            "text/latex": "$\\displaystyle \\lim_{x \\to 2^+} \\begin{cases} x^{2} & \\text{for}\\: x \\leq 2 \\\\5 x - 7 & \\text{otherwise} \\end{cases} = 4$"
          },
          "metadata": {},
          "execution_count": 7
        }
      ]
    },
    {
      "cell_type": "code",
      "source": [
        "# Specify the direction of approach:\n",
        "expr = x/Abs(x)\n",
        "L = Limit(expr, x, 0, '+')\n",
        "Eq(L, L.doit())"
      ],
      "metadata": {
        "colab": {
          "base_uri": "https://localhost:8080/",
          "height": 58
        },
        "id": "KHy9GCM2ib2Z",
        "outputId": "d6ce6e15-a7e9-4f4d-c0fb-e416600299eb"
      },
      "execution_count": 8,
      "outputs": [
        {
          "output_type": "execute_result",
          "data": {
            "text/plain": [
              "     ⎛ x ⎞    \n",
              " lim ⎜───⎟ = 1\n",
              "x─→0⁺⎝│x│⎠    "
            ],
            "text/latex": "$\\displaystyle \\lim_{x \\to 0^+}\\left(\\frac{x}{\\left|{x}\\right|}\\right) = 1$"
          },
          "metadata": {},
          "execution_count": 8
        }
      ]
    },
    {
      "cell_type": "code",
      "source": [
        "# Specify the direction of approach:\n",
        "expr = x/Abs(x)\n",
        "L = Limit(expr, x, 0, '-')\n",
        "Eq(L, L.doit())"
      ],
      "metadata": {
        "colab": {
          "base_uri": "https://localhost:8080/",
          "height": 58
        },
        "id": "9Gbz7vcii7ry",
        "outputId": "f72cde3b-26c3-4897-b242-740928696803"
      },
      "execution_count": 9,
      "outputs": [
        {
          "output_type": "execute_result",
          "data": {
            "text/plain": [
              "     ⎛ x ⎞     \n",
              " lim ⎜───⎟ = -1\n",
              "x─→0⁻⎝│x│⎠     "
            ],
            "text/latex": "$\\displaystyle \\lim_{x \\to 0^-}\\left(\\frac{x}{\\left|{x}\\right|}\\right) = -1$"
          },
          "metadata": {},
          "execution_count": 9
        }
      ]
    },
    {
      "cell_type": "code",
      "source": [
        "# Specify the direction of approach:\n",
        "expr = tan(t)\n",
        "L = Limit(expr, t, pi/2, '-')\n",
        "Eq(L, L.doit())"
      ],
      "metadata": {
        "colab": {
          "base_uri": "https://localhost:8080/",
          "height": 50
        },
        "id": "apXrAuZaioO6",
        "outputId": "6d8dd51b-3bf8-4852-d065-5cfd242da4eb"
      },
      "execution_count": 10,
      "outputs": [
        {
          "output_type": "execute_result",
          "data": {
            "text/plain": [
              " lim tan(t) = ∞\n",
              "   π           \n",
              "t─→─⁻          \n",
              "   2           "
            ],
            "text/latex": "$\\displaystyle \\lim_{t \\to \\frac{\\pi}{2}^-} \\tan{\\left(t \\right)} = \\infty$"
          },
          "metadata": {},
          "execution_count": 10
        }
      ]
    },
    {
      "cell_type": "code",
      "source": [
        "# Specify the direction of approach:\n",
        "expr = tan(t)\n",
        "L = Limit(expr, t, pi/2, '+')\n",
        "Eq(L, L.doit())"
      ],
      "metadata": {
        "colab": {
          "base_uri": "https://localhost:8080/",
          "height": 50
        },
        "id": "cI8coHgTiz8a",
        "outputId": "db2ee6a4-cb5b-4e73-c366-127e457f5046"
      },
      "execution_count": 11,
      "outputs": [
        {
          "output_type": "execute_result",
          "data": {
            "text/plain": [
              " lim tan(t) = -∞\n",
              "   π            \n",
              "t─→─⁺           \n",
              "   2            "
            ],
            "text/latex": "$\\displaystyle \\lim_{t \\to \\frac{\\pi}{2}^+} \\tan{\\left(t \\right)} = -\\infty$"
          },
          "metadata": {},
          "execution_count": 11
        }
      ]
    }
  ]
}