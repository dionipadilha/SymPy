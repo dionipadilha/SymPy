{
  "nbformat": 4,
  "nbformat_minor": 0,
  "metadata": {
    "colab": {
      "provenance": [],
      "authorship_tag": "ABX9TyO3NLS0RZSErZ86Y8Vc3xWt",
      "include_colab_link": true
    },
    "kernelspec": {
      "name": "python3",
      "display_name": "Python 3"
    },
    "language_info": {
      "name": "python"
    }
  },
  "cells": [
    {
      "cell_type": "markdown",
      "metadata": {
        "id": "view-in-github",
        "colab_type": "text"
      },
      "source": [
        "<a href=\"https://colab.research.google.com/github/dionipadilha/sympy/blob/main/math_inputs.ipynb\" target=\"_parent\"><img src=\"https://colab.research.google.com/assets/colab-badge.svg\" alt=\"Open In Colab\"/></a>"
      ]
    },
    {
      "cell_type": "markdown",
      "source": [
        "# Math Inputs"
      ],
      "metadata": {
        "id": "gKWyIWgpM7t5"
      }
    },
    {
      "cell_type": "code",
      "execution_count": null,
      "metadata": {
        "id": "uNyQS847LI7_"
      },
      "outputs": [],
      "source": [
        "# Symbolic environment\n",
        "from sympy import *\n",
        "init_printing()\n",
        "a, b, c, d = symbols('a, b, c, d')\n",
        "x, y, z, w = symbols('x, y, z, w')\n",
        "r, s, t, u, v = symbols('r, s, t, u, v')\n",
        "k, m, n = symbols('k m n', integer=True)\n",
        "f, g, h = symbols('f g h', cls=Function)"
      ]
    },
    {
      "cell_type": "markdown",
      "source": [
        "## BASIC MATH"
      ],
      "metadata": {
        "id": "4ZOLWJLiNB8p"
      }
    },
    {
      "cell_type": "code",
      "source": [
        "#fraction\n",
        "x/y"
      ],
      "metadata": {
        "colab": {
          "base_uri": "https://localhost:8080/",
          "height": 51
        },
        "id": "fHDCxieSL4QS",
        "outputId": "47d5c1ab-4a77-4e3f-a458-2c9933e87df4"
      },
      "execution_count": null,
      "outputs": [
        {
          "output_type": "execute_result",
          "data": {
            "text/plain": [
              "x\n",
              "─\n",
              "y"
            ],
            "text/latex": "$\\displaystyle \\frac{x}{y}$"
          },
          "metadata": {},
          "execution_count": 2
        }
      ]
    },
    {
      "cell_type": "code",
      "source": [
        "#square\n",
        "x**2"
      ],
      "metadata": {
        "colab": {
          "base_uri": "https://localhost:8080/",
          "height": 39
        },
        "id": "b_rI8HzeMN_Z",
        "outputId": "0b99ff53-490a-43fa-a703-8c8b05ac8dd2"
      },
      "execution_count": null,
      "outputs": [
        {
          "output_type": "execute_result",
          "data": {
            "text/plain": [
              " 2\n",
              "x "
            ],
            "text/latex": "$\\displaystyle x^{2}$"
          },
          "metadata": {},
          "execution_count": 3
        }
      ]
    },
    {
      "cell_type": "code",
      "source": [
        "#power\n",
        "x**y"
      ],
      "metadata": {
        "colab": {
          "base_uri": "https://localhost:8080/",
          "height": 39
        },
        "id": "ugnUwVuYNJBh",
        "outputId": "9f9dd0be-ccef-41ec-bbbb-0222fe9ac6ea"
      },
      "execution_count": null,
      "outputs": [
        {
          "output_type": "execute_result",
          "data": {
            "text/plain": [
              " y\n",
              "x "
            ],
            "text/latex": "$\\displaystyle x^{y}$"
          },
          "metadata": {},
          "execution_count": 4
        }
      ]
    },
    {
      "cell_type": "code",
      "source": [
        "#square root\n",
        "sqrt(x)"
      ],
      "metadata": {
        "colab": {
          "base_uri": "https://localhost:8080/",
          "height": 37
        },
        "id": "E49VYRahNLGw",
        "outputId": "ec2aa933-734a-4aa1-f252-a340d0135948"
      },
      "execution_count": null,
      "outputs": [
        {
          "output_type": "execute_result",
          "data": {
            "text/plain": [
              "√x"
            ],
            "text/latex": "$\\displaystyle \\sqrt{x}$"
          },
          "metadata": {},
          "execution_count": 5
        }
      ]
    },
    {
      "cell_type": "code",
      "source": [
        "#cube root\n",
        "root(x, 3)"
      ],
      "metadata": {
        "colab": {
          "base_uri": "https://localhost:8080/",
          "height": 37
        },
        "id": "Sq8bf1OfNM-5",
        "outputId": "80dd8567-f817-43f6-a215-0f9a5e099add"
      },
      "execution_count": null,
      "outputs": [
        {
          "output_type": "execute_result",
          "data": {
            "text/plain": [
              "3 ___\n",
              "╲╱ x "
            ],
            "text/latex": "$\\displaystyle \\sqrt[3]{x}$"
          },
          "metadata": {},
          "execution_count": 6
        }
      ]
    },
    {
      "cell_type": "code",
      "source": [
        "#nth root\n",
        "root(x, n)"
      ],
      "metadata": {
        "colab": {
          "base_uri": "https://localhost:8080/",
          "height": 41
        },
        "id": "GDxRCTR3NOwx",
        "outputId": "5332dd6d-729c-4fde-91d0-ab52e52ea04b"
      },
      "execution_count": null,
      "outputs": [
        {
          "output_type": "execute_result",
          "data": {
            "text/plain": [
              "n ___\n",
              "╲╱ x "
            ],
            "text/latex": "$\\displaystyle x^{\\frac{1}{n}}$"
          },
          "metadata": {},
          "execution_count": 7
        }
      ]
    },
    {
      "cell_type": "code",
      "source": [
        "#infinity\n",
        "oo"
      ],
      "metadata": {
        "colab": {
          "base_uri": "https://localhost:8080/",
          "height": 37
        },
        "id": "DDPJmPa3NRPZ",
        "outputId": "23ac4410-d7f0-46f7-8f46-9f82a2fdbdf8"
      },
      "execution_count": null,
      "outputs": [
        {
          "output_type": "execute_result",
          "data": {
            "text/plain": [
              "∞"
            ],
            "text/latex": "$\\displaystyle \\infty$"
          },
          "metadata": {},
          "execution_count": 8
        }
      ]
    },
    {
      "cell_type": "code",
      "source": [
        "#negative infinity\n",
        "-oo"
      ],
      "metadata": {
        "colab": {
          "base_uri": "https://localhost:8080/",
          "height": 37
        },
        "id": "75x9g3qVNWpS",
        "outputId": "3353f076-a2c8-4096-c0b0-8669a3cdbfd4"
      },
      "execution_count": null,
      "outputs": [
        {
          "output_type": "execute_result",
          "data": {
            "text/plain": [
              "-∞"
            ],
            "text/latex": "$\\displaystyle -\\infty$"
          },
          "metadata": {},
          "execution_count": 9
        }
      ]
    },
    {
      "cell_type": "code",
      "source": [
        "#capital pi\n",
        "pi"
      ],
      "metadata": {
        "colab": {
          "base_uri": "https://localhost:8080/",
          "height": 39
        },
        "id": "WBu--x2aNYap",
        "outputId": "c73049d4-943f-42ef-b1ad-282dcec73a3b"
      },
      "execution_count": null,
      "outputs": [
        {
          "output_type": "execute_result",
          "data": {
            "text/plain": [
              "π"
            ],
            "text/latex": "$\\displaystyle \\pi$"
          },
          "metadata": {},
          "execution_count": 10
        }
      ]
    },
    {
      "cell_type": "code",
      "source": [
        "#Euler's number\n",
        "E"
      ],
      "metadata": {
        "colab": {
          "base_uri": "https://localhost:8080/",
          "height": 39
        },
        "id": "TQbNgn6kNZ2p",
        "outputId": "471f7ba0-cc6d-4754-e819-2d6f0923f284"
      },
      "execution_count": null,
      "outputs": [
        {
          "output_type": "execute_result",
          "data": {
            "text/plain": [
              "ℯ"
            ],
            "text/latex": "$\\displaystyle e$"
          },
          "metadata": {},
          "execution_count": 11
        }
      ]
    },
    {
      "cell_type": "code",
      "source": [
        "#exponential function\n",
        "exp(x)"
      ],
      "metadata": {
        "colab": {
          "base_uri": "https://localhost:8080/",
          "height": 39
        },
        "id": "DdlbGAt3Nb-B",
        "outputId": "0dda6851-65b2-414a-bd3f-8d57f547af60"
      },
      "execution_count": null,
      "outputs": [
        {
          "output_type": "execute_result",
          "data": {
            "text/plain": [
              " x\n",
              "ℯ "
            ],
            "text/latex": "$\\displaystyle e^{x}$"
          },
          "metadata": {},
          "execution_count": 12
        }
      ]
    },
    {
      "cell_type": "code",
      "source": [
        "#natural logarithm\n",
        "log(x)"
      ],
      "metadata": {
        "colab": {
          "base_uri": "https://localhost:8080/",
          "height": 39
        },
        "id": "CDp5tP_0Neke",
        "outputId": "325e5b14-c84e-4be1-a33f-1eb624f37590"
      },
      "execution_count": null,
      "outputs": [
        {
          "output_type": "execute_result",
          "data": {
            "text/plain": [
              "log(x)"
            ],
            "text/latex": "$\\displaystyle \\log{\\left(x \\right)}$"
          },
          "metadata": {},
          "execution_count": 13
        }
      ]
    },
    {
      "cell_type": "code",
      "source": [
        "#logarithm\n",
        "log(x, b)"
      ],
      "metadata": {
        "colab": {
          "base_uri": "https://localhost:8080/",
          "height": 57
        },
        "id": "IfCI_KPyNgXp",
        "outputId": "decee173-f1b1-4952-96e6-102892290c30"
      },
      "execution_count": null,
      "outputs": [
        {
          "output_type": "execute_result",
          "data": {
            "text/plain": [
              "log(x)\n",
              "──────\n",
              "log(b)"
            ],
            "text/latex": "$\\displaystyle \\frac{\\log{\\left(x \\right)}}{\\log{\\left(b \\right)}}$"
          },
          "metadata": {},
          "execution_count": 14
        }
      ]
    },
    {
      "cell_type": "code",
      "source": [
        "#common logarithm\n",
        "log(x, 10)"
      ],
      "metadata": {
        "colab": {
          "base_uri": "https://localhost:8080/",
          "height": 57
        },
        "id": "LFjNn-bMNl-h",
        "outputId": "1242e34b-4f3f-41ee-f417-87cb72c0d0fe"
      },
      "execution_count": null,
      "outputs": [
        {
          "output_type": "execute_result",
          "data": {
            "text/plain": [
              " log(x)\n",
              "───────\n",
              "log(10)"
            ],
            "text/latex": "$\\displaystyle \\frac{\\log{\\left(x \\right)}}{\\log{\\left(10 \\right)}}$"
          },
          "metadata": {},
          "execution_count": 15
        }
      ]
    },
    {
      "cell_type": "code",
      "source": [
        "#absolute value\n",
        "Abs(x)"
      ],
      "metadata": {
        "colab": {
          "base_uri": "https://localhost:8080/",
          "height": 39
        },
        "id": "k-HQ7s2ONpLw",
        "outputId": "619efaac-2303-4a1f-93e3-4211f8884fab"
      },
      "execution_count": null,
      "outputs": [
        {
          "output_type": "execute_result",
          "data": {
            "text/plain": [
              "│x│"
            ],
            "text/latex": "$\\displaystyle \\left|{x}\\right|$"
          },
          "metadata": {},
          "execution_count": 16
        }
      ]
    },
    {
      "cell_type": "code",
      "source": [
        "#less than or equal to\n",
        "x <= y"
      ],
      "metadata": {
        "colab": {
          "base_uri": "https://localhost:8080/",
          "height": 39
        },
        "id": "jrdYM--DNtI4",
        "outputId": "d718c5e9-479f-4fe4-88f9-033e9c883c70"
      },
      "execution_count": null,
      "outputs": [
        {
          "output_type": "execute_result",
          "data": {
            "text/plain": [
              "x ≤ y"
            ],
            "text/latex": "$\\displaystyle x \\leq y$"
          },
          "metadata": {},
          "execution_count": 17
        }
      ]
    },
    {
      "cell_type": "code",
      "source": [
        "#greater than or equal to\n",
        "x >= y"
      ],
      "metadata": {
        "colab": {
          "base_uri": "https://localhost:8080/",
          "height": 39
        },
        "id": "h3LybRiRNvHw",
        "outputId": "a90fad21-3584-481c-8ca2-2b533bc84718"
      },
      "execution_count": null,
      "outputs": [
        {
          "output_type": "execute_result",
          "data": {
            "text/plain": [
              "x ≥ y"
            ],
            "text/latex": "$\\displaystyle x \\geq y$"
          },
          "metadata": {},
          "execution_count": 18
        }
      ]
    },
    {
      "cell_type": "code",
      "source": [
        "#not equal\n",
        "x != y"
      ],
      "metadata": {
        "colab": {
          "base_uri": "https://localhost:8080/"
        },
        "id": "o9tZUtaXNwio",
        "outputId": "eca7ae68-8de3-4a51-9233-91a5a99faaa7"
      },
      "execution_count": null,
      "outputs": [
        {
          "output_type": "execute_result",
          "data": {
            "text/plain": [
              "True"
            ]
          },
          "metadata": {},
          "execution_count": 19
        }
      ]
    },
    {
      "cell_type": "markdown",
      "source": [
        "## CALCULUS & SUMS"
      ],
      "metadata": {
        "id": "-rFYbBT9N1AP"
      }
    },
    {
      "cell_type": "code",
      "source": [
        "#derivative\n",
        "Derivative(f(x), x)"
      ],
      "metadata": {
        "colab": {
          "base_uri": "https://localhost:8080/",
          "height": 52
        },
        "id": "ryX18J13Ny9Q",
        "outputId": "77b7afcc-852a-491e-bf05-7ed8db461f5c"
      },
      "execution_count": null,
      "outputs": [
        {
          "output_type": "execute_result",
          "data": {
            "text/plain": [
              "d       \n",
              "──(f(x))\n",
              "dx      "
            ],
            "text/latex": "$\\displaystyle \\frac{d}{d x} f{\\left(x \\right)}$"
          },
          "metadata": {},
          "execution_count": 20
        }
      ]
    },
    {
      "cell_type": "code",
      "source": [
        "#second-order derivative\n",
        "Derivative(f(x), x, 2)"
      ],
      "metadata": {
        "colab": {
          "base_uri": "https://localhost:8080/",
          "height": 54
        },
        "id": "cFGZd_yBN5bB",
        "outputId": "bd01ba28-6c15-46ab-b87d-803674a96729"
      },
      "execution_count": null,
      "outputs": [
        {
          "output_type": "execute_result",
          "data": {
            "text/plain": [
              "  2      \n",
              " d       \n",
              "───(f(x))\n",
              "  2      \n",
              "dx       "
            ],
            "text/latex": "$\\displaystyle \\frac{d^{2}}{d x^{2}} f{\\left(x \\right)}$"
          },
          "metadata": {},
          "execution_count": 21
        }
      ]
    },
    {
      "cell_type": "code",
      "source": [
        "#partial derivative\n",
        "Derivative(f(x,y), x)"
      ],
      "metadata": {
        "colab": {
          "base_uri": "https://localhost:8080/",
          "height": 52
        },
        "id": "QOieYF8TN7Nx",
        "outputId": "af6bb8ce-6184-4e22-add7-df14826586f8"
      },
      "execution_count": null,
      "outputs": [
        {
          "output_type": "execute_result",
          "data": {
            "text/plain": [
              "∂          \n",
              "──(f(x, y))\n",
              "∂x         "
            ],
            "text/latex": "$\\displaystyle \\frac{\\partial}{\\partial x} f{\\left(x,y \\right)}$"
          },
          "metadata": {},
          "execution_count": 22
        }
      ]
    },
    {
      "cell_type": "code",
      "source": [
        "#second-order partial derivative\n",
        "Derivative(f(x,y), x, 2)"
      ],
      "metadata": {
        "colab": {
          "base_uri": "https://localhost:8080/",
          "height": 54
        },
        "id": "8zj8md4UN9Ah",
        "outputId": "1d29a290-66e7-4bfd-ae50-4b985d3a318a"
      },
      "execution_count": null,
      "outputs": [
        {
          "output_type": "execute_result",
          "data": {
            "text/plain": [
              "  2         \n",
              " ∂          \n",
              "───(f(x, y))\n",
              "  2         \n",
              "∂x          "
            ],
            "text/latex": "$\\displaystyle \\frac{\\partial^{2}}{\\partial x^{2}} f{\\left(x,y \\right)}$"
          },
          "metadata": {},
          "execution_count": 23
        }
      ]
    },
    {
      "cell_type": "code",
      "source": [
        "#mixed partial derivative\n",
        "Derivative(f(x,y), x, y)"
      ],
      "metadata": {
        "colab": {
          "base_uri": "https://localhost:8080/",
          "height": 57
        },
        "id": "_5rCOhEhN_7J",
        "outputId": "06ba1621-8265-467b-e225-a3963a740a78"
      },
      "execution_count": null,
      "outputs": [
        {
          "output_type": "execute_result",
          "data": {
            "text/plain": [
              "   2          \n",
              "  ∂           \n",
              "─────(f(x, y))\n",
              "∂y ∂x         "
            ],
            "text/latex": "$\\displaystyle \\frac{\\partial^{2}}{\\partial y\\partial x} f{\\left(x,y \\right)}$"
          },
          "metadata": {},
          "execution_count": 24
        }
      ]
    },
    {
      "cell_type": "code",
      "source": [
        "#integral\n",
        "Integral(f(x), x)"
      ],
      "metadata": {
        "colab": {
          "base_uri": "https://localhost:8080/",
          "height": 55
        },
        "id": "LRXve9KOOCZJ",
        "outputId": "ea4c7c3b-ad4c-49ec-8862-6eb3f1bf01e9"
      },
      "execution_count": null,
      "outputs": [
        {
          "output_type": "execute_result",
          "data": {
            "text/plain": [
              "⌠        \n",
              "⎮ f(x) dx\n",
              "⌡        "
            ],
            "text/latex": "$\\displaystyle \\int f{\\left(x \\right)}\\, dx$"
          },
          "metadata": {},
          "execution_count": 25
        }
      ]
    },
    {
      "cell_type": "code",
      "source": [
        "#double integral\n",
        "Integral(f(x, y), x, y)"
      ],
      "metadata": {
        "colab": {
          "base_uri": "https://localhost:8080/",
          "height": 55
        },
        "id": "2vMIl4ZFOGoh",
        "outputId": "7ed65712-2d81-4309-c4b2-a51ff23915f9"
      },
      "execution_count": null,
      "outputs": [
        {
          "output_type": "execute_result",
          "data": {
            "text/plain": [
              "⌠ ⌠              \n",
              "⎮ ⎮ f(x, y) dx dy\n",
              "⌡ ⌡              "
            ],
            "text/latex": "$\\displaystyle \\iint f{\\left(x,y \\right)}\\, dx\\, dy$"
          },
          "metadata": {},
          "execution_count": 26
        }
      ]
    },
    {
      "cell_type": "code",
      "source": [
        "#triple integral\n",
        "Integral(f(x, y, z), x, y, z)"
      ],
      "metadata": {
        "colab": {
          "base_uri": "https://localhost:8080/",
          "height": 55
        },
        "id": "6vXZFWowOJtR",
        "outputId": "c795d625-03d0-4ab0-8082-19cb829d3423"
      },
      "execution_count": null,
      "outputs": [
        {
          "output_type": "execute_result",
          "data": {
            "text/plain": [
              "⌠ ⌠ ⌠                    \n",
              "⎮ ⎮ ⎮ f(x, y, z) dx dy dz\n",
              "⌡ ⌡ ⌡                    "
            ],
            "text/latex": "$\\displaystyle \\iiint f{\\left(x,y,z \\right)}\\, dx\\, dy\\, dz$"
          },
          "metadata": {},
          "execution_count": 27
        }
      ]
    },
    {
      "cell_type": "code",
      "source": [
        "#definite integral\n",
        "Integral(f(x), (x, a, b))"
      ],
      "metadata": {
        "colab": {
          "base_uri": "https://localhost:8080/",
          "height": 80
        },
        "id": "bDC8FvgdOK95",
        "outputId": "5c492bde-00e3-4405-d379-c62f5b6869ba"
      },
      "execution_count": null,
      "outputs": [
        {
          "output_type": "execute_result",
          "data": {
            "text/plain": [
              "b        \n",
              "⌠        \n",
              "⎮ f(x) dx\n",
              "⌡        \n",
              "a        "
            ],
            "text/latex": "$\\displaystyle \\int\\limits_{a}^{b} f{\\left(x \\right)}\\, dx$"
          },
          "metadata": {},
          "execution_count": 28
        }
      ]
    },
    {
      "cell_type": "code",
      "source": [
        "#definite double integral\n",
        "Integral(f(x, y), (x, a, b), (y, c, d))"
      ],
      "metadata": {
        "colab": {
          "base_uri": "https://localhost:8080/",
          "height": 80
        },
        "id": "Kc_k3ZYEOM7Z",
        "outputId": "86d3f946-2ada-4ca0-9557-434b49180b87"
      },
      "execution_count": null,
      "outputs": [
        {
          "output_type": "execute_result",
          "data": {
            "text/plain": [
              "d b              \n",
              "⌠ ⌠              \n",
              "⎮ ⎮ f(x, y) dx dy\n",
              "⌡ ⌡              \n",
              "c a              "
            ],
            "text/latex": "$\\displaystyle \\int\\limits_{c}^{d}\\int\\limits_{a}^{b} f{\\left(x,y \\right)}\\, dx\\, dy$"
          },
          "metadata": {},
          "execution_count": 29
        }
      ]
    },
    {
      "cell_type": "code",
      "source": [
        "#definite triple integral\n",
        "Integral(f(x, y, z), (x, a, b), (y, c, d), (z, m, n))"
      ],
      "metadata": {
        "colab": {
          "base_uri": "https://localhost:8080/",
          "height": 80
        },
        "id": "Kg6rRTGQOQAx",
        "outputId": "ae3e5383-9089-4e12-e47f-6cd3a15e24aa"
      },
      "execution_count": null,
      "outputs": [
        {
          "output_type": "execute_result",
          "data": {
            "text/plain": [
              "n d b                    \n",
              "⌠ ⌠ ⌠                    \n",
              "⎮ ⎮ ⎮ f(x, y, z) dx dy dz\n",
              "⌡ ⌡ ⌡                    \n",
              "m c a                    "
            ],
            "text/latex": "$\\displaystyle \\int\\limits_{m}^{n}\\int\\limits_{c}^{d}\\int\\limits_{a}^{b} f{\\left(x,y,z \\right)}\\, dx\\, dy\\, dz$"
          },
          "metadata": {},
          "execution_count": 30
        }
      ]
    },
    {
      "cell_type": "code",
      "source": [
        "#summation\n",
        "Sum(k, (k, a, b))"
      ],
      "metadata": {
        "colab": {
          "base_uri": "https://localhost:8080/",
          "height": 70
        },
        "id": "nSvVEeFwOSCJ",
        "outputId": "2edefe5e-43cf-4537-ab0d-ca3b9cd7136f"
      },
      "execution_count": null,
      "outputs": [
        {
          "output_type": "execute_result",
          "data": {
            "text/plain": [
              "  b    \n",
              " ___   \n",
              " ╲     \n",
              "  ╲    \n",
              "  ╱   k\n",
              " ╱     \n",
              " ‾‾‾   \n",
              "k = a  "
            ],
            "text/latex": "$\\displaystyle \\sum_{k=a}^{b} k$"
          },
          "metadata": {},
          "execution_count": 31
        }
      ]
    },
    {
      "cell_type": "code",
      "source": [
        "#product\n",
        "Product(k, (k, a, b))"
      ],
      "metadata": {
        "colab": {
          "base_uri": "https://localhost:8080/",
          "height": 70
        },
        "id": "duZ96yWyOUnp",
        "outputId": "da4cd648-0368-4b89-f378-35fd956abdd7"
      },
      "execution_count": null,
      "outputs": [
        {
          "output_type": "execute_result",
          "data": {
            "text/plain": [
              "  b    \n",
              "─┬─┬─  \n",
              " │ │  k\n",
              " │ │   \n",
              "k = a  "
            ],
            "text/latex": "$\\displaystyle \\prod_{k=a}^{b} k$"
          },
          "metadata": {},
          "execution_count": 32
        }
      ]
    },
    {
      "cell_type": "code",
      "source": [
        "#limit\n",
        "Limit(f(x), x, a)"
      ],
      "metadata": {
        "colab": {
          "base_uri": "https://localhost:8080/",
          "height": 45
        },
        "id": "o3ptCtGIOW-p",
        "outputId": "18f2a78c-104f-4eba-ebbf-6d931c4dac40"
      },
      "execution_count": null,
      "outputs": [
        {
          "output_type": "execute_result",
          "data": {
            "text/plain": [
              " lim f(x)\n",
              "x─→a⁺    "
            ],
            "text/latex": "$\\displaystyle \\lim_{x \\to a^+} f{\\left(x \\right)}$"
          },
          "metadata": {},
          "execution_count": 33
        }
      ]
    },
    {
      "cell_type": "code",
      "source": [
        "#limit from the left\n",
        "Limit(f(x), x, a, dir='-')"
      ],
      "metadata": {
        "colab": {
          "base_uri": "https://localhost:8080/",
          "height": 45
        },
        "id": "8_IOmaOvOY15",
        "outputId": "ad1fc2b0-69d1-4ad5-c697-1663a506e23d"
      },
      "execution_count": null,
      "outputs": [
        {
          "output_type": "execute_result",
          "data": {
            "text/plain": [
              " lim f(x)\n",
              "x─→a⁻    "
            ],
            "text/latex": "$\\displaystyle \\lim_{x \\to a^-} f{\\left(x \\right)}$"
          },
          "metadata": {},
          "execution_count": 34
        }
      ]
    },
    {
      "cell_type": "code",
      "source": [
        "#limit from the right\n",
        "Limit(f(x), x, a, dir='+')"
      ],
      "metadata": {
        "colab": {
          "base_uri": "https://localhost:8080/",
          "height": 45
        },
        "id": "Uv4A7eiXObbZ",
        "outputId": "f26469b5-206a-4bab-95a7-f594934e716d"
      },
      "execution_count": null,
      "outputs": [
        {
          "output_type": "execute_result",
          "data": {
            "text/plain": [
              " lim f(x)\n",
              "x─→a⁺    "
            ],
            "text/latex": "$\\displaystyle \\lim_{x \\to a^+} f{\\left(x \\right)}$"
          },
          "metadata": {},
          "execution_count": 35
        }
      ]
    },
    {
      "cell_type": "code",
      "source": [
        "#2D limit\n",
        "Limit(f(x, y), (x, y), (a, b))"
      ],
      "metadata": {
        "colab": {
          "base_uri": "https://localhost:8080/",
          "height": 50
        },
        "id": "dMWy2dEzOdYJ",
        "outputId": "502f1983-cd82-40ca-9ac6-d73ec379be23"
      },
      "execution_count": null,
      "outputs": [
        {
          "output_type": "execute_result",
          "data": {
            "text/plain": [
              "      lim      f(x, y)\n",
              "(x, y)─→(a, b)⁺       "
            ],
            "text/latex": "$\\displaystyle \\lim_{\\left( x, \\  y\\right) \\to \\left( a, \\  b\\right)^+} f{\\left(x,y \\right)}$"
          },
          "metadata": {},
          "execution_count": 36
        }
      ]
    },
    {
      "cell_type": "code",
      "source": [
        "#unit step\n",
        "Heaviside(x)"
      ],
      "metadata": {
        "colab": {
          "base_uri": "https://localhost:8080/",
          "height": 39
        },
        "id": "5hplkg1IOgz5",
        "outputId": "e6e35779-600a-457a-9965-bf3a8a4b3ec3"
      },
      "execution_count": null,
      "outputs": [
        {
          "output_type": "execute_result",
          "data": {
            "text/plain": [
              "θ(x)"
            ],
            "text/latex": "$\\displaystyle \\theta\\left(x\\right)$"
          },
          "metadata": {},
          "execution_count": 37
        }
      ]
    },
    {
      "cell_type": "code",
      "source": [
        "#Dirac Delta\n",
        "DiracDelta(x)"
      ],
      "metadata": {
        "colab": {
          "base_uri": "https://localhost:8080/",
          "height": 39
        },
        "id": "SSmmX5hzOjjJ",
        "outputId": "a22583fa-3069-494b-f040-4da7a0f99656"
      },
      "execution_count": null,
      "outputs": [
        {
          "output_type": "execute_result",
          "data": {
            "text/plain": [
              "δ(x)"
            ],
            "text/latex": "$\\displaystyle \\delta\\left(x\\right)$"
          },
          "metadata": {},
          "execution_count": 38
        }
      ]
    },
    {
      "cell_type": "code",
      "source": [
        "#piecewise function\n",
        "Piecewise((0, x < 0), (1, x >= 0))"
      ],
      "metadata": {
        "colab": {
          "base_uri": "https://localhost:8080/",
          "height": 68
        },
        "id": "0oTrLP2WOl1h",
        "outputId": "1704a72b-6b23-495c-b60d-721e550099e8"
      },
      "execution_count": null,
      "outputs": [
        {
          "output_type": "execute_result",
          "data": {
            "text/plain": [
              "⎧0  for x < 0\n",
              "⎨            \n",
              "⎩1  otherwise"
            ],
            "text/latex": "$\\displaystyle \\begin{cases} 0 & \\text{for}\\: x < 0 \\\\1 & \\text{otherwise} \\end{cases}$"
          },
          "metadata": {},
          "execution_count": 39
        }
      ]
    },
    {
      "cell_type": "code",
      "source": [
        "#multivalue piecewise\n",
        "Piecewise((0, x < 0), (1, x >= 1), (2, true))"
      ],
      "metadata": {
        "colab": {
          "base_uri": "https://localhost:8080/",
          "height": 90
        },
        "id": "HgyaanwGOn6x",
        "outputId": "46fa72e0-d7d0-4e61-c021-feff2d2bb60c"
      },
      "execution_count": null,
      "outputs": [
        {
          "output_type": "execute_result",
          "data": {
            "text/plain": [
              "⎧0  for x < 0\n",
              "⎪            \n",
              "⎨1  for x ≥ 1\n",
              "⎪            \n",
              "⎩2  otherwise"
            ],
            "text/latex": "$\\displaystyle \\begin{cases} 0 & \\text{for}\\: x < 0 \\\\1 & \\text{for}\\: x \\geq 1 \\\\2 & \\text{otherwise} \\end{cases}$"
          },
          "metadata": {},
          "execution_count": 40
        }
      ]
    },
    {
      "cell_type": "code",
      "source": [
        "#Laplace transform\n",
        "laplace_transform(f(t), t, s)"
      ],
      "metadata": {
        "colab": {
          "base_uri": "https://localhost:8080/",
          "height": 39
        },
        "id": "bDak1iBCOqZ5",
        "outputId": "99ae52ba-5dbc-4b7b-91a0-d5faf7fe0db6"
      },
      "execution_count": null,
      "outputs": [
        {
          "output_type": "execute_result",
          "data": {
            "text/plain": [
              "LaplaceTransform(f(t), t, s)"
            ],
            "text/latex": "$\\displaystyle \\mathcal{L}_{t}\\left[f{\\left(t \\right)}\\right]\\left(s\\right)$"
          },
          "metadata": {},
          "execution_count": 41
        }
      ]
    },
    {
      "cell_type": "code",
      "source": [
        "#inverse Laplace transform\n",
        "inverse_laplace_transform(f(s), s, t)"
      ],
      "metadata": {
        "colab": {
          "base_uri": "https://localhost:8080/",
          "height": 39
        },
        "id": "zSbCSJn_PyQZ",
        "outputId": "8f07879d-2a0b-417d-d107-d956c1050396"
      },
      "execution_count": null,
      "outputs": [
        {
          "output_type": "execute_result",
          "data": {
            "text/plain": [
              "InverseLaplaceTransform(f(s), s, t, None)"
            ],
            "text/latex": "$\\displaystyle \\mathcal{L}^{-1}_{s}\\left[f{\\left(s \\right)}\\right]\\left(t\\right)$"
          },
          "metadata": {},
          "execution_count": 42
        }
      ]
    },
    {
      "cell_type": "code",
      "source": [
        "#Fourier transform\n",
        "fourier_transform(f(t), t, s)"
      ],
      "metadata": {
        "colab": {
          "base_uri": "https://localhost:8080/",
          "height": 39
        },
        "id": "E0CYA7CeQo3i",
        "outputId": "1345183a-b90d-419a-d853-b253bce64958"
      },
      "execution_count": null,
      "outputs": [
        {
          "output_type": "execute_result",
          "data": {
            "text/plain": [
              "FourierTransform(f(t), t, s)"
            ],
            "text/latex": "$\\displaystyle \\mathcal{F}_{t}\\left[f{\\left(t \\right)}\\right]\\left(s\\right)$"
          },
          "metadata": {},
          "execution_count": 43
        }
      ]
    },
    {
      "cell_type": "code",
      "source": [
        "#inverse Fourier transform\n",
        "inverse_fourier_transform(f(s), s, t)"
      ],
      "metadata": {
        "colab": {
          "base_uri": "https://localhost:8080/",
          "height": 39
        },
        "id": "8of0uQ2BQqvi",
        "outputId": "c6a03ada-9a49-4ca9-d362-e1bc77f7a982"
      },
      "execution_count": null,
      "outputs": [
        {
          "output_type": "execute_result",
          "data": {
            "text/plain": [
              "InverseFourierTransform(f(s), s, t)"
            ],
            "text/latex": "$\\displaystyle \\mathcal{F}^{-1}_{s}\\left[f{\\left(s \\right)}\\right]\\left(t\\right)$"
          },
          "metadata": {},
          "execution_count": 44
        }
      ]
    },
    {
      "cell_type": "markdown",
      "source": [
        "## VECTORS & MATRICES"
      ],
      "metadata": {
        "id": "wJBMTW7YQvdP"
      }
    },
    {
      "cell_type": "code",
      "source": [
        "#2-vector\n",
        "Matrix([[a, b]])"
      ],
      "metadata": {
        "colab": {
          "base_uri": "https://localhost:8080/",
          "height": 39
        },
        "id": "VLu0nTkOQtLy",
        "outputId": "de78f780-e699-455b-ff12-58743c132cc6"
      },
      "execution_count": null,
      "outputs": [
        {
          "output_type": "execute_result",
          "data": {
            "text/plain": [
              "[a  b]"
            ],
            "text/latex": "$\\displaystyle \\left[\\begin{matrix}a & b\\end{matrix}\\right]$"
          },
          "metadata": {},
          "execution_count": 45
        }
      ]
    },
    {
      "cell_type": "code",
      "source": [
        "#3-vector\n",
        "Matrix([[a, b, c]])"
      ],
      "metadata": {
        "colab": {
          "base_uri": "https://localhost:8080/",
          "height": 39
        },
        "id": "ivxjDij1Qztx",
        "outputId": "e7131203-56a2-430c-b0d8-9707f2e3d3a2"
      },
      "execution_count": null,
      "outputs": [
        {
          "output_type": "execute_result",
          "data": {
            "text/plain": [
              "[a  b  c]"
            ],
            "text/latex": "$\\displaystyle \\left[\\begin{matrix}a & b & c\\end{matrix}\\right]$"
          },
          "metadata": {},
          "execution_count": 46
        }
      ]
    },
    {
      "cell_type": "code",
      "source": [
        "#4-vector\n",
        "Matrix([[a, b, c, d]])"
      ],
      "metadata": {
        "colab": {
          "base_uri": "https://localhost:8080/",
          "height": 39
        },
        "id": "FsXoj2XdQ14y",
        "outputId": "c1410330-fc02-402f-8f0f-71fe6004e4d9"
      },
      "execution_count": null,
      "outputs": [
        {
          "output_type": "execute_result",
          "data": {
            "text/plain": [
              "[a  b  c  d]"
            ],
            "text/latex": "$\\displaystyle \\left[\\begin{matrix}a & b & c & d\\end{matrix}\\right]$"
          },
          "metadata": {},
          "execution_count": 47
        }
      ]
    },
    {
      "cell_type": "code",
      "source": [
        "#2x2 matrix\n",
        "Matrix([\n",
        "  [a, b],\n",
        "  [c, d]\n",
        "])"
      ],
      "metadata": {
        "colab": {
          "base_uri": "https://localhost:8080/",
          "height": 58
        },
        "id": "dfOKZLA3Q3rq",
        "outputId": "09ae7aa0-4007-4205-daf1-8f5b55ed3b84"
      },
      "execution_count": null,
      "outputs": [
        {
          "output_type": "execute_result",
          "data": {
            "text/plain": [
              "⎡a  b⎤\n",
              "⎢    ⎥\n",
              "⎣c  d⎦"
            ],
            "text/latex": "$\\displaystyle \\left[\\begin{matrix}a & b\\\\c & d\\end{matrix}\\right]$"
          },
          "metadata": {},
          "execution_count": 48
        }
      ]
    },
    {
      "cell_type": "code",
      "source": [
        "#3x3 matrix\n",
        "Matrix([\n",
        "  [a, b, c],\n",
        "  [a, b, c],\n",
        "  [a, b, c]\n",
        "])"
      ],
      "metadata": {
        "colab": {
          "base_uri": "https://localhost:8080/",
          "height": 78
        },
        "id": "3oKcc_mVQ5oC",
        "outputId": "4058b1ea-cb4e-4e63-ccd3-83163b02a44e"
      },
      "execution_count": null,
      "outputs": [
        {
          "output_type": "execute_result",
          "data": {
            "text/plain": [
              "⎡a  b  c⎤\n",
              "⎢       ⎥\n",
              "⎢a  b  c⎥\n",
              "⎢       ⎥\n",
              "⎣a  b  c⎦"
            ],
            "text/latex": "$\\displaystyle \\left[\\begin{matrix}a & b & c\\\\a & b & c\\\\a & b & c\\end{matrix}\\right]$"
          },
          "metadata": {},
          "execution_count": 49
        }
      ]
    },
    {
      "cell_type": "code",
      "source": [
        "#4x4 matrix\n",
        "Matrix([\n",
        "  [a, b, c, d],\n",
        "  [a, b, c, d],\n",
        "  [a, b, c, d],\n",
        "  [a, b, c, d]\n",
        "])"
      ],
      "metadata": {
        "colab": {
          "base_uri": "https://localhost:8080/",
          "height": 98
        },
        "id": "ZSuEIU_rQ8sa",
        "outputId": "61bde6c4-283e-4ce7-9c0a-1b80991b656b"
      },
      "execution_count": null,
      "outputs": [
        {
          "output_type": "execute_result",
          "data": {
            "text/plain": [
              "⎡a  b  c  d⎤\n",
              "⎢          ⎥\n",
              "⎢a  b  c  d⎥\n",
              "⎢          ⎥\n",
              "⎢a  b  c  d⎥\n",
              "⎢          ⎥\n",
              "⎣a  b  c  d⎦"
            ],
            "text/latex": "$\\displaystyle \\left[\\begin{matrix}a & b & c & d\\\\a & b & c & d\\\\a & b & c & d\\\\a & b & c & d\\end{matrix}\\right]$"
          },
          "metadata": {},
          "execution_count": 50
        }
      ]
    },
    {
      "cell_type": "code",
      "source": [
        "#5x5 matrix\n",
        "Matrix([\n",
        "  [a, b, c, d, x],\n",
        "  [a, b, c, d, x],\n",
        "  [a, b, c, d, x],\n",
        "  [a, b, c, d, x],\n",
        "  [a, b, c, d, x]\n",
        "])"
      ],
      "metadata": {
        "colab": {
          "base_uri": "https://localhost:8080/",
          "height": 119
        },
        "id": "S7U7mwgBQ_6q",
        "outputId": "62261094-d750-4eca-d366-d17256516ecf"
      },
      "execution_count": null,
      "outputs": [
        {
          "output_type": "execute_result",
          "data": {
            "text/plain": [
              "⎡a  b  c  d  x⎤\n",
              "⎢             ⎥\n",
              "⎢a  b  c  d  x⎥\n",
              "⎢             ⎥\n",
              "⎢a  b  c  d  x⎥\n",
              "⎢             ⎥\n",
              "⎢a  b  c  d  x⎥\n",
              "⎢             ⎥\n",
              "⎣a  b  c  d  x⎦"
            ],
            "text/latex": "$\\displaystyle \\left[\\begin{matrix}a & b & c & d & x\\\\a & b & c & d & x\\\\a & b & c & d & x\\\\a & b & c & d & x\\\\a & b & c & d & x\\end{matrix}\\right]$"
          },
          "metadata": {},
          "execution_count": 51
        }
      ]
    },
    {
      "cell_type": "markdown",
      "source": [
        "## TRIGONOMETRY"
      ],
      "metadata": {
        "id": "EfknLRhkRkkF"
      }
    },
    {
      "cell_type": "code",
      "source": [
        "#capital pi\n",
        "pi"
      ],
      "metadata": {
        "colab": {
          "base_uri": "https://localhost:8080/",
          "height": 39
        },
        "id": "p1HOKcFsRJcJ",
        "outputId": "0218f3d6-8655-4c71-c9fd-f30d5d2e123a"
      },
      "execution_count": null,
      "outputs": [
        {
          "output_type": "execute_result",
          "data": {
            "text/plain": [
              "π"
            ],
            "text/latex": "$\\displaystyle \\pi$"
          },
          "metadata": {},
          "execution_count": 52
        }
      ]
    },
    {
      "cell_type": "code",
      "source": [
        "#degree"
      ],
      "metadata": {
        "id": "ftLA7l0URpB6"
      },
      "execution_count": null,
      "outputs": []
    },
    {
      "cell_type": "code",
      "source": [
        "#radian"
      ],
      "metadata": {
        "id": "lReJHwP6URp3"
      },
      "execution_count": null,
      "outputs": []
    },
    {
      "cell_type": "code",
      "source": [
        "#sine, cosine, tangent\n",
        "sin(x), cos(x), tan(x)"
      ],
      "metadata": {
        "colab": {
          "base_uri": "https://localhost:8080/",
          "height": 39
        },
        "id": "4oSOFl13UUac",
        "outputId": "b03c6959-62a6-48a3-9b31-3ce528c072b9"
      },
      "execution_count": null,
      "outputs": [
        {
          "output_type": "execute_result",
          "data": {
            "text/plain": [
              "(sin(x), cos(x), tan(x))"
            ],
            "text/latex": "$\\displaystyle \\left( \\sin{\\left(x \\right)}, \\  \\cos{\\left(x \\right)}, \\  \\tan{\\left(x \\right)}\\right)$"
          },
          "metadata": {},
          "execution_count": 55
        }
      ]
    },
    {
      "cell_type": "code",
      "source": [
        "#secante, cosecant, cotangent\n",
        "sec(x), csc(x), cot(x)"
      ],
      "metadata": {
        "colab": {
          "base_uri": "https://localhost:8080/",
          "height": 39
        },
        "id": "HebmAbnaUW5d",
        "outputId": "2bb7273d-3b99-44c5-da3f-e1970970ddff"
      },
      "execution_count": null,
      "outputs": [
        {
          "output_type": "execute_result",
          "data": {
            "text/plain": [
              "(sec(x), csc(x), cot(x))"
            ],
            "text/latex": "$\\displaystyle \\left( \\sec{\\left(x \\right)}, \\  \\csc{\\left(x \\right)}, \\  \\cot{\\left(x \\right)}\\right)$"
          },
          "metadata": {},
          "execution_count": 56
        }
      ]
    },
    {
      "cell_type": "code",
      "source": [
        "#arcsine, arccosine, arctangent\n",
        "asin(x), acos(x), atan(x)"
      ],
      "metadata": {
        "colab": {
          "base_uri": "https://localhost:8080/",
          "height": 39
        },
        "id": "NGtaBAChUaCd",
        "outputId": "bf03873f-deb3-44ae-d5ca-fab8f770f0d2"
      },
      "execution_count": null,
      "outputs": [
        {
          "output_type": "execute_result",
          "data": {
            "text/plain": [
              "(asin(x), acos(x), atan(x))"
            ],
            "text/latex": "$\\displaystyle \\left( \\operatorname{asin}{\\left(x \\right)}, \\  \\operatorname{acos}{\\left(x \\right)}, \\  \\operatorname{atan}{\\left(x \\right)}\\right)$"
          },
          "metadata": {},
          "execution_count": 57
        }
      ]
    },
    {
      "cell_type": "code",
      "source": [
        "#hyperbolic: sine, cosine, tangent\n",
        "sinh(x), cosh(x), tanh(x)"
      ],
      "metadata": {
        "colab": {
          "base_uri": "https://localhost:8080/",
          "height": 39
        },
        "id": "n5hyg22SUdWi",
        "outputId": "c0d16900-b09a-496c-993f-4912ace26f66"
      },
      "execution_count": null,
      "outputs": [
        {
          "output_type": "execute_result",
          "data": {
            "text/plain": [
              "(sinh(x), cosh(x), tanh(x))"
            ],
            "text/latex": "$\\displaystyle \\left( \\sinh{\\left(x \\right)}, \\  \\cosh{\\left(x \\right)}, \\  \\tanh{\\left(x \\right)}\\right)$"
          },
          "metadata": {},
          "execution_count": 58
        }
      ]
    },
    {
      "cell_type": "code",
      "source": [
        "#hyperbolic: secante, cosecant, cotangent\n",
        "sech(x), csch(x), coth(x)"
      ],
      "metadata": {
        "colab": {
          "base_uri": "https://localhost:8080/",
          "height": 39
        },
        "id": "O3fXiVrkUgmI",
        "outputId": "227cb508-ac46-48ec-955d-8b9c9ace06fe"
      },
      "execution_count": null,
      "outputs": [
        {
          "output_type": "execute_result",
          "data": {
            "text/plain": [
              "(sech(x), csch(x), coth(x))"
            ],
            "text/latex": "$\\displaystyle \\left( \\operatorname{sech}{\\left(x \\right)}, \\  \\operatorname{csch}{\\left(x \\right)}, \\  \\coth{\\left(x \\right)}\\right)$"
          },
          "metadata": {},
          "execution_count": 59
        }
      ]
    },
    {
      "cell_type": "code",
      "source": [
        "#hyperbolic: arcsine, arccosine, arctangent\n",
        "asinh(x), acosh(x), atanh(x)"
      ],
      "metadata": {
        "colab": {
          "base_uri": "https://localhost:8080/",
          "height": 39
        },
        "id": "NUik3sEKUlCZ",
        "outputId": "3923a2b9-2e26-47f3-dc97-ea7d6e1ac5e3"
      },
      "execution_count": null,
      "outputs": [
        {
          "output_type": "execute_result",
          "data": {
            "text/plain": [
              "(asinh(x), acosh(x), atanh(x))"
            ],
            "text/latex": "$\\displaystyle \\left( \\operatorname{asinh}{\\left(x \\right)}, \\  \\operatorname{acosh}{\\left(x \\right)}, \\  \\operatorname{atanh}{\\left(x \\right)}\\right)$"
          },
          "metadata": {},
          "execution_count": 60
        }
      ]
    },
    {
      "cell_type": "markdown",
      "source": [
        "## SYMBOLS"
      ],
      "metadata": {
        "id": "8Ai7SkVxUnSx"
      }
    },
    {
      "cell_type": "code",
      "source": [
        "#capital pi\n",
        "pi"
      ],
      "metadata": {
        "colab": {
          "base_uri": "https://localhost:8080/",
          "height": 39
        },
        "id": "4K08pSK0UqHH",
        "outputId": "f47130a1-d6d3-4bf9-f4f1-565321447f09"
      },
      "execution_count": null,
      "outputs": [
        {
          "output_type": "execute_result",
          "data": {
            "text/plain": [
              "π"
            ],
            "text/latex": "$\\displaystyle \\pi$"
          },
          "metadata": {},
          "execution_count": 61
        }
      ]
    },
    {
      "cell_type": "code",
      "source": [
        "#degree"
      ],
      "metadata": {
        "id": "kZcxlvphUssA"
      },
      "execution_count": null,
      "outputs": []
    },
    {
      "cell_type": "code",
      "source": [
        "#infinity\n",
        "oo"
      ],
      "metadata": {
        "colab": {
          "base_uri": "https://localhost:8080/",
          "height": 37
        },
        "id": "Hai9kiSPR1vI",
        "outputId": "a0435bbb-d217-4102-e2d8-4bcda4562039"
      },
      "execution_count": null,
      "outputs": [
        {
          "output_type": "execute_result",
          "data": {
            "text/plain": [
              "∞"
            ],
            "text/latex": "$\\displaystyle \\infty$"
          },
          "metadata": {},
          "execution_count": 63
        }
      ]
    },
    {
      "cell_type": "code",
      "source": [
        "#for all"
      ],
      "metadata": {
        "id": "jvBRn-hKR1r_"
      },
      "execution_count": null,
      "outputs": []
    },
    {
      "cell_type": "code",
      "source": [
        "#there exists"
      ],
      "metadata": {
        "id": "PLZiXIffR1on"
      },
      "execution_count": null,
      "outputs": []
    },
    {
      "cell_type": "code",
      "source": [
        "#union\n",
        "Union(Interval(a, b), Interval(c, d))"
      ],
      "metadata": {
        "colab": {
          "base_uri": "https://localhost:8080/",
          "height": 39
        },
        "id": "5adLSeHFR1k8",
        "outputId": "0eec2f9c-3239-437c-dfc1-6b0f25cb5094"
      },
      "execution_count": null,
      "outputs": [
        {
          "output_type": "execute_result",
          "data": {
            "text/plain": [
              "[a, b] ∪ [c, d]"
            ],
            "text/latex": "$\\displaystyle \\left[a, b\\right] \\cup \\left[c, d\\right]$"
          },
          "metadata": {},
          "execution_count": 66
        }
      ]
    },
    {
      "cell_type": "code",
      "source": [
        "#intersection\n",
        "Intersection(Interval(a, b), Interval(c, d))"
      ],
      "metadata": {
        "colab": {
          "base_uri": "https://localhost:8080/",
          "height": 39
        },
        "id": "RtRsbvWuR1g2",
        "outputId": "8089e741-18a7-4f49-cf81-ade61346f126"
      },
      "execution_count": null,
      "outputs": [
        {
          "output_type": "execute_result",
          "data": {
            "text/plain": [
              "[a, b] ∩ [c, d]"
            ],
            "text/latex": "$\\displaystyle \\left[a, b\\right] \\cap \\left[c, d\\right]$"
          },
          "metadata": {},
          "execution_count": 67
        }
      ]
    },
    {
      "cell_type": "code",
      "source": [
        "#delta, Delta\n",
        "[Symbol(i) for i in ['delta', 'Delta']]"
      ],
      "metadata": {
        "colab": {
          "base_uri": "https://localhost:8080/",
          "height": 39
        },
        "id": "IYIZ-6nbR1a_",
        "outputId": "25ddb2fa-10b4-4455-b37d-b2f953593197"
      },
      "execution_count": null,
      "outputs": [
        {
          "output_type": "execute_result",
          "data": {
            "text/plain": [
              "[δ, Δ]"
            ],
            "text/latex": "$\\displaystyle \\left[ \\delta, \\  \\Delta\\right]$"
          },
          "metadata": {},
          "execution_count": 68
        }
      ]
    },
    {
      "cell_type": "code",
      "source": [
        "#alpha, beta, gamma, delta, epsilon\n",
        "[Symbol(i) for i in ['alpha', 'beta', 'gamma', 'delta', 'epsilon']]"
      ],
      "metadata": {
        "colab": {
          "base_uri": "https://localhost:8080/",
          "height": 39
        },
        "id": "BAMxw2LjR1Of",
        "outputId": "70bab9cf-16d4-488c-9aab-e1eda499eca2"
      },
      "execution_count": null,
      "outputs": [
        {
          "output_type": "execute_result",
          "data": {
            "text/plain": [
              "[α, β, γ, δ, ε]"
            ],
            "text/latex": "$\\displaystyle \\left[ \\alpha, \\  \\beta, \\  \\gamma, \\  \\delta, \\  \\epsilon\\right]$"
          },
          "metadata": {},
          "execution_count": 69
        }
      ]
    },
    {
      "cell_type": "code",
      "source": [
        "#zeta, eta, theta\n",
        "[Symbol(i) for i in ['zeta', 'eta', 'theta']]"
      ],
      "metadata": {
        "colab": {
          "base_uri": "https://localhost:8080/",
          "height": 39
        },
        "id": "JBxY1K39SGmS",
        "outputId": "f0841e17-020b-47f8-c5bd-02f5d8d00549"
      },
      "execution_count": null,
      "outputs": [
        {
          "output_type": "execute_result",
          "data": {
            "text/plain": [
              "[ζ, η, θ]"
            ],
            "text/latex": "$\\displaystyle \\left[ \\zeta, \\  \\eta, \\  \\theta\\right]$"
          },
          "metadata": {},
          "execution_count": 70
        }
      ]
    },
    {
      "cell_type": "code",
      "source": [
        "#kappa, lambda, mu, nu, xi, rho\n",
        "[Symbol(i) for i in ['kappa', 'lambda', 'mu', 'nu', 'xi', 'rho']]"
      ],
      "metadata": {
        "colab": {
          "base_uri": "https://localhost:8080/",
          "height": 39
        },
        "id": "E4TytjAKTnmb",
        "outputId": "722d2542-1498-478d-e458-65c1917072cb"
      },
      "execution_count": null,
      "outputs": [
        {
          "output_type": "execute_result",
          "data": {
            "text/plain": [
              "[κ, λ, μ, ν, ξ, ρ]"
            ],
            "text/latex": "$\\displaystyle \\left[ \\kappa, \\  \\lambda, \\  \\mu, \\  \\nu, \\  \\xi, \\  \\rho\\right]$"
          },
          "metadata": {},
          "execution_count": 71
        }
      ]
    },
    {
      "cell_type": "code",
      "source": [
        "#sigma, tau, phi, chi, psi, omega\n",
        "[Symbol(i) for i in ['sigma', 'tau', 'phi', 'chi', 'psi', 'omega']]"
      ],
      "metadata": {
        "colab": {
          "base_uri": "https://localhost:8080/",
          "height": 39
        },
        "id": "p3arZCweTzFD",
        "outputId": "de5e938b-9830-4fa4-e9a6-c2682e0bc843"
      },
      "execution_count": null,
      "outputs": [
        {
          "output_type": "execute_result",
          "data": {
            "text/plain": [
              "[σ, τ, φ, χ, ψ, ω]"
            ],
            "text/latex": "$\\displaystyle \\left[ \\sigma, \\  \\tau, \\  \\phi, \\  \\chi, \\  \\psi, \\  \\omega\\right]$"
          },
          "metadata": {},
          "execution_count": 72
        }
      ]
    },
    {
      "cell_type": "code",
      "source": [
        "#capital: gamma, theta, lambda, xi, upsilon, phi, psi\n",
        "[Symbol(i) for i in ['Gamma', 'Theta', 'Lambda', 'Xi', 'Upsilon', 'Phi', 'Psi']]"
      ],
      "metadata": {
        "colab": {
          "base_uri": "https://localhost:8080/",
          "height": 37
        },
        "id": "YO8zFEEGT15r",
        "outputId": "1e5185d1-0b10-4cec-ed3d-11421730350c"
      },
      "execution_count": null,
      "outputs": [
        {
          "output_type": "execute_result",
          "data": {
            "text/plain": [
              "[Γ, Θ, Λ, Ξ, Υ, Φ, Ψ]"
            ],
            "text/latex": "$\\displaystyle \\left[ \\Gamma, \\  \\Theta, \\  \\Lambda, \\  \\Xi, \\  \\Upsilon, \\  \\Phi, \\  \\Psi\\right]$"
          },
          "metadata": {},
          "execution_count": 73
        }
      ]
    },
    {
      "cell_type": "code",
      "source": [
        "#omega, capital omega, mho\n",
        "[Symbol(i) for i in ['omega','Omega', 'mho']]"
      ],
      "metadata": {
        "colab": {
          "base_uri": "https://localhost:8080/",
          "height": 39
        },
        "id": "8UIB97j1T4YM",
        "outputId": "b20a6b44-9386-4d18-8757-6e66e30bd143"
      },
      "execution_count": null,
      "outputs": [
        {
          "output_type": "execute_result",
          "data": {
            "text/plain": [
              "[ω, Ω, mho]"
            ],
            "text/latex": "$\\displaystyle \\left[ \\omega, \\  \\Omega, \\  \\mho\\right]$"
          },
          "metadata": {},
          "execution_count": 74
        }
      ]
    }
  ]
}