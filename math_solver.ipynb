{
  "nbformat": 4,
  "nbformat_minor": 0,
  "metadata": {
    "colab": {
      "provenance": [],
      "authorship_tag": "ABX9TyMX7a1mLRjYtvFpDPU9J5ei",
      "include_colab_link": true
    },
    "kernelspec": {
      "name": "python3",
      "display_name": "Python 3"
    },
    "language_info": {
      "name": "python"
    }
  },
  "cells": [
    {
      "cell_type": "markdown",
      "metadata": {
        "id": "view-in-github",
        "colab_type": "text"
      },
      "source": [
        "<a href=\"https://colab.research.google.com/github/dionipadilha/sympy/blob/main/math_solver.ipynb\" target=\"_parent\"><img src=\"https://colab.research.google.com/assets/colab-badge.svg\" alt=\"Open In Colab\"/></a>"
      ]
    },
    {
      "cell_type": "code",
      "execution_count": null,
      "metadata": {
        "id": "BDQgs_IGoG0v"
      },
      "outputs": [],
      "source": [
        "from sympy import *\n",
        "init_printing()\n",
        "x, y, z = symbols('x, y, z')"
      ]
    },
    {
      "cell_type": "markdown",
      "source": [
        "## Pre-Algebra"
      ],
      "metadata": {
        "id": "DL3rkjcy0khS"
      }
    },
    {
      "cell_type": "code",
      "source": [],
      "metadata": {
        "id": "xR4UlTFD0sVF"
      },
      "execution_count": null,
      "outputs": []
    },
    {
      "cell_type": "markdown",
      "source": [
        "## Algebra"
      ],
      "metadata": {
        "id": "l2WVa7Ra0eE6"
      }
    },
    {
      "cell_type": "code",
      "source": [
        "# combine-like-terms:\n",
        "3*x + 4*y - 11 - 2*x + 4*y"
      ],
      "metadata": {
        "colab": {
          "base_uri": "https://localhost:8080/",
          "height": 38
        },
        "id": "47Oxeb6poSdv",
        "outputId": "2cfdb39c-5a7a-4183-92c3-1873bf277401"
      },
      "execution_count": null,
      "outputs": [
        {
          "output_type": "execute_result",
          "data": {
            "text/plain": [
              "x + 8⋅y - 11"
            ],
            "text/latex": "$\\displaystyle x + 8 y - 11$"
          },
          "metadata": {},
          "execution_count": 3
        }
      ]
    },
    {
      "cell_type": "code",
      "source": [
        "# solve-for-variable:\n",
        "solve(Eq(3*(x + 2*y), 2*z - 4), x)"
      ],
      "metadata": {
        "colab": {
          "base_uri": "https://localhost:8080/",
          "height": 58
        },
        "id": "QaWmOVphobpl",
        "outputId": "df5eb653-9707-4dcf-9462-db00a5840781"
      },
      "execution_count": null,
      "outputs": [
        {
          "output_type": "execute_result",
          "data": {
            "text/plain": [
              "⎡       2⋅z   4⎤\n",
              "⎢-2⋅y + ─── - ─⎥\n",
              "⎣        3    3⎦"
            ],
            "text/latex": "$\\displaystyle \\left[ - 2 y + \\frac{2 z}{3} - \\frac{4}{3}\\right]$"
          },
          "metadata": {},
          "execution_count": 18
        }
      ]
    },
    {
      "cell_type": "code",
      "source": [
        "# factor:\n",
        "factor(x**2 - 7*x + 12)"
      ],
      "metadata": {
        "colab": {
          "base_uri": "https://localhost:8080/",
          "height": 38
        },
        "id": "MBV0SvljpdvF",
        "outputId": "afc4c845-7a31-4945-a96e-970b22c60f55"
      },
      "execution_count": null,
      "outputs": [
        {
          "output_type": "execute_result",
          "data": {
            "text/plain": [
              "(x - 4)⋅(x - 3)"
            ],
            "text/latex": "$\\displaystyle \\left(x - 4\\right) \\left(x - 3\\right)$"
          },
          "metadata": {},
          "execution_count": 19
        }
      ]
    },
    {
      "cell_type": "code",
      "source": [
        "# expand:\n",
        "expand((x-4)*(x-3))"
      ],
      "metadata": {
        "colab": {
          "base_uri": "https://localhost:8080/",
          "height": 38
        },
        "id": "cMq0r_AFp0qt",
        "outputId": "158012cb-90f8-415a-e222-28652d92b220"
      },
      "execution_count": null,
      "outputs": [
        {
          "output_type": "execute_result",
          "data": {
            "text/plain": [
              " 2           \n",
              "x  - 7⋅x + 12"
            ],
            "text/latex": "$\\displaystyle x^{2} - 7 x + 12$"
          },
          "metadata": {},
          "execution_count": 20
        }
      ]
    },
    {
      "cell_type": "code",
      "source": [
        "# evaluate-fractions:\n",
        "together(4/(x-2)-5/(x+1))"
      ],
      "metadata": {
        "colab": {
          "base_uri": "https://localhost:8080/",
          "height": 55
        },
        "id": "pBhlktCoqKnN",
        "outputId": "c24d1ab3-0f26-4a5c-c54b-354879ba12d3"
      },
      "execution_count": null,
      "outputs": [
        {
          "output_type": "execute_result",
          "data": {
            "text/plain": [
              "     14 - x    \n",
              "───────────────\n",
              "(x - 2)⋅(x + 1)"
            ],
            "text/latex": "$\\displaystyle \\frac{14 - x}{\\left(x - 2\\right) \\left(x + 1\\right)}$"
          },
          "metadata": {},
          "execution_count": 26
        }
      ]
    },
    {
      "cell_type": "code",
      "source": [
        "# evaluate-fractions:\n",
        "apart((14-x)/((x-2)*(x+1)))"
      ],
      "metadata": {
        "colab": {
          "base_uri": "https://localhost:8080/",
          "height": 52
        },
        "id": "s3vk32M8qc4d",
        "outputId": "6fec0c33-d7d0-4963-b0be-17d080f425f9"
      },
      "execution_count": null,
      "outputs": [
        {
          "output_type": "execute_result",
          "data": {
            "text/plain": [
              "    5       4  \n",
              "- ───── + ─────\n",
              "  x + 1   x - 2"
            ],
            "text/latex": "$\\displaystyle - \\frac{5}{x + 1} + \\frac{4}{x - 2}$"
          },
          "metadata": {},
          "execution_count": 29
        }
      ]
    },
    {
      "cell_type": "code",
      "source": [
        "# linear-equations:\n",
        "solve(Eq(3*(x-5), 2*(6+x)), x)"
      ],
      "metadata": {
        "colab": {
          "base_uri": "https://localhost:8080/",
          "height": 38
        },
        "id": "G_g7aTaXrD60",
        "outputId": "3c471718-cd9f-4f9e-bf99-75b8101ea636"
      },
      "execution_count": null,
      "outputs": [
        {
          "output_type": "execute_result",
          "data": {
            "text/plain": [
              "[27]"
            ],
            "text/latex": "$\\displaystyle \\left[ 27\\right]$"
          },
          "metadata": {},
          "execution_count": 32
        }
      ]
    },
    {
      "cell_type": "code",
      "source": [
        "# quadratic-equations:\n",
        "solve(Eq(x**2 - 2*x + 3, 20), x)"
      ],
      "metadata": {
        "colab": {
          "base_uri": "https://localhost:8080/",
          "height": 47
        },
        "id": "MiSLspIDrm-l",
        "outputId": "b5cfd717-377c-456e-cc8d-6bfa38f236aa"
      },
      "execution_count": null,
      "outputs": [
        {
          "output_type": "execute_result",
          "data": {
            "text/plain": [
              "[1 - 3⋅√2, 1 + 3⋅√2]"
            ],
            "text/latex": "$\\displaystyle \\left[ 1 - 3 \\sqrt{2}, \\  1 + 3 \\sqrt{2}\\right]$"
          },
          "metadata": {},
          "execution_count": 34
        }
      ]
    },
    {
      "cell_type": "code",
      "source": [
        "# inequalities:\n",
        "reduce_inequalities([-2 < 3*x+2, 3*x+2 < 8], x)"
      ],
      "metadata": {
        "colab": {
          "base_uri": "https://localhost:8080/",
          "height": 51
        },
        "id": "8sLHKtzFsSz-",
        "outputId": "d543b6d0-e791-4f6b-f6cc-1fe4ae137371"
      },
      "execution_count": null,
      "outputs": [
        {
          "output_type": "execute_result",
          "data": {
            "text/plain": [
              "-4/3 < x ∧ x < 2"
            ],
            "text/latex": "$\\displaystyle - \\frac{4}{3} < x \\wedge x < 2$"
          },
          "metadata": {},
          "execution_count": 68
        }
      ]
    },
    {
      "cell_type": "code",
      "source": [
        "# systems-of-equations:\n",
        "solve([Eq(8*x + 2*y , 46), Eq(7*x + 3*y, 47)], [x, y])"
      ],
      "metadata": {
        "colab": {
          "base_uri": "https://localhost:8080/",
          "height": 58
        },
        "id": "srLHx9iZulGu",
        "outputId": "c147808a-4e57-4f73-b7cf-6dad3e10f661"
      },
      "execution_count": null,
      "outputs": [
        {
          "output_type": "execute_result",
          "data": {
            "text/plain": [
              "{x: 22/5, y: 27/5}"
            ],
            "text/latex": "$\\displaystyle \\left\\{ x : \\frac{22}{5}, \\  y : \\frac{27}{5}\\right\\}$"
          },
          "metadata": {},
          "execution_count": 87
        }
      ]
    },
    {
      "cell_type": "code",
      "source": [
        "# matrices\n",
        "3 * Matrix([[1, 2, 3], [4, 5, 6]])"
      ],
      "metadata": {
        "colab": {
          "base_uri": "https://localhost:8080/",
          "height": 58
        },
        "id": "b1JOgHVXxyNP",
        "outputId": "e1f62061-15b3-4c2d-ee0c-b7e5dc6b3581"
      },
      "execution_count": null,
      "outputs": [
        {
          "output_type": "execute_result",
          "data": {
            "text/plain": [
              "⎡3   6   9 ⎤\n",
              "⎢          ⎥\n",
              "⎣12  15  18⎦"
            ],
            "text/latex": "$\\displaystyle \\left[\\begin{matrix}3 & 6 & 9\\\\12 & 15 & 18\\end{matrix}\\right]$"
          },
          "metadata": {},
          "execution_count": 104
        }
      ]
    },
    {
      "cell_type": "markdown",
      "source": [
        "## Trigonometry"
      ],
      "metadata": {
        "id": "ywDO17Xs0gwG"
      }
    },
    {
      "cell_type": "code",
      "source": [],
      "metadata": {
        "id": "Szk4_GWN0AVg"
      },
      "execution_count": null,
      "outputs": []
    }
  ]
}