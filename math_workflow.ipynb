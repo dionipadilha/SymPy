{
  "nbformat": 4,
  "nbformat_minor": 0,
  "metadata": {
    "colab": {
      "provenance": [],
      "authorship_tag": "ABX9TyMgV3U4l02Q2iY+yA14PlHP",
      "include_colab_link": true
    },
    "kernelspec": {
      "name": "python3",
      "display_name": "Python 3"
    },
    "language_info": {
      "name": "python"
    }
  },
  "cells": [
    {
      "cell_type": "markdown",
      "metadata": {
        "id": "view-in-github",
        "colab_type": "text"
      },
      "source": [
        "<a href=\"https://colab.research.google.com/github/dionipadilha/sympy/blob/main/math_workflow.ipynb\" target=\"_parent\"><img src=\"https://colab.research.google.com/assets/colab-badge.svg\" alt=\"Open In Colab\"/></a>"
      ]
    },
    {
      "cell_type": "markdown",
      "source": [
        "## Symbolic Math - A Workflow"
      ],
      "metadata": {
        "id": "HwAUxtJgqPfQ"
      }
    },
    {
      "cell_type": "code",
      "source": [
        "# Sets the environment for symbolic mathematics:\n",
        "from sympy import init_printing, symbols, Lambda, Eq, solve, plot\n",
        "init_printing()\n",
        "%matplotlib inline"
      ],
      "metadata": {
        "id": "ARrdAU6WIqNC"
      },
      "execution_count": null,
      "outputs": []
    },
    {
      "cell_type": "code",
      "source": [
        "# Sets a symbolic\n",
        "a,b,c,x = symbols(\"a,b,c,x\")"
      ],
      "metadata": {
        "id": "W33hgqJ6u5Mx"
      },
      "execution_count": null,
      "outputs": []
    },
    {
      "cell_type": "code",
      "source": [
        "# Defining a function\n",
        "f = Lambda(x, a*x**2+b*x+c);\n",
        "f(x)"
      ],
      "metadata": {
        "colab": {
          "base_uri": "https://localhost:8080/",
          "height": 38
        },
        "id": "KKF7R8Kp3ExL",
        "outputId": "2259e25c-2302-43a2-f25d-f9c4b70c5051"
      },
      "execution_count": null,
      "outputs": [
        {
          "output_type": "execute_result",
          "data": {
            "text/plain": [
              "   2          \n",
              "a⋅x  + b⋅x + c"
            ],
            "text/latex": "$\\displaystyle a x^{2} + b x + c$"
          },
          "metadata": {},
          "execution_count": 3
        }
      ]
    },
    {
      "cell_type": "code",
      "source": [
        "# Defining an equation\n",
        "quadratic_equation = Eq(f(x), 0);\n",
        "quadratic_equation"
      ],
      "metadata": {
        "colab": {
          "base_uri": "https://localhost:8080/",
          "height": 38
        },
        "id": "IVPAyOq-uusi",
        "outputId": "84468ac4-4d2e-4d1c-fdf7-1f76a399315e"
      },
      "execution_count": null,
      "outputs": [
        {
          "output_type": "execute_result",
          "data": {
            "text/plain": [
              "   2              \n",
              "a⋅x  + b⋅x + c = 0"
            ],
            "text/latex": "$\\displaystyle a x^{2} + b x + c = 0$"
          },
          "metadata": {},
          "execution_count": 4
        }
      ]
    },
    {
      "cell_type": "code",
      "source": [
        "# Solving an equation\n",
        "solve(quadratic_equation, x)"
      ],
      "metadata": {
        "colab": {
          "base_uri": "https://localhost:8080/",
          "height": 68
        },
        "id": "eXK-46x4wa5o",
        "outputId": "8e55d170-2a49-448f-e5cb-8ea103389f3e"
      },
      "execution_count": null,
      "outputs": [
        {
          "output_type": "execute_result",
          "data": {
            "text/plain": [
              "⎡        _____________          _____________⎤\n",
              "⎢       ╱           2          ╱           2 ⎥\n",
              "⎢-b - ╲╱  -4⋅a⋅c + b    -b + ╲╱  -4⋅a⋅c + b  ⎥\n",
              "⎢─────────────────────, ─────────────────────⎥\n",
              "⎣         2⋅a                    2⋅a         ⎦"
            ],
            "text/latex": "$\\displaystyle \\left[ \\frac{- b - \\sqrt{- 4 a c + b^{2}}}{2 a}, \\  \\frac{- b + \\sqrt{- 4 a c + b^{2}}}{2 a}\\right]$"
          },
          "metadata": {},
          "execution_count": 5
        }
      ]
    },
    {
      "cell_type": "code",
      "source": [
        "# Manipulate coefficients\n",
        "ex1 = {a:1, b:-5, c:6};\n",
        "solve(quadratic_equation.subs(ex1), x)"
      ],
      "metadata": {
        "colab": {
          "base_uri": "https://localhost:8080/",
          "height": 38
        },
        "id": "rPonxbL4xNhC",
        "outputId": "e887e206-c485-4e2a-dafe-b21d4a9061a7"
      },
      "execution_count": null,
      "outputs": [
        {
          "output_type": "execute_result",
          "data": {
            "text/plain": [
              "[2, 3]"
            ],
            "text/latex": "$\\displaystyle \\left[ 2, \\  3\\right]$"
          },
          "metadata": {},
          "execution_count": 6
        }
      ]
    },
    {
      "cell_type": "code",
      "source": [
        "# Plotting a function\n",
        "plot(f(x).subs(ex1), (x,0,5));"
      ],
      "metadata": {
        "colab": {
          "base_uri": "https://localhost:8080/",
          "height": 481
        },
        "id": "SmZGXqOR_y3K",
        "outputId": "217f3e40-2b4b-4aac-a0a3-bd57272dd70e"
      },
      "execution_count": null,
      "outputs": [
        {
          "output_type": "display_data",
          "data": {
            "text/plain": [
              "<Figure size 640x480 with 1 Axes>"
            ],
            "image/png": "[encoded data removed]"
          },
          "metadata": {}
        }
      ]
    }
  ]
}