{
  "nbformat": 4,
  "nbformat_minor": 0,
  "metadata": {
    "colab": {
      "provenance": [],
      "authorship_tag": "ABX9TyNQN14foqnRdw14gg/KK7H8",
      "include_colab_link": true
    },
    "kernelspec": {
      "name": "python3",
      "display_name": "Python 3"
    },
    "language_info": {
      "name": "python"
    }
  },
  "cells": [
    {
      "cell_type": "markdown",
      "metadata": {
        "id": "view-in-github",
        "colab_type": "text"
      },
      "source": [
        "<a href=\"https://colab.research.google.com/github/dionipadilha/sympy/blob/main/mathstudio.ipynb\" target=\"_parent\"><img src=\"https://colab.research.google.com/assets/colab-badge.svg\" alt=\"Open In Colab\"/></a>"
      ]
    },
    {
      "cell_type": "markdown",
      "source": [
        "# MathStudio"
      ],
      "metadata": {
        "id": "-_Tb4pT4kXhR"
      }
    },
    {
      "cell_type": "code",
      "source": [
        "# symbolic envoirment\n",
        "from sympy import *\n",
        "init_printing()\n",
        "a, b, c = symbols('a, b, c')\n",
        "x, y, z = symbols('x, y, z')\n",
        "r, s, t = symbols('r, s, t')\n",
        "k, m, n = symbols('k m n', integer=True)\n",
        "f, g, h = symbols('f g h', cls=Function)"
      ],
      "metadata": {
        "id": "E54bNJJzkpm8"
      },
      "execution_count": null,
      "outputs": []
    },
    {
      "cell_type": "markdown",
      "source": [
        "## Basic Expressions"
      ],
      "metadata": {
        "id": "T-dyYuR_oXcg"
      }
    },
    {
      "cell_type": "code",
      "execution_count": null,
      "metadata": {
        "colab": {
          "base_uri": "https://localhost:8080/",
          "height": 38
        },
        "id": "SV6P7flIkJAT",
        "outputId": "329c17ac-be70-4d96-a7bd-b725ee963f8b"
      },
      "outputs": [
        {
          "output_type": "execute_result",
          "data": {
            "text/plain": [
              "15"
            ],
            "text/latex": "$\\displaystyle 15$"
          },
          "metadata": {},
          "execution_count": 2
        }
      ],
      "source": [
        "1+2+3+4+5"
      ]
    },
    {
      "cell_type": "code",
      "source": [
        "4*5"
      ],
      "metadata": {
        "colab": {
          "base_uri": "https://localhost:8080/",
          "height": 38
        },
        "id": "sD2f_k0Rlwv_",
        "outputId": "05e3f9a2-e64b-4eb9-cc98-a59606b68dcf"
      },
      "execution_count": null,
      "outputs": [
        {
          "output_type": "execute_result",
          "data": {
            "text/plain": [
              "20"
            ],
            "text/latex": "$\\displaystyle 20$"
          },
          "metadata": {},
          "execution_count": 3
        }
      ]
    },
    {
      "cell_type": "code",
      "source": [
        "factorial(6)"
      ],
      "metadata": {
        "colab": {
          "base_uri": "https://localhost:8080/",
          "height": 38
        },
        "id": "oDQbRwg3l3NP",
        "outputId": "cb964aa1-f293-4a4f-b6bb-4a6f5f3fd79e"
      },
      "execution_count": null,
      "outputs": [
        {
          "output_type": "execute_result",
          "data": {
            "text/plain": [
              "720"
            ],
            "text/latex": "$\\displaystyle 720$"
          },
          "metadata": {},
          "execution_count": 4
        }
      ]
    },
    {
      "cell_type": "markdown",
      "source": [
        "##  Algebra"
      ],
      "metadata": {
        "id": "6_i27d-lpqiv"
      }
    },
    {
      "cell_type": "code",
      "source": [
        "x + x + x"
      ],
      "metadata": {
        "colab": {
          "base_uri": "https://localhost:8080/",
          "height": 38
        },
        "id": "7riUCmUMmOsH",
        "outputId": "c803354a-660b-4b3e-dad0-a6a4e34f2c88"
      },
      "execution_count": null,
      "outputs": [
        {
          "output_type": "execute_result",
          "data": {
            "text/plain": [
              "3⋅x"
            ],
            "text/latex": "$\\displaystyle 3 x$"
          },
          "metadata": {},
          "execution_count": 5
        }
      ]
    },
    {
      "cell_type": "code",
      "source": [
        "a*a*a + 3*a*a*b + 3*a*b*b + b*b*b"
      ],
      "metadata": {
        "colab": {
          "base_uri": "https://localhost:8080/",
          "height": 38
        },
        "id": "QFbYMq_Joq4h",
        "outputId": "00acd036-10b3-4b43-f936-6666a5a5d712"
      },
      "execution_count": null,
      "outputs": [
        {
          "output_type": "execute_result",
          "data": {
            "text/plain": [
              " 3      2          2    3\n",
              "a  + 3⋅a ⋅b + 3⋅a⋅b  + b "
            ],
            "text/latex": "$\\displaystyle a^{3} + 3 a^{2} b + 3 a b^{2} + b^{3}$"
          },
          "metadata": {},
          "execution_count": 6
        }
      ]
    },
    {
      "cell_type": "code",
      "source": [
        "expand((a+b)**3)"
      ],
      "metadata": {
        "colab": {
          "base_uri": "https://localhost:8080/",
          "height": 38
        },
        "id": "qEZgxRpApxaT",
        "outputId": "9bb34835-a7df-474b-883b-17936a9ba4a4"
      },
      "execution_count": null,
      "outputs": [
        {
          "output_type": "execute_result",
          "data": {
            "text/plain": [
              " 3      2          2    3\n",
              "a  + 3⋅a ⋅b + 3⋅a⋅b  + b "
            ],
            "text/latex": "$\\displaystyle a^{3} + 3 a^{2} b + 3 a b^{2} + b^{3}$"
          },
          "metadata": {},
          "execution_count": 7
        }
      ]
    },
    {
      "cell_type": "code",
      "source": [
        "apart(x**2/(x**2+1)**2)"
      ],
      "metadata": {
        "colab": {
          "base_uri": "https://localhost:8080/",
          "height": 58
        },
        "id": "piVg8VGwpzez",
        "outputId": "ce70913e-b8b4-4002-82ac-e7b499f6900a"
      },
      "execution_count": null,
      "outputs": [
        {
          "output_type": "execute_result",
          "data": {
            "text/plain": [
              "  1          1    \n",
              "────── - ─────────\n",
              " 2               2\n",
              "x  + 1   ⎛ 2    ⎞ \n",
              "         ⎝x  + 1⎠ "
            ],
            "text/latex": "$\\displaystyle \\frac{1}{x^{2} + 1} - \\frac{1}{\\left(x^{2} + 1\\right)^{2}}$"
          },
          "metadata": {},
          "execution_count": 8
        }
      ]
    },
    {
      "cell_type": "code",
      "source": [
        "factor(x**4 + 5*x**2 - 6)"
      ],
      "metadata": {
        "colab": {
          "base_uri": "https://localhost:8080/",
          "height": 38
        },
        "id": "jOFUM8OZqQlk",
        "outputId": "69bd8cc3-6be3-4805-e01f-b28ba102c38a"
      },
      "execution_count": null,
      "outputs": [
        {
          "output_type": "execute_result",
          "data": {
            "text/plain": [
              "                ⎛ 2    ⎞\n",
              "(x - 1)⋅(x + 1)⋅⎝x  + 6⎠"
            ],
            "text/latex": "$\\displaystyle \\left(x - 1\\right) \\left(x + 1\\right) \\left(x^{2} + 6\\right)$"
          },
          "metadata": {},
          "execution_count": 9
        }
      ]
    },
    {
      "cell_type": "markdown",
      "source": [
        "## Solving Quadratic Equations"
      ],
      "metadata": {
        "id": "gwBU_ORdrLxn"
      }
    },
    {
      "cell_type": "code",
      "source": [
        "solveset(Eq(x**2 + 5*x + 6, 0), x)"
      ],
      "metadata": {
        "colab": {
          "base_uri": "https://localhost:8080/",
          "height": 38
        },
        "id": "AtnCeLg6qnw_",
        "outputId": "1e7eaf47-2bfe-4379-9ed4-1c5f271455df"
      },
      "execution_count": null,
      "outputs": [
        {
          "output_type": "execute_result",
          "data": {
            "text/plain": [
              "{-3, -2}"
            ],
            "text/latex": "$\\displaystyle \\left\\{-3, -2\\right\\}$"
          },
          "metadata": {},
          "execution_count": 10
        }
      ]
    },
    {
      "cell_type": "code",
      "source": [
        "quadratic_equation = Eq(a*x**2 + b*x + c, 0)\n",
        "quadratic_solution = solveset(quadratic_equation, x)\n",
        "quadratic_solution"
      ],
      "metadata": {
        "colab": {
          "base_uri": "https://localhost:8080/",
          "height": 68
        },
        "id": "VcGs1nkmrQkh",
        "outputId": "ca37730a-5b33-4142-be4a-802017dbdc72"
      },
      "execution_count": null,
      "outputs": [
        {
          "output_type": "execute_result",
          "data": {
            "text/plain": [
              "⎧           _____________             _____________⎫\n",
              "⎪          ╱           2             ╱           2 ⎪\n",
              "⎨   b    ╲╱  -4⋅a⋅c + b       b    ╲╱  -4⋅a⋅c + b  ⎬\n",
              "⎪- ─── - ────────────────, - ─── + ────────────────⎪\n",
              "⎩  2⋅a         2⋅a           2⋅a         2⋅a       ⎭"
            ],
            "text/latex": "$\\displaystyle \\left\\{- \\frac{b}{2 a} - \\frac{\\sqrt{- 4 a c + b^{2}}}{2 a}, - \\frac{b}{2 a} + \\frac{\\sqrt{- 4 a c + b^{2}}}{2 a}\\right\\}$"
          },
          "metadata": {},
          "execution_count": 11
        }
      ]
    },
    {
      "cell_type": "code",
      "source": [
        "quadratic_solution.subs({a:1, b:5, c:6})"
      ],
      "metadata": {
        "colab": {
          "base_uri": "https://localhost:8080/",
          "height": 38
        },
        "id": "hDLFWoSQrqXL",
        "outputId": "fc1b9ae9-3e63-4631-8642-0ac084015e53"
      },
      "execution_count": null,
      "outputs": [
        {
          "output_type": "execute_result",
          "data": {
            "text/plain": [
              "{-3, -2}"
            ],
            "text/latex": "$\\displaystyle \\left\\{-3, -2\\right\\}$"
          },
          "metadata": {},
          "execution_count": 12
        }
      ]
    },
    {
      "cell_type": "markdown",
      "source": [
        "## Limits"
      ],
      "metadata": {
        "id": "DsSj-jlUtEhf"
      }
    },
    {
      "cell_type": "code",
      "source": [
        "limit((3*x -15) / sqrt(x**2 -10*x +25), x, 5)"
      ],
      "metadata": {
        "colab": {
          "base_uri": "https://localhost:8080/",
          "height": 38
        },
        "id": "iMAb2Xecsr6_",
        "outputId": "cfebb38c-4fee-48af-aac9-1750a0ec4702"
      },
      "execution_count": null,
      "outputs": [
        {
          "output_type": "execute_result",
          "data": {
            "text/plain": [
              "3"
            ],
            "text/latex": "$\\displaystyle 3$"
          },
          "metadata": {},
          "execution_count": 23
        }
      ]
    },
    {
      "cell_type": "code",
      "source": [
        "limit((3*x -15) / sqrt(x**2 -10*x +25), x, 5, dir='-')"
      ],
      "metadata": {
        "colab": {
          "base_uri": "https://localhost:8080/",
          "height": 38
        },
        "id": "q0FaSweJtfoS",
        "outputId": "0d3390cb-c4f9-4c62-d5e7-6606c665e7f8"
      },
      "execution_count": null,
      "outputs": [
        {
          "output_type": "execute_result",
          "data": {
            "text/plain": [
              "-3"
            ],
            "text/latex": "$\\displaystyle -3$"
          },
          "metadata": {},
          "execution_count": 24
        }
      ]
    },
    {
      "cell_type": "code",
      "source": [
        "limit(cos(a*x)/x**2-cos(b*x)/x**2, x, 0).together()"
      ],
      "metadata": {
        "colab": {
          "base_uri": "https://localhost:8080/",
          "height": 54
        },
        "id": "BZnrB3B4tte5",
        "outputId": "2af86252-ac5d-45b4-ac3b-9609df3736be"
      },
      "execution_count": null,
      "outputs": [
        {
          "output_type": "execute_result",
          "data": {
            "text/plain": [
              "   2    2\n",
              "- a  + b \n",
              "─────────\n",
              "    2    "
            ],
            "text/latex": "$\\displaystyle \\frac{- a^{2} + b^{2}}{2}$"
          },
          "metadata": {},
          "execution_count": 27
        }
      ]
    },
    {
      "cell_type": "markdown",
      "source": [
        "## Derivatives"
      ],
      "metadata": {
        "id": "J4Xu0Bz2uVmF"
      }
    },
    {
      "cell_type": "code",
      "source": [
        "diff(sin(x))"
      ],
      "metadata": {
        "colab": {
          "base_uri": "https://localhost:8080/",
          "height": 38
        },
        "id": "BqLbQnf6uCBy",
        "outputId": "26d5a589-b60c-4ca6-d5eb-ce038df7e4b3"
      },
      "execution_count": null,
      "outputs": [
        {
          "output_type": "execute_result",
          "data": {
            "text/plain": [
              "cos(x)"
            ],
            "text/latex": "$\\displaystyle \\cos{\\left(x \\right)}$"
          },
          "metadata": {},
          "execution_count": 28
        }
      ]
    },
    {
      "cell_type": "code",
      "source": [
        "diff(sin(x)*cos(x**2))"
      ],
      "metadata": {
        "colab": {
          "base_uri": "https://localhost:8080/",
          "height": 38
        },
        "id": "b6OSxLQmubq7",
        "outputId": "39bede67-6c93-4791-9546-426f90afd3c4"
      },
      "execution_count": null,
      "outputs": [
        {
          "output_type": "execute_result",
          "data": {
            "text/plain": [
              "                ⎛ 2⎞             ⎛ 2⎞\n",
              "- 2⋅x⋅sin(x)⋅sin⎝x ⎠ + cos(x)⋅cos⎝x ⎠"
            ],
            "text/latex": "$\\displaystyle - 2 x \\sin{\\left(x \\right)} \\sin{\\left(x^{2} \\right)} + \\cos{\\left(x \\right)} \\cos{\\left(x^{2} \\right)}$"
          },
          "metadata": {},
          "execution_count": 30
        }
      ]
    },
    {
      "cell_type": "code",
      "source": [
        "diff(f(x)*g(x))"
      ],
      "metadata": {
        "colab": {
          "base_uri": "https://localhost:8080/",
          "height": 52
        },
        "id": "CCuksVNJufl7",
        "outputId": "be7fdb0b-1653-4c0d-a552-4858beb60a1e"
      },
      "execution_count": null,
      "outputs": [
        {
          "output_type": "execute_result",
          "data": {
            "text/plain": [
              "     d               d       \n",
              "f(x)⋅──(g(x)) + g(x)⋅──(f(x))\n",
              "     dx              dx      "
            ],
            "text/latex": "$\\displaystyle f{\\left(x \\right)} \\frac{d}{d x} g{\\left(x \\right)} + g{\\left(x \\right)} \\frac{d}{d x} f{\\left(x \\right)}$"
          },
          "metadata": {},
          "execution_count": 33
        }
      ]
    },
    {
      "cell_type": "code",
      "source": [
        "diff(sqrt(x)**sqrt(x), x)"
      ],
      "metadata": {
        "colab": {
          "base_uri": "https://localhost:8080/",
          "height": 58
        },
        "id": "YgJPCr-huowr",
        "outputId": "71bb0816-0d4c-4c87-f7e0-8d018eb6a5fc"
      },
      "execution_count": null,
      "outputs": [
        {
          "output_type": "execute_result",
          "data": {
            "text/plain": [
              " √x                \n",
              " ──                \n",
              " 2  ⎛log(x)    1  ⎞\n",
              "x  ⋅⎜────── + ────⎟\n",
              "    ⎝ 4⋅√x    2⋅√x⎠"
            ],
            "text/latex": "$\\displaystyle x^{\\frac{\\sqrt{x}}{2}} \\left(\\frac{\\log{\\left(x \\right)}}{4 \\sqrt{x}} + \\frac{1}{2 \\sqrt{x}}\\right)$"
          },
          "metadata": {},
          "execution_count": 36
        }
      ]
    },
    {
      "cell_type": "markdown",
      "source": [
        "## Integrals"
      ],
      "metadata": {
        "id": "ei2YxO_LvEeu"
      }
    },
    {
      "cell_type": "code",
      "source": [
        "integrate(x**2+3*x-6)"
      ],
      "metadata": {
        "colab": {
          "base_uri": "https://localhost:8080/",
          "height": 54
        },
        "id": "CCzsbY-Yu06M",
        "outputId": "3e0a4e5e-fbf2-4cae-b640-a155a063cf1d"
      },
      "execution_count": null,
      "outputs": [
        {
          "output_type": "execute_result",
          "data": {
            "text/plain": [
              " 3      2      \n",
              "x    3⋅x       \n",
              "── + ──── - 6⋅x\n",
              "3     2        "
            ],
            "text/latex": "$\\displaystyle \\frac{x^{3}}{3} + \\frac{3 x^{2}}{2} - 6 x$"
          },
          "metadata": {},
          "execution_count": 37
        }
      ]
    },
    {
      "cell_type": "code",
      "source": [
        "integrate(exp(x)*sin(x))"
      ],
      "metadata": {
        "colab": {
          "base_uri": "https://localhost:8080/",
          "height": 53
        },
        "id": "QRT1IsTfvNDN",
        "outputId": "5fec2b15-5517-446d-fa66-1dc65b34658b"
      },
      "execution_count": null,
      "outputs": [
        {
          "output_type": "execute_result",
          "data": {
            "text/plain": [
              " x           x       \n",
              "ℯ ⋅sin(x)   ℯ ⋅cos(x)\n",
              "───────── - ─────────\n",
              "    2           2    "
            ],
            "text/latex": "$\\displaystyle \\frac{e^{x} \\sin{\\left(x \\right)}}{2} - \\frac{e^{x} \\cos{\\left(x \\right)}}{2}$"
          },
          "metadata": {},
          "execution_count": 38
        }
      ]
    },
    {
      "cell_type": "code",
      "source": [
        "integrate(-3/x**2+sin(x)/(1-sin(x)))"
      ],
      "metadata": {
        "colab": {
          "base_uri": "https://localhost:8080/",
          "height": 62
        },
        "id": "EBRdT87pvQj9",
        "outputId": "f814391c-4a43-4053-b538-1614ee0691b0"
      },
      "execution_count": null,
      "outputs": [
        {
          "output_type": "execute_result",
          "data": {
            "text/plain": [
              "        ⎛x⎞                               \n",
              "   x⋅tan⎜─⎟                               \n",
              "        ⎝2⎠        x            2        3\n",
              "- ────────── + ────────── - ────────── + ─\n",
              "     ⎛x⎞          ⎛x⎞          ⎛x⎞       x\n",
              "  tan⎜─⎟ - 1   tan⎜─⎟ - 1   tan⎜─⎟ - 1    \n",
              "     ⎝2⎠          ⎝2⎠          ⎝2⎠        "
            ],
            "text/latex": "$\\displaystyle - \\frac{x \\tan{\\left(\\frac{x}{2} \\right)}}{\\tan{\\left(\\frac{x}{2} \\right)} - 1} + \\frac{x}{\\tan{\\left(\\frac{x}{2} \\right)} - 1} - \\frac{2}{\\tan{\\left(\\frac{x}{2} \\right)} - 1} + \\frac{3}{x}$"
          },
          "metadata": {},
          "execution_count": 42
        }
      ]
    },
    {
      "cell_type": "code",
      "source": [
        "integrate((1+2*cos(x))/(1+2*sin(x))).simplify()"
      ],
      "metadata": {
        "colab": {
          "base_uri": "https://localhost:8080/",
          "height": 92
        },
        "id": "QGrFnWdbvUsd",
        "outputId": "af547efb-9bb0-4096-c31f-20639d62b2d4"
      },
      "execution_count": null,
      "outputs": [
        {
          "output_type": "execute_result",
          "data": {
            "text/plain": [
              "                          ⎛   ⎛x⎞         ⎞                                ⎛  \n",
              "                    √3⋅log⎜tan⎜─⎟ - √3 + 2⎟                          √3⋅log⎜ta\n",
              "     ⎛    2     ⎞         ⎝   ⎝2⎠         ⎠      ⎛   ⎛x⎞         ⎞         ⎝  \n",
              "- log⎜──────────⎟ + ─────────────────────── + log⎜tan⎜─⎟ - √3 + 2⎟ - ─────────\n",
              "     ⎝cos(x) + 1⎠              3                 ⎝   ⎝2⎠         ⎠            \n",
              "\n",
              " ⎛x⎞         ⎞                       \n",
              "n⎜─⎟ + √3 + 2⎟                       \n",
              " ⎝2⎠         ⎠      ⎛   ⎛x⎞         ⎞\n",
              "────────────── + log⎜tan⎜─⎟ + √3 + 2⎟\n",
              "  3                 ⎝   ⎝2⎠         ⎠"
            ],
            "text/latex": "$\\displaystyle - \\log{\\left(\\frac{2}{\\cos{\\left(x \\right)} + 1} \\right)} + \\frac{\\sqrt{3} \\log{\\left(\\tan{\\left(\\frac{x}{2} \\right)} - \\sqrt{3} + 2 \\right)}}{3} + \\log{\\left(\\tan{\\left(\\frac{x}{2} \\right)} - \\sqrt{3} + 2 \\right)} - \\frac{\\sqrt{3} \\log{\\left(\\tan{\\left(\\frac{x}{2} \\right)} + \\sqrt{3} + 2 \\right)}}{3} + \\log{\\left(\\tan{\\left(\\frac{x}{2} \\right)} + \\sqrt{3} + 2 \\right)}$"
          },
          "metadata": {},
          "execution_count": 47
        }
      ]
    },
    {
      "cell_type": "code",
      "source": [
        "integrate(1/(a*x**2+b*x), x)"
      ],
      "metadata": {
        "colab": {
          "base_uri": "https://localhost:8080/",
          "height": 56
        },
        "id": "fxZP184mvpNO",
        "outputId": "203de289-f7f1-4572-a070-455b22a2ef0a"
      },
      "execution_count": null,
      "outputs": [
        {
          "output_type": "execute_result",
          "data": {
            "text/plain": [
              "            ⎛    b⎞\n",
              "log(x) - log⎜x + ─⎟\n",
              "            ⎝    a⎠\n",
              "───────────────────\n",
              "         b         "
            ],
            "text/latex": "$\\displaystyle \\frac{\\log{\\left(x \\right)} - \\log{\\left(x + \\frac{b}{a} \\right)}}{b}$"
          },
          "metadata": {},
          "execution_count": 51
        }
      ]
    },
    {
      "cell_type": "code",
      "source": [],
      "metadata": {
        "id": "q4zduhpfwAoP"
      },
      "execution_count": null,
      "outputs": []
    }
  ]
}