{
  "nbformat": 4,
  "nbformat_minor": 0,
  "metadata": {
    "colab": {
      "provenance": [],
      "authorship_tag": "ABX9TyPJRzjKEvFj/SNUWVzvMGOH",
      "include_colab_link": true
    },
    "kernelspec": {
      "name": "python3",
      "display_name": "Python 3"
    },
    "language_info": {
      "name": "python"
    }
  },
  "cells": [
    {
      "cell_type": "markdown",
      "metadata": {
        "id": "view-in-github",
        "colab_type": "text"
      },
      "source": [
        "<a href=\"https://colab.research.google.com/github/dionipadilha/sympy/blob/main/matlab_intro_symb_math.ipynb\" target=\"_parent\"><img src=\"https://colab.research.google.com/assets/colab-badge.svg\" alt=\"Open In Colab\"/></a>"
      ]
    },
    {
      "cell_type": "markdown",
      "source": [
        "# Introduction to Symbolic Math with SymPy"
      ],
      "metadata": {
        "id": "yjVbdWuqTV5N"
      }
    },
    {
      "cell_type": "markdown",
      "source": [
        "https://matlabacademy.mathworks.com/es/details/introduction-to-symbolic-math-with-matlab/symbolic"
      ],
      "metadata": {
        "id": "VEpNSE2rfXXs"
      }
    },
    {
      "cell_type": "code",
      "execution_count": null,
      "metadata": {
        "id": "raJbSNcPPukn"
      },
      "outputs": [],
      "source": [
        "# Symbolic env:\n",
        "from sympy import *\n",
        "init_printing()"
      ]
    },
    {
      "cell_type": "markdown",
      "source": [
        "## Symbolic Objects"
      ],
      "metadata": {
        "id": "0eJYgoMSTihR"
      }
    },
    {
      "cell_type": "code",
      "source": [
        "# Creating symbolic variables:\n",
        "x = Symbol('x')\n",
        "a, b, c, d = symbols('a, b, c, d')\n",
        "type(x)"
      ],
      "metadata": {
        "colab": {
          "base_uri": "https://localhost:8080/"
        },
        "id": "Tr_y5fj_P71_",
        "outputId": "977a83d3-f106-4f4f-c7ab-350aea61df89"
      },
      "execution_count": null,
      "outputs": [
        {
          "output_type": "execute_result",
          "data": {
            "text/plain": [
              "sympy.core.symbol.Symbol"
            ]
          },
          "metadata": {},
          "execution_count": 2
        }
      ]
    },
    {
      "cell_type": "code",
      "source": [
        "# Creating symbolic expressions:\n",
        "quadratic_expr = a*x**2 + b*x + c\n",
        "quadratic_expr"
      ],
      "metadata": {
        "colab": {
          "base_uri": "https://localhost:8080/",
          "height": 38
        },
        "id": "CETL9VusQiIA",
        "outputId": "89d1e461-755f-4715-db23-11af33792656"
      },
      "execution_count": null,
      "outputs": [
        {
          "output_type": "execute_result",
          "data": {
            "text/plain": [
              "   2          \n",
              "a⋅x  + b⋅x + c"
            ],
            "text/latex": "$\\displaystyle a x^{2} + b x + c$"
          },
          "metadata": {},
          "execution_count": 3
        }
      ]
    },
    {
      "cell_type": "code",
      "source": [
        "# Substituting values into symbolic variables:\n",
        "quadratic_expr.subs({a: 1, b:2, c:-3})"
      ],
      "metadata": {
        "colab": {
          "base_uri": "https://localhost:8080/",
          "height": 38
        },
        "id": "zlXlLgpjQ4-C",
        "outputId": "27c9c885-dd58-4c6b-b0eb-5aa69777d39e"
      },
      "execution_count": null,
      "outputs": [
        {
          "output_type": "execute_result",
          "data": {
            "text/plain": [
              " 2          \n",
              "x  + 2⋅x - 3"
            ],
            "text/latex": "$\\displaystyle x^{2} + 2 x - 3$"
          },
          "metadata": {},
          "execution_count": 4
        }
      ]
    },
    {
      "cell_type": "code",
      "source": [
        "# Defining symbolic equations:\n",
        "quadratic_eq = Eq(quadratic_expr.subs({a: 1, b:2, c:-3}), 0)\n",
        "quadratic_eq"
      ],
      "metadata": {
        "colab": {
          "base_uri": "https://localhost:8080/",
          "height": 38
        },
        "id": "iUks5LR8RRUk",
        "outputId": "7011bb97-b16a-41a6-cc3e-48fcdee863e9"
      },
      "execution_count": null,
      "outputs": [
        {
          "output_type": "execute_result",
          "data": {
            "text/plain": [
              " 2              \n",
              "x  + 2⋅x - 3 = 0"
            ],
            "text/latex": "$\\displaystyle x^{2} + 2 x - 3 = 0$"
          },
          "metadata": {},
          "execution_count": 5
        }
      ]
    },
    {
      "cell_type": "code",
      "source": [
        "# Solving symbolic equations:\n",
        "solve(quadratic_eq)"
      ],
      "metadata": {
        "colab": {
          "base_uri": "https://localhost:8080/",
          "height": 38
        },
        "id": "B_EA4eunStj7",
        "outputId": "4ecace71-d732-47ed-954b-24fd791410f5"
      },
      "execution_count": null,
      "outputs": [
        {
          "output_type": "execute_result",
          "data": {
            "text/plain": [
              "[-3, 1]"
            ],
            "text/latex": "$\\displaystyle \\left[ -3, \\  1\\right]$"
          },
          "metadata": {},
          "execution_count": 6
        }
      ]
    },
    {
      "cell_type": "markdown",
      "source": [
        "## Algebraic Manipulation and Simplification"
      ],
      "metadata": {
        "id": "0qYUrFi5TSRN"
      }
    },
    {
      "cell_type": "code",
      "source": [
        "a, b, x, y, z = symbols('a, b, x, y, z')"
      ],
      "metadata": {
        "id": "yFHYn81YUAyO"
      },
      "execution_count": null,
      "outputs": []
    },
    {
      "cell_type": "code",
      "source": [
        "expr = x**2 + 2*x - 3\n",
        "Eq(expr, expr.factor())"
      ],
      "metadata": {
        "colab": {
          "base_uri": "https://localhost:8080/",
          "height": 38
        },
        "id": "IaKQiF8qTHwy",
        "outputId": "1c9cc08c-5169-436d-c473-56f3680b59d0"
      },
      "execution_count": null,
      "outputs": [
        {
          "output_type": "execute_result",
          "data": {
            "text/plain": [
              " 2                            \n",
              "x  + 2⋅x - 3 = (x - 1)⋅(x + 3)"
            ],
            "text/latex": "$\\displaystyle x^{2} + 2 x - 3 = \\left(x - 1\\right) \\left(x + 3\\right)$"
          },
          "metadata": {},
          "execution_count": 8
        }
      ]
    },
    {
      "cell_type": "code",
      "source": [
        "expr = (x - 1) * (x + 3)\n",
        "Eq(expr, expr.expand())"
      ],
      "metadata": {
        "colab": {
          "base_uri": "https://localhost:8080/",
          "height": 38
        },
        "id": "IpV6NFwzTNF7",
        "outputId": "c5179626-b9eb-48b4-ceb6-224f25fac525"
      },
      "execution_count": null,
      "outputs": [
        {
          "output_type": "execute_result",
          "data": {
            "text/plain": [
              "                   2          \n",
              "(x - 1)⋅(x + 3) = x  + 2⋅x - 3"
            ],
            "text/latex": "$\\displaystyle \\left(x - 1\\right) \\left(x + 3\\right) = x^{2} + 2 x - 3$"
          },
          "metadata": {},
          "execution_count": 9
        }
      ]
    },
    {
      "cell_type": "code",
      "source": [
        "expr = (x**2 + 2*x - 3)/(x + 3)\n",
        "Eq(expr, expr.cancel())"
      ],
      "metadata": {
        "colab": {
          "base_uri": "https://localhost:8080/",
          "height": 55
        },
        "id": "1P4N8zRMUTsm",
        "outputId": "5203334e-cbff-447a-e124-21c9d5498dd3"
      },
      "execution_count": null,
      "outputs": [
        {
          "output_type": "execute_result",
          "data": {
            "text/plain": [
              " 2                  \n",
              "x  + 2⋅x - 3        \n",
              "──────────── = x - 1\n",
              "   x + 3            "
            ],
            "text/latex": "$\\displaystyle \\frac{x^{2} + 2 x - 3}{x + 3} = x - 1$"
          },
          "metadata": {},
          "execution_count": 10
        }
      ]
    },
    {
      "cell_type": "code",
      "source": [
        "expr = 2*x**2 - z*x**2 + x**3\n",
        "Eq(expr, expr.collect(x))"
      ],
      "metadata": {
        "colab": {
          "base_uri": "https://localhost:8080/",
          "height": 38
        },
        "id": "P7ROa0DXVAj4",
        "outputId": "370b5aa5-3e5e-463d-e197-dea32969f845"
      },
      "execution_count": null,
      "outputs": [
        {
          "output_type": "execute_result",
          "data": {
            "text/plain": [
              " 3    2        2    3    2        \n",
              "x  - x ⋅z + 2⋅x  = x  + x ⋅(2 - z)"
            ],
            "text/latex": "$\\displaystyle x^{3} - x^{2} z + 2 x^{2} = x^{3} + x^{2} \\cdot \\left(2 - z\\right)$"
          },
          "metadata": {},
          "execution_count": 11
        }
      ]
    },
    {
      "cell_type": "code",
      "source": [
        "expr = (a*b + x)/a\n",
        "Eq(expr, expr.apart(x))"
      ],
      "metadata": {
        "colab": {
          "base_uri": "https://localhost:8080/",
          "height": 52
        },
        "id": "OU7k_zqFXbj0",
        "outputId": "320c2c19-cb8a-41e1-e091-9a3f0a7eb425"
      },
      "execution_count": null,
      "outputs": [
        {
          "output_type": "execute_result",
          "data": {
            "text/plain": [
              "a⋅b + x       x\n",
              "─────── = b + ─\n",
              "   a          a"
            ],
            "text/latex": "$\\displaystyle \\frac{a b + x}{a} = b + \\frac{x}{a}$"
          },
          "metadata": {},
          "execution_count": 12
        }
      ]
    },
    {
      "cell_type": "code",
      "source": [
        "expr = (x/a + b)\n",
        "Eq(expr, expr.together())"
      ],
      "metadata": {
        "colab": {
          "base_uri": "https://localhost:8080/",
          "height": 52
        },
        "id": "68b5OQGiXq7T",
        "outputId": "4309fb58-415f-476a-c5cd-eafe0d4f1562"
      },
      "execution_count": null,
      "outputs": [
        {
          "output_type": "execute_result",
          "data": {
            "text/plain": [
              "    x   a⋅b + x\n",
              "b + ─ = ───────\n",
              "    a      a   "
            ],
            "text/latex": "$\\displaystyle b + \\frac{x}{a} = \\frac{a b + x}{a}$"
          },
          "metadata": {},
          "execution_count": 13
        }
      ]
    },
    {
      "cell_type": "code",
      "source": [
        "expr =(a*b + x)/a\n",
        "Eq(expr, expr.simplify())"
      ],
      "metadata": {
        "colab": {
          "base_uri": "https://localhost:8080/",
          "height": 52
        },
        "id": "PntpBgz7ZUHI",
        "outputId": "4f242c90-98f1-471c-e1e2-87c4e256f438"
      },
      "execution_count": null,
      "outputs": [
        {
          "output_type": "execute_result",
          "data": {
            "text/plain": [
              "a⋅b + x       x\n",
              "─────── = b + ─\n",
              "   a          a"
            ],
            "text/latex": "$\\displaystyle \\frac{a b + x}{a} = b + \\frac{x}{a}$"
          },
          "metadata": {},
          "execution_count": 14
        }
      ]
    },
    {
      "cell_type": "markdown",
      "source": [
        "## Working with Assumptions"
      ],
      "metadata": {
        "id": "4ZDx0YxmZ5Oy"
      }
    },
    {
      "cell_type": "code",
      "source": [
        "x, y = symbols('x, y')\n",
        "x * y > 0"
      ],
      "metadata": {
        "colab": {
          "base_uri": "https://localhost:8080/",
          "height": 38
        },
        "id": "cwcWUD45Znjg",
        "outputId": "79cc4c58-4d06-4509-8e23-e1e3a5bfceef"
      },
      "execution_count": null,
      "outputs": [
        {
          "output_type": "execute_result",
          "data": {
            "text/plain": [
              "x⋅y > 0"
            ],
            "text/latex": "$\\displaystyle x y > 0$"
          },
          "metadata": {},
          "execution_count": 15
        }
      ]
    },
    {
      "cell_type": "code",
      "source": [
        "x, y = symbols('x, y', positive=True)\n",
        "x * y > 0"
      ],
      "metadata": {
        "colab": {
          "base_uri": "https://localhost:8080/",
          "height": 38
        },
        "id": "pMIgR-T_aFMS",
        "outputId": "c408d1e8-bfa9-4891-b804-de621fc5c4bc"
      },
      "execution_count": null,
      "outputs": [
        {
          "output_type": "execute_result",
          "data": {
            "text/plain": [
              "True"
            ],
            "text/latex": "$\\displaystyle \\text{True}$"
          },
          "metadata": {},
          "execution_count": 16
        }
      ]
    },
    {
      "cell_type": "code",
      "source": [
        "x = symbols('x')\n",
        "sqrt(x**2)"
      ],
      "metadata": {
        "colab": {
          "base_uri": "https://localhost:8080/",
          "height": 39
        },
        "id": "G8xtMNlLatyv",
        "outputId": "05c446b3-69d5-40a4-cda2-e4a52ace860d"
      },
      "execution_count": null,
      "outputs": [
        {
          "output_type": "execute_result",
          "data": {
            "text/plain": [
              "   ____\n",
              "  ╱  2 \n",
              "╲╱  x  "
            ],
            "text/latex": "$\\displaystyle \\sqrt{x^{2}}$"
          },
          "metadata": {},
          "execution_count": 17
        }
      ]
    },
    {
      "cell_type": "code",
      "source": [
        "x = symbols('x', real=True)\n",
        "sqrt(x**2)"
      ],
      "metadata": {
        "colab": {
          "base_uri": "https://localhost:8080/",
          "height": 38
        },
        "id": "cZHyE6qjaM9Z",
        "outputId": "56e886c3-f23b-47ae-9e22-67a00bf072e3"
      },
      "execution_count": null,
      "outputs": [
        {
          "output_type": "execute_result",
          "data": {
            "text/plain": [
              "│x│"
            ],
            "text/latex": "$\\displaystyle \\left|{x}\\right|$"
          },
          "metadata": {},
          "execution_count": 18
        }
      ]
    },
    {
      "cell_type": "code",
      "source": [
        "x = symbols('x', positive=True)\n",
        "sqrt(x**2)"
      ],
      "metadata": {
        "colab": {
          "base_uri": "https://localhost:8080/",
          "height": 38
        },
        "id": "KZvAOi73aa3K",
        "outputId": "98a73d9a-8002-4d45-90c2-8f2a527bb2cc"
      },
      "execution_count": null,
      "outputs": [
        {
          "output_type": "execute_result",
          "data": {
            "text/plain": [
              "x"
            ],
            "text/latex": "$\\displaystyle x$"
          },
          "metadata": {},
          "execution_count": 19
        }
      ]
    },
    {
      "cell_type": "markdown",
      "source": [
        "## Working with Units of Measurement"
      ],
      "metadata": {
        "id": "79_xoqgrclUE"
      }
    },
    {
      "cell_type": "code",
      "source": [
        "from sympy.physics.units import *"
      ],
      "metadata": {
        "id": "YhZoBQqac9SC"
      },
      "execution_count": null,
      "outputs": []
    },
    {
      "cell_type": "code",
      "source": [
        "convert_to(kilometer, meter)"
      ],
      "metadata": {
        "colab": {
          "base_uri": "https://localhost:8080/",
          "height": 38
        },
        "id": "85A7C45genRr",
        "outputId": "3d077fab-67aa-42b9-eb5a-d367225ccf6d"
      },
      "execution_count": null,
      "outputs": [
        {
          "output_type": "execute_result",
          "data": {
            "text/plain": [
              "1000⋅meter"
            ],
            "text/latex": "$\\displaystyle 1000 \\text{m}$"
          },
          "metadata": {},
          "execution_count": 21
        }
      ]
    },
    {
      "cell_type": "code",
      "source": [
        "convert_to(kilometer/hour, meter/second)"
      ],
      "metadata": {
        "colab": {
          "base_uri": "https://localhost:8080/",
          "height": 51
        },
        "id": "SrbmzKCYdiuF",
        "outputId": "37c81f9e-0912-4a43-da15-6c75a30700b9"
      },
      "execution_count": null,
      "outputs": [
        {
          "output_type": "execute_result",
          "data": {
            "text/plain": [
              " 5⋅meter \n",
              "─────────\n",
              "18⋅second"
            ],
            "text/latex": "$\\displaystyle \\frac{5 \\text{m}}{18 \\text{s}}$"
          },
          "metadata": {},
          "execution_count": 22
        }
      ]
    },
    {
      "cell_type": "code",
      "source": [
        "convert_to(liter, meter**3)"
      ],
      "metadata": {
        "colab": {
          "base_uri": "https://localhost:8080/",
          "height": 54
        },
        "id": "w0wdVRfjejEp",
        "outputId": "0d83546e-7579-446e-c6c7-0eaafbd359ee"
      },
      "execution_count": null,
      "outputs": [
        {
          "output_type": "execute_result",
          "data": {
            "text/plain": [
              "     3\n",
              "meter \n",
              "──────\n",
              " 1000 "
            ],
            "text/latex": "$\\displaystyle \\frac{\\text{m}^{3}}{1000}$"
          },
          "metadata": {},
          "execution_count": 23
        }
      ]
    },
    {
      "cell_type": "markdown",
      "source": [
        "## Symbolic Functions"
      ],
      "metadata": {
        "id": "0JpBH9byfQxG"
      }
    },
    {
      "cell_type": "code",
      "source": [
        "# define symbolic functions:\n",
        "f = Lambda(x, x**2 + 2*x - 3)\n",
        "f"
      ],
      "metadata": {
        "colab": {
          "base_uri": "https://localhost:8080/",
          "height": 38
        },
        "id": "AwEfNBSfeBmv",
        "outputId": "548493b7-17eb-4fc8-dca5-d944cd1a30c0"
      },
      "execution_count": null,
      "outputs": [
        {
          "output_type": "execute_result",
          "data": {
            "text/plain": [
              "     2          \n",
              "x ↦ x  + 2⋅x - 3"
            ],
            "text/latex": "$\\displaystyle \\left( x \\mapsto x^{2} + 2 x - 3 \\right)$"
          },
          "metadata": {},
          "execution_count": 39
        }
      ]
    },
    {
      "cell_type": "code",
      "source": [
        "# evaluate symbolic function at a point:\n",
        "f(2)"
      ],
      "metadata": {
        "colab": {
          "base_uri": "https://localhost:8080/",
          "height": 38
        },
        "id": "3gIjTIhKfwJo",
        "outputId": "0cfdde13-8d3e-47cd-b17b-8c6b2c9d9eba"
      },
      "execution_count": null,
      "outputs": [
        {
          "output_type": "execute_result",
          "data": {
            "text/plain": [
              "5"
            ],
            "text/latex": "$\\displaystyle 5$"
          },
          "metadata": {},
          "execution_count": 40
        }
      ]
    },
    {
      "cell_type": "code",
      "source": [
        "# derivative of f(x):\n",
        "f(x).diff(x)"
      ],
      "metadata": {
        "colab": {
          "base_uri": "https://localhost:8080/",
          "height": 38
        },
        "id": "nWUrIqQpf4lB",
        "outputId": "0716b437-c2af-45ce-f50b-85ababbebeaa"
      },
      "execution_count": null,
      "outputs": [
        {
          "output_type": "execute_result",
          "data": {
            "text/plain": [
              "2⋅x + 2"
            ],
            "text/latex": "$\\displaystyle 2 x + 2$"
          },
          "metadata": {},
          "execution_count": 41
        }
      ]
    },
    {
      "cell_type": "code",
      "source": [
        "# second derivative of f(x):\n",
        "f(x).diff(x, 2)"
      ],
      "metadata": {
        "colab": {
          "base_uri": "https://localhost:8080/",
          "height": 38
        },
        "id": "4ev80O1YgJvK",
        "outputId": "eefa38ff-d41b-41a1-d310-365668839235"
      },
      "execution_count": null,
      "outputs": [
        {
          "output_type": "execute_result",
          "data": {
            "text/plain": [
              "2"
            ],
            "text/latex": "$\\displaystyle 2$"
          },
          "metadata": {},
          "execution_count": 42
        }
      ]
    },
    {
      "cell_type": "code",
      "source": [
        "# integral of f(x):\n",
        "f(x).integrate(x)"
      ],
      "metadata": {
        "colab": {
          "base_uri": "https://localhost:8080/",
          "height": 54
        },
        "id": "D0WpI31-gSD7",
        "outputId": "da32ef31-37d6-4c60-8f84-d6378daa89b2"
      },
      "execution_count": null,
      "outputs": [
        {
          "output_type": "execute_result",
          "data": {
            "text/plain": [
              " 3           \n",
              "x     2      \n",
              "── + x  - 3⋅x\n",
              "3            "
            ],
            "text/latex": "$\\displaystyle \\frac{x^{3}}{3} + x^{2} - 3 x$"
          },
          "metadata": {},
          "execution_count": 43
        }
      ]
    },
    {
      "cell_type": "code",
      "source": [
        "# defined integral of f(x):\n",
        "integrate(f(x),(x, -3, 1))"
      ],
      "metadata": {
        "colab": {
          "base_uri": "https://localhost:8080/",
          "height": 51
        },
        "id": "fktO48k92sVm",
        "outputId": "b1866b38-3c0a-4d14-b07d-c6e56e4000ab"
      },
      "execution_count": null,
      "outputs": [
        {
          "output_type": "execute_result",
          "data": {
            "text/plain": [
              "-32/3"
            ],
            "text/latex": "$\\displaystyle - \\frac{32}{3}$"
          },
          "metadata": {},
          "execution_count": 51
        }
      ]
    },
    {
      "cell_type": "code",
      "source": [
        "# limit of f(x):\n",
        "limit(f(x), x, -1)"
      ],
      "metadata": {
        "colab": {
          "base_uri": "https://localhost:8080/",
          "height": 38
        },
        "id": "BI4w5YhXgbvC",
        "outputId": "b06208a5-d344-44b8-d181-6ac9133ad397"
      },
      "execution_count": null,
      "outputs": [
        {
          "output_type": "execute_result",
          "data": {
            "text/plain": [
              "-4"
            ],
            "text/latex": "$\\displaystyle -4$"
          },
          "metadata": {},
          "execution_count": 50
        }
      ]
    },
    {
      "cell_type": "code",
      "source": [
        "# visualizing f(x):\n",
        "plot(f(x), (x, -5, 3));"
      ],
      "metadata": {
        "id": "NW5cxOGwgjiz",
        "colab": {
          "base_uri": "https://localhost:8080/",
          "height": 487
        },
        "outputId": "5f65555d-548e-4680-afd7-ed61c022babf"
      },
      "execution_count": null,
      "outputs": [
        {
          "output_type": "display_data",
          "data": {
            "text/plain": [
              "<Figure size 640x480 with 1 Axes>"
            ],
            "image/png": "[encoded data removed]"
          },
          "metadata": {}
        }
      ]
    }
  ]
}