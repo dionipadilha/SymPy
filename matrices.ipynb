{
  "nbformat": 4,
  "nbformat_minor": 0,
  "metadata": {
    "colab": {
      "provenance": [],
      "authorship_tag": "ABX9TyOKl7sjoeoF1vCX0AgyXxrF",
      "include_colab_link": true
    },
    "kernelspec": {
      "name": "python3",
      "display_name": "Python 3"
    },
    "language_info": {
      "name": "python"
    }
  },
  "cells": [
    {
      "cell_type": "markdown",
      "metadata": {
        "id": "view-in-github",
        "colab_type": "text"
      },
      "source": [
        "<a href=\"https://colab.research.google.com/github/dionipadilha/sympy/blob/main/matrices.ipynb\" target=\"_parent\"><img src=\"https://colab.research.google.com/assets/colab-badge.svg\" alt=\"Open In Colab\"/></a>"
      ]
    },
    {
      "cell_type": "markdown",
      "source": [
        "# Matrices"
      ],
      "metadata": {
        "id": "Ji9_LiEmNAsM"
      }
    },
    {
      "cell_type": "code",
      "execution_count": null,
      "metadata": {
        "id": "hOM2Q4liMd4w"
      },
      "outputs": [],
      "source": [
        "from sympy import *\n",
        "init_printing()"
      ]
    },
    {
      "cell_type": "markdown",
      "source": [
        "## Matrix in SymPy"
      ],
      "metadata": {
        "id": "aVwT-9WQNEgI"
      }
    },
    {
      "cell_type": "code",
      "source": [
        "# Matrix object\n",
        "Matrix([[1, -1], [3, 4], [0, 2]])"
      ],
      "metadata": {
        "colab": {
          "base_uri": "https://localhost:8080/",
          "height": 78
        },
        "id": "9m_7qBP9MsYg",
        "outputId": "61dbb5c4-cb56-45d1-bd8b-b5f012c3022b"
      },
      "execution_count": null,
      "outputs": [
        {
          "output_type": "execute_result",
          "data": {
            "text/plain": [
              "⎡1  -1⎤\n",
              "⎢     ⎥\n",
              "⎢3  4 ⎥\n",
              "⎢     ⎥\n",
              "⎣0  2 ⎦"
            ],
            "text/latex": "$\\displaystyle \\left[\\begin{matrix}1 & -1\\\\3 & 4\\\\0 & 2\\end{matrix}\\right]$"
          },
          "metadata": {},
          "execution_count": 2
        }
      ]
    },
    {
      "cell_type": "code",
      "source": [
        "# Column vector\n",
        "Matrix([1, 2, 3])"
      ],
      "metadata": {
        "colab": {
          "base_uri": "https://localhost:8080/",
          "height": 78
        },
        "id": "aFppFt_vNMbr",
        "outputId": "7cb0e131-0cb1-4d13-9be8-35ce0486925e"
      },
      "execution_count": null,
      "outputs": [
        {
          "output_type": "execute_result",
          "data": {
            "text/plain": [
              "⎡1⎤\n",
              "⎢ ⎥\n",
              "⎢2⎥\n",
              "⎢ ⎥\n",
              "⎣3⎦"
            ],
            "text/latex": "$\\displaystyle \\left[\\begin{matrix}1\\\\2\\\\3\\end{matrix}\\right]$"
          },
          "metadata": {},
          "execution_count": 3
        }
      ]
    },
    {
      "cell_type": "code",
      "source": [
        "# Row vector\n",
        "Matrix([1, 2, 3]).transpose()"
      ],
      "metadata": {
        "colab": {
          "base_uri": "https://localhost:8080/",
          "height": 38
        },
        "id": "GUyBO05KNuy2",
        "outputId": "f4219084-5c01-43a6-b605-60cf6e303091"
      },
      "execution_count": null,
      "outputs": [
        {
          "output_type": "execute_result",
          "data": {
            "text/plain": [
              "[1  2  3]"
            ],
            "text/latex": "$\\displaystyle \\left[\\begin{matrix}1 & 2 & 3\\end{matrix}\\right]$"
          },
          "metadata": {},
          "execution_count": 4
        }
      ]
    },
    {
      "cell_type": "markdown",
      "source": [
        "## Matrix Basic Operations"
      ],
      "metadata": {
        "id": "CgPYyUDHOJkX"
      }
    },
    {
      "cell_type": "code",
      "source": [
        "# Get the shape of a matrix\n",
        "M = Matrix([[1, 2, 3], [-2, 0, 4], [3, 6, 8]])\n",
        "shape(M)"
      ],
      "metadata": {
        "colab": {
          "base_uri": "https://localhost:8080/",
          "height": 36
        },
        "id": "kZ1NBtP3N69h",
        "outputId": "5dfefb15-c0e2-4d08-876c-8eb957f34043"
      },
      "execution_count": null,
      "outputs": [
        {
          "output_type": "execute_result",
          "data": {
            "text/plain": [
              "(3, 3)"
            ],
            "text/latex": "$\\displaystyle \\left( 3, \\  3\\right)$"
          },
          "metadata": {},
          "execution_count": 5
        }
      ]
    },
    {
      "cell_type": "code",
      "source": [
        "# Accessing Rows\n",
        "M.row(0)"
      ],
      "metadata": {
        "colab": {
          "base_uri": "https://localhost:8080/",
          "height": 38
        },
        "id": "ruJE_oihOg54",
        "outputId": "67a5d036-d5e5-4b70-eb28-ae57dcdc6b5a"
      },
      "execution_count": null,
      "outputs": [
        {
          "output_type": "execute_result",
          "data": {
            "text/plain": [
              "[1  2  3]"
            ],
            "text/latex": "$\\displaystyle \\left[\\begin{matrix}1 & 2 & 3\\end{matrix}\\right]$"
          },
          "metadata": {},
          "execution_count": 6
        }
      ]
    },
    {
      "cell_type": "code",
      "source": [
        "# Accessing Columns\n",
        "M.col(-1)"
      ],
      "metadata": {
        "colab": {
          "base_uri": "https://localhost:8080/",
          "height": 78
        },
        "id": "_6l7ArlYO-M8",
        "outputId": "ceb254dc-e89e-4b4d-d334-98753fed8c59"
      },
      "execution_count": null,
      "outputs": [
        {
          "output_type": "execute_result",
          "data": {
            "text/plain": [
              "⎡3⎤\n",
              "⎢ ⎥\n",
              "⎢4⎥\n",
              "⎢ ⎥\n",
              "⎣8⎦"
            ],
            "text/latex": "$\\displaystyle \\left[\\begin{matrix}3\\\\4\\\\8\\end{matrix}\\right]$"
          },
          "metadata": {},
          "execution_count": 7
        }
      ]
    },
    {
      "cell_type": "code",
      "source": [
        "# Delete a row\n",
        "M.row_del(1)\n",
        "M"
      ],
      "metadata": {
        "colab": {
          "base_uri": "https://localhost:8080/",
          "height": 57
        },
        "id": "lpyNq47SOqE2",
        "outputId": "96016711-d036-4184-a346-90b57312751c"
      },
      "execution_count": null,
      "outputs": [
        {
          "output_type": "execute_result",
          "data": {
            "text/plain": [
              "⎡1  2  3⎤\n",
              "⎢       ⎥\n",
              "⎣3  6  8⎦"
            ],
            "text/latex": "$\\displaystyle \\left[\\begin{matrix}1 & 2 & 3\\\\3 & 6 & 8\\end{matrix}\\right]$"
          },
          "metadata": {},
          "execution_count": 8
        }
      ]
    },
    {
      "cell_type": "code",
      "source": [
        "# Delete a column\n",
        "M.col_del(0)\n",
        "M"
      ],
      "metadata": {
        "colab": {
          "base_uri": "https://localhost:8080/",
          "height": 57
        },
        "id": "xhnjgDGhPUHe",
        "outputId": "11dd83af-1fea-4fd1-d285-7235e4871d8f"
      },
      "execution_count": null,
      "outputs": [
        {
          "output_type": "execute_result",
          "data": {
            "text/plain": [
              "⎡2  3⎤\n",
              "⎢    ⎥\n",
              "⎣6  8⎦"
            ],
            "text/latex": "$\\displaystyle \\left[\\begin{matrix}2 & 3\\\\6 & 8\\end{matrix}\\right]$"
          },
          "metadata": {},
          "execution_count": 9
        }
      ]
    },
    {
      "cell_type": "code",
      "source": [
        "# Insert rows\n",
        "M = M.row_insert(1, Matrix([[0, 4]]))\n",
        "M"
      ],
      "metadata": {
        "colab": {
          "base_uri": "https://localhost:8080/",
          "height": 78
        },
        "id": "Bx8MqfNpPmeu",
        "outputId": "2d9a1de6-9981-4d1e-ade4-9d52c27216cc"
      },
      "execution_count": null,
      "outputs": [
        {
          "output_type": "execute_result",
          "data": {
            "text/plain": [
              "⎡2  3⎤\n",
              "⎢    ⎥\n",
              "⎢0  4⎥\n",
              "⎢    ⎥\n",
              "⎣6  8⎦"
            ],
            "text/latex": "$\\displaystyle \\left[\\begin{matrix}2 & 3\\\\0 & 4\\\\6 & 8\\end{matrix}\\right]$"
          },
          "metadata": {},
          "execution_count": 10
        }
      ]
    },
    {
      "cell_type": "code",
      "source": [
        "# Insert columns\n",
        "M = M.col_insert(0, Matrix([1, -2, -3]))\n",
        "M"
      ],
      "metadata": {
        "colab": {
          "base_uri": "https://localhost:8080/",
          "height": 78
        },
        "id": "Kg3gOoTBP2b4",
        "outputId": "c26e29a5-73bd-4072-8a03-bc32113f695f"
      },
      "execution_count": null,
      "outputs": [
        {
          "output_type": "execute_result",
          "data": {
            "text/plain": [
              "⎡1   2  3⎤\n",
              "⎢        ⎥\n",
              "⎢-2  0  4⎥\n",
              "⎢        ⎥\n",
              "⎣-3  6  8⎦"
            ],
            "text/latex": "$\\displaystyle \\left[\\begin{matrix}1 & 2 & 3\\\\-2 & 0 & 4\\\\-3 & 6 & 8\\end{matrix}\\right]$"
          },
          "metadata": {},
          "execution_count": 11
        }
      ]
    },
    {
      "cell_type": "markdown",
      "source": [
        "## Basic Methods"
      ],
      "metadata": {
        "id": "Vp4iOaLbQKkq"
      }
    },
    {
      "cell_type": "code",
      "source": [
        "M = Matrix([[1, 3], [-2, 3]])\n",
        "N = Matrix([[0, 3], [0, 7]])"
      ],
      "metadata": {
        "id": "M7_RwqVCQEYq"
      },
      "execution_count": null,
      "outputs": []
    },
    {
      "cell_type": "code",
      "source": [
        "# Simple operations: addition\n",
        "M + N"
      ],
      "metadata": {
        "colab": {
          "base_uri": "https://localhost:8080/",
          "height": 57
        },
        "id": "7FjRPePgQmxA",
        "outputId": "dd0b3ea2-609c-4759-be3d-be2d1eed2761"
      },
      "execution_count": null,
      "outputs": [
        {
          "output_type": "execute_result",
          "data": {
            "text/plain": [
              "⎡1   6 ⎤\n",
              "⎢      ⎥\n",
              "⎣-2  10⎦"
            ],
            "text/latex": "$\\displaystyle \\left[\\begin{matrix}1 & 6\\\\-2 & 10\\end{matrix}\\right]$"
          },
          "metadata": {},
          "execution_count": 13
        }
      ]
    },
    {
      "cell_type": "code",
      "source": [
        "# Simple operations: multiplication\n",
        "M*N"
      ],
      "metadata": {
        "colab": {
          "base_uri": "https://localhost:8080/",
          "height": 57
        },
        "id": "U8iyIdqqQYKT",
        "outputId": "6103899d-fdc6-4575-eef4-2de381e3a9b4"
      },
      "execution_count": null,
      "outputs": [
        {
          "output_type": "execute_result",
          "data": {
            "text/plain": [
              "⎡0  24⎤\n",
              "⎢     ⎥\n",
              "⎣0  15⎦"
            ],
            "text/latex": "$\\displaystyle \\left[\\begin{matrix}0 & 24\\\\0 & 15\\end{matrix}\\right]$"
          },
          "metadata": {},
          "execution_count": 14
        }
      ]
    },
    {
      "cell_type": "code",
      "source": [
        "# Simple operations: multiplication\n",
        "3*M"
      ],
      "metadata": {
        "colab": {
          "base_uri": "https://localhost:8080/",
          "height": 57
        },
        "id": "XXUA-vTqQj-M",
        "outputId": "3711c477-0f38-4c45-dd8e-b4156a35bbbc"
      },
      "execution_count": null,
      "outputs": [
        {
          "output_type": "execute_result",
          "data": {
            "text/plain": [
              "⎡3   9⎤\n",
              "⎢     ⎥\n",
              "⎣-6  9⎦"
            ],
            "text/latex": "$\\displaystyle \\left[\\begin{matrix}3 & 9\\\\-6 & 9\\end{matrix}\\right]$"
          },
          "metadata": {},
          "execution_count": 15
        }
      ]
    },
    {
      "cell_type": "code",
      "source": [
        "# Simple operations: power\n",
        "M**2"
      ],
      "metadata": {
        "colab": {
          "base_uri": "https://localhost:8080/",
          "height": 57
        },
        "id": "hBQoWI92Q87N",
        "outputId": "f6a6a273-7381-46eb-f45c-879786ae9d3d"
      },
      "execution_count": null,
      "outputs": [
        {
          "output_type": "execute_result",
          "data": {
            "text/plain": [
              "⎡-5  12⎤\n",
              "⎢      ⎥\n",
              "⎣-8  3 ⎦"
            ],
            "text/latex": "$\\displaystyle \\left[\\begin{matrix}-5 & 12\\\\-8 & 3\\end{matrix}\\right]$"
          },
          "metadata": {},
          "execution_count": 16
        }
      ]
    },
    {
      "cell_type": "code",
      "source": [
        "# Simple operations: inverse of a matrix\n",
        "M**-1"
      ],
      "metadata": {
        "colab": {
          "base_uri": "https://localhost:8080/",
          "height": 57
        },
        "id": "YCMQkRlbRIBf",
        "outputId": "fdb506db-61a6-4570-c3ac-be356fdcbe8b"
      },
      "execution_count": null,
      "outputs": [
        {
          "output_type": "execute_result",
          "data": {
            "text/plain": [
              "⎡1/3  -1/3⎤\n",
              "⎢         ⎥\n",
              "⎣2/9  1/9 ⎦"
            ],
            "text/latex": "$\\displaystyle \\left[\\begin{matrix}\\frac{1}{3} & - \\frac{1}{3}\\\\\\frac{2}{9} & \\frac{1}{9}\\end{matrix}\\right]$"
          },
          "metadata": {},
          "execution_count": 17
        }
      ]
    },
    {
      "cell_type": "code",
      "source": [
        "# NonInvertibleMatrix\n",
        "# N**-1 #--> NonInvertibleMatrixError"
      ],
      "metadata": {
        "id": "Jjw6zMJbRVHq"
      },
      "execution_count": null,
      "outputs": []
    },
    {
      "cell_type": "code",
      "source": [
        "# # Simple operations: transpose of a matrix\n",
        "M.T"
      ],
      "metadata": {
        "colab": {
          "base_uri": "https://localhost:8080/",
          "height": 57
        },
        "id": "9bx38wNjRZ0R",
        "outputId": "cd93fba6-819b-47f0-df2a-ccde619bb5ba"
      },
      "execution_count": null,
      "outputs": [
        {
          "output_type": "execute_result",
          "data": {
            "text/plain": [
              "⎡1  -2⎤\n",
              "⎢     ⎥\n",
              "⎣3  3 ⎦"
            ],
            "text/latex": "$\\displaystyle \\left[\\begin{matrix}1 & -2\\\\3 & 3\\end{matrix}\\right]$"
          },
          "metadata": {},
          "execution_count": 19
        }
      ]
    },
    {
      "cell_type": "markdown",
      "source": [
        "## Matrix Constructors"
      ],
      "metadata": {
        "id": "jp3nTXrXR4sX"
      }
    },
    {
      "cell_type": "code",
      "source": [
        "# Creates identity matrix\n",
        "eye(3)"
      ],
      "metadata": {
        "colab": {
          "base_uri": "https://localhost:8080/",
          "height": 78
        },
        "id": "0znKU1lKR1aF",
        "outputId": "3fe2c5e1-49f3-41af-a398-0624115586e4"
      },
      "execution_count": null,
      "outputs": [
        {
          "output_type": "execute_result",
          "data": {
            "text/plain": [
              "⎡1  0  0⎤\n",
              "⎢       ⎥\n",
              "⎢0  1  0⎥\n",
              "⎢       ⎥\n",
              "⎣0  0  1⎦"
            ],
            "text/latex": "$\\displaystyle \\left[\\begin{matrix}1 & 0 & 0\\\\0 & 1 & 0\\\\0 & 0 & 1\\end{matrix}\\right]$"
          },
          "metadata": {},
          "execution_count": 20
        }
      ]
    },
    {
      "cell_type": "code",
      "source": [
        "# Creates matrix of all zeros\n",
        "zeros(2, 3)"
      ],
      "metadata": {
        "colab": {
          "base_uri": "https://localhost:8080/",
          "height": 57
        },
        "id": "ZJuaBzoYSFXg",
        "outputId": "f6631203-9ecd-43df-f43e-eecf11d557bb"
      },
      "execution_count": null,
      "outputs": [
        {
          "output_type": "execute_result",
          "data": {
            "text/plain": [
              "⎡0  0  0⎤\n",
              "⎢       ⎥\n",
              "⎣0  0  0⎦"
            ],
            "text/latex": "$\\displaystyle \\left[\\begin{matrix}0 & 0 & 0\\\\0 & 0 & 0\\end{matrix}\\right]$"
          },
          "metadata": {},
          "execution_count": 21
        }
      ]
    },
    {
      "cell_type": "code",
      "source": [
        "# Creates a matrix of ones\n",
        "ones(3, 2)"
      ],
      "metadata": {
        "colab": {
          "base_uri": "https://localhost:8080/",
          "height": 78
        },
        "id": "5-_2xalSSZiC",
        "outputId": "6378f7ac-34d0-4261-ccdc-796c8b71a6c0"
      },
      "execution_count": null,
      "outputs": [
        {
          "output_type": "execute_result",
          "data": {
            "text/plain": [
              "⎡1  1⎤\n",
              "⎢    ⎥\n",
              "⎢1  1⎥\n",
              "⎢    ⎥\n",
              "⎣1  1⎦"
            ],
            "text/latex": "$\\displaystyle \\left[\\begin{matrix}1 & 1\\\\1 & 1\\\\1 & 1\\end{matrix}\\right]$"
          },
          "metadata": {},
          "execution_count": 22
        }
      ]
    },
    {
      "cell_type": "code",
      "source": [
        "# Creates a diagonal matrices\n",
        "diag(1, 2, 3)"
      ],
      "metadata": {
        "colab": {
          "base_uri": "https://localhost:8080/",
          "height": 78
        },
        "id": "gfDHQPT4Sjk4",
        "outputId": "cfde49e1-5bcf-4915-85f9-6539dc4445da"
      },
      "execution_count": null,
      "outputs": [
        {
          "output_type": "execute_result",
          "data": {
            "text/plain": [
              "⎡1  0  0⎤\n",
              "⎢       ⎥\n",
              "⎢0  2  0⎥\n",
              "⎢       ⎥\n",
              "⎣0  0  3⎦"
            ],
            "text/latex": "$\\displaystyle \\left[\\begin{matrix}1 & 0 & 0\\\\0 & 2 & 0\\\\0 & 0 & 3\\end{matrix}\\right]$"
          },
          "metadata": {},
          "execution_count": 23
        }
      ]
    },
    {
      "cell_type": "markdown",
      "source": [
        "## Advanced Methods"
      ],
      "metadata": {
        "id": "FeNn5Z7wSx1t"
      }
    },
    {
      "cell_type": "code",
      "source": [
        "# Compute the determinant of a matrix\n",
        "M = Matrix([[1, 0, 1], [2, -1, 3], [4, 3, 2]])\n",
        "M.det()"
      ],
      "metadata": {
        "colab": {
          "base_uri": "https://localhost:8080/",
          "height": 36
        },
        "id": "kYuUpNMXSs99",
        "outputId": "8ea06bf8-1679-4e04-e155-82ac1ea7d53b"
      },
      "execution_count": null,
      "outputs": [
        {
          "output_type": "execute_result",
          "data": {
            "text/plain": [
              "-1"
            ],
            "text/latex": "$\\displaystyle -1$"
          },
          "metadata": {},
          "execution_count": 24
        }
      ]
    },
    {
      "cell_type": "code",
      "source": [
        "# Put a matrix into reduced row echelon form\n",
        "M = Matrix([[1, 0, 1, 3], [2, 3, 4, 7], [-1, -3, -3, -4]])\n",
        "M.rref()"
      ],
      "metadata": {
        "colab": {
          "base_uri": "https://localhost:8080/",
          "height": 78
        },
        "id": "z86oZppBS5Yy",
        "outputId": "d7993173-13bb-4394-b925-f276dca2058a"
      },
      "execution_count": null,
      "outputs": [
        {
          "output_type": "execute_result",
          "data": {
            "text/plain": [
              "⎛⎡1  0   1    3 ⎤        ⎞\n",
              "⎜⎢              ⎥        ⎟\n",
              "⎜⎢0  1  2/3  1/3⎥, (0, 1)⎟\n",
              "⎜⎢              ⎥        ⎟\n",
              "⎝⎣0  0   0    0 ⎦        ⎠"
            ],
            "text/latex": "$\\displaystyle \\left( \\left[\\begin{matrix}1 & 0 & 1 & 3\\\\0 & 1 & \\frac{2}{3} & \\frac{1}{3}\\\\0 & 0 & 0 & 0\\end{matrix}\\right], \\  \\left( 0, \\  1\\right)\\right)$"
          },
          "metadata": {},
          "execution_count": 28
        }
      ]
    }
  ]
}