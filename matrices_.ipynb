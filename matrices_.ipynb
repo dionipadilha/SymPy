{
  "nbformat": 4,
  "nbformat_minor": 0,
  "metadata": {
    "colab": {
      "provenance": [],
      "authorship_tag": "ABX9TyN5hcZiEk2dki8KQy4JPLW8",
      "include_colab_link": true
    },
    "kernelspec": {
      "name": "python3",
      "display_name": "Python 3"
    },
    "language_info": {
      "name": "python"
    }
  },
  "cells": [
    {
      "cell_type": "markdown",
      "metadata": {
        "id": "view-in-github",
        "colab_type": "text"
      },
      "source": [
        "<a href=\"https://colab.research.google.com/github/dionipadilha/sympy/blob/main/matrices_.ipynb\" target=\"_parent\"><img src=\"https://colab.research.google.com/assets/colab-badge.svg\" alt=\"Open In Colab\"/></a>"
      ]
    },
    {
      "cell_type": "markdown",
      "source": [
        "# Matrices"
      ],
      "metadata": {
        "id": "3ojbJUJVTvh8"
      }
    },
    {
      "cell_type": "code",
      "execution_count": null,
      "metadata": {
        "id": "Cee7RI99Tbfx"
      },
      "outputs": [],
      "source": [
        "# symbolic env:\n",
        "from sympy import *\n",
        "init_printing()"
      ]
    },
    {
      "cell_type": "code",
      "source": [
        "# creating matrices:\n",
        "M = Matrix([[1,0,0], [0,1,0], [0,0,1]])\n",
        "M"
      ],
      "metadata": {
        "colab": {
          "base_uri": "https://localhost:8080/",
          "height": 78
        },
        "id": "h9gaEXQpTj8C",
        "outputId": "d92c5271-bc85-4a43-eb88-4eb29081225a"
      },
      "execution_count": null,
      "outputs": [
        {
          "output_type": "execute_result",
          "data": {
            "text/plain": [
              "⎡1  0  0⎤\n",
              "⎢       ⎥\n",
              "⎢0  1  0⎥\n",
              "⎢       ⎥\n",
              "⎣0  0  1⎦"
            ],
            "text/latex": "$\\displaystyle \\left[\\begin{matrix}1 & 0 & 0\\\\0 & 1 & 0\\\\0 & 0 & 1\\end{matrix}\\right]$"
          },
          "metadata": {},
          "execution_count": 3
        }
      ]
    },
    {
      "cell_type": "code",
      "source": [
        "# creating a matrix from a list:\n",
        "M = Matrix(2, 3, [1, 2, 3, 4, 5, 6])\n",
        "M"
      ],
      "metadata": {
        "colab": {
          "base_uri": "https://localhost:8080/",
          "height": 58
        },
        "id": "HJFxXkUuT6dz",
        "outputId": "49e94632-b6ce-4939-e7ec-b3c90f3f1319"
      },
      "execution_count": null,
      "outputs": [
        {
          "output_type": "execute_result",
          "data": {
            "text/plain": [
              "⎡1  2  3⎤\n",
              "⎢       ⎥\n",
              "⎣4  5  6⎦"
            ],
            "text/latex": "$\\displaystyle \\left[\\begin{matrix}1 & 2 & 3\\\\4 & 5 & 6\\end{matrix}\\right]$"
          },
          "metadata": {},
          "execution_count": 5
        }
      ]
    },
    {
      "cell_type": "code",
      "source": [
        "# use lambda to create a matrix:\n",
        "Matrix(3, 4, lambda i,j: (i+j))"
      ],
      "metadata": {
        "colab": {
          "base_uri": "https://localhost:8080/",
          "height": 78
        },
        "id": "xQ6J069GUXxa",
        "outputId": "127176e3-1085-4c6f-b870-351387b4abd1"
      },
      "execution_count": null,
      "outputs": [
        {
          "output_type": "execute_result",
          "data": {
            "text/plain": [
              "⎡0  1  2  3⎤\n",
              "⎢          ⎥\n",
              "⎢1  2  3  4⎥\n",
              "⎢          ⎥\n",
              "⎣2  3  4  5⎦"
            ],
            "text/latex": "$\\displaystyle \\left[\\begin{matrix}0 & 1 & 2 & 3\\\\1 & 2 & 3 & 4\\\\2 & 3 & 4 & 5\\end{matrix}\\right]$"
          },
          "metadata": {},
          "execution_count": 8
        }
      ]
    },
    {
      "cell_type": "code",
      "source": [
        "# special constructors:\n",
        "eye(4)"
      ],
      "metadata": {
        "colab": {
          "base_uri": "https://localhost:8080/",
          "height": 98
        },
        "id": "JcoDw5VCU9XI",
        "outputId": "ff3eb840-a5a2-426c-e437-fbbf5b42cee4"
      },
      "execution_count": null,
      "outputs": [
        {
          "output_type": "execute_result",
          "data": {
            "text/plain": [
              "⎡1  0  0  0⎤\n",
              "⎢          ⎥\n",
              "⎢0  1  0  0⎥\n",
              "⎢          ⎥\n",
              "⎢0  0  1  0⎥\n",
              "⎢          ⎥\n",
              "⎣0  0  0  1⎦"
            ],
            "text/latex": "$\\displaystyle \\left[\\begin{matrix}1 & 0 & 0 & 0\\\\0 & 1 & 0 & 0\\\\0 & 0 & 1 & 0\\\\0 & 0 & 0 & 1\\end{matrix}\\right]$"
          },
          "metadata": {},
          "execution_count": 9
        }
      ]
    },
    {
      "cell_type": "code",
      "source": [
        "# special constructors:\n",
        "x = symbols('x')\n",
        "f = Lambda(x, 2*x)\n",
        "eye(3).applyfunc(f)"
      ],
      "metadata": {
        "colab": {
          "base_uri": "https://localhost:8080/",
          "height": 78
        },
        "id": "zSyix9VxwSjV",
        "outputId": "eb348082-f16b-4650-a0ed-98a531203ba8"
      },
      "execution_count": null,
      "outputs": [
        {
          "output_type": "execute_result",
          "data": {
            "text/plain": [
              "⎡2  0  0⎤\n",
              "⎢       ⎥\n",
              "⎢0  2  0⎥\n",
              "⎢       ⎥\n",
              "⎣0  0  2⎦"
            ],
            "text/latex": "$\\displaystyle \\left[\\begin{matrix}2 & 0 & 0\\\\0 & 2 & 0\\\\0 & 0 & 2\\end{matrix}\\right]$"
          },
          "metadata": {},
          "execution_count": 4
        }
      ]
    },
    {
      "cell_type": "code",
      "source": [
        "# special constructors:\n",
        "zeros(2)"
      ],
      "metadata": {
        "colab": {
          "base_uri": "https://localhost:8080/",
          "height": 58
        },
        "id": "p-CC2KiOVY09",
        "outputId": "72acf092-a402-4040-e209-220ff6770fc9"
      },
      "execution_count": null,
      "outputs": [
        {
          "output_type": "execute_result",
          "data": {
            "text/plain": [
              "⎡0  0⎤\n",
              "⎢    ⎥\n",
              "⎣0  0⎦"
            ],
            "text/latex": "$\\displaystyle \\left[\\begin{matrix}0 & 0\\\\0 & 0\\end{matrix}\\right]$"
          },
          "metadata": {},
          "execution_count": 10
        }
      ]
    },
    {
      "cell_type": "code",
      "source": [
        "# special constructors:\n",
        "ones(2, 3)"
      ],
      "metadata": {
        "colab": {
          "base_uri": "https://localhost:8080/",
          "height": 58
        },
        "id": "aBAqfA50Vc-1",
        "outputId": "5fdb948d-52a2-4bf8-a31d-d5252d11554e"
      },
      "execution_count": null,
      "outputs": [
        {
          "output_type": "execute_result",
          "data": {
            "text/plain": [
              "⎡1  1  1⎤\n",
              "⎢       ⎥\n",
              "⎣1  1  1⎦"
            ],
            "text/latex": "$\\displaystyle \\left[\\begin{matrix}1 & 1 & 1\\\\1 & 1 & 1\\end{matrix}\\right]$"
          },
          "metadata": {},
          "execution_count": 11
        }
      ]
    },
    {
      "cell_type": "code",
      "source": [
        "# special constructors:\n",
        "diag(1, Matrix([[1, 2], [3, 4]]))"
      ],
      "metadata": {
        "colab": {
          "base_uri": "https://localhost:8080/",
          "height": 78
        },
        "id": "FcXpv3boViV9",
        "outputId": "f62c734c-bdea-424f-90c7-5331d0bc713f"
      },
      "execution_count": null,
      "outputs": [
        {
          "output_type": "execute_result",
          "data": {
            "text/plain": [
              "⎡1  0  0⎤\n",
              "⎢       ⎥\n",
              "⎢0  1  2⎥\n",
              "⎢       ⎥\n",
              "⎣0  3  4⎦"
            ],
            "text/latex": "$\\displaystyle \\left[\\begin{matrix}1 & 0 & 0\\\\0 & 1 & 2\\\\0 & 3 & 4\\end{matrix}\\right]$"
          },
          "metadata": {},
          "execution_count": 12
        }
      ]
    },
    {
      "cell_type": "markdown",
      "source": [
        "## Basic Manipulation"
      ],
      "metadata": {
        "id": "pMixhYSPVvAB"
      }
    },
    {
      "cell_type": "code",
      "source": [
        "# create a matrix:\n",
        "M = Matrix(([1,2,3,4],[5,6,7,8],[9,10,11,12],[13,14,15,16]))\n",
        "M"
      ],
      "metadata": {
        "colab": {
          "base_uri": "https://localhost:8080/",
          "height": 98
        },
        "id": "Jeu-7ULoaYAO",
        "outputId": "1de19c2a-9810-4759-b0f9-3c752a556ef9"
      },
      "execution_count": null,
      "outputs": [
        {
          "output_type": "execute_result",
          "data": {
            "text/plain": [
              "⎡1   2   3   4 ⎤\n",
              "⎢              ⎥\n",
              "⎢5   6   7   8 ⎥\n",
              "⎢              ⎥\n",
              "⎢9   10  11  12⎥\n",
              "⎢              ⎥\n",
              "⎣13  14  15  16⎦"
            ],
            "text/latex": "$\\displaystyle \\left[\\begin{matrix}1 & 2 & 3 & 4\\\\5 & 6 & 7 & 8\\\\9 & 10 & 11 & 12\\\\13 & 14 & 15 & 16\\end{matrix}\\right]$"
          },
          "metadata": {},
          "execution_count": 35
        }
      ]
    },
    {
      "cell_type": "code",
      "source": [
        "# return the value at the corresponding row and column:\n",
        "M[1, 2]"
      ],
      "metadata": {
        "id": "F9T0fG_qVlbd",
        "colab": {
          "base_uri": "https://localhost:8080/",
          "height": 37
        },
        "outputId": "8866dd34-4784-4f67-ff18-0a8f10a479fe"
      },
      "execution_count": null,
      "outputs": [
        {
          "output_type": "execute_result",
          "data": {
            "text/plain": [
              "7"
            ],
            "text/latex": "$\\displaystyle 7$"
          },
          "metadata": {},
          "execution_count": 36
        }
      ]
    },
    {
      "cell_type": "code",
      "source": [
        "# assign entries:\n",
        "M[1, 2]  = 0\n",
        "M"
      ],
      "metadata": {
        "colab": {
          "base_uri": "https://localhost:8080/",
          "height": 98
        },
        "id": "vGrn_eUVaWUz",
        "outputId": "bcbe06f7-4621-4812-b277-0f3e8214b902"
      },
      "execution_count": null,
      "outputs": [
        {
          "output_type": "execute_result",
          "data": {
            "text/plain": [
              "⎡1   2   3   4 ⎤\n",
              "⎢              ⎥\n",
              "⎢5   6   0   8 ⎥\n",
              "⎢              ⎥\n",
              "⎢9   10  11  12⎥\n",
              "⎢              ⎥\n",
              "⎣13  14  15  16⎦"
            ],
            "text/latex": "$\\displaystyle \\left[\\begin{matrix}1 & 2 & 3 & 4\\\\5 & 6 & 0 & 8\\\\9 & 10 & 11 & 12\\\\13 & 14 & 15 & 16\\end{matrix}\\right]$"
          },
          "metadata": {},
          "execution_count": 37
        }
      ]
    },
    {
      "cell_type": "code",
      "source": [
        "# slice submatrices:\n",
        "M[0:2, 0:2]"
      ],
      "metadata": {
        "colab": {
          "base_uri": "https://localhost:8080/",
          "height": 58
        },
        "id": "vice7bHLZ8hL",
        "outputId": "554abb7b-a061-44be-f7c6-464d084e0256"
      },
      "execution_count": null,
      "outputs": [
        {
          "output_type": "execute_result",
          "data": {
            "text/plain": [
              "⎡1  2⎤\n",
              "⎢    ⎥\n",
              "⎣5  6⎦"
            ],
            "text/latex": "$\\displaystyle \\left[\\begin{matrix}1 & 2\\\\5 & 6\\end{matrix}\\right]$"
          },
          "metadata": {},
          "execution_count": 38
        }
      ]
    },
    {
      "cell_type": "code",
      "source": [
        "# assign slices:\n",
        "M[2:,2:] = Matrix(2,2,lambda i,j: 0)\n",
        "M"
      ],
      "metadata": {
        "colab": {
          "base_uri": "https://localhost:8080/",
          "height": 98
        },
        "id": "y4x_Tl1pa1VD",
        "outputId": "d9884f17-3e42-41fd-edf4-1525c60955fb"
      },
      "execution_count": null,
      "outputs": [
        {
          "output_type": "execute_result",
          "data": {
            "text/plain": [
              "⎡1   2   3  4⎤\n",
              "⎢            ⎥\n",
              "⎢5   6   0  8⎥\n",
              "⎢            ⎥\n",
              "⎢9   10  0  0⎥\n",
              "⎢            ⎥\n",
              "⎣13  14  0  0⎦"
            ],
            "text/latex": "$\\displaystyle \\left[\\begin{matrix}1 & 2 & 3 & 4\\\\5 & 6 & 0 & 8\\\\9 & 10 & 0 & 0\\\\13 & 14 & 0 & 0\\end{matrix}\\right]$"
          },
          "metadata": {},
          "execution_count": 39
        }
      ]
    },
    {
      "cell_type": "markdown",
      "source": [
        "## Standard Arithmetic Operations"
      ],
      "metadata": {
        "id": "5FMThK3KcA3X"
      }
    },
    {
      "cell_type": "code",
      "source": [
        "M = Matrix(([1,2,3],[4,5,6],[7,8,9]))\n",
        "M"
      ],
      "metadata": {
        "colab": {
          "base_uri": "https://localhost:8080/",
          "height": 78
        },
        "id": "Dn3OmU02cWTE",
        "outputId": "ede41b28-faa3-4e4a-d07d-7423d53df7a1"
      },
      "execution_count": null,
      "outputs": [
        {
          "output_type": "execute_result",
          "data": {
            "text/plain": [
              "⎡1  2  3⎤\n",
              "⎢       ⎥\n",
              "⎢4  5  6⎥\n",
              "⎢       ⎥\n",
              "⎣7  8  9⎦"
            ],
            "text/latex": "$\\displaystyle \\left[\\begin{matrix}1 & 2 & 3\\\\4 & 5 & 6\\\\7 & 8 & 9\\end{matrix}\\right]$"
          },
          "metadata": {},
          "execution_count": 45
        }
      ]
    },
    {
      "cell_type": "code",
      "source": [
        "M - M"
      ],
      "metadata": {
        "colab": {
          "base_uri": "https://localhost:8080/",
          "height": 78
        },
        "id": "uXvhbATcbkby",
        "outputId": "3d4a9c8d-fcb3-4d92-8337-1736b7f5a893"
      },
      "execution_count": null,
      "outputs": [
        {
          "output_type": "execute_result",
          "data": {
            "text/plain": [
              "⎡0  0  0⎤\n",
              "⎢       ⎥\n",
              "⎢0  0  0⎥\n",
              "⎢       ⎥\n",
              "⎣0  0  0⎦"
            ],
            "text/latex": "$\\displaystyle \\left[\\begin{matrix}0 & 0 & 0\\\\0 & 0 & 0\\\\0 & 0 & 0\\end{matrix}\\right]$"
          },
          "metadata": {},
          "execution_count": 46
        }
      ]
    },
    {
      "cell_type": "code",
      "source": [
        "M + M"
      ],
      "metadata": {
        "colab": {
          "base_uri": "https://localhost:8080/",
          "height": 78
        },
        "id": "iXoeemEfcM_L",
        "outputId": "6b028b76-6b6c-44c7-acb1-561757122e0f"
      },
      "execution_count": null,
      "outputs": [
        {
          "output_type": "execute_result",
          "data": {
            "text/plain": [
              "⎡2   4   6 ⎤\n",
              "⎢          ⎥\n",
              "⎢8   10  12⎥\n",
              "⎢          ⎥\n",
              "⎣14  16  18⎦"
            ],
            "text/latex": "$\\displaystyle \\left[\\begin{matrix}2 & 4 & 6\\\\8 & 10 & 12\\\\14 & 16 & 18\\end{matrix}\\right]$"
          },
          "metadata": {},
          "execution_count": 47
        }
      ]
    },
    {
      "cell_type": "code",
      "source": [
        "M * M"
      ],
      "metadata": {
        "colab": {
          "base_uri": "https://localhost:8080/",
          "height": 78
        },
        "id": "JY_uuM0OcQ81",
        "outputId": "091549df-6cf0-4dc6-f76b-8a08124b9486"
      },
      "execution_count": null,
      "outputs": [
        {
          "output_type": "execute_result",
          "data": {
            "text/plain": [
              "⎡30   36   42 ⎤\n",
              "⎢             ⎥\n",
              "⎢66   81   96 ⎥\n",
              "⎢             ⎥\n",
              "⎣102  126  150⎦"
            ],
            "text/latex": "$\\displaystyle \\left[\\begin{matrix}30 & 36 & 42\\\\66 & 81 & 96\\\\102 & 126 & 150\\end{matrix}\\right]$"
          },
          "metadata": {},
          "execution_count": 48
        }
      ]
    },
    {
      "cell_type": "code",
      "source": [
        "M**2"
      ],
      "metadata": {
        "colab": {
          "base_uri": "https://localhost:8080/",
          "height": 78
        },
        "id": "MBZQT_8scTzd",
        "outputId": "32faa15c-6b5c-4f87-f264-e74d6e836e86"
      },
      "execution_count": null,
      "outputs": [
        {
          "output_type": "execute_result",
          "data": {
            "text/plain": [
              "⎡30   36   42 ⎤\n",
              "⎢             ⎥\n",
              "⎢66   81   96 ⎥\n",
              "⎢             ⎥\n",
              "⎣102  126  150⎦"
            ],
            "text/latex": "$\\displaystyle \\left[\\begin{matrix}30 & 36 & 42\\\\66 & 81 & 96\\\\102 & 126 & 150\\end{matrix}\\right]$"
          },
          "metadata": {},
          "execution_count": 49
        }
      ]
    },
    {
      "cell_type": "markdown",
      "source": [
        "## Linear algebra"
      ],
      "metadata": {
        "id": "uLn2c5LtwJzj"
      }
    },
    {
      "cell_type": "code",
      "source": [
        "M = Matrix(( [1, 2, 3], [3, 6, 2], [2, 0, 1] ))\n",
        "M.det()"
      ],
      "metadata": {
        "id": "REQvvsdeciTg",
        "colab": {
          "base_uri": "https://localhost:8080/",
          "height": 37
        },
        "outputId": "2f004033-1f5b-4dc4-be8a-6aa046cd75c6"
      },
      "execution_count": null,
      "outputs": [
        {
          "output_type": "execute_result",
          "data": {
            "text/plain": [
              "-28"
            ],
            "text/latex": "$\\displaystyle -28$"
          },
          "metadata": {},
          "execution_count": 5
        }
      ]
    },
    {
      "cell_type": "code",
      "source": [
        "M.inv()"
      ],
      "metadata": {
        "id": "3-pwDa8AxOfF",
        "outputId": "6d2c0e56-0fb6-4a8d-b402-f52353628c2a",
        "colab": {
          "base_uri": "https://localhost:8080/",
          "height": 78
        }
      },
      "execution_count": null,
      "outputs": [
        {
          "output_type": "execute_result",
          "data": {
            "text/plain": [
              "⎡-3/14  1/14  1/2 ⎤\n",
              "⎢                 ⎥\n",
              "⎢-1/28  5/28  -1/4⎥\n",
              "⎢                 ⎥\n",
              "⎣ 3/7   -1/7   0  ⎦"
            ],
            "text/latex": "$\\displaystyle \\left[\\begin{matrix}- \\frac{3}{14} & \\frac{1}{14} & \\frac{1}{2}\\\\- \\frac{1}{28} & \\frac{5}{28} & - \\frac{1}{4}\\\\\\frac{3}{7} & - \\frac{1}{7} & 0\\end{matrix}\\right]$"
          },
          "metadata": {},
          "execution_count": 6
        }
      ]
    },
    {
      "cell_type": "code",
      "source": [],
      "metadata": {
        "id": "pHrLnvl3xTFU"
      },
      "execution_count": null,
      "outputs": []
    }
  ]
}