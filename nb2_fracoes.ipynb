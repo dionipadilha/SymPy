{
  "nbformat": 4,
  "nbformat_minor": 0,
  "metadata": {
    "colab": {
      "provenance": [],
      "authorship_tag": "ABX9TyNzGDFrWAhJhymWfRjuiIR/",
      "include_colab_link": true
    },
    "kernelspec": {
      "name": "python3",
      "display_name": "Python 3"
    },
    "language_info": {
      "name": "python"
    }
  },
  "cells": [
    {
      "cell_type": "markdown",
      "metadata": {
        "id": "view-in-github",
        "colab_type": "text"
      },
      "source": [
        "<a href=\"https://colab.research.google.com/github/dionipadilha/sympy_math_intro/blob/main/s2_fracoes_decimais.ipynb\" target=\"_parent\"><img src=\"https://colab.research.google.com/assets/colab-badge.svg\" alt=\"Open In Colab\"/></a>"
      ]
    },
    {
      "cell_type": "markdown",
      "metadata": {
        "id": "T5oRYwbdpZyO"
      },
      "source": [
        "# Sympy: Introdução Rápida para Matemática"
      ]
    },
    {
      "cell_type": "markdown",
      "metadata": {
        "id": "5feylSO8wNzt"
      },
      "source": [
        "## Frações e decimais"
      ]
    },
    {
      "cell_type": "markdown",
      "metadata": {
        "id": "0VNeAtRh3Kj-"
      },
      "source": [
        "---\n",
        "### Configurando o Ambiente:"
      ]
    },
    {
      "cell_type": "code",
      "metadata": {
        "colab": {
          "base_uri": "https://localhost:8080/"
        },
        "id": "1A9q66SqqZSW",
        "outputId": "03f9859f-eab7-4864-f835-33ce53938e76"
      },
      "source": [
        "from sympy import *\n",
        "init_session()\n",
        "a, b, c, d = symbols('a, b, c, d')\n",
        "ue = UnevaluatedExpr"
      ],
      "execution_count": 1,
      "outputs": [
        {
          "output_type": "stream",
          "name": "stdout",
          "text": [
            "IPython console for SymPy 1.11.1 (Python 3.10.12-64-bit) (ground types: python)\n",
            "\n",
            "These commands were executed:\n",
            ">>> from sympy import *\n",
            ">>> x, y, z, t = symbols('x y z t')\n",
            ">>> k, m, n = symbols('k m n', integer=True)\n",
            ">>> f, g, h = symbols('f g h', cls=Function)\n",
            ">>> init_printing()\n",
            "\n",
            "Documentation can be found at https://docs.sympy.org/1.11.1/\n",
            "\n"
          ]
        }
      ]
    },
    {
      "cell_type": "code",
      "metadata": {
        "id": "YwiVPtFJqh_e"
      },
      "source": [
        "from seaborn import set_style as plot_style\n",
        "plot_style(\"whitegrid\")\n",
        "%matplotlib inline"
      ],
      "execution_count": 2,
      "outputs": []
    },
    {
      "cell_type": "code",
      "metadata": {
        "id": "UYhPisG2q25T"
      },
      "source": [
        "from IPython.core.interactiveshell import InteractiveShell\n",
        "InteractiveShell.ast_node_interactivity = \"all\""
      ],
      "execution_count": 3,
      "outputs": []
    },
    {
      "cell_type": "markdown",
      "metadata": {
        "id": "dtxVIMSjGbQ3"
      },
      "source": [
        "---\n",
        "### Manipulação de Racionais"
      ]
    },
    {
      "cell_type": "markdown",
      "metadata": {
        "id": "iMCwLZfGFnM4"
      },
      "source": [
        "Objetos sympy resultarão em saídas exatas:"
      ]
    },
    {
      "cell_type": "code",
      "metadata": {
        "colab": {
          "base_uri": "https://localhost:8080/",
          "height": 51
        },
        "id": "5X3LPO3lAX00",
        "outputId": "e7e744df-d9fa-45e0-e0ee-c17f15b01edc"
      },
      "source": [
        "1/a + 1/b"
      ],
      "execution_count": 4,
      "outputs": [
        {
          "output_type": "execute_result",
          "data": {
            "text/plain": [
              "1   1\n",
              "─ + ─\n",
              "b   a"
            ],
            "text/latex": "$\\displaystyle \\frac{1}{b} + \\frac{1}{a}$"
          },
          "metadata": {},
          "execution_count": 4
        }
      ]
    },
    {
      "cell_type": "markdown",
      "metadata": {
        "id": "YxU8K1KwJPdX"
      },
      "source": [
        "Mínimo denominador comum:"
      ]
    },
    {
      "cell_type": "code",
      "metadata": {
        "colab": {
          "base_uri": "https://localhost:8080/",
          "height": 52
        },
        "id": "g8RrscLmJDto",
        "outputId": "d3112a92-0fe9-4cf5-e675-3c80c641c2e3"
      },
      "source": [
        "_.together()"
      ],
      "execution_count": 5,
      "outputs": [
        {
          "output_type": "execute_result",
          "data": {
            "text/plain": [
              "a + b\n",
              "─────\n",
              " a⋅b "
            ],
            "text/latex": "$\\displaystyle \\frac{a + b}{a b}$"
          },
          "metadata": {},
          "execution_count": 5
        }
      ]
    },
    {
      "cell_type": "markdown",
      "metadata": {
        "id": "XZGeCTG3Jp__"
      },
      "source": [
        "Expandir em frações parciais:"
      ]
    },
    {
      "cell_type": "code",
      "metadata": {
        "colab": {
          "base_uri": "https://localhost:8080/",
          "height": 51
        },
        "id": "uDxrsi29Jjtb",
        "outputId": "9a2c44c7-9c71-4f07-eb0a-3a6d112c47b5"
      },
      "source": [
        "_.expand()"
      ],
      "execution_count": 6,
      "outputs": [
        {
          "output_type": "execute_result",
          "data": {
            "text/plain": [
              "1   1\n",
              "─ + ─\n",
              "b   a"
            ],
            "text/latex": "$\\displaystyle \\frac{1}{b} + \\frac{1}{a}$"
          },
          "metadata": {},
          "execution_count": 6
        }
      ]
    },
    {
      "cell_type": "markdown",
      "metadata": {
        "id": "WlGxqQgXKHRZ"
      },
      "source": [
        "---\n",
        "### Manipulação Decimais"
      ]
    },
    {
      "cell_type": "markdown",
      "metadata": {
        "id": "nSM2a5YiKYaf"
      },
      "source": [
        "Decimais geram resultados aproximados:"
      ]
    },
    {
      "cell_type": "code",
      "metadata": {
        "colab": {
          "base_uri": "https://localhost:8080/",
          "height": 38
        },
        "id": "XxPDZC7AJ3il",
        "outputId": "3a903c2b-6906-4043-db33-0a99b905462a"
      },
      "source": [
        "0.25 * x"
      ],
      "execution_count": 7,
      "outputs": [
        {
          "output_type": "execute_result",
          "data": {
            "text/plain": [
              "0.25⋅x"
            ],
            "text/latex": "$\\displaystyle 0.25 x$"
          },
          "metadata": {},
          "execution_count": 7
        }
      ]
    },
    {
      "cell_type": "markdown",
      "metadata": {
        "id": "Ds59HW0lKo8T"
      },
      "source": [
        "Forçar ou controlar a aproximação numérica:"
      ]
    },
    {
      "cell_type": "code",
      "metadata": {
        "colab": {
          "base_uri": "https://localhost:8080/",
          "height": 38
        },
        "id": "VE5PdvCGKfOP",
        "outputId": "ae60ccbb-9dc9-47eb-e88f-4b0786772d11"
      },
      "source": [
        "N(x/3, 3)"
      ],
      "execution_count": 8,
      "outputs": [
        {
          "output_type": "execute_result",
          "data": {
            "text/plain": [
              "0.333⋅x"
            ],
            "text/latex": "$\\displaystyle 0.333 x$"
          },
          "metadata": {},
          "execution_count": 8
        }
      ]
    },
    {
      "cell_type": "code",
      "metadata": {
        "colab": {
          "base_uri": "https://localhost:8080/",
          "height": 38
        },
        "id": "by36RfSQK6VC",
        "outputId": "18f32dbd-ab52-45a4-e284-f14df3df71a8"
      },
      "source": [
        "(x/3).evalf(6)"
      ],
      "execution_count": 9,
      "outputs": [
        {
          "output_type": "execute_result",
          "data": {
            "text/plain": [
              "0.333333⋅x"
            ],
            "text/latex": "$\\displaystyle 0.333333 x$"
          },
          "metadata": {},
          "execution_count": 9
        }
      ]
    },
    {
      "cell_type": "markdown",
      "metadata": {
        "id": "d3j7UnMBMq54"
      },
      "source": [
        "Notação científica:"
      ]
    },
    {
      "cell_type": "code",
      "metadata": {
        "colab": {
          "base_uri": "https://localhost:8080/",
          "height": 37
        },
        "id": "ckr2fbeaLohi",
        "outputId": "3b45b2f3-f3f4-4c3a-ffc4-61408c133fd9"
      },
      "source": [
        "1.23e-3"
      ],
      "execution_count": 10,
      "outputs": [
        {
          "output_type": "execute_result",
          "data": {
            "text/plain": [
              "0.00123"
            ],
            "text/latex": "$\\displaystyle 0.00123$"
          },
          "metadata": {},
          "execution_count": 10
        }
      ]
    },
    {
      "cell_type": "markdown",
      "metadata": {
        "id": "Ab7Qt3dYM4QJ"
      },
      "source": [
        "Notação científica é automática quando apropriada:"
      ]
    },
    {
      "cell_type": "code",
      "metadata": {
        "colab": {
          "base_uri": "https://localhost:8080/",
          "height": 37
        },
        "id": "KwVZJKoyM0ab",
        "outputId": "ab6a28da-f9fc-4391-8ce7-85f9f5a217e6"
      },
      "source": [
        "N(factorial(100),6)"
      ],
      "execution_count": 11,
      "outputs": [
        {
          "output_type": "execute_result",
          "data": {
            "text/plain": [
              "9.33262e+157"
            ],
            "text/latex": "$\\displaystyle 9.33262 \\cdot 10^{157}$"
          },
          "metadata": {},
          "execution_count": 11
        }
      ]
    },
    {
      "cell_type": "markdown",
      "metadata": {
        "id": "RHryP3h5483q"
      },
      "source": [
        "Converter decimal para fração:"
      ]
    },
    {
      "cell_type": "code",
      "metadata": {
        "colab": {
          "base_uri": "https://localhost:8080/",
          "height": 51
        },
        "id": "kkZJGeCb5LsE",
        "outputId": "439ac2d8-b7e2-4cc4-e6fb-5e56d7b499c1"
      },
      "source": [
        "nsimplify(0.25)"
      ],
      "execution_count": 12,
      "outputs": [
        {
          "output_type": "execute_result",
          "data": {
            "text/plain": [
              "1/4"
            ],
            "text/latex": "$\\displaystyle \\frac{1}{4}$"
          },
          "metadata": {},
          "execution_count": 12
        }
      ]
    }
  ]
}
