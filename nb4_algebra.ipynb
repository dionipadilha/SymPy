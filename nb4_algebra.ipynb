{
  "nbformat": 4,
  "nbformat_minor": 0,
  "metadata": {
    "colab": {
      "provenance": [],
      "collapsed_sections": [
        "0VNeAtRh3Kj-"
      ],
      "authorship_tag": "ABX9TyOEOti8bh9sA36IoEFnOzvm",
      "include_colab_link": true
    },
    "kernelspec": {
      "name": "python3",
      "display_name": "Python 3"
    },
    "language_info": {
      "name": "python"
    }
  },
  "cells": [
    {
      "cell_type": "markdown",
      "metadata": {
        "id": "view-in-github",
        "colab_type": "text"
      },
      "source": [
        "<a href=\"https://colab.research.google.com/github/dionipadilha/sympy_math_intro/blob/main/s4_algebra.ipynb\" target=\"_parent\"><img src=\"https://colab.research.google.com/assets/colab-badge.svg\" alt=\"Open In Colab\"/></a>"
      ]
    },
    {
      "cell_type": "markdown",
      "metadata": {
        "id": "T5oRYwbdpZyO"
      },
      "source": [
        "# Sympy: Introdução Rápida para Matemática"
      ]
    },
    {
      "cell_type": "markdown",
      "metadata": {
        "id": "5feylSO8wNzt"
      },
      "source": [
        "## Álgebra"
      ]
    },
    {
      "cell_type": "markdown",
      "metadata": {
        "id": "0VNeAtRh3Kj-"
      },
      "source": [
        "---\n",
        "### Configurando o Ambiente:"
      ]
    },
    {
      "cell_type": "code",
      "metadata": {
        "colab": {
          "base_uri": "https://localhost:8080/"
        },
        "id": "1A9q66SqqZSW",
        "outputId": "e28f3255-2833-4166-8458-d945d4c29e42"
      },
      "source": [
        "from sympy import *\n",
        "init_session()\n",
        "a, b, c, d = symbols('a, b, c, d')\n",
        "ue = UnevaluatedExpr"
      ],
      "execution_count": 1,
      "outputs": [
        {
          "output_type": "stream",
          "name": "stdout",
          "text": [
            "IPython console for SymPy 1.11.1 (Python 3.10.12-64-bit) (ground types: python)\n",
            "\n",
            "These commands were executed:\n",
            ">>> from sympy import *\n",
            ">>> x, y, z, t = symbols('x y z t')\n",
            ">>> k, m, n = symbols('k m n', integer=True)\n",
            ">>> f, g, h = symbols('f g h', cls=Function)\n",
            ">>> init_printing()\n",
            "\n",
            "Documentation can be found at https://docs.sympy.org/1.11.1/\n",
            "\n"
          ]
        }
      ]
    },
    {
      "cell_type": "code",
      "metadata": {
        "id": "YwiVPtFJqh_e"
      },
      "source": [
        "from seaborn import set_style as plot_style\n",
        "plot_style(\"whitegrid\")\n",
        "%matplotlib inline"
      ],
      "execution_count": 2,
      "outputs": []
    },
    {
      "cell_type": "code",
      "metadata": {
        "id": "UYhPisG2q25T"
      },
      "source": [
        "from IPython.core.interactiveshell import InteractiveShell\n",
        "InteractiveShell.ast_node_interactivity = \"all\""
      ],
      "execution_count": 3,
      "outputs": []
    },
    {
      "cell_type": "markdown",
      "metadata": {
        "id": "dtxVIMSjGbQ3"
      },
      "source": [
        "---\n",
        "### Manipulação de expressões algébricas:"
      ]
    },
    {
      "cell_type": "markdown",
      "metadata": {
        "id": "iMCwLZfGFnM4"
      },
      "source": [
        "Fatorar expressões algébricas:"
      ]
    },
    {
      "cell_type": "code",
      "metadata": {
        "colab": {
          "base_uri": "https://localhost:8080/",
          "height": 39
        },
        "id": "5X3LPO3lAX00",
        "outputId": "023cf771-1514-4b72-80f1-69d81bd92af7"
      },
      "source": [
        "factor(x**2 + 2*x +1)"
      ],
      "execution_count": 4,
      "outputs": [
        {
          "output_type": "execute_result",
          "data": {
            "text/plain": [
              "       2\n",
              "(x + 1) "
            ],
            "text/latex": "$\\displaystyle \\left(x + 1\\right)^{2}$"
          },
          "metadata": {},
          "execution_count": 4
        }
      ]
    },
    {
      "cell_type": "markdown",
      "metadata": {
        "id": "Ppce2KxF_B-o"
      },
      "source": [
        "Expandir expressões algébricas:"
      ]
    },
    {
      "cell_type": "code",
      "metadata": {
        "colab": {
          "base_uri": "https://localhost:8080/",
          "height": 38
        },
        "id": "08dUx2wE_FJh",
        "outputId": "085bf7dc-e230-46f4-c9c5-bc89f875203f"
      },
      "source": [
        "expand((x+1)**2)"
      ],
      "execution_count": 5,
      "outputs": [
        {
          "output_type": "execute_result",
          "data": {
            "text/plain": [
              " 2          \n",
              "x  + 2⋅x + 1"
            ],
            "text/latex": "$\\displaystyle x^{2} + 2 x + 1$"
          },
          "metadata": {},
          "execution_count": 5
        }
      ]
    },
    {
      "cell_type": "markdown",
      "metadata": {
        "id": "cWrPq_uiAsK5"
      },
      "source": [
        "---\n",
        "### Equações e Igualdades"
      ]
    },
    {
      "cell_type": "markdown",
      "metadata": {
        "id": "BzKFzDOnJQHL"
      },
      "source": [
        "Testar igualdades:"
      ]
    },
    {
      "cell_type": "code",
      "metadata": {
        "colab": {
          "base_uri": "https://localhost:8080/",
          "height": 37
        },
        "id": "o1BFpnJPJK1s",
        "outputId": "384db36c-df91-43bd-be44-b976c2047017"
      },
      "source": [
        "Eq(2+2, 4)"
      ],
      "execution_count": 6,
      "outputs": [
        {
          "output_type": "execute_result",
          "data": {
            "text/plain": [
              "True"
            ],
            "text/latex": "$\\displaystyle \\text{True}$"
          },
          "metadata": {},
          "execution_count": 6
        }
      ]
    },
    {
      "cell_type": "markdown",
      "metadata": {
        "id": "hWZ9wxxfJaUX"
      },
      "source": [
        "Representar uma equação:"
      ]
    },
    {
      "cell_type": "code",
      "metadata": {
        "colab": {
          "base_uri": "https://localhost:8080/",
          "height": 38
        },
        "id": "4cQSkQfbJYRu",
        "outputId": "5f47f52b-6970-402d-b23c-8f7c563156c0"
      },
      "source": [
        "Eq(1+z, 15)"
      ],
      "execution_count": 7,
      "outputs": [
        {
          "output_type": "execute_result",
          "data": {
            "text/plain": [
              "z + 1 = 15"
            ],
            "text/latex": "$\\displaystyle z + 1 = 15$"
          },
          "metadata": {},
          "execution_count": 7
        }
      ]
    },
    {
      "cell_type": "markdown",
      "metadata": {
        "id": "wZ9YL1ujO6GJ"
      },
      "source": [
        "---\n",
        "### Solvers"
      ]
    },
    {
      "cell_type": "markdown",
      "metadata": {
        "id": "ICz2jLE1JpeQ"
      },
      "source": [
        "Encontram soluções exatas para equações:"
      ]
    },
    {
      "cell_type": "code",
      "metadata": {
        "colab": {
          "base_uri": "https://localhost:8080/",
          "height": 37
        },
        "id": "PIuESY9qJwOa",
        "outputId": "f62a2e1d-5d78-44c1-fe95-1b2f0d44508f"
      },
      "source": [
        "solveset(x**2 + 5*x -6)"
      ],
      "execution_count": 8,
      "outputs": [
        {
          "output_type": "execute_result",
          "data": {
            "text/plain": [
              "{-6, 1}"
            ],
            "text/latex": "$\\displaystyle \\left\\{-6, 1\\right\\}$"
          },
          "metadata": {},
          "execution_count": 8
        }
      ]
    },
    {
      "cell_type": "markdown",
      "metadata": {
        "id": "M_QEhDlTKDig"
      },
      "source": [
        "Sympy considera expressões iguais a zero:"
      ]
    },
    {
      "cell_type": "code",
      "metadata": {
        "colab": {
          "base_uri": "https://localhost:8080/",
          "height": 37
        },
        "id": "ZW4tvPQPJ_QQ",
        "outputId": "bc214c86-e7ba-4b4e-be20-652360dbe329"
      },
      "source": [
        "solveset(Eq(x**2 + 5*x -6, 0), x)"
      ],
      "execution_count": 9,
      "outputs": [
        {
          "output_type": "execute_result",
          "data": {
            "text/plain": [
              "{-6, 1}"
            ],
            "text/latex": "$\\displaystyle \\left\\{-6, 1\\right\\}$"
          },
          "metadata": {},
          "execution_count": 9
        }
      ]
    },
    {
      "cell_type": "markdown",
      "metadata": {
        "id": "wgEo-yWPKbOe"
      },
      "source": [
        "Encontrar resultados aproximados:"
      ]
    },
    {
      "cell_type": "code",
      "metadata": {
        "colab": {
          "base_uri": "https://localhost:8080/",
          "height": 37
        },
        "id": "Z9tBK86AKfrw",
        "outputId": "5d672236-4d59-4c55-def6-1f441a887095"
      },
      "source": [
        "solveset(7*x**2 + 3*x -5).evalf(6)"
      ],
      "execution_count": 10,
      "outputs": [
        {
          "output_type": "execute_result",
          "data": {
            "text/plain": [
              "{-1.08618, 0.657611}"
            ],
            "text/latex": "$\\displaystyle \\left\\{-1.08618, 0.657611\\right\\}$"
          },
          "metadata": {},
          "execution_count": 10
        }
      ]
    },
    {
      "cell_type": "markdown",
      "metadata": {
        "id": "a5hp-whyKmw-"
      },
      "source": [
        "Resolver usando métodos numéricos:"
      ]
    },
    {
      "cell_type": "code",
      "metadata": {
        "colab": {
          "base_uri": "https://localhost:8080/",
          "height": 37
        },
        "id": "VY9ZqBIrKjVc",
        "outputId": "c7496fe1-7d13-4e77-9c5a-0dd3e11e0f9d"
      },
      "source": [
        "nsolve(7*x**2 + 3*x -5, x, 0, prec=6)"
      ],
      "execution_count": 11,
      "outputs": [
        {
          "output_type": "execute_result",
          "data": {
            "text/plain": [
              "0.657611"
            ],
            "text/latex": "$\\displaystyle 0.657611$"
          },
          "metadata": {},
          "execution_count": 11
        }
      ]
    },
    {
      "cell_type": "markdown",
      "metadata": {
        "id": "p2i4Tz8CL41A"
      },
      "source": [
        "Resolver usando métodos numéricos:"
      ]
    },
    {
      "cell_type": "code",
      "metadata": {
        "colab": {
          "base_uri": "https://localhost:8080/",
          "height": 37
        },
        "id": "pihPGSpZL59f",
        "outputId": "1c51a507-5db3-4c00-8fb7-ad4ebfd3e397"
      },
      "source": [
        "nroots(7*x**2 + 3*x -5, n=6)"
      ],
      "execution_count": 12,
      "outputs": [
        {
          "output_type": "execute_result",
          "data": {
            "text/plain": [
              "[-1.08618, 0.657611]"
            ],
            "text/latex": "$\\displaystyle \\left[ -1.08618, \\  0.657611\\right]$"
          },
          "metadata": {},
          "execution_count": 12
        }
      ]
    },
    {
      "cell_type": "markdown",
      "metadata": {
        "id": "eA2amOaYK5Xr"
      },
      "source": [
        "Resolver um sistema de equações:"
      ]
    },
    {
      "cell_type": "code",
      "metadata": {
        "colab": {
          "base_uri": "https://localhost:8080/",
          "height": 37
        },
        "id": "yzCVj7nrKyvs",
        "outputId": "e1796af5-0a0c-46ba-82c9-6eeedd73bfe5"
      },
      "source": [
        "eq1 = Eq(x**2 + 5, y)\n",
        "eq2 = Eq(7*x - 5, y)\n",
        "nonlinsolve([eq1, eq2], [x,y])"
      ],
      "execution_count": 13,
      "outputs": [
        {
          "output_type": "execute_result",
          "data": {
            "text/plain": [
              "{(2, 9), (5, 30)}"
            ],
            "text/latex": "$\\displaystyle \\left\\{\\left( 2, \\  9\\right), \\left( 5, \\  30\\right)\\right\\}$"
          },
          "metadata": {},
          "execution_count": 13
        }
      ]
    },
    {
      "cell_type": "markdown",
      "metadata": {
        "id": "0RMh_ht9LJmY"
      },
      "source": [
        "Encontrar as raízes de uma equação:"
      ]
    },
    {
      "cell_type": "code",
      "metadata": {
        "colab": {
          "base_uri": "https://localhost:8080/",
          "height": 37
        },
        "id": "aGhfYtmwLBil",
        "outputId": "325250a6-b000-4828-e3c7-71b2e939d91b"
      },
      "source": [
        "roots(Eq(x**2 + 3*x - 4, 0), x)"
      ],
      "execution_count": 14,
      "outputs": [
        {
          "output_type": "execute_result",
          "data": {
            "text/plain": [
              "{-4: 1, 1: 1}"
            ],
            "text/latex": "$\\displaystyle \\left\\{ -4 : 1, \\  1 : 1\\right\\}$"
          },
          "metadata": {},
          "execution_count": 14
        }
      ]
    },
    {
      "cell_type": "markdown",
      "metadata": {
        "id": "gfJRSRWYLQPJ"
      },
      "source": [
        "Encontrar as raízes de uma equação com solveset:"
      ]
    },
    {
      "cell_type": "code",
      "metadata": {
        "colab": {
          "base_uri": "https://localhost:8080/",
          "height": 37
        },
        "id": "qSU6COGRLPfr",
        "outputId": "7a2cf78d-e9ac-4e6b-e16f-a01120c3aeb9"
      },
      "source": [
        "solveset(Eq(x**2 + 3*x - 4, 0), x)"
      ],
      "execution_count": 15,
      "outputs": [
        {
          "output_type": "execute_result",
          "data": {
            "text/plain": [
              "{-4, 1}"
            ],
            "text/latex": "$\\displaystyle \\left\\{-4, 1\\right\\}$"
          },
          "metadata": {},
          "execution_count": 15
        }
      ]
    },
    {
      "cell_type": "markdown",
      "metadata": {
        "id": "1nZtquYILcvB"
      },
      "source": [
        "Polinômios fatorados numéricamente:"
      ]
    },
    {
      "cell_type": "code",
      "metadata": {
        "colab": {
          "base_uri": "https://localhost:8080/",
          "height": 37
        },
        "id": "OqiOKFv4LaHD",
        "outputId": "b5d71e28-9740-47f1-d65e-f2ac70df1df2"
      },
      "source": [
        "eq = Eq(360 + 234*x - 1051*x**2 + 11*x**3 + 304*x**4 - 20*x**5, 0)\n",
        "nroots(eq, n=6)"
      ],
      "execution_count": 16,
      "outputs": [
        {
          "output_type": "execute_result",
          "data": {
            "text/plain": [
              "[-1.79025, -0.498677, 0.797819, 1.68398, 15.0071]"
            ],
            "text/latex": "$\\displaystyle \\left[ -1.79025, \\  -0.498677, \\  0.797819, \\  1.68398, \\  15.0071\\right]$"
          },
          "metadata": {},
          "execution_count": 16
        }
      ]
    },
    {
      "cell_type": "markdown",
      "metadata": {
        "id": "t5iuHxM1MHxb"
      },
      "source": [
        "Reduzir um conjunto de desigualdades a uma forma simples:"
      ]
    },
    {
      "cell_type": "code",
      "metadata": {
        "colab": {
          "base_uri": "https://localhost:8080/",
          "height": 38
        },
        "id": "KMwGMBIOLixR",
        "outputId": "cecffeae-8460-47d6-f7d7-87d240204c47"
      },
      "source": [
        "ineq = [0 < x, x < 2, 1 <= x, x <= 4]\n",
        "reduce_inequalities(ineq, [x])"
      ],
      "execution_count": 17,
      "outputs": [
        {
          "output_type": "execute_result",
          "data": {
            "text/plain": [
              "1 ≤ x ∧ x < 2"
            ],
            "text/latex": "$\\displaystyle 1 \\leq x \\wedge x < 2$"
          },
          "metadata": {},
          "execution_count": 17
        }
      ]
    },
    {
      "cell_type": "markdown",
      "metadata": {
        "id": "JzWs_rdvMRiz"
      },
      "source": [
        "Reduce pode apresentar múltiplos intervalos:"
      ]
    },
    {
      "cell_type": "code",
      "metadata": {
        "colab": {
          "base_uri": "https://localhost:8080/",
          "height": 38
        },
        "id": "vefEAoS2MNJW",
        "outputId": "3ad83152-1069-479f-bd72-a6cbfcae8d38"
      },
      "source": [
        "reduce_inequalities((x - 1)*(x - 2)*(x - 3)*(x - 4) > 0, [x])"
      ],
      "execution_count": 18,
      "outputs": [
        {
          "output_type": "execute_result",
          "data": {
            "text/plain": [
              "(-∞ < x ∧ x < 1) ∨ (2 < x ∧ x < 3) ∨ (4 < x ∧ x < ∞)"
            ],
            "text/latex": "$\\displaystyle \\left(-\\infty < x \\wedge x < 1\\right) \\vee \\left(2 < x \\wedge x < 3\\right) \\vee \\left(4 < x \\wedge x < \\infty\\right)$"
          },
          "metadata": {},
          "execution_count": 18
        }
      ]
    },
    {
      "cell_type": "markdown",
      "metadata": {
        "id": "pxSY3q1wMkcf"
      },
      "source": [
        "Visualizar intervalos em uma reta:"
      ]
    },
    {
      "cell_type": "code",
      "metadata": {
        "colab": {
          "base_uri": "https://localhost:8080/",
          "height": 99
        },
        "id": "j937P0q-MWMr",
        "outputId": "928c7a4c-c085-408f-f3bf-9dbdcbe25d7f"
      },
      "source": [
        "i1 = (1, (x, -10, 1))\n",
        "i2 = (1, (x, 2, 3))\n",
        "i3 = (1, (x, 4, 10))\n",
        "plot(i1, i2, i3, aspect_ratio=(1,10));"
      ],
      "execution_count": 19,
      "outputs": [
        {
          "output_type": "display_data",
          "data": {
            "text/plain": [
              "<Figure size 640x480 with 1 Axes>"
            ],
            "image/png": "[encoded data removed]"
          },
          "metadata": {}
        }
      ]
    },
    {
      "cell_type": "markdown",
      "metadata": {
        "id": "NBKtXNq9NNTy"
      },
      "source": [
        "Desenvolvimento em \"linguagem natural\":"
      ]
    },
    {
      "cell_type": "code",
      "metadata": {
        "colab": {
          "base_uri": "https://localhost:8080/"
        },
        "id": "thwFWLGCM72m",
        "outputId": "04f4272f-9a87-4acc-a2c5-24c40a180d57"
      },
      "source": [
        "solucionar = solveset\n",
        "solucionar"
      ],
      "execution_count": 20,
      "outputs": [
        {
          "output_type": "execute_result",
          "data": {
            "text/plain": [
              "<function sympy.solvers.solveset.solveset(f, symbol=None, domain=Complexes)>"
            ]
          },
          "metadata": {},
          "execution_count": 20
        }
      ]
    },
    {
      "cell_type": "code",
      "metadata": {
        "colab": {
          "base_uri": "https://localhost:8080/",
          "height": 38
        },
        "id": "CYqJ9VYjN-W4",
        "outputId": "a4474e1d-8215-460a-8ff9-8d7a5b7ff8ca"
      },
      "source": [
        "equacao_quadratica = Eq(x**2 + 5*x - 6, 0)\n",
        "equacao_quadratica"
      ],
      "execution_count": 21,
      "outputs": [
        {
          "output_type": "execute_result",
          "data": {
            "text/plain": [
              " 2              \n",
              "x  + 5⋅x - 6 = 0"
            ],
            "text/latex": "$\\displaystyle x^{2} + 5 x - 6 = 0$"
          },
          "metadata": {},
          "execution_count": 21
        }
      ]
    },
    {
      "cell_type": "code",
      "metadata": {
        "colab": {
          "base_uri": "https://localhost:8080/",
          "height": 37
        },
        "id": "UzgoIeaLOLLj",
        "outputId": "2a4f36e1-1a23-452c-b185-337561e697a3"
      },
      "source": [
        "solucionar(equacao_quadratica)"
      ],
      "execution_count": 22,
      "outputs": [
        {
          "output_type": "execute_result",
          "data": {
            "text/plain": [
              "{-6, 1}"
            ],
            "text/latex": "$\\displaystyle \\left\\{-6, 1\\right\\}$"
          },
          "metadata": {},
          "execution_count": 22
        }
      ]
    }
  ]
}
