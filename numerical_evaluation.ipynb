{
  "nbformat": 4,
  "nbformat_minor": 0,
  "metadata": {
    "colab": {
      "provenance": [],
      "authorship_tag": "ABX9TyPKBqJ5gsdRfO4CQwDuR4ax",
      "include_colab_link": true
    },
    "kernelspec": {
      "name": "python3",
      "display_name": "Python 3"
    },
    "language_info": {
      "name": "python"
    }
  },
  "cells": [
    {
      "cell_type": "markdown",
      "metadata": {
        "id": "view-in-github",
        "colab_type": "text"
      },
      "source": [
        "<a href=\"https://colab.research.google.com/github/dionipadilha/SymPy/blob/main/numerical_evaluation.ipynb\" target=\"_parent\"><img src=\"https://colab.research.google.com/assets/colab-badge.svg\" alt=\"Open In Colab\"/></a>"
      ]
    },
    {
      "cell_type": "markdown",
      "source": [
        "# Numerical Evaluation"
      ],
      "metadata": {
        "id": "teMX5z2cmYOa"
      }
    },
    {
      "cell_type": "code",
      "execution_count": null,
      "metadata": {
        "id": "g3g7854mmChr"
      },
      "outputs": [],
      "source": [
        "from sympy import *\n",
        "init_printing()"
      ]
    },
    {
      "cell_type": "markdown",
      "source": [
        "## Basics"
      ],
      "metadata": {
        "id": "DeFakovkmjSr"
      }
    },
    {
      "cell_type": "code",
      "source": [
        "# Exact SymPy expressions\n",
        "pi"
      ],
      "metadata": {
        "colab": {
          "base_uri": "https://localhost:8080/",
          "height": 38
        },
        "id": "1lsBzeQTm8Kf",
        "outputId": "f1167cdd-37f6-4963-8b8e-f5d48046bcb6"
      },
      "execution_count": null,
      "outputs": [
        {
          "output_type": "execute_result",
          "data": {
            "text/plain": [
              "π"
            ],
            "text/latex": "$\\displaystyle \\pi$"
          },
          "metadata": {},
          "execution_count": 2
        }
      ]
    },
    {
      "cell_type": "code",
      "source": [
        "# evaluate floating point expressions using .evalf() method\n",
        "# Numerical evaluation is performed to an accuracy of 15 decimal digits\n",
        "(pi).evalf()"
      ],
      "metadata": {
        "colab": {
          "base_uri": "https://localhost:8080/",
          "height": 37
        },
        "id": "rXd2o3CPoxSY",
        "outputId": "93346bb6-4b4a-4db2-c18f-b4a7ff7bfcd1"
      },
      "execution_count": null,
      "outputs": [
        {
          "output_type": "execute_result",
          "data": {
            "text/plain": [
              "3.14159265358979"
            ],
            "text/latex": "$\\displaystyle 3.14159265358979$"
          },
          "metadata": {},
          "execution_count": 3
        }
      ]
    },
    {
      "cell_type": "code",
      "source": [
        "# Floating-point approximations\n",
        "(pi).evalf(3)"
      ],
      "metadata": {
        "colab": {
          "base_uri": "https://localhost:8080/",
          "height": 37
        },
        "id": "CRb2vdc5ozSh",
        "outputId": "113f7dd0-0547-4cfd-db64-d97b97501624"
      },
      "execution_count": null,
      "outputs": [
        {
          "output_type": "execute_result",
          "data": {
            "text/plain": [
              "3.14"
            ],
            "text/latex": "$\\displaystyle 3.14$"
          },
          "metadata": {},
          "execution_count": 4
        }
      ]
    },
    {
      "cell_type": "code",
      "source": [
        "# Evaluate floating point expressions using N() function\n",
        "N(pi)"
      ],
      "metadata": {
        "colab": {
          "base_uri": "https://localhost:8080/",
          "height": 37
        },
        "id": "FjzmA_K8mIn2",
        "outputId": "91cb14ba-a2d9-4d95-ad94-4bd0c4592af9"
      },
      "execution_count": null,
      "outputs": [
        {
          "output_type": "execute_result",
          "data": {
            "text/plain": [
              "3.14159265358979"
            ],
            "text/latex": "$\\displaystyle 3.14159265358979$"
          },
          "metadata": {},
          "execution_count": 5
        }
      ]
    },
    {
      "cell_type": "code",
      "source": [
        "# Floating-point approximations\n",
        "N(pi, 3)"
      ],
      "metadata": {
        "colab": {
          "base_uri": "https://localhost:8080/",
          "height": 37
        },
        "id": "XfIdSJMjnGzz",
        "outputId": "f432ff55-2b45-442b-d020-eaead0026678"
      },
      "execution_count": null,
      "outputs": [
        {
          "output_type": "execute_result",
          "data": {
            "text/plain": [
              "3.14"
            ],
            "text/latex": "$\\displaystyle 3.14$"
          },
          "metadata": {},
          "execution_count": 6
        }
      ]
    },
    {
      "cell_type": "code",
      "source": [
        "# Complex numbers are supported\n",
        "N(1/(pi + I), 20)"
      ],
      "metadata": {
        "colab": {
          "base_uri": "https://localhost:8080/",
          "height": 38
        },
        "id": "PluMousDmy9-",
        "outputId": "b96c460c-82fd-48d5-ab4e-ec23a3910701"
      },
      "execution_count": null,
      "outputs": [
        {
          "output_type": "execute_result",
          "data": {
            "text/plain": [
              "0.28902548222223624241 - 0.091999668350375232456⋅ⅈ"
            ],
            "text/latex": "$\\displaystyle 0.28902548222223624241 - 0.091999668350375232456 i$"
          },
          "metadata": {},
          "execution_count": 7
        }
      ]
    },
    {
      "cell_type": "code",
      "source": [
        "# Use subs to numerically evaluate a symbolic expression\n",
        "x = Symbol('x')\n",
        "(cos(2*x)).evalf(subs={x: 2.4})"
      ],
      "metadata": {
        "colab": {
          "base_uri": "https://localhost:8080/",
          "height": 37
        },
        "id": "I1coP8aiq2vE",
        "outputId": "1f152af9-fc9f-4cf5-8fa9-2ab4fe04bb25"
      },
      "execution_count": null,
      "outputs": [
        {
          "output_type": "execute_result",
          "data": {
            "text/plain": [
              "0.0874989834394464"
            ],
            "text/latex": "$\\displaystyle 0.0874989834394464$"
          },
          "metadata": {},
          "execution_count": 8
        }
      ]
    },
    {
      "cell_type": "markdown",
      "source": [
        "## Numerical Evaluation Pitfall"
      ],
      "metadata": {
        "id": "AtZXMC20uOoV"
      }
    },
    {
      "cell_type": "code",
      "source": [
        "# Numerical Evaluation Pitfall\n",
        "x = Symbol('x')\n",
        "one = cos(x)**2 + sin(x)**2\n",
        "one.evalf()"
      ],
      "metadata": {
        "colab": {
          "base_uri": "https://localhost:8080/",
          "height": 38
        },
        "id": "GNfzFKX6rdSi",
        "outputId": "fd03855d-e872-4427-cb01-dfbb0df4f154"
      },
      "execution_count": null,
      "outputs": [
        {
          "output_type": "execute_result",
          "data": {
            "text/plain": [
              "   2         2   \n",
              "sin (x) + cos (x)"
            ],
            "text/latex": "$\\displaystyle \\sin^{2}{\\left(x \\right)} + \\cos^{2}{\\left(x \\right)}$"
          },
          "metadata": {},
          "execution_count": 9
        }
      ]
    },
    {
      "cell_type": "code",
      "source": [
        "# Numerical Evaluation is not a simplification\n",
        "x = Symbol('x')\n",
        "one = trigsimp(cos(x)**2 + sin(x)**2)\n",
        "one"
      ],
      "metadata": {
        "colab": {
          "base_uri": "https://localhost:8080/",
          "height": 37
        },
        "id": "cbKE6d2JsYJZ",
        "outputId": "dee02e60-3024-41cf-f32a-f32d6c4e5a94"
      },
      "execution_count": null,
      "outputs": [
        {
          "output_type": "execute_result",
          "data": {
            "text/plain": [
              "1"
            ],
            "text/latex": "$\\displaystyle 1$"
          },
          "metadata": {},
          "execution_count": 10
        }
      ]
    },
    {
      "cell_type": "markdown",
      "source": [
        "## Roundoff Errors"
      ],
      "metadata": {
        "id": "QrtTVmndvBZr"
      }
    },
    {
      "cell_type": "code",
      "source": [
        "# Roundoff Errors: smaller than the desired precision\n",
        "one = cos(1)**2 + sin(1)**2\n",
        "N(one - 1)"
      ],
      "metadata": {
        "colab": {
          "base_uri": "https://localhost:8080/",
          "height": 37
        },
        "id": "j2StXy7XtLQO",
        "outputId": "6af38cd7-8fde-469f-ec38-a7c3f5d468aa"
      },
      "execution_count": null,
      "outputs": [
        {
          "output_type": "execute_result",
          "data": {
            "text/plain": [
              "-0.e-124"
            ],
            "text/latex": "$\\displaystyle -4.0 \\cdot 10^{-124}$"
          },
          "metadata": {},
          "execution_count": 11
        }
      ]
    },
    {
      "cell_type": "code",
      "source": [
        "# Remove roundoff errors\n",
        "one = cos(1)**2 + sin(1)**2\n",
        "N(one - 1, chop=True)"
      ],
      "metadata": {
        "colab": {
          "base_uri": "https://localhost:8080/",
          "height": 37
        },
        "id": "3HV-aEF4vnma",
        "outputId": "160c97e1-6d3f-4672-f1a1-540ea80c5617"
      },
      "execution_count": null,
      "outputs": [
        {
          "output_type": "execute_result",
          "data": {
            "text/plain": [
              "0"
            ],
            "text/latex": "$\\displaystyle 0$"
          },
          "metadata": {},
          "execution_count": 12
        }
      ]
    },
    {
      "cell_type": "code",
      "source": [
        "# Remove roundoff errors\n",
        "one = N(cos(1)**2) + N(sin(1)**2)\n",
        "N(one - 1)"
      ],
      "metadata": {
        "colab": {
          "base_uri": "https://localhost:8080/",
          "height": 37
        },
        "id": "sZdEAbKf1gTu",
        "outputId": "b89a293d-0ec4-4947-9165-cfa1b536fd1e"
      },
      "execution_count": null,
      "outputs": [
        {
          "output_type": "execute_result",
          "data": {
            "text/plain": [
              "0"
            ],
            "text/latex": "$\\displaystyle 0$"
          },
          "metadata": {},
          "execution_count": 13
        }
      ]
    },
    {
      "cell_type": "code",
      "source": [
        "# Set to force an exception\n",
        "one = cos(1)**2 + sin(1)**2\n",
        "# N(one - 1, strict=True) # PrecisionExhausted"
      ],
      "metadata": {
        "id": "1HGpJTWi1o7a"
      },
      "execution_count": null,
      "outputs": []
    },
    {
      "cell_type": "markdown",
      "source": [
        "## Accuracy and error handling"
      ],
      "metadata": {
        "id": "8JPEjXE_yMp7"
      }
    },
    {
      "cell_type": "code",
      "source": [
        "# Numerical error propagation for complicated expressions\n",
        "a, b = GoldenRatio**100/sqrt(5), fibonacci(100)\n",
        "a - b"
      ],
      "metadata": {
        "colab": {
          "base_uri": "https://localhost:8080/",
          "height": 55
        },
        "id": "X3UbMfnl0Q7W",
        "outputId": "e6461fda-5bd3-4ed8-b257-7d6c0157779a"
      },
      "execution_count": null,
      "outputs": [
        {
          "output_type": "execute_result",
          "data": {
            "text/plain": [
              "                             100\n",
              "                         √5⋅φ   \n",
              "-354224848179261915075 + ───────\n",
              "                            5   "
            ],
            "text/latex": "$\\displaystyle -354224848179261915075 + \\frac{\\sqrt{5} \\phi^{100}}{5}$"
          },
          "metadata": {},
          "execution_count": 15
        }
      ]
    },
    {
      "cell_type": "code",
      "source": [
        "# Numerical error propagation for complicated expressions\n",
        "a, b = GoldenRatio**100/sqrt(5), fibonacci(100)\n",
        "N(a - b)"
      ],
      "metadata": {
        "colab": {
          "base_uri": "https://localhost:8080/",
          "height": 37
        },
        "id": "d7jAJOulwA1D",
        "outputId": "55f27fce-4455-407e-ade5-dd143667a62f"
      },
      "execution_count": null,
      "outputs": [
        {
          "output_type": "execute_result",
          "data": {
            "text/plain": [
              "5.64613129282185e-22"
            ],
            "text/latex": "$\\displaystyle 5.64613129282185 \\cdot 10^{-22}$"
          },
          "metadata": {},
          "execution_count": 16
        }
      ]
    },
    {
      "cell_type": "code",
      "source": [
        "# Numerical error propagation for complicated expressions\n",
        "N(GoldenRatio**100/sqrt(5) - fibonacci(100))"
      ],
      "metadata": {
        "colab": {
          "base_uri": "https://localhost:8080/",
          "height": 37
        },
        "id": "Otr0g3oq0Bzl",
        "outputId": "6bc9ce02-93b5-4dd7-b6e0-ac33556dc445"
      },
      "execution_count": null,
      "outputs": [
        {
          "output_type": "execute_result",
          "data": {
            "text/plain": [
              "5.64613129282185e-22"
            ],
            "text/latex": "$\\displaystyle 5.64613129282185 \\cdot 10^{-22}$"
          },
          "metadata": {},
          "execution_count": 17
        }
      ]
    },
    {
      "cell_type": "code",
      "source": [
        "# Numerical error propagation for complicated expressions\n",
        "N(GoldenRatio**100/sqrt(5)) - N(fibonacci(100))"
      ],
      "metadata": {
        "colab": {
          "base_uri": "https://localhost:8080/",
          "height": 37
        },
        "id": "1jW3VYlo0jMr",
        "outputId": "62f140a0-aedd-493f-9be3-5923c1978343"
      },
      "execution_count": null,
      "outputs": [
        {
          "output_type": "execute_result",
          "data": {
            "text/plain": [
              "0"
            ],
            "text/latex": "$\\displaystyle 0$"
          },
          "metadata": {},
          "execution_count": 18
        }
      ]
    },
    {
      "cell_type": "code",
      "source": [
        "# Numerical error propagation for complicated expressions\n",
        "a, b = GoldenRatio**100/sqrt(5), fibonacci(100)\n",
        "N(a) - N(b)"
      ],
      "metadata": {
        "colab": {
          "base_uri": "https://localhost:8080/",
          "height": 37
        },
        "id": "fqiPl89Hy099",
        "outputId": "5d31fe94-d9b0-4ac1-b9ef-993b96d0637b"
      },
      "execution_count": null,
      "outputs": [
        {
          "output_type": "execute_result",
          "data": {
            "text/plain": [
              "0"
            ],
            "text/latex": "$\\displaystyle 0$"
          },
          "metadata": {},
          "execution_count": 19
        }
      ]
    },
    {
      "cell_type": "code",
      "source": [
        "# Numerical error propagation for complicated expressions\n",
        "a, b = GoldenRatio**100/sqrt(5), fibonacci(100)\n",
        "N(a - b, chop=True)"
      ],
      "metadata": {
        "colab": {
          "base_uri": "https://localhost:8080/",
          "height": 37
        },
        "id": "7uM4EoBz14Pc",
        "outputId": "d7c70937-0bf2-41f9-b5c2-64e38d53abde"
      },
      "execution_count": null,
      "outputs": [
        {
          "output_type": "execute_result",
          "data": {
            "text/plain": [
              "0"
            ],
            "text/latex": "$\\displaystyle 0$"
          },
          "metadata": {},
          "execution_count": 20
        }
      ]
    },
    {
      "cell_type": "code",
      "source": [
        "# Force a higher working precision\n",
        "N(GoldenRatio**100/sqrt(5) - fibonacci(100),  maxn=0)"
      ],
      "metadata": {
        "colab": {
          "base_uri": "https://localhost:8080/",
          "height": 37
        },
        "id": "MttjEKwA2u9U",
        "outputId": "5ec7620d-51e6-4a07-ceb8-b1485e1ce1f1"
      },
      "execution_count": null,
      "outputs": [
        {
          "output_type": "execute_result",
          "data": {
            "text/plain": [
              "0.e-16"
            ],
            "text/latex": "$\\displaystyle 6.0 \\cdot 10^{-17}$"
          },
          "metadata": {},
          "execution_count": 21
        }
      ]
    },
    {
      "cell_type": "code",
      "source": [
        "# Force a higher working precision\n",
        "N(GoldenRatio**100/sqrt(5) - fibonacci(100),  maxn=17)"
      ],
      "metadata": {
        "colab": {
          "base_uri": "https://localhost:8080/",
          "height": 37
        },
        "id": "qu58ZClO26V5",
        "outputId": "f6d8612b-d260-4e66-f2a0-cdb4d3503c21"
      },
      "execution_count": null,
      "outputs": [
        {
          "output_type": "execute_result",
          "data": {
            "text/plain": [
              "5.64613129282e-22"
            ],
            "text/latex": "$\\displaystyle 5.64613129282 \\cdot 10^{-22}$"
          },
          "metadata": {},
          "execution_count": 22
        }
      ]
    },
    {
      "cell_type": "markdown",
      "source": [
        "## Numerical simplification"
      ],
      "metadata": {
        "id": "SVUCN-xN4Xb9"
      }
    },
    {
      "cell_type": "code",
      "source": [
        "# find a formula that is numerically equal to the given input\n",
        "nsimplify(0.1)"
      ],
      "metadata": {
        "colab": {
          "base_uri": "https://localhost:8080/",
          "height": 51
        },
        "id": "hgFbzSQc4mzq",
        "outputId": "21990fe5-a70a-43fc-9080-4ead297df8c4"
      },
      "execution_count": null,
      "outputs": [
        {
          "output_type": "execute_result",
          "data": {
            "text/plain": [
              "1/10"
            ],
            "text/latex": "$\\displaystyle \\frac{1}{10}$"
          },
          "metadata": {},
          "execution_count": 23
        }
      ]
    },
    {
      "cell_type": "code",
      "source": [
        "# find a formula that is numerically equal to the given input\n",
        "nsimplify(6.28, [pi], tolerance=0.01)"
      ],
      "metadata": {
        "colab": {
          "base_uri": "https://localhost:8080/",
          "height": 38
        },
        "id": "zQi78_uu5CL_",
        "outputId": "06b95095-69cb-4853-c090-8f1abef2b295"
      },
      "execution_count": null,
      "outputs": [
        {
          "output_type": "execute_result",
          "data": {
            "text/plain": [
              "2⋅π"
            ],
            "text/latex": "$\\displaystyle 2 \\pi$"
          },
          "metadata": {},
          "execution_count": 24
        }
      ]
    },
    {
      "cell_type": "code",
      "source": [
        "# find a formula that is numerically equal to the given input\n",
        "nsimplify(pi, tolerance=0.01)"
      ],
      "metadata": {
        "colab": {
          "base_uri": "https://localhost:8080/",
          "height": 51
        },
        "id": "j6aoAU8L5GA-",
        "outputId": "7325ba9c-bc9b-4eec-d8ac-f616581b8632"
      },
      "execution_count": null,
      "outputs": [
        {
          "output_type": "execute_result",
          "data": {
            "text/plain": [
              "22/7"
            ],
            "text/latex": "$\\displaystyle \\frac{22}{7}$"
          },
          "metadata": {},
          "execution_count": 25
        }
      ]
    },
    {
      "cell_type": "code",
      "source": [
        "# find a formula that is numerically equal to the given input\n",
        "nsimplify(pi, tolerance=0.001)"
      ],
      "metadata": {
        "colab": {
          "base_uri": "https://localhost:8080/",
          "height": 51
        },
        "id": "xLax8lfq5bfb",
        "outputId": "960f01c6-29d4-4054-b03d-900bcafbc258"
      },
      "execution_count": null,
      "outputs": [
        {
          "output_type": "execute_result",
          "data": {
            "text/plain": [
              "355\n",
              "───\n",
              "113"
            ],
            "text/latex": "$\\displaystyle \\frac{355}{113}$"
          },
          "metadata": {},
          "execution_count": 26
        }
      ]
    },
    {
      "cell_type": "code",
      "source": [
        "# find a formula that is numerically equal to the given input\n",
        "nsimplify(0.33333)"
      ],
      "metadata": {
        "colab": {
          "base_uri": "https://localhost:8080/",
          "height": 51
        },
        "id": "L5DSnhym5wZ0",
        "outputId": "4953e9b9-2a77-4126-e76f-5ea48ad27f9f"
      },
      "execution_count": null,
      "outputs": [
        {
          "output_type": "execute_result",
          "data": {
            "text/plain": [
              "33333 \n",
              "──────\n",
              "100000"
            ],
            "text/latex": "$\\displaystyle \\frac{33333}{100000}$"
          },
          "metadata": {},
          "execution_count": 27
        }
      ]
    },
    {
      "cell_type": "code",
      "source": [
        "# find a formula that is numerically equal to the given input\n",
        "nsimplify(0.33333, tolerance=1e-4)"
      ],
      "metadata": {
        "colab": {
          "base_uri": "https://localhost:8080/",
          "height": 51
        },
        "id": "e3txjVZZ50aM",
        "outputId": "cc87a484-58f0-44f2-cacc-f0b35a1836f6"
      },
      "execution_count": null,
      "outputs": [
        {
          "output_type": "execute_result",
          "data": {
            "text/plain": [
              "1/3"
            ],
            "text/latex": "$\\displaystyle \\frac{1}{3}$"
          },
          "metadata": {},
          "execution_count": 28
        }
      ]
    },
    {
      "cell_type": "code",
      "source": [
        "# find a formula that is numerically equal to the given input\n",
        "nsimplify(2**(1/3))"
      ],
      "metadata": {
        "colab": {
          "base_uri": "https://localhost:8080/",
          "height": 39
        },
        "id": "8THO4QyO6Y-m",
        "outputId": "af22cad0-e0f3-430f-8fba-c4f726d20148"
      },
      "execution_count": null,
      "outputs": [
        {
          "output_type": "execute_result",
          "data": {
            "text/plain": [
              "3 ___\n",
              "╲╱ 2 "
            ],
            "text/latex": "$\\displaystyle \\sqrt[3]{2}$"
          },
          "metadata": {},
          "execution_count": 29
        }
      ]
    },
    {
      "cell_type": "code",
      "source": [
        "# find a formula that is numerically equal to the given input\n",
        "nsimplify(cos(atan(1/3)))"
      ],
      "metadata": {
        "colab": {
          "base_uri": "https://localhost:8080/",
          "height": 55
        },
        "id": "hAS7IF-C7Q7P",
        "outputId": "b48b1512-99ff-4c37-8500-1bffd793b691"
      },
      "execution_count": null,
      "outputs": [
        {
          "output_type": "execute_result",
          "data": {
            "text/plain": [
              "3⋅√10\n",
              "─────\n",
              "  10 "
            ],
            "text/latex": "$\\displaystyle \\frac{3 \\sqrt{10}}{10}$"
          },
          "metadata": {},
          "execution_count": 30
        }
      ]
    },
    {
      "cell_type": "code",
      "source": [
        "# find a formula that is numerically equal to the given input\n",
        "n = Symbol('n', integer=True)\n",
        "nsimplify(Sum(1/n**2, (n, 1, oo)), [pi])"
      ],
      "metadata": {
        "colab": {
          "base_uri": "https://localhost:8080/",
          "height": 54
        },
        "id": "Jw-J_EdH7pMA",
        "outputId": "33d78b14-f713-4183-dc2d-4683b32c2dfc"
      },
      "execution_count": null,
      "outputs": [
        {
          "output_type": "execute_result",
          "data": {
            "text/plain": [
              " 2\n",
              "π \n",
              "──\n",
              "6 "
            ],
            "text/latex": "$\\displaystyle \\frac{\\pi^{2}}{6}$"
          },
          "metadata": {},
          "execution_count": 31
        }
      ]
    }
  ]
}