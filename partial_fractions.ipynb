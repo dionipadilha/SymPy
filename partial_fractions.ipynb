{
  "nbformat": 4,
  "nbformat_minor": 0,
  "metadata": {
    "colab": {
      "provenance": [],
      "authorship_tag": "ABX9TyPhFTWDxVuUV3oOA3EkPmDQ",
      "include_colab_link": true
    },
    "kernelspec": {
      "name": "python3",
      "display_name": "Python 3"
    },
    "language_info": {
      "name": "python"
    }
  },
  "cells": [
    {
      "cell_type": "markdown",
      "metadata": {
        "id": "view-in-github",
        "colab_type": "text"
      },
      "source": [
        "<a href=\"https://colab.research.google.com/github/dionipadilha/sympy/blob/main/partial_fractions.ipynb\" target=\"_parent\"><img src=\"https://colab.research.google.com/assets/colab-badge.svg\" alt=\"Open In Colab\"/></a>"
      ]
    },
    {
      "cell_type": "markdown",
      "source": [
        "## Partial Fractions Calculator"
      ],
      "metadata": {
        "id": "-Zeno80JdZuw"
      }
    },
    {
      "cell_type": "code",
      "execution_count": 1,
      "metadata": {
        "id": "rG7DoUFmdJK6"
      },
      "outputs": [],
      "source": [
        "# symbolic environment\n",
        "from sympy import *\n",
        "init_printing()\n",
        "x = symbols('x')"
      ]
    },
    {
      "cell_type": "code",
      "source": [
        "expr = x/((x+1)*(x-4))\n",
        "Eq(expr, expr.apart())"
      ],
      "metadata": {
        "colab": {
          "base_uri": "https://localhost:8080/",
          "height": 55
        },
        "id": "4cNP0vg5d57A",
        "outputId": "4e8f9b6b-22cb-48e9-8ca2-82aca51f4f5b"
      },
      "execution_count": 2,
      "outputs": [
        {
          "output_type": "execute_result",
          "data": {
            "text/plain": [
              "       x              1           4    \n",
              "─────────────── = ───────── + ─────────\n",
              "(x - 4)⋅(x + 1)   5⋅(x + 1)   5⋅(x - 4)"
            ],
            "text/latex": "$\\displaystyle \\frac{x}{\\left(x - 4\\right) \\left(x + 1\\right)} = \\frac{1}{5 \\left(x + 1\\right)} + \\frac{4}{5 \\left(x - 4\\right)}$"
          },
          "metadata": {},
          "execution_count": 2
        }
      ]
    },
    {
      "cell_type": "code",
      "source": [
        "expr = (2*(1+x))/(x*(x**2 + 3*x + 2))\n",
        "expr_ = factor(expr)\n",
        "Eq(expr_, expr_.apart())"
      ],
      "metadata": {
        "colab": {
          "base_uri": "https://localhost:8080/",
          "height": 55
        },
        "id": "XuZUFKkTd-tn",
        "outputId": "a40c4a8e-3749-4a85-da43-eeb10dee628a"
      },
      "execution_count": 3,
      "outputs": [
        {
          "output_type": "execute_result",
          "data": {
            "text/plain": [
              "    2           1     1\n",
              "───────── = - ───── + ─\n",
              "x⋅(x + 2)     x + 2   x"
            ],
            "text/latex": "$\\displaystyle \\frac{2}{x \\left(x + 2\\right)} = - \\frac{1}{x + 2} + \\frac{1}{x}$"
          },
          "metadata": {},
          "execution_count": 3
        }
      ]
    },
    {
      "cell_type": "code",
      "source": [
        "expr = 1/((x+5)*(x+4))\n",
        "Eq(expr, expr.apart())"
      ],
      "metadata": {
        "colab": {
          "base_uri": "https://localhost:8080/",
          "height": 55
        },
        "id": "sw990IPHec9A",
        "outputId": "eae9028d-17ff-48cb-c2a2-3a44ec465236"
      },
      "execution_count": 4,
      "outputs": [
        {
          "output_type": "execute_result",
          "data": {
            "text/plain": [
              "       1              1       1  \n",
              "─────────────── = - ───── + ─────\n",
              "(x + 4)⋅(x + 5)     x + 5   x + 4"
            ],
            "text/latex": "$\\displaystyle \\frac{1}{\\left(x + 4\\right) \\left(x + 5\\right)} = - \\frac{1}{x + 5} + \\frac{1}{x + 4}$"
          },
          "metadata": {},
          "execution_count": 4
        }
      ]
    },
    {
      "cell_type": "code",
      "source": [
        "expr = (x**2 + 2)/((x + 2)**2 * (x + 3))\n",
        "Eq(expr, expr.apart())"
      ],
      "metadata": {
        "colab": {
          "base_uri": "https://localhost:8080/",
          "height": 61
        },
        "id": "VtnLW2VFffYT",
        "outputId": "3bd7aad9-b19f-4f16-cf7d-f15df11c6f5e"
      },
      "execution_count": 5,
      "outputs": [
        {
          "output_type": "execute_result",
          "data": {
            "text/plain": [
              "      2                                    \n",
              "     x  + 2          11      10       6    \n",
              "──────────────── = ───── - ───── + ────────\n",
              "       2           x + 3   x + 2          2\n",
              "(x + 2) ⋅(x + 3)                   (x + 2) "
            ],
            "text/latex": "$\\displaystyle \\frac{x^{2} + 2}{\\left(x + 2\\right)^{2} \\left(x + 3\\right)} = \\frac{11}{x + 3} - \\frac{10}{x + 2} + \\frac{6}{\\left(x + 2\\right)^{2}}$"
          },
          "metadata": {},
          "execution_count": 5
        }
      ]
    }
  ]
}