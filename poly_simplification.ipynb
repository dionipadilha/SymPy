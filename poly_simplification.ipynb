{
  "nbformat": 4,
  "nbformat_minor": 0,
  "metadata": {
    "colab": {
      "provenance": [],
      "authorship_tag": "ABX9TyPDRhCNc6IhZtYxyVxwXCA8",
      "include_colab_link": true
    },
    "kernelspec": {
      "name": "python3",
      "display_name": "Python 3"
    },
    "language_info": {
      "name": "python"
    }
  },
  "cells": [
    {
      "cell_type": "markdown",
      "metadata": {
        "id": "view-in-github",
        "colab_type": "text"
      },
      "source": [
        "<a href=\"https://colab.research.google.com/github/dionipadilha/sympy/blob/main/poly_simplification.ipynb\" target=\"_parent\"><img src=\"https://colab.research.google.com/assets/colab-badge.svg\" alt=\"Open In Colab\"/></a>"
      ]
    },
    {
      "cell_type": "code",
      "execution_count": 1,
      "metadata": {
        "id": "fTyQ0w9eGJ9w"
      },
      "outputs": [],
      "source": [
        "# symbolic env:\n",
        "from sympy import *\n",
        "x, y, z = symbols('x y z')\n",
        "init_printing()"
      ]
    },
    {
      "cell_type": "code",
      "source": [
        "# general simplification:\n",
        "expr = ((x**3 + x**2 - x - 1)/(x**2 + 2*x + 1))\n",
        "Eq(expr, simplify(expr))"
      ],
      "metadata": {
        "colab": {
          "base_uri": "https://localhost:8080/",
          "height": 55
        },
        "id": "fNnRPRnFGju8",
        "outputId": "48a2c8ae-0fce-4f29-b970-91260f2ee5c9"
      },
      "execution_count": 2,
      "outputs": [
        {
          "output_type": "execute_result",
          "data": {
            "text/plain": [
              " 3    2                \n",
              "x  + x  - x - 1        \n",
              "─────────────── = x - 1\n",
              "   2                   \n",
              "  x  + 2⋅x + 1         "
            ],
            "text/latex": "$\\displaystyle \\frac{x^{3} + x^{2} - x - 1}{x^{2} + 2 x + 1} = x - 1$"
          },
          "metadata": {},
          "execution_count": 2
        }
      ]
    },
    {
      "cell_type": "code",
      "source": [
        "# expand a product of factors:\n",
        "expr = ((x + 1)**2)\n",
        "Eq(expr, expand(expr))"
      ],
      "metadata": {
        "colab": {
          "base_uri": "https://localhost:8080/",
          "height": 39
        },
        "id": "piDWEGd3G1Rk",
        "outputId": "2ab9d4cd-b1d8-4b43-d739-fd8e09b3dd7a"
      },
      "execution_count": 3,
      "outputs": [
        {
          "output_type": "execute_result",
          "data": {
            "text/plain": [
              "       2    2          \n",
              "(x + 1)  = x  + 2⋅x + 1"
            ],
            "text/latex": "$\\displaystyle \\left(x + 1\\right)^{2} = x^{2} + 2 x + 1$"
          },
          "metadata": {},
          "execution_count": 3
        }
      ]
    },
    {
      "cell_type": "code",
      "source": [
        "# irreducible factors:\n",
        "expr = (x**3 - x**2 + x - 1)\n",
        "Eq(expr, factor(expr))"
      ],
      "metadata": {
        "colab": {
          "base_uri": "https://localhost:8080/",
          "height": 38
        },
        "id": "sj7Yc5ANHWWr",
        "outputId": "5075ce08-d09e-48d0-913d-97300ac3bb30"
      },
      "execution_count": 4,
      "outputs": [
        {
          "output_type": "execute_result",
          "data": {
            "text/plain": [
              " 3    2                   ⎛ 2    ⎞\n",
              "x  - x  + x - 1 = (x - 1)⋅⎝x  + 1⎠"
            ],
            "text/latex": "$\\displaystyle x^{3} - x^{2} + x - 1 = \\left(x - 1\\right) \\left(x^{2} + 1\\right)$"
          },
          "metadata": {},
          "execution_count": 4
        }
      ]
    },
    {
      "cell_type": "code",
      "source": [
        "# factor list:\n",
        "expr = (x**3 - x**2 + x - 1)\n",
        "factor_list(expr)"
      ],
      "metadata": {
        "colab": {
          "base_uri": "https://localhost:8080/",
          "height": 38
        },
        "id": "AB0z2n1CHkWT",
        "outputId": "44d56356-ae04-4bc5-ab5b-3f13d0ce9cc4"
      },
      "execution_count": 5,
      "outputs": [
        {
          "output_type": "execute_result",
          "data": {
            "text/plain": [
              "⎛   ⎡            ⎛ 2       ⎞⎤⎞\n",
              "⎝1, ⎣(x - 1, 1), ⎝x  + 1, 1⎠⎦⎠"
            ],
            "text/latex": "$\\displaystyle \\left( 1, \\  \\left[ \\left( x - 1, \\  1\\right), \\  \\left( x^{2} + 1, \\  1\\right)\\right]\\right)$"
          },
          "metadata": {},
          "execution_count": 5
        }
      ]
    },
    {
      "cell_type": "code",
      "source": [
        "# irreducible trig factors:\n",
        "expr = (cos(x)**2 + 2*cos(x)*sin(x) + sin(x)**2)\n",
        "Eq(expr, factor(expr))"
      ],
      "metadata": {
        "colab": {
          "base_uri": "https://localhost:8080/",
          "height": 39
        },
        "id": "zNyCfjpGIJls",
        "outputId": "7f7f34fc-177e-4796-c8e7-9e627a31684e"
      },
      "execution_count": 6,
      "outputs": [
        {
          "output_type": "execute_result",
          "data": {
            "text/plain": [
              "   2                           2                       2\n",
              "sin (x) + 2⋅sin(x)⋅cos(x) + cos (x) = (sin(x) + cos(x)) "
            ],
            "text/latex": "$\\displaystyle \\sin^{2}{\\left(x \\right)} + 2 \\sin{\\left(x \\right)} \\cos{\\left(x \\right)} + \\cos^{2}{\\left(x \\right)} = \\left(\\sin{\\left(x \\right)} + \\cos{\\left(x \\right)}\\right)^{2}$"
          },
          "metadata": {},
          "execution_count": 6
        }
      ]
    },
    {
      "cell_type": "code",
      "source": [
        "# collects terms in a polynomial:\n",
        "expr = x*y + x - 3 + 2*x**2 - z*x**2 + x**3\n",
        "collected_expr = collect(expr, x)\n",
        "Eq(expr, collected_expr)"
      ],
      "metadata": {
        "colab": {
          "base_uri": "https://localhost:8080/",
          "height": 38
        },
        "id": "V9j8efqzI6b1",
        "outputId": "a376da07-e1f0-4f27-e867-d76ada9ffb07"
      },
      "execution_count": 7,
      "outputs": [
        {
          "output_type": "execute_result",
          "data": {
            "text/plain": [
              " 3    2        2                  3    2                        \n",
              "x  - x ⋅z + 2⋅x  + x⋅y + x - 3 = x  + x ⋅(2 - z) + x⋅(y + 1) - 3"
            ],
            "text/latex": "$\\displaystyle x^{3} - x^{2} z + 2 x^{2} + x y + x - 3 = x^{3} + x^{2} \\cdot \\left(2 - z\\right) + x \\left(y + 1\\right) - 3$"
          },
          "metadata": {},
          "execution_count": 7
        }
      ]
    },
    {
      "cell_type": "code",
      "source": [
        "# get a specifique term:\n",
        "collected_expr.coeff(x, 2)"
      ],
      "metadata": {
        "colab": {
          "base_uri": "https://localhost:8080/",
          "height": 38
        },
        "id": "8n2ZW19EJJfU",
        "outputId": "45a1b03c-b46a-4cd3-817c-0fcbcbc18d59"
      },
      "execution_count": 8,
      "outputs": [
        {
          "output_type": "execute_result",
          "data": {
            "text/plain": [
              "2 - z"
            ],
            "text/latex": "$\\displaystyle 2 - z$"
          },
          "metadata": {},
          "execution_count": 8
        }
      ]
    },
    {
      "cell_type": "code",
      "source": [
        "# cancel common factors:\n",
        "expr = ((x**2 + 2*x + 1)/(x**2 + x))\n",
        "Eq(expr, cancel(expr))"
      ],
      "metadata": {
        "colab": {
          "base_uri": "https://localhost:8080/",
          "height": 55
        },
        "id": "i_tplDnpJpHr",
        "outputId": "1929ee8a-fe00-4336-afe5-4b558810fae1"
      },
      "execution_count": 9,
      "outputs": [
        {
          "output_type": "execute_result",
          "data": {
            "text/plain": [
              " 2                  \n",
              "x  + 2⋅x + 1   x + 1\n",
              "──────────── = ─────\n",
              "    2            x  \n",
              "   x  + x           "
            ],
            "text/latex": "$\\displaystyle \\frac{x^{2} + 2 x + 1}{x^{2} + x} = \\frac{x + 1}{x}$"
          },
          "metadata": {},
          "execution_count": 9
        }
      ]
    },
    {
      "cell_type": "code",
      "source": [
        "# polynomial long division\n",
        "expr = ((4*(x+3))/(x*(x+4)))\n",
        "Eq(expr, apart(expr, x))"
      ],
      "metadata": {
        "colab": {
          "base_uri": "https://localhost:8080/",
          "height": 55
        },
        "id": "74zNYJoPKFzL",
        "outputId": "063c8146-c86e-438c-a8ca-d83c7ac6338d"
      },
      "execution_count": 10,
      "outputs": [
        {
          "output_type": "execute_result",
          "data": {
            "text/plain": [
              " 4⋅x + 12     1     3\n",
              "───────── = ───── + ─\n",
              "x⋅(x + 4)   x + 4   x"
            ],
            "text/latex": "$\\displaystyle \\frac{4 x + 12}{x \\left(x + 4\\right)} = \\frac{1}{x + 4} + \\frac{3}{x}$"
          },
          "metadata": {},
          "execution_count": 10
        }
      ]
    },
    {
      "cell_type": "code",
      "source": [
        "# combines terms:\n",
        "expr = (1/(x + 4) + 3/x)\n",
        "Eq(expr, together(expr, x))"
      ],
      "metadata": {
        "colab": {
          "base_uri": "https://localhost:8080/",
          "height": 57
        },
        "id": "89iw0gRAKcFz",
        "outputId": "33f4f5e9-1efc-4bd3-9c94-17ec2ce39b07"
      },
      "execution_count": 11,
      "outputs": [
        {
          "output_type": "execute_result",
          "data": {
            "text/plain": [
              "  1     3   4⋅(x + 3)\n",
              "───── + ─ = ─────────\n",
              "x + 4   x   x⋅(x + 4)"
            ],
            "text/latex": "$\\displaystyle \\frac{1}{x + 4} + \\frac{3}{x} = \\frac{4 \\left(x + 3\\right)}{x \\left(x + 4\\right)}$"
          },
          "metadata": {},
          "execution_count": 11
        }
      ]
    }
  ]
}