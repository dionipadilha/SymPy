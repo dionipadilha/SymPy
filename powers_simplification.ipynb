{
  "nbformat": 4,
  "nbformat_minor": 0,
  "metadata": {
    "colab": {
      "provenance": [],
      "authorship_tag": "ABX9TyMQSLEOTu7gel7hgP0Wu2P4",
      "include_colab_link": true
    },
    "kernelspec": {
      "name": "python3",
      "display_name": "Python 3"
    },
    "language_info": {
      "name": "python"
    }
  },
  "cells": [
    {
      "cell_type": "markdown",
      "metadata": {
        "id": "view-in-github",
        "colab_type": "text"
      },
      "source": [
        "<a href=\"https://colab.research.google.com/github/dionipadilha/sympy/blob/main/powers_simplification.ipynb\" target=\"_parent\"><img src=\"https://colab.research.google.com/assets/colab-badge.svg\" alt=\"Open In Colab\"/></a>"
      ]
    },
    {
      "cell_type": "markdown",
      "source": [
        "# Powers"
      ],
      "metadata": {
        "id": "riBffRGFyFnj"
      }
    },
    {
      "cell_type": "code",
      "execution_count": null,
      "metadata": {
        "id": "qcVZc87txcnj"
      },
      "outputs": [],
      "source": [
        "from sympy import *\n",
        "init_printing()\n",
        "a, b, x, y = symbols('a, b, x, y', real=True)"
      ]
    },
    {
      "cell_type": "code",
      "source": [
        "a, b, x, y = symbols('a, b, x, y', real=True)\n",
        "expr = x**a * x**b\n",
        "Eq(expr, expr.powsimp())"
      ],
      "metadata": {
        "colab": {
          "base_uri": "https://localhost:8080/",
          "height": 38
        },
        "id": "0nFXfNWuyMv-",
        "outputId": "a7d81169-9585-4b3a-9064-8677961c9c5f"
      },
      "execution_count": null,
      "outputs": [
        {
          "output_type": "execute_result",
          "data": {
            "text/plain": [
              " a  b    a + b\n",
              "x ⋅x  = x     "
            ],
            "text/latex": "$\\displaystyle x^{a} x^{b} = x^{a + b}$"
          },
          "metadata": {},
          "execution_count": 123
        }
      ]
    },
    {
      "cell_type": "code",
      "source": [
        "a, b, x, y = symbols('a, b, x, y', real=True)\n",
        "x = symbols('x', positive=True)\n",
        "expr = x**(a + b)\n",
        "Eq(expr, expand_power_exp(expr))"
      ],
      "metadata": {
        "colab": {
          "base_uri": "https://localhost:8080/",
          "height": 38
        },
        "id": "xPVOPgbZ11pA",
        "outputId": "5022383d-73cf-4f46-8da6-f66e95d08552"
      },
      "execution_count": null,
      "outputs": [
        {
          "output_type": "execute_result",
          "data": {
            "text/plain": [
              " a + b    a  b\n",
              "x      = x ⋅x "
            ],
            "text/latex": "$\\displaystyle x^{a + b} = x^{a} x^{b}$"
          },
          "metadata": {},
          "execution_count": 124
        }
      ]
    },
    {
      "cell_type": "code",
      "source": [
        "a, b, x, y = symbols('a, b, x, y', real=True)\n",
        "x = symbols('x', positive=True)\n",
        "expr = x**a * y**a\n",
        "Eq(expr, expr.powsimp())"
      ],
      "metadata": {
        "colab": {
          "base_uri": "https://localhost:8080/",
          "height": 38
        },
        "id": "tPLXx9pz0m6R",
        "outputId": "009cb002-2f47-4159-8071-225a0aff3607"
      },
      "execution_count": null,
      "outputs": [
        {
          "output_type": "execute_result",
          "data": {
            "text/plain": [
              " a  a        a\n",
              "x ⋅y  = (x⋅y) "
            ],
            "text/latex": "$\\displaystyle x^{a} y^{a} = \\left(x y\\right)^{a}$"
          },
          "metadata": {},
          "execution_count": 130
        }
      ]
    },
    {
      "cell_type": "code",
      "source": [
        "a, b, x, y = symbols('a, b, x, y', real=True)\n",
        "x = symbols('x', positive=True)\n",
        "expr = (x*y)**a\n",
        "Eq(expr, expand_power_base(expr))"
      ],
      "metadata": {
        "colab": {
          "base_uri": "https://localhost:8080/",
          "height": 38
        },
        "id": "tkVRs75O1jUn",
        "outputId": "4ee756e2-5a6e-43a0-9997-9e28b205f0dc"
      },
      "execution_count": null,
      "outputs": [
        {
          "output_type": "execute_result",
          "data": {
            "text/plain": [
              "     a    a  a\n",
              "(x⋅y)  = x ⋅y "
            ],
            "text/latex": "$\\displaystyle \\left(x y\\right)^{a} = x^{a} y^{a}$"
          },
          "metadata": {},
          "execution_count": 134
        }
      ]
    },
    {
      "cell_type": "code",
      "source": [
        "a, b, c, x, y = symbols('a, b, c, x, y', real=True)\n",
        "c = symbols('c', integer=True)\n",
        "Eq((x**a)**b, (x**a)**c)"
      ],
      "metadata": {
        "colab": {
          "base_uri": "https://localhost:8080/",
          "height": 40
        },
        "id": "i-3thwmm4g1y",
        "outputId": "07edf63e-4cc7-412c-e883-ffca9131967d"
      },
      "execution_count": null,
      "outputs": [
        {
          "output_type": "execute_result",
          "data": {
            "text/plain": [
              "    b       \n",
              "⎛ a⎞     a⋅c\n",
              "⎝x ⎠  = x   "
            ],
            "text/latex": "$\\displaystyle \\left(x^{a}\\right)^{b} = x^{a c}$"
          },
          "metadata": {},
          "execution_count": 136
        }
      ]
    },
    {
      "cell_type": "code",
      "source": [
        "a, b, c, x, y = symbols('a, b, c, x, y', real=True)\n",
        "x, y = symbols('x, y', positive=True)\n",
        "Eq(sqrt(a*b), sqrt(x*y))"
      ],
      "metadata": {
        "colab": {
          "base_uri": "https://localhost:8080/",
          "height": 39
        },
        "id": "4cOqdAkt3Vj5",
        "outputId": "cb735084-f908-484e-84d6-6316a104118c"
      },
      "execution_count": null,
      "outputs": [
        {
          "output_type": "execute_result",
          "data": {
            "text/plain": [
              "  _____        \n",
              "╲╱ a⋅b  = √x⋅√y"
            ],
            "text/latex": "$\\displaystyle \\sqrt{a b} = \\sqrt{x} \\sqrt{y}$"
          },
          "metadata": {},
          "execution_count": 140
        }
      ]
    },
    {
      "cell_type": "code",
      "source": [],
      "metadata": {
        "id": "8vZysXgO9b7y"
      },
      "execution_count": null,
      "outputs": []
    }
  ]
}