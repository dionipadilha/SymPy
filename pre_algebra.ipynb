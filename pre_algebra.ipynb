{
  "nbformat": 4,
  "nbformat_minor": 0,
  "metadata": {
    "colab": {
      "provenance": [],
      "authorship_tag": "ABX9TyPOHFIPd9f1gR76lw1ZD3BF",
      "include_colab_link": true
    },
    "kernelspec": {
      "name": "python3",
      "display_name": "Python 3"
    },
    "language_info": {
      "name": "python"
    }
  },
  "cells": [
    {
      "cell_type": "markdown",
      "metadata": {
        "id": "view-in-github",
        "colab_type": "text"
      },
      "source": [
        "<a href=\"https://colab.research.google.com/github/dionipadilha/sympy/blob/main/pre_algebra.ipynb\" target=\"_parent\"><img src=\"https://colab.research.google.com/assets/colab-badge.svg\" alt=\"Open In Colab\"/></a>"
      ]
    },
    {
      "cell_type": "markdown",
      "source": [
        "# Pre Algebra"
      ],
      "metadata": {
        "id": "nY9FGiqHJFFs"
      }
    },
    {
      "cell_type": "code",
      "source": [],
      "metadata": {
        "id": "g6yOTHf7gDnj"
      },
      "execution_count": null,
      "outputs": []
    },
    {
      "cell_type": "code",
      "execution_count": null,
      "metadata": {
        "id": "CTsQP7FPIpUM"
      },
      "outputs": [],
      "source": [
        "from sympy import *\n",
        "init_printing()\n",
        "a, x = symbols('a, x')"
      ]
    },
    {
      "cell_type": "markdown",
      "source": [
        "## Order of Operations"
      ],
      "metadata": {
        "id": "uoRJBUTuN1B8"
      }
    },
    {
      "cell_type": "markdown",
      "source": [
        "Solve algebra problems following PEMDAS order step-by-step"
      ],
      "metadata": {
        "id": "X6VFHn_sOz1y"
      }
    },
    {
      "cell_type": "code",
      "source": [
        "3 + 4 - 5 * 6"
      ],
      "metadata": {
        "colab": {
          "base_uri": "https://localhost:8080/",
          "height": 38
        },
        "id": "skff96DGN4p5",
        "outputId": "493f0f2c-3009-47c6-c8be-3583785fb7e0"
      },
      "execution_count": null,
      "outputs": [
        {
          "output_type": "execute_result",
          "data": {
            "text/plain": [
              "-23"
            ],
            "text/latex": "$\\displaystyle -23$"
          },
          "metadata": {},
          "execution_count": 2
        }
      ]
    },
    {
      "cell_type": "code",
      "source": [
        "4 + 3 - 2 * 6*(6-9)"
      ],
      "metadata": {
        "colab": {
          "base_uri": "https://localhost:8080/",
          "height": 38
        },
        "id": "4tsy9oeIN-10",
        "outputId": "997f75db-58dc-4873-fb0d-0438f05ac52f"
      },
      "execution_count": null,
      "outputs": [
        {
          "output_type": "execute_result",
          "data": {
            "text/plain": [
              "43"
            ],
            "text/latex": "$\\displaystyle 43$"
          },
          "metadata": {},
          "execution_count": 3
        }
      ]
    },
    {
      "cell_type": "code",
      "source": [
        "3*(1 + 2)**2 / 9 - 12*(1 + (3-2)**3)**2"
      ],
      "metadata": {
        "colab": {
          "base_uri": "https://localhost:8080/",
          "height": 38
        },
        "id": "vvQaWThyOLu7",
        "outputId": "75e24637-b6c5-48b2-886d-677d3bdd244d"
      },
      "execution_count": null,
      "outputs": [
        {
          "output_type": "execute_result",
          "data": {
            "text/plain": [
              "-45.0"
            ],
            "text/latex": "$\\displaystyle -45.0$"
          },
          "metadata": {},
          "execution_count": 4
        }
      ]
    },
    {
      "cell_type": "code",
      "source": [
        "3 + 4 / 2 - 5"
      ],
      "metadata": {
        "colab": {
          "base_uri": "https://localhost:8080/",
          "height": 38
        },
        "id": "F1XCozofOf_1",
        "outputId": "7d3a06a2-ca1e-4364-a0d2-f78c86c2a8f0"
      },
      "execution_count": null,
      "outputs": [
        {
          "output_type": "execute_result",
          "data": {
            "text/plain": [
              "0.0"
            ],
            "text/latex": "$\\displaystyle 0.0$"
          },
          "metadata": {},
          "execution_count": 5
        }
      ]
    },
    {
      "cell_type": "code",
      "source": [
        "(1 + 6 / 3)/(6 - 5)"
      ],
      "metadata": {
        "colab": {
          "base_uri": "https://localhost:8080/",
          "height": 38
        },
        "id": "yH-f34UpOqUH",
        "outputId": "8e5798b0-0d9a-42bf-8d82-9c1d22d1ff69"
      },
      "execution_count": null,
      "outputs": [
        {
          "output_type": "execute_result",
          "data": {
            "text/plain": [
              "3.0"
            ],
            "text/latex": "$\\displaystyle 3.0$"
          },
          "metadata": {},
          "execution_count": 6
        }
      ]
    },
    {
      "cell_type": "markdown",
      "source": [
        "## Decimals"
      ],
      "metadata": {
        "id": "u86NfdvML8nW"
      }
    },
    {
      "cell_type": "markdown",
      "source": [
        "Add, subtract and multiply decimals step-by-step"
      ],
      "metadata": {
        "id": "l1hmMdhKPFYE"
      }
    },
    {
      "cell_type": "code",
      "source": [
        "6.017 + 12.31"
      ],
      "metadata": {
        "colab": {
          "base_uri": "https://localhost:8080/",
          "height": 38
        },
        "id": "EACzWR2GLq1X",
        "outputId": "53064f36-0feb-4215-8b6c-64d9b1d480e1"
      },
      "execution_count": null,
      "outputs": [
        {
          "output_type": "execute_result",
          "data": {
            "text/plain": [
              "18.327"
            ],
            "text/latex": "$\\displaystyle 18.327$"
          },
          "metadata": {},
          "execution_count": 7
        }
      ]
    },
    {
      "cell_type": "code",
      "source": [
        "1.5 + 2.45"
      ],
      "metadata": {
        "colab": {
          "base_uri": "https://localhost:8080/",
          "height": 38
        },
        "id": "XSAJ6qlPNCLh",
        "outputId": "5d6b41b6-f337-4bea-c289-04d5f1ec773d"
      },
      "execution_count": null,
      "outputs": [
        {
          "output_type": "execute_result",
          "data": {
            "text/plain": [
              "3.95"
            ],
            "text/latex": "$\\displaystyle 3.95$"
          },
          "metadata": {},
          "execution_count": 8
        }
      ]
    },
    {
      "cell_type": "code",
      "source": [
        "1.21 + 0.03"
      ],
      "metadata": {
        "colab": {
          "base_uri": "https://localhost:8080/",
          "height": 38
        },
        "id": "U1wn0BFhNNaJ",
        "outputId": "d39828b3-f2b7-4071-98a5-b1c468ef11ab"
      },
      "execution_count": null,
      "outputs": [
        {
          "output_type": "execute_result",
          "data": {
            "text/plain": [
              "1.24"
            ],
            "text/latex": "$\\displaystyle 1.24$"
          },
          "metadata": {},
          "execution_count": 9
        }
      ]
    },
    {
      "cell_type": "code",
      "source": [
        "4 - 2.55"
      ],
      "metadata": {
        "colab": {
          "base_uri": "https://localhost:8080/",
          "height": 38
        },
        "id": "D1te4bP4NQpg",
        "outputId": "55135a67-0779-4066-c943-57cf89f7a8da"
      },
      "execution_count": null,
      "outputs": [
        {
          "output_type": "execute_result",
          "data": {
            "text/plain": [
              "1.4500000000000002"
            ],
            "text/latex": "$\\displaystyle 1.45$"
          },
          "metadata": {},
          "execution_count": 10
        }
      ]
    },
    {
      "cell_type": "code",
      "source": [
        "0.25 * 0.2"
      ],
      "metadata": {
        "colab": {
          "base_uri": "https://localhost:8080/",
          "height": 38
        },
        "id": "TAMp6FnpNTTx",
        "outputId": "7d749346-8e5b-4878-ac09-487ee355f9f1"
      },
      "execution_count": null,
      "outputs": [
        {
          "output_type": "execute_result",
          "data": {
            "text/plain": [
              "0.05"
            ],
            "text/latex": "$\\displaystyle 0.05$"
          },
          "metadata": {},
          "execution_count": 11
        }
      ]
    },
    {
      "cell_type": "code",
      "source": [
        "102 * 0.22"
      ],
      "metadata": {
        "colab": {
          "base_uri": "https://localhost:8080/",
          "height": 38
        },
        "id": "An4LkolANWH5",
        "outputId": "930a6721-0835-4397-87b7-1d22dcf7bae6"
      },
      "execution_count": null,
      "outputs": [
        {
          "output_type": "execute_result",
          "data": {
            "text/plain": [
              "22.44"
            ],
            "text/latex": "$\\displaystyle 22.44$"
          },
          "metadata": {},
          "execution_count": 12
        }
      ]
    },
    {
      "cell_type": "code",
      "source": [
        "12.3 / 0.3"
      ],
      "metadata": {
        "colab": {
          "base_uri": "https://localhost:8080/",
          "height": 38
        },
        "id": "jd4igcPxNcJZ",
        "outputId": "baaa1055-20d3-4f44-aa3e-54610b54450b"
      },
      "execution_count": null,
      "outputs": [
        {
          "output_type": "execute_result",
          "data": {
            "text/plain": [
              "41.00000000000001"
            ],
            "text/latex": "$\\displaystyle 41.0$"
          },
          "metadata": {},
          "execution_count": 13
        }
      ]
    },
    {
      "cell_type": "code",
      "source": [
        "1.25 / 5"
      ],
      "metadata": {
        "colab": {
          "base_uri": "https://localhost:8080/",
          "height": 38
        },
        "id": "YkzHaECiNfQJ",
        "outputId": "f43383a1-4295-49ae-e36a-d9c51c4e616c"
      },
      "execution_count": null,
      "outputs": [
        {
          "output_type": "execute_result",
          "data": {
            "text/plain": [
              "0.25"
            ],
            "text/latex": "$\\displaystyle 0.25$"
          },
          "metadata": {},
          "execution_count": 14
        }
      ]
    },
    {
      "cell_type": "code",
      "source": [],
      "metadata": {
        "id": "MQ9h4uHSNhv5"
      },
      "execution_count": null,
      "outputs": []
    },
    {
      "cell_type": "markdown",
      "source": [
        "## Modulo"
      ],
      "metadata": {
        "id": "ZWKqD0_wPPmZ"
      }
    },
    {
      "cell_type": "markdown",
      "source": [
        "Find module of a division operation between two numbers"
      ],
      "metadata": {
        "id": "RLqJaFQkPQMJ"
      }
    },
    {
      "cell_type": "code",
      "source": [
        "14 % 3"
      ],
      "metadata": {
        "colab": {
          "base_uri": "https://localhost:8080/",
          "height": 38
        },
        "id": "sq3l5znlPVQ9",
        "outputId": "d5b02991-06ad-4485-a95e-20d332c74f59"
      },
      "execution_count": null,
      "outputs": [
        {
          "output_type": "execute_result",
          "data": {
            "text/plain": [
              "2"
            ],
            "text/latex": "$\\displaystyle 2$"
          },
          "metadata": {},
          "execution_count": 15
        }
      ]
    },
    {
      "cell_type": "code",
      "source": [
        "(11 + 7) % 4"
      ],
      "metadata": {
        "colab": {
          "base_uri": "https://localhost:8080/",
          "height": 38
        },
        "id": "v_M4WK04PrUo",
        "outputId": "3e3bf134-d625-4d38-d68c-89906d2b54c2"
      },
      "execution_count": null,
      "outputs": [
        {
          "output_type": "execute_result",
          "data": {
            "text/plain": [
              "2"
            ],
            "text/latex": "$\\displaystyle 2$"
          },
          "metadata": {},
          "execution_count": 16
        }
      ]
    },
    {
      "cell_type": "code",
      "source": [
        "(1682 * 1312) % 9"
      ],
      "metadata": {
        "colab": {
          "base_uri": "https://localhost:8080/",
          "height": 38
        },
        "id": "1xaOcXMOP_6p",
        "outputId": "7cd0363c-4058-4be6-8db1-a80f6a7b3be8"
      },
      "execution_count": null,
      "outputs": [
        {
          "output_type": "execute_result",
          "data": {
            "text/plain": [
              "2"
            ],
            "text/latex": "$\\displaystyle 2$"
          },
          "metadata": {},
          "execution_count": 17
        }
      ]
    },
    {
      "cell_type": "code",
      "source": [
        "-5 % 2"
      ],
      "metadata": {
        "colab": {
          "base_uri": "https://localhost:8080/",
          "height": 38
        },
        "id": "nriwP-U_QHVb",
        "outputId": "faa9cf82-a767-4bff-d6da-a532dceeadc0"
      },
      "execution_count": null,
      "outputs": [
        {
          "output_type": "execute_result",
          "data": {
            "text/plain": [
              "1"
            ],
            "text/latex": "$\\displaystyle 1$"
          },
          "metadata": {},
          "execution_count": 18
        }
      ]
    },
    {
      "cell_type": "code",
      "source": [
        "3**5 % 77"
      ],
      "metadata": {
        "colab": {
          "base_uri": "https://localhost:8080/",
          "height": 38
        },
        "id": "PIRzUYjNQb4h",
        "outputId": "17ebe08d-5bab-45a6-f1fe-33619a79477c"
      },
      "execution_count": null,
      "outputs": [
        {
          "output_type": "execute_result",
          "data": {
            "text/plain": [
              "12"
            ],
            "text/latex": "$\\displaystyle 12$"
          },
          "metadata": {},
          "execution_count": 19
        }
      ]
    },
    {
      "cell_type": "code",
      "source": [
        "19**21 % 21"
      ],
      "metadata": {
        "colab": {
          "base_uri": "https://localhost:8080/",
          "height": 38
        },
        "id": "tY0DZ8RYQn-5",
        "outputId": "2b8f38c8-2c97-45b6-8642-decd2d89fc6a"
      },
      "execution_count": null,
      "outputs": [
        {
          "output_type": "execute_result",
          "data": {
            "text/plain": [
              "13"
            ],
            "text/latex": "$\\displaystyle 13$"
          },
          "metadata": {},
          "execution_count": 20
        }
      ]
    },
    {
      "cell_type": "markdown",
      "source": [
        "## Factors & Primes"
      ],
      "metadata": {
        "id": "F0TKffH9Q68z"
      }
    },
    {
      "cell_type": "markdown",
      "source": [
        "Find prime factorization, factors, lcm, gcf and divisibility step-by-step"
      ],
      "metadata": {
        "id": "uxI2xse9Q4S3"
      }
    },
    {
      "cell_type": "code",
      "source": [
        "primefactors(45)"
      ],
      "metadata": {
        "colab": {
          "base_uri": "https://localhost:8080/",
          "height": 38
        },
        "id": "B7bCbwyVRZxg",
        "outputId": "6a73cf4b-8d84-415a-e3fe-00ae9d34c20c"
      },
      "execution_count": null,
      "outputs": [
        {
          "output_type": "execute_result",
          "data": {
            "text/plain": [
              "[3, 5]"
            ],
            "text/latex": "$\\displaystyle \\left[ 3, \\  5\\right]$"
          },
          "metadata": {},
          "execution_count": 21
        }
      ]
    },
    {
      "cell_type": "code",
      "source": [
        "factorint(45)"
      ],
      "metadata": {
        "colab": {
          "base_uri": "https://localhost:8080/",
          "height": 38
        },
        "id": "7JTYueQDRBQ8",
        "outputId": "2fd69ea7-eceb-4721-9c64-030a33378ed1"
      },
      "execution_count": null,
      "outputs": [
        {
          "output_type": "execute_result",
          "data": {
            "text/plain": [
              "{3: 2, 5: 1}"
            ],
            "text/latex": "$\\displaystyle \\left\\{ 3 : 2, \\  5 : 1\\right\\}$"
          },
          "metadata": {},
          "execution_count": 22
        }
      ]
    },
    {
      "cell_type": "code",
      "source": [
        "lcm(6, 12)"
      ],
      "metadata": {
        "colab": {
          "base_uri": "https://localhost:8080/",
          "height": 38
        },
        "id": "dtUX-xDkR9Fk",
        "outputId": "3d0384f1-102b-4bc9-d845-e7f03acc3269"
      },
      "execution_count": null,
      "outputs": [
        {
          "output_type": "execute_result",
          "data": {
            "text/plain": [
              "12"
            ],
            "text/latex": "$\\displaystyle 12$"
          },
          "metadata": {},
          "execution_count": 23
        }
      ]
    },
    {
      "cell_type": "code",
      "source": [
        "gcd(18, 24)"
      ],
      "metadata": {
        "colab": {
          "base_uri": "https://localhost:8080/",
          "height": 38
        },
        "id": "Uq1_-BIzSF0X",
        "outputId": "f8faca41-a72e-48b9-dae5-c0a9e7c46376"
      },
      "execution_count": null,
      "outputs": [
        {
          "output_type": "execute_result",
          "data": {
            "text/plain": [
              "6"
            ],
            "text/latex": "$\\displaystyle 6$"
          },
          "metadata": {},
          "execution_count": 24
        }
      ]
    },
    {
      "cell_type": "markdown",
      "source": [
        "## Exponents & Radicals"
      ],
      "metadata": {
        "id": "KhHAkjykSPtG"
      }
    },
    {
      "cell_type": "markdown",
      "source": [
        "Apply exponent and radicals rules to multiply divide and simplify exponents and radicals step-by-step"
      ],
      "metadata": {
        "id": "gOW5QJjVSPdI"
      }
    },
    {
      "cell_type": "code",
      "source": [
        "4**2 * 4**2"
      ],
      "metadata": {
        "colab": {
          "base_uri": "https://localhost:8080/",
          "height": 38
        },
        "id": "pfWrgAAgSYeV",
        "outputId": "3331dc12-c541-4bd4-fa8c-c3da6db1098c"
      },
      "execution_count": null,
      "outputs": [
        {
          "output_type": "execute_result",
          "data": {
            "text/plain": [
              "256"
            ],
            "text/latex": "$\\displaystyle 256$"
          },
          "metadata": {},
          "execution_count": 25
        }
      ]
    },
    {
      "cell_type": "code",
      "source": [
        "(3*a**2)**3"
      ],
      "metadata": {
        "colab": {
          "base_uri": "https://localhost:8080/",
          "height": 38
        },
        "id": "6dLEYoWYSd2f",
        "outputId": "e636252e-e311-4437-c25f-0dffd1ee5362"
      },
      "execution_count": null,
      "outputs": [
        {
          "output_type": "execute_result",
          "data": {
            "text/plain": [
              "    6\n",
              "27⋅a "
            ],
            "text/latex": "$\\displaystyle 27 a^{6}$"
          },
          "metadata": {},
          "execution_count": 26
        }
      ]
    },
    {
      "cell_type": "code",
      "source": [
        "S(2)**2/2**3"
      ],
      "metadata": {
        "colab": {
          "base_uri": "https://localhost:8080/",
          "height": 51
        },
        "id": "X5-U5euYStC7",
        "outputId": "90b0379d-2cfb-40d9-ae2c-03c759c90265"
      },
      "execution_count": null,
      "outputs": [
        {
          "output_type": "execute_result",
          "data": {
            "text/plain": [
              "1/2"
            ],
            "text/latex": "$\\displaystyle \\frac{1}{2}$"
          },
          "metadata": {},
          "execution_count": 27
        }
      ]
    },
    {
      "cell_type": "code",
      "source": [
        "sqrt(64)"
      ],
      "metadata": {
        "colab": {
          "base_uri": "https://localhost:8080/",
          "height": 38
        },
        "id": "bvgoJ2CCS52x",
        "outputId": "d1504af1-fccd-44e7-a4aa-d16db5774285"
      },
      "execution_count": null,
      "outputs": [
        {
          "output_type": "execute_result",
          "data": {
            "text/plain": [
              "8"
            ],
            "text/latex": "$\\displaystyle 8$"
          },
          "metadata": {},
          "execution_count": 28
        }
      ]
    },
    {
      "cell_type": "markdown",
      "source": [
        "## Mean, Median & Mode (*)"
      ],
      "metadata": {
        "id": "8KwjvbfjS_G4"
      }
    },
    {
      "cell_type": "markdown",
      "source": [
        "Find Mean, Median & Mode step-by-step"
      ],
      "metadata": {
        "id": "0LjWHy-CS-4l"
      }
    },
    {
      "cell_type": "markdown",
      "source": [
        "## Fractions"
      ],
      "metadata": {
        "id": "bJk-14noJNoL"
      }
    },
    {
      "cell_type": "markdown",
      "source": [],
      "metadata": {
        "id": "I2A9cH2lPJ_u"
      }
    },
    {
      "cell_type": "code",
      "source": [
        "Rational(4,8)"
      ],
      "metadata": {
        "colab": {
          "base_uri": "https://localhost:8080/",
          "height": 51
        },
        "id": "j749viyIJNHC",
        "outputId": "ed462156-a0cd-4097-f970-94e1f631a1c1"
      },
      "execution_count": null,
      "outputs": [
        {
          "output_type": "execute_result",
          "data": {
            "text/plain": [
              "1/2"
            ],
            "text/latex": "$\\displaystyle \\frac{1}{2}$"
          },
          "metadata": {},
          "execution_count": 29
        }
      ]
    },
    {
      "cell_type": "code",
      "source": [
        "Rational(1,2) + Rational(1,4) + Rational(3,4)"
      ],
      "metadata": {
        "colab": {
          "base_uri": "https://localhost:8080/",
          "height": 51
        },
        "id": "4ElcpHSUIwH7",
        "outputId": "a3319074-d29b-4f72-8b17-c965048a41fd"
      },
      "execution_count": null,
      "outputs": [
        {
          "output_type": "execute_result",
          "data": {
            "text/plain": [
              "3/2"
            ],
            "text/latex": "$\\displaystyle \\frac{3}{2}$"
          },
          "metadata": {},
          "execution_count": 30
        }
      ]
    },
    {
      "cell_type": "code",
      "source": [
        "Rational(1,2) * Rational(8,7)"
      ],
      "metadata": {
        "colab": {
          "base_uri": "https://localhost:8080/",
          "height": 51
        },
        "id": "aeC2eRuTJyNr",
        "outputId": "b93c62dc-9fd8-4b00-a7d0-a77a1dc7fa16"
      },
      "execution_count": null,
      "outputs": [
        {
          "output_type": "execute_result",
          "data": {
            "text/plain": [
              "4/7"
            ],
            "text/latex": "$\\displaystyle \\frac{4}{7}$"
          },
          "metadata": {},
          "execution_count": 31
        }
      ]
    },
    {
      "cell_type": "code",
      "source": [
        "Rational(-1,5) / Rational(7,4)"
      ],
      "metadata": {
        "colab": {
          "base_uri": "https://localhost:8080/",
          "height": 51
        },
        "id": "ldpIe0z9J_gD",
        "outputId": "6f40abef-0083-45db-a38d-e233953c3548"
      },
      "execution_count": null,
      "outputs": [
        {
          "output_type": "execute_result",
          "data": {
            "text/plain": [
              "-4/35"
            ],
            "text/latex": "$\\displaystyle - \\frac{4}{35}$"
          },
          "metadata": {},
          "execution_count": 32
        }
      ]
    },
    {
      "cell_type": "code",
      "source": [
        "Rational(3,6) > Rational(7,2)"
      ],
      "metadata": {
        "colab": {
          "base_uri": "https://localhost:8080/",
          "height": 38
        },
        "id": "DjRZfCFhKMjE",
        "outputId": "d12f594c-021c-4cde-cd7a-5883c9153d33"
      },
      "execution_count": null,
      "outputs": [
        {
          "output_type": "execute_result",
          "data": {
            "text/plain": [
              "False"
            ],
            "text/latex": "$\\displaystyle \\text{False}$"
          },
          "metadata": {},
          "execution_count": 33
        }
      ]
    },
    {
      "cell_type": "code",
      "source": [
        "nsimplify(0.35)"
      ],
      "metadata": {
        "colab": {
          "base_uri": "https://localhost:8080/",
          "height": 51
        },
        "id": "GlQNlMzNKaeE",
        "outputId": "972bfe0f-c106-401f-fd94-3cd73459c9a0"
      },
      "execution_count": null,
      "outputs": [
        {
          "output_type": "execute_result",
          "data": {
            "text/plain": [
              "7/20"
            ],
            "text/latex": "$\\displaystyle \\frac{7}{20}$"
          },
          "metadata": {},
          "execution_count": 34
        }
      ]
    },
    {
      "cell_type": "markdown",
      "source": [
        "## Ratios & Proportions"
      ],
      "metadata": {
        "id": "optmSbZaVF_c"
      }
    },
    {
      "cell_type": "markdown",
      "source": [
        "Compare ratios, convert ratios to fractions and find unknowns step-by-step"
      ],
      "metadata": {
        "id": "MlSL1ifgVNip"
      }
    },
    {
      "cell_type": "code",
      "source": [
        "5/1 == 10/2"
      ],
      "metadata": {
        "colab": {
          "base_uri": "https://localhost:8080/"
        },
        "id": "b2w8WbS8VRyT",
        "outputId": "3ddfe51a-e1f5-400f-cdcc-feadf1d142f1"
      },
      "execution_count": null,
      "outputs": [
        {
          "output_type": "execute_result",
          "data": {
            "text/plain": [
              "True"
            ]
          },
          "metadata": {},
          "execution_count": 35
        }
      ]
    },
    {
      "cell_type": "code",
      "source": [
        "3/2 < 8/4"
      ],
      "metadata": {
        "colab": {
          "base_uri": "https://localhost:8080/"
        },
        "id": "8G0SREkcVW5O",
        "outputId": "e432e28f-67ab-41ab-e2d9-59e995b51cab"
      },
      "execution_count": null,
      "outputs": [
        {
          "output_type": "execute_result",
          "data": {
            "text/plain": [
              "True"
            ]
          },
          "metadata": {},
          "execution_count": 36
        }
      ]
    },
    {
      "cell_type": "code",
      "source": [
        "S(2)/8"
      ],
      "metadata": {
        "colab": {
          "base_uri": "https://localhost:8080/",
          "height": 51
        },
        "id": "5ImIi_CjViZ_",
        "outputId": "eff0e5c9-f753-4ce4-e5da-753ba818df1b"
      },
      "execution_count": null,
      "outputs": [
        {
          "output_type": "execute_result",
          "data": {
            "text/plain": [
              "1/4"
            ],
            "text/latex": "$\\displaystyle \\frac{1}{4}$"
          },
          "metadata": {},
          "execution_count": 37
        }
      ]
    },
    {
      "cell_type": "code",
      "source": [
        "solveset(Eq(3/x, Rational(2,7)), x)"
      ],
      "metadata": {
        "colab": {
          "base_uri": "https://localhost:8080/",
          "height": 58
        },
        "id": "3zECO3wxVoZv",
        "outputId": "156b39ad-5b10-40cf-89ae-16abd5ce0f5b"
      },
      "execution_count": null,
      "outputs": [
        {
          "output_type": "execute_result",
          "data": {
            "text/plain": [
              "{21/2}"
            ],
            "text/latex": "$\\displaystyle \\left\\{\\frac{21}{2}\\right\\}$"
          },
          "metadata": {},
          "execution_count": 38
        }
      ]
    },
    {
      "cell_type": "markdown",
      "source": [
        "## Scientific"
      ],
      "metadata": {
        "id": "yhtmqLm3XRAn"
      }
    },
    {
      "cell_type": "markdown",
      "source": [
        "Operate simple arithmetics with scientific notations"
      ],
      "metadata": {
        "id": "73UyyQWiXQzh"
      }
    },
    {
      "cell_type": "code",
      "source": [
        "1e3"
      ],
      "metadata": {
        "colab": {
          "base_uri": "https://localhost:8080/",
          "height": 38
        },
        "id": "Q6Tw4n91fBHl",
        "outputId": "7fc645c7-d872-4c1e-e867-9ccc1236dd37"
      },
      "execution_count": null,
      "outputs": [
        {
          "output_type": "execute_result",
          "data": {
            "text/plain": [
              "1000.0"
            ],
            "text/latex": "$\\displaystyle 1000.0$"
          },
          "metadata": {},
          "execution_count": 39
        }
      ]
    },
    {
      "cell_type": "code",
      "source": [
        "N(1e3, 1)"
      ],
      "metadata": {
        "colab": {
          "base_uri": "https://localhost:8080/",
          "height": 38
        },
        "id": "L-oys1ewfGV_",
        "outputId": "428f14e5-fd6d-4987-8268-1085ddc07836"
      },
      "execution_count": null,
      "outputs": [
        {
          "output_type": "execute_result",
          "data": {
            "text/plain": [
              "1.0e+3"
            ],
            "text/latex": "$\\displaystyle 1.0 \\cdot 10^{3}$"
          },
          "metadata": {},
          "execution_count": 40
        }
      ]
    },
    {
      "cell_type": "code",
      "source": [
        "N(1e3 * 1e2, 1)"
      ],
      "metadata": {
        "colab": {
          "base_uri": "https://localhost:8080/",
          "height": 38
        },
        "id": "qh9zWZyUfQX_",
        "outputId": "8d77470a-1b38-40f4-f582-44b8b85f772a"
      },
      "execution_count": null,
      "outputs": [
        {
          "output_type": "execute_result",
          "data": {
            "text/plain": [
              "1.0e+5"
            ],
            "text/latex": "$\\displaystyle 1.0 \\cdot 10^{5}$"
          },
          "metadata": {},
          "execution_count": 41
        }
      ]
    },
    {
      "cell_type": "code",
      "source": [
        "N(689.6*10**10, 5)"
      ],
      "metadata": {
        "colab": {
          "base_uri": "https://localhost:8080/",
          "height": 38
        },
        "id": "XSfi4FQCW3IB",
        "outputId": "e5f55f70-212a-451e-c362-891771177eda"
      },
      "execution_count": null,
      "outputs": [
        {
          "output_type": "execute_result",
          "data": {
            "text/plain": [
              "6.8960e+12"
            ],
            "text/latex": "$\\displaystyle 6.896 \\cdot 10^{12}$"
          },
          "metadata": {},
          "execution_count": 42
        }
      ]
    },
    {
      "cell_type": "code",
      "source": [
        "N((5.1 * 105) * (9.7 * 105), 5)"
      ],
      "metadata": {
        "colab": {
          "base_uri": "https://localhost:8080/",
          "height": 38
        },
        "id": "Y7ZWO5BNYABL",
        "outputId": "5fc4568b-4d8e-4783-9b3e-c1097197229b"
      },
      "execution_count": null,
      "outputs": [
        {
          "output_type": "execute_result",
          "data": {
            "text/plain": [
              "5.4541e+5"
            ],
            "text/latex": "$\\displaystyle 5.4541 \\cdot 10^{5}$"
          },
          "metadata": {},
          "execution_count": 43
        }
      ]
    },
    {
      "cell_type": "code",
      "source": [
        "N((2.1*10**4+3.02*10**5)-8.103*10**5, 5)"
      ],
      "metadata": {
        "colab": {
          "base_uri": "https://localhost:8080/",
          "height": 38
        },
        "id": "oF98zvehdI8e",
        "outputId": "b63dca9b-cf51-4ada-bef0-df9f8118f889"
      },
      "execution_count": null,
      "outputs": [
        {
          "output_type": "execute_result",
          "data": {
            "text/plain": [
              "-4.8730e+5"
            ],
            "text/latex": "$\\displaystyle -4.873 \\cdot 10^{5}$"
          },
          "metadata": {},
          "execution_count": 44
        }
      ]
    }
  ]
}