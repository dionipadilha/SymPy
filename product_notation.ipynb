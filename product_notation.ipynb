{
  "nbformat": 4,
  "nbformat_minor": 0,
  "metadata": {
    "colab": {
      "provenance": [],
      "authorship_tag": "ABX9TyOF9lY7W8lEESzh6SbxQBgy",
      "include_colab_link": true
    },
    "kernelspec": {
      "name": "python3",
      "display_name": "Python 3"
    },
    "language_info": {
      "name": "python"
    }
  },
  "cells": [
    {
      "cell_type": "markdown",
      "metadata": {
        "id": "view-in-github",
        "colab_type": "text"
      },
      "source": [
        "<a href=\"https://colab.research.google.com/github/dionipadilha/sympy/blob/main/product_notation.ipynb\" target=\"_parent\"><img src=\"https://colab.research.google.com/assets/colab-badge.svg\" alt=\"Open In Colab\"/></a>"
      ]
    },
    {
      "cell_type": "markdown",
      "source": [
        "# Product Notation"
      ],
      "metadata": {
        "id": "MV4MY_VTNtTJ"
      }
    },
    {
      "cell_type": "code",
      "execution_count": null,
      "metadata": {
        "id": "Gq_dt2wcNlW6"
      },
      "outputs": [],
      "source": [
        "from sympy import *\n",
        "init_printing()\n",
        "x = symbols('x')\n",
        "n = symbols('n', intenger=True)"
      ]
    },
    {
      "cell_type": "code",
      "source": [
        "product(n, (n, 1, 5))"
      ],
      "metadata": {
        "colab": {
          "base_uri": "https://localhost:8080/",
          "height": 38
        },
        "id": "8d-h9VOeNm19",
        "outputId": "6035d6e4-f62b-4593-b786-7726d606cddd"
      },
      "execution_count": null,
      "outputs": [
        {
          "output_type": "execute_result",
          "data": {
            "text/plain": [
              "120"
            ],
            "text/latex": "$\\displaystyle 120$"
          },
          "metadata": {},
          "execution_count": 2
        }
      ]
    },
    {
      "cell_type": "code",
      "source": [
        "expr = Product(n, (n, 1, 5))\n",
        "Eq(expr, expr.doit())"
      ],
      "metadata": {
        "colab": {
          "base_uri": "https://localhost:8080/",
          "height": 69
        },
        "id": "BIeFHlXEODvF",
        "outputId": "3caefb90-e8d5-42d6-f674-97322b6fd714"
      },
      "execution_count": null,
      "outputs": [
        {
          "output_type": "execute_result",
          "data": {
            "text/plain": [
              "  5          \n",
              "─┬─┬─        \n",
              " │ │  n = 120\n",
              " │ │         \n",
              "n = 1        "
            ],
            "text/latex": "$\\displaystyle \\prod_{n=1}^{5} n = 120$"
          },
          "metadata": {},
          "execution_count": 3
        }
      ]
    },
    {
      "cell_type": "code",
      "source": [
        "expr = product(UnevaluatedExpr(n), (n, 1, 5))\n",
        "Eq(expr, expr.doit())"
      ],
      "metadata": {
        "colab": {
          "base_uri": "https://localhost:8080/",
          "height": 38
        },
        "id": "8spbuJ18N4k9",
        "outputId": "b32e2946-94ca-4e93-f19b-4e09efa4bc23"
      },
      "execution_count": null,
      "outputs": [
        {
          "output_type": "execute_result",
          "data": {
            "text/plain": [
              "1⋅2⋅3⋅4⋅5 = 120"
            ],
            "text/latex": "$\\displaystyle 1 \\cdot 2 \\cdot 3 \\cdot 4 \\cdot 5 = 120$"
          },
          "metadata": {},
          "execution_count": 4
        }
      ]
    },
    {
      "cell_type": "code",
      "source": [
        "expr = product(UnevaluatedExpr(n) + 5, (n, 0, 5))\n",
        "Eq(expr, expr.doit())"
      ],
      "metadata": {
        "colab": {
          "base_uri": "https://localhost:8080/",
          "height": 38
        },
        "id": "hHpKcEmnOVa1",
        "outputId": "2b7c1461-ecd2-4ae6-8d7b-71f8cb6940c8"
      },
      "execution_count": null,
      "outputs": [
        {
          "output_type": "execute_result",
          "data": {
            "text/plain": [
              "(5 + 0)⋅(5 + 1)⋅(5 + 2)⋅(5 + 3)⋅(5 + 4)⋅(5 + 5) = 151200"
            ],
            "text/latex": "$\\displaystyle \\left(5 + 0\\right) \\left(5 + 1\\right) \\left(5 + 2\\right) \\left(5 + 3\\right) \\left(5 + 4\\right) \\left(5 + 5\\right) = 151200$"
          },
          "metadata": {},
          "execution_count": 5
        }
      ]
    },
    {
      "cell_type": "code",
      "source": [
        "expr = Product((n*(n+2))/((n-1)*(n+1)), (n, 2, 4))\n",
        "Eq(expr, expr.doit())"
      ],
      "metadata": {
        "colab": {
          "base_uri": "https://localhost:8080/",
          "height": 69
        },
        "id": "AHxYw-gWONdd",
        "outputId": "f9898063-cde3-44de-bd18-0f075d5ff746"
      },
      "execution_count": null,
      "outputs": [
        {
          "output_type": "execute_result",
          "data": {
            "text/plain": [
              "   4                        \n",
              "─┬────┬─                    \n",
              " │    │     n⋅(n + 2)       \n",
              " │    │  ─────────────── = 8\n",
              " │    │  (n - 1)⋅(n + 1)    \n",
              " │    │                     \n",
              " n = 2                      "
            ],
            "text/latex": "$\\displaystyle \\prod_{n=2}^{4} \\frac{n \\left(n + 2\\right)}{\\left(n - 1\\right) \\left(n + 1\\right)} = 8$"
          },
          "metadata": {},
          "execution_count": 6
        }
      ]
    },
    {
      "cell_type": "code",
      "source": [
        "expr = Product( x+4, (n, 1, 4))\n",
        "Eq(expr, expr.doit().expand())"
      ],
      "metadata": {
        "colab": {
          "base_uri": "https://localhost:8080/",
          "height": 69
        },
        "id": "RS0vuUUpO2M_",
        "outputId": "1f028c79-a66a-4b2b-a4c8-3a76ae5f410e"
      },
      "execution_count": null,
      "outputs": [
        {
          "output_type": "execute_result",
          "data": {
            "text/plain": [
              "  4                                           \n",
              "─┬─┬─          4       3       2              \n",
              " │ │  x + 4 = x  + 16⋅x  + 96⋅x  + 256⋅x + 256\n",
              " │ │                                          \n",
              "n = 1                                         "
            ],
            "text/latex": "$\\displaystyle \\prod_{n=1}^{4} \\left(x + 4\\right) = x^{4} + 16 x^{3} + 96 x^{2} + 256 x + 256$"
          },
          "metadata": {},
          "execution_count": 7
        }
      ]
    }
  ]
}