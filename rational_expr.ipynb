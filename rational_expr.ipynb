{
  "nbformat": 4,
  "nbformat_minor": 0,
  "metadata": {
    "colab": {
      "provenance": [],
      "authorship_tag": "ABX9TyPKPVk1aXQJoFTgvz4z/wkP",
      "include_colab_link": true
    },
    "kernelspec": {
      "name": "python3",
      "display_name": "Python 3"
    },
    "language_info": {
      "name": "python"
    }
  },
  "cells": [
    {
      "cell_type": "markdown",
      "metadata": {
        "id": "view-in-github",
        "colab_type": "text"
      },
      "source": [
        "<a href=\"https://colab.research.google.com/github/dionipadilha/sympy/blob/main/rational_expr.ipynb\" target=\"_parent\"><img src=\"https://colab.research.google.com/assets/colab-badge.svg\" alt=\"Open In Colab\"/></a>"
      ]
    },
    {
      "cell_type": "markdown",
      "source": [
        "# Rational Expressions"
      ],
      "metadata": {
        "id": "9WprWRQJMpd2"
      }
    },
    {
      "cell_type": "code",
      "execution_count": 1,
      "metadata": {
        "id": "qCiPjSxiMjgK"
      },
      "outputs": [],
      "source": [
        "from sympy import *\n",
        "init_printing()\n",
        "x = symbols('x')"
      ]
    },
    {
      "cell_type": "code",
      "source": [
        "(6*x/7) * (4*x/3)"
      ],
      "metadata": {
        "colab": {
          "base_uri": "https://localhost:8080/",
          "height": 54
        },
        "id": "-O8ezhDiMmpx",
        "outputId": "d6c57a44-e28d-4f49-f225-bb6a468b9f4d"
      },
      "execution_count": 2,
      "outputs": [
        {
          "output_type": "execute_result",
          "data": {
            "text/plain": [
              "   2\n",
              "8⋅x \n",
              "────\n",
              " 7  "
            ],
            "text/latex": "$\\displaystyle \\frac{8 x^{2}}{7}$"
          },
          "metadata": {},
          "execution_count": 2
        }
      ]
    },
    {
      "cell_type": "code",
      "source": [
        "(6*x/7) / (4*x/3)"
      ],
      "metadata": {
        "colab": {
          "base_uri": "https://localhost:8080/",
          "height": 51
        },
        "id": "aMR0BnGFMvnf",
        "outputId": "e7041d13-f413-408c-b062-ad7f71486df3"
      },
      "execution_count": 3,
      "outputs": [
        {
          "output_type": "execute_result",
          "data": {
            "text/plain": [
              "9/14"
            ],
            "text/latex": "$\\displaystyle \\frac{9}{14}$"
          },
          "metadata": {},
          "execution_count": 3
        }
      ]
    },
    {
      "cell_type": "code",
      "source": [
        "expr = ((x-3)/(5*x-15))\n",
        "Eq(expr, expr.simplify())"
      ],
      "metadata": {
        "colab": {
          "base_uri": "https://localhost:8080/",
          "height": 52
        },
        "id": "zf-ozWT6M52Y",
        "outputId": "14317741-7019-4a4b-e02d-b78ebf4e6eec"
      },
      "execution_count": 4,
      "outputs": [
        {
          "output_type": "execute_result",
          "data": {
            "text/plain": [
              " x - 3        \n",
              "──────── = 1/5\n",
              "5⋅x - 15      "
            ],
            "text/latex": "$\\displaystyle \\frac{x - 3}{5 x - 15} = \\frac{1}{5}$"
          },
          "metadata": {},
          "execution_count": 4
        }
      ]
    },
    {
      "cell_type": "code",
      "source": [
        "expr = (6/(x-1) + 3/(x+1))\n",
        "Eq(expr, expr.simplify())"
      ],
      "metadata": {
        "colab": {
          "base_uri": "https://localhost:8080/",
          "height": 54
        },
        "id": "6ZtLbNntNGRx",
        "outputId": "bf702146-4ff8-4d8b-c224-ae557eea3c40"
      },
      "execution_count": 5,
      "outputs": [
        {
          "output_type": "execute_result",
          "data": {
            "text/plain": [
              "  3       6     3⋅(3⋅x + 1)\n",
              "───── + ───── = ───────────\n",
              "x + 1   x - 1       2      \n",
              "                   x  - 1  "
            ],
            "text/latex": "$\\displaystyle \\frac{3}{x + 1} + \\frac{6}{x - 1} = \\frac{3 \\cdot \\left(3 x + 1\\right)}{x^{2} - 1}$"
          },
          "metadata": {},
          "execution_count": 5
        }
      ]
    },
    {
      "cell_type": "code",
      "source": [
        "Eq(expr, expr.together())"
      ],
      "metadata": {
        "colab": {
          "base_uri": "https://localhost:8080/",
          "height": 57
        },
        "id": "Gv3LBenKNIAB",
        "outputId": "083a23b6-b594-4ec8-e59e-50733dc9c100"
      },
      "execution_count": 6,
      "outputs": [
        {
          "output_type": "execute_result",
          "data": {
            "text/plain": [
              "  3       6       3⋅(3⋅x + 1)  \n",
              "───── + ───── = ───────────────\n",
              "x + 1   x - 1   (x - 1)⋅(x + 1)"
            ],
            "text/latex": "$\\displaystyle \\frac{3}{x + 1} + \\frac{6}{x - 1} = \\frac{3 \\cdot \\left(3 x + 1\\right)}{\\left(x - 1\\right) \\left(x + 1\\right)}$"
          },
          "metadata": {},
          "execution_count": 6
        }
      ]
    },
    {
      "cell_type": "code",
      "source": [
        "Eq(expr, expr.cancel())"
      ],
      "metadata": {
        "colab": {
          "base_uri": "https://localhost:8080/",
          "height": 52
        },
        "id": "JN47MjFRNJyZ",
        "outputId": "74f4701a-5e57-4964-f494-f07ec294c70c"
      },
      "execution_count": 7,
      "outputs": [
        {
          "output_type": "execute_result",
          "data": {
            "text/plain": [
              "  3       6     9⋅x + 3\n",
              "───── + ───── = ───────\n",
              "x + 1   x - 1     2    \n",
              "                 x  - 1"
            ],
            "text/latex": "$\\displaystyle \\frac{3}{x + 1} + \\frac{6}{x - 1} = \\frac{9 x + 3}{x^{2} - 1}$"
          },
          "metadata": {},
          "execution_count": 7
        }
      ]
    },
    {
      "cell_type": "code",
      "source": [
        "expr = (2/(x**2 - 36) - 1/(x**2 + 6*x))\n",
        "Eq(expr, expr.simplify())"
      ],
      "metadata": {
        "colab": {
          "base_uri": "https://localhost:8080/",
          "height": 55
        },
        "id": "V8cItL3yNLnZ",
        "outputId": "3f8924ea-00cc-4672-a281-18b446efbe62"
      },
      "execution_count": 8,
      "outputs": [
        {
          "output_type": "execute_result",
          "data": {
            "text/plain": [
              "     1          2          1    \n",
              "- ──────── + ─────── = ─────────\n",
              "   2          2        x⋅(x - 6)\n",
              "  x  + 6⋅x   x  - 36            "
            ],
            "text/latex": "$\\displaystyle - \\frac{1}{x^{2} + 6 x} + \\frac{2}{x^{2} - 36} = \\frac{1}{x \\left(x - 6\\right)}$"
          },
          "metadata": {},
          "execution_count": 8
        }
      ]
    },
    {
      "cell_type": "code",
      "source": [
        "Eq(expr, expr.together())"
      ],
      "metadata": {
        "colab": {
          "base_uri": "https://localhost:8080/",
          "height": 58
        },
        "id": "Q6Oft37TNNji",
        "outputId": "3ea577a0-4a56-450a-fbd2-7fc816893369"
      },
      "execution_count": 9,
      "outputs": [
        {
          "output_type": "execute_result",
          "data": {
            "text/plain": [
              "                          2                   \n",
              "     1          2      - x  + 2⋅x⋅(x + 6) + 36\n",
              "- ──────── + ─────── = ───────────────────────\n",
              "   2          2                    ⎛ 2     ⎞  \n",
              "  x  + 6⋅x   x  - 36     x⋅(x + 6)⋅⎝x  - 36⎠  "
            ],
            "text/latex": "$\\displaystyle - \\frac{1}{x^{2} + 6 x} + \\frac{2}{x^{2} - 36} = \\frac{- x^{2} + 2 x \\left(x + 6\\right) + 36}{x \\left(x + 6\\right) \\left(x^{2} - 36\\right)}$"
          },
          "metadata": {},
          "execution_count": 9
        }
      ]
    },
    {
      "cell_type": "code",
      "source": [
        "Eq(expr, expr.cancel())"
      ],
      "metadata": {
        "colab": {
          "base_uri": "https://localhost:8080/",
          "height": 52
        },
        "id": "iEUVbtkvNPyb",
        "outputId": "99437097-894a-452c-9a46-75c404e9642d"
      },
      "execution_count": 10,
      "outputs": [
        {
          "output_type": "execute_result",
          "data": {
            "text/plain": [
              "     1          2         1    \n",
              "- ──────── + ─────── = ────────\n",
              "   2          2         2      \n",
              "  x  + 6⋅x   x  - 36   x  - 6⋅x"
            ],
            "text/latex": "$\\displaystyle - \\frac{1}{x^{2} + 6 x} + \\frac{2}{x^{2} - 36} = \\frac{1}{x^{2} - 6 x}$"
          },
          "metadata": {},
          "execution_count": 10
        }
      ]
    }
  ]
}