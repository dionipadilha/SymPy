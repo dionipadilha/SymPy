{
  "nbformat": 4,
  "nbformat_minor": 0,
  "metadata": {
    "colab": {
      "provenance": [],
      "authorship_tag": "ABX9TyOPKYUfjNSh71CvbGIfPiGZ",
      "include_colab_link": true
    },
    "kernelspec": {
      "name": "python3",
      "display_name": "Python 3"
    },
    "language_info": {
      "name": "python"
    }
  },
  "cells": [
    {
      "cell_type": "markdown",
      "metadata": {
        "id": "view-in-github",
        "colab_type": "text"
      },
      "source": [
        "<a href=\"https://colab.research.google.com/github/dionipadilha/sympy/blob/main/rearrangement.ipynb\" target=\"_parent\"><img src=\"https://colab.research.google.com/assets/colab-badge.svg\" alt=\"Open In Colab\"/></a>"
      ]
    },
    {
      "cell_type": "code",
      "execution_count": 1,
      "metadata": {
        "id": "tOiBulOs7WdR"
      },
      "outputs": [],
      "source": [
        "from sympy import *\n",
        "a, b, c, d = symbols('a, b, c, d')\n",
        "x, y, z, t = symbols('x, y, z, t')\n",
        "k, m, n = symbols('k, m, n', integer=True)\n",
        "f, g, h = symbols('f, g, h', cls=Function)\n",
        "init_printing()"
      ]
    },
    {
      "cell_type": "code",
      "source": [
        "# combine terms involving x:\n",
        "expr = a*x + b*y + c*x + d*y\n",
        "Eq(expr, collect(expr, x))"
      ],
      "metadata": {
        "colab": {
          "base_uri": "https://localhost:8080/",
          "height": 38
        },
        "id": "2gZpGcEN76vH",
        "outputId": "e845bc55-c84a-4c51-8a51-044b8dd8ea84"
      },
      "execution_count": 2,
      "outputs": [
        {
          "output_type": "execute_result",
          "data": {
            "text/plain": [
              "a⋅x + b⋅y + c⋅x + d⋅y = b⋅y + d⋅y + x⋅(a + c)"
            ],
            "text/latex": "$\\displaystyle a x + b y + c x + d y = b y + d y + x \\left(a + c\\right)$"
          },
          "metadata": {},
          "execution_count": 2
        }
      ]
    },
    {
      "cell_type": "code",
      "source": [
        "# collect each power of x:\n",
        "expr = (x + y + 1)**3\n",
        "Eq(expr, collect(expand(expr), x))"
      ],
      "metadata": {
        "colab": {
          "base_uri": "https://localhost:8080/",
          "height": 39
        },
        "id": "guXegtJu9_hi",
        "outputId": "4d67e10a-86f2-49a1-891f-e2a264cf07dd"
      },
      "execution_count": 3,
      "outputs": [
        {
          "output_type": "execute_result",
          "data": {
            "text/plain": [
              "           3    3    2               ⎛   2          ⎞    3      2          \n",
              "(x + y + 1)  = x  + x ⋅(3⋅y + 3) + x⋅⎝3⋅y  + 6⋅y + 3⎠ + y  + 3⋅y  + 3⋅y + 1"
            ],
            "text/latex": "$\\displaystyle \\left(x + y + 1\\right)^{3} = x^{3} + x^{2} \\cdot \\left(3 y + 3\\right) + x \\left(3 y^{2} + 6 y + 3\\right) + y^{3} + 3 y^{2} + 3 y + 1$"
          },
          "metadata": {},
          "execution_count": 3
        }
      ]
    },
    {
      "cell_type": "code",
      "source": [
        "# puts terms in a sum over a common denominator:\n",
        "expr = x**2/(x**2 - 1) + x/(x**2 - 1)\n",
        "Eq(expr, together(expr))"
      ],
      "metadata": {
        "colab": {
          "base_uri": "https://localhost:8080/",
          "height": 55
        },
        "id": "kfCg_8PG_8jK",
        "outputId": "9e85383e-9596-402a-d1e4-412f91c130f3"
      },
      "execution_count": 4,
      "outputs": [
        {
          "output_type": "execute_result",
          "data": {
            "text/plain": [
              "   2                       \n",
              "  x        x      x⋅(x + 1)\n",
              "────── + ────── = ─────────\n",
              " 2        2          2     \n",
              "x  - 1   x  - 1     x  - 1 "
            ],
            "text/latex": "$\\displaystyle \\frac{x^{2}}{x^{2} - 1} + \\frac{x}{x^{2} - 1} = \\frac{x \\left(x + 1\\right)}{x^{2} - 1}$"
          },
          "metadata": {},
          "execution_count": 4
        }
      ]
    },
    {
      "cell_type": "code",
      "source": [
        "# Cancel common factors:\n",
        "expr = x**2/(x**2 - 1) + x/(x**2 - 1)\n",
        "Eq(expr, cancel(expr))"
      ],
      "metadata": {
        "colab": {
          "base_uri": "https://localhost:8080/",
          "height": 55
        },
        "id": "hwy2a3Zc8MBv",
        "outputId": "eed1d284-0a0c-41e7-dc1c-7f285959f68a"
      },
      "execution_count": 5,
      "outputs": [
        {
          "output_type": "execute_result",
          "data": {
            "text/plain": [
              "   2                   \n",
              "  x        x        x  \n",
              "────── + ────── = ─────\n",
              " 2        2       x - 1\n",
              "x  - 1   x  - 1        "
            ],
            "text/latex": "$\\displaystyle \\frac{x^{2}}{x^{2} - 1} + \\frac{x}{x^{2} - 1} = \\frac{x}{x - 1}$"
          },
          "metadata": {},
          "execution_count": 5
        }
      ]
    },
    {
      "cell_type": "code",
      "source": [
        "# Decompose into partial fractions:\n",
        "expr = x**2/(x**2 - 1) + x/(x**2 - 1)\n",
        "Eq(expr, apart(expr))"
      ],
      "metadata": {
        "colab": {
          "base_uri": "https://localhost:8080/",
          "height": 55
        },
        "id": "e1JpK_Tn8Gm4",
        "outputId": "e18369dd-a2f4-4f31-937b-907f569239a1"
      },
      "execution_count": 6,
      "outputs": [
        {
          "output_type": "execute_result",
          "data": {
            "text/plain": [
              "   2                       \n",
              "  x        x            1  \n",
              "────── + ────── = 1 + ─────\n",
              " 2        2           x - 1\n",
              "x  - 1   x  - 1            "
            ],
            "text/latex": "$\\displaystyle \\frac{x^{2}}{x^{2} - 1} + \\frac{x}{x^{2} - 1} = 1 + \\frac{1}{x - 1}$"
          },
          "metadata": {},
          "execution_count": 6
        }
      ]
    }
  ]
}