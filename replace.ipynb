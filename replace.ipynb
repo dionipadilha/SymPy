{
  "nbformat": 4,
  "nbformat_minor": 0,
  "metadata": {
    "colab": {
      "provenance": [],
      "authorship_tag": "ABX9TyOkr8YoNsdKT3kRa+6u2Un5",
      "include_colab_link": true
    },
    "kernelspec": {
      "name": "python3",
      "display_name": "Python 3"
    },
    "language_info": {
      "name": "python"
    }
  },
  "cells": [
    {
      "cell_type": "markdown",
      "metadata": {
        "id": "view-in-github",
        "colab_type": "text"
      },
      "source": [
        "<a href=\"https://colab.research.google.com/github/dionipadilha/sympy/blob/main/replace.ipynb\" target=\"_parent\"><img src=\"https://colab.research.google.com/assets/colab-badge.svg\" alt=\"Open In Colab\"/></a>"
      ]
    },
    {
      "cell_type": "code",
      "execution_count": null,
      "metadata": {
        "id": "ky6vFfHTzvh_"
      },
      "outputs": [],
      "source": [
        "from sympy import *\n",
        "init_printing()"
      ]
    },
    {
      "cell_type": "code",
      "source": [
        "x, y = symbols('x, y')\n",
        "f = log(sin(x)) + tan(sin(x**2))\n",
        "f"
      ],
      "metadata": {
        "colab": {
          "base_uri": "https://localhost:8080/",
          "height": 38
        },
        "id": "epITu8So0GgM",
        "outputId": "9767f6e6-d312-4a7a-8882-57e8134150c7"
      },
      "execution_count": null,
      "outputs": [
        {
          "output_type": "execute_result",
          "data": {
            "text/plain": [
              "                 ⎛   ⎛ 2⎞⎞\n",
              "log(sin(x)) + tan⎝sin⎝x ⎠⎠"
            ],
            "text/latex": "$\\displaystyle \\log{\\left(\\sin{\\left(x \\right)} \\right)} + \\tan{\\left(\\sin{\\left(x^{2} \\right)} \\right)}$"
          },
          "metadata": {},
          "execution_count": 71
        }
      ]
    },
    {
      "cell_type": "code",
      "source": [
        "# obj.replace(type, newtype)\n",
        "f.replace(sin, cos)"
      ],
      "metadata": {
        "colab": {
          "base_uri": "https://localhost:8080/",
          "height": 38
        },
        "id": "i5RSDvG50Vob",
        "outputId": "d2a5ed70-d372-4b36-de7a-244ee88a1b64"
      },
      "execution_count": null,
      "outputs": [
        {
          "output_type": "execute_result",
          "data": {
            "text/plain": [
              "                 ⎛   ⎛ 2⎞⎞\n",
              "log(cos(x)) + tan⎝cos⎝x ⎠⎠"
            ],
            "text/latex": "$\\displaystyle \\log{\\left(\\cos{\\left(x \\right)} \\right)} + \\tan{\\left(\\cos{\\left(x^{2} \\right)} \\right)}$"
          },
          "metadata": {},
          "execution_count": 72
        }
      ]
    },
    {
      "cell_type": "code",
      "source": [
        "# obj.replace(type, newtype)\n",
        "f.replace(Pow, Add)"
      ],
      "metadata": {
        "colab": {
          "base_uri": "https://localhost:8080/",
          "height": 38
        },
        "id": "b_hamnBI4hhI",
        "outputId": "3ace8523-4aca-40a5-9fe0-70cad8ab46aa"
      },
      "execution_count": null,
      "outputs": [
        {
          "output_type": "execute_result",
          "data": {
            "text/plain": [
              "log(sin(x)) + tan(sin(x + 2))"
            ],
            "text/latex": "$\\displaystyle \\log{\\left(\\sin{\\left(x \\right)} \\right)} + \\tan{\\left(\\sin{\\left(x + 2 \\right)} \\right)}$"
          },
          "metadata": {},
          "execution_count": 73
        }
      ]
    },
    {
      "cell_type": "code",
      "source": [
        "# obj.replace(type, func)\n",
        "f.replace(sin, Lambda(x, sin(2*x)))"
      ],
      "metadata": {
        "colab": {
          "base_uri": "https://localhost:8080/",
          "height": 38
        },
        "id": "4bAwlKtR0ht6",
        "outputId": "2fc3e695-d543-4cce-93e4-da3422c94248"
      },
      "execution_count": null,
      "outputs": [
        {
          "output_type": "execute_result",
          "data": {
            "text/plain": [
              "                   ⎛   ⎛   2⎞⎞\n",
              "log(sin(2⋅x)) + tan⎝sin⎝2⋅x ⎠⎠"
            ],
            "text/latex": "$\\displaystyle \\log{\\left(\\sin{\\left(2 x \\right)} \\right)} + \\tan{\\left(\\sin{\\left(2 x^{2} \\right)} \\right)}$"
          },
          "metadata": {},
          "execution_count": 81
        }
      ]
    },
    {
      "cell_type": "code",
      "source": [
        "# obj.replace(pattern(wild), expr(wild))\n",
        "a, b = map(Wild, 'ab')\n",
        "f.replace(sin(a), cos(a/2))"
      ],
      "metadata": {
        "colab": {
          "base_uri": "https://localhost:8080/",
          "height": 58
        },
        "id": "_XmGMEmV1YOC",
        "outputId": "8340f7ce-cc97-4e93-b013-46149bb21a3b"
      },
      "execution_count": null,
      "outputs": [
        {
          "output_type": "execute_result",
          "data": {
            "text/plain": [
              "                 ⎛   ⎛ 2⎞⎞\n",
              "   ⎛   ⎛x⎞⎞      ⎜   ⎜x ⎟⎟\n",
              "log⎜cos⎜─⎟⎟ + tan⎜cos⎜──⎟⎟\n",
              "   ⎝   ⎝2⎠⎠      ⎝   ⎝2 ⎠⎠"
            ],
            "text/latex": "$\\displaystyle \\log{\\left(\\cos{\\left(\\frac{x}{2} \\right)} \\right)} + \\tan{\\left(\\cos{\\left(\\frac{x^{2}}{2} \\right)} \\right)}$"
          },
          "metadata": {},
          "execution_count": 83
        }
      ]
    },
    {
      "cell_type": "code",
      "source": [
        "# obj.replace(pattern(wild), expr(wild))\n",
        "(2*x + y).replace(a*x + b, b - a)"
      ],
      "metadata": {
        "colab": {
          "base_uri": "https://localhost:8080/",
          "height": 38
        },
        "id": "heIfR7QO8XzZ",
        "outputId": "b7da533c-f1e2-4a4d-e6d2-0e4137aad94d"
      },
      "execution_count": null,
      "outputs": [
        {
          "output_type": "execute_result",
          "data": {
            "text/plain": [
              "y - 2"
            ],
            "text/latex": "$\\displaystyle y - 2$"
          },
          "metadata": {},
          "execution_count": 88
        }
      ]
    }
  ]
}