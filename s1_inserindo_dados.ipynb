{
  "nbformat": 4,
  "nbformat_minor": 0,
  "metadata": {
    "colab": {
      "provenance": [],
      "authorship_tag": "ABX9TyMbofNGGpAxVxUcs09MfyLf",
      "include_colab_link": true
    },
    "kernelspec": {
      "name": "python3",
      "display_name": "Python 3"
    },
    "language_info": {
      "name": "python"
    }
  },
  "cells": [
    {
      "cell_type": "markdown",
      "metadata": {
        "id": "view-in-github",
        "colab_type": "text"
      },
      "source": [
        "<a href=\"https://colab.research.google.com/github/dionipadilha/sympy_math_intro/blob/main/s1_inserindo_dados.ipynb\" target=\"_parent\"><img src=\"https://colab.research.google.com/assets/colab-badge.svg\" alt=\"Open In Colab\"/></a>"
      ]
    },
    {
      "cell_type": "markdown",
      "metadata": {
        "id": "T5oRYwbdpZyO"
      },
      "source": [
        "# Sympy: Introdução Rápida para Matemática"
      ]
    },
    {
      "cell_type": "markdown",
      "metadata": {
        "id": "5feylSO8wNzt"
      },
      "source": [
        "## Inserindo dados"
      ]
    },
    {
      "cell_type": "markdown",
      "metadata": {
        "id": "0VNeAtRh3Kj-"
      },
      "source": [
        "---\n",
        "### Configurando o Ambiente:"
      ]
    },
    {
      "cell_type": "code",
      "metadata": {
        "colab": {
          "base_uri": "https://localhost:8080/"
        },
        "id": "1A9q66SqqZSW",
        "outputId": "6a1ab5ed-9c55-481e-ddc3-fa30ca47836e"
      },
      "source": [
        "from sympy import *\n",
        "init_session()\n",
        "a, b, c, d = symbols('a, b, c, d')\n",
        "ue = UnevaluatedExpr"
      ],
      "execution_count": 1,
      "outputs": [
        {
          "output_type": "stream",
          "name": "stdout",
          "text": [
            "IPython console for SymPy 1.11.1 (Python 3.10.12-64-bit) (ground types: python)\n",
            "\n",
            "These commands were executed:\n",
            ">>> from sympy import *\n",
            ">>> x, y, z, t = symbols('x y z t')\n",
            ">>> k, m, n = symbols('k m n', integer=True)\n",
            ">>> f, g, h = symbols('f g h', cls=Function)\n",
            ">>> init_printing()\n",
            "\n",
            "Documentation can be found at https://docs.sympy.org/1.11.1/\n",
            "\n"
          ]
        }
      ]
    },
    {
      "cell_type": "code",
      "metadata": {
        "id": "YwiVPtFJqh_e"
      },
      "source": [
        "from seaborn import set_style as plot_style\n",
        "plot_style(\"whitegrid\")\n",
        "%matplotlib inline"
      ],
      "execution_count": 2,
      "outputs": []
    },
    {
      "cell_type": "code",
      "metadata": {
        "id": "UYhPisG2q25T"
      },
      "source": [
        "from IPython.core.interactiveshell import InteractiveShell\n",
        "InteractiveShell.ast_node_interactivity = \"all\""
      ],
      "execution_count": 3,
      "outputs": []
    },
    {
      "cell_type": "markdown",
      "metadata": {
        "id": "dtxVIMSjGbQ3"
      },
      "source": [
        "---\n",
        "### Fazendo cálculos em notebooks"
      ]
    },
    {
      "cell_type": "markdown",
      "metadata": {
        "id": "iMCwLZfGFnM4"
      },
      "source": [
        "Pressione SHIFT+ENTER para calcular:"
      ]
    },
    {
      "cell_type": "code",
      "metadata": {
        "colab": {
          "base_uri": "https://localhost:8080/",
          "height": 37
        },
        "id": "5X3LPO3lAX00",
        "outputId": "5fdf4558-649f-40ab-d6e1-160dd95d45dd"
      },
      "source": [
        "2 + 2"
      ],
      "execution_count": 4,
      "outputs": [
        {
          "output_type": "execute_result",
          "data": {
            "text/plain": [
              "4"
            ],
            "text/latex": "$\\displaystyle 4$"
          },
          "metadata": {},
          "execution_count": 4
        }
      ]
    },
    {
      "cell_type": "markdown",
      "metadata": {
        "id": "IC_EScUzApCv"
      },
      "source": [
        "In e Out identificam entradas e saídas sucessivas de dados:"
      ]
    },
    {
      "cell_type": "code",
      "metadata": {
        "colab": {
          "base_uri": "https://localhost:8080/",
          "height": 37
        },
        "id": "ELo8VixwAdcx",
        "outputId": "498abc3b-98ca-469c-cb30-bb167218aa58"
      },
      "source": [
        "1+2+3"
      ],
      "execution_count": 5,
      "outputs": [
        {
          "output_type": "execute_result",
          "data": {
            "text/plain": [
              "6"
            ],
            "text/latex": "$\\displaystyle 6$"
          },
          "metadata": {},
          "execution_count": 5
        }
      ]
    },
    {
      "cell_type": "markdown",
      "metadata": {
        "id": "G2fD7uzsAz-L"
      },
      "source": [
        "O símbolo _ refere-se à saída mais recente:"
      ]
    },
    {
      "cell_type": "code",
      "metadata": {
        "colab": {
          "base_uri": "https://localhost:8080/",
          "height": 37
        },
        "id": "-OSdtd-zAxMF",
        "outputId": "5e03cec3-f3e0-4048-dc0c-972c70ec90ab"
      },
      "source": [
        "_ + 4"
      ],
      "execution_count": 6,
      "outputs": [
        {
          "output_type": "execute_result",
          "data": {
            "text/plain": [
              "10"
            ],
            "text/latex": "$\\displaystyle 10$"
          },
          "metadata": {},
          "execution_count": 6
        }
      ]
    },
    {
      "cell_type": "markdown",
      "metadata": {
        "id": "vL9ltutpGf8t"
      },
      "source": [
        "---\n",
        "### Funçoes matemáticas básicas"
      ]
    },
    {
      "cell_type": "markdown",
      "metadata": {
        "id": "uFV8DHLTBvlm"
      },
      "source": [
        "Operações matemáticas básicas:\n"
      ]
    },
    {
      "cell_type": "code",
      "metadata": {
        "colab": {
          "base_uri": "https://localhost:8080/",
          "height": 37
        },
        "id": "VeBe9FklBcBm",
        "outputId": "7c369a46-e955-4abe-c0cf-1ed028b08999"
      },
      "source": [
        "5 + 2*3 - 7.5"
      ],
      "execution_count": 7,
      "outputs": [
        {
          "output_type": "execute_result",
          "data": {
            "text/plain": [
              "3.5"
            ],
            "text/latex": "$\\displaystyle 3.5$"
          },
          "metadata": {},
          "execution_count": 7
        }
      ]
    },
    {
      "cell_type": "markdown",
      "metadata": {
        "id": "hjh_zj7bCHsB"
      },
      "source": [
        "Níveis de agrupamento:"
      ]
    },
    {
      "cell_type": "code",
      "metadata": {
        "colab": {
          "base_uri": "https://localhost:8080/",
          "height": 37
        },
        "id": "alhs8pRtCB_W",
        "outputId": "75f291e1-8e12-45e7-f67b-df1c1fcd816b"
      },
      "source": [
        "((5 - 3)**(1 + 2))/4"
      ],
      "execution_count": 8,
      "outputs": [
        {
          "output_type": "execute_result",
          "data": {
            "text/plain": [
              "2.0"
            ],
            "text/latex": "$\\displaystyle 2.0$"
          },
          "metadata": {},
          "execution_count": 8
        }
      ]
    },
    {
      "cell_type": "markdown",
      "metadata": {
        "id": "3-8u8i7aCULm"
      },
      "source": [
        "Funções incorporadas:"
      ]
    },
    {
      "cell_type": "code",
      "metadata": {
        "colab": {
          "base_uri": "https://localhost:8080/",
          "height": 37
        },
        "id": "9C72T_ebCQTA",
        "outputId": "960d5a50-9981-4cf3-f6fb-b95f548f26f9"
      },
      "source": [
        "gcd(12, 15)"
      ],
      "execution_count": 9,
      "outputs": [
        {
          "output_type": "execute_result",
          "data": {
            "text/plain": [
              "3"
            ],
            "text/latex": "$\\displaystyle 3$"
          },
          "metadata": {},
          "execution_count": 9
        }
      ]
    },
    {
      "cell_type": "markdown",
      "metadata": {
        "id": "sfzlOEFoCkjU"
      },
      "source": [
        "Gerador de gráficos básicos imcorporado:"
      ]
    },
    {
      "cell_type": "code",
      "metadata": {
        "colab": {
          "base_uri": "https://localhost:8080/",
          "height": 487
        },
        "id": "1UzLufgyCabz",
        "outputId": "60d47a1d-56ed-4901-8eb2-84ccea45fde6"
      },
      "source": [
        "plot(sin(x));"
      ],
      "execution_count": 10,
      "outputs": [
        {
          "output_type": "display_data",
          "data": {
            "text/plain": [
              "<Figure size 640x480 with 1 Axes>"
            ],
            "image/png": "[encoded data removed]"
          },
          "metadata": {}
        }
      ]
    },
    {
      "cell_type": "markdown",
      "metadata": {
        "id": "iy-l79NeGoec"
      },
      "source": [
        "---\n",
        "### Introdução sobre listas"
      ]
    },
    {
      "cell_type": "markdown",
      "metadata": {
        "id": "PBvdD12vCvVb"
      },
      "source": [
        "Listas representam coleções de itens:"
      ]
    },
    {
      "cell_type": "code",
      "metadata": {
        "colab": {
          "base_uri": "https://localhost:8080/",
          "height": 37
        },
        "id": "OsB5CArrChB8",
        "outputId": "feeaf982-1f22-4d8d-ee75-eaaa40c82310"
      },
      "source": [
        "[1,2,3]"
      ],
      "execution_count": 11,
      "outputs": [
        {
          "output_type": "execute_result",
          "data": {
            "text/plain": [
              "[1, 2, 3]"
            ],
            "text/latex": "$\\displaystyle \\left[ 1, \\  2, \\  3\\right]$"
          },
          "metadata": {},
          "execution_count": 11
        }
      ]
    },
    {
      "cell_type": "markdown",
      "metadata": {
        "id": "SbT2i-KIC-xj"
      },
      "source": [
        "Listas podem conter números, variáveis ou mesmo outras listas:"
      ]
    },
    {
      "cell_type": "code",
      "metadata": {
        "colab": {
          "base_uri": "https://localhost:8080/",
          "height": 38
        },
        "id": "i04pLKtSC4nh",
        "outputId": "ce3b21fe-ffd6-4e69-baa4-a60b77272d17"
      },
      "source": [
        "[[1,b,x], [y,2,z**2]]"
      ],
      "execution_count": 12,
      "outputs": [
        {
          "output_type": "execute_result",
          "data": {
            "text/plain": [
              "⎡           ⎡       2⎤⎤\n",
              "⎣[1, b, x], ⎣y, 2, z ⎦⎦"
            ],
            "text/latex": "$\\displaystyle \\left[ \\left[ 1, \\  b, \\  x\\right], \\  \\left[ y, \\  2, \\  z^{2}\\right]\\right]$"
          },
          "metadata": {},
          "execution_count": 12
        }
      ]
    },
    {
      "cell_type": "markdown",
      "metadata": {
        "id": "rJvHybiODwnW"
      },
      "source": [
        "Partes de listas podem ser extraídas:"
      ]
    },
    {
      "cell_type": "code",
      "metadata": {
        "colab": {
          "base_uri": "https://localhost:8080/",
          "height": 38
        },
        "id": "t2uPCmjGDrcw",
        "outputId": "4f2deb7c-8f06-485a-f07a-5e90b5b07361"
      },
      "source": [
        "[a,b,c][0]"
      ],
      "execution_count": 13,
      "outputs": [
        {
          "output_type": "execute_result",
          "data": {
            "text/plain": [
              "a"
            ],
            "text/latex": "$\\displaystyle a$"
          },
          "metadata": {},
          "execution_count": 13
        }
      ]
    },
    {
      "cell_type": "markdown",
      "metadata": {
        "id": "qX69zLE1EJ7C"
      },
      "source": [
        "Construir listas com funções como Range:"
      ]
    },
    {
      "cell_type": "code",
      "metadata": {
        "colab": {
          "base_uri": "https://localhost:8080/",
          "height": 37
        },
        "id": "mPozWH5pD5QL",
        "outputId": "58ab1eb5-0245-49a8-f29a-38c84a9f3312"
      },
      "source": [
        "[*Range(10)]"
      ],
      "execution_count": 14,
      "outputs": [
        {
          "output_type": "execute_result",
          "data": {
            "text/plain": [
              "[0, 1, 2, 3, 4, 5, 6, 7, 8, 9]"
            ],
            "text/latex": "$\\displaystyle \\left[ 0, \\  1, \\  2, \\  3, \\  4, \\  5, \\  6, \\  7, \\  8, \\  9\\right]$"
          },
          "metadata": {},
          "execution_count": 14
        }
      ]
    },
    {
      "cell_type": "markdown",
      "metadata": {
        "id": "En-zh7c5Dfw8"
      },
      "source": [
        "Listas podem aplicar operações elemento a elemento:"
      ]
    },
    {
      "cell_type": "code",
      "metadata": {
        "colab": {
          "base_uri": "https://localhost:8080/",
          "height": 37
        },
        "id": "L9ZlXMDXDHbW",
        "outputId": "b4eebe0e-a7a4-4793-a27a-524d108f50cf"
      },
      "source": [
        "[(n+2) for n in Range(1, 1+3)]"
      ],
      "execution_count": 15,
      "outputs": [
        {
          "output_type": "execute_result",
          "data": {
            "text/plain": [
              "[3, 4, 5]"
            ],
            "text/latex": "$\\displaystyle \\left[ 3, \\  4, \\  5\\right]$"
          },
          "metadata": {},
          "execution_count": 15
        }
      ]
    }
  ]
}