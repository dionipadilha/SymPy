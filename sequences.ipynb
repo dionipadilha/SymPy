{
  "nbformat": 4,
  "nbformat_minor": 0,
  "metadata": {
    "colab": {
      "provenance": [],
      "authorship_tag": "ABX9TyOjqEDoaWlKXcgwh7oPwM/3",
      "include_colab_link": true
    },
    "kernelspec": {
      "name": "python3",
      "display_name": "Python 3"
    },
    "language_info": {
      "name": "python"
    }
  },
  "cells": [
    {
      "cell_type": "markdown",
      "metadata": {
        "id": "view-in-github",
        "colab_type": "text"
      },
      "source": [
        "<a href=\"https://colab.research.google.com/github/dionipadilha/sympy/blob/main/sequences.ipynb\" target=\"_parent\"><img src=\"https://colab.research.google.com/assets/colab-badge.svg\" alt=\"Open In Colab\"/></a>"
      ]
    },
    {
      "cell_type": "markdown",
      "source": [
        "# Sequences"
      ],
      "metadata": {
        "id": "ZYisyro-5zO9"
      }
    },
    {
      "cell_type": "code",
      "execution_count": null,
      "metadata": {
        "id": "WInm1ncu5yMx"
      },
      "outputs": [],
      "source": [
        "from sympy import *\n",
        "init_printing()\n",
        "n = symbols('n', integer=True)"
      ]
    },
    {
      "cell_type": "code",
      "source": [
        "sequence(n**2)"
      ],
      "metadata": {
        "colab": {
          "base_uri": "https://localhost:8080/",
          "height": 38
        },
        "id": "f-M9pUPv56k7",
        "outputId": "24a43913-077b-4bd5-84ea-f5cecc7206a1"
      },
      "execution_count": null,
      "outputs": [
        {
          "output_type": "execute_result",
          "data": {
            "text/plain": [
              "[0, 1, 4, 9, …]"
            ],
            "text/latex": "$\\displaystyle \\left[0, 1, 4, 9, \\ldots\\right]$"
          },
          "metadata": {},
          "execution_count": 2
        }
      ]
    },
    {
      "cell_type": "code",
      "source": [
        "sequence(n**2, (n, 1, 11))"
      ],
      "metadata": {
        "colab": {
          "base_uri": "https://localhost:8080/",
          "height": 38
        },
        "id": "kSwMNUax56by",
        "outputId": "5513c316-bf03-48d6-85b9-13c8602249a8"
      },
      "execution_count": null,
      "outputs": [
        {
          "output_type": "execute_result",
          "data": {
            "text/plain": [
              "[1, 4, 9, 16, …]"
            ],
            "text/latex": "$\\displaystyle \\left[1, 4, 9, 16, \\ldots\\right]$"
          },
          "metadata": {},
          "execution_count": 3
        }
      ]
    },
    {
      "cell_type": "code",
      "source": [
        "sequence(n**2, (n, 0, oo))[1:11]"
      ],
      "metadata": {
        "colab": {
          "base_uri": "https://localhost:8080/",
          "height": 38
        },
        "id": "CN7rvfDF56YO",
        "outputId": "9cc055b0-01e6-40ab-ba62-dd59d8ef09ee"
      },
      "execution_count": null,
      "outputs": [
        {
          "output_type": "execute_result",
          "data": {
            "text/plain": [
              "[1, 4, 9, 16, 25, 36, 49, 64, 81, 100]"
            ],
            "text/latex": "$\\displaystyle \\left[ 1, \\  4, \\  9, \\  16, \\  25, \\  36, \\  49, \\  64, \\  81, \\  100\\right]$"
          },
          "metadata": {},
          "execution_count": 4
        }
      ]
    },
    {
      "cell_type": "code",
      "source": [
        "sequence(n**2, (n, 0, oo))[8]"
      ],
      "metadata": {
        "colab": {
          "base_uri": "https://localhost:8080/",
          "height": 38
        },
        "id": "koa9lXWo56UU",
        "outputId": "734db796-4ea8-4675-9b92-09a39e92a155"
      },
      "execution_count": null,
      "outputs": [
        {
          "output_type": "execute_result",
          "data": {
            "text/plain": [
              "64"
            ],
            "text/latex": "$\\displaystyle 64$"
          },
          "metadata": {},
          "execution_count": 5
        }
      ]
    },
    {
      "cell_type": "code",
      "source": [
        "sequence(3**(n+2)/5**n,(n, 0, 5))[0:6]"
      ],
      "metadata": {
        "colab": {
          "base_uri": "https://localhost:8080/",
          "height": 58
        },
        "id": "XL7IVGZM56Na",
        "outputId": "198c50f3-d3dd-4dc1-b8d5-7526041b09ce"
      },
      "execution_count": null,
      "outputs": [
        {
          "output_type": "execute_result",
          "data": {
            "text/plain": [
              "⎡         81  243  729  2187⎤\n",
              "⎢9, 27/5, ──, ───, ───, ────⎥\n",
              "⎣         25  125  625  3125⎦"
            ],
            "text/latex": "$\\displaystyle \\left[ 9, \\  \\frac{27}{5}, \\  \\frac{81}{25}, \\  \\frac{243}{125}, \\  \\frac{729}{625}, \\  \\frac{2187}{3125}\\right]$"
          },
          "metadata": {},
          "execution_count": 6
        }
      ]
    },
    {
      "cell_type": "code",
      "source": [
        "sequence(3**(n+2)/5**n,(n, 0, 5)).find_linear_recurrence(6)"
      ],
      "metadata": {
        "colab": {
          "base_uri": "https://localhost:8080/",
          "height": 58
        },
        "id": "6zstxMxS56Fe",
        "outputId": "8499745f-9932-4b16-8f5c-07ba5e3d26b0"
      },
      "execution_count": null,
      "outputs": [
        {
          "output_type": "execute_result",
          "data": {
            "text/plain": [
              "[3/5]"
            ],
            "text/latex": "$\\displaystyle \\left[ \\frac{3}{5}\\right]$"
          },
          "metadata": {},
          "execution_count": 7
        }
      ]
    }
  ]
}