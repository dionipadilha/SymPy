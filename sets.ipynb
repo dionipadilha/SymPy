{
  "nbformat": 4,
  "nbformat_minor": 0,
  "metadata": {
    "colab": {
      "provenance": [],
      "authorship_tag": "ABX9TyOU/mFPfhnPLpSn9WeoFRxd",
      "include_colab_link": true
    },
    "kernelspec": {
      "name": "python3",
      "display_name": "Python 3"
    },
    "language_info": {
      "name": "python"
    }
  },
  "cells": [
    {
      "cell_type": "markdown",
      "metadata": {
        "id": "view-in-github",
        "colab_type": "text"
      },
      "source": [
        "<a href=\"https://colab.research.google.com/github/dionipadilha/sympy/blob/main/sets.ipynb\" target=\"_parent\"><img src=\"https://colab.research.google.com/assets/colab-badge.svg\" alt=\"Open In Colab\"/></a>"
      ]
    },
    {
      "cell_type": "markdown",
      "source": [
        "# Sets"
      ],
      "metadata": {
        "id": "etTYr5GkAKMg"
      }
    },
    {
      "cell_type": "code",
      "execution_count": null,
      "metadata": {
        "id": "ZvqzCWYiAJPt"
      },
      "outputs": [],
      "source": [
        "from sympy import *\n",
        "init_printing()"
      ]
    },
    {
      "cell_type": "markdown",
      "source": [
        "## Interval"
      ],
      "metadata": {
        "id": "6gOnJ2ztffAr"
      }
    },
    {
      "cell_type": "code",
      "source": [
        "# Basic Interval\n",
        "Interval(0, 2, left_open=True)"
      ],
      "metadata": {
        "colab": {
          "base_uri": "https://localhost:8080/",
          "height": 37
        },
        "id": "Ucg_bMsTkl3B",
        "outputId": "d2d68c44-381b-4289-b9ef-99db75cca12a"
      },
      "execution_count": null,
      "outputs": [
        {
          "output_type": "execute_result",
          "data": {
            "text/plain": [
              "(0, 2]"
            ],
            "text/latex": "$\\displaystyle \\left(0, 2\\right]$"
          },
          "metadata": {},
          "execution_count": 2
        }
      ]
    },
    {
      "cell_type": "markdown",
      "source": [
        "## FiniteSet"
      ],
      "metadata": {
        "id": "sPrNHXP6BMoe"
      }
    },
    {
      "cell_type": "code",
      "source": [
        "# Represents a finite set of Sympy expressions\n",
        "members = [1, 2, 3, 4, 5]\n",
        "f = FiniteSet(*members)\n",
        "f"
      ],
      "metadata": {
        "colab": {
          "base_uri": "https://localhost:8080/",
          "height": 37
        },
        "id": "tZxI1vc7AZoY",
        "outputId": "bb986cff-4a7d-46ea-cac7-f66f97f47466"
      },
      "execution_count": null,
      "outputs": [
        {
          "output_type": "execute_result",
          "data": {
            "text/plain": [
              "{1, 2, 3, 4, 5}"
            ],
            "text/latex": "$\\displaystyle \\left\\{1, 2, 3, 4, 5\\right\\}$"
          },
          "metadata": {},
          "execution_count": 3
        }
      ]
    },
    {
      "cell_type": "code",
      "source": [
        "# Remove FiniteSet elements\n",
        "f - FiniteSet(2, 4)"
      ],
      "metadata": {
        "colab": {
          "base_uri": "https://localhost:8080/",
          "height": 37
        },
        "id": "r_MGlTemBLql",
        "outputId": "29fe765b-4e7a-40e9-b086-1e3671913c97"
      },
      "execution_count": null,
      "outputs": [
        {
          "output_type": "execute_result",
          "data": {
            "text/plain": [
              "{1, 3, 5}"
            ],
            "text/latex": "$\\displaystyle \\left\\{1, 3, 5\\right\\}$"
          },
          "metadata": {},
          "execution_count": 4
        }
      ]
    },
    {
      "cell_type": "code",
      "source": [
        "# Insert FiniteSet elements\n",
        "f + FiniteSet(4, 6, 7)"
      ],
      "metadata": {
        "colab": {
          "base_uri": "https://localhost:8080/",
          "height": 37
        },
        "id": "SNd8D6a_BcSQ",
        "outputId": "ff1bff6e-1c6e-40cd-9007-c690ff613ea3"
      },
      "execution_count": null,
      "outputs": [
        {
          "output_type": "execute_result",
          "data": {
            "text/plain": [
              "{1, 2, 3, 4, 5, 6, 7}"
            ],
            "text/latex": "$\\displaystyle \\left\\{1, 2, 3, 4, 5, 6, 7\\right\\}$"
          },
          "metadata": {},
          "execution_count": 5
        }
      ]
    },
    {
      "cell_type": "code",
      "source": [
        "# FiniteSet Union\n",
        "Union(FiniteSet(3, 4, 6, 7), FiniteSet(4, 6, 8, 10))"
      ],
      "metadata": {
        "id": "gbE8HIYmEa8k",
        "colab": {
          "base_uri": "https://localhost:8080/",
          "height": 37
        },
        "outputId": "0b43e437-e42b-4dad-f09c-8a981d101271"
      },
      "execution_count": null,
      "outputs": [
        {
          "output_type": "execute_result",
          "data": {
            "text/plain": [
              "{3, 4, 6, 7, 8, 10}"
            ],
            "text/latex": "$\\displaystyle \\left\\{3, 4, 6, 7, 8, 10\\right\\}$"
          },
          "metadata": {},
          "execution_count": 6
        }
      ]
    },
    {
      "cell_type": "code",
      "source": [
        "# FiniteSet Intersection\n",
        "Intersection(FiniteSet(4, 6, 7), FiniteSet(4, 6, 8, 10))"
      ],
      "metadata": {
        "colab": {
          "base_uri": "https://localhost:8080/",
          "height": 37
        },
        "id": "xxWTSgVVnYVS",
        "outputId": "42866b22-c5b3-4e64-cfdb-e0579e4ab077"
      },
      "execution_count": null,
      "outputs": [
        {
          "output_type": "execute_result",
          "data": {
            "text/plain": [
              "{4, 6}"
            ],
            "text/latex": "$\\displaystyle \\left\\{4, 6\\right\\}$"
          },
          "metadata": {},
          "execution_count": 7
        }
      ]
    },
    {
      "cell_type": "code",
      "source": [
        "# Elements which are not in intersection\n",
        "SymmetricDifference(FiniteSet(1, 2, 3), FiniteSet(3, 4, 5))"
      ],
      "metadata": {
        "colab": {
          "base_uri": "https://localhost:8080/",
          "height": 37
        },
        "id": "9MM1c99goPts",
        "outputId": "c7ca016d-5cf2-493c-dfe3-155e4eaccfc2"
      },
      "execution_count": null,
      "outputs": [
        {
          "output_type": "execute_result",
          "data": {
            "text/plain": [
              "{1, 2, 4, 5}"
            ],
            "text/latex": "$\\displaystyle \\left\\{1, 2, 4, 5\\right\\}$"
          },
          "metadata": {},
          "execution_count": 8
        }
      ]
    },
    {
      "cell_type": "code",
      "source": [
        "# Returns a Cartesian product\n",
        "coin = FiniteSet('H', 'T')\n",
        "set(coin**2)"
      ],
      "metadata": {
        "colab": {
          "base_uri": "https://localhost:8080/",
          "height": 39
        },
        "id": "sv1ItFD_ndjB",
        "outputId": "9e360489-d83d-4174-ee9a-3f1c66f527b4"
      },
      "execution_count": null,
      "outputs": [
        {
          "output_type": "execute_result",
          "data": {
            "text/plain": [
              "{(H, H), (H, T), (T, H), (T, T)}"
            ],
            "text/latex": "$\\displaystyle \\left\\{\\left( H, \\  H\\right), \\left( H, \\  T\\right), \\left( T, \\  H\\right), \\left( T, \\  T\\right)\\right\\}$"
          },
          "metadata": {},
          "execution_count": 9
        }
      ]
    },
    {
      "cell_type": "markdown",
      "source": [
        "## Special Sets"
      ],
      "metadata": {
        "id": "m-2WLdcYpZYJ"
      }
    },
    {
      "cell_type": "code",
      "source": [
        "# Empty set\n",
        "S.EmptySet"
      ],
      "metadata": {
        "colab": {
          "base_uri": "https://localhost:8080/",
          "height": 37
        },
        "id": "VvjNmyUYpY3A",
        "outputId": "0b72bdc0-fbc9-489b-9e4a-5dd852544c29"
      },
      "execution_count": null,
      "outputs": [
        {
          "output_type": "execute_result",
          "data": {
            "text/plain": [
              "∅"
            ],
            "text/latex": "$\\displaystyle \\emptyset$"
          },
          "metadata": {},
          "execution_count": 10
        }
      ]
    },
    {
      "cell_type": "code",
      "source": [
        "# Universal set\n",
        "S.UniversalSet"
      ],
      "metadata": {
        "colab": {
          "base_uri": "https://localhost:8080/",
          "height": 38
        },
        "id": "v4pcQTkApP52",
        "outputId": "e0f43040-2585-4ac6-a053-70ca372f03de"
      },
      "execution_count": null,
      "outputs": [
        {
          "output_type": "execute_result",
          "data": {
            "text/plain": [
              "𝕌"
            ],
            "text/latex": "$\\displaystyle \\mathbb{U}$"
          },
          "metadata": {},
          "execution_count": 11
        }
      ]
    },
    {
      "cell_type": "code",
      "source": [
        "# Naturals set\n",
        "[S.Naturals, S.Integers, S.Rationals, S.Reals]"
      ],
      "metadata": {
        "colab": {
          "base_uri": "https://localhost:8080/",
          "height": 38
        },
        "id": "J-tVqdC9rNZ-",
        "outputId": "a8f90de2-09b6-452d-ecff-fb9128bf88ee"
      },
      "execution_count": null,
      "outputs": [
        {
          "output_type": "execute_result",
          "data": {
            "text/plain": [
              "[ℕ, ℤ, ℚ, ℝ]"
            ],
            "text/latex": "$\\displaystyle \\left[ \\mathbb{N}, \\  \\mathbb{Z}, \\  \\mathbb{Q}, \\  \\mathbb{R}\\right]$"
          },
          "metadata": {},
          "execution_count": 12
        }
      ]
    },
    {
      "cell_type": "markdown",
      "source": [
        "## ImageSet"
      ],
      "metadata": {
        "id": "EG_CIBoewnWe"
      }
    },
    {
      "cell_type": "code",
      "source": [
        "# Image of a set under a mathematical function\n",
        "x = Symbol('x')\n",
        "squares = ImageSet(Lambda(x, x**2), S.Naturals)\n",
        "squares"
      ],
      "metadata": {
        "colab": {
          "base_uri": "https://localhost:8080/",
          "height": 39
        },
        "id": "4E9v0MX7wqlg",
        "outputId": "d7d763ad-8088-4a97-b57a-159edee03ad0"
      },
      "execution_count": null,
      "outputs": [
        {
          "output_type": "execute_result",
          "data": {
            "text/plain": [
              "⎧ 2 │      ⎫\n",
              "⎨x  │ x ∊ ℕ⎬\n",
              "⎩   │      ⎭"
            ],
            "text/latex": "$\\displaystyle \\left\\{x^{2}\\; \\middle|\\; x \\in \\mathbb{N}\\right\\}$"
          },
          "metadata": {},
          "execution_count": 13
        }
      ]
    },
    {
      "cell_type": "code",
      "source": [
        "# Use ImageSet to  the match the values on a set\n",
        "fset = FiniteSet(0, 1, 2, 3, 4, 5, 6, 7, 9, 10)\n",
        "Intersection(fset, squares)"
      ],
      "metadata": {
        "colab": {
          "base_uri": "https://localhost:8080/",
          "height": 37
        },
        "id": "EYBE4iKpxuC0",
        "outputId": "9f0f5fd2-71f6-4679-e3ef-b4ac5f7966a6"
      },
      "execution_count": null,
      "outputs": [
        {
          "output_type": "execute_result",
          "data": {
            "text/plain": [
              "{1, 4, 9}"
            ],
            "text/latex": "$\\displaystyle \\left\\{1, 4, 9\\right\\}$"
          },
          "metadata": {},
          "execution_count": 14
        }
      ]
    },
    {
      "cell_type": "code",
      "source": [
        "# Use ImageSet to  the match the values on a set\n",
        "list(Intersection(Range(10), squares))"
      ],
      "metadata": {
        "colab": {
          "base_uri": "https://localhost:8080/",
          "height": 37
        },
        "id": "sBGQXVfR3aBZ",
        "outputId": "8ab63194-713e-4102-f142-7ac1b2008418"
      },
      "execution_count": null,
      "outputs": [
        {
          "output_type": "execute_result",
          "data": {
            "text/plain": [
              "[1, 4, 9]"
            ],
            "text/latex": "$\\displaystyle \\left[ 1, \\  4, \\  9\\right]$"
          },
          "metadata": {},
          "execution_count": 15
        }
      ]
    },
    {
      "cell_type": "code",
      "source": [
        "# Use ImageSet to get value at a point\n",
        "squares.lamda(2)"
      ],
      "metadata": {
        "colab": {
          "base_uri": "https://localhost:8080/",
          "height": 37
        },
        "id": "kyhcIWYmzhDm",
        "outputId": "102e903c-ac54-4f16-a7e4-60403159fb7d"
      },
      "execution_count": null,
      "outputs": [
        {
          "output_type": "execute_result",
          "data": {
            "text/plain": [
              "4"
            ],
            "text/latex": "$\\displaystyle 4$"
          },
          "metadata": {},
          "execution_count": 16
        }
      ]
    },
    {
      "cell_type": "code",
      "source": [
        "# Use ImageSet to get value at a point\n",
        "squares.lamda(S(1)/2)"
      ],
      "metadata": {
        "colab": {
          "base_uri": "https://localhost:8080/",
          "height": 51
        },
        "id": "THVMV4oM1IMz",
        "outputId": "26a13403-4a20-4b75-e7ae-70056f873d12"
      },
      "execution_count": null,
      "outputs": [
        {
          "output_type": "execute_result",
          "data": {
            "text/plain": [
              "1/4"
            ],
            "text/latex": "$\\displaystyle \\frac{1}{4}$"
          },
          "metadata": {},
          "execution_count": 17
        }
      ]
    },
    {
      "cell_type": "code",
      "source": [
        "# Use ImageSet to get solutions of an eqation\n",
        "n = Dummy('n')\n",
        "sin_x_equal_0 = ImageSet(Lambda(n, n*pi), S.Integers)\n",
        "sin_x_equal_0"
      ],
      "metadata": {
        "colab": {
          "base_uri": "https://localhost:8080/",
          "height": 39
        },
        "id": "o63ZwZDO1aB2",
        "outputId": "1a9e3d67-da8d-4401-a084-fc504fc1f018"
      },
      "execution_count": null,
      "outputs": [
        {
          "output_type": "execute_result",
          "data": {
            "text/plain": [
              "{n⋅π │ n ∊ ℤ}"
            ],
            "text/latex": "$\\displaystyle \\left\\{n \\pi\\; \\middle|\\; n \\in \\mathbb{Z}\\right\\}$"
          },
          "metadata": {},
          "execution_count": 18
        }
      ]
    },
    {
      "cell_type": "code",
      "source": [
        "# Get the soluctions on domain\n",
        "dom = Interval(-2*pi, 2*pi)\n",
        "solutions_set = dom.intersect(sin_x_equal_0)\n",
        "solutions_set"
      ],
      "metadata": {
        "colab": {
          "base_uri": "https://localhost:8080/",
          "height": 39
        },
        "id": "TnC_QalG2dd5",
        "outputId": "92d7085f-ccff-425c-cf35-9888bca38c6d"
      },
      "execution_count": null,
      "outputs": [
        {
          "output_type": "execute_result",
          "data": {
            "text/plain": [
              "{0, -2⋅π, -π, π, 2⋅π}"
            ],
            "text/latex": "$\\displaystyle \\left\\{0, - 2 \\pi, - \\pi, \\pi, 2 \\pi\\right\\}$"
          },
          "metadata": {},
          "execution_count": 19
        }
      ]
    },
    {
      "cell_type": "markdown",
      "source": [
        "## Iteration over sets"
      ],
      "metadata": {
        "id": "rH5DHGG7q7bD"
      }
    },
    {
      "cell_type": "code",
      "source": [
        "# Iterate over a set\n",
        "natural_number = iter(S.Naturals)\n",
        "[next(natural_number) for n in Range(10)]"
      ],
      "metadata": {
        "colab": {
          "base_uri": "https://localhost:8080/",
          "height": 37
        },
        "id": "A37S6ZY_p7pQ",
        "outputId": "a53b2dae-ffad-4f59-e06b-46c1e7d3daf3"
      },
      "execution_count": null,
      "outputs": [
        {
          "output_type": "execute_result",
          "data": {
            "text/plain": [
              "[1, 2, 3, 4, 5, 6, 7, 8, 9, 10]"
            ],
            "text/latex": "$\\displaystyle \\left[ 1, \\  2, \\  3, \\  4, \\  5, \\  6, \\  7, \\  8, \\  9, \\  10\\right]$"
          },
          "metadata": {},
          "execution_count": 20
        }
      ]
    },
    {
      "cell_type": "code",
      "source": [
        "# Iterate over a set\n",
        "[next(natural_number) for n in Range(5)]"
      ],
      "metadata": {
        "colab": {
          "base_uri": "https://localhost:8080/",
          "height": 37
        },
        "id": "3-0EGX2hur-N",
        "outputId": "6ec58cb7-5a80-4291-baf9-36ef3b004894"
      },
      "execution_count": null,
      "outputs": [
        {
          "output_type": "execute_result",
          "data": {
            "text/plain": [
              "[11, 12, 13, 14, 15]"
            ],
            "text/latex": "$\\displaystyle \\left[ 11, \\  12, \\  13, \\  14, \\  15\\right]$"
          },
          "metadata": {},
          "execution_count": 21
        }
      ]
    },
    {
      "cell_type": "markdown",
      "source": [
        "## Region of Complex Plane"
      ],
      "metadata": {
        "id": "jbRxKWNv_9Jc"
      }
    },
    {
      "cell_type": "code",
      "source": [
        "# Rectangular region\n",
        "a = Interval(2, 3)\n",
        "b = Interval(4, 6)\n",
        "rectangular_region = ComplexRegion(a*b)"
      ],
      "metadata": {
        "id": "WcS3aavk_X4z"
      },
      "execution_count": null,
      "outputs": []
    },
    {
      "cell_type": "code",
      "source": [
        "# Check if the point is surrounded by the coordinates\n",
        "2.5 + 4.5*I in rectangular_region"
      ],
      "metadata": {
        "colab": {
          "base_uri": "https://localhost:8080/"
        },
        "id": "YJjsTOebB9K3",
        "outputId": "3d8f8729-c5c4-4f57-e7db-5734a7af62f4"
      },
      "execution_count": null,
      "outputs": [
        {
          "output_type": "execute_result",
          "data": {
            "text/plain": [
              "True"
            ]
          },
          "metadata": {},
          "execution_count": 43
        }
      ]
    },
    {
      "cell_type": "code",
      "source": [
        "# Unit Disk centered at the origin\n",
        "r = Interval(0, 1)\n",
        "theta = Interval(0, 2*S.Pi)\n",
        "unit_disk = ComplexRegion(r*theta, polar=True)\n",
        "unit_disk"
      ],
      "metadata": {
        "colab": {
          "base_uri": "https://localhost:8080/",
          "height": 39
        },
        "id": "x6sHeLvQCGiP",
        "outputId": "d4e999b4-62d0-4413-f50d-4a8deddabe92"
      },
      "execution_count": null,
      "outputs": [
        {
          "output_type": "execute_result",
          "data": {
            "text/plain": [
              "{r⋅(ⅈ⋅sin(θ) + cos(θ)) │ r, θ ∊ [0, 1] × [0, 2⋅π)}"
            ],
            "text/latex": "$\\displaystyle \\left\\{r \\left(i \\sin{\\left(\\theta \\right)} + \\cos{\\left(\\theta \\right)}\\right)\\; \\middle|\\; r, \\theta \\in \\left[0, 1\\right] \\times \\left[0, 2 \\pi\\right) \\right\\}$"
          },
          "metadata": {},
          "execution_count": 52
        }
      ]
    },
    {
      "cell_type": "code",
      "source": [
        "# Check if the point is surrounded by the coordinates\n",
        "0.5 + 0.5*I in unit_disk"
      ],
      "metadata": {
        "colab": {
          "base_uri": "https://localhost:8080/"
        },
        "id": "1k7XBxVgEpq3",
        "outputId": "f8808d69-c1f8-42da-a1d3-41585fe47099"
      },
      "execution_count": null,
      "outputs": [
        {
          "output_type": "execute_result",
          "data": {
            "text/plain": [
              "True"
            ]
          },
          "metadata": {},
          "execution_count": 49
        }
      ]
    },
    {
      "cell_type": "code",
      "source": [
        "# Unit Disk centered at the origin\n",
        "r2 = Interval(0, 1)\n",
        "theta2 = Interval(0, S.Pi)\n",
        "upper_half_unit_disk = ComplexRegion(r*theta2, polar=True)\n",
        "upper_half_unit_disk"
      ],
      "metadata": {
        "colab": {
          "base_uri": "https://localhost:8080/",
          "height": 39
        },
        "id": "_sL4-p_hEu2G",
        "outputId": "35378b4b-b616-4126-be20-9b8c32d40431"
      },
      "execution_count": null,
      "outputs": [
        {
          "output_type": "execute_result",
          "data": {
            "text/plain": [
              "{r⋅(ⅈ⋅sin(θ) + cos(θ)) │ r, θ ∊ [0, 1] × [0, π]}"
            ],
            "text/latex": "$\\displaystyle \\left\\{r \\left(i \\sin{\\left(\\theta \\right)} + \\cos{\\left(\\theta \\right)}\\right)\\; \\middle|\\; r, \\theta \\in \\left[0, 1\\right] \\times \\left[0, \\pi\\right] \\right\\}$"
          },
          "metadata": {},
          "execution_count": 56
        }
      ]
    },
    {
      "cell_type": "code",
      "source": [
        "# Intersection between unit_disk and upper_half_unit_disk\n",
        "unit_disk.intersect(upper_half_unit_disk)"
      ],
      "metadata": {
        "colab": {
          "base_uri": "https://localhost:8080/",
          "height": 39
        },
        "id": "4cN4-Z0tFjjC",
        "outputId": "684c183c-22fc-4f32-8598-a5a8df4ce4bf"
      },
      "execution_count": null,
      "outputs": [
        {
          "output_type": "execute_result",
          "data": {
            "text/plain": [
              "{r⋅(ⅈ⋅sin(θ) + cos(θ)) │ r, θ ∊ [0, 1] × [0, π]}"
            ],
            "text/latex": "$\\displaystyle \\left\\{r \\left(i \\sin{\\left(\\theta \\right)} + \\cos{\\left(\\theta \\right)}\\right)\\; \\middle|\\; r, \\theta \\in \\left[0, 1\\right] \\times \\left[0, \\pi\\right] \\right\\}$"
          },
          "metadata": {},
          "execution_count": 58
        }
      ]
    },
    {
      "cell_type": "markdown",
      "source": [
        "## Power sets"
      ],
      "metadata": {
        "id": "jL1hrhrmG0qO"
      }
    },
    {
      "cell_type": "code",
      "source": [
        "# Symbolic object representing a power set\n",
        "PowerSet(FiniteSet(1, 2, 3))"
      ],
      "metadata": {
        "colab": {
          "base_uri": "https://localhost:8080/",
          "height": 37
        },
        "id": "2URSZczWF27y",
        "outputId": "28f6ac4e-5c49-4062-dd74-b1c3ff14e9e3"
      },
      "execution_count": null,
      "outputs": [
        {
          "output_type": "execute_result",
          "data": {
            "text/plain": [
              "PowerSet({1, 2, 3})"
            ],
            "text/latex": "$\\displaystyle \\mathcal{P}\\left(\\left\\{1, 2, 3\\right\\}\\right)$"
          },
          "metadata": {},
          "execution_count": 62
        }
      ]
    },
    {
      "cell_type": "code",
      "source": [
        "# Set containing all the subsets\n",
        "PowerSet(FiniteSet(1, 2, 3)).rewrite(FiniteSet)"
      ],
      "metadata": {
        "colab": {
          "base_uri": "https://localhost:8080/",
          "height": 37
        },
        "id": "eF6mjcafOaWI",
        "outputId": "f0ce320d-1a15-4910-a583-1fe1cae54f85"
      },
      "execution_count": null,
      "outputs": [
        {
          "output_type": "execute_result",
          "data": {
            "text/plain": [
              "{∅, {1}, {2}, {3}, {1, 2}, {1, 3}, {2, 3}, {1, 2, 3}}"
            ],
            "text/latex": "$\\displaystyle \\left\\{\\emptyset, \\left\\{1\\right\\}, \\left\\{2\\right\\}, \\left\\{3\\right\\}, \\left\\{1, 2\\right\\}, \\left\\{1, 3\\right\\}, \\left\\{2, 3\\right\\}, \\left\\{1, 2, 3\\right\\}\\right\\}$"
          },
          "metadata": {},
          "execution_count": 63
        }
      ]
    },
    {
      "cell_type": "markdown",
      "source": [
        "## Condition Sets"
      ],
      "metadata": {
        "id": "Ytur-QCvO34n"
      }
    },
    {
      "cell_type": "code",
      "source": [
        "# Symbolic object representing a condition set\n",
        "sin_sols = ConditionSet(x, Eq(sin(x), 0), Interval(0, 2*pi))\n",
        "sin_sols"
      ],
      "metadata": {
        "colab": {
          "base_uri": "https://localhost:8080/",
          "height": 39
        },
        "id": "L6uX5g_COw4-",
        "outputId": "c9f0843f-ed63-40df-af18-38cc881957fc"
      },
      "execution_count": null,
      "outputs": [
        {
          "output_type": "execute_result",
          "data": {
            "text/plain": [
              "{x │ x ∊ [0, 2⋅π] ∧ (sin(x) = 0)}"
            ],
            "text/latex": "$\\displaystyle \\left\\{x\\; \\middle|\\; x \\in \\left[0, 2 \\pi\\right] \\wedge \\sin{\\left(x \\right)} = 0 \\right\\}$"
          },
          "metadata": {},
          "execution_count": 85
        }
      ]
    },
    {
      "cell_type": "code",
      "source": [
        "# Check solutions of a set\n",
        "x = Symbol('x')\n",
        "eq2g = Eq(x**2 + 3*x - 4, 0)\n",
        "sol = FiniteSet(-4, 1)\n",
        "cond_set = ConditionSet(x, eq2g, S.Reals)\n",
        "[x in cond_set for x in sol]"
      ],
      "metadata": {
        "colab": {
          "base_uri": "https://localhost:8080/"
        },
        "id": "gnWWiwpsO-UH",
        "outputId": "521e202b-ebd6-47f9-b724-596853dbcd2c"
      },
      "execution_count": null,
      "outputs": [
        {
          "output_type": "execute_result",
          "data": {
            "text/plain": [
              "[True, True]"
            ]
          },
          "metadata": {},
          "execution_count": 102
        }
      ]
    }
  ]
}