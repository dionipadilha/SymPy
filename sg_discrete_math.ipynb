{
  "nbformat": 4,
  "nbformat_minor": 0,
  "metadata": {
    "colab": {
      "provenance": [],
      "authorship_tag": "ABX9TyNG+dDdWkM4ScLzs2p+SoxM",
      "include_colab_link": true
    },
    "kernelspec": {
      "name": "python3",
      "display_name": "Python 3"
    },
    "language_info": {
      "name": "python"
    }
  },
  "cells": [
    {
      "cell_type": "markdown",
      "metadata": {
        "id": "view-in-github",
        "colab_type": "text"
      },
      "source": [
        "<a href=\"https://colab.research.google.com/github/dionipadilha/sympy/blob/main/sg_discrete_math.ipynb\" target=\"_parent\"><img src=\"https://colab.research.google.com/assets/colab-badge.svg\" alt=\"Open In Colab\"/></a>"
      ]
    },
    {
      "cell_type": "markdown",
      "source": [
        "# Discrete Mathematics"
      ],
      "metadata": {
        "id": "dSWURe9uIjib"
      }
    },
    {
      "cell_type": "code",
      "execution_count": null,
      "metadata": {
        "id": "r07suPXe9OU4"
      },
      "outputs": [],
      "source": [
        "# symbolic environment\n",
        "from sympy import *\n",
        "a, b, c, d = symbols('a, b, c, d')\n",
        "x, y, z = symbols('x, y, z')\n",
        "r, s, t = symbols('r, s, t ')\n",
        "k, m, n = symbols('k, m, n', integer=True)\n",
        "f, g, h = symbols('f, g, h', cls=Function)\n",
        "init_printing()"
      ]
    },
    {
      "cell_type": "markdown",
      "source": [
        "## Boolean Logic"
      ],
      "metadata": {
        "id": "poE1QnvAIhOy"
      }
    },
    {
      "cell_type": "code",
      "source": [
        "expr = (x | y) & (x | ~y) & (~x | y)\n",
        "expr"
      ],
      "metadata": {
        "colab": {
          "base_uri": "https://localhost:8080/",
          "height": 38
        },
        "id": "NcB_ExnMIJCG",
        "outputId": "270d0aa9-65fd-4a0e-92ca-fbb77cfa924a"
      },
      "execution_count": null,
      "outputs": [
        {
          "output_type": "execute_result",
          "data": {
            "text/plain": [
              "(x ∨ y) ∧ (x ∨ ¬y) ∧ (y ∨ ¬x)"
            ],
            "text/latex": "$\\displaystyle \\left(x \\vee y\\right) \\wedge \\left(x \\vee \\neg y\\right) \\wedge \\left(y \\vee \\neg x\\right)$"
          },
          "metadata": {},
          "execution_count": 14
        }
      ]
    },
    {
      "cell_type": "code",
      "source": [
        "simplify(expr)"
      ],
      "metadata": {
        "colab": {
          "base_uri": "https://localhost:8080/",
          "height": 38
        },
        "id": "hfkOolfbIseX",
        "outputId": "12833315-bad5-4a37-e22d-873e4e574c5f"
      },
      "execution_count": null,
      "outputs": [
        {
          "output_type": "execute_result",
          "data": {
            "text/plain": [
              "x ∧ y"
            ],
            "text/latex": "$\\displaystyle x \\wedge y$"
          },
          "metadata": {},
          "execution_count": 15
        }
      ]
    },
    {
      "cell_type": "code",
      "source": [
        "satisfiable((x | y) & (x | ~y) & (y | ~x))"
      ],
      "metadata": {
        "colab": {
          "base_uri": "https://localhost:8080/"
        },
        "id": "tskW_BzBI1ue",
        "outputId": "02d6da49-c3b7-44aa-ab19-1f3383bab5ff"
      },
      "execution_count": null,
      "outputs": [
        {
          "output_type": "execute_result",
          "data": {
            "text/plain": [
              "{y: True, x: True}"
            ]
          },
          "metadata": {},
          "execution_count": 16
        }
      ]
    },
    {
      "cell_type": "code",
      "source": [
        "expr.subs({x:False, y:False})"
      ],
      "metadata": {
        "colab": {
          "base_uri": "https://localhost:8080/",
          "height": 38
        },
        "id": "YXn8x8JjI_Cu",
        "outputId": "d8137bd8-c11c-4376-d81a-27195369d114"
      },
      "execution_count": null,
      "outputs": [
        {
          "output_type": "execute_result",
          "data": {
            "text/plain": [
              "False"
            ],
            "text/latex": "$\\displaystyle \\text{False}$"
          },
          "metadata": {},
          "execution_count": 20
        }
      ]
    },
    {
      "cell_type": "markdown",
      "source": [
        "## Recurrences"
      ],
      "metadata": {
        "id": "TMlGsbqNUQp-"
      }
    },
    {
      "cell_type": "code",
      "source": [
        "# Solve a recurrence relation:\n",
        "rsolve(f(n+2)-f(n+1)-f(n), f(n))"
      ],
      "metadata": {
        "colab": {
          "base_uri": "https://localhost:8080/",
          "height": 69
        },
        "id": "aVY8aXupUGej",
        "outputId": "c9557254-4800-41c6-8d4c-7bb4ea617deb"
      },
      "execution_count": null,
      "outputs": [
        {
          "output_type": "execute_result",
          "data": {
            "text/plain": [
              "           n              n\n",
              "   ⎛1   √5⎞       ⎛1   √5⎞ \n",
              "C₀⋅⎜─ - ──⎟  + C₁⋅⎜─ + ──⎟ \n",
              "   ⎝2   2 ⎠       ⎝2   2 ⎠ "
            ],
            "text/latex": "$\\displaystyle C_{0} \\left(\\frac{1}{2} - \\frac{\\sqrt{5}}{2}\\right)^{n} + C_{1} \\left(\\frac{1}{2} + \\frac{\\sqrt{5}}{2}\\right)^{n}$"
          },
          "metadata": {},
          "execution_count": 28
        }
      ]
    },
    {
      "cell_type": "code",
      "source": [
        "# Specify initial conditions:\n",
        "rsolve(f(n+2)-f(n+1)-f(n), f(n), {f(0): 0, f(1): 1})"
      ],
      "metadata": {
        "colab": {
          "base_uri": "https://localhost:8080/",
          "height": 67
        },
        "id": "t_NVg7p1Uprk",
        "outputId": "5a4f6edd-553d-4d2c-cf34-676ee43f8242"
      },
      "execution_count": null,
      "outputs": [
        {
          "output_type": "execute_result",
          "data": {
            "text/plain": [
              "             n              n\n",
              "     ⎛1   √5⎞       ⎛1   √5⎞ \n",
              "  √5⋅⎜─ - ──⎟    √5⋅⎜─ + ──⎟ \n",
              "     ⎝2   2 ⎠       ⎝2   2 ⎠ \n",
              "- ──────────── + ────────────\n",
              "       5              5      "
            ],
            "text/latex": "$\\displaystyle - \\frac{\\sqrt{5} \\left(\\frac{1}{2} - \\frac{\\sqrt{5}}{2}\\right)^{n}}{5} + \\frac{\\sqrt{5} \\left(\\frac{1}{2} + \\frac{\\sqrt{5}}{2}\\right)^{n}}{5}$"
          },
          "metadata": {},
          "execution_count": 29
        }
      ]
    },
    {
      "cell_type": "markdown",
      "source": [
        "## Summation"
      ],
      "metadata": {
        "id": "acZTqzmKVLen"
      }
    },
    {
      "cell_type": "code",
      "source": [
        "Sum(k,(k,1,m))"
      ],
      "metadata": {
        "colab": {
          "base_uri": "https://localhost:8080/",
          "height": 67
        },
        "id": "CRoqkIYfVHd8",
        "outputId": "ce2d431b-f0b6-47c2-dcf7-552828832fa6"
      },
      "execution_count": null,
      "outputs": [
        {
          "output_type": "execute_result",
          "data": {
            "text/plain": [
              "  m    \n",
              " ___   \n",
              " ╲     \n",
              "  ╲    \n",
              "  ╱   k\n",
              " ╱     \n",
              " ‾‾‾   \n",
              "k = 1  "
            ],
            "text/latex": "$\\displaystyle \\sum_{k=1}^{m} k$"
          },
          "metadata": {},
          "execution_count": 30
        }
      ]
    },
    {
      "cell_type": "code",
      "source": [
        "Sum(x**k,(k,0,oo))"
      ],
      "metadata": {
        "colab": {
          "base_uri": "https://localhost:8080/",
          "height": 67
        },
        "id": "YS7d3zr1VSn8",
        "outputId": "6ceb9ae9-5db1-4e59-fd2a-17b68fb697da"
      },
      "execution_count": null,
      "outputs": [
        {
          "output_type": "execute_result",
          "data": {
            "text/plain": [
              "  ∞     \n",
              " ___    \n",
              " ╲      \n",
              "  ╲    k\n",
              "  ╱   x \n",
              " ╱      \n",
              " ‾‾‾    \n",
              "k = 0   "
            ],
            "text/latex": "$\\displaystyle \\sum_{k=0}^{\\infty} x^{k}$"
          },
          "metadata": {},
          "execution_count": 31
        }
      ]
    },
    {
      "cell_type": "code",
      "source": [
        "expr = Sum(1/2**k, (k, 0, oo))\n",
        "Eq(expr, expr.doit())"
      ],
      "metadata": {
        "colab": {
          "base_uri": "https://localhost:8080/",
          "height": 67
        },
        "id": "MwK7KQTKVWJ0",
        "outputId": "b5da7b17-6b5d-4c3a-f668-8c3d50dc4121"
      },
      "execution_count": null,
      "outputs": [
        {
          "output_type": "execute_result",
          "data": {
            "text/plain": [
              "  ∞          \n",
              " ___         \n",
              " ╲           \n",
              "  ╲    -k    \n",
              "  ╱   2   = 2\n",
              " ╱           \n",
              " ‾‾‾         \n",
              "k = 0        "
            ],
            "text/latex": "$\\displaystyle \\sum_{k=0}^{\\infty} 2^{- k} = 2$"
          },
          "metadata": {},
          "execution_count": 36
        }
      ]
    },
    {
      "cell_type": "code",
      "source": [
        "Product(k**2,(k,1,m))"
      ],
      "metadata": {
        "colab": {
          "base_uri": "https://localhost:8080/",
          "height": 67
        },
        "id": "j488tB92VUW1",
        "outputId": "3c34286d-c70b-4cdc-e528-4c475d5a4e15"
      },
      "execution_count": null,
      "outputs": [
        {
          "output_type": "execute_result",
          "data": {
            "text/plain": [
              "  m      \n",
              "─┬──┬─   \n",
              " │  │   2\n",
              " │  │  k \n",
              " │  │    \n",
              "k = 1    "
            ],
            "text/latex": "$\\displaystyle \\prod_{k=1}^{m} k^{2}$"
          },
          "metadata": {},
          "execution_count": 32
        }
      ]
    },
    {
      "cell_type": "code",
      "source": [
        "product(x, (x, 1, k), (k, 1, n))"
      ],
      "metadata": {
        "colab": {
          "base_uri": "https://localhost:8080/",
          "height": 67
        },
        "id": "FJeul5aPVZc8",
        "outputId": "692255fe-b5d4-44cc-9236-93bb7736adec"
      },
      "execution_count": null,
      "outputs": [
        {
          "output_type": "execute_result",
          "data": {
            "text/plain": [
              "  n     \n",
              "─┬─┬─   \n",
              " │ │  k!\n",
              " │ │    \n",
              "k = 1   "
            ],
            "text/latex": "$\\displaystyle \\prod_{k=1}^{n} k!$"
          },
          "metadata": {},
          "execution_count": 37
        }
      ]
    }
  ]
}