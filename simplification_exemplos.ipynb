{
  "nbformat": 4,
  "nbformat_minor": 0,
  "metadata": {
    "colab": {
      "provenance": [],
      "authorship_tag": "ABX9TyPISaPA+dKZfJZGUMC8brmV",
      "include_colab_link": true
    },
    "kernelspec": {
      "name": "python3",
      "display_name": "Python 3"
    },
    "language_info": {
      "name": "python"
    }
  },
  "cells": [
    {
      "cell_type": "markdown",
      "metadata": {
        "id": "view-in-github",
        "colab_type": "text"
      },
      "source": [
        "<a href=\"https://colab.research.google.com/github/dionipadilha/sympy/blob/main/simplification_exemplos.ipynb\" target=\"_parent\"><img src=\"https://colab.research.google.com/assets/colab-badge.svg\" alt=\"Open In Colab\"/></a>"
      ]
    },
    {
      "cell_type": "markdown",
      "source": [
        "# Simplifications by exemplos"
      ],
      "metadata": {
        "id": "6kRo88rGFlGN"
      }
    },
    {
      "cell_type": "code",
      "execution_count": null,
      "metadata": {
        "id": "W8jQjlhgERFR"
      },
      "outputs": [],
      "source": [
        "# symbolic environment\n",
        "from sympy import *\n",
        "init_printing()\n",
        "a, b, c = symbols('a, b, c')\n",
        "x, y, z = symbols('x, y, z')\n",
        "r, s, t = symbols('r, s, t')\n",
        "k, m, n = symbols('k m n', integer=True)\n",
        "f, g, h = symbols('f g h', cls=Function)"
      ]
    },
    {
      "cell_type": "markdown",
      "source": [
        "## Simplify a simple expression"
      ],
      "metadata": {
        "id": "RhDQcfnXICc1"
      }
    },
    {
      "cell_type": "code",
      "source": [
        "#  create a expression:\n",
        "expr = (x+2)*(x-2)\n",
        "expr"
      ],
      "metadata": {
        "colab": {
          "base_uri": "https://localhost:8080/",
          "height": 38
        },
        "id": "yj7-qy3NEgRT",
        "outputId": "c08e0996-8ca2-47e5-dc01-f237d1ccd4be"
      },
      "execution_count": null,
      "outputs": [
        {
          "output_type": "execute_result",
          "data": {
            "text/plain": [
              "(x - 2)⋅(x + 2)"
            ],
            "text/latex": "$\\displaystyle \\left(x - 2\\right) \\left(x + 2\\right)$"
          },
          "metadata": {},
          "execution_count": 2
        }
      ]
    },
    {
      "cell_type": "code",
      "source": [
        "# try standard simplification:\n",
        "simplified_expr = expr.simplify()\n",
        "simplified_expr"
      ],
      "metadata": {
        "colab": {
          "base_uri": "https://localhost:8080/",
          "height": 38
        },
        "id": "5I5TMebPPam7",
        "outputId": "e9ba967f-123f-474e-d3cf-c31b4a6bc252"
      },
      "execution_count": null,
      "outputs": [
        {
          "output_type": "execute_result",
          "data": {
            "text/plain": [
              " 2    \n",
              "x  - 4"
            ],
            "text/latex": "$\\displaystyle x^{2} - 4$"
          },
          "metadata": {},
          "execution_count": 3
        }
      ]
    },
    {
      "cell_type": "code",
      "source": [
        "#  expand simplification:\n",
        "expr = (x+2)*(x-2)\n",
        "expanded_expr = expr.expand()\n",
        "expanded_expr"
      ],
      "metadata": {
        "colab": {
          "base_uri": "https://localhost:8080/",
          "height": 38
        },
        "id": "BPlgDccdIsrO",
        "outputId": "45fda78d-7043-41ef-e0da-8dc0327726d6"
      },
      "execution_count": null,
      "outputs": [
        {
          "output_type": "execute_result",
          "data": {
            "text/plain": [
              " 2    \n",
              "x  - 4"
            ],
            "text/latex": "$\\displaystyle x^{2} - 4$"
          },
          "metadata": {},
          "execution_count": 4
        }
      ]
    },
    {
      "cell_type": "code",
      "source": [
        "#  factor simplification:\n",
        "factored_expr = expanded_expr.factor()\n",
        "factored_expr"
      ],
      "metadata": {
        "colab": {
          "base_uri": "https://localhost:8080/",
          "height": 38
        },
        "id": "RlqKaoMjInIE",
        "outputId": "4ff90f07-4d48-4340-b20b-90f447030755"
      },
      "execution_count": null,
      "outputs": [
        {
          "output_type": "execute_result",
          "data": {
            "text/plain": [
              "(x - 2)⋅(x + 2)"
            ],
            "text/latex": "$\\displaystyle \\left(x - 2\\right) \\left(x + 2\\right)$"
          },
          "metadata": {},
          "execution_count": 5
        }
      ]
    },
    {
      "cell_type": "markdown",
      "source": [
        "## Simplify with assumptions"
      ],
      "metadata": {
        "id": "l-2m9YX4MD5s"
      }
    },
    {
      "cell_type": "code",
      "source": [
        "# create an expression:\n",
        "expr = log((x+2)*(x-2)) + log(x)\n",
        "expr"
      ],
      "metadata": {
        "colab": {
          "base_uri": "https://localhost:8080/",
          "height": 38
        },
        "id": "LRW5IyWhMn8n",
        "outputId": "4344fa7c-0c33-439b-98d7-e581ae12c8c3"
      },
      "execution_count": null,
      "outputs": [
        {
          "output_type": "execute_result",
          "data": {
            "text/plain": [
              "log(x) + log((x - 2)⋅(x + 2))"
            ],
            "text/latex": "$\\displaystyle \\log{\\left(x \\right)} + \\log{\\left(\\left(x - 2\\right) \\left(x + 2\\right) \\right)}$"
          },
          "metadata": {},
          "execution_count": 6
        }
      ]
    },
    {
      "cell_type": "code",
      "source": [
        "# try standard simplification:\n",
        "simplified_expr = expr.simplify()\n",
        "simplified_expr"
      ],
      "metadata": {
        "colab": {
          "base_uri": "https://localhost:8080/",
          "height": 38
        },
        "id": "7tYzRXUHMY8h",
        "outputId": "0c4843b6-48a7-4ef3-af2d-a00cf88e5bf1"
      },
      "execution_count": null,
      "outputs": [
        {
          "output_type": "execute_result",
          "data": {
            "text/plain": [
              "            ⎛ 2    ⎞\n",
              "log(x) + log⎝x  - 4⎠"
            ],
            "text/latex": "$\\displaystyle \\log{\\left(x \\right)} + \\log{\\left(x^{2} - 4 \\right)}$"
          },
          "metadata": {},
          "execution_count": 7
        }
      ]
    },
    {
      "cell_type": "code",
      "source": [
        "# expand will ignore the rest of the expression:\n",
        "expanded_expr = expr.expand()\n",
        "expanded_expr"
      ],
      "metadata": {
        "colab": {
          "base_uri": "https://localhost:8080/",
          "height": 38
        },
        "id": "CjjYTjsDEsVL",
        "outputId": "21edafdd-183c-48ed-bc1c-2d2f867f4b06"
      },
      "execution_count": null,
      "outputs": [
        {
          "output_type": "execute_result",
          "data": {
            "text/plain": [
              "            ⎛ 2    ⎞\n",
              "log(x) + log⎝x  - 4⎠"
            ],
            "text/latex": "$\\displaystyle \\log{\\left(x \\right)} + \\log{\\left(x^{2} - 4 \\right)}$"
          },
          "metadata": {},
          "execution_count": 8
        }
      ]
    },
    {
      "cell_type": "code",
      "source": [
        "# factor not will ignore the rest of the expression:\n",
        "expanded_expr.factor()"
      ],
      "metadata": {
        "colab": {
          "base_uri": "https://localhost:8080/",
          "height": 38
        },
        "id": "zCdQpdKjIWV7",
        "outputId": "9377678d-fad5-4d57-dd25-47ef78ae711e"
      },
      "execution_count": null,
      "outputs": [
        {
          "output_type": "execute_result",
          "data": {
            "text/plain": [
              "            ⎛ 2    ⎞\n",
              "log(x) + log⎝x  - 4⎠"
            ],
            "text/latex": "$\\displaystyle \\log{\\left(x \\right)} + \\log{\\left(x^{2} - 4 \\right)}$"
          },
          "metadata": {},
          "execution_count": 9
        }
      ]
    },
    {
      "cell_type": "code",
      "source": [
        "# subexpression simplification:\n",
        "subexpr = x**2-4\n",
        "expr_substituted = expanded_expr.subs(subexpr, subexpr.factor())\n",
        "expr_substituted"
      ],
      "metadata": {
        "colab": {
          "base_uri": "https://localhost:8080/",
          "height": 38
        },
        "id": "um1F59kPKQNb",
        "outputId": "b151b6d3-bf03-4f2d-9a23-e5751f19a1ee"
      },
      "execution_count": null,
      "outputs": [
        {
          "output_type": "execute_result",
          "data": {
            "text/plain": [
              "log(x) + log((x - 2)⋅(x + 2))"
            ],
            "text/latex": "$\\displaystyle \\log{\\left(x \\right)} + \\log{\\left(\\left(x - 2\\right) \\left(x + 2\\right) \\right)}$"
          },
          "metadata": {},
          "execution_count": 10
        }
      ]
    },
    {
      "cell_type": "code",
      "source": [
        "# log simplification:\n",
        "log_combined_expr = logcombine(expr)\n",
        "log_combined_expr"
      ],
      "metadata": {
        "colab": {
          "base_uri": "https://localhost:8080/",
          "height": 38
        },
        "id": "Q_9HD8NsJT7_",
        "outputId": "acbfd5a4-4d80-4952-a085-6963b3ee14e3"
      },
      "execution_count": null,
      "outputs": [
        {
          "output_type": "execute_result",
          "data": {
            "text/plain": [
              "log(x) + log((x - 2)⋅(x + 2))"
            ],
            "text/latex": "$\\displaystyle \\log{\\left(x \\right)} + \\log{\\left(\\left(x - 2\\right) \\left(x + 2\\right) \\right)}$"
          },
          "metadata": {},
          "execution_count": 11
        }
      ]
    },
    {
      "cell_type": "code",
      "source": [
        "# additional assumptions:\n",
        "log_combined_forced_expr =  logcombine(expr, force=True)\n",
        "log_combined_forced_expr"
      ],
      "metadata": {
        "colab": {
          "base_uri": "https://localhost:8080/",
          "height": 38
        },
        "id": "Rk5n8LkULYp9",
        "outputId": "c98584c1-5a0c-446c-8c7b-4efe6046f604"
      },
      "execution_count": null,
      "outputs": [
        {
          "output_type": "execute_result",
          "data": {
            "text/plain": [
              "log(x⋅(x - 2)⋅(x + 2))"
            ],
            "text/latex": "$\\displaystyle \\log{\\left(x \\left(x - 2\\right) \\left(x + 2\\right) \\right)}$"
          },
          "metadata": {},
          "execution_count": 12
        }
      ]
    },
    {
      "cell_type": "code",
      "source": [
        "# try #1 full simplification:\n",
        "log_combined_forced_expanded_expr = logcombine(expr.expand(), force=True)\n",
        "log_combined_forced_expanded_expr"
      ],
      "metadata": {
        "colab": {
          "base_uri": "https://localhost:8080/",
          "height": 38
        },
        "id": "O3UMQg6mQNiV",
        "outputId": "18f598d8-26e1-49c1-c1c7-42fd4acff168"
      },
      "execution_count": null,
      "outputs": [
        {
          "output_type": "execute_result",
          "data": {
            "text/plain": [
              "   ⎛  ⎛ 2    ⎞⎞\n",
              "log⎝x⋅⎝x  - 4⎠⎠"
            ],
            "text/latex": "$\\displaystyle \\log{\\left(x \\left(x^{2} - 4\\right) \\right)}$"
          },
          "metadata": {},
          "execution_count": 13
        }
      ]
    },
    {
      "cell_type": "code",
      "source": [
        "# try #2 full simplification:\n",
        "expanded_log_combined_forced_expr = logcombine(expr, force=True).expand()\n",
        "expanded_log_combined_forced_expr"
      ],
      "metadata": {
        "colab": {
          "base_uri": "https://localhost:8080/",
          "height": 38
        },
        "id": "iVh2A2JqLopZ",
        "outputId": "4483c12b-d002-4afe-cd98-7bc224ce7101"
      },
      "execution_count": null,
      "outputs": [
        {
          "output_type": "execute_result",
          "data": {
            "text/plain": [
              "   ⎛ 3      ⎞\n",
              "log⎝x  - 4⋅x⎠"
            ],
            "text/latex": "$\\displaystyle \\log{\\left(x^{3} - 4 x \\right)}$"
          },
          "metadata": {},
          "execution_count": 14
        }
      ]
    },
    {
      "cell_type": "markdown",
      "source": [
        "## Simplify a more complex expression"
      ],
      "metadata": {
        "id": "RPSqCKViIIDj"
      }
    },
    {
      "cell_type": "code",
      "source": [
        "# create a expression:\n",
        "expr =  (x**(a/2) + 1)**2 * (x**(a/2) - 1)**2 / (x**a - 1)\n",
        "expr"
      ],
      "metadata": {
        "colab": {
          "base_uri": "https://localhost:8080/",
          "height": 60
        },
        "id": "50HTbWR5E1Fz",
        "outputId": "8e19f501-bfeb-4c9a-b6e6-d4ba6426d92c"
      },
      "execution_count": null,
      "outputs": [
        {
          "output_type": "execute_result",
          "data": {
            "text/plain": [
              "        2         2\n",
              "⎛ a    ⎞  ⎛ a    ⎞ \n",
              "⎜ ─    ⎟  ⎜ ─    ⎟ \n",
              "⎜ 2    ⎟  ⎜ 2    ⎟ \n",
              "⎝x  - 1⎠ ⋅⎝x  + 1⎠ \n",
              "───────────────────\n",
              "        a          \n",
              "       x  - 1      "
            ],
            "text/latex": "$\\displaystyle \\frac{\\left(x^{\\frac{a}{2}} - 1\\right)^{2} \\left(x^{\\frac{a}{2}} + 1\\right)^{2}}{x^{a} - 1}$"
          },
          "metadata": {},
          "execution_count": 15
        }
      ]
    },
    {
      "cell_type": "code",
      "source": [
        "# try standard simplification:\n",
        "simplified_expr = expr.simplify()\n",
        "simplified_expr"
      ],
      "metadata": {
        "colab": {
          "base_uri": "https://localhost:8080/",
          "height": 38
        },
        "id": "WGYXs1boNXAA",
        "outputId": "fbb33e5a-3ce0-46bd-d395-43d19ae692e4"
      },
      "execution_count": null,
      "outputs": [
        {
          "output_type": "execute_result",
          "data": {
            "text/plain": [
              " a    \n",
              "x  - 1"
            ],
            "text/latex": "$\\displaystyle x^{a} - 1$"
          },
          "metadata": {},
          "execution_count": 16
        }
      ]
    },
    {
      "cell_type": "code",
      "source": [
        "# try expand simplification:\n",
        "factored_expr = expr.factor()\n",
        "factored_expr"
      ],
      "metadata": {
        "colab": {
          "base_uri": "https://localhost:8080/",
          "height": 60
        },
        "id": "fxBjlmOnU57h",
        "outputId": "85f2ed87-533d-4837-b036-eaff8d47b2cd"
      },
      "execution_count": null,
      "outputs": [
        {
          "output_type": "execute_result",
          "data": {
            "text/plain": [
              "        2         2\n",
              "⎛ a    ⎞  ⎛ a    ⎞ \n",
              "⎜ ─    ⎟  ⎜ ─    ⎟ \n",
              "⎜ 2    ⎟  ⎜ 2    ⎟ \n",
              "⎝x  - 1⎠ ⋅⎝x  + 1⎠ \n",
              "───────────────────\n",
              "        a          \n",
              "       x  - 1      "
            ],
            "text/latex": "$\\displaystyle \\frac{\\left(x^{\\frac{a}{2}} - 1\\right)^{2} \\left(x^{\\frac{a}{2}} + 1\\right)^{2}}{x^{a} - 1}$"
          },
          "metadata": {},
          "execution_count": 17
        }
      ]
    },
    {
      "cell_type": "code",
      "source": [
        "# try expand simplification:\n",
        "expanded_expr = expr.expand()\n",
        "expanded_expr"
      ],
      "metadata": {
        "colab": {
          "base_uri": "https://localhost:8080/",
          "height": 55
        },
        "id": "wMSzIgyzF67M",
        "outputId": "f0a20f42-c784-47cd-e2af-85191cf277d8"
      },
      "execution_count": null,
      "outputs": [
        {
          "output_type": "execute_result",
          "data": {
            "text/plain": [
              "  2⋅a        a          \n",
              " x        2⋅x       1   \n",
              "────── - ────── + ──────\n",
              " a        a        a    \n",
              "x  - 1   x  - 1   x  - 1"
            ],
            "text/latex": "$\\displaystyle \\frac{x^{2 a}}{x^{a} - 1} - \\frac{2 x^{a}}{x^{a} - 1} + \\frac{1}{x^{a} - 1}$"
          },
          "metadata": {},
          "execution_count": 23
        }
      ]
    },
    {
      "cell_type": "code",
      "source": [
        "# try expand simplification:\n",
        "factored_expanded_expr = expanded_expr.factor()\n",
        "factored_expanded_expr"
      ],
      "metadata": {
        "colab": {
          "base_uri": "https://localhost:8080/",
          "height": 38
        },
        "id": "sZ-HpxJCUszk",
        "outputId": "b826f5bc-37fe-4b48-d740-943ad8cfbd29"
      },
      "execution_count": null,
      "outputs": [
        {
          "output_type": "execute_result",
          "data": {
            "text/plain": [
              " a    \n",
              "x  - 1"
            ],
            "text/latex": "$\\displaystyle x^{a} - 1$"
          },
          "metadata": {},
          "execution_count": 24
        }
      ]
    },
    {
      "cell_type": "code",
      "source": [
        "# try together simplification:\n",
        "togethered_expanded_expr = expanded_expr.together()\n",
        "togethered_expanded_expr"
      ],
      "metadata": {
        "colab": {
          "base_uri": "https://localhost:8080/",
          "height": 55
        },
        "id": "UbSeqK0SG0hx",
        "outputId": "460a017c-d6e5-4a0c-bd8a-a2be6aff0e67"
      },
      "execution_count": null,
      "outputs": [
        {
          "output_type": "execute_result",
          "data": {
            "text/plain": [
              " 2⋅a      a    \n",
              "x    - 2⋅x  + 1\n",
              "───────────────\n",
              "      a        \n",
              "     x  - 1    "
            ],
            "text/latex": "$\\displaystyle \\frac{x^{2 a} - 2 x^{a} + 1}{x^{a} - 1}$"
          },
          "metadata": {},
          "execution_count": 25
        }
      ]
    },
    {
      "cell_type": "code",
      "source": [
        "# full simplification:\n",
        "full_simplificated_expr = expr.cancel()\n",
        "full_simplificated_expr"
      ],
      "metadata": {
        "colab": {
          "base_uri": "https://localhost:8080/",
          "height": 38
        },
        "id": "ruaxrGWcF_Dj",
        "outputId": "46fdb7db-68c3-46b5-9567-887bfecd2b72"
      },
      "execution_count": null,
      "outputs": [
        {
          "output_type": "execute_result",
          "data": {
            "text/plain": [
              " a    \n",
              "x  - 1"
            ],
            "text/latex": "$\\displaystyle x^{a} - 1$"
          },
          "metadata": {},
          "execution_count": 26
        }
      ]
    }
  ]
}