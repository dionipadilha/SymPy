{
  "nbformat": 4,
  "nbformat_minor": 0,
  "metadata": {
    "colab": {
      "provenance": [],
      "authorship_tag": "ABX9TyNEt8s7KTQkb3nSU0olO9PQ",
      "include_colab_link": true
    },
    "kernelspec": {
      "name": "python3",
      "display_name": "Python 3"
    },
    "language_info": {
      "name": "python"
    }
  },
  "cells": [
    {
      "cell_type": "markdown",
      "metadata": {
        "id": "view-in-github",
        "colab_type": "text"
      },
      "source": [
        "<a href=\"https://colab.research.google.com/github/dionipadilha/sympy/blob/main/simplification_powres.ipynb\" target=\"_parent\"><img src=\"https://colab.research.google.com/assets/colab-badge.svg\" alt=\"Open In Colab\"/></a>"
      ]
    },
    {
      "cell_type": "markdown",
      "source": [
        "# Powers"
      ],
      "metadata": {
        "id": "qw-fbEK6lefY"
      }
    },
    {
      "cell_type": "code",
      "execution_count": null,
      "metadata": {
        "id": "M8JNWaVWlR30"
      },
      "outputs": [],
      "source": [
        "# symbolic environment\n",
        "from sympy import *\n",
        "init_printing()"
      ]
    },
    {
      "cell_type": "markdown",
      "source": [
        "## Power Identity 1"
      ],
      "metadata": {
        "id": "zwfGtHfPmb86"
      }
    },
    {
      "cell_type": "code",
      "source": [
        "a, b, x = symbols('a, b, x')\n",
        "expr = x**a * x**b\n",
        "expr"
      ],
      "metadata": {
        "colab": {
          "base_uri": "https://localhost:8080/",
          "height": 38
        },
        "id": "kfFEsxkBlYv5",
        "outputId": "f749e841-5537-4d8e-fdc3-83bb18bc0369"
      },
      "execution_count": null,
      "outputs": [
        {
          "output_type": "execute_result",
          "data": {
            "text/plain": [
              " a  b\n",
              "x ⋅x "
            ],
            "text/latex": "$\\displaystyle x^{a} x^{b}$"
          },
          "metadata": {},
          "execution_count": 22
        }
      ]
    },
    {
      "cell_type": "code",
      "source": [
        "expr.powsimp()"
      ],
      "metadata": {
        "colab": {
          "base_uri": "https://localhost:8080/",
          "height": 38
        },
        "id": "EZLD98PPlnmh",
        "outputId": "d0017b92-73fc-4fcf-cff3-129d0219d563"
      },
      "execution_count": null,
      "outputs": [
        {
          "output_type": "execute_result",
          "data": {
            "text/plain": [
              " a + b\n",
              "x     "
            ],
            "text/latex": "$\\displaystyle x^{a + b}$"
          },
          "metadata": {},
          "execution_count": 23
        }
      ]
    },
    {
      "cell_type": "markdown",
      "source": [
        "## Power Identity 2"
      ],
      "metadata": {
        "id": "yM-4sfGlmgGv"
      }
    },
    {
      "cell_type": "code",
      "source": [
        "a, b, x, y = symbols('a, b, x, y')\n",
        "expr = x**a * y**a\n",
        "expr"
      ],
      "metadata": {
        "colab": {
          "base_uri": "https://localhost:8080/",
          "height": 38
        },
        "id": "goGFy33JlwSA",
        "outputId": "848a5bde-b066-4943-a370-39b6198f13ac"
      },
      "execution_count": null,
      "outputs": [
        {
          "output_type": "execute_result",
          "data": {
            "text/plain": [
              " a  a\n",
              "x ⋅y "
            ],
            "text/latex": "$\\displaystyle x^{a} y^{a}$"
          },
          "metadata": {},
          "execution_count": 25
        }
      ]
    },
    {
      "cell_type": "code",
      "source": [
        "expr.powsimp()"
      ],
      "metadata": {
        "colab": {
          "base_uri": "https://localhost:8080/",
          "height": 38
        },
        "id": "yjbBF7FxnT8K",
        "outputId": "f1bcf517-9fa7-46cb-e690-cb41d30a56de"
      },
      "execution_count": null,
      "outputs": [
        {
          "output_type": "execute_result",
          "data": {
            "text/plain": [
              " a  a\n",
              "x ⋅y "
            ],
            "text/latex": "$\\displaystyle x^{a} y^{a}$"
          },
          "metadata": {},
          "execution_count": 26
        }
      ]
    },
    {
      "cell_type": "code",
      "source": [
        "expr.powsimp(force=True)"
      ],
      "metadata": {
        "colab": {
          "base_uri": "https://localhost:8080/",
          "height": 38
        },
        "id": "UqA2LHc1mIxZ",
        "outputId": "a26e5dfa-48df-42b6-a545-420102bea432"
      },
      "execution_count": null,
      "outputs": [
        {
          "output_type": "execute_result",
          "data": {
            "text/plain": [
              "     a\n",
              "(x⋅y) "
            ],
            "text/latex": "$\\displaystyle \\left(x y\\right)^{a}$"
          },
          "metadata": {},
          "execution_count": 27
        }
      ]
    },
    {
      "cell_type": "code",
      "source": [
        "b = symbols('b')\n",
        "a = symbols('a', real=True)\n",
        "x, y = symbols('x, y', positive=True)\n",
        "expr = x**a * y**a\n",
        "expr"
      ],
      "metadata": {
        "colab": {
          "base_uri": "https://localhost:8080/",
          "height": 38
        },
        "id": "8KL14lFGmVZY",
        "outputId": "46fb6191-b362-4799-c977-8c08f09c3197"
      },
      "execution_count": null,
      "outputs": [
        {
          "output_type": "execute_result",
          "data": {
            "text/plain": [
              " a  a\n",
              "x ⋅y "
            ],
            "text/latex": "$\\displaystyle x^{a} y^{a}$"
          },
          "metadata": {},
          "execution_count": 30
        }
      ]
    },
    {
      "cell_type": "code",
      "source": [
        "expr.powsimp()"
      ],
      "metadata": {
        "colab": {
          "base_uri": "https://localhost:8080/",
          "height": 38
        },
        "id": "NZce7SlJn3aP",
        "outputId": "48bd81c1-d0fe-40d1-f38d-cf35c7d79dce"
      },
      "execution_count": null,
      "outputs": [
        {
          "output_type": "execute_result",
          "data": {
            "text/plain": [
              "     a\n",
              "(x⋅y) "
            ],
            "text/latex": "$\\displaystyle \\left(x y\\right)^{a}$"
          },
          "metadata": {},
          "execution_count": 31
        }
      ]
    },
    {
      "cell_type": "markdown",
      "source": [
        "## Power Identity 3"
      ],
      "metadata": {
        "id": "OJI7HLCvoHp8"
      }
    },
    {
      "cell_type": "code",
      "source": [
        "a, b, x = symbols('a, b, x')\n",
        "expr = (x**a)**b\n",
        "expr"
      ],
      "metadata": {
        "colab": {
          "base_uri": "https://localhost:8080/",
          "height": 40
        },
        "id": "4kxZzSLLoEZv",
        "outputId": "bee3ee16-7053-457d-d093-d37b8361e6ab"
      },
      "execution_count": null,
      "outputs": [
        {
          "output_type": "execute_result",
          "data": {
            "text/plain": [
              "    b\n",
              "⎛ a⎞ \n",
              "⎝x ⎠ "
            ],
            "text/latex": "$\\displaystyle \\left(x^{a}\\right)^{b}$"
          },
          "metadata": {},
          "execution_count": 37
        }
      ]
    },
    {
      "cell_type": "code",
      "source": [
        "expr.powsimp()"
      ],
      "metadata": {
        "colab": {
          "base_uri": "https://localhost:8080/",
          "height": 40
        },
        "id": "o4cS-DhPobfa",
        "outputId": "4ef4d570-5ebd-42b5-a846-491dd7c28a38"
      },
      "execution_count": null,
      "outputs": [
        {
          "output_type": "execute_result",
          "data": {
            "text/plain": [
              "    b\n",
              "⎛ a⎞ \n",
              "⎝x ⎠ "
            ],
            "text/latex": "$\\displaystyle \\left(x^{a}\\right)^{b}$"
          },
          "metadata": {},
          "execution_count": 38
        }
      ]
    },
    {
      "cell_type": "code",
      "source": [
        "expr.powsimp(force=True)"
      ],
      "metadata": {
        "colab": {
          "base_uri": "https://localhost:8080/",
          "height": 40
        },
        "id": "_RXWJa44pAd9",
        "outputId": "428beb89-196b-41f9-a7fa-257bd89f328e"
      },
      "execution_count": null,
      "outputs": [
        {
          "output_type": "execute_result",
          "data": {
            "text/plain": [
              "    b\n",
              "⎛ a⎞ \n",
              "⎝x ⎠ "
            ],
            "text/latex": "$\\displaystyle \\left(x^{a}\\right)^{b}$"
          },
          "metadata": {},
          "execution_count": 39
        }
      ]
    },
    {
      "cell_type": "code",
      "source": [
        "a = symbols('a', real=True)\n",
        "b = symbols('b')\n",
        "x = symbols('x', positive=True)\n",
        "y = symbols('y')\n",
        "expr = (x**a)**b\n",
        "expr"
      ],
      "metadata": {
        "colab": {
          "base_uri": "https://localhost:8080/",
          "height": 38
        },
        "id": "xaVV9nSsoj-5",
        "outputId": "61d89b42-481a-4737-fa64-f780f2054a0f"
      },
      "execution_count": null,
      "outputs": [
        {
          "output_type": "execute_result",
          "data": {
            "text/plain": [
              " a⋅b\n",
              "x   "
            ],
            "text/latex": "$\\displaystyle x^{a b}$"
          },
          "metadata": {},
          "execution_count": 53
        }
      ]
    },
    {
      "cell_type": "markdown",
      "source": [
        "## Sqrt Identity"
      ],
      "metadata": {
        "id": "406j_5kbqwtD"
      }
    },
    {
      "cell_type": "code",
      "source": [
        "x = symbols('x')\n",
        "sqrt(x)"
      ],
      "metadata": {
        "colab": {
          "base_uri": "https://localhost:8080/",
          "height": 38
        },
        "id": "rs9nlFqJra9Z",
        "outputId": "8a6ea99d-d3cd-4c25-933b-7f9bd6e63550"
      },
      "execution_count": null,
      "outputs": [
        {
          "output_type": "execute_result",
          "data": {
            "text/plain": [
              "√x"
            ],
            "text/latex": "$\\displaystyle \\sqrt{x}$"
          },
          "metadata": {},
          "execution_count": 91
        }
      ]
    },
    {
      "cell_type": "code",
      "source": [
        "x**Rational(1, 2)"
      ],
      "metadata": {
        "colab": {
          "base_uri": "https://localhost:8080/",
          "height": 38
        },
        "id": "QIVqIZxno63L",
        "outputId": "93f3ca6c-0fc1-4a95-8de5-3014f2de3fe2"
      },
      "execution_count": null,
      "outputs": [
        {
          "output_type": "execute_result",
          "data": {
            "text/plain": [
              "√x"
            ],
            "text/latex": "$\\displaystyle \\sqrt{x}$"
          },
          "metadata": {},
          "execution_count": 92
        }
      ]
    },
    {
      "cell_type": "code",
      "source": [
        "(x**2)**Rational(1, 2)"
      ],
      "metadata": {
        "colab": {
          "base_uri": "https://localhost:8080/",
          "height": 39
        },
        "id": "Pe5tEPxnq5fJ",
        "outputId": "ca2ad5d9-004f-4b7e-a1a7-eaee398db6d6"
      },
      "execution_count": null,
      "outputs": [
        {
          "output_type": "execute_result",
          "data": {
            "text/plain": [
              "   ____\n",
              "  ╱  2 \n",
              "╲╱  x  "
            ],
            "text/latex": "$\\displaystyle \\sqrt{x^{2}}$"
          },
          "metadata": {},
          "execution_count": 93
        }
      ]
    },
    {
      "cell_type": "code",
      "source": [
        "x = symbols('x', real=True)\n",
        "(x**2)**Rational(1, 2)"
      ],
      "metadata": {
        "colab": {
          "base_uri": "https://localhost:8080/",
          "height": 38
        },
        "id": "1phVR2s9q8vp",
        "outputId": "41253627-1c90-4390-8eaf-f8b509858eff"
      },
      "execution_count": null,
      "outputs": [
        {
          "output_type": "execute_result",
          "data": {
            "text/plain": [
              "│x│"
            ],
            "text/latex": "$\\displaystyle \\left|{x}\\right|$"
          },
          "metadata": {},
          "execution_count": 84
        }
      ]
    },
    {
      "cell_type": "code",
      "source": [
        "x = symbols('x', positive=True)\n",
        "(x**2)**Rational(1, 2)"
      ],
      "metadata": {
        "colab": {
          "base_uri": "https://localhost:8080/",
          "height": 38
        },
        "id": "urr5Lj2QrOz6",
        "outputId": "1651b802-d88a-42a5-9c25-d1300e9bf710"
      },
      "execution_count": null,
      "outputs": [
        {
          "output_type": "execute_result",
          "data": {
            "text/plain": [
              "x"
            ],
            "text/latex": "$\\displaystyle x$"
          },
          "metadata": {},
          "execution_count": 94
        }
      ]
    },
    {
      "cell_type": "code",
      "source": [
        "x = symbols('x')\n",
        "y = symbols('y')\n",
        "expr = sqrt(x) * sqrt(y)\n",
        "expr"
      ],
      "metadata": {
        "colab": {
          "base_uri": "https://localhost:8080/",
          "height": 38
        },
        "id": "p9JPNjqRrSna",
        "outputId": "d906f062-5033-441d-bdd2-0f40bf57a471"
      },
      "execution_count": null,
      "outputs": [
        {
          "output_type": "execute_result",
          "data": {
            "text/plain": [
              "√x⋅√y"
            ],
            "text/latex": "$\\displaystyle \\sqrt{x} \\sqrt{y}$"
          },
          "metadata": {},
          "execution_count": 95
        }
      ]
    },
    {
      "cell_type": "code",
      "source": [
        "expr = (sqrt(x) * sqrt(y))\n",
        "sqrt_combine = {(sqrt(x) * sqrt(y)): sqrt(x*y)}\n",
        "expr.subs(sqrt_combine)"
      ],
      "metadata": {
        "colab": {
          "base_uri": "https://localhost:8080/",
          "height": 38
        },
        "id": "lS-nATe3sNwD",
        "outputId": "e4825a60-165b-4db1-d8eb-578dd61454ec"
      },
      "execution_count": null,
      "outputs": [
        {
          "output_type": "execute_result",
          "data": {
            "text/plain": [
              "  _____\n",
              "╲╱ x⋅y "
            ],
            "text/latex": "$\\displaystyle \\sqrt{x y}$"
          },
          "metadata": {},
          "execution_count": 97
        }
      ]
    },
    {
      "cell_type": "code",
      "source": [
        "expr = sqrt(1/x)\n",
        "expr"
      ],
      "metadata": {
        "colab": {
          "base_uri": "https://localhost:8080/",
          "height": 58
        },
        "id": "pTzfqvdEsPTj",
        "outputId": "8a43efbc-27d5-42d3-b00a-fdf5d7736b15"
      },
      "execution_count": null,
      "outputs": [
        {
          "output_type": "execute_result",
          "data": {
            "text/plain": [
              "    ___\n",
              "   ╱ 1 \n",
              "  ╱  ─ \n",
              "╲╱   x "
            ],
            "text/latex": "$\\displaystyle \\sqrt{\\frac{1}{x}}$"
          },
          "metadata": {},
          "execution_count": 103
        }
      ]
    },
    {
      "cell_type": "code",
      "source": [
        "expr = sqrt(1/x)\n",
        "expand_sqrt = {sqrt(1/x): (1/sqrt(x))}\n",
        "expr.subs(expand_sqrt)"
      ],
      "metadata": {
        "colab": {
          "base_uri": "https://localhost:8080/",
          "height": 55
        },
        "id": "XG5NlUOQuY1O",
        "outputId": "e25279b4-d991-40ba-effb-be2b5c0ccb0e"
      },
      "execution_count": null,
      "outputs": [
        {
          "output_type": "execute_result",
          "data": {
            "text/plain": [
              "1 \n",
              "──\n",
              "√x"
            ],
            "text/latex": "$\\displaystyle \\frac{1}{\\sqrt{x}}$"
          },
          "metadata": {},
          "execution_count": 104
        }
      ]
    },
    {
      "cell_type": "code",
      "source": [],
      "metadata": {
        "id": "z6shtkdvu1Q_"
      },
      "execution_count": null,
      "outputs": []
    }
  ]
}