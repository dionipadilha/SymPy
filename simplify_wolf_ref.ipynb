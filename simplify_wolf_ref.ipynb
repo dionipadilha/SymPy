{
  "nbformat": 4,
  "nbformat_minor": 0,
  "metadata": {
    "colab": {
      "provenance": [],
      "authorship_tag": "ABX9TyPdb0MJPkjUu9smQvjAWeb+",
      "include_colab_link": true
    },
    "kernelspec": {
      "name": "python3",
      "display_name": "Python 3"
    },
    "language_info": {
      "name": "python"
    }
  },
  "cells": [
    {
      "cell_type": "markdown",
      "metadata": {
        "id": "view-in-github",
        "colab_type": "text"
      },
      "source": [
        "<a href=\"https://colab.research.google.com/github/dionipadilha/sympy/blob/main/simplify_wolf_ref.ipynb\" target=\"_parent\"><img src=\"https://colab.research.google.com/assets/colab-badge.svg\" alt=\"Open In Colab\"/></a>"
      ]
    },
    {
      "cell_type": "code",
      "execution_count": null,
      "metadata": {
        "id": "dJpWJtX52HNx"
      },
      "outputs": [],
      "source": [
        "# symbolic environment\n",
        "from sympy import *\n",
        "init_printing()\n",
        "a, b, c = symbols('a, b, c')\n",
        "x, y, z = symbols('x, y, z')\n",
        "r, s, t = symbols('r, s, t')\n",
        "k, m, n = symbols('k m n', integer=True)\n",
        "f, g, h = symbols('f g h', cls=Function)"
      ]
    },
    {
      "cell_type": "markdown",
      "source": [
        "## Basic Examples"
      ],
      "metadata": {
        "id": "1QU7iR_t4kxV"
      }
    },
    {
      "cell_type": "markdown",
      "source": [
        "---"
      ],
      "metadata": {
        "id": "nqQ2q25C3n0w"
      }
    },
    {
      "cell_type": "markdown",
      "source": [
        "Performs a sequence of algebraic and other transformations:"
      ],
      "metadata": {
        "id": "1q2nhEbk50Xo"
      }
    },
    {
      "cell_type": "code",
      "source": [
        "diff(integrate(1/(x**3+1), x), x)"
      ],
      "metadata": {
        "colab": {
          "base_uri": "https://localhost:8080/",
          "height": 78
        },
        "id": "OPDK9UGh2IiN",
        "outputId": "8cb317e4-421b-4a2b-cca3-f933dfb5cf39"
      },
      "execution_count": null,
      "outputs": [
        {
          "output_type": "execute_result",
          "data": {
            "text/plain": [
              "     2⋅x - 1                 2                  1    \n",
              "- ────────────── + ────────────────────── + ─────────\n",
              "    ⎛ 2        ⎞     ⎛             2    ⎞   3⋅(x + 1)\n",
              "  6⋅⎝x  - x + 1⎠     ⎜⎛2⋅√3⋅x   √3⎞     ⎟            \n",
              "                   3⋅⎜⎜────── - ──⎟  + 1⎟            \n",
              "                     ⎝⎝  3      3 ⎠     ⎠            "
            ],
            "text/latex": "$\\displaystyle - \\frac{2 x - 1}{6 \\left(x^{2} - x + 1\\right)} + \\frac{2}{3 \\left(\\left(\\frac{2 \\sqrt{3} x}{3} - \\frac{\\sqrt{3}}{3}\\right)^{2} + 1\\right)} + \\frac{1}{3 \\left(x + 1\\right)}$"
          },
          "metadata": {},
          "execution_count": 2
        }
      ]
    },
    {
      "cell_type": "code",
      "source": [
        "simplify(_)"
      ],
      "metadata": {
        "colab": {
          "base_uri": "https://localhost:8080/",
          "height": 52
        },
        "id": "HPrINgv42aid",
        "outputId": "96215132-5e9b-4c7c-f230-b800e5311467"
      },
      "execution_count": null,
      "outputs": [
        {
          "output_type": "execute_result",
          "data": {
            "text/plain": [
              "  1   \n",
              "──────\n",
              " 3    \n",
              "x  + 1"
            ],
            "text/latex": "$\\displaystyle \\frac{1}{x^{3} + 1}$"
          },
          "metadata": {},
          "execution_count": 3
        }
      ]
    },
    {
      "cell_type": "markdown",
      "source": [
        "---"
      ],
      "metadata": {
        "id": "0r6LxQM83l30"
      }
    },
    {
      "cell_type": "markdown",
      "source": [
        "performs  a trigonometric transformations"
      ],
      "metadata": {
        "id": "xatDsG0q56ri"
      }
    },
    {
      "cell_type": "code",
      "source": [
        "simplify(sin(x)**2 + cos(x)**2)"
      ],
      "metadata": {
        "colab": {
          "base_uri": "https://localhost:8080/",
          "height": 38
        },
        "id": "RuasNLD02fnk",
        "outputId": "73cd04a2-7e72-4b78-e433-6dc9330a6802"
      },
      "execution_count": null,
      "outputs": [
        {
          "output_type": "execute_result",
          "data": {
            "text/plain": [
              "1"
            ],
            "text/latex": "$\\displaystyle 1$"
          },
          "metadata": {},
          "execution_count": 4
        }
      ]
    },
    {
      "cell_type": "code",
      "source": [
        "simplify(2*tan(x)/(1+tan(x)**2))"
      ],
      "metadata": {
        "colab": {
          "base_uri": "https://localhost:8080/",
          "height": 38
        },
        "id": "I85zB69066qs",
        "outputId": "1a61f281-f63e-47e1-d3b5-857f46da8067"
      },
      "execution_count": null,
      "outputs": [
        {
          "output_type": "execute_result",
          "data": {
            "text/plain": [
              "sin(2⋅x)"
            ],
            "text/latex": "$\\displaystyle \\sin{\\left(2 x \\right)}$"
          },
          "metadata": {},
          "execution_count": 5
        }
      ]
    },
    {
      "cell_type": "markdown",
      "source": [
        "---"
      ],
      "metadata": {
        "id": "wZi-vH9Y4e0D"
      }
    },
    {
      "cell_type": "markdown",
      "source": [
        "Simplify can get further if assumptions are made about x:"
      ],
      "metadata": {
        "id": "eDk1b4-A4iz_"
      }
    },
    {
      "cell_type": "code",
      "source": [
        "x = symbols('x')\n",
        "simplify(sqrt(x**2))"
      ],
      "metadata": {
        "colab": {
          "base_uri": "https://localhost:8080/",
          "height": 39
        },
        "id": "c3pqIh0W4dE4",
        "outputId": "074fb607-aa88-4c07-aebb-2786973f0ef0"
      },
      "execution_count": null,
      "outputs": [
        {
          "output_type": "execute_result",
          "data": {
            "text/plain": [
              "   ____\n",
              "  ╱  2 \n",
              "╲╱  x  "
            ],
            "text/latex": "$\\displaystyle \\sqrt{x^{2}}$"
          },
          "metadata": {},
          "execution_count": 6
        }
      ]
    },
    {
      "cell_type": "code",
      "source": [
        "x = symbols('x',  real=True)\n",
        "simplify(sqrt(x**2))"
      ],
      "metadata": {
        "colab": {
          "base_uri": "https://localhost:8080/",
          "height": 38
        },
        "id": "t5z74Grq4-KC",
        "outputId": "04cea682-b9c7-4bbf-908e-c8121f434768"
      },
      "execution_count": null,
      "outputs": [
        {
          "output_type": "execute_result",
          "data": {
            "text/plain": [
              "│x│"
            ],
            "text/latex": "$\\displaystyle \\left|{x}\\right|$"
          },
          "metadata": {},
          "execution_count": 7
        }
      ]
    },
    {
      "cell_type": "code",
      "source": [
        "x = symbols('x',  positive=True)\n",
        "simplify(sqrt(x**2))"
      ],
      "metadata": {
        "colab": {
          "base_uri": "https://localhost:8080/",
          "height": 38
        },
        "id": "1Bs2cu6n5LMS",
        "outputId": "54b5dd3d-320b-4acd-a423-4e31dd1756e8"
      },
      "execution_count": null,
      "outputs": [
        {
          "output_type": "execute_result",
          "data": {
            "text/plain": [
              "x"
            ],
            "text/latex": "$\\displaystyle x$"
          },
          "metadata": {},
          "execution_count": 8
        }
      ]
    },
    {
      "cell_type": "markdown",
      "source": [
        "## Scope"
      ],
      "metadata": {
        "id": "oY2Vu6FC8OW3"
      }
    },
    {
      "cell_type": "markdown",
      "source": [
        "---"
      ],
      "metadata": {
        "id": "y8h2fift5fys"
      }
    },
    {
      "cell_type": "markdown",
      "source": [
        "Simplify a polynomial:"
      ],
      "metadata": {
        "id": "jpomEX_j5sDP"
      }
    },
    {
      "cell_type": "code",
      "source": [
        "x = symbols('x')\n",
        "simplify((x - 1)*(x + 1)*(x**2 + 1) + 1)"
      ],
      "metadata": {
        "colab": {
          "base_uri": "https://localhost:8080/",
          "height": 38
        },
        "id": "lMTr9Owd5hSZ",
        "outputId": "6450a190-d6d1-4a8d-ece9-e616fe02027a"
      },
      "execution_count": null,
      "outputs": [
        {
          "output_type": "execute_result",
          "data": {
            "text/plain": [
              " 4\n",
              "x "
            ],
            "text/latex": "$\\displaystyle x^{4}$"
          },
          "metadata": {},
          "execution_count": 9
        }
      ]
    },
    {
      "cell_type": "markdown",
      "source": [
        "Simplify a rational expression:"
      ],
      "metadata": {
        "id": "Novrq1vz6Wrf"
      }
    },
    {
      "cell_type": "code",
      "source": [
        "simplify(3/(x+3)+x/(x+3))"
      ],
      "metadata": {
        "colab": {
          "base_uri": "https://localhost:8080/",
          "height": 38
        },
        "id": "aUndiUin6OhE",
        "outputId": "9212a6f8-de14-44dd-c2e3-01a3251ea44c"
      },
      "execution_count": null,
      "outputs": [
        {
          "output_type": "execute_result",
          "data": {
            "text/plain": [
              "1"
            ],
            "text/latex": "$\\displaystyle 1$"
          },
          "metadata": {},
          "execution_count": 10
        }
      ]
    },
    {
      "cell_type": "markdown",
      "source": [
        "Simplify a trigonometric expression:"
      ],
      "metadata": {
        "id": "yF23oRRa6v0d"
      }
    },
    {
      "cell_type": "code",
      "source": [
        "simplify(2*tan(x)/(1+tan(x)**2))"
      ],
      "metadata": {
        "colab": {
          "base_uri": "https://localhost:8080/",
          "height": 38
        },
        "id": "dB5dD9ak6sE-",
        "outputId": "35253b6c-657c-444c-b5fd-89d65db70b9c"
      },
      "execution_count": null,
      "outputs": [
        {
          "output_type": "execute_result",
          "data": {
            "text/plain": [
              "sin(2⋅x)"
            ],
            "text/latex": "$\\displaystyle \\sin{\\left(2 x \\right)}$"
          },
          "metadata": {},
          "execution_count": 11
        }
      ]
    },
    {
      "cell_type": "markdown",
      "source": [
        "Simplify an exponential expression:"
      ],
      "metadata": {
        "id": "zXQfSGGX7Ada"
      }
    },
    {
      "cell_type": "code",
      "source": [
        "simplify((E**x-E**-x)/sinh(x))"
      ],
      "metadata": {
        "colab": {
          "base_uri": "https://localhost:8080/",
          "height": 38
        },
        "id": "RMQDsrfj6399",
        "outputId": "d0e07d03-b9c9-4a0f-aee3-786070aef1cb"
      },
      "execution_count": null,
      "outputs": [
        {
          "output_type": "execute_result",
          "data": {
            "text/plain": [
              "2"
            ],
            "text/latex": "$\\displaystyle 2$"
          },
          "metadata": {},
          "execution_count": 12
        }
      ]
    },
    {
      "cell_type": "markdown",
      "source": [
        "---"
      ],
      "metadata": {
        "id": "Tys0Vpxx7NCf"
      }
    },
    {
      "cell_type": "markdown",
      "source": [
        "Simplify an equation:"
      ],
      "metadata": {
        "id": "TJXE7lAY7X93"
      }
    },
    {
      "cell_type": "code",
      "source": [
        "simplify(Eq(2*x - 4*y + 6*z - 10, -8))"
      ],
      "metadata": {
        "colab": {
          "base_uri": "https://localhost:8080/",
          "height": 38
        },
        "id": "wyaN24bc7Lfy",
        "outputId": "05f19bf3-9e18-4937-92fe-1d4c941589c6"
      },
      "execution_count": null,
      "outputs": [
        {
          "output_type": "execute_result",
          "data": {
            "text/plain": [
              "x - 2⋅y + 3⋅z = 1"
            ],
            "text/latex": "$\\displaystyle x - 2 y + 3 z = 1$"
          },
          "metadata": {},
          "execution_count": 13
        }
      ]
    },
    {
      "cell_type": "markdown",
      "source": [
        "---"
      ],
      "metadata": {
        "id": "BCSkvh9379q7"
      }
    },
    {
      "cell_type": "markdown",
      "source": [
        "Simplify expressions using assumptions:"
      ],
      "metadata": {
        "id": "Xv4Qshjd8GUq"
      }
    },
    {
      "cell_type": "code",
      "source": [
        "x = symbols('x',  positive=True)\n",
        "simplify(1/sqrt(x)-sqrt(1/x))"
      ],
      "metadata": {
        "colab": {
          "base_uri": "https://localhost:8080/",
          "height": 38
        },
        "id": "1vW4X6VI7i6O",
        "outputId": "1015101c-8dea-412a-f481-aceb35934f12"
      },
      "execution_count": null,
      "outputs": [
        {
          "output_type": "execute_result",
          "data": {
            "text/plain": [
              "0"
            ],
            "text/latex": "$\\displaystyle 0$"
          },
          "metadata": {},
          "execution_count": 14
        }
      ]
    },
    {
      "cell_type": "code",
      "source": [
        "x = symbols('x',  positive=True)\n",
        "p = symbols('p',  real=True)\n",
        "simplify(log(x**p))"
      ],
      "metadata": {
        "colab": {
          "base_uri": "https://localhost:8080/",
          "height": 38
        },
        "id": "1BX2nEac8jeP",
        "outputId": "74ffce45-e8a3-4358-cbd2-f475722363bb"
      },
      "execution_count": null,
      "outputs": [
        {
          "output_type": "execute_result",
          "data": {
            "text/plain": [
              "p⋅log(x)"
            ],
            "text/latex": "$\\displaystyle p \\log{\\left(x \\right)}$"
          },
          "metadata": {},
          "execution_count": 15
        }
      ]
    },
    {
      "cell_type": "code",
      "source": [
        "n = symbols('n',  integer=True)\n",
        "simplify(sin(n*pi))"
      ],
      "metadata": {
        "colab": {
          "base_uri": "https://localhost:8080/",
          "height": 38
        },
        "id": "s7CJqaIV88cX",
        "outputId": "d61945eb-4c8b-4b44-f595-5d2bbc6fd864"
      },
      "execution_count": null,
      "outputs": [
        {
          "output_type": "execute_result",
          "data": {
            "text/plain": [
              "0"
            ],
            "text/latex": "$\\displaystyle 0$"
          },
          "metadata": {},
          "execution_count": 16
        }
      ]
    },
    {
      "cell_type": "markdown",
      "source": [
        "---"
      ],
      "metadata": {
        "id": "EqVC3x_x9Rlh"
      }
    }
  ]
}