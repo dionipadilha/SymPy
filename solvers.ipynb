{
  "nbformat": 4,
  "nbformat_minor": 0,
  "metadata": {
    "colab": {
      "provenance": [],
      "authorship_tag": "ABX9TyPqsBa6h5xZ840K82CSdnmA",
      "include_colab_link": true
    },
    "kernelspec": {
      "name": "python3",
      "display_name": "Python 3"
    },
    "language_info": {
      "name": "python"
    }
  },
  "cells": [
    {
      "cell_type": "markdown",
      "metadata": {
        "id": "view-in-github",
        "colab_type": "text"
      },
      "source": [
        "<a href=\"https://colab.research.google.com/github/dionipadilha/sympy/blob/main/solvers.ipynb\" target=\"_parent\"><img src=\"https://colab.research.google.com/assets/colab-badge.svg\" alt=\"Open In Colab\"/></a>"
      ]
    },
    {
      "cell_type": "markdown",
      "source": [
        "# Solvers"
      ],
      "metadata": {
        "id": "WQqxEfwg-e1U"
      }
    },
    {
      "cell_type": "code",
      "execution_count": null,
      "metadata": {
        "id": "_6bGBQxJ4Suy"
      },
      "outputs": [],
      "source": [
        "from sympy import *\n",
        "a, b, c, d = symbols('a, b, c, d', real=True)\n",
        "x, y, z = symbols('x, y, z')\n",
        "f, g = symbols('f, g', cls=Function)\n",
        "init_printing()"
      ]
    },
    {
      "cell_type": "markdown",
      "source": [
        "## About Equations"
      ],
      "metadata": {
        "id": "HC9AjDHG7Mpb"
      }
    },
    {
      "cell_type": "code",
      "source": [
        "# Solving algebraic equations 1\n",
        "solveset(Eq(x**2 - 1, 0), x)"
      ],
      "metadata": {
        "colab": {
          "base_uri": "https://localhost:8080/",
          "height": 36
        },
        "id": "qMrXDgi45cxj",
        "outputId": "34a9d481-a854-444a-a286-5e3e2072ab61"
      },
      "execution_count": null,
      "outputs": [
        {
          "output_type": "execute_result",
          "data": {
            "text/plain": [
              "{-1, 1}"
            ],
            "text/latex": "$\\displaystyle \\left\\{-1, 1\\right\\}$"
          },
          "metadata": {},
          "execution_count": 2
        }
      ]
    },
    {
      "cell_type": "code",
      "source": [
        "# Solving algebraic equations 2\n",
        "solveset(Eq(x**2, 1), x)"
      ],
      "metadata": {
        "colab": {
          "base_uri": "https://localhost:8080/",
          "height": 36
        },
        "id": "AO3UZjIt7DZy",
        "outputId": "2e193d64-4260-4f42-9fab-0fbf4b0f0b9c"
      },
      "execution_count": null,
      "outputs": [
        {
          "output_type": "execute_result",
          "data": {
            "text/plain": [
              "{-1, 1}"
            ],
            "text/latex": "$\\displaystyle \\left\\{-1, 1\\right\\}$"
          },
          "metadata": {},
          "execution_count": 3
        }
      ]
    },
    {
      "cell_type": "code",
      "source": [
        "# Solving algebraic equations 3\n",
        "solveset(x**2 - 1, x)"
      ],
      "metadata": {
        "colab": {
          "base_uri": "https://localhost:8080/",
          "height": 36
        },
        "id": "2YZRal_S7lbK",
        "outputId": "6c4c7b04-07d4-414b-8bf1-06cb239e3df0"
      },
      "execution_count": null,
      "outputs": [
        {
          "output_type": "execute_result",
          "data": {
            "text/plain": [
              "{-1, 1}"
            ],
            "text/latex": "$\\displaystyle \\left\\{-1, 1\\right\\}$"
          },
          "metadata": {},
          "execution_count": 4
        }
      ]
    },
    {
      "cell_type": "markdown",
      "source": [
        "## Solving Equations Algebraically"
      ],
      "metadata": {
        "id": "EuzAhGLF73IW"
      }
    },
    {
      "cell_type": "code",
      "source": [
        "# The output of solveset is a FiniteSet or an Interval or ImageSet\n",
        "solveset(x-x, x)"
      ],
      "metadata": {
        "colab": {
          "base_uri": "https://localhost:8080/",
          "height": 37
        },
        "id": "yhGUHpfK8AhP",
        "outputId": "83d03839-a189-45ca-c15a-291fd2c08c86"
      },
      "execution_count": null,
      "outputs": [
        {
          "output_type": "execute_result",
          "data": {
            "text/plain": [
              "ℂ"
            ],
            "text/latex": "$\\displaystyle \\mathbb{C}$"
          },
          "metadata": {},
          "execution_count": 5
        }
      ]
    },
    {
      "cell_type": "code",
      "source": [
        "# The output of solveset is a FiniteSet or an Interval or ImageSet\n",
        "solveset(sqrt(x) > 0, x)"
      ],
      "metadata": {
        "colab": {
          "base_uri": "https://localhost:8080/",
          "height": 38
        },
        "id": "UchAqQBF8Nio",
        "outputId": "e45311c6-b123-4415-f354-4918678ab434"
      },
      "execution_count": null,
      "outputs": [
        {
          "output_type": "execute_result",
          "data": {
            "text/plain": [
              "{x │ x ∊ ℂ ∧ (√x > 0)}"
            ],
            "text/latex": "$\\displaystyle \\left\\{x\\; \\middle|\\; x \\in \\mathbb{C} \\wedge \\sqrt{x} > 0 \\right\\}$"
          },
          "metadata": {},
          "execution_count": 6
        }
      ]
    },
    {
      "cell_type": "code",
      "source": [
        "# The output of solveset is a FiniteSet or an Interval or ImageSet\n",
        "solveset(sqrt(x) > 0, x, domain=S.Reals)"
      ],
      "metadata": {
        "colab": {
          "base_uri": "https://localhost:8080/",
          "height": 36
        },
        "id": "KMOWg0AH5lSI",
        "outputId": "b7827aeb-9844-4c33-f419-aff287c42c1f"
      },
      "execution_count": null,
      "outputs": [
        {
          "output_type": "execute_result",
          "data": {
            "text/plain": [
              "(0, ∞)"
            ],
            "text/latex": "$\\displaystyle \\left(0, \\infty\\right)$"
          },
          "metadata": {},
          "execution_count": 7
        }
      ]
    },
    {
      "cell_type": "code",
      "source": [
        "# The output of solveset is a FiniteSet or an Interval or ImageSet\n",
        "solveset(sin(x) - 1, x, domain=S.Reals)"
      ],
      "metadata": {
        "colab": {
          "base_uri": "https://localhost:8080/",
          "height": 48
        },
        "id": "8BzWKmWG6b4T",
        "outputId": "39c240b0-5b20-4e20-d7af-2fa36959aea1"
      },
      "execution_count": null,
      "outputs": [
        {
          "output_type": "execute_result",
          "data": {
            "text/plain": [
              "⎧        π │      ⎫\n",
              "⎨2⋅n⋅π + ─ │ n ∊ ℤ⎬\n",
              "⎩        2 │      ⎭"
            ],
            "text/latex": "$\\displaystyle \\left\\{2 n \\pi + \\frac{\\pi}{2}\\; \\middle|\\; n \\in \\mathbb{Z}\\right\\}$"
          },
          "metadata": {},
          "execution_count": 8
        }
      ]
    },
    {
      "cell_type": "code",
      "source": [
        "# No solution exists\n",
        "solveset(exp(x), x)"
      ],
      "metadata": {
        "colab": {
          "base_uri": "https://localhost:8080/",
          "height": 36
        },
        "id": "BUiJOzWB9yje",
        "outputId": "d3d888d8-152b-4315-ccd6-d86efae31e75"
      },
      "execution_count": null,
      "outputs": [
        {
          "output_type": "execute_result",
          "data": {
            "text/plain": [
              "∅"
            ],
            "text/latex": "$\\displaystyle \\emptyset$"
          },
          "metadata": {},
          "execution_count": 9
        }
      ]
    },
    {
      "cell_type": "markdown",
      "source": [
        "## Linear System of Equations"
      ],
      "metadata": {
        "id": "kKtY6Jek9JlZ"
      }
    },
    {
      "cell_type": "code",
      "source": [
        "# List of Equations Form:\n",
        "system =[x + y + z - 1, x + y + 2*z - 3 ]\n",
        "linsolve(system, (x, y, z))"
      ],
      "metadata": {
        "colab": {
          "base_uri": "https://localhost:8080/",
          "height": 37
        },
        "id": "332UOtLW-6Iq",
        "outputId": "ac901147-81d2-4b33-c69e-100945de5077"
      },
      "execution_count": null,
      "outputs": [
        {
          "output_type": "execute_result",
          "data": {
            "text/plain": [
              "{(-y - 1, y, 2)}"
            ],
            "text/latex": "$\\displaystyle \\left\\{\\left( - y - 1, \\  y, \\  2\\right)\\right\\}$"
          },
          "metadata": {},
          "execution_count": 16
        }
      ]
    },
    {
      "cell_type": "code",
      "source": [
        "# Augmented Matrix Form:\n",
        "m = Matrix(([1, 1, 1, 1], [1, 1, 2, 3]))\n",
        "linsolve(m, (x, y, z))\n",
        "{(-y - 1, y, 2)}"
      ],
      "metadata": {
        "colab": {
          "base_uri": "https://localhost:8080/",
          "height": 37
        },
        "id": "iE8uAOe3_B0C",
        "outputId": "1fe1ef1c-7805-455f-dcfe-d797ae48964a"
      },
      "execution_count": null,
      "outputs": [
        {
          "output_type": "execute_result",
          "data": {
            "text/plain": [
              "{(-y - 1, y, 2)}"
            ],
            "text/latex": "$\\displaystyle \\left\\{\\left( - y - 1, \\  y, \\  2\\right)\\right\\}$"
          },
          "metadata": {},
          "execution_count": 17
        }
      ]
    },
    {
      "cell_type": "code",
      "source": [
        "# A*x = b Form\n",
        "M = Matrix(((1, 1, 1, 1), (1, 1, 2, 3)))\n",
        "system = A, b = M[:, :-1], M[:, -1]\n",
        "linsolve(system, x, y, z)"
      ],
      "metadata": {
        "colab": {
          "base_uri": "https://localhost:8080/",
          "height": 37
        },
        "id": "LhS6kkgP_QuK",
        "outputId": "65c550ab-c770-400a-c82c-8d7ef30d239b"
      },
      "execution_count": null,
      "outputs": [
        {
          "output_type": "execute_result",
          "data": {
            "text/plain": [
              "{(-y - 1, y, 2)}"
            ],
            "text/latex": "$\\displaystyle \\left\\{\\left( - y - 1, \\  y, \\  2\\right)\\right\\}$"
          },
          "metadata": {},
          "execution_count": 18
        }
      ]
    },
    {
      "cell_type": "markdown",
      "source": [
        "## Non Linear System of Equations"
      ],
      "metadata": {
        "id": "PJfQKlRqAj76"
      }
    },
    {
      "cell_type": "code",
      "source": [
        "# When only real solution is present\n",
        "nonlinsolve([a**2 + a, a - b], [a, b])"
      ],
      "metadata": {
        "colab": {
          "base_uri": "https://localhost:8080/",
          "height": 36
        },
        "id": "jJx8X26dAaJe",
        "outputId": "dc6c6e9f-8cf1-4592-d0e5-cd26a0bffff2"
      },
      "execution_count": null,
      "outputs": [
        {
          "output_type": "execute_result",
          "data": {
            "text/plain": [
              "{(-1, -1), (0, 0)}"
            ],
            "text/latex": "$\\displaystyle \\left\\{\\left( -1, \\  -1\\right), \\left( 0, \\  0\\right)\\right\\}$"
          },
          "metadata": {},
          "execution_count": 20
        }
      ]
    },
    {
      "cell_type": "code",
      "source": [
        "# When only complex solution is present\n",
        "nonlinsolve([x**2 + 1, y**2 + 1], [x, y])"
      ],
      "metadata": {
        "colab": {
          "base_uri": "https://localhost:8080/",
          "height": 37
        },
        "id": "2TG_5Wt2BDms",
        "outputId": "6c5c5e89-e4e6-4476-832e-b1f76b850c24"
      },
      "execution_count": null,
      "outputs": [
        {
          "output_type": "execute_result",
          "data": {
            "text/plain": [
              "{(-ⅈ, -ⅈ), (-ⅈ, ⅈ), (ⅈ, -ⅈ), (ⅈ, ⅈ)}"
            ],
            "text/latex": "$\\displaystyle \\left\\{\\left( - i, \\  - i\\right), \\left( - i, \\  i\\right), \\left( i, \\  - i\\right), \\left( i, \\  i\\right)\\right\\}$"
          },
          "metadata": {},
          "execution_count": 21
        }
      ]
    },
    {
      "cell_type": "code",
      "source": [
        "# When both real and complex solution are present\n",
        "system = [x**2 - 2*y**2 -2, x*y - 2]\n",
        "nonlinsolve(system, [x, y])"
      ],
      "metadata": {
        "colab": {
          "base_uri": "https://localhost:8080/",
          "height": 47
        },
        "id": "VpMxwMd6BOV3",
        "outputId": "1268995b-0ed5-4692-8db4-c37bb5b0d19f"
      },
      "execution_count": null,
      "outputs": [
        {
          "output_type": "execute_result",
          "data": {
            "text/plain": [
              "{(-2, -1), (2, 1), (-√2⋅ⅈ, √2⋅ⅈ), (√2⋅ⅈ, -√2⋅ⅈ)}"
            ],
            "text/latex": "$\\displaystyle \\left\\{\\left( -2, \\  -1\\right), \\left( 2, \\  1\\right), \\left( - \\sqrt{2} i, \\  \\sqrt{2} i\\right), \\left( \\sqrt{2} i, \\  - \\sqrt{2} i\\right)\\right\\}$"
          },
          "metadata": {},
          "execution_count": 22
        }
      ]
    },
    {
      "cell_type": "code",
      "source": [
        "# When the system has infinitely many solutions\n",
        "nonlinsolve([x*y, x*y - x], [x, y])"
      ],
      "metadata": {
        "colab": {
          "base_uri": "https://localhost:8080/",
          "height": 37
        },
        "id": "BfQFXm9iBcdE",
        "outputId": "2231211d-7c7b-4476-f548-87672976bd32"
      },
      "execution_count": null,
      "outputs": [
        {
          "output_type": "execute_result",
          "data": {
            "text/plain": [
              "{(0, y)}"
            ],
            "text/latex": "$\\displaystyle \\left\\{\\left( 0, \\  y\\right)\\right\\}$"
          },
          "metadata": {},
          "execution_count": 23
        }
      ]
    },
    {
      "cell_type": "code",
      "source": [
        "# When the system has infinitely many solutions\n",
        "nonlinsolve(system, [a, b])"
      ],
      "metadata": {
        "colab": {
          "base_uri": "https://localhost:8080/",
          "height": 36
        },
        "id": "dx_9mQddBsyk",
        "outputId": "85191130-e7f6-40b3-a056-63e34f803004"
      },
      "execution_count": null,
      "outputs": [
        {
          "output_type": "execute_result",
          "data": {
            "text/plain": [
              "∅"
            ],
            "text/latex": "$\\displaystyle \\emptyset$"
          },
          "metadata": {},
          "execution_count": 24
        }
      ]
    },
    {
      "cell_type": "markdown",
      "source": [
        "## System of equations having trigonometric functions"
      ],
      "metadata": {
        "id": "gxieq3SwB-kE"
      }
    },
    {
      "cell_type": "code",
      "source": [
        "# solve can be used for such cases (but does not give all solution)\n",
        "solve([sin(x + y), cos(x - y)], [x, y])"
      ],
      "metadata": {
        "colab": {
          "base_uri": "https://localhost:8080/",
          "height": 57
        },
        "id": "Bbx8zGNzBzza",
        "outputId": "be1cf253-f31f-406d-b747-8cf99efd4700"
      },
      "execution_count": null,
      "outputs": [
        {
          "output_type": "execute_result",
          "data": {
            "text/plain": [
              "⎡⎛-3⋅π   3⋅π⎞  ⎛-π   π⎞  ⎛π  3⋅π⎞  ⎛3⋅π  π⎞⎤\n",
              "⎢⎜─────, ───⎟, ⎜───, ─⎟, ⎜─, ───⎟, ⎜───, ─⎟⎥\n",
              "⎣⎝  4     4 ⎠  ⎝ 4   4⎠  ⎝4   4 ⎠  ⎝ 4   4⎠⎦"
            ],
            "text/latex": "$\\displaystyle \\left[ \\left( - \\frac{3 \\pi}{4}, \\  \\frac{3 \\pi}{4}\\right), \\  \\left( - \\frac{\\pi}{4}, \\  \\frac{\\pi}{4}\\right), \\  \\left( \\frac{\\pi}{4}, \\  \\frac{3 \\pi}{4}\\right), \\  \\left( \\frac{3 \\pi}{4}, \\  \\frac{\\pi}{4}\\right)\\right]$"
          },
          "metadata": {},
          "execution_count": 29
        }
      ]
    },
    {
      "cell_type": "markdown",
      "source": [
        "## Solving Differential Equations"
      ],
      "metadata": {
        "id": "whMScQMZC0Ox"
      }
    },
    {
      "cell_type": "code",
      "source": [
        "# solve the ODE\n",
        "diffeq = Eq(f(x).diff(x, x) - 2*f(x).diff(x) + f(x), sin(x))\n",
        "dsolve(diffeq, f(x))"
      ],
      "metadata": {
        "colab": {
          "base_uri": "https://localhost:8080/",
          "height": 53
        },
        "id": "3O79gM8mCXWn",
        "outputId": "d64fd7b2-19c1-486c-d137-e545d52b3fce"
      },
      "execution_count": null,
      "outputs": [
        {
          "output_type": "execute_result",
          "data": {
            "text/plain": [
              "                    x   cos(x)\n",
              "f(x) = (C₁ + C₂⋅x)⋅ℯ  + ──────\n",
              "                          2   "
            ],
            "text/latex": "$\\displaystyle f{\\left(x \\right)} = \\left(C_{1} + C_{2} x\\right) e^{x} + \\frac{\\cos{\\left(x \\right)}}{2}$"
          },
          "metadata": {},
          "execution_count": 31
        }
      ]
    },
    {
      "cell_type": "code",
      "source": [
        "# in general, solutions to differential equations cannot be solved explicitly for the function\n",
        "dsolve(f(x).diff(x)*(1 - sin(f(x))) - 1, f(x))"
      ],
      "metadata": {
        "colab": {
          "base_uri": "https://localhost:8080/",
          "height": 37
        },
        "id": "wZ2VqCjnDYmh",
        "outputId": "0d4bad8e-e0fe-4466-c302-672105078b55"
      },
      "execution_count": null,
      "outputs": [
        {
          "output_type": "execute_result",
          "data": {
            "text/plain": [
              "x - f(x) - cos(f(x)) = C₁"
            ],
            "text/latex": "$\\displaystyle x - f{\\left(x \\right)} - \\cos{\\left(f{\\left(x \\right)} \\right)} = C_{1}$"
          },
          "metadata": {},
          "execution_count": 32
        }
      ]
    },
    {
      "cell_type": "code",
      "source": [],
      "metadata": {
        "id": "kUv17JNgD61M"
      },
      "execution_count": null,
      "outputs": []
    }
  ]
}