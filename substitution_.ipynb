{
  "nbformat": 4,
  "nbformat_minor": 0,
  "metadata": {
    "colab": {
      "provenance": [],
      "authorship_tag": "ABX9TyNDD7NsiXYx/6I2g4ZX0HUQ",
      "include_colab_link": true
    },
    "kernelspec": {
      "name": "python3",
      "display_name": "Python 3"
    },
    "language_info": {
      "name": "python"
    }
  },
  "cells": [
    {
      "cell_type": "markdown",
      "metadata": {
        "id": "view-in-github",
        "colab_type": "text"
      },
      "source": [
        "<a href=\"https://colab.research.google.com/github/dionipadilha/sympy/blob/main/substitution_.ipynb\" target=\"_parent\"><img src=\"https://colab.research.google.com/assets/colab-badge.svg\" alt=\"Open In Colab\"/></a>"
      ]
    },
    {
      "cell_type": "markdown",
      "source": [
        "## Substitution"
      ],
      "metadata": {
        "id": "UM0iHO5OZT6t"
      }
    },
    {
      "cell_type": "code",
      "execution_count": null,
      "metadata": {
        "id": "btEW60JJWYzg"
      },
      "outputs": [],
      "source": [
        "# symbolic env:\n",
        "from sympy import *\n",
        "init_printing()\n",
        "x, y, z = symbols(\"x y z\")"
      ]
    },
    {
      "cell_type": "code",
      "source": [
        "# create a symbolic expression:\n",
        "expr = 2*x + 2\n",
        "expr"
      ],
      "metadata": {
        "colab": {
          "base_uri": "https://localhost:8080/",
          "height": 38
        },
        "id": "omfJa6NxXclb",
        "outputId": "ad415b55-5ab9-458c-88b2-5dafe3c9e9a3"
      },
      "execution_count": null,
      "outputs": [
        {
          "output_type": "execute_result",
          "data": {
            "text/plain": [
              "2⋅x + 2"
            ],
            "text/latex": "$\\displaystyle 2 x + 2$"
          },
          "metadata": {},
          "execution_count": 10
        }
      ]
    },
    {
      "cell_type": "code",
      "source": [
        "# replaces all instances of x:\n",
        "expr.subs(x, y)"
      ],
      "metadata": {
        "colab": {
          "base_uri": "https://localhost:8080/",
          "height": 38
        },
        "id": "ffrlmC2UWdoV",
        "outputId": "df829c11-b182-4442-8972-92daff8620f7"
      },
      "execution_count": null,
      "outputs": [
        {
          "output_type": "execute_result",
          "data": {
            "text/plain": [
              "2⋅y + 2"
            ],
            "text/latex": "$\\displaystyle 2 y + 2$"
          },
          "metadata": {},
          "execution_count": 3
        }
      ]
    },
    {
      "cell_type": "code",
      "source": [
        "# evaluate an expression at a point:\n",
        "expr.subs(x, 3)"
      ],
      "metadata": {
        "colab": {
          "base_uri": "https://localhost:8080/",
          "height": 38
        },
        "id": "T_x5Y-wNWyOt",
        "outputId": "0d361800-e3df-41df-bc45-d124fe609bbd"
      },
      "execution_count": null,
      "outputs": [
        {
          "output_type": "execute_result",
          "data": {
            "text/plain": [
              "8"
            ],
            "text/latex": "$\\displaystyle 8$"
          },
          "metadata": {},
          "execution_count": 4
        }
      ]
    },
    {
      "cell_type": "code",
      "source": [
        "# perform multiple substitutions at once:\n",
        "expr = x**3 + 4*x*y - z\n",
        "expr.subs([(x, 2), (y, 4), (z, 0)])"
      ],
      "metadata": {
        "colab": {
          "base_uri": "https://localhost:8080/",
          "height": 38
        },
        "id": "WlFyzwfhXn7W",
        "outputId": "8a1b7c78-1c71-4f6d-faa5-e88a7e3d1ba7"
      },
      "execution_count": null,
      "outputs": [
        {
          "output_type": "execute_result",
          "data": {
            "text/plain": [
              "40"
            ],
            "text/latex": "$\\displaystyle 40$"
          },
          "metadata": {},
          "execution_count": 5
        }
      ]
    },
    {
      "cell_type": "code",
      "source": [
        "# perform multiple substitutions using dicts:\n",
        "expr = x**3 + 4*x*y - z\n",
        "expr.subs({x:2, y:4, z:0})"
      ],
      "metadata": {
        "colab": {
          "base_uri": "https://localhost:8080/",
          "height": 38
        },
        "id": "sPB7XaZrYZfU",
        "outputId": "595359fa-11ef-4863-ba9e-cbc92cb681a4"
      },
      "execution_count": null,
      "outputs": [
        {
          "output_type": "execute_result",
          "data": {
            "text/plain": [
              "40"
            ],
            "text/latex": "$\\displaystyle 40$"
          },
          "metadata": {},
          "execution_count": 6
        }
      ]
    },
    {
      "cell_type": "code",
      "source": [
        "# replaces a subexpression:\n",
        "expr = sin(2*x) + cos(2*x)\n",
        "expr.subs(sin(2*x), 2*sin(x)*cos(x))"
      ],
      "metadata": {
        "colab": {
          "base_uri": "https://localhost:8080/",
          "height": 38
        },
        "id": "N9ffpbxbW_2N",
        "outputId": "415bcf3f-17fa-4480-d666-d344b5d35bac"
      },
      "execution_count": null,
      "outputs": [
        {
          "output_type": "execute_result",
          "data": {
            "text/plain": [
              "2⋅sin(x)⋅cos(x) + cos(2⋅x)"
            ],
            "text/latex": "$\\displaystyle 2 \\sin{\\left(x \\right)} \\cos{\\left(x \\right)} + \\cos{\\left(2 x \\right)}$"
          },
          "metadata": {},
          "execution_count": 7
        }
      ]
    },
    {
      "cell_type": "code",
      "source": [
        "# replace all instances of that have an even power:\n",
        "expr = x**4 - 4*x**3 + 4*x**2 - 2*x + 3\n",
        "replacements = [(x**i, y**i) for i in Range(5) if i % 2 == 0]\n",
        "expr.subs(replacements)"
      ],
      "metadata": {
        "colab": {
          "base_uri": "https://localhost:8080/",
          "height": 38
        },
        "id": "yd-IXAJSYleU",
        "outputId": "ca49da45-20e9-4da1-bffe-846b6614f9b9"
      },
      "execution_count": null,
      "outputs": [
        {
          "output_type": "execute_result",
          "data": {
            "text/plain": [
              "     3          4      2    \n",
              "- 4⋅x  - 2⋅x + y  + 4⋅y  + 3"
            ],
            "text/latex": "$\\displaystyle - 4 x^{3} - 2 x + y^{4} + 4 y^{2} + 3$"
          },
          "metadata": {},
          "execution_count": 8
        }
      ]
    }
  ]
}