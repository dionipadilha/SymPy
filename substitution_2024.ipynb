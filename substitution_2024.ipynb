{
  "nbformat": 4,
  "nbformat_minor": 0,
  "metadata": {
    "colab": {
      "provenance": [],
      "authorship_tag": "ABX9TyNfXNLmppXFNL7EodF/8B+6",
      "include_colab_link": true
    },
    "kernelspec": {
      "name": "python3",
      "display_name": "Python 3"
    },
    "language_info": {
      "name": "python"
    }
  },
  "cells": [
    {
      "cell_type": "markdown",
      "metadata": {
        "id": "view-in-github",
        "colab_type": "text"
      },
      "source": [
        "<a href=\"https://colab.research.google.com/github/dionipadilha/sympy/blob/main/substitution_2024.ipynb\" target=\"_parent\"><img src=\"https://colab.research.google.com/assets/colab-badge.svg\" alt=\"Open In Colab\"/></a>"
      ]
    },
    {
      "cell_type": "markdown",
      "source": [
        "### Substitution"
      ],
      "metadata": {
        "id": "295sIs_oPTOd"
      }
    },
    {
      "cell_type": "code",
      "execution_count": 2,
      "metadata": {
        "id": "sAGoFeBoL4Gj"
      },
      "outputs": [],
      "source": [
        "from sympy import *\n",
        "x, y, z = symbols('x, y, z')\n",
        "init_printing()"
      ]
    },
    {
      "cell_type": "code",
      "source": [
        "# replaces all instances of something in an expression:\n",
        "expr = cos(x) + 1\n",
        "expr.subs(x, y)"
      ],
      "metadata": {
        "colab": {
          "base_uri": "https://localhost:8080/",
          "height": 38
        },
        "id": "cUkbls_nL8hq",
        "outputId": "f2185dfa-b063-43fb-bbc0-274adcd17128"
      },
      "execution_count": 11,
      "outputs": [
        {
          "output_type": "execute_result",
          "data": {
            "text/plain": [
              "cos(y) + 1"
            ],
            "text/latex": "$\\displaystyle \\cos{\\left(y \\right)} + 1$"
          },
          "metadata": {},
          "execution_count": 11
        }
      ]
    },
    {
      "cell_type": "code",
      "source": [
        "# evaluate an expression at a point:\n",
        "expr.subs(x, 0)"
      ],
      "metadata": {
        "colab": {
          "base_uri": "https://localhost:8080/",
          "height": 37
        },
        "id": "BWLem-PHMN1i",
        "outputId": "bc8429c0-a3e7-4a8e-ed5a-e6775d27f46f"
      },
      "execution_count": 12,
      "outputs": [
        {
          "output_type": "execute_result",
          "data": {
            "text/plain": [
              "2"
            ],
            "text/latex": "$\\displaystyle 2$"
          },
          "metadata": {},
          "execution_count": 12
        }
      ]
    },
    {
      "cell_type": "code",
      "source": [
        "# replaces a subexpression with another subexpression:\n",
        "expr = x + y\n",
        "expr.subs(y, x + y)"
      ],
      "metadata": {
        "colab": {
          "base_uri": "https://localhost:8080/",
          "height": 38
        },
        "id": "NQ5Fd0zRMx2y",
        "outputId": "d8bdd2a2-1c06-439d-9fbb-1e80ce4e30b3"
      },
      "execution_count": 16,
      "outputs": [
        {
          "output_type": "execute_result",
          "data": {
            "text/plain": [
              "2⋅x + y"
            ],
            "text/latex": "$\\displaystyle 2 x + y$"
          },
          "metadata": {},
          "execution_count": 16
        }
      ]
    },
    {
      "cell_type": "code",
      "source": [
        "# perform a very controlled simplification:\n",
        "expr = sin(2*x) + cos(2*x)\n",
        "simplify(expr), expr.subs(sin(2*x), 2*sin(x)*cos(x))"
      ],
      "metadata": {
        "colab": {
          "base_uri": "https://localhost:8080/",
          "height": 48
        },
        "id": "vSIxeoocNJ3i",
        "outputId": "eba71fd7-a8a7-4a9e-eb0e-843ba395f163"
      },
      "execution_count": 18,
      "outputs": [
        {
          "output_type": "execute_result",
          "data": {
            "text/plain": [
              "⎛      ⎛      π⎞                            ⎞\n",
              "⎜√2⋅sin⎜2⋅x + ─⎟, 2⋅sin(x)⋅cos(x) + cos(2⋅x)⎟\n",
              "⎝      ⎝      4⎠                            ⎠"
            ],
            "text/latex": "$\\displaystyle \\left( \\sqrt{2} \\sin{\\left(2 x + \\frac{\\pi}{4} \\right)}, \\  2 \\sin{\\left(x \\right)} \\cos{\\left(x \\right)} + \\cos{\\left(2 x \\right)}\\right)$"
          },
          "metadata": {},
          "execution_count": 18
        }
      ]
    },
    {
      "cell_type": "code",
      "source": [
        "# perform multiple substitutions at once:\n",
        "expr = x**3 + 4*x*y - z\n",
        "expr.subs({x:2, y:4, z:0})"
      ],
      "metadata": {
        "colab": {
          "base_uri": "https://localhost:8080/",
          "height": 37
        },
        "id": "YYKIG52ENneh",
        "outputId": "366a39fc-31e6-41d4-a1e9-d0fb186f6112"
      },
      "execution_count": 21,
      "outputs": [
        {
          "output_type": "execute_result",
          "data": {
            "text/plain": [
              "40"
            ],
            "text/latex": "$\\displaystyle 40$"
          },
          "metadata": {},
          "execution_count": 21
        }
      ]
    },
    {
      "cell_type": "code",
      "source": [
        "# do a large set of similar replacements all at once:\n",
        "expr = x**4 - 4*x**3 + 4*x**2 - 2*x + 3\n",
        "replacements = [(x**i, y**i) for i in range(5) if i % 2 == 0]\n",
        "expr.subs(replacements)"
      ],
      "metadata": {
        "colab": {
          "base_uri": "https://localhost:8080/",
          "height": 38
        },
        "id": "CbrWVe89OHvM",
        "outputId": "317f4e67-b7a4-44db-8302-177468364be7"
      },
      "execution_count": 22,
      "outputs": [
        {
          "output_type": "execute_result",
          "data": {
            "text/plain": [
              "     3          4      2    \n",
              "- 4⋅x  - 2⋅x + y  + 4⋅y  + 3"
            ],
            "text/latex": "$\\displaystyle - 4 x^{3} - 2 x + y^{4} + 4 y^{2} + 3$"
          },
          "metadata": {},
          "execution_count": 22
        }
      ]
    }
  ]
}