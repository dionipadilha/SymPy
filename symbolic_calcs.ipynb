{
  "nbformat": 4,
  "nbformat_minor": 0,
  "metadata": {
    "colab": {
      "provenance": [],
      "authorship_tag": "ABX9TyN1Te3ya1mGOu7ZRPbhiRzF",
      "include_colab_link": true
    },
    "kernelspec": {
      "name": "python3",
      "display_name": "Python 3"
    },
    "language_info": {
      "name": "python"
    }
  },
  "cells": [
    {
      "cell_type": "markdown",
      "metadata": {
        "id": "view-in-github",
        "colab_type": "text"
      },
      "source": [
        "<a href=\"https://colab.research.google.com/github/dionipadilha/sympy/blob/main/symbolic_calcs.ipynb\" target=\"_parent\"><img src=\"https://colab.research.google.com/assets/colab-badge.svg\" alt=\"Open In Colab\"/></a>"
      ]
    },
    {
      "cell_type": "code",
      "execution_count": 3,
      "metadata": {
        "id": "T1n3xcZPPjx3"
      },
      "outputs": [],
      "source": [
        "# symbolic env\n",
        "from sympy import *\n",
        "a, b, c, d = symbols('a, b, c, d')\n",
        "x, y, z, t = symbols('x, y, z, t')\n",
        "k, m, n = symbols('k, m, n', integer=True)\n",
        "f, g, h = symbols('f, g, h', cls=Function)\n",
        "init_printing()"
      ]
    },
    {
      "cell_type": "code",
      "source": [
        "# limit\n",
        "Limit(f(x), x, a)"
      ],
      "metadata": {
        "colab": {
          "base_uri": "https://localhost:8080/",
          "height": 45
        },
        "id": "i8ilNhPHV27x",
        "outputId": "7ddee5ec-3b7b-4960-e50e-90dceca3e4d1"
      },
      "execution_count": 28,
      "outputs": [
        {
          "output_type": "execute_result",
          "data": {
            "text/plain": [
              " lim f(x)\n",
              "x─→a⁺    "
            ],
            "text/latex": "$\\displaystyle \\lim_{x \\to a^+} f{\\left(x \\right)}$"
          },
          "metadata": {},
          "execution_count": 28
        }
      ]
    },
    {
      "cell_type": "code",
      "source": [
        "Limit(f(x), x, oo)"
      ],
      "metadata": {
        "colab": {
          "base_uri": "https://localhost:8080/",
          "height": 44
        },
        "id": "yNVY68EKWe6m",
        "outputId": "f86d6252-73d4-49fe-c9e7-27f2f85662a2"
      },
      "execution_count": 34,
      "outputs": [
        {
          "output_type": "execute_result",
          "data": {
            "text/plain": [
              "lim f(x)\n",
              "x─→∞    "
            ],
            "text/latex": "$\\displaystyle \\lim_{x \\to \\infty} f{\\left(x \\right)}$"
          },
          "metadata": {},
          "execution_count": 34
        }
      ]
    },
    {
      "cell_type": "code",
      "source": [
        "Limit(f(x), x, a, '-')"
      ],
      "metadata": {
        "colab": {
          "base_uri": "https://localhost:8080/",
          "height": 45
        },
        "id": "U7qhfp_MWZNA",
        "outputId": "f989521a-600b-4e8e-c461-a0c7a36d09ae"
      },
      "execution_count": 33,
      "outputs": [
        {
          "output_type": "execute_result",
          "data": {
            "text/plain": [
              " lim f(x)\n",
              "x─→a⁻    "
            ],
            "text/latex": "$\\displaystyle \\lim_{x \\to a^-} f{\\left(x \\right)}$"
          },
          "metadata": {},
          "execution_count": 33
        }
      ]
    },
    {
      "cell_type": "code",
      "source": [
        "# derivative\n",
        "Derivative(f(x), x)"
      ],
      "metadata": {
        "colab": {
          "base_uri": "https://localhost:8080/",
          "height": 52
        },
        "id": "LCQFnnL1SJwB",
        "outputId": "aefa6a50-323c-4758-d1af-29565b0e3160"
      },
      "execution_count": 29,
      "outputs": [
        {
          "output_type": "execute_result",
          "data": {
            "text/plain": [
              "d       \n",
              "──(f(x))\n",
              "dx      "
            ],
            "text/latex": "$\\displaystyle \\frac{d}{d x} f{\\left(x \\right)}$"
          },
          "metadata": {},
          "execution_count": 29
        }
      ]
    },
    {
      "cell_type": "code",
      "source": [
        "# second derivative\n",
        "Derivative(f(x), x, 2)"
      ],
      "metadata": {
        "colab": {
          "base_uri": "https://localhost:8080/",
          "height": 54
        },
        "id": "u0AtdTWNSmmQ",
        "outputId": "a53db58e-4e62-4e89-b433-28b7f0049d7e"
      },
      "execution_count": 30,
      "outputs": [
        {
          "output_type": "execute_result",
          "data": {
            "text/plain": [
              "  2      \n",
              " d       \n",
              "───(f(x))\n",
              "  2      \n",
              "dx       "
            ],
            "text/latex": "$\\displaystyle \\frac{d^{2}}{d x^{2}} f{\\left(x \\right)}$"
          },
          "metadata": {},
          "execution_count": 30
        }
      ]
    },
    {
      "cell_type": "code",
      "source": [
        "# partial derivative\n",
        "Derivative(f(x, y), x)"
      ],
      "metadata": {
        "colab": {
          "base_uri": "https://localhost:8080/",
          "height": 52
        },
        "id": "fC_2NzwxTEAg",
        "outputId": "4092264c-b677-4d98-9563-b94515974c8c"
      },
      "execution_count": 31,
      "outputs": [
        {
          "output_type": "execute_result",
          "data": {
            "text/plain": [
              "∂          \n",
              "──(f(x, y))\n",
              "∂x         "
            ],
            "text/latex": "$\\displaystyle \\frac{\\partial}{\\partial x} f{\\left(x,y \\right)}$"
          },
          "metadata": {},
          "execution_count": 31
        }
      ]
    },
    {
      "cell_type": "code",
      "source": [
        "# indefinite integral\n",
        "Integral(f(x), x)"
      ],
      "metadata": {
        "colab": {
          "base_uri": "https://localhost:8080/",
          "height": 55
        },
        "id": "QW3x7opkTtkg",
        "outputId": "b28fdfa3-770a-4aad-9056-38d4cb2332a2"
      },
      "execution_count": 32,
      "outputs": [
        {
          "output_type": "execute_result",
          "data": {
            "text/plain": [
              "⌠        \n",
              "⎮ f(x) dx\n",
              "⌡        "
            ],
            "text/latex": "$\\displaystyle \\int f{\\left(x \\right)}\\, dx$"
          },
          "metadata": {},
          "execution_count": 32
        }
      ]
    },
    {
      "cell_type": "code",
      "source": [
        "# definite integral\n",
        "Integral(f(x), (x, a, b))"
      ],
      "metadata": {
        "colab": {
          "base_uri": "https://localhost:8080/",
          "height": 80
        },
        "id": "DnCe8GhAT4zo",
        "outputId": "235dd958-bb6b-4e03-b24a-463ccedc1aaf"
      },
      "execution_count": 19,
      "outputs": [
        {
          "output_type": "execute_result",
          "data": {
            "text/plain": [
              "b        \n",
              "⌠        \n",
              "⎮ f(x) dx\n",
              "⌡        \n",
              "a        "
            ],
            "text/latex": "$\\displaystyle \\int\\limits_{a}^{b} f{\\left(x \\right)}\\, dx$"
          },
          "metadata": {},
          "execution_count": 19
        }
      ]
    },
    {
      "cell_type": "code",
      "source": [
        "#\n",
        "Integral(f(x), x, x)"
      ],
      "metadata": {
        "colab": {
          "base_uri": "https://localhost:8080/",
          "height": 55
        },
        "id": "6j_bgxMcT-kg",
        "outputId": "82ac7971-2e10-46d8-a1d8-c1800eea3813"
      },
      "execution_count": 21,
      "outputs": [
        {
          "output_type": "execute_result",
          "data": {
            "text/plain": [
              "⌠ ⌠           \n",
              "⎮ ⎮ f(x) dx dx\n",
              "⌡ ⌡           "
            ],
            "text/latex": "$\\displaystyle \\iint f{\\left(x \\right)}\\, dx\\, dx$"
          },
          "metadata": {},
          "execution_count": 21
        }
      ]
    },
    {
      "cell_type": "code",
      "source": [
        "#\n",
        "Integral(f(x, y), x, y)"
      ],
      "metadata": {
        "colab": {
          "base_uri": "https://localhost:8080/",
          "height": 55
        },
        "id": "DkhVuaqkUewY",
        "outputId": "836ba1ad-7c5a-4cd2-cb9a-3028fb7327da"
      },
      "execution_count": 23,
      "outputs": [
        {
          "output_type": "execute_result",
          "data": {
            "text/plain": [
              "⌠ ⌠              \n",
              "⎮ ⎮ f(x, y) dx dy\n",
              "⌡ ⌡              "
            ],
            "text/latex": "$\\displaystyle \\iint f{\\left(x,y \\right)}\\, dx\\, dy$"
          },
          "metadata": {},
          "execution_count": 23
        }
      ]
    },
    {
      "cell_type": "code",
      "source": [
        "#\n",
        "Sum(n, (n, 1, 100))"
      ],
      "metadata": {
        "colab": {
          "base_uri": "https://localhost:8080/",
          "height": 69
        },
        "id": "kDjSZ6aoUpXw",
        "outputId": "c53465c0-9807-4ae6-db52-1383456580cb"
      },
      "execution_count": 49,
      "outputs": [
        {
          "output_type": "execute_result",
          "data": {
            "text/plain": [
              " 100   \n",
              " ___   \n",
              " ╲     \n",
              "  ╲    \n",
              "  ╱   n\n",
              " ╱     \n",
              " ‾‾‾   \n",
              "n = 1  "
            ],
            "text/latex": "$\\displaystyle \\sum_{n=1}^{100} n$"
          },
          "metadata": {},
          "execution_count": 49
        }
      ]
    },
    {
      "cell_type": "code",
      "source": [
        "series(f(x), x)"
      ],
      "metadata": {
        "colab": {
          "base_uri": "https://localhost:8080/",
          "height": 77
        },
        "id": "wxv3x0zDU997",
        "outputId": "f66ace6f-0d74-488f-a050-bd265c67c358"
      },
      "execution_count": 41,
      "outputs": [
        {
          "output_type": "execute_result",
          "data": {
            "text/plain": [
              "                             ⎛  2      ⎞│         ⎛  3      ⎞│         ⎛  4   \n",
              "                           2 ⎜ d       ⎟│       3 ⎜ d       ⎟│       4 ⎜ d    \n",
              "                          x ⋅⎜───(f(ξ))⎟│      x ⋅⎜───(f(ξ))⎟│      x ⋅⎜───(f(\n",
              "                             ⎜  2      ⎟│         ⎜  3      ⎟│         ⎜  4   \n",
              "         ⎛d       ⎞│         ⎝dξ       ⎠│ξ=0      ⎝dξ       ⎠│ξ=0      ⎝dξ    \n",
              "f(0) + x⋅⎜──(f(ξ))⎟│    + ────────────────── + ────────────────── + ──────────\n",
              "         ⎝dξ      ⎠│ξ=0           2                    6                    24\n",
              "\n",
              "   ⎞│         ⎛  5      ⎞│           \n",
              "   ⎟│       5 ⎜ d       ⎟│           \n",
              "ξ))⎟│      x ⋅⎜───(f(ξ))⎟│           \n",
              "   ⎟│         ⎜  5      ⎟│           \n",
              "   ⎠│ξ=0      ⎝dξ       ⎠│ξ=0    ⎛ 6⎞\n",
              "──────── + ────────────────── + O⎝x ⎠\n",
              "                  120                "
            ],
            "text/latex": "$\\displaystyle f{\\left(0 \\right)} + x \\left. \\frac{d}{d \\xi} f{\\left(\\xi \\right)} \\right|_{\\substack{ \\xi=0 }} + \\frac{x^{2} \\left. \\frac{d^{2}}{d \\xi^{2}} f{\\left(\\xi \\right)} \\right|_{\\substack{ \\xi=0 }}}{2} + \\frac{x^{3} \\left. \\frac{d^{3}}{d \\xi^{3}} f{\\left(\\xi \\right)} \\right|_{\\substack{ \\xi=0 }}}{6} + \\frac{x^{4} \\left. \\frac{d^{4}}{d \\xi^{4}} f{\\left(\\xi \\right)} \\right|_{\\substack{ \\xi=0 }}}{24} + \\frac{x^{5} \\left. \\frac{d^{5}}{d \\xi^{5}} f{\\left(\\xi \\right)} \\right|_{\\substack{ \\xi=0 }}}{120} + O\\left(x^{6}\\right)$"
          },
          "metadata": {},
          "execution_count": 41
        }
      ]
    },
    {
      "cell_type": "code",
      "source": [],
      "metadata": {
        "id": "qNthHEFrXG3l"
      },
      "execution_count": null,
      "outputs": []
    }
  ]
}