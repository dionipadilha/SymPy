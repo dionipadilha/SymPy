{
  "nbformat": 4,
  "nbformat_minor": 0,
  "metadata": {
    "colab": {
      "provenance": [],
      "authorship_tag": "ABX9TyObBUz2gqM/ZlyTMAqOJWcA",
      "include_colab_link": true
    },
    "kernelspec": {
      "name": "python3",
      "display_name": "Python 3"
    },
    "language_info": {
      "name": "python"
    }
  },
  "cells": [
    {
      "cell_type": "markdown",
      "metadata": {
        "id": "view-in-github",
        "colab_type": "text"
      },
      "source": [
        "<a href=\"https://colab.research.google.com/github/dionipadilha/sympy/blob/main/symbolic_computations_2024.ipynb\" target=\"_parent\"><img src=\"https://colab.research.google.com/assets/colab-badge.svg\" alt=\"Open In Colab\"/></a>"
      ]
    },
    {
      "cell_type": "markdown",
      "source": [
        "### SymPy for Symbolic Computations"
      ],
      "metadata": {
        "id": "8c0ryIdviov0"
      }
    },
    {
      "cell_type": "code",
      "execution_count": null,
      "metadata": {
        "id": "TC_Owl2SbW0G"
      },
      "outputs": [],
      "source": [
        "# Symbolic env:\n",
        "from sympy import *\n",
        "init_printing()\n",
        "a, b, c = symbols('a, b, c')\n",
        "x, y, z = symbols('x, y, z')\n",
        "k, m, n = symbols('k m n', integer=True)\n",
        "f, g, h = symbols('f, g, h', cls=Function)"
      ]
    },
    {
      "cell_type": "code",
      "source": [
        "# Combining Like Terms:\n",
        "3*x + 2*x"
      ],
      "metadata": {
        "colab": {
          "base_uri": "https://localhost:8080/",
          "height": 38
        },
        "id": "tZx_0dPIbiZ-",
        "outputId": "ed7404be-1db6-4046-8e55-a0c03c1525c2"
      },
      "execution_count": null,
      "outputs": [
        {
          "output_type": "execute_result",
          "data": {
            "text/plain": [
              "5⋅x"
            ],
            "text/latex": "$\\displaystyle 5 x$"
          },
          "metadata": {},
          "execution_count": 2
        }
      ]
    },
    {
      "cell_type": "code",
      "source": [
        "# Multiplying terms inside parentheses:\n",
        "2*(a + b)"
      ],
      "metadata": {
        "colab": {
          "base_uri": "https://localhost:8080/",
          "height": 38
        },
        "id": "4f85oyPXb33p",
        "outputId": "768edefe-0637-46c2-be3b-796f14987e1d"
      },
      "execution_count": null,
      "outputs": [
        {
          "output_type": "execute_result",
          "data": {
            "text/plain": [
              "2⋅a + 2⋅b"
            ],
            "text/latex": "$\\displaystyle 2 a + 2 b$"
          },
          "metadata": {},
          "execution_count": 11
        }
      ]
    },
    {
      "cell_type": "code",
      "source": [
        "# Expanding an expression:\n",
        "expr = (x + 2) * (x - 2)\n",
        "Eq(expr, expr.expand())"
      ],
      "metadata": {
        "colab": {
          "base_uri": "https://localhost:8080/",
          "height": 38
        },
        "id": "XnvUslCrcbVf",
        "outputId": "befc1771-ab90-4cbd-dbbc-f140dd65acda"
      },
      "execution_count": null,
      "outputs": [
        {
          "output_type": "execute_result",
          "data": {
            "text/plain": [
              "                   2    \n",
              "(x - 2)⋅(x + 2) = x  - 4"
            ],
            "text/latex": "$\\displaystyle \\left(x - 2\\right) \\left(x + 2\\right) = x^{2} - 4$"
          },
          "metadata": {},
          "execution_count": 4
        }
      ]
    },
    {
      "cell_type": "code",
      "source": [
        "# Factoring an expression:\n",
        "expr = x**2 -4\n",
        "Eq(expr, expr.factor())"
      ],
      "metadata": {
        "colab": {
          "base_uri": "https://localhost:8080/",
          "height": 38
        },
        "id": "G8C9URTOgWj3",
        "outputId": "cd0b7669-d1cd-46d4-8f94-2c4876915168"
      },
      "execution_count": null,
      "outputs": [
        {
          "output_type": "execute_result",
          "data": {
            "text/plain": [
              " 2                      \n",
              "x  - 4 = (x - 2)⋅(x + 2)"
            ],
            "text/latex": "$\\displaystyle x^{2} - 4 = \\left(x - 2\\right) \\left(x + 2\\right)$"
          },
          "metadata": {},
          "execution_count": 5
        }
      ]
    },
    {
      "cell_type": "code",
      "source": [
        "# Simplifying an expression:\n",
        "expr = (x**2 + 2*x + 1)/(x + 1)\n",
        "Eq(expr, expr.simplify())"
      ],
      "metadata": {
        "colab": {
          "base_uri": "https://localhost:8080/",
          "height": 55
        },
        "id": "-i00gA0wgjBF",
        "outputId": "a92232bb-c052-4d0f-c315-add08480dc42"
      },
      "execution_count": null,
      "outputs": [
        {
          "output_type": "execute_result",
          "data": {
            "text/plain": [
              " 2                  \n",
              "x  + 2⋅x + 1        \n",
              "──────────── = x + 1\n",
              "   x + 1            "
            ],
            "text/latex": "$\\displaystyle \\frac{x^{2} + 2 x + 1}{x + 1} = x + 1$"
          },
          "metadata": {},
          "execution_count": 6
        }
      ]
    },
    {
      "cell_type": "code",
      "source": [
        "# Solving an Equation:\n",
        "eq = Eq(x**2 - 5*x + 6, 0)\n",
        "solution = solve(eq, x)\n",
        "(eq, solution)"
      ],
      "metadata": {
        "colab": {
          "base_uri": "https://localhost:8080/",
          "height": 38
        },
        "id": "ctRzuKIOhAOm",
        "outputId": "5d4e9bde-72cf-43bc-e680-e1f439619477"
      },
      "execution_count": null,
      "outputs": [
        {
          "output_type": "execute_result",
          "data": {
            "text/plain": [
              "⎛ 2                      ⎞\n",
              "⎝x  - 5⋅x + 6 = 0, [2, 3]⎠"
            ],
            "text/latex": "$\\displaystyle \\left( x^{2} - 5 x + 6 = 0, \\  \\left[ 2, \\  3\\right]\\right)$"
          },
          "metadata": {},
          "execution_count": 9
        }
      ]
    },
    {
      "cell_type": "code",
      "source": [
        "# Substituting Values:\n",
        "expr = a**2 + b*c\n",
        "expr.subs({a: 2, b: 3, c: 4})"
      ],
      "metadata": {
        "colab": {
          "base_uri": "https://localhost:8080/",
          "height": 37
        },
        "id": "_pc9wRgvhUmU",
        "outputId": "dce7cbd1-289f-457e-b665-7fd8ef4dd7a1"
      },
      "execution_count": null,
      "outputs": [
        {
          "output_type": "execute_result",
          "data": {
            "text/plain": [
              "16"
            ],
            "text/latex": "$\\displaystyle 16$"
          },
          "metadata": {},
          "execution_count": 8
        }
      ]
    }
  ]
}