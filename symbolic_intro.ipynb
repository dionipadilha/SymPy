{
  "nbformat": 4,
  "nbformat_minor": 0,
  "metadata": {
    "colab": {
      "provenance": [],
      "authorship_tag": "ABX9TyOWQ6S7RslWQtqUMznLfZis",
      "include_colab_link": true
    },
    "kernelspec": {
      "name": "python3",
      "display_name": "Python 3"
    },
    "language_info": {
      "name": "python"
    }
  },
  "cells": [
    {
      "cell_type": "markdown",
      "metadata": {
        "id": "view-in-github",
        "colab_type": "text"
      },
      "source": [
        "<a href=\"https://colab.research.google.com/github/dionipadilha/sympy/blob/main/symbolic_intro.ipynb\" target=\"_parent\"><img src=\"https://colab.research.google.com/assets/colab-badge.svg\" alt=\"Open In Colab\"/></a>"
      ]
    },
    {
      "cell_type": "code",
      "execution_count": null,
      "metadata": {
        "id": "47wrhUtLKBy1"
      },
      "outputs": [],
      "source": [
        "# symbolic environment:\n",
        "from sympy import *\n",
        "a, b, c, d = symbols('a, b, c, d')\n",
        "r, s, t = symbols('r, s, t')\n",
        "u, v = symbols('u, v')\n",
        "x, y, z = symbols('x, y, z')\n",
        "k, m, n = symbols('k, m, n', integer=True)\n",
        "f, g, h = symbols('f, g, h', cls=Function)\n",
        "init_printing()"
      ]
    },
    {
      "cell_type": "code",
      "source": [
        "# symbolic expression:\n",
        "expr = (x**2 - 1)/(x-1)\n",
        "expr"
      ],
      "metadata": {
        "colab": {
          "base_uri": "https://localhost:8080/",
          "height": 55
        },
        "outputId": "9028e8f3-5acd-40ec-fd81-b0369e67c2a3",
        "id": "Z1SrRkZfKBy1"
      },
      "execution_count": null,
      "outputs": [
        {
          "output_type": "execute_result",
          "data": {
            "text/plain": [
              " 2    \n",
              "x  - 1\n",
              "──────\n",
              "x - 1 "
            ],
            "text/latex": "$\\displaystyle \\frac{x^{2} - 1}{x - 1}$"
          },
          "metadata": {},
          "execution_count": 2
        }
      ]
    },
    {
      "cell_type": "code",
      "source": [
        "# symbolic simplification:\n",
        "simplify(expr)"
      ],
      "metadata": {
        "colab": {
          "base_uri": "https://localhost:8080/",
          "height": 38
        },
        "outputId": "12e7a42a-c620-4675-e832-e16c6854fa4c",
        "id": "MCv94izdKBy1"
      },
      "execution_count": null,
      "outputs": [
        {
          "output_type": "execute_result",
          "data": {
            "text/plain": [
              "x + 1"
            ],
            "text/latex": "$\\displaystyle x + 1$"
          },
          "metadata": {},
          "execution_count": 3
        }
      ]
    },
    {
      "cell_type": "code",
      "source": [
        "# symbolic equation:\n",
        "eq = Eq(expr, 3)\n",
        "eq"
      ],
      "metadata": {
        "colab": {
          "base_uri": "https://localhost:8080/",
          "height": 55
        },
        "outputId": "8c45e25f-b6b3-4fa6-ede6-b5d96c9cf8fa",
        "id": "LxVeJ97KKBy1"
      },
      "execution_count": null,
      "outputs": [
        {
          "output_type": "execute_result",
          "data": {
            "text/plain": [
              " 2        \n",
              "x  - 1    \n",
              "────── = 3\n",
              "x - 1     "
            ],
            "text/latex": "$\\displaystyle \\frac{x^{2} - 1}{x - 1} = 3$"
          },
          "metadata": {},
          "execution_count": 4
        }
      ]
    },
    {
      "cell_type": "code",
      "source": [
        "# symbolic solving:\n",
        "solveset(eq, x)"
      ],
      "metadata": {
        "colab": {
          "base_uri": "https://localhost:8080/",
          "height": 37
        },
        "outputId": "672a2b6f-c5d2-4b68-e811-5ed56933de2a",
        "id": "Z9VLFDm0KBy1"
      },
      "execution_count": null,
      "outputs": [
        {
          "output_type": "execute_result",
          "data": {
            "text/plain": [
              "{2}"
            ],
            "text/latex": "$\\displaystyle \\left\\{2\\right\\}$"
          },
          "metadata": {},
          "execution_count": 5
        }
      ]
    },
    {
      "cell_type": "code",
      "source": [
        "# symbolic function:\n",
        "f = Lambda(x, expr)\n",
        "f(x)"
      ],
      "metadata": {
        "colab": {
          "base_uri": "https://localhost:8080/",
          "height": 55
        },
        "outputId": "0191deb9-52ee-444b-dbb9-2e544537c56d",
        "id": "zkLhWiqGKBy2"
      },
      "execution_count": null,
      "outputs": [
        {
          "output_type": "execute_result",
          "data": {
            "text/plain": [
              " 2    \n",
              "x  - 1\n",
              "──────\n",
              "x - 1 "
            ],
            "text/latex": "$\\displaystyle \\frac{x^{2} - 1}{x - 1}$"
          },
          "metadata": {},
          "execution_count": 6
        }
      ]
    },
    {
      "cell_type": "code",
      "source": [
        "# symbolic evaluation:\n",
        "# f(1) NaN\n",
        "f(2)"
      ],
      "metadata": {
        "colab": {
          "base_uri": "https://localhost:8080/",
          "height": 37
        },
        "id": "7Wq79EbhKtD-",
        "outputId": "31e3f0c8-015f-47f8-bf36-9d573a24c4ba"
      },
      "execution_count": null,
      "outputs": [
        {
          "output_type": "execute_result",
          "data": {
            "text/plain": [
              "3"
            ],
            "text/latex": "$\\displaystyle 3$"
          },
          "metadata": {},
          "execution_count": 7
        }
      ]
    },
    {
      "cell_type": "code",
      "source": [
        "# symbolic limit:\n",
        "L = Limit(f(x), x, 1)\n",
        "Eq(L, L.doit())"
      ],
      "metadata": {
        "colab": {
          "base_uri": "https://localhost:8080/",
          "height": 58
        },
        "outputId": "00eb5f43-49a9-499f-86d6-25569324a831",
        "id": "WHOhJTeFKBy2"
      },
      "execution_count": null,
      "outputs": [
        {
          "output_type": "execute_result",
          "data": {
            "text/plain": [
              "     ⎛ 2    ⎞    \n",
              "     ⎜x  - 1⎟    \n",
              " lim ⎜──────⎟ = 2\n",
              "x─→1⁺⎝x - 1 ⎠    "
            ],
            "text/latex": "$\\displaystyle \\lim_{x \\to 1^+}\\left(\\frac{x^{2} - 1}{x - 1}\\right) = 2$"
          },
          "metadata": {},
          "execution_count": 8
        }
      ]
    },
    {
      "cell_type": "code",
      "source": [
        "# symbolic differentiation:\n",
        "f_ = Derivative(f(x), x)\n",
        "Eq(f_, f_.doit())"
      ],
      "metadata": {
        "colab": {
          "base_uri": "https://localhost:8080/",
          "height": 61
        },
        "outputId": "04b5115c-f7f1-4b7d-ea93-351d44439b24",
        "id": "C0gOPKh0KBy2"
      },
      "execution_count": null,
      "outputs": [
        {
          "output_type": "execute_result",
          "data": {
            "text/plain": [
              "  ⎛ 2    ⎞             2     \n",
              "d ⎜x  - 1⎟    2⋅x     x  - 1 \n",
              "──⎜──────⎟ = ───── - ────────\n",
              "dx⎝x - 1 ⎠   x - 1          2\n",
              "                     (x - 1) "
            ],
            "text/latex": "$\\displaystyle \\frac{d}{d x} \\frac{x^{2} - 1}{x - 1} = \\frac{2 x}{x - 1} - \\frac{x^{2} - 1}{\\left(x - 1\\right)^{2}}$"
          },
          "metadata": {},
          "execution_count": 9
        }
      ]
    },
    {
      "cell_type": "code",
      "source": [
        "# symbolic integration:\n",
        "F = Integral(f(x), x)\n",
        "Eq(F, F.doit())"
      ],
      "metadata": {
        "colab": {
          "base_uri": "https://localhost:8080/",
          "height": 57
        },
        "outputId": "45212a9a-ea03-4715-b34c-41ca72d85e02",
        "id": "dr55SpCMKBy2"
      },
      "execution_count": null,
      "outputs": [
        {
          "output_type": "execute_result",
          "data": {
            "text/plain": [
              "⌠                   \n",
              "⎮  2           2    \n",
              "⎮ x  - 1      x     \n",
              "⎮ ────── dx = ── + x\n",
              "⎮ x - 1       2     \n",
              "⌡                   "
            ],
            "text/latex": "$\\displaystyle \\int \\frac{x^{2} - 1}{x - 1}\\, dx = \\frac{x^{2}}{2} + x$"
          },
          "metadata": {},
          "execution_count": 10
        }
      ]
    },
    {
      "cell_type": "code",
      "source": [
        "# symbolic definite integral:\n",
        "F = Integral(f(x), (x, a, b))\n",
        "Eq(F, F.doit())"
      ],
      "metadata": {
        "colab": {
          "base_uri": "https://localhost:8080/",
          "height": 80
        },
        "outputId": "c0c3dc85-14cf-47e5-f15f-cbcadf3128ac",
        "id": "l4s9L1IhKBy2"
      },
      "execution_count": null,
      "outputs": [
        {
          "output_type": "execute_result",
          "data": {
            "text/plain": [
              "b                              \n",
              "⌠                              \n",
              "⎮  2             2        2    \n",
              "⎮ x  - 1        a        b     \n",
              "⎮ ────── dx = - ── - a + ── + b\n",
              "⎮ x - 1         2        2     \n",
              "⌡                              \n",
              "a                              "
            ],
            "text/latex": "$\\displaystyle \\int\\limits_{a}^{b} \\frac{x^{2} - 1}{x - 1}\\, dx = - \\frac{a^{2}}{2} - a + \\frac{b^{2}}{2} + b$"
          },
          "metadata": {},
          "execution_count": 11
        }
      ]
    }
  ]
}