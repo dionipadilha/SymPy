{
  "nbformat": 4,
  "nbformat_minor": 0,
  "metadata": {
    "colab": {
      "provenance": [],
      "authorship_tag": "ABX9TyPjGUHKsvUiakjBpoEJW7uQ",
      "include_colab_link": true
    },
    "kernelspec": {
      "name": "python3",
      "display_name": "Python 3"
    },
    "language_info": {
      "name": "python"
    }
  },
  "cells": [
    {
      "cell_type": "markdown",
      "metadata": {
        "id": "view-in-github",
        "colab_type": "text"
      },
      "source": [
        "<a href=\"https://colab.research.google.com/github/dionipadilha/sympy_math_intro/blob/main/symbolic_math_workflow.ipynb\" target=\"_parent\"><img src=\"https://colab.research.google.com/assets/colab-badge.svg\" alt=\"Open In Colab\"/></a>"
      ]
    },
    {
      "cell_type": "code",
      "source": [
        "# Configure Symbolic Math Workflow\n",
        "from sympy import symbols, init_printing, Lambda, Eq, solve, plot\n",
        "from seaborn import set_style as plot_style\n",
        "a,b,c,d,x = symbols('a,b,c,d,x')\n",
        "init_printing()\n",
        "plot_style(\"whitegrid\")\n",
        "%matplotlib inline"
      ],
      "metadata": {
        "id": "DK7xwIvvqJ8G"
      },
      "execution_count": 7,
      "outputs": []
    },
    {
      "cell_type": "code",
      "source": [
        "# Defining a symbolic function\n",
        "quadratic_function = Lambda(x, a*x**2+b*x+c);\n",
        "quadratic_function(x)"
      ],
      "metadata": {
        "colab": {
          "base_uri": "https://localhost:8080/",
          "height": 38
        },
        "id": "o0Hb-6YXqMHL",
        "outputId": "f98d874f-f72d-4a15-aade-46f8fb0e2981"
      },
      "execution_count": 8,
      "outputs": [
        {
          "output_type": "execute_result",
          "data": {
            "text/plain": [
              "   2          \n",
              "a⋅x  + b⋅x + c"
            ],
            "text/latex": "$\\displaystyle a x^{2} + b x + c$"
          },
          "metadata": {},
          "execution_count": 8
        }
      ]
    },
    {
      "cell_type": "code",
      "source": [
        "# Defining an symbolic equation\n",
        "quadratic_equation = Eq(quadratic_function(x), 0);\n",
        "quadratic_equation"
      ],
      "metadata": {
        "colab": {
          "base_uri": "https://localhost:8080/",
          "height": 38
        },
        "id": "OHZAmjPjqP0N",
        "outputId": "db9b59c3-0731-43bf-d166-3adb2cfade75"
      },
      "execution_count": 9,
      "outputs": [
        {
          "output_type": "execute_result",
          "data": {
            "text/plain": [
              "   2              \n",
              "a⋅x  + b⋅x + c = 0"
            ],
            "text/latex": "$\\displaystyle a x^{2} + b x + c = 0$"
          },
          "metadata": {},
          "execution_count": 9
        }
      ]
    },
    {
      "cell_type": "code",
      "source": [
        "# Solving an symbolic equation\n",
        "roots = solve(quadratic_equation, x)\n",
        "roots"
      ],
      "metadata": {
        "colab": {
          "base_uri": "https://localhost:8080/",
          "height": 68
        },
        "id": "EErw5wWIqT-J",
        "outputId": "14cd3f9f-9aa9-4d04-b441-3537565ba80d"
      },
      "execution_count": 10,
      "outputs": [
        {
          "output_type": "execute_result",
          "data": {
            "text/plain": [
              "⎡        _____________          _____________⎤\n",
              "⎢       ╱           2          ╱           2 ⎥\n",
              "⎢-b - ╲╱  -4⋅a⋅c + b    -b + ╲╱  -4⋅a⋅c + b  ⎥\n",
              "⎢─────────────────────, ─────────────────────⎥\n",
              "⎣         2⋅a                    2⋅a         ⎦"
            ],
            "text/latex": "$\\displaystyle \\left[ \\frac{- b - \\sqrt{- 4 a c + b^{2}}}{2 a}, \\  \\frac{- b + \\sqrt{- 4 a c + b^{2}}}{2 a}\\right]$"
          },
          "metadata": {},
          "execution_count": 10
        }
      ]
    },
    {
      "cell_type": "code",
      "source": [
        "# Find specific solutions\n",
        "ex1 = {a:1, b:-5, c:6};\n",
        "[root.subs(ex1) for root in roots] #--> [2, 3]"
      ],
      "metadata": {
        "colab": {
          "base_uri": "https://localhost:8080/",
          "height": 37
        },
        "id": "pXGSQu8RqhFv",
        "outputId": "b44c5626-9661-4f02-c03c-b8231f273d94"
      },
      "execution_count": 11,
      "outputs": [
        {
          "output_type": "execute_result",
          "data": {
            "text/plain": [
              "[2, 3]"
            ],
            "text/latex": "$\\displaystyle \\left[ 2, \\  3\\right]$"
          },
          "metadata": {},
          "execution_count": 11
        }
      ]
    },
    {
      "cell_type": "code",
      "source": [
        "# Plotting a specific function\n",
        "plot(quadratic_function(x).subs(ex1), (x, 0, 5))"
      ],
      "metadata": {
        "colab": {
          "base_uri": "https://localhost:8080/",
          "height": 498
        },
        "id": "KVt5PlHhqpNE",
        "outputId": "cd86d6e4-2179-41bb-d02b-e0dfed98405c"
      },
      "execution_count": 12,
      "outputs": [
        {
          "output_type": "display_data",
          "data": {
            "text/plain": [
              "<Figure size 640x480 with 1 Axes>"
            ],
            "image/png": "[encoded data removed]"
          },
          "metadata": {}
        },
        {
          "output_type": "execute_result",
          "data": {
            "text/plain": [
              "<sympy.plotting.plot.Plot at 0x7f901ce68310>"
            ]
          },
          "metadata": {},
          "execution_count": 12
        }
      ]
    },
    {
      "cell_type": "code",
      "source": [],
      "metadata": {
        "id": "haZNSOf0LnOJ"
      },
      "execution_count": null,
      "outputs": []
    }
  ]
}