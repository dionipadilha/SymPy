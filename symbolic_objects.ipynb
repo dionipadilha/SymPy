{
  "nbformat": 4,
  "nbformat_minor": 0,
  "metadata": {
    "colab": {
      "provenance": [],
      "authorship_tag": "ABX9TyMF7Sz8suwlmnUA3Ee6h4+e",
      "include_colab_link": true
    },
    "kernelspec": {
      "name": "python3",
      "display_name": "Python 3"
    },
    "language_info": {
      "name": "python"
    }
  },
  "cells": [
    {
      "cell_type": "markdown",
      "metadata": {
        "id": "view-in-github",
        "colab_type": "text"
      },
      "source": [
        "<a href=\"https://colab.research.google.com/github/dionipadilha/sympy/blob/main/symbolic_objects.ipynb\" target=\"_parent\"><img src=\"https://colab.research.google.com/assets/colab-badge.svg\" alt=\"Open In Colab\"/></a>"
      ]
    },
    {
      "cell_type": "markdown",
      "source": [
        "# Symbolic Objects"
      ],
      "metadata": {
        "id": "ayaE2jKwbtT-"
      }
    },
    {
      "cell_type": "markdown",
      "source": [
        "The provided code demonstrates how to work with symbolic numbers, variables, expressions, equations, and functions using the SymPy library in Python."
      ],
      "metadata": {
        "id": "MHaFuA-Cb2tg"
      }
    },
    {
      "cell_type": "markdown",
      "source": [
        "## Symbolic Environment"
      ],
      "metadata": {
        "id": "-VyM6FBxCmZp"
      }
    },
    {
      "cell_type": "markdown",
      "source": [
        " SymPy is a powerful tool for performing precise mathematical operations symbolically, without relying on numerical approximations."
      ],
      "metadata": {
        "id": "tELbnEcTCzUX"
      }
    },
    {
      "cell_type": "code",
      "execution_count": null,
      "metadata": {
        "id": "41wabD4aXEIi"
      },
      "outputs": [],
      "source": [
        "# Symbolic environment using sympy:\n",
        "from sympy import *\n",
        "init_printing()"
      ]
    },
    {
      "cell_type": "markdown",
      "source": [
        "## Symbolic Numbers"
      ],
      "metadata": {
        "id": "7du4QLm_YJjN"
      }
    },
    {
      "cell_type": "markdown",
      "source": [
        "In this section, the code demonstrates the difference between symbolic numbers (exact representations) and numerical numbers (decimal approximations). It also shows how to work with symbolic rational numbers and how to control the precision of symbolic numbers."
      ],
      "metadata": {
        "id": "2cxpfXd0doQM"
      }
    },
    {
      "cell_type": "code",
      "source": [
        "# Symbolic numbers are exact representations of mathematical values:\n",
        "pi, sin(pi)"
      ],
      "metadata": {
        "colab": {
          "base_uri": "https://localhost:8080/",
          "height": 38
        },
        "id": "YXwAHzPWXb4_",
        "outputId": "ac322bff-27b4-4887-9b10-4165f1ba55f7"
      },
      "execution_count": null,
      "outputs": [
        {
          "output_type": "execute_result",
          "data": {
            "text/plain": [
              "(π, 0)"
            ],
            "text/latex": "$\\displaystyle \\left( \\pi, \\  0\\right)$"
          },
          "metadata": {},
          "execution_count": 2
        }
      ]
    },
    {
      "cell_type": "code",
      "source": [
        "# Numeric numbers are decimal approximations:\n",
        "numeric_pi = 3.14\n",
        "numeric_pi, sin(numeric_pi)"
      ],
      "metadata": {
        "colab": {
          "base_uri": "https://localhost:8080/",
          "height": 38
        },
        "id": "z072NA60Xtdw",
        "outputId": "29c29ddb-192c-4c20-8eea-2e0673dc7509"
      },
      "execution_count": null,
      "outputs": [
        {
          "output_type": "execute_result",
          "data": {
            "text/plain": [
              "(3.14, 0.00159265291648683)"
            ],
            "text/latex": "$\\displaystyle \\left( 3.14, \\  0.00159265291648683\\right)$"
          },
          "metadata": {},
          "execution_count": 3
        }
      ]
    },
    {
      "cell_type": "code",
      "source": [
        "# Symbolic rational numbers can be represented as fractions:\n",
        "Rational(1,3), 1/3"
      ],
      "metadata": {
        "colab": {
          "base_uri": "https://localhost:8080/",
          "height": 58
        },
        "id": "m7NcIHEWXKAY",
        "outputId": "78294b2d-7077-489d-9110-e1709474b043"
      },
      "execution_count": null,
      "outputs": [
        {
          "output_type": "execute_result",
          "data": {
            "text/plain": [
              "(1/3, 0.3333333333333333)"
            ],
            "text/latex": "$\\displaystyle \\left( \\frac{1}{3}, \\  0.333333333333333\\right)$"
          },
          "metadata": {},
          "execution_count": 4
        }
      ]
    },
    {
      "cell_type": "code",
      "source": [
        "# Precision control for symbolic numbers using N():\n",
        "Rational(3,7), N(3/7), N(3/7, 3)"
      ],
      "metadata": {
        "colab": {
          "base_uri": "https://localhost:8080/",
          "height": 58
        },
        "id": "zSs9YavfbRkk",
        "outputId": "d4a69c0e-14da-4972-f3bb-8fe32bff6691"
      },
      "execution_count": null,
      "outputs": [
        {
          "output_type": "execute_result",
          "data": {
            "text/plain": [
              "(3/7, 0.428571428571429, 0.429)"
            ],
            "text/latex": "$\\displaystyle \\left( \\frac{3}{7}, \\  0.428571428571429, \\  0.429\\right)$"
          },
          "metadata": {},
          "execution_count": 5
        }
      ]
    },
    {
      "cell_type": "code",
      "source": [
        "# Precision control for symbolic numbers using evalf():\n",
        "pi.evalf(3), pi.evalf(), pi.evalf(20)"
      ],
      "metadata": {
        "colab": {
          "base_uri": "https://localhost:8080/",
          "height": 38
        },
        "id": "M74zP_uibE--",
        "outputId": "b3b4b7f9-c85d-4c86-ad1b-a3ed37206211"
      },
      "execution_count": null,
      "outputs": [
        {
          "output_type": "execute_result",
          "data": {
            "text/plain": [
              "(3.14, 3.14159265358979, 3.1415926535897932385)"
            ],
            "text/latex": "$\\displaystyle \\left( 3.14, \\  3.14159265358979, \\  3.1415926535897932385\\right)$"
          },
          "metadata": {},
          "execution_count": 6
        }
      ]
    },
    {
      "cell_type": "markdown",
      "source": [
        "## Symbolic Variables"
      ],
      "metadata": {
        "id": "QlBvqT9tdNmW"
      }
    },
    {
      "cell_type": "markdown",
      "source": [
        "This section shows how to create symbolic variables and use them in mathematical expressions. Symbolic variables can represent unknowns in equations or generic values in expressions. The code also demonstrates how to define assumptions for symbolic variables."
      ],
      "metadata": {
        "id": "YStXiFe0dvFe"
      }
    },
    {
      "cell_type": "code",
      "source": [
        "# Symbolic variables can be created with Symbol():\n",
        "x = Symbol('x')\n",
        "type(x)"
      ],
      "metadata": {
        "colab": {
          "base_uri": "https://localhost:8080/"
        },
        "id": "osIDI3_IcX2c",
        "outputId": "cca67d68-4038-423e-ce9d-848d9661a32b"
      },
      "execution_count": null,
      "outputs": [
        {
          "output_type": "execute_result",
          "data": {
            "text/plain": [
              "sympy.core.symbol.Symbol"
            ]
          },
          "metadata": {},
          "execution_count": 7
        }
      ]
    },
    {
      "cell_type": "code",
      "source": [
        "# Perform mathematical operations on symbolic variables:\n",
        "a, b = symbols('a, b')\n",
        "expand((a + b)**2)"
      ],
      "metadata": {
        "colab": {
          "base_uri": "https://localhost:8080/"
        },
        "id": "bkZZNiaidSo0",
        "outputId": "a38b9023-8180-4f25-e43f-c5b5e2614bc5"
      },
      "execution_count": null,
      "outputs": [
        {
          "output_type": "execute_result",
          "data": {
            "text/plain": [
              " 2            2\n",
              "a  + 2⋅a⋅b + b "
            ],
            "text/latex": "$\\displaystyle a^{2} + 2 a b + b^{2}$"
          },
          "metadata": {},
          "execution_count": 8
        }
      ]
    },
    {
      "cell_type": "code",
      "source": [
        "# Assumptions can be set for symbolic variables:\n",
        "n = Symbol('n', positive=True)\n",
        "n > 0"
      ],
      "metadata": {
        "colab": {
          "base_uri": "https://localhost:8080/"
        },
        "id": "jogVg9eLeoU5",
        "outputId": "13a5aed7-cbfa-419d-b4e2-e3cd5bbe866d"
      },
      "execution_count": null,
      "outputs": [
        {
          "output_type": "execute_result",
          "data": {
            "text/plain": [
              "True"
            ],
            "text/latex": "$\\displaystyle \\text{True}$"
          },
          "metadata": {},
          "execution_count": 9
        }
      ]
    },
    {
      "cell_type": "code",
      "source": [
        "# Perform mathematical operations on symbolic variables with assumptions:\n",
        "x = Symbol('x')\n",
        "y = Symbol('y', real=True)\n",
        "z = Symbol('z', positive=True)\n",
        "sqrt(x**2), sqrt(y**2), sqrt(z**2)"
      ],
      "metadata": {
        "colab": {
          "base_uri": "https://localhost:8080/"
        },
        "id": "imqYcSwWfCKD",
        "outputId": "1bcbde4d-a5b3-4dc9-b74a-7ea8ed5ad4c0"
      },
      "execution_count": null,
      "outputs": [
        {
          "output_type": "execute_result",
          "data": {
            "text/plain": [
              "⎛   ____        ⎞\n",
              "⎜  ╱  2         ⎟\n",
              "⎝╲╱  x  , │y│, z⎠"
            ],
            "text/latex": "$\\displaystyle \\left( \\sqrt{x^{2}}, \\  \\left|{y}\\right|, \\  z\\right)$"
          },
          "metadata": {},
          "execution_count": 10
        }
      ]
    },
    {
      "cell_type": "code",
      "source": [
        "# Reuse Names of symbolic variables:\n",
        "a, b = symbols('a, b')\n",
        "a = 5\n",
        "b = 7\n",
        "a = Symbol('a')\n",
        "a, b"
      ],
      "metadata": {
        "colab": {
          "base_uri": "https://localhost:8080/"
        },
        "id": "VZgKUBG09Eh6",
        "outputId": "16b98319-081f-4186-89e9-1d23c74e7d6b"
      },
      "execution_count": null,
      "outputs": [
        {
          "output_type": "execute_result",
          "data": {
            "text/plain": [
              "(a, 7)"
            ],
            "text/latex": "$\\displaystyle \\left( a, \\  7\\right)$"
          },
          "metadata": {},
          "execution_count": 11
        }
      ]
    },
    {
      "cell_type": "markdown",
      "source": [
        "## Symbolic Expressions"
      ],
      "metadata": {
        "id": "ABsqgapLfeI_"
      }
    },
    {
      "cell_type": "markdown",
      "source": [
        "This section shows how to create symbolic expressions, which consist of symbolic numbers, variables, and operators. The code demonstrates how to evaluate these symbolic expressions symbolically and perform mathematical operations on them."
      ],
      "metadata": {
        "id": "R1cV7n4cdznI"
      }
    },
    {
      "cell_type": "code",
      "source": [
        "# Symbolic expressions consist of numbers, variables, and operators:\n",
        "a, b, c = symbols('a, b, c')\n",
        "quadratic_expr = a*x**2 + b*x + c\n",
        "quadratic_expr"
      ],
      "metadata": {
        "colab": {
          "base_uri": "https://localhost:8080/"
        },
        "id": "S5PTBiHLkoUa",
        "outputId": "a7058f11-7c0c-4dd0-9f53-b9c78a4fb530"
      },
      "execution_count": null,
      "outputs": [
        {
          "output_type": "execute_result",
          "data": {
            "text/plain": [
              "   2          \n",
              "a⋅x  + b⋅x + c"
            ],
            "text/latex": "$\\displaystyle a x^{2} + b x + c$"
          },
          "metadata": {},
          "execution_count": 12
        }
      ]
    },
    {
      "cell_type": "code",
      "source": [
        "# Symbolic expressions can be evaluated symbolically for any given values:\n",
        "quadratic_expr.subs({a:1, b:-4, c:3})"
      ],
      "metadata": {
        "colab": {
          "base_uri": "https://localhost:8080/"
        },
        "id": "4Rm90ST3gsMg",
        "outputId": "272e6389-622b-43d7-ea5e-1ec2af98adb7"
      },
      "execution_count": null,
      "outputs": [
        {
          "output_type": "execute_result",
          "data": {
            "text/plain": [
              " 2          \n",
              "x  - 4⋅x + 3"
            ],
            "text/latex": "$\\displaystyle x^{2} - 4 x + 3$"
          },
          "metadata": {},
          "execution_count": 13
        }
      ]
    },
    {
      "cell_type": "code",
      "source": [
        "# Perform mathematical operations on symbolic expressions:\n",
        "quadratic_expr.diff(x)"
      ],
      "metadata": {
        "id": "i0Ct3OuDi1Uk",
        "colab": {
          "base_uri": "https://localhost:8080/"
        },
        "outputId": "fbcf532a-d64a-40cc-f2dd-f8b607e64ac4"
      },
      "execution_count": null,
      "outputs": [
        {
          "output_type": "execute_result",
          "data": {
            "text/plain": [
              "2⋅a⋅x + b"
            ],
            "text/latex": "$\\displaystyle 2 a x + b$"
          },
          "metadata": {},
          "execution_count": 14
        }
      ]
    },
    {
      "cell_type": "markdown",
      "source": [
        "## Symbolic Equations"
      ],
      "metadata": {
        "id": "f573gEtyw5DC"
      }
    },
    {
      "cell_type": "markdown",
      "source": [
        "In this section, the code demonstrates how to create symbolic equations using symbolic expressions and solve them symbolically. Symbolic equations can be solved using symbolic methods without relying on numerical approximations."
      ],
      "metadata": {
        "id": "oYCPHYDbd2-n"
      }
    },
    {
      "cell_type": "code",
      "source": [
        "# Symbolic equations can be created using Eq():\n",
        "a, b, c = symbols('a, b, c')\n",
        "x = Symbol('x')\n",
        "quadratic_equaion = Eq(a*x**2 + b*x + c,0)\n",
        "quadratic_equaion"
      ],
      "metadata": {
        "colab": {
          "base_uri": "https://localhost:8080/"
        },
        "id": "jhyhvNm4wtDk",
        "outputId": "46e2de1d-5043-47e9-a107-2f94d1230ada"
      },
      "execution_count": null,
      "outputs": [
        {
          "output_type": "execute_result",
          "data": {
            "text/plain": [
              "   2              \n",
              "a⋅x  + b⋅x + c = 0"
            ],
            "text/latex": "$\\displaystyle a x^{2} + b x + c = 0$"
          },
          "metadata": {},
          "execution_count": 15
        }
      ]
    },
    {
      "cell_type": "code",
      "source": [
        "# Symbolic equations can be evaluated symbolically for any given values:\n",
        "quadratic_equaion.subs({a:1, b:-4, c:3})"
      ],
      "metadata": {
        "colab": {
          "base_uri": "https://localhost:8080/"
        },
        "id": "FdeLDs50kH-C",
        "outputId": "57e93603-dfb7-4cd5-afcb-87184cfa6d76"
      },
      "execution_count": null,
      "outputs": [
        {
          "output_type": "execute_result",
          "data": {
            "text/plain": [
              " 2              \n",
              "x  - 4⋅x + 3 = 0"
            ],
            "text/latex": "$\\displaystyle x^{2} - 4 x + 3 = 0$"
          },
          "metadata": {},
          "execution_count": 16
        }
      ]
    },
    {
      "cell_type": "code",
      "source": [
        "# Perform mathematical operations on symbolic equations:\n",
        "general_solution = solveset(quadratic_equaion, x)\n",
        "general_solution"
      ],
      "metadata": {
        "colab": {
          "base_uri": "https://localhost:8080/"
        },
        "id": "yuiN_OksxZ69",
        "outputId": "3e1a8834-ae86-47e9-fe08-6822067209ee"
      },
      "execution_count": null,
      "outputs": [
        {
          "output_type": "execute_result",
          "data": {
            "text/plain": [
              "⎧           _____________             _____________⎫\n",
              "⎪          ╱           2             ╱           2 ⎪\n",
              "⎨   b    ╲╱  -4⋅a⋅c + b       b    ╲╱  -4⋅a⋅c + b  ⎬\n",
              "⎪- ─── - ────────────────, - ─── + ────────────────⎪\n",
              "⎩  2⋅a         2⋅a           2⋅a         2⋅a       ⎭"
            ],
            "text/latex": "$\\displaystyle \\left\\{- \\frac{b}{2 a} - \\frac{\\sqrt{- 4 a c + b^{2}}}{2 a}, - \\frac{b}{2 a} + \\frac{\\sqrt{- 4 a c + b^{2}}}{2 a}\\right\\}$"
          },
          "metadata": {},
          "execution_count": 17
        }
      ]
    },
    {
      "cell_type": "code",
      "source": [
        "# Perform mathematical operations on symbolic equations:\n",
        "especific_solution = solveset(quadratic_equaion.subs({a:1, b:-4, c:3}), x)\n",
        "especific_solution"
      ],
      "metadata": {
        "colab": {
          "base_uri": "https://localhost:8080/"
        },
        "id": "C4XmcNxtxpAk",
        "outputId": "27588c54-3fdb-4339-efc0-7d309a4304f0"
      },
      "execution_count": null,
      "outputs": [
        {
          "output_type": "execute_result",
          "data": {
            "text/plain": [
              "{1, 3}"
            ],
            "text/latex": "$\\displaystyle \\left\\{1, 3\\right\\}$"
          },
          "metadata": {},
          "execution_count": 18
        }
      ]
    },
    {
      "cell_type": "markdown",
      "source": [
        "## Symbolic Functions"
      ],
      "metadata": {
        "id": "xZkiyOndvl0O"
      }
    },
    {
      "cell_type": "markdown",
      "source": [
        "The final section shows how to create symbolic functions using symbolic numbers and variables. These functions can be evaluated symbolically and also at specific points. The code also demonstrates how to perform mathematical operations on symbolic functions."
      ],
      "metadata": {
        "id": "tm2ZLq3ed4jC"
      }
    },
    {
      "cell_type": "code",
      "source": [
        "# Unsigned Symbolic functions can be created using Symbol():\n",
        "x = Symbol('x')\n",
        "f = Function('f')\n",
        "g = Function('g')(x)"
      ],
      "metadata": {
        "id": "7qBD4F92-rng"
      },
      "execution_count": null,
      "outputs": []
    },
    {
      "cell_type": "code",
      "source": [
        "# Use unsigned symbolic functions:\n",
        "f(x), g"
      ],
      "metadata": {
        "colab": {
          "base_uri": "https://localhost:8080/"
        },
        "id": "wQ2Go3x7-_FL",
        "outputId": "d14f20ce-27e0-4d1c-ad92-32f252d79e37"
      },
      "execution_count": null,
      "outputs": [
        {
          "output_type": "execute_result",
          "data": {
            "text/plain": [
              "(f(x), g(x))"
            ],
            "text/latex": "$\\displaystyle \\left( f{\\left(x \\right)}, \\  g{\\left(x \\right)}\\right)$"
          },
          "metadata": {},
          "execution_count": 20
        }
      ]
    },
    {
      "cell_type": "code",
      "source": [
        "# Mathematical operations can be performed on symbolic functions:\n",
        "f.diff(x), g.diff()"
      ],
      "metadata": {
        "colab": {
          "base_uri": "https://localhost:8080/"
        },
        "id": "FjPBYEkm_5ge",
        "outputId": "a67b579f-7083-4d9e-94a2-9948a52002df"
      },
      "execution_count": null,
      "outputs": [
        {
          "output_type": "execute_result",
          "data": {
            "text/plain": [
              "⎛   d       ⎞\n",
              "⎜1, ──(g(x))⎟\n",
              "⎝   dx      ⎠"
            ],
            "text/latex": "$\\displaystyle \\left( 1, \\  \\frac{d}{d x} g{\\left(x \\right)}\\right)$"
          },
          "metadata": {},
          "execution_count": 21
        }
      ]
    },
    {
      "cell_type": "code",
      "source": [
        "# Assigned Symbolic functions can be using Lambda():\n",
        "a, b, c, x = symbols('a, b, c, x')\n",
        "f = Lambda(x, a*x**2 + b*x + c)\n",
        "f"
      ],
      "metadata": {
        "id": "v0WpHliDkMnJ",
        "colab": {
          "base_uri": "https://localhost:8080/"
        },
        "outputId": "4c162afe-c8bb-4d6f-c8df-cc0c507f5caf"
      },
      "execution_count": null,
      "outputs": [
        {
          "output_type": "execute_result",
          "data": {
            "text/plain": [
              "       2          \n",
              "x ↦ a⋅x  + b⋅x + c"
            ],
            "text/latex": "$\\displaystyle \\left( x \\mapsto a x^{2} + b x + c \\right)$"
          },
          "metadata": {},
          "execution_count": 22
        }
      ]
    },
    {
      "cell_type": "code",
      "source": [
        "# Assigned Symbolic functions can be evaluated symbolically:\n",
        "x = Symbol('x')\n",
        "g = Lambda(x, sqrt(x) + 1)\n",
        "g(f(x))"
      ],
      "metadata": {
        "colab": {
          "base_uri": "https://localhost:8080/"
        },
        "id": "tsuN5AXMZLVu",
        "outputId": "dc784edb-fe55-41bc-b30c-2970c6fbd952"
      },
      "execution_count": null,
      "outputs": [
        {
          "output_type": "execute_result",
          "data": {
            "text/plain": [
              "   ________________    \n",
              "  ╱    2               \n",
              "╲╱  a⋅x  + b⋅x + c  + 1"
            ],
            "text/latex": "$\\displaystyle \\sqrt{a x^{2} + b x + c} + 1$"
          },
          "metadata": {},
          "execution_count": 23
        }
      ]
    },
    {
      "cell_type": "code",
      "source": [
        "# Assigned Symbolic functions can be evaluated at specific point:\n",
        "f(0)"
      ],
      "metadata": {
        "colab": {
          "base_uri": "https://localhost:8080/"
        },
        "id": "FFniBqxuwL17",
        "outputId": "66d06a77-698c-42c4-ff1e-82185f6bc92e"
      },
      "execution_count": null,
      "outputs": [
        {
          "output_type": "execute_result",
          "data": {
            "text/plain": [
              "c"
            ],
            "text/latex": "$\\displaystyle c$"
          },
          "metadata": {},
          "execution_count": 24
        }
      ]
    },
    {
      "cell_type": "code",
      "source": [
        "# Perform mathematical operations using assigned symbolic functions:\n",
        "general_solution = solveset(f(x), x)\n",
        "general_solution"
      ],
      "metadata": {
        "colab": {
          "base_uri": "https://localhost:8080/"
        },
        "id": "3EU1mBBEmAxZ",
        "outputId": "49f4ad7b-64cc-4d0f-c5ee-e3c0846da57b"
      },
      "execution_count": null,
      "outputs": [
        {
          "output_type": "execute_result",
          "data": {
            "text/plain": [
              "⎧           _____________             _____________⎫\n",
              "⎪          ╱           2             ╱           2 ⎪\n",
              "⎨   b    ╲╱  -4⋅a⋅c + b       b    ╲╱  -4⋅a⋅c + b  ⎬\n",
              "⎪- ─── - ────────────────, - ─── + ────────────────⎪\n",
              "⎩  2⋅a         2⋅a           2⋅a         2⋅a       ⎭"
            ],
            "text/latex": "$\\displaystyle \\left\\{- \\frac{b}{2 a} - \\frac{\\sqrt{- 4 a c + b^{2}}}{2 a}, - \\frac{b}{2 a} + \\frac{\\sqrt{- 4 a c + b^{2}}}{2 a}\\right\\}$"
          },
          "metadata": {},
          "execution_count": 25
        }
      ]
    },
    {
      "cell_type": "code",
      "source": [
        "# Mathematical operations can be performed on assigned symbolic functions:\n",
        "F = Integral(f(x), (x,0,1))\n",
        "Eq(F, F.doit())"
      ],
      "metadata": {
        "colab": {
          "base_uri": "https://localhost:8080/"
        },
        "id": "vDFSDzxZwO87",
        "outputId": "82e9f1a2-8df2-4cc1-e1d3-1e7234df2077"
      },
      "execution_count": null,
      "outputs": [
        {
          "output_type": "execute_result",
          "data": {
            "text/plain": [
              "1                                \n",
              "⌠                                \n",
              "⎮ ⎛   2          ⎞      a   b    \n",
              "⎮ ⎝a⋅x  + b⋅x + c⎠ dx = ─ + ─ + c\n",
              "⌡                       3   2    \n",
              "0                                "
            ],
            "text/latex": "$\\displaystyle \\int\\limits_{0}^{1} \\left(a x^{2} + b x + c\\right)\\, dx = \\frac{a}{3} + \\frac{b}{2} + c$"
          },
          "metadata": {},
          "execution_count": 26
        }
      ]
    },
    {
      "cell_type": "code",
      "source": [
        "# Mathematical operations can be performed on assigned symbolic functions:\n",
        "f = Lambda(x, sin(x)/x)\n",
        "L = Limit(f(x), x, 0)\n",
        "Eq(L, L.doit())"
      ],
      "metadata": {
        "colab": {
          "base_uri": "https://localhost:8080/"
        },
        "id": "yM34_voZmOZ5",
        "outputId": "61bc20c8-d399-4c38-8a77-3464868f6a0c"
      },
      "execution_count": null,
      "outputs": [
        {
          "output_type": "execute_result",
          "data": {
            "text/plain": [
              "     ⎛sin(x)⎞    \n",
              " lim ⎜──────⎟ = 1\n",
              "x─→0⁺⎝  x   ⎠    "
            ],
            "text/latex": "$\\displaystyle \\lim_{x \\to 0^+}\\left(\\frac{\\sin{\\left(x \\right)}}{x}\\right) = 1$"
          },
          "metadata": {},
          "execution_count": 27
        }
      ]
    }
  ]
}