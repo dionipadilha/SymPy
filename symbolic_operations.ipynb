{
  "nbformat": 4,
  "nbformat_minor": 0,
  "metadata": {
    "colab": {
      "provenance": [],
      "authorship_tag": "ABX9TyPh9Jsv+mkzwN/QY6+i/npu",
      "include_colab_link": true
    },
    "kernelspec": {
      "name": "python3",
      "display_name": "Python 3"
    },
    "language_info": {
      "name": "python"
    }
  },
  "cells": [
    {
      "cell_type": "markdown",
      "metadata": {
        "id": "view-in-github",
        "colab_type": "text"
      },
      "source": [
        "<a href=\"https://colab.research.google.com/github/dionipadilha/sympy/blob/main/symbolic_operations.ipynb\" target=\"_parent\"><img src=\"https://colab.research.google.com/assets/colab-badge.svg\" alt=\"Open In Colab\"/></a>"
      ]
    },
    {
      "cell_type": "code",
      "execution_count": null,
      "metadata": {
        "id": "iOFv5pcKy7ad"
      },
      "outputs": [],
      "source": [
        "# symbolic environment:\n",
        "from sympy import *\n",
        "init_printing()"
      ]
    },
    {
      "cell_type": "code",
      "source": [
        "# symbolic variables:\n",
        "a, b, c, d = symbols('a, b, c, d')\n",
        "x, y, z, t = symbols('x, y, z, t')\n",
        "k, m, n = symbols('k, m, n', integer=True)\n",
        "z = symbols('z', complex=True)\n",
        "f, g, h = symbols('f, g, h', cls=Function)"
      ],
      "metadata": {
        "id": "8qv09Bj3zFsB"
      },
      "execution_count": null,
      "outputs": []
    },
    {
      "cell_type": "code",
      "source": [
        "# basic arithmetic operations:\n",
        "expr = x + y\n",
        "expr"
      ],
      "metadata": {
        "colab": {
          "base_uri": "https://localhost:8080/",
          "height": 38
        },
        "id": "s6rc7cBfzKG3",
        "outputId": "ded4f1fc-fc11-448c-a189-45604ebb1542"
      },
      "execution_count": null,
      "outputs": [
        {
          "output_type": "execute_result",
          "data": {
            "text/plain": [
              "x + y"
            ],
            "text/latex": "$\\displaystyle x + y$"
          },
          "metadata": {},
          "execution_count": 16
        }
      ]
    },
    {
      "cell_type": "code",
      "source": [
        "# simplify expressions:\n",
        "expr = sin(x)**2 + cos(x)**2\n",
        "simplified_expr = simplify(expr)\n",
        "simplified_expr"
      ],
      "metadata": {
        "colab": {
          "base_uri": "https://localhost:8080/",
          "height": 37
        },
        "id": "0WhhB4Ha0GlU",
        "outputId": "3ef36e24-45fd-4fe6-ee6f-226719c54e41"
      },
      "execution_count": null,
      "outputs": [
        {
          "output_type": "execute_result",
          "data": {
            "text/plain": [
              "1"
            ],
            "text/latex": "$\\displaystyle 1$"
          },
          "metadata": {},
          "execution_count": 17
        }
      ]
    },
    {
      "cell_type": "code",
      "source": [
        "# substitute variables:\n",
        "expr = a*x**2 + b*x + c\n",
        "expr.subs({a:1, b:2, c:-3})"
      ],
      "metadata": {
        "colab": {
          "base_uri": "https://localhost:8080/",
          "height": 38
        },
        "id": "OFCxyX7D0SC7",
        "outputId": "139fb70c-1763-498d-dd94-f2d9eee6494e"
      },
      "execution_count": null,
      "outputs": [
        {
          "output_type": "execute_result",
          "data": {
            "text/plain": [
              " 2          \n",
              "x  + 2⋅x - 3"
            ],
            "text/latex": "$\\displaystyle x^{2} + 2 x - 3$"
          },
          "metadata": {},
          "execution_count": 19
        }
      ]
    },
    {
      "cell_type": "code",
      "source": [
        "# solve algebraic equations:\n",
        "eq = Eq(a*x**2 + b*x + c, 0)\n",
        "sol = solve(eq, x)\n",
        "sol"
      ],
      "metadata": {
        "colab": {
          "base_uri": "https://localhost:8080/",
          "height": 68
        },
        "id": "WEQQR4xyzUCx",
        "outputId": "3d55f10f-49d1-4639-d63b-9f1dd1e887d4"
      },
      "execution_count": null,
      "outputs": [
        {
          "output_type": "execute_result",
          "data": {
            "text/plain": [
              "⎡        _____________          _____________⎤\n",
              "⎢       ╱           2          ╱           2 ⎥\n",
              "⎢-b - ╲╱  -4⋅a⋅c + b    -b + ╲╱  -4⋅a⋅c + b  ⎥\n",
              "⎢─────────────────────, ─────────────────────⎥\n",
              "⎣         2⋅a                    2⋅a         ⎦"
            ],
            "text/latex": "$\\displaystyle \\left[ \\frac{- b - \\sqrt{- 4 a c + b^{2}}}{2 a}, \\  \\frac{- b + \\sqrt{- 4 a c + b^{2}}}{2 a}\\right]$"
          },
          "metadata": {},
          "execution_count": 20
        }
      ]
    },
    {
      "cell_type": "code",
      "source": [
        "# limite of functions:\n",
        "L = Limit(f(x), x, 0)\n",
        "L"
      ],
      "metadata": {
        "colab": {
          "base_uri": "https://localhost:8080/",
          "height": 45
        },
        "id": "BstXflOy0vfA",
        "outputId": "55b6469b-7f76-4ed3-df1b-aa5c76772bb2"
      },
      "execution_count": null,
      "outputs": [
        {
          "output_type": "execute_result",
          "data": {
            "text/plain": [
              " lim f(x)\n",
              "x─→0⁺    "
            ],
            "text/latex": "$\\displaystyle \\lim_{x \\to 0^+} f{\\left(x \\right)}$"
          },
          "metadata": {},
          "execution_count": 23
        }
      ]
    },
    {
      "cell_type": "code",
      "source": [
        "# differentiate functions:\n",
        "f_ = Derivative(f(x), x)\n",
        "f_"
      ],
      "metadata": {
        "colab": {
          "base_uri": "https://localhost:8080/",
          "height": 52
        },
        "id": "G62_G83jzemw",
        "outputId": "1a475cf5-763c-4b1a-ae1d-b6406f1fa12a"
      },
      "execution_count": null,
      "outputs": [
        {
          "output_type": "execute_result",
          "data": {
            "text/plain": [
              "d       \n",
              "──(f(x))\n",
              "dx      "
            ],
            "text/latex": "$\\displaystyle \\frac{d}{d x} f{\\left(x \\right)}$"
          },
          "metadata": {},
          "execution_count": 24
        }
      ]
    },
    {
      "cell_type": "code",
      "source": [
        "# integrate functions:\n",
        "F = Integral(f(x), x)\n",
        "F"
      ],
      "metadata": {
        "colab": {
          "base_uri": "https://localhost:8080/",
          "height": 55
        },
        "id": "yp53ojKWztbg",
        "outputId": "97427adb-0230-4c7f-d8be-e28e35b982c4"
      },
      "execution_count": null,
      "outputs": [
        {
          "output_type": "execute_result",
          "data": {
            "text/plain": [
              "⌠        \n",
              "⎮ f(x) dx\n",
              "⌡        "
            ],
            "text/latex": "$\\displaystyle \\int f{\\left(x \\right)}\\, dx$"
          },
          "metadata": {},
          "execution_count": 25
        }
      ]
    },
    {
      "cell_type": "code",
      "source": [
        "# solve differential equations:\n",
        "eq = Eq(f(x).diff(x, x) - f(x), exp(x))\n",
        "sol = dsolve(eq, f(x))\n",
        "sol"
      ],
      "metadata": {
        "colab": {
          "base_uri": "https://localhost:8080/",
          "height": 48
        },
        "id": "cFYnu8gH2EhX",
        "outputId": "76195cb1-686e-4f6a-ce4b-274e48d26b18"
      },
      "execution_count": null,
      "outputs": [
        {
          "output_type": "execute_result",
          "data": {
            "text/plain": [
              "           -x   ⎛     x⎞  x\n",
              "f(x) = C₂⋅ℯ   + ⎜C₁ + ─⎟⋅ℯ \n",
              "                ⎝     2⎠   "
            ],
            "text/latex": "$\\displaystyle f{\\left(x \\right)} = C_{2} e^{- x} + \\left(C_{1} + \\frac{x}{2}\\right) e^{x}$"
          },
          "metadata": {},
          "execution_count": 26
        }
      ]
    },
    {
      "cell_type": "code",
      "source": [],
      "metadata": {
        "id": "uMkMmZtg31tC"
      },
      "execution_count": null,
      "outputs": []
    }
  ]
}