{
  "nbformat": 4,
  "nbformat_minor": 0,
  "metadata": {
    "colab": {
      "provenance": [],
      "authorship_tag": "ABX9TyMChZb+hhvgqQzeyLiY9hDj",
      "include_colab_link": true
    },
    "kernelspec": {
      "name": "python3",
      "display_name": "Python 3"
    },
    "language_info": {
      "name": "python"
    }
  },
  "cells": [
    {
      "cell_type": "markdown",
      "metadata": {
        "id": "view-in-github",
        "colab_type": "text"
      },
      "source": [
        "<a href=\"https://colab.research.google.com/github/dionipadilha/sympy/blob/main/symbols.ipynb\" target=\"_parent\"><img src=\"https://colab.research.google.com/assets/colab-badge.svg\" alt=\"Open In Colab\"/></a>"
      ]
    },
    {
      "cell_type": "code",
      "execution_count": null,
      "metadata": {
        "id": "Vc9eP_LldVJK"
      },
      "outputs": [],
      "source": [
        "# symbolic env\n",
        "from sympy import *\n",
        "init_printing()"
      ]
    },
    {
      "cell_type": "code",
      "source": [
        "# symbols\n",
        "a, b, c, d = symbols('a, b, c, d')\n",
        "x, y, z = symbols('x, y, z')\n",
        "t, u, v = symbols('t, u, v')\n",
        "k, m, n = symbols('k, m, n', integer=True)\n",
        "z = symbols('z', complex=True)\n",
        "f, g, h = symbols('f, g, h', cls=Function)"
      ],
      "metadata": {
        "id": "nD3HWiWEdg2F"
      },
      "execution_count": null,
      "outputs": []
    }
  ]
}