{
  "nbformat": 4,
  "nbformat_minor": 0,
  "metadata": {
    "colab": {
      "provenance": [],
      "authorship_tag": "ABX9TyPW538m/08rVi68qPdJs3az",
      "include_colab_link": true
    },
    "kernelspec": {
      "name": "python3",
      "display_name": "Python 3"
    },
    "language_info": {
      "name": "python"
    }
  },
  "cells": [
    {
      "cell_type": "markdown",
      "metadata": {
        "id": "view-in-github",
        "colab_type": "text"
      },
      "source": [
        "<a href=\"https://colab.research.google.com/github/dionipadilha/sympy/blob/main/sympy_core.ipynb\" target=\"_parent\"><img src=\"https://colab.research.google.com/assets/colab-badge.svg\" alt=\"Open In Colab\"/></a>"
      ]
    },
    {
      "cell_type": "markdown",
      "source": [
        "# SymPy Core"
      ],
      "metadata": {
        "id": "5bwL7-4YZIq_"
      }
    },
    {
      "cell_type": "code",
      "execution_count": null,
      "metadata": {
        "id": "b28PysMn8wu8"
      },
      "outputs": [],
      "source": [
        "# symbolic environment\n",
        "from sympy import *\n",
        "a, b, c, d = symbols('a, b, c, d')\n",
        "x, y, z = symbols('x, y, z')\n",
        "r, s, t = symbols('r, s, t ')\n",
        "k, m, n = symbols('k, m, n', integer=True)\n",
        "f, g, h = symbols('f, g, h', cls=Function)\n",
        "init_printing()\n",
        "\n",
        "from seaborn import set_style as set_plot_style\n",
        "set_plot_style('whitegrid')"
      ]
    },
    {
      "cell_type": "markdown",
      "source": [
        "## sympify"
      ],
      "metadata": {
        "id": "iNgthIZCZO4X"
      }
    },
    {
      "cell_type": "code",
      "source": [
        "# converts an string expression to a SymPy expression:\n",
        "sympify('x^y')"
      ],
      "metadata": {
        "colab": {
          "base_uri": "https://localhost:8080/",
          "height": 38
        },
        "id": "_1iXG7oSY5X9",
        "outputId": "af4daa97-1951-4046-acad-d7878174869a"
      },
      "execution_count": null,
      "outputs": [
        {
          "output_type": "execute_result",
          "data": {
            "text/plain": [
              " y\n",
              "x "
            ],
            "text/latex": "$\\displaystyle x^{y}$"
          },
          "metadata": {},
          "execution_count": 2
        }
      ]
    },
    {
      "cell_type": "code",
      "source": [
        "#  convert the input into a rational number if possible:\n",
        "s = sympify('0.1'), sympify('0.1', rational=True)\n",
        "s"
      ],
      "metadata": {
        "colab": {
          "base_uri": "https://localhost:8080/",
          "height": 58
        },
        "id": "VTSAY0o5aQSk",
        "outputId": "c95d6608-2b5c-42c9-947c-93be9618be0d"
      },
      "execution_count": null,
      "outputs": [
        {
          "output_type": "execute_result",
          "data": {
            "text/plain": [
              "(0.1, 1/10)"
            ],
            "text/latex": "$\\displaystyle \\left( 0.1, \\  \\frac{1}{10}\\right)$"
          },
          "metadata": {},
          "execution_count": 3
        }
      ]
    },
    {
      "cell_type": "code",
      "source": [
        "# see how an expression reduces to value by autosimplification:\n",
        "from sympy.core.sympify import kernS\n",
        "s = '-2*(-(-x + 1/x)/(x*(x - 1/x)**2) - 1/(x*(x - 1/x))) - 1'\n",
        "sympify(s), kernS(s)"
      ],
      "metadata": {
        "colab": {
          "base_uri": "https://localhost:8080/",
          "height": 69
        },
        "id": "5eK7ScaXdnv5",
        "outputId": "4562fc63-e91e-43f7-d647-81cb7e4e160b"
      },
      "execution_count": null,
      "outputs": [
        {
          "output_type": "execute_result",
          "data": {
            "text/plain": [
              "⎛        ⎛         1              ⎞    ⎞\n",
              "⎜        ⎜    -x + ─              ⎟    ⎟\n",
              "⎜        ⎜         x         1    ⎟    ⎟\n",
              "⎜-1, - 2⋅⎜- ────────── - ─────────⎟ - 1⎟\n",
              "⎜        ⎜           2     ⎛    1⎞⎟    ⎟\n",
              "⎜        ⎜    ⎛    1⎞    x⋅⎜x - ─⎟⎟    ⎟\n",
              "⎜        ⎜  x⋅⎜x - ─⎟      ⎝    x⎠⎟    ⎟\n",
              "⎝        ⎝    ⎝    x⎠             ⎠    ⎠"
            ],
            "text/latex": "$\\displaystyle \\left( -1, \\  - 2 \\left(- \\frac{- x + \\frac{1}{x}}{x \\left(x - \\frac{1}{x}\\right)^{2}} - \\frac{1}{x \\left(x - \\frac{1}{x}\\right)}\\right) - 1\\right)$"
          },
          "metadata": {},
          "execution_count": 4
        }
      ]
    },
    {
      "cell_type": "markdown",
      "source": [
        "## assumptions"
      ],
      "metadata": {
        "id": "MBA_b5_ieW6I"
      }
    },
    {
      "cell_type": "code",
      "source": [
        "# create symbolic objects:\n",
        "x = Symbol('x')\n",
        "y = Symbol('y')\n",
        "x * y < 0"
      ],
      "metadata": {
        "colab": {
          "base_uri": "https://localhost:8080/",
          "height": 38
        },
        "id": "YdKlp0iBgSPp",
        "outputId": "485f384a-dba8-4360-e3a4-0a4a4aa1aa54"
      },
      "execution_count": null,
      "outputs": [
        {
          "output_type": "execute_result",
          "data": {
            "text/plain": [
              "x⋅y < 0"
            ],
            "text/latex": "$\\displaystyle x y < 0$"
          },
          "metadata": {},
          "execution_count": 5
        }
      ]
    },
    {
      "cell_type": "code",
      "source": [
        "# determine properties for symbolic objects:\n",
        "x = Symbol('x', positive=True)\n",
        "y = Symbol('y', negative=True)\n",
        "x * y < 0"
      ],
      "metadata": {
        "colab": {
          "base_uri": "https://localhost:8080/",
          "height": 38
        },
        "id": "GLrtlTTZd3Yh",
        "outputId": "6037b333-da6e-4a50-e773-46e0fd099703"
      },
      "execution_count": null,
      "outputs": [
        {
          "output_type": "execute_result",
          "data": {
            "text/plain": [
              "True"
            ],
            "text/latex": "$\\displaystyle \\text{True}$"
          },
          "metadata": {},
          "execution_count": 6
        }
      ]
    },
    {
      "cell_type": "code",
      "source": [
        "# see the properties of symbolic objects:\n",
        "x.assumptions0"
      ],
      "metadata": {
        "colab": {
          "base_uri": "https://localhost:8080/"
        },
        "id": "zNo_cwcLeto9",
        "outputId": "7a78209e-d747-472b-c553-63899640b66a"
      },
      "execution_count": null,
      "outputs": [
        {
          "output_type": "execute_result",
          "data": {
            "text/plain": [
              "{'positive': True,\n",
              " 'complex': True,\n",
              " 'extended_real': True,\n",
              " 'finite': True,\n",
              " 'extended_negative': False,\n",
              " 'imaginary': False,\n",
              " 'negative': False,\n",
              " 'nonnegative': True,\n",
              " 'extended_nonnegative': True,\n",
              " 'nonzero': True,\n",
              " 'zero': False,\n",
              " 'hermitian': True,\n",
              " 'extended_nonzero': True,\n",
              " 'real': True,\n",
              " 'extended_positive': True,\n",
              " 'nonpositive': False,\n",
              " 'commutative': True,\n",
              " 'infinite': False,\n",
              " 'extended_nonpositive': False}"
            ]
          },
          "metadata": {},
          "execution_count": 25
        }
      ]
    },
    {
      "cell_type": "code",
      "source": [
        "# see the last properties of symbolic objects:\n",
        "x._assumptions_orig"
      ],
      "metadata": {
        "colab": {
          "base_uri": "https://localhost:8080/"
        },
        "id": "Kjzr8JQMfkYQ",
        "outputId": "8ff529c9-8cc5-46ee-f7cf-6d2ed0739f2f"
      },
      "execution_count": null,
      "outputs": [
        {
          "output_type": "execute_result",
          "data": {
            "text/plain": [
              "{'positive': True}"
            ]
          },
          "metadata": {},
          "execution_count": 8
        }
      ]
    },
    {
      "cell_type": "markdown",
      "source": [
        "## basic"
      ],
      "metadata": {
        "id": "BCApPXmA9aFZ"
      }
    },
    {
      "cell_type": "code",
      "source": [
        "# accessing parameters of some instance:\n",
        "(x*y).args"
      ],
      "metadata": {
        "colab": {
          "base_uri": "https://localhost:8080/",
          "height": 38
        },
        "id": "-6Z8U47A9cuC",
        "outputId": "ce8543a4-6ea1-4e01-8789-85ac7832aba7"
      },
      "execution_count": null,
      "outputs": [
        {
          "output_type": "execute_result",
          "data": {
            "text/plain": [
              "(x, y)"
            ],
            "text/latex": "$\\displaystyle \\left( x, \\  y\\right)$"
          },
          "metadata": {},
          "execution_count": 22
        }
      ]
    },
    {
      "cell_type": "markdown",
      "source": [
        "## atoms"
      ],
      "metadata": {
        "id": "9HYJTQ5Hg8-C"
      }
    },
    {
      "cell_type": "code",
      "source": [
        "# returns the atoms that form the current object:\n",
        "(1 + x + 2*sin(y + I*pi)).atoms()"
      ],
      "metadata": {
        "colab": {
          "base_uri": "https://localhost:8080/",
          "height": 38
        },
        "id": "dfZ4O0KBgtk7",
        "outputId": "4a339896-fbfb-432e-b0b8-832773aa2c01"
      },
      "execution_count": null,
      "outputs": [
        {
          "output_type": "execute_result",
          "data": {
            "text/plain": [
              "{1, 2, ⅈ, π, x, y}"
            ],
            "text/latex": "$\\displaystyle \\left\\{1, 2, i, \\pi, x, y\\right\\}$"
          },
          "metadata": {},
          "execution_count": 9
        }
      ]
    },
    {
      "cell_type": "code",
      "source": [
        "# select only those types of atoms:\n",
        "expr = 1 + x + 2*sin(y + I*pi)\n",
        "expr.atoms(Symbol), expr.atoms(Number)"
      ],
      "metadata": {
        "colab": {
          "base_uri": "https://localhost:8080/",
          "height": 38
        },
        "id": "9MBgmpRxhett",
        "outputId": "1f41c02c-1f2e-4209-e6ef-b7275aaf80e0"
      },
      "execution_count": null,
      "outputs": [
        {
          "output_type": "execute_result",
          "data": {
            "text/plain": [
              "({x, y}, {1, 2})"
            ],
            "text/latex": "$\\displaystyle \\left( \\left\\{x, y\\right\\}, \\  \\left\\{1, 2\\right\\}\\right)$"
          },
          "metadata": {},
          "execution_count": 10
        }
      ]
    },
    {
      "cell_type": "code",
      "source": [
        "# select more than atomic atoms:\n",
        "expr = 1 + x + 2*sin(y + I*pi)\n",
        "expr.atoms(Mul)"
      ],
      "metadata": {
        "colab": {
          "base_uri": "https://localhost:8080/",
          "height": 38
        },
        "id": "jx4RRuZdhsuk",
        "outputId": "1f114e6f-04d3-4be7-f812-5e8104479eaf"
      },
      "execution_count": null,
      "outputs": [
        {
          "output_type": "execute_result",
          "data": {
            "text/plain": [
              "{ⅈ⋅π, 2⋅sin(y + ⅈ⋅π)}"
            ],
            "text/latex": "$\\displaystyle \\left\\{i \\pi, 2 \\sin{\\left(y + i \\pi \\right)}\\right\\}$"
          },
          "metadata": {},
          "execution_count": 11
        }
      ]
    },
    {
      "cell_type": "code",
      "source": [
        "# select more than atomic atoms:\n",
        "expr = 1 + x + 2*sin(y + I*pi)\n",
        "expr.atoms(Function)"
      ],
      "metadata": {
        "colab": {
          "base_uri": "https://localhost:8080/",
          "height": 38
        },
        "id": "Iw33VJM-ie41",
        "outputId": "5a7c7aa4-9c17-4bb9-8d30-1d2652454777"
      },
      "execution_count": null,
      "outputs": [
        {
          "output_type": "execute_result",
          "data": {
            "text/plain": [
              "{sin(y + ⅈ⋅π)}"
            ],
            "text/latex": "$\\displaystyle \\left\\{\\sin{\\left(y + i \\pi \\right)}\\right\\}$"
          },
          "metadata": {},
          "execution_count": 12
        }
      ]
    },
    {
      "cell_type": "code",
      "source": [
        "# count the number of matching subexpressions:\n",
        "expr.count(Symbol)"
      ],
      "metadata": {
        "colab": {
          "base_uri": "https://localhost:8080/",
          "height": 38
        },
        "id": "EtcxaeKejV2G",
        "outputId": "064b3fc0-d944-405d-c3dc-7aa64bfcf82c"
      },
      "execution_count": null,
      "outputs": [
        {
          "output_type": "execute_result",
          "data": {
            "text/plain": [
              "2"
            ],
            "text/latex": "$\\displaystyle 2$"
          },
          "metadata": {},
          "execution_count": 13
        }
      ]
    },
    {
      "cell_type": "code",
      "source": [
        "# Evaluate objects that are not evaluated by default:\n",
        "expr = 2*Integral(x, x)\n",
        "Eq(expr, expr.doit())"
      ],
      "metadata": {
        "colab": {
          "base_uri": "https://localhost:8080/",
          "height": 55
        },
        "id": "y74du4hGkmYm",
        "outputId": "2f40c938-1dad-416f-85ad-c022eae4d055"
      },
      "execution_count": null,
      "outputs": [
        {
          "output_type": "execute_result",
          "data": {
            "text/plain": [
              "  ⌠         2\n",
              "2⋅⎮ x dx = x \n",
              "  ⌡          "
            ],
            "text/latex": "$\\displaystyle 2 \\int x\\, dx = x^{2}$"
          },
          "metadata": {},
          "execution_count": 14
        }
      ]
    },
    {
      "cell_type": "code",
      "source": [
        "# Compare two expressions and handle dummy symbols:\n",
        "u = Dummy('u')\n",
        "(u**2 + 1).dummy_eq(x**2 + 1)"
      ],
      "metadata": {
        "colab": {
          "base_uri": "https://localhost:8080/"
        },
        "id": "Dvmeto5dmF4v",
        "outputId": "c959b2b8-59ae-4b1f-cac7-647d16fd156f"
      },
      "execution_count": null,
      "outputs": [
        {
          "output_type": "execute_result",
          "data": {
            "text/plain": [
              "True"
            ]
          },
          "metadata": {},
          "execution_count": 15
        }
      ]
    },
    {
      "cell_type": "code",
      "source": [
        "# pattern matching:\n",
        "p = Wild(\"p\")\n",
        "q = Wild(\"q\")\n",
        "r = Wild(\"r\")\n",
        "e = (x+y+z)**(a+b)\n",
        "e.match(p**q)"
      ],
      "metadata": {
        "colab": {
          "base_uri": "https://localhost:8080/",
          "height": 38
        },
        "id": "IjeoYPX487Ny",
        "outputId": "1e65c4e3-7705-4b8c-b782-43844f488f39"
      },
      "execution_count": null,
      "outputs": [
        {
          "output_type": "execute_result",
          "data": {
            "text/plain": [
              "{p: x + y + z, q: a + b}"
            ],
            "text/latex": "$\\displaystyle \\left\\{ p : x + y + z, \\  q : a + b\\right\\}$"
          },
          "metadata": {},
          "execution_count": 31
        }
      ]
    },
    {
      "cell_type": "code",
      "source": [
        "# pattern matching:\n",
        "e = (2*x)**3\n",
        "e.match(p*q**r)"
      ],
      "metadata": {
        "colab": {
          "base_uri": "https://localhost:8080/",
          "height": 38
        },
        "id": "wqvLR0Wd-01A",
        "outputId": "6a1efcda-15e9-47ee-a569-b349a8c40fe8"
      },
      "execution_count": null,
      "outputs": [
        {
          "output_type": "execute_result",
          "data": {
            "text/plain": [
              "{p: 8, q: x, r: 3}"
            ],
            "text/latex": "$\\displaystyle \\left\\{ p : 8, \\  q : x, \\  r : 3\\right\\}$"
          },
          "metadata": {},
          "execution_count": 33
        }
      ]
    },
    {
      "cell_type": "code",
      "source": [],
      "metadata": {
        "id": "i79Jh71D6Zv3"
      },
      "execution_count": null,
      "outputs": []
    }
  ]
}