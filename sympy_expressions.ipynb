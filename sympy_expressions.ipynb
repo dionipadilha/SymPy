{
  "nbformat": 4,
  "nbformat_minor": 0,
  "metadata": {
    "colab": {
      "provenance": [],
      "authorship_tag": "ABX9TyPbi8u/mPsKh1Kd7y23JkNN",
      "include_colab_link": true
    },
    "kernelspec": {
      "name": "python3",
      "display_name": "Python 3"
    },
    "language_info": {
      "name": "python"
    }
  },
  "cells": [
    {
      "cell_type": "markdown",
      "metadata": {
        "id": "view-in-github",
        "colab_type": "text"
      },
      "source": [
        "<a href=\"https://colab.research.google.com/github/dionipadilha/sympy/blob/main/sympy_expressions.ipynb\" target=\"_parent\"><img src=\"https://colab.research.google.com/assets/colab-badge.svg\" alt=\"Open In Colab\"/></a>"
      ]
    },
    {
      "cell_type": "markdown",
      "source": [
        "# SymPy Expressions"
      ],
      "metadata": {
        "id": "OSGhAZzWb76H"
      }
    },
    {
      "cell_type": "markdown",
      "source": [
        "## Configurações Iniciais"
      ],
      "metadata": {
        "id": "nKJ1jRzsCLB5"
      }
    },
    {
      "cell_type": "code",
      "execution_count": null,
      "metadata": {
        "id": "JXSWfnRrA_RX"
      },
      "outputs": [],
      "source": [
        "from sympy import *\n",
        "init_printing()\n",
        "x, y, z = symbols(\"x y z\")"
      ]
    },
    {
      "cell_type": "code",
      "source": [
        "from seaborn import set_style as plot_style\n",
        "plot_style(\"whitegrid\")\n",
        "%matplotlib inline"
      ],
      "metadata": {
        "id": "rRceRzYMBF9P"
      },
      "execution_count": null,
      "outputs": []
    },
    {
      "cell_type": "code",
      "source": [
        "from IPython.core.interactiveshell import InteractiveShell\n",
        "InteractiveShell.ast_node_interactivity = \"all\""
      ],
      "metadata": {
        "id": "oWi7s1aABMgz"
      },
      "execution_count": null,
      "outputs": []
    },
    {
      "cell_type": "markdown",
      "source": [
        "## Substitution"
      ],
      "metadata": {
        "id": "qcBTT5ZgW__w"
      }
    },
    {
      "cell_type": "code",
      "source": [
        "# Evaluating an expression at a point\n",
        "expr = 2*x + 4\n",
        "expr.subs(x, 3)"
      ],
      "metadata": {
        "colab": {
          "base_uri": "https://localhost:8080/",
          "height": 37
        },
        "id": "-KofxNMZcoVp",
        "outputId": "0b0512dc-5eee-40b7-f736-93625a3d2741"
      },
      "execution_count": null,
      "outputs": [
        {
          "output_type": "execute_result",
          "data": {
            "text/plain": [
              "10"
            ],
            "text/latex": "$\\displaystyle 10$"
          },
          "metadata": {},
          "execution_count": 4
        }
      ]
    },
    {
      "cell_type": "code",
      "source": [
        "# Replacing a subexpression with another subexpression\n",
        "expr = cos(x) + 1\n",
        "expr.subs(x, y + 2)"
      ],
      "metadata": {
        "id": "-ZOh9uxYDXGw",
        "colab": {
          "base_uri": "https://localhost:8080/",
          "height": 38
        },
        "outputId": "110d0c83-977c-4110-d67a-da2b8adab55f"
      },
      "execution_count": null,
      "outputs": [
        {
          "output_type": "execute_result",
          "data": {
            "text/plain": [
              "cos(y + 2) + 1"
            ],
            "text/latex": "$\\displaystyle \\cos{\\left(y + 2 \\right)} + 1$"
          },
          "metadata": {},
          "execution_count": 5
        }
      ]
    },
    {
      "cell_type": "code",
      "source": [
        "# Perform a very controlled simplification\n",
        "expr = sin(2*x) + cos(2*x)\n",
        "expand_trig(expr) # sympy.expand_trig simplification\n",
        "expr.subs(sin(2*x), 2*sin(x)*cos(x)) # controlled simplification"
      ],
      "metadata": {
        "colab": {
          "base_uri": "https://localhost:8080/",
          "height": 59
        },
        "id": "gJl2FAFCcSXn",
        "outputId": "9e97e7aa-2c43-45f2-ad31-3b3a2968cfd7"
      },
      "execution_count": null,
      "outputs": [
        {
          "output_type": "execute_result",
          "data": {
            "text/plain": [
              "                       2       \n",
              "2⋅sin(x)⋅cos(x) + 2⋅cos (x) - 1"
            ],
            "text/latex": "$\\displaystyle 2 \\sin{\\left(x \\right)} \\cos{\\left(x \\right)} + 2 \\cos^{2}{\\left(x \\right)} - 1$"
          },
          "metadata": {},
          "execution_count": 6
        },
        {
          "output_type": "execute_result",
          "data": {
            "text/plain": [
              "2⋅sin(x)⋅cos(x) + cos(2⋅x)"
            ],
            "text/latex": "$\\displaystyle 2 \\sin{\\left(x \\right)} \\cos{\\left(x \\right)} + \\cos{\\left(2 x \\right)}$"
          },
          "metadata": {},
          "execution_count": 6
        }
      ]
    },
    {
      "cell_type": "code",
      "source": [
        "# Perform multiple substitutions at once\n",
        "expr = x+y+z\n",
        "expr.subs([(x, 2), (y, 4), (z, 1)])"
      ],
      "metadata": {
        "colab": {
          "base_uri": "https://localhost:8080/",
          "height": 37
        },
        "id": "PPX27lMhdiaU",
        "outputId": "dec5a4b0-aa05-4837-f640-8444d12561e2"
      },
      "execution_count": null,
      "outputs": [
        {
          "output_type": "execute_result",
          "data": {
            "text/plain": [
              "7"
            ],
            "text/latex": "$\\displaystyle 7$"
          },
          "metadata": {},
          "execution_count": 7
        }
      ]
    },
    {
      "cell_type": "code",
      "source": [
        "# Perform set of replacements\n",
        "expr = x**4 - 4*x**3 + 4*x**2 - 2*x + 3\n",
        "replacements = [(x**i, y**i) for i in range(5) if i % 2 == 0]\n",
        "expr.subs(replacements)"
      ],
      "metadata": {
        "colab": {
          "base_uri": "https://localhost:8080/",
          "height": 38
        },
        "id": "jw1ZrcQveneX",
        "outputId": "683edcfd-e7df-4076-f594-2f30b7795ac5"
      },
      "execution_count": null,
      "outputs": [
        {
          "output_type": "execute_result",
          "data": {
            "text/plain": [
              "     3          4      2    \n",
              "- 4⋅x  - 2⋅x + y  + 4⋅y  + 3"
            ],
            "text/latex": "$\\displaystyle - 4 x^{3} - 2 x + y^{4} + 4 y^{2} + 3$"
          },
          "metadata": {},
          "execution_count": 8
        }
      ]
    },
    {
      "cell_type": "markdown",
      "source": [
        "## More about SymPy Expressions"
      ],
      "metadata": {
        "id": "QHgCwHC8g2GR"
      }
    },
    {
      "cell_type": "code",
      "source": [
        "#  Convert strings into SymPy expressions\n",
        "str_expr = 'x^2 + 3*x - 1/2'\n",
        "expr = sympify(str_expr)\n",
        "expr"
      ],
      "metadata": {
        "colab": {
          "base_uri": "https://localhost:8080/",
          "height": 51
        },
        "id": "UonavXZjg4sP",
        "outputId": "1e32264f-3728-4bed-f152-a3bd85b6e889"
      },
      "execution_count": null,
      "outputs": [
        {
          "output_type": "execute_result",
          "data": {
            "text/plain": [
              " 2         1\n",
              "x  + 3⋅x - ─\n",
              "           2"
            ],
            "text/latex": "$\\displaystyle x^{2} + 3 x - \\frac{1}{2}$"
          },
          "metadata": {},
          "execution_count": 9
        }
      ]
    },
    {
      "cell_type": "code",
      "source": [
        "# Evaluate a numerical expression\n",
        "expr = sqrt(8)\n",
        "expr\n",
        "expr.evalf()\n",
        "expr.evalf(3) # arbitrary precision"
      ],
      "metadata": {
        "colab": {
          "base_uri": "https://localhost:8080/",
          "height": 78
        },
        "id": "HZq6peTyhRhK",
        "outputId": "d6a8c805-609c-42db-d432-80863aa7e908"
      },
      "execution_count": null,
      "outputs": [
        {
          "output_type": "execute_result",
          "data": {
            "text/plain": [
              "2⋅√2"
            ],
            "text/latex": "$\\displaystyle 2 \\sqrt{2}$"
          },
          "metadata": {},
          "execution_count": 10
        },
        {
          "output_type": "execute_result",
          "data": {
            "text/plain": [
              "2.82842712474619"
            ],
            "text/latex": "$\\displaystyle 2.82842712474619$"
          },
          "metadata": {},
          "execution_count": 10
        },
        {
          "output_type": "execute_result",
          "data": {
            "text/plain": [
              "2.83"
            ],
            "text/latex": "$\\displaystyle 2.83$"
          },
          "metadata": {},
          "execution_count": 10
        }
      ]
    },
    {
      "cell_type": "code",
      "source": [
        "# Evaluate the expression at many points\n",
        "[sin(x).evalf() for x in range(3)]"
      ],
      "metadata": {
        "colab": {
          "base_uri": "https://localhost:8080/",
          "height": 37
        },
        "id": "5kmGBnohn4NB",
        "outputId": "d9e8fd8c-59fc-4b27-97b8-d7d51e19ea3e"
      },
      "execution_count": null,
      "outputs": [
        {
          "output_type": "execute_result",
          "data": {
            "text/plain": [
              "[0, 0.841470984807897, 0.909297426825682]"
            ],
            "text/latex": "$\\displaystyle \\left[ 0, \\  0.841470984807897, \\  0.909297426825682\\right]$"
          },
          "metadata": {},
          "execution_count": 11
        }
      ]
    },
    {
      "cell_type": "code",
      "source": [
        "# Evaluate the expression at many points more efficient and precise way\n",
        "\n",
        "# Convert a SymPy expression to numpy expression\n",
        "expr = sin(x)\n",
        "f = lambdify(x, expr, \"numpy\")\n",
        "\n",
        "# Evaluate the expression at many points\n",
        "from numpy import arange\n",
        "a = arange(10)\n",
        "f(a)"
      ],
      "metadata": {
        "colab": {
          "base_uri": "https://localhost:8080/"
        },
        "id": "hYI1RslziriT",
        "outputId": "fc9a91cd-9c36-4b28-8a6c-6bb3003c27fe"
      },
      "execution_count": null,
      "outputs": [
        {
          "output_type": "execute_result",
          "data": {
            "text/plain": [
              "array([ 0.        ,  0.84147098,  0.90929743,  0.14112001, -0.7568025 ,\n",
              "       -0.95892427, -0.2794155 ,  0.6569866 ,  0.98935825,  0.41211849])"
            ]
          },
          "metadata": {},
          "execution_count": 12
        }
      ]
    }
  ]
}