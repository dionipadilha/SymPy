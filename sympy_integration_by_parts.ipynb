{
  "nbformat": 4,
  "nbformat_minor": 0,
  "metadata": {
    "colab": {
      "provenance": [],
      "authorship_tag": "ABX9TyN/nV9puRU/Za7jZDHp7yTh",
      "include_colab_link": true
    },
    "kernelspec": {
      "name": "python3",
      "display_name": "Python 3"
    },
    "language_info": {
      "name": "python"
    }
  },
  "cells": [
    {
      "cell_type": "markdown",
      "metadata": {
        "id": "view-in-github",
        "colab_type": "text"
      },
      "source": [
        "<a href=\"https://colab.research.google.com/github/dionipadilha/sympy/blob/main/sympy_integration_by_parts.ipynb\" target=\"_parent\"><img src=\"https://colab.research.google.com/assets/colab-badge.svg\" alt=\"Open In Colab\"/></a>"
      ]
    },
    {
      "cell_type": "markdown",
      "source": [
        "# Integration by Parts"
      ],
      "metadata": {
        "id": "Q49AbWHGUtC7"
      }
    },
    {
      "cell_type": "code",
      "source": [
        "from sympy import *\n",
        "init_printing()\n",
        "a, b, c, d = symbols('a, b, c, d')\n",
        "x, y, z, t = symbols('x, y, z, t')\n",
        "k, m, n = symbols('k, m, n', integer=True)\n",
        "f, g, h = symbols('f, g, h', cls=Function)\n",
        "u, v = symbols('u, v', cls=Function)"
      ],
      "metadata": {
        "id": "ARDuI0IvS07d"
      },
      "execution_count": null,
      "outputs": []
    },
    {
      "cell_type": "code",
      "source": [
        "expr = Integral(x * exp(x), x)\n",
        "Eq(expr, expr.doit())"
      ],
      "metadata": {
        "colab": {
          "base_uri": "https://localhost:8080/",
          "height": 55
        },
        "id": "7Z2a-_19VEDl",
        "outputId": "d68dbefd-c74e-49b2-c8d1-06bc67503163"
      },
      "execution_count": null,
      "outputs": [
        {
          "output_type": "execute_result",
          "data": {
            "text/plain": [
              "⌠                     \n",
              "⎮    x               x\n",
              "⎮ x⋅ℯ  dx = (x - 1)⋅ℯ \n",
              "⌡                     "
            ],
            "text/latex": "$\\displaystyle \\int x e^{x}\\, dx = \\left(x - 1\\right) e^{x}$"
          },
          "metadata": {},
          "execution_count": 52
        }
      ]
    },
    {
      "cell_type": "code",
      "source": [
        "expr = Integral(x * exp(x), x)\n",
        "Eq(expr, expr.doit())"
      ],
      "metadata": {
        "id": "hG1_qAIPbTfi",
        "colab": {
          "base_uri": "https://localhost:8080/",
          "height": 55
        },
        "outputId": "6d05ccb7-aa09-4236-9ded-93d40f71f5d4"
      },
      "execution_count": null,
      "outputs": [
        {
          "output_type": "execute_result",
          "data": {
            "text/plain": [
              "⌠                     \n",
              "⎮    x               x\n",
              "⎮ x⋅ℯ  dx = (x - 1)⋅ℯ \n",
              "⌡                     "
            ],
            "text/latex": "$\\displaystyle \\int x e^{x}\\, dx = \\left(x - 1\\right) e^{x}$"
          },
          "metadata": {},
          "execution_count": 53
        }
      ]
    },
    {
      "cell_type": "code",
      "source": [
        "expr = Integral(x * exp(x), x)\n",
        "Eq(expr, expr.doit())"
      ],
      "metadata": {
        "id": "HgE1ZI2g0VXb",
        "outputId": "b75d838d-fb0a-4b5f-f14a-1467c2b338bd",
        "colab": {
          "base_uri": "https://localhost:8080/",
          "height": 55
        }
      },
      "execution_count": null,
      "outputs": [
        {
          "output_type": "execute_result",
          "data": {
            "text/plain": [
              "⌠                     \n",
              "⎮    x               x\n",
              "⎮ x⋅ℯ  dx = (x - 1)⋅ℯ \n",
              "⌡                     "
            ],
            "text/latex": "$\\displaystyle \\int x e^{x}\\, dx = \\left(x - 1\\right) e^{x}$"
          },
          "metadata": {},
          "execution_count": 54
        }
      ]
    },
    {
      "cell_type": "code",
      "source": [
        "expr = Integral(x * exp(x), x)\n",
        "Eq(expr, expr.doit())"
      ],
      "metadata": {
        "id": "xkmWUE5I0WIy",
        "outputId": "e7629729-4de1-4670-9d39-6584e071db7c",
        "colab": {
          "base_uri": "https://localhost:8080/",
          "height": 55
        }
      },
      "execution_count": null,
      "outputs": [
        {
          "output_type": "execute_result",
          "data": {
            "text/plain": [
              "⌠                     \n",
              "⎮    x               x\n",
              "⎮ x⋅ℯ  dx = (x - 1)⋅ℯ \n",
              "⌡                     "
            ],
            "text/latex": "$\\displaystyle \\int x e^{x}\\, dx = \\left(x - 1\\right) e^{x}$"
          },
          "metadata": {},
          "execution_count": 55
        }
      ]
    },
    {
      "cell_type": "code",
      "source": [],
      "metadata": {
        "id": "WMay3Oqe0W-6"
      },
      "execution_count": null,
      "outputs": []
    }
  ]
}