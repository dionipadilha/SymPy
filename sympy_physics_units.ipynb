{
  "nbformat": 4,
  "nbformat_minor": 0,
  "metadata": {
    "colab": {
      "provenance": [],
      "authorship_tag": "ABX9TyNhcqdjwFEOSFzna+kcr60V",
      "include_colab_link": true
    },
    "kernelspec": {
      "name": "python3",
      "display_name": "Python 3"
    },
    "language_info": {
      "name": "python"
    }
  },
  "cells": [
    {
      "cell_type": "markdown",
      "metadata": {
        "id": "view-in-github",
        "colab_type": "text"
      },
      "source": [
        "<a href=\"https://colab.research.google.com/github/dionipadilha/sympy/blob/main/sympy_physics_units.ipynb\" target=\"_parent\"><img src=\"https://colab.research.google.com/assets/colab-badge.svg\" alt=\"Open In Colab\"/></a>"
      ]
    },
    {
      "cell_type": "markdown",
      "source": [
        "# SymPy Physics Units"
      ],
      "metadata": {
        "id": "Pql0i3pnl795"
      }
    },
    {
      "cell_type": "code",
      "execution_count": null,
      "metadata": {
        "id": "Z_NX-kVfjf1j"
      },
      "outputs": [],
      "source": [
        "# symbolic environment:\n",
        "from sympy import *\n",
        "init_printing()"
      ]
    },
    {
      "cell_type": "markdown",
      "source": [
        "## Symbolic Units"
      ],
      "metadata": {
        "id": "VP-hmXEm9ux9"
      }
    },
    {
      "cell_type": "code",
      "source": [
        "# define a custom unit symbolically:\n",
        "meter = Symbol('m')\n",
        "2*meter + 3*meter"
      ],
      "metadata": {
        "colab": {
          "base_uri": "https://localhost:8080/",
          "height": 38
        },
        "id": "DUHfZQ-A6R4t",
        "outputId": "187a10e1-5f47-4d34-c2d1-f8dcfecf7456"
      },
      "execution_count": null,
      "outputs": [
        {
          "output_type": "execute_result",
          "data": {
            "text/plain": [
              "5⋅m"
            ],
            "text/latex": "$\\displaystyle 5 m$"
          },
          "metadata": {},
          "execution_count": 2
        }
      ]
    },
    {
      "cell_type": "code",
      "source": [
        "# define a custom unit using Unit:\n",
        "from sympy.physics.units import Unit\n",
        "meter = Unit('meter','m')\n",
        "2*meter + 3*meter"
      ],
      "metadata": {
        "id": "pNaFBcsUa6uc",
        "colab": {
          "base_uri": "https://localhost:8080/",
          "height": 38
        },
        "outputId": "7b66f07f-ea00-46b3-930f-e9d584c61c91"
      },
      "execution_count": null,
      "outputs": [
        {
          "output_type": "execute_result",
          "data": {
            "text/plain": [
              "5⋅meter"
            ],
            "text/latex": "$\\displaystyle 5 \\text{m}$"
          },
          "metadata": {},
          "execution_count": 3
        }
      ]
    },
    {
      "cell_type": "code",
      "source": [
        "# using built-in units:\n",
        "from sympy.physics.units import meter\n",
        "2*meter + 3*meter"
      ],
      "metadata": {
        "colab": {
          "base_uri": "https://localhost:8080/",
          "height": 38
        },
        "id": "6s2aejGMYLSw",
        "outputId": "b4851f01-1930-494a-9379-a6e3a42c7e66"
      },
      "execution_count": null,
      "outputs": [
        {
          "output_type": "execute_result",
          "data": {
            "text/plain": [
              "5⋅meter"
            ],
            "text/latex": "$\\displaystyle 5 \\text{m}$"
          },
          "metadata": {},
          "execution_count": 4
        }
      ]
    },
    {
      "cell_type": "markdown",
      "source": [
        "## SymPy Physics Units"
      ],
      "metadata": {
        "id": "1WCLTG0L93X1"
      }
    },
    {
      "cell_type": "code",
      "source": [
        "# sympy physics units:\n",
        "from sympy.physics.units import meter, kilometer\n",
        "from sympy.physics.units import second, hour\n",
        "from sympy.physics.units import ampere, volt\n",
        "from sympy.physics.units import milli, micro\n",
        "from sympy.physics.units import convert_to\n",
        "from sympy.physics.units.util import quantity_simplify"
      ],
      "metadata": {
        "id": "QKuo0bbD4-9K"
      },
      "execution_count": null,
      "outputs": []
    },
    {
      "cell_type": "code",
      "source": [
        "# dimensionless quantity:\n",
        "2.3*milli*ampere, 4.5 *micro*volt"
      ],
      "metadata": {
        "colab": {
          "base_uri": "https://localhost:8080/",
          "height": 38
        },
        "id": "KDEQZypAYeVI",
        "outputId": "cade1048-4fe3-4a40-f739-7394192ac492"
      },
      "execution_count": null,
      "outputs": [
        {
          "output_type": "execute_result",
          "data": {
            "text/plain": [
              "(2.3⋅m⋅ampere, 4.5⋅mu⋅volt)"
            ],
            "text/latex": "$\\displaystyle \\left( 2.3 \\text{m} \\text{A}, \\  4.5 \\mu \\text{V}\\right)$"
          },
          "metadata": {},
          "execution_count": 6
        }
      ]
    },
    {
      "cell_type": "code",
      "source": [
        "# basic unit conversion:\n",
        "convert_to(2*kilometer, meter)"
      ],
      "metadata": {
        "colab": {
          "base_uri": "https://localhost:8080/",
          "height": 38
        },
        "id": "_wdsOyHjW1Wk",
        "outputId": "d614cbe5-2201-4f9a-a50f-7e18f0e4cc87"
      },
      "execution_count": null,
      "outputs": [
        {
          "output_type": "execute_result",
          "data": {
            "text/plain": [
              "2000⋅meter"
            ],
            "text/latex": "$\\displaystyle 2000 \\text{m}$"
          },
          "metadata": {},
          "execution_count": 7
        }
      ]
    },
    {
      "cell_type": "code",
      "source": [
        "# conversion between combined quantities:\n",
        "convert_to(kilometer/hour, [meter, second])"
      ],
      "metadata": {
        "colab": {
          "base_uri": "https://localhost:8080/",
          "height": 51
        },
        "id": "yaCFKAi0Y7g7",
        "outputId": "b267241c-de98-4ae6-ccf7-7be099b83fb1"
      },
      "execution_count": null,
      "outputs": [
        {
          "output_type": "execute_result",
          "data": {
            "text/plain": [
              " 5⋅meter \n",
              "─────────\n",
              "18⋅second"
            ],
            "text/latex": "$\\displaystyle \\frac{5 \\text{m}}{18 \\text{s}}$"
          },
          "metadata": {},
          "execution_count": 8
        }
      ]
    },
    {
      "cell_type": "code",
      "source": [
        "# quantity simplification using quantity_simplify:\n",
        "distance_total = 1000*meter + 2*kilometer\n",
        "simplified_distance = quantity_simplify(distance_total)\n",
        "Eq(distance_total, simplified_distance)"
      ],
      "metadata": {
        "colab": {
          "base_uri": "https://localhost:8080/",
          "height": 38
        },
        "id": "CwU5iKzxzjaI",
        "outputId": "68b186c6-5d5f-489c-c941-a07a66ef85f9"
      },
      "execution_count": null,
      "outputs": [
        {
          "output_type": "execute_result",
          "data": {
            "text/plain": [
              "2⋅kilometer + 1000⋅meter = 3⋅kilometer"
            ],
            "text/latex": "$\\displaystyle 2 \\text{km} + 1000 \\text{m} = 3 \\text{km}$"
          },
          "metadata": {},
          "execution_count": 9
        }
      ]
    },
    {
      "cell_type": "code",
      "source": [
        "# quantity simplification using simplify:\n",
        "distance_total = 1000*meter + 2*kilometer\n",
        "simplified_distance = simplify(distance_total)\n",
        "Eq(distance_total, simplified_distance)"
      ],
      "metadata": {
        "colab": {
          "base_uri": "https://localhost:8080/",
          "height": 38
        },
        "id": "GpynKdl-AtbZ",
        "outputId": "beb89b04-8b7b-47c0-8d81-fd732b8fb8a6"
      },
      "execution_count": null,
      "outputs": [
        {
          "output_type": "execute_result",
          "data": {
            "text/plain": [
              "2⋅kilometer + 1000⋅meter = 3⋅kilometer"
            ],
            "text/latex": "$\\displaystyle 2 \\text{km} + 1000 \\text{m} = 3 \\text{km}$"
          },
          "metadata": {},
          "execution_count": 10
        }
      ]
    }
  ]
}