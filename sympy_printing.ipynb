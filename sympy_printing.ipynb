{
  "nbformat": 4,
  "nbformat_minor": 0,
  "metadata": {
    "colab": {
      "provenance": [],
      "authorship_tag": "ABX9TyN87EELBuWpEJjtFF3g7lgI",
      "include_colab_link": true
    },
    "kernelspec": {
      "name": "python3",
      "display_name": "Python 3"
    },
    "language_info": {
      "name": "python"
    }
  },
  "cells": [
    {
      "cell_type": "markdown",
      "metadata": {
        "id": "view-in-github",
        "colab_type": "text"
      },
      "source": [
        "<a href=\"https://colab.research.google.com/github/dionipadilha/sympy/blob/main/sympy_printing.ipynb\" target=\"_parent\"><img src=\"https://colab.research.google.com/assets/colab-badge.svg\" alt=\"Open In Colab\"/></a>"
      ]
    },
    {
      "cell_type": "markdown",
      "source": [
        "# Printing"
      ],
      "metadata": {
        "id": "kESyghcu5-wp"
      }
    },
    {
      "cell_type": "code",
      "execution_count": null,
      "metadata": {
        "id": "lx11eWAE3RxJ"
      },
      "outputs": [],
      "source": [
        "from sympy import *\n",
        "x, y, z = symbols('x, y, z')"
      ]
    },
    {
      "cell_type": "code",
      "source": [
        "# Evaluate expression\n",
        "integrate(sqrt(1/x), x)"
      ],
      "metadata": {
        "colab": {
          "base_uri": "https://localhost:8080/",
          "height": 58
        },
        "id": "41O0Cql56kFQ",
        "outputId": "eb0726f3-332e-44d7-cba8-b834418c7201"
      },
      "execution_count": null,
      "outputs": [
        {
          "output_type": "execute_result",
          "data": {
            "text/plain": [
              "2*x*sqrt(1/x)"
            ],
            "text/latex": "$\\displaystyle 2 x \\sqrt{\\frac{1}{x}}$"
          },
          "metadata": {},
          "execution_count": 2
        }
      ]
    },
    {
      "cell_type": "code",
      "source": [
        "# Unevaluate expression\n",
        "Integral(sqrt(1/x), x)"
      ],
      "metadata": {
        "colab": {
          "base_uri": "https://localhost:8080/",
          "height": 60
        },
        "id": "nmI5kkWK7CoW",
        "outputId": "ab2e9cb5-79be-4e77-cc7e-d63aae2a97af"
      },
      "execution_count": null,
      "outputs": [
        {
          "output_type": "execute_result",
          "data": {
            "text/plain": [
              "Integral(sqrt(1/x), x)"
            ],
            "text/latex": "$\\displaystyle \\int \\sqrt{\\frac{1}{x}}\\, dx$"
          },
          "metadata": {},
          "execution_count": 3
        }
      ]
    },
    {
      "cell_type": "code",
      "source": [
        "# Get a string form of an expression\n",
        "print(Integral(sqrt(1/x), x))\n",
        "str(Integral(sqrt(1/x), x))"
      ],
      "metadata": {
        "colab": {
          "base_uri": "https://localhost:8080/",
          "height": 52
        },
        "id": "h37sj6F-6PTJ",
        "outputId": "0c2c945e-dea3-431e-8a10-50cc4a93bcf9"
      },
      "execution_count": null,
      "outputs": [
        {
          "output_type": "stream",
          "name": "stdout",
          "text": [
            "Integral(sqrt(1/x), x)\n"
          ]
        },
        {
          "output_type": "execute_result",
          "data": {
            "text/plain": [
              "'Integral(sqrt(1/x), x)'"
            ],
            "application/vnd.google.colaboratory.intrinsic+json": {
              "type": "string"
            }
          },
          "metadata": {},
          "execution_count": 4
        }
      ]
    },
    {
      "cell_type": "code",
      "source": [
        "# Show the exact form of an expression\n",
        "srepr(Integral(sqrt(1/x), x))"
      ],
      "metadata": {
        "colab": {
          "base_uri": "https://localhost:8080/",
          "height": 35
        },
        "id": "NwmbSrA37-px",
        "outputId": "5bab233c-f088-4459-e73b-a4511f4c7031"
      },
      "execution_count": null,
      "outputs": [
        {
          "output_type": "execute_result",
          "data": {
            "text/plain": [
              "\"Integral(Pow(Pow(Symbol('x'), Integer(-1)), Rational(1, 2)), Tuple(Symbol('x')))\""
            ],
            "application/vnd.google.colaboratory.intrinsic+json": {
              "type": "string"
            }
          },
          "metadata": {},
          "execution_count": 5
        }
      ]
    },
    {
      "cell_type": "code",
      "source": [
        "# ASCII printer\n",
        "pprint(Integral(sqrt(1/x), x), use_unicode=False)"
      ],
      "metadata": {
        "colab": {
          "base_uri": "https://localhost:8080/"
        },
        "id": "D_ZWVf8i6_xu",
        "outputId": "51aa277b-9686-4cc5-c1ee-07ed10208e1c"
      },
      "execution_count": null,
      "outputs": [
        {
          "output_type": "stream",
          "name": "stdout",
          "text": [
            "  /          \n",
            " |           \n",
            " |     ___   \n",
            " |    / 1    \n",
            " |   /  -  dx\n",
            " | \\/   x    \n",
            " |           \n",
            "/            \n"
          ]
        }
      ]
    },
    {
      "cell_type": "code",
      "source": [
        "# Get the laTeX form of an expression\n",
        "print(latex(Integral(sqrt(1/x), x)))"
      ],
      "metadata": {
        "colab": {
          "base_uri": "https://localhost:8080/"
        },
        "id": "HQlMME6B7Nt6",
        "outputId": "b9ba6438-f470-4b57-850a-e5e69e8e788f"
      },
      "execution_count": null,
      "outputs": [
        {
          "output_type": "stream",
          "name": "stdout",
          "text": [
            "\\int \\sqrt{\\frac{1}{x}}\\, dx\n"
          ]
        }
      ]
    },
    {
      "cell_type": "code",
      "source": [
        "# Get the MathML form of an expression\n",
        "print_mathml(Integral(sqrt(1/x), x))"
      ],
      "metadata": {
        "colab": {
          "base_uri": "https://localhost:8080/"
        },
        "id": "qo3yNbHO7WVX",
        "outputId": "c8a27faf-ae01-488b-b2ce-7f26014f00e6"
      },
      "execution_count": null,
      "outputs": [
        {
          "output_type": "stream",
          "name": "stdout",
          "text": [
            "<apply>\n",
            "\t<int/>\n",
            "\t<bvar>\n",
            "\t\t<ci>x</ci>\n",
            "\t</bvar>\n",
            "\t<apply>\n",
            "\t\t<root/>\n",
            "\t\t<apply>\n",
            "\t\t\t<power/>\n",
            "\t\t\t<ci>x</ci>\n",
            "\t\t\t<cn>-1</cn>\n",
            "\t\t</apply>\n",
            "\t</apply>\n",
            "</apply>\n",
            "\n"
          ]
        }
      ]
    },
    {
      "cell_type": "code",
      "source": [
        "# Prints output to dot format\n",
        "# Rendered with Graphviz\n",
        "print(dotprint(Integral(sqrt(1/x), x)))"
      ],
      "metadata": {
        "colab": {
          "base_uri": "https://localhost:8080/"
        },
        "id": "en4j9EO_72g1",
        "outputId": "e1ab3d71-876f-41c0-d34d-3444d5d3f491"
      },
      "execution_count": null,
      "outputs": [
        {
          "output_type": "stream",
          "name": "stdout",
          "text": [
            "digraph{\n",
            "\n",
            "# Graph style\n",
            "\"ordering\"=\"out\"\n",
            "\"rankdir\"=\"TD\"\n",
            "\n",
            "#########\n",
            "# Nodes #\n",
            "#########\n",
            "\n",
            "\"Integral(Pow(Pow(Symbol('x'), Integer(-1)), Rational(1, 2)), Tuple(Symbol('x')))_()\" [\"color\"=\"black\", \"label\"=\"Integral\", \"shape\"=\"ellipse\"];\n",
            "\"Pow(Pow(Symbol('x'), Integer(-1)), Rational(1, 2))_(0,)\" [\"color\"=\"black\", \"label\"=\"Pow\", \"shape\"=\"ellipse\"];\n",
            "\"Pow(Symbol('x'), Integer(-1))_(0, 0)\" [\"color\"=\"black\", \"label\"=\"Pow\", \"shape\"=\"ellipse\"];\n",
            "\"Symbol('x')_(0, 0, 0)\" [\"color\"=\"black\", \"label\"=\"x\", \"shape\"=\"ellipse\"];\n",
            "\"Integer(-1)_(0, 0, 1)\" [\"color\"=\"black\", \"label\"=\"-1\", \"shape\"=\"ellipse\"];\n",
            "\"Rational(1, 2)_(0, 1)\" [\"color\"=\"black\", \"label\"=\"1/2\", \"shape\"=\"ellipse\"];\n",
            "\"Tuple(Symbol('x'))_(1,)\" [\"color\"=\"blue\", \"label\"=\"Tuple\", \"shape\"=\"ellipse\"];\n",
            "\"Symbol('x')_(1, 0)\" [\"color\"=\"black\", \"label\"=\"x\", \"shape\"=\"ellipse\"];\n",
            "\n",
            "#########\n",
            "# Edges #\n",
            "#########\n",
            "\n",
            "\"Integral(Pow(Pow(Symbol('x'), Integer(-1)), Rational(1, 2)), Tuple(Symbol('x')))_()\" -> \"Pow(Pow(Symbol('x'), Integer(-1)), Rational(1, 2))_(0,)\";\n",
            "\"Integral(Pow(Pow(Symbol('x'), Integer(-1)), Rational(1, 2)), Tuple(Symbol('x')))_()\" -> \"Tuple(Symbol('x'))_(1,)\";\n",
            "\"Pow(Pow(Symbol('x'), Integer(-1)), Rational(1, 2))_(0,)\" -> \"Pow(Symbol('x'), Integer(-1))_(0, 0)\";\n",
            "\"Pow(Pow(Symbol('x'), Integer(-1)), Rational(1, 2))_(0,)\" -> \"Rational(1, 2)_(0, 1)\";\n",
            "\"Pow(Symbol('x'), Integer(-1))_(0, 0)\" -> \"Symbol('x')_(0, 0, 0)\";\n",
            "\"Pow(Symbol('x'), Integer(-1))_(0, 0)\" -> \"Integer(-1)_(0, 0, 1)\";\n",
            "\"Tuple(Symbol('x'))_(1,)\" -> \"Symbol('x')_(1, 0)\";\n",
            "}\n"
          ]
        }
      ]
    },
    {
      "cell_type": "code",
      "source": [],
      "metadata": {
        "id": "u4KX2mJa8XdP"
      },
      "execution_count": null,
      "outputs": []
    }
  ]
}