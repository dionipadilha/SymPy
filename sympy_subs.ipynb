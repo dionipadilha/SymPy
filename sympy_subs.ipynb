{
  "nbformat": 4,
  "nbformat_minor": 0,
  "metadata": {
    "colab": {
      "provenance": [],
      "authorship_tag": "ABX9TyMRvhXlATSs3FOJCg+Tx3Wa",
      "include_colab_link": true
    },
    "kernelspec": {
      "name": "python3",
      "display_name": "Python 3"
    },
    "language_info": {
      "name": "python"
    }
  },
  "cells": [
    {
      "cell_type": "markdown",
      "metadata": {
        "id": "view-in-github",
        "colab_type": "text"
      },
      "source": [
        "<a href=\"https://colab.research.google.com/github/dionipadilha/sympy/blob/main/sympy_subs.ipynb\" target=\"_parent\"><img src=\"https://colab.research.google.com/assets/colab-badge.svg\" alt=\"Open In Colab\"/></a>"
      ]
    },
    {
      "cell_type": "markdown",
      "source": [
        "# SymPy: Substitutions"
      ],
      "metadata": {
        "id": "h4ZzVgRa1XpN"
      }
    },
    {
      "cell_type": "code",
      "source": [
        "# Configure symbolic environment:\n",
        "from sympy import *\n",
        "x, y, z= symbols('x, y, z')\n",
        "init_printing()"
      ],
      "metadata": {
        "id": "5-_PqFJdvwx4"
      },
      "execution_count": null,
      "outputs": []
    },
    {
      "cell_type": "code",
      "execution_count": null,
      "metadata": {
        "colab": {
          "base_uri": "https://localhost:8080/",
          "height": 38
        },
        "id": "9kh2Zvv0vmNH",
        "outputId": "61901008-2e0c-4cdb-90ac-896365bcae53"
      },
      "outputs": [
        {
          "output_type": "execute_result",
          "data": {
            "text/plain": [
              "cos(x) + 1 = cos(y) + 1"
            ],
            "text/latex": "$\\displaystyle \\cos{\\left(x \\right)} + 1 = \\cos{\\left(y \\right)} + 1$"
          },
          "metadata": {},
          "execution_count": 3
        }
      ],
      "source": [
        "# Replaces instances of a symbol:\n",
        "expr = cos(x) + 1\n",
        "Eq(expr, expr.subs(x, y))"
      ]
    },
    {
      "cell_type": "code",
      "source": [
        "# Evaluate an expression at a specific point:\n",
        "expr = cos(x) + 1\n",
        "Eq(expr, expr.subs(x, 0))"
      ],
      "metadata": {
        "colab": {
          "base_uri": "https://localhost:8080/",
          "height": 38
        },
        "id": "mU417K_YvvG8",
        "outputId": "e67b78f9-6a86-45a8-deef-59bf302e5708"
      },
      "execution_count": null,
      "outputs": [
        {
          "output_type": "execute_result",
          "data": {
            "text/plain": [
              "cos(x) + 1 = 2"
            ],
            "text/latex": "$\\displaystyle \\cos{\\left(x \\right)} + 1 = 2$"
          },
          "metadata": {},
          "execution_count": 4
        }
      ]
    },
    {
      "cell_type": "code",
      "source": [
        "# Replace a subexpression with another subexpression:\n",
        "expr = x**y\n",
        "Eq(expr, expr.subs(y, x**x))"
      ],
      "metadata": {
        "colab": {
          "base_uri": "https://localhost:8080/",
          "height": 39
        },
        "id": "su2CJzyYwxsO",
        "outputId": "b3043aba-e251-4e46-8f6e-dbbaa1676fce"
      },
      "execution_count": null,
      "outputs": [
        {
          "output_type": "execute_result",
          "data": {
            "text/plain": [
              "      ⎛ x⎞\n",
              " y    ⎝x ⎠\n",
              "x  = x    "
            ],
            "text/latex": "$\\displaystyle x^{y} = x^{x^{x}}$"
          },
          "metadata": {},
          "execution_count": 5
        }
      ]
    },
    {
      "cell_type": "code",
      "source": [
        "# Manually replace subexpressions:\n",
        "expr = sin(2*x) + cos(2*x)\n",
        "expanded_expr = expand_trig(expr)\n",
        "simplified_expr = expr.subs(sin(2*x), 2*sin(x)*cos(x))\n",
        "Eq(expanded_expr, simplified_expr)"
      ],
      "metadata": {
        "colab": {
          "base_uri": "https://localhost:8080/",
          "height": 38
        },
        "id": "V35XAobyw-8A",
        "outputId": "33909306-c126-4b39-e4b7-e3f97f435b41"
      },
      "execution_count": null,
      "outputs": [
        {
          "output_type": "execute_result",
          "data": {
            "text/plain": [
              "                       2                                    \n",
              "2⋅sin(x)⋅cos(x) + 2⋅cos (x) - 1 = 2⋅sin(x)⋅cos(x) + cos(2⋅x)"
            ],
            "text/latex": "$\\displaystyle 2 \\sin{\\left(x \\right)} \\cos{\\left(x \\right)} + 2 \\cos^{2}{\\left(x \\right)} - 1 = 2 \\sin{\\left(x \\right)} \\cos{\\left(x \\right)} + \\cos{\\left(2 x \\right)}$"
          },
          "metadata": {},
          "execution_count": 6
        }
      ]
    },
    {
      "cell_type": "code",
      "source": [
        "# Perform multiple substitutions\n",
        "expr = x**3 + 4*x*y - z\n",
        "replacements = {x:2, y:4, z:0}\n",
        "Eq(expr, expr.subs(replacements))"
      ],
      "metadata": {
        "colab": {
          "base_uri": "https://localhost:8080/",
          "height": 38
        },
        "id": "1jBblbajxJh3",
        "outputId": "b9f55510-f9ed-4f29-f792-a2524c87a3d2"
      },
      "execution_count": null,
      "outputs": [
        {
          "output_type": "execute_result",
          "data": {
            "text/plain": [
              " 3                 \n",
              "x  + 4⋅x⋅y - z = 40"
            ],
            "text/latex": "$\\displaystyle x^{3} + 4 x y - z = 40$"
          },
          "metadata": {},
          "execution_count": 7
        }
      ]
    },
    {
      "cell_type": "code",
      "source": [],
      "metadata": {
        "id": "irVZdOtd1TI8"
      },
      "execution_count": null,
      "outputs": []
    }
  ]
}