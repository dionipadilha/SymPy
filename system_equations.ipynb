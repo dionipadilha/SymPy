{
  "nbformat": 4,
  "nbformat_minor": 0,
  "metadata": {
    "colab": {
      "provenance": [],
      "authorship_tag": "ABX9TyP7B90osfJ0oRc+771wj7cX",
      "include_colab_link": true
    },
    "kernelspec": {
      "name": "python3",
      "display_name": "Python 3"
    },
    "language_info": {
      "name": "python"
    }
  },
  "cells": [
    {
      "cell_type": "markdown",
      "metadata": {
        "id": "view-in-github",
        "colab_type": "text"
      },
      "source": [
        "<a href=\"https://colab.research.google.com/github/dionipadilha/sympy/blob/main/system_equations.ipynb\" target=\"_parent\"><img src=\"https://colab.research.google.com/assets/colab-badge.svg\" alt=\"Open In Colab\"/></a>"
      ]
    },
    {
      "cell_type": "markdown",
      "source": [
        "# System of Equations Calculator"
      ],
      "metadata": {
        "id": "DpEMnw6LRUiY"
      }
    },
    {
      "cell_type": "code",
      "source": [
        "# symbolic environment\n",
        "from sympy import *\n",
        "init_printing()\n",
        "x, y, z = symbols('x, y, z')"
      ],
      "metadata": {
        "id": "qKrogbSsRnWU"
      },
      "execution_count": null,
      "outputs": []
    },
    {
      "cell_type": "code",
      "source": [
        "eq1 = Eq(x + 2*y, 2*x - 5)\n",
        "eq2 = Eq(x - y, 3)\n",
        "system_of_equations = [eq1, eq2]\n",
        "variables =  [x, y]\n",
        "solve(system_of_equations, variables)"
      ],
      "metadata": {
        "colab": {
          "base_uri": "https://localhost:8080/",
          "height": 38
        },
        "id": "YUjiw4NuYiIl",
        "outputId": "4c2736c7-ef90-4a35-fe3a-969f5881f9f5"
      },
      "execution_count": null,
      "outputs": [
        {
          "output_type": "execute_result",
          "data": {
            "text/plain": [
              "{x: 1, y: -2}"
            ],
            "text/latex": "$\\displaystyle \\left\\{ x : 1, \\  y : -2\\right\\}$"
          },
          "metadata": {},
          "execution_count": 71
        }
      ]
    },
    {
      "cell_type": "code",
      "source": [
        "eq1 = Eq(x + y + z, 25)\n",
        "eq2 = Eq(5*x + 3*y + 2*z, 0)\n",
        "eq3 = Eq(y - z, 6)\n",
        "system_of_equations = [eq1, eq2, eq3]\n",
        "variables =  [x, y, z]\n",
        "solve(system_of_equations, variables)"
      ],
      "metadata": {
        "colab": {
          "base_uri": "https://localhost:8080/",
          "height": 58
        },
        "id": "hETL9Zg0WMfD",
        "outputId": "1e7ef06f-fd48-4623-868e-3e0c7cd496f2"
      },
      "execution_count": null,
      "outputs": [
        {
          "output_type": "execute_result",
          "data": {
            "text/plain": [
              "{x: -131/5, y: 143/5, z: 113/5}"
            ],
            "text/latex": "$\\displaystyle \\left\\{ x : - \\frac{131}{5}, \\  y : \\frac{143}{5}, \\  z : \\frac{113}{5}\\right\\}$"
          },
          "metadata": {},
          "execution_count": 78
        }
      ]
    },
    {
      "cell_type": "code",
      "source": [
        "eq1 = Eq(x**2 + y, 5)\n",
        "eq2 = Eq(x**2 + y**2, 7)\n",
        "system_of_equations = [eq1, eq2]\n",
        "variables =  [x, y]\n",
        "solve(system_of_equations, variables)"
      ],
      "metadata": {
        "colab": {
          "base_uri": "https://localhost:8080/",
          "height": 47
        },
        "id": "POpxAtxaZIa1",
        "outputId": "3d998c11-1b88-4fea-bae0-2502e461526d"
      },
      "execution_count": null,
      "outputs": [
        {
          "output_type": "execute_result",
          "data": {
            "text/plain": [
              "[(-√3, 2), (√3, 2), (-√6, -1), (√6, -1)]"
            ],
            "text/latex": "$\\displaystyle \\left[ \\left( - \\sqrt{3}, \\  2\\right), \\  \\left( \\sqrt{3}, \\  2\\right), \\  \\left( - \\sqrt{6}, \\  -1\\right), \\  \\left( \\sqrt{6}, \\  -1\\right)\\right]$"
          },
          "metadata": {},
          "execution_count": 79
        }
      ]
    },
    {
      "cell_type": "code",
      "source": [
        "eq1 = Eq(x*y, 10)\n",
        "eq2 = Eq(2*x + y, 1)\n",
        "system_of_equations = [eq1, eq2]\n",
        "variables =  [x, y]\n",
        "solve(system_of_equations, variables)"
      ],
      "metadata": {
        "colab": {
          "base_uri": "https://localhost:8080/",
          "height": 68
        },
        "id": "ZtOXYxIla04e",
        "outputId": "8e79695d-0f6e-4c41-c1cc-3678e3f2b21d"
      },
      "execution_count": null,
      "outputs": [
        {
          "output_type": "execute_result",
          "data": {
            "text/plain": [
              "⎡⎛1   √79⋅ⅈ  1   √79⋅ⅈ⎞  ⎛1   √79⋅ⅈ  1   √79⋅ⅈ⎞⎤\n",
              "⎢⎜─ - ─────, ─ + ─────⎟, ⎜─ + ─────, ─ - ─────⎟⎥\n",
              "⎣⎝4     4    2     2  ⎠  ⎝4     4    2     2  ⎠⎦"
            ],
            "text/latex": "$\\displaystyle \\left[ \\left( \\frac{1}{4} - \\frac{\\sqrt{79} i}{4}, \\  \\frac{1}{2} + \\frac{\\sqrt{79} i}{2}\\right), \\  \\left( \\frac{1}{4} + \\frac{\\sqrt{79} i}{4}, \\  \\frac{1}{2} - \\frac{\\sqrt{79} i}{2}\\right)\\right]$"
          },
          "metadata": {},
          "execution_count": 81
        }
      ]
    }
  ]
}