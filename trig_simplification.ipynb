{
  "nbformat": 4,
  "nbformat_minor": 0,
  "metadata": {
    "colab": {
      "provenance": [],
      "authorship_tag": "ABX9TyPGBmaqW7oFuXjMsznbm7bS",
      "include_colab_link": true
    },
    "kernelspec": {
      "name": "python3",
      "display_name": "Python 3"
    },
    "language_info": {
      "name": "python"
    }
  },
  "cells": [
    {
      "cell_type": "markdown",
      "metadata": {
        "id": "view-in-github",
        "colab_type": "text"
      },
      "source": [
        "<a href=\"https://colab.research.google.com/github/dionipadilha/sympy/blob/main/trig_simplification.ipynb\" target=\"_parent\"><img src=\"https://colab.research.google.com/assets/colab-badge.svg\" alt=\"Open In Colab\"/></a>"
      ]
    },
    {
      "cell_type": "markdown",
      "source": [
        "# Trigonometric Simplification"
      ],
      "metadata": {
        "id": "BrJ0pITi5SoS"
      }
    },
    {
      "cell_type": "code",
      "execution_count": null,
      "metadata": {
        "id": "rGLV85NY4LxE"
      },
      "outputs": [],
      "source": [
        "# Symbolic env:\n",
        "from sympy import *\n",
        "init_printing()\n",
        "x, y = symbols('x, y')"
      ]
    },
    {
      "cell_type": "code",
      "source": [
        "cos(acos(x))"
      ],
      "metadata": {
        "colab": {
          "base_uri": "https://localhost:8080/",
          "height": 38
        },
        "id": "2agZGqLy7xm7",
        "outputId": "30dc040c-b0e3-4a34-ae17-a810ab6c2592"
      },
      "execution_count": null,
      "outputs": [
        {
          "output_type": "execute_result",
          "data": {
            "text/plain": [
              "x"
            ],
            "text/latex": "$\\displaystyle x$"
          },
          "metadata": {},
          "execution_count": 10
        }
      ]
    },
    {
      "cell_type": "code",
      "source": [
        "expr = sin(x)\n",
        "Eq(expr, expr.rewrite(cos))"
      ],
      "metadata": {
        "colab": {
          "base_uri": "https://localhost:8080/",
          "height": 48
        },
        "id": "k6Zg9WBW85bM",
        "outputId": "74c6a5f2-a24c-440c-8116-1b21f97c20cd"
      },
      "execution_count": null,
      "outputs": [
        {
          "output_type": "execute_result",
          "data": {
            "text/plain": [
              "            ⎛    π⎞\n",
              "sin(x) = cos⎜x - ─⎟\n",
              "            ⎝    2⎠"
            ],
            "text/latex": "$\\displaystyle \\sin{\\left(x \\right)} = \\cos{\\left(x - \\frac{\\pi}{2} \\right)}$"
          },
          "metadata": {},
          "execution_count": 11
        }
      ]
    },
    {
      "cell_type": "code",
      "source": [
        "expr = sin(x)**2 + cos(x)**2\n",
        "Eq(expr, trigsimp(expr))"
      ],
      "metadata": {
        "colab": {
          "base_uri": "https://localhost:8080/",
          "height": 38
        },
        "id": "1WzK-6wT4Mg0",
        "outputId": "951b724a-46a7-4ec6-a2be-efc2e1ac3ce3"
      },
      "execution_count": null,
      "outputs": [
        {
          "output_type": "execute_result",
          "data": {
            "text/plain": [
              "   2         2       \n",
              "sin (x) + cos (x) = 1"
            ],
            "text/latex": "$\\displaystyle \\sin^{2}{\\left(x \\right)} + \\cos^{2}{\\left(x \\right)} = 1$"
          },
          "metadata": {},
          "execution_count": 12
        }
      ]
    },
    {
      "cell_type": "code",
      "source": [
        "expr = sin(x) * cos(y) + sin(y) * cos(x)\n",
        "Eq(expr, trigsimp(expr))"
      ],
      "metadata": {
        "colab": {
          "base_uri": "https://localhost:8080/",
          "height": 38
        },
        "id": "PseGoYbq6Nac",
        "outputId": "d3d8702c-c708-41d2-a14b-6fbf96d0d87d"
      },
      "execution_count": null,
      "outputs": [
        {
          "output_type": "execute_result",
          "data": {
            "text/plain": [
              "sin(x)⋅cos(y) + sin(y)⋅cos(x) = sin(x + y)"
            ],
            "text/latex": "$\\displaystyle \\sin{\\left(x \\right)} \\cos{\\left(y \\right)} + \\sin{\\left(y \\right)} \\cos{\\left(x \\right)} = \\sin{\\left(x + y \\right)}$"
          },
          "metadata": {},
          "execution_count": 13
        }
      ]
    },
    {
      "cell_type": "code",
      "source": [
        "expr = sin(x)/cos(x)\n",
        "Eq(expr, trigsimp(expr))"
      ],
      "metadata": {
        "colab": {
          "base_uri": "https://localhost:8080/",
          "height": 57
        },
        "id": "hNTtxleF4ZSr",
        "outputId": "efec18a1-c67e-4b1f-f35d-9dd9d61b8438"
      },
      "execution_count": null,
      "outputs": [
        {
          "output_type": "execute_result",
          "data": {
            "text/plain": [
              "sin(x)         \n",
              "────── = tan(x)\n",
              "cos(x)         "
            ],
            "text/latex": "$\\displaystyle \\frac{\\sin{\\left(x \\right)}}{\\cos{\\left(x \\right)}} = \\tan{\\left(x \\right)}$"
          },
          "metadata": {},
          "execution_count": 14
        }
      ]
    },
    {
      "cell_type": "code",
      "source": [
        "expr = sin(x + y)\n",
        "Eq(expr, expand_trig(expr))"
      ],
      "metadata": {
        "colab": {
          "base_uri": "https://localhost:8080/",
          "height": 38
        },
        "id": "-UipeHJa5ZNl",
        "outputId": "a4d6cae4-c287-46d8-f797-9f08bd15392d"
      },
      "execution_count": null,
      "outputs": [
        {
          "output_type": "execute_result",
          "data": {
            "text/plain": [
              "sin(x + y) = sin(x)⋅cos(y) + sin(y)⋅cos(x)"
            ],
            "text/latex": "$\\displaystyle \\sin{\\left(x + y \\right)} = \\sin{\\left(x \\right)} \\cos{\\left(y \\right)} + \\sin{\\left(y \\right)} \\cos{\\left(x \\right)}$"
          },
          "metadata": {},
          "execution_count": 15
        }
      ]
    },
    {
      "cell_type": "code",
      "source": [
        "expr = sin(2*x)\n",
        "Eq(expr, expand_trig(expr))"
      ],
      "metadata": {
        "colab": {
          "base_uri": "https://localhost:8080/",
          "height": 38
        },
        "id": "0fB2ilvK7Bd5",
        "outputId": "ef40a06b-d2a5-49cd-b9c9-7b9aa862e49c"
      },
      "execution_count": null,
      "outputs": [
        {
          "output_type": "execute_result",
          "data": {
            "text/plain": [
              "sin(2⋅x) = 2⋅sin(x)⋅cos(x)"
            ],
            "text/latex": "$\\displaystyle \\sin{\\left(2 x \\right)} = 2 \\sin{\\left(x \\right)} \\cos{\\left(x \\right)}$"
          },
          "metadata": {},
          "execution_count": 16
        }
      ]
    }
  ]
}