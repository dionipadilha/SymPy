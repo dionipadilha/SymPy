{
  "nbformat": 4,
  "nbformat_minor": 0,
  "metadata": {
    "colab": {
      "provenance": [],
      "authorship_tag": "ABX9TyMSmYgpPMEp6/YAyop9euiK",
      "include_colab_link": true
    },
    "kernelspec": {
      "name": "python3",
      "display_name": "Python 3"
    },
    "language_info": {
      "name": "python"
    }
  },
  "cells": [
    {
      "cell_type": "markdown",
      "metadata": {
        "id": "view-in-github",
        "colab_type": "text"
      },
      "source": [
        "<a href=\"https://colab.research.google.com/github/dionipadilha/sympy/blob/main/truque_sujo.ipynb\" target=\"_parent\"><img src=\"https://colab.research.google.com/assets/colab-badge.svg\" alt=\"Open In Colab\"/></a>"
      ]
    },
    {
      "cell_type": "code",
      "execution_count": 5,
      "metadata": {
        "id": "gSndyfphuLbg"
      },
      "outputs": [],
      "source": [
        "from sympy import init_printing, symbols, Eq, solve\n",
        "init_printing()"
      ]
    },
    {
      "cell_type": "code",
      "source": [
        "# Define symbols\n",
        "x, y = symbols('x y', integer=True, nonnegative=True)\n",
        "\n",
        "# Define the equation\n",
        "eq = Eq((x * y - 7)**2, x**2 + y**2)\n",
        "eq"
      ],
      "metadata": {
        "colab": {
          "base_uri": "https://localhost:8080/",
          "height": 39
        },
        "id": "FNeSe1-9v4hS",
        "outputId": "9f63a6ce-e1a8-48e3-e0ad-25f5a26610c4"
      },
      "execution_count": 10,
      "outputs": [
        {
          "output_type": "execute_result",
          "data": {
            "text/plain": [
              "         2    2    2\n",
              "(x⋅y - 7)  = x  + y "
            ],
            "text/latex": "$\\displaystyle \\left(x y - 7\\right)^{2} = x^{2} + y^{2}$"
          },
          "metadata": {},
          "execution_count": 10
        }
      ]
    },
    {
      "cell_type": "code",
      "source": [
        "# Solve the equation for integer values of x and y\n",
        "solutions = []\n",
        "\n",
        "for y_val in range(8):  # since x, y >= 0 and 7 = sqrt(49)\n",
        "    # Solve for x given a specific y\n",
        "    solutions_y = solve(eq.subs(y, y_val), x)\n",
        "    for x_val in solutions_y:\n",
        "        if x_val.is_integer:\n",
        "            solutions.append((x_val, y_val))\n",
        "\n",
        "# Print solutions\n",
        "print(\"Integer solutions (x, y):\")\n",
        "for xy_pair in solutions:\n",
        "    print(xy_pair)"
      ],
      "metadata": {
        "colab": {
          "base_uri": "https://localhost:8080/"
        },
        "id": "A7EHGO7Nuj_s",
        "outputId": "d31094a4-61d6-4aa1-8f51-588b3cf22c6b"
      },
      "execution_count": 11,
      "outputs": [
        {
          "output_type": "stream",
          "name": "stdout",
          "text": [
            "Integer solutions (x, y):\n",
            "(7, 0)\n",
            "(4, 3)\n",
            "(3, 4)\n",
            "(0, 7)\n"
          ]
        }
      ]
    },
    {
      "cell_type": "code",
      "source": [],
      "metadata": {
        "id": "MVm9STliwX7P"
      },
      "execution_count": null,
      "outputs": []
    }
  ]
}