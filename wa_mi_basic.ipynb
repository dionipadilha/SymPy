{
  "nbformat": 4,
  "nbformat_minor": 0,
  "metadata": {
    "colab": {
      "provenance": [],
      "authorship_tag": "ABX9TyMdyQHo2BdaRcLG7PLdGWn3",
      "include_colab_link": true
    },
    "kernelspec": {
      "name": "python3",
      "display_name": "Python 3"
    },
    "language_info": {
      "name": "python"
    }
  },
  "cells": [
    {
      "cell_type": "markdown",
      "metadata": {
        "id": "view-in-github",
        "colab_type": "text"
      },
      "source": [
        "<a href=\"https://colab.research.google.com/github/dionipadilha/sympy/blob/main/wa_mi_basic.ipynb\" target=\"_parent\"><img src=\"https://colab.research.google.com/assets/colab-badge.svg\" alt=\"Open In Colab\"/></a>"
      ]
    },
    {
      "cell_type": "code",
      "execution_count": 1,
      "metadata": {
        "id": "B84qLo4OeJL0"
      },
      "outputs": [],
      "source": [
        "# symbolic env\n",
        "from sympy import *\n",
        "a, b, c, d = symbols('a, b, c, d')\n",
        "x, y, z = symbols('x, y, z')\n",
        "r, s, t = symbols('r, s, t')\n",
        "k, m, n = symbols('k, m, n', integer=True)\n",
        "f, g, h = symbols('f, g, h', cls=Function)\n",
        "init_printing()"
      ]
    },
    {
      "cell_type": "code",
      "source": [
        "# fraction\n",
        "x/y"
      ],
      "metadata": {
        "colab": {
          "base_uri": "https://localhost:8080/",
          "height": 51
        },
        "id": "uWKHgjgzeNtp",
        "outputId": "491275a0-0f41-42f6-ac9c-fae2d37ddfd0"
      },
      "execution_count": 2,
      "outputs": [
        {
          "output_type": "execute_result",
          "data": {
            "text/plain": [
              "x\n",
              "─\n",
              "y"
            ],
            "text/latex": "$\\displaystyle \\frac{x}{y}$"
          },
          "metadata": {},
          "execution_count": 2
        }
      ]
    },
    {
      "cell_type": "code",
      "source": [
        "# square\n",
        "x**2"
      ],
      "metadata": {
        "colab": {
          "base_uri": "https://localhost:8080/",
          "height": 39
        },
        "id": "q80Qip64eaa2",
        "outputId": "ddc044fa-8c09-49a6-c299-2cd7a7253281"
      },
      "execution_count": 3,
      "outputs": [
        {
          "output_type": "execute_result",
          "data": {
            "text/plain": [
              " 2\n",
              "x "
            ],
            "text/latex": "$\\displaystyle x^{2}$"
          },
          "metadata": {},
          "execution_count": 3
        }
      ]
    },
    {
      "cell_type": "code",
      "source": [
        "# power\n",
        "x**y"
      ],
      "metadata": {
        "colab": {
          "base_uri": "https://localhost:8080/",
          "height": 39
        },
        "id": "0k0UnHSleccN",
        "outputId": "496035bb-d436-4b4c-e65b-776576c2f009"
      },
      "execution_count": 4,
      "outputs": [
        {
          "output_type": "execute_result",
          "data": {
            "text/plain": [
              " y\n",
              "x "
            ],
            "text/latex": "$\\displaystyle x^{y}$"
          },
          "metadata": {},
          "execution_count": 4
        }
      ]
    },
    {
      "cell_type": "code",
      "source": [
        "# square root\n",
        "sqrt(x)"
      ],
      "metadata": {
        "colab": {
          "base_uri": "https://localhost:8080/",
          "height": 37
        },
        "id": "Wyy63ohVeeT4",
        "outputId": "94ea7048-722e-417c-b2bb-a5cd50c019b6"
      },
      "execution_count": 5,
      "outputs": [
        {
          "output_type": "execute_result",
          "data": {
            "text/plain": [
              "√x"
            ],
            "text/latex": "$\\displaystyle \\sqrt{x}$"
          },
          "metadata": {},
          "execution_count": 5
        }
      ]
    },
    {
      "cell_type": "code",
      "source": [
        "# cube root\n",
        "cuberoot = Lambda(x, root(x,3))\n",
        "cuberoot(x)"
      ],
      "metadata": {
        "colab": {
          "base_uri": "https://localhost:8080/",
          "height": 37
        },
        "id": "Qod1wkL4eigM",
        "outputId": "32faa40c-e5ce-482c-c47d-a2def64f537d"
      },
      "execution_count": 6,
      "outputs": [
        {
          "output_type": "execute_result",
          "data": {
            "text/plain": [
              "3 ___\n",
              "╲╱ x "
            ],
            "text/latex": "$\\displaystyle \\sqrt[3]{x}$"
          },
          "metadata": {},
          "execution_count": 6
        }
      ]
    },
    {
      "cell_type": "code",
      "source": [
        "# nth root of unity\n",
        "root(x, n)"
      ],
      "metadata": {
        "colab": {
          "base_uri": "https://localhost:8080/",
          "height": 41
        },
        "id": "qhfOsZ4wekNX",
        "outputId": "3b466c2f-3b59-473a-84b7-c22ac992958c"
      },
      "execution_count": 7,
      "outputs": [
        {
          "output_type": "execute_result",
          "data": {
            "text/plain": [
              "n ___\n",
              "╲╱ x "
            ],
            "text/latex": "$\\displaystyle x^{\\frac{1}{n}}$"
          },
          "metadata": {},
          "execution_count": 7
        }
      ]
    },
    {
      "cell_type": "code",
      "source": [
        "# infinity\n",
        "oo"
      ],
      "metadata": {
        "colab": {
          "base_uri": "https://localhost:8080/",
          "height": 37
        },
        "id": "HhWWPMyZemM5",
        "outputId": "7efded38-bc71-4987-d63a-50713b35a307"
      },
      "execution_count": 8,
      "outputs": [
        {
          "output_type": "execute_result",
          "data": {
            "text/plain": [
              "∞"
            ],
            "text/latex": "$\\displaystyle \\infty$"
          },
          "metadata": {},
          "execution_count": 8
        }
      ]
    },
    {
      "cell_type": "code",
      "source": [
        "# negative infinity\n",
        "-oo"
      ],
      "metadata": {
        "colab": {
          "base_uri": "https://localhost:8080/",
          "height": 37
        },
        "id": "5y74Px4oeoLD",
        "outputId": "793dfa0c-f75f-40af-85d3-7efc21aebe5b"
      },
      "execution_count": 9,
      "outputs": [
        {
          "output_type": "execute_result",
          "data": {
            "text/plain": [
              "-∞"
            ],
            "text/latex": "$\\displaystyle -\\infty$"
          },
          "metadata": {},
          "execution_count": 9
        }
      ]
    },
    {
      "cell_type": "code",
      "source": [
        "# capital pi\n",
        "pi"
      ],
      "metadata": {
        "colab": {
          "base_uri": "https://localhost:8080/",
          "height": 39
        },
        "id": "gD9Lu6VQeqLy",
        "outputId": "55cf23fb-8bce-407e-aff8-390657b208ee"
      },
      "execution_count": 10,
      "outputs": [
        {
          "output_type": "execute_result",
          "data": {
            "text/plain": [
              "π"
            ],
            "text/latex": "$\\displaystyle \\pi$"
          },
          "metadata": {},
          "execution_count": 10
        }
      ]
    },
    {
      "cell_type": "code",
      "source": [
        "# Euler's number\n",
        "E"
      ],
      "metadata": {
        "colab": {
          "base_uri": "https://localhost:8080/",
          "height": 39
        },
        "id": "NeO5BJTQesEk",
        "outputId": "ec198f31-d8f3-44a0-dffc-0b667a21550f"
      },
      "execution_count": 11,
      "outputs": [
        {
          "output_type": "execute_result",
          "data": {
            "text/plain": [
              "ℯ"
            ],
            "text/latex": "$\\displaystyle e$"
          },
          "metadata": {},
          "execution_count": 11
        }
      ]
    },
    {
      "cell_type": "code",
      "source": [
        "# exponencial function\n",
        "exp(x)"
      ],
      "metadata": {
        "colab": {
          "base_uri": "https://localhost:8080/",
          "height": 39
        },
        "id": "tPjrfRdXet9f",
        "outputId": "6f3ed265-5be2-409d-aa50-c0f30a7e31d2"
      },
      "execution_count": 12,
      "outputs": [
        {
          "output_type": "execute_result",
          "data": {
            "text/plain": [
              " x\n",
              "ℯ "
            ],
            "text/latex": "$\\displaystyle e^{x}$"
          },
          "metadata": {},
          "execution_count": 12
        }
      ]
    },
    {
      "cell_type": "code",
      "source": [
        "# natural logarithm\n",
        "[ln(x), log(x)]"
      ],
      "metadata": {
        "colab": {
          "base_uri": "https://localhost:8080/",
          "height": 39
        },
        "id": "x7SXlejGewBK",
        "outputId": "50fd8a76-b840-400b-c496-1c565871854e"
      },
      "execution_count": 13,
      "outputs": [
        {
          "output_type": "execute_result",
          "data": {
            "text/plain": [
              "[log(x), log(x)]"
            ],
            "text/latex": "$\\displaystyle \\left[ \\log{\\left(x \\right)}, \\  \\log{\\left(x \\right)}\\right]$"
          },
          "metadata": {},
          "execution_count": 13
        }
      ]
    },
    {
      "cell_type": "code",
      "source": [
        "# logarithm\n",
        "log(x, b)"
      ],
      "metadata": {
        "colab": {
          "base_uri": "https://localhost:8080/",
          "height": 57
        },
        "id": "vXjsMMYQeyiM",
        "outputId": "f29c96a2-6ab4-4ddc-df53-5770a50ed5dc"
      },
      "execution_count": 14,
      "outputs": [
        {
          "output_type": "execute_result",
          "data": {
            "text/plain": [
              "log(x)\n",
              "──────\n",
              "log(b)"
            ],
            "text/latex": "$\\displaystyle \\frac{\\log{\\left(x \\right)}}{\\log{\\left(b \\right)}}$"
          },
          "metadata": {},
          "execution_count": 14
        }
      ]
    },
    {
      "cell_type": "code",
      "source": [
        "# common log\n",
        "log(x, 10)"
      ],
      "metadata": {
        "colab": {
          "base_uri": "https://localhost:8080/",
          "height": 57
        },
        "id": "mvZOYdU0e0pP",
        "outputId": "fa569b17-5652-4ec5-bc0f-4a22721a0d7d"
      },
      "execution_count": 15,
      "outputs": [
        {
          "output_type": "execute_result",
          "data": {
            "text/plain": [
              " log(x)\n",
              "───────\n",
              "log(10)"
            ],
            "text/latex": "$\\displaystyle \\frac{\\log{\\left(x \\right)}}{\\log{\\left(10 \\right)}}$"
          },
          "metadata": {},
          "execution_count": 15
        }
      ]
    },
    {
      "cell_type": "code",
      "source": [
        "# absolute value\n",
        "Abs(x)"
      ],
      "metadata": {
        "colab": {
          "base_uri": "https://localhost:8080/",
          "height": 39
        },
        "id": "93o07TThe49E",
        "outputId": "204a38b3-8c57-4c9d-bf89-05e325c8946e"
      },
      "execution_count": 16,
      "outputs": [
        {
          "output_type": "execute_result",
          "data": {
            "text/plain": [
              "│x│"
            ],
            "text/latex": "$\\displaystyle \\left|{x}\\right|$"
          },
          "metadata": {},
          "execution_count": 16
        }
      ]
    },
    {
      "cell_type": "code",
      "source": [
        "# less than or equal to\n",
        "x <= y"
      ],
      "metadata": {
        "colab": {
          "base_uri": "https://localhost:8080/",
          "height": 39
        },
        "id": "beIqBB8Xe69P",
        "outputId": "fa323dae-71d4-4996-b2d7-0863cfa86c98"
      },
      "execution_count": 17,
      "outputs": [
        {
          "output_type": "execute_result",
          "data": {
            "text/plain": [
              "x ≤ y"
            ],
            "text/latex": "$\\displaystyle x \\leq y$"
          },
          "metadata": {},
          "execution_count": 17
        }
      ]
    },
    {
      "cell_type": "code",
      "source": [
        "# greater than or equal to\n",
        "x >= y"
      ],
      "metadata": {
        "colab": {
          "base_uri": "https://localhost:8080/",
          "height": 39
        },
        "id": "wJszHa9Le9WK",
        "outputId": "78764f20-b704-4251-e84d-2f4ee5126d36"
      },
      "execution_count": 18,
      "outputs": [
        {
          "output_type": "execute_result",
          "data": {
            "text/plain": [
              "x ≥ y"
            ],
            "text/latex": "$\\displaystyle x \\geq y$"
          },
          "metadata": {},
          "execution_count": 18
        }
      ]
    },
    {
      "cell_type": "code",
      "source": [
        "# not equal\n",
        "x != y"
      ],
      "metadata": {
        "colab": {
          "base_uri": "https://localhost:8080/"
        },
        "id": "rbzwvRbue_Ce",
        "outputId": "63468067-507f-49e3-cbf7-4753e681f499"
      },
      "execution_count": 19,
      "outputs": [
        {
          "output_type": "execute_result",
          "data": {
            "text/plain": [
              "True"
            ]
          },
          "metadata": {},
          "execution_count": 19
        }
      ]
    }
  ]
}