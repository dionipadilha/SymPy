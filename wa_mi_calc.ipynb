{
  "nbformat": 4,
  "nbformat_minor": 0,
  "metadata": {
    "colab": {
      "provenance": [],
      "authorship_tag": "ABX9TyPDoXv3wnfvjw23ufftIfMO",
      "include_colab_link": true
    },
    "kernelspec": {
      "name": "python3",
      "display_name": "Python 3"
    },
    "language_info": {
      "name": "python"
    }
  },
  "cells": [
    {
      "cell_type": "markdown",
      "metadata": {
        "id": "view-in-github",
        "colab_type": "text"
      },
      "source": [
        "<a href=\"https://colab.research.google.com/github/dionipadilha/sympy/blob/main/wa_mi_calc.ipynb\" target=\"_parent\"><img src=\"https://colab.research.google.com/assets/colab-badge.svg\" alt=\"Open In Colab\"/></a>"
      ]
    },
    {
      "cell_type": "code",
      "source": [
        "# symbolic env\n",
        "from sympy import *\n",
        "a, b, c, d = symbols('a, b, c, d')\n",
        "x, y, z = symbols('x, y, z')\n",
        "r, s, t = symbols('r, s, t')\n",
        "k, m, n = symbols('k, m, n', integer=True)\n",
        "f, g, h = symbols('f, g, h', cls=Function)\n",
        "init_printing()"
      ],
      "metadata": {
        "id": "spFxiiueGc0b"
      },
      "execution_count": 1,
      "outputs": []
    },
    {
      "cell_type": "code",
      "metadata": {
        "id": "aYGeLqWjiAUj",
        "colab": {
          "base_uri": "https://localhost:8080/",
          "height": 52
        },
        "outputId": "d23af17f-ed16-4f92-9576-84f629234cd5"
      },
      "source": [
        "# derivative\n",
        "Derivative(f(x), x)"
      ],
      "execution_count": 2,
      "outputs": [
        {
          "output_type": "execute_result",
          "data": {
            "text/plain": [
              "d       \n",
              "──(f(x))\n",
              "dx      "
            ],
            "text/latex": "$\\displaystyle \\frac{d}{d x} f{\\left(x \\right)}$"
          },
          "metadata": {},
          "execution_count": 2
        }
      ]
    },
    {
      "cell_type": "code",
      "metadata": {
        "id": "ft8x3Wcoir27",
        "colab": {
          "base_uri": "https://localhost:8080/",
          "height": 54
        },
        "outputId": "ab064782-7504-414a-e452-df0c61f4f499"
      },
      "source": [
        "# second-order derivative\n",
        "Derivative(f(x), x, 2)"
      ],
      "execution_count": 3,
      "outputs": [
        {
          "output_type": "execute_result",
          "data": {
            "text/plain": [
              "  2      \n",
              " d       \n",
              "───(f(x))\n",
              "  2      \n",
              "dx       "
            ],
            "text/latex": "$\\displaystyle \\frac{d^{2}}{d x^{2}} f{\\left(x \\right)}$"
          },
          "metadata": {},
          "execution_count": 3
        }
      ]
    },
    {
      "cell_type": "code",
      "metadata": {
        "id": "qwLGWTQwjF2A",
        "colab": {
          "base_uri": "https://localhost:8080/",
          "height": 52
        },
        "outputId": "8ef1f462-d283-4f50-9148-79a5af462f84"
      },
      "source": [
        "# partial derivative\n",
        "Derivative(f(x, y), x)"
      ],
      "execution_count": 4,
      "outputs": [
        {
          "output_type": "execute_result",
          "data": {
            "text/plain": [
              "∂          \n",
              "──(f(x, y))\n",
              "∂x         "
            ],
            "text/latex": "$\\displaystyle \\frac{\\partial}{\\partial x} f{\\left(x,y \\right)}$"
          },
          "metadata": {},
          "execution_count": 4
        }
      ]
    },
    {
      "cell_type": "code",
      "source": [
        "# second-order partial derivative\n",
        "Derivative(f(x, y), x, 2)"
      ],
      "metadata": {
        "id": "Hb-2QddPFf24",
        "colab": {
          "base_uri": "https://localhost:8080/",
          "height": 54
        },
        "outputId": "454c133d-ab12-4303-d1af-dc2328db6495"
      },
      "execution_count": 5,
      "outputs": [
        {
          "output_type": "execute_result",
          "data": {
            "text/plain": [
              "  2         \n",
              " ∂          \n",
              "───(f(x, y))\n",
              "  2         \n",
              "∂x          "
            ],
            "text/latex": "$\\displaystyle \\frac{\\partial^{2}}{\\partial x^{2}} f{\\left(x,y \\right)}$"
          },
          "metadata": {},
          "execution_count": 5
        }
      ]
    },
    {
      "cell_type": "code",
      "source": [
        "# mixed partial derivative\n",
        "Derivative(f(x, y), x, y)"
      ],
      "metadata": {
        "id": "M9LO9VBSFtMs",
        "colab": {
          "base_uri": "https://localhost:8080/",
          "height": 57
        },
        "outputId": "b8e13506-6adf-410a-933c-44013576c2f3"
      },
      "execution_count": 6,
      "outputs": [
        {
          "output_type": "execute_result",
          "data": {
            "text/plain": [
              "   2          \n",
              "  ∂           \n",
              "─────(f(x, y))\n",
              "∂y ∂x         "
            ],
            "text/latex": "$\\displaystyle \\frac{\\partial^{2}}{\\partial y\\partial x} f{\\left(x,y \\right)}$"
          },
          "metadata": {},
          "execution_count": 6
        }
      ]
    },
    {
      "cell_type": "code",
      "source": [
        "# integral\n",
        "Integral(f(x), x)"
      ],
      "metadata": {
        "id": "RUKrH2ODGDW1",
        "colab": {
          "base_uri": "https://localhost:8080/",
          "height": 55
        },
        "outputId": "0ce99956-e7b5-4769-897e-176bf576cdd5"
      },
      "execution_count": 7,
      "outputs": [
        {
          "output_type": "execute_result",
          "data": {
            "text/plain": [
              "⌠        \n",
              "⎮ f(x) dx\n",
              "⌡        "
            ],
            "text/latex": "$\\displaystyle \\int f{\\left(x \\right)}\\, dx$"
          },
          "metadata": {},
          "execution_count": 7
        }
      ]
    },
    {
      "cell_type": "code",
      "source": [
        "# double integral\n",
        "Integral(f(x), x, x)"
      ],
      "metadata": {
        "colab": {
          "base_uri": "https://localhost:8080/",
          "height": 55
        },
        "id": "Yi8oB5OrP0pF",
        "outputId": "396996da-420b-4bf0-87aa-091970734586"
      },
      "execution_count": 8,
      "outputs": [
        {
          "output_type": "execute_result",
          "data": {
            "text/plain": [
              "⌠ ⌠           \n",
              "⎮ ⎮ f(x) dx dx\n",
              "⌡ ⌡           "
            ],
            "text/latex": "$\\displaystyle \\iint f{\\left(x \\right)}\\, dx\\, dx$"
          },
          "metadata": {},
          "execution_count": 8
        }
      ]
    },
    {
      "cell_type": "code",
      "source": [
        "# triple integral\n",
        "Integral(f(x), x, x, x)"
      ],
      "metadata": {
        "colab": {
          "base_uri": "https://localhost:8080/",
          "height": 55
        },
        "id": "63lTOYrJQAGL",
        "outputId": "2b1e245c-4a02-4283-d7ae-83a888954925"
      },
      "execution_count": 9,
      "outputs": [
        {
          "output_type": "execute_result",
          "data": {
            "text/plain": [
              "⌠ ⌠ ⌠              \n",
              "⎮ ⎮ ⎮ f(x) dx dx dx\n",
              "⌡ ⌡ ⌡              "
            ],
            "text/latex": "$\\displaystyle \\iiint f{\\left(x \\right)}\\, dx\\, dx\\, dx$"
          },
          "metadata": {},
          "execution_count": 9
        }
      ]
    },
    {
      "cell_type": "code",
      "source": [
        "# definite integral\n",
        "Integral(f(x), (x, a, b))"
      ],
      "metadata": {
        "colab": {
          "base_uri": "https://localhost:8080/",
          "height": 80
        },
        "id": "9PrWAkXnQKff",
        "outputId": "4bf4adb1-c599-4ad1-bb69-c7b243951534"
      },
      "execution_count": 10,
      "outputs": [
        {
          "output_type": "execute_result",
          "data": {
            "text/plain": [
              "b        \n",
              "⌠        \n",
              "⎮ f(x) dx\n",
              "⌡        \n",
              "a        "
            ],
            "text/latex": "$\\displaystyle \\int\\limits_{a}^{b} f{\\left(x \\right)}\\, dx$"
          },
          "metadata": {},
          "execution_count": 10
        }
      ]
    },
    {
      "cell_type": "code",
      "source": [
        "# definite double integral\n",
        "Integral(f(x), (x, a, b), (x, a, b))"
      ],
      "metadata": {
        "colab": {
          "base_uri": "https://localhost:8080/",
          "height": 80
        },
        "id": "T9ciKCbTQZEy",
        "outputId": "cba00875-22b3-4270-ee78-a478fe6f7a4c"
      },
      "execution_count": 11,
      "outputs": [
        {
          "output_type": "execute_result",
          "data": {
            "text/plain": [
              "b b           \n",
              "⌠ ⌠           \n",
              "⎮ ⎮ f(x) dx dx\n",
              "⌡ ⌡           \n",
              "a a           "
            ],
            "text/latex": "$\\displaystyle \\int\\limits_{a}^{b}\\int\\limits_{a}^{b} f{\\left(x \\right)}\\, dx\\, dx$"
          },
          "metadata": {},
          "execution_count": 11
        }
      ]
    },
    {
      "cell_type": "code",
      "source": [
        "# definite triple integral\n",
        "Integral(f(x), (x, a, b), (x, a, b), (x, a, b))"
      ],
      "metadata": {
        "colab": {
          "base_uri": "https://localhost:8080/",
          "height": 80
        },
        "id": "zJh5VFkbQg-h",
        "outputId": "b9aa86e8-ba85-457b-dd90-156511f424a5"
      },
      "execution_count": 12,
      "outputs": [
        {
          "output_type": "execute_result",
          "data": {
            "text/plain": [
              "b b b              \n",
              "⌠ ⌠ ⌠              \n",
              "⎮ ⎮ ⎮ f(x) dx dx dx\n",
              "⌡ ⌡ ⌡              \n",
              "a a a              "
            ],
            "text/latex": "$\\displaystyle \\int\\limits_{a}^{b}\\int\\limits_{a}^{b}\\int\\limits_{a}^{b} f{\\left(x \\right)}\\, dx\\, dx\\, dx$"
          },
          "metadata": {},
          "execution_count": 12
        }
      ]
    },
    {
      "cell_type": "code",
      "source": [
        "# summation\n",
        "Sum(k, (k, m, n))"
      ],
      "metadata": {
        "colab": {
          "base_uri": "https://localhost:8080/",
          "height": 67
        },
        "id": "SRSjK6NVQnfg",
        "outputId": "db3bf286-288d-4d2c-ab7f-e6e1c4c6dbf9"
      },
      "execution_count": 13,
      "outputs": [
        {
          "output_type": "execute_result",
          "data": {
            "text/plain": [
              "  n    \n",
              " ___   \n",
              " ╲     \n",
              "  ╲    \n",
              "  ╱   k\n",
              " ╱     \n",
              " ‾‾‾   \n",
              "k = m  "
            ],
            "text/latex": "$\\displaystyle \\sum_{k=m}^{n} k$"
          },
          "metadata": {},
          "execution_count": 13
        }
      ]
    },
    {
      "cell_type": "code",
      "source": [
        "# product\n",
        "Product(k, (k, m, n))"
      ],
      "metadata": {
        "colab": {
          "base_uri": "https://localhost:8080/",
          "height": 67
        },
        "id": "orncuPTtQwz1",
        "outputId": "cde0b0da-726d-4bf8-cc54-218eba7fc0af"
      },
      "execution_count": 14,
      "outputs": [
        {
          "output_type": "execute_result",
          "data": {
            "text/plain": [
              "  n    \n",
              "─┬─┬─  \n",
              " │ │  k\n",
              " │ │   \n",
              "k = m  "
            ],
            "text/latex": "$\\displaystyle \\prod_{k=m}^{n} k$"
          },
          "metadata": {},
          "execution_count": 14
        }
      ]
    },
    {
      "cell_type": "code",
      "source": [
        "# limit\n",
        "Limit(f(x), x, a)"
      ],
      "metadata": {
        "colab": {
          "base_uri": "https://localhost:8080/",
          "height": 45
        },
        "id": "Z_mLU5Y9REzN",
        "outputId": "9f1206ff-e5c8-4b1f-8863-04688651d8a2"
      },
      "execution_count": 15,
      "outputs": [
        {
          "output_type": "execute_result",
          "data": {
            "text/plain": [
              " lim f(x)\n",
              "x─→a⁺    "
            ],
            "text/latex": "$\\displaystyle \\lim_{x \\to a^+} f{\\left(x \\right)}$"
          },
          "metadata": {},
          "execution_count": 15
        }
      ]
    },
    {
      "cell_type": "code",
      "source": [
        "# limit from the left\n",
        "Limit(f(x), x, a, \"-\")"
      ],
      "metadata": {
        "colab": {
          "base_uri": "https://localhost:8080/",
          "height": 45
        },
        "id": "g2_8NDWuRNC0",
        "outputId": "ac3a7c69-5d54-486e-9649-ff768ffc8f2d"
      },
      "execution_count": 16,
      "outputs": [
        {
          "output_type": "execute_result",
          "data": {
            "text/plain": [
              " lim f(x)\n",
              "x─→a⁻    "
            ],
            "text/latex": "$\\displaystyle \\lim_{x \\to a^-} f{\\left(x \\right)}$"
          },
          "metadata": {},
          "execution_count": 16
        }
      ]
    },
    {
      "cell_type": "code",
      "source": [
        "# limit from the right\n",
        "Limit(f(x), x, a, \"+\")"
      ],
      "metadata": {
        "colab": {
          "base_uri": "https://localhost:8080/",
          "height": 45
        },
        "id": "bIxxM3KBRnRp",
        "outputId": "8e0b91d7-4e97-4b1a-c857-e2b02cabdf71"
      },
      "execution_count": 17,
      "outputs": [
        {
          "output_type": "execute_result",
          "data": {
            "text/plain": [
              " lim f(x)\n",
              "x─→a⁺    "
            ],
            "text/latex": "$\\displaystyle \\lim_{x \\to a^+} f{\\left(x \\right)}$"
          },
          "metadata": {},
          "execution_count": 17
        }
      ]
    },
    {
      "cell_type": "code",
      "source": [
        "# 2D limit\n",
        "Limit(f(x, y), (x, a),(y, b))"
      ],
      "metadata": {
        "colab": {
          "base_uri": "https://localhost:8080/",
          "height": 50
        },
        "id": "1PuwaDYGRsV-",
        "outputId": "f8add7f9-9298-43e0-c715-b324c0835b43"
      },
      "execution_count": 18,
      "outputs": [
        {
          "output_type": "execute_result",
          "data": {
            "text/plain": [
              "      lim      f(x, y)\n",
              "(x, a)─→(y, b)⁺       "
            ],
            "text/latex": "$\\displaystyle \\lim_{\\left( x, \\  a\\right) \\to \\left( y, \\  b\\right)^+} f{\\left(x,y \\right)}$"
          },
          "metadata": {},
          "execution_count": 18
        }
      ]
    },
    {
      "cell_type": "code",
      "source": [
        "# unit step\n",
        "Heaviside(x)"
      ],
      "metadata": {
        "colab": {
          "base_uri": "https://localhost:8080/",
          "height": 39
        },
        "id": "0Urzq2ZOR5BF",
        "outputId": "7269b21b-28e7-42ae-b95d-b133a61b05e8"
      },
      "execution_count": 19,
      "outputs": [
        {
          "output_type": "execute_result",
          "data": {
            "text/plain": [
              "θ(x)"
            ],
            "text/latex": "$\\displaystyle \\theta\\left(x\\right)$"
          },
          "metadata": {},
          "execution_count": 19
        }
      ]
    },
    {
      "cell_type": "code",
      "source": [
        "# Dirac delta\n",
        "DiracDelta(x)"
      ],
      "metadata": {
        "colab": {
          "base_uri": "https://localhost:8080/",
          "height": 39
        },
        "id": "NdB74ghRUAKo",
        "outputId": "43dc4853-ca75-4cb8-e361-63e832ab947c"
      },
      "execution_count": 20,
      "outputs": [
        {
          "output_type": "execute_result",
          "data": {
            "text/plain": [
              "δ(x)"
            ],
            "text/latex": "$\\displaystyle \\delta\\left(x\\right)$"
          },
          "metadata": {},
          "execution_count": 20
        }
      ]
    },
    {
      "cell_type": "code",
      "source": [
        "# piecewise function\n",
        "Piecewise((-x, x < 0), (x**2, x >= 0))"
      ],
      "metadata": {
        "colab": {
          "base_uri": "https://localhost:8080/",
          "height": 68
        },
        "id": "Ed6RCXTbUelA",
        "outputId": "55151084-af87-4eb9-c3f6-ff5aedfea27f"
      },
      "execution_count": 21,
      "outputs": [
        {
          "output_type": "execute_result",
          "data": {
            "text/plain": [
              "⎧-x  for x < 0\n",
              "⎪             \n",
              "⎨ 2           \n",
              "⎪x   otherwise\n",
              "⎩             "
            ],
            "text/latex": "$\\displaystyle \\begin{cases} - x & \\text{for}\\: x < 0 \\\\x^{2} & \\text{otherwise} \\end{cases}$"
          },
          "metadata": {},
          "execution_count": 21
        }
      ]
    },
    {
      "cell_type": "code",
      "source": [
        "# multivalue piecewise\n",
        "Piecewise((f(x), x < -1), (g(x), x <= 1), (h(x), True))"
      ],
      "metadata": {
        "colab": {
          "base_uri": "https://localhost:8080/",
          "height": 90
        },
        "id": "P89g9hc1WC9o",
        "outputId": "6ef326b5-4b4b-4901-aa7b-9b5c23b7d526"
      },
      "execution_count": 22,
      "outputs": [
        {
          "output_type": "execute_result",
          "data": {
            "text/plain": [
              "⎧f(x)  for x < -1\n",
              "⎪                \n",
              "⎨g(x)  for x ≤ 1 \n",
              "⎪                \n",
              "⎩h(x)  otherwise "
            ],
            "text/latex": "$\\displaystyle \\begin{cases} f{\\left(x \\right)} & \\text{for}\\: x < -1 \\\\g{\\left(x \\right)} & \\text{for}\\: x \\leq 1 \\\\h{\\left(x \\right)} & \\text{otherwise} \\end{cases}$"
          },
          "metadata": {},
          "execution_count": 22
        }
      ]
    },
    {
      "cell_type": "code",
      "source": [
        "# Laplace transform\n",
        "LaplaceTransform(f(t), t, s)"
      ],
      "metadata": {
        "colab": {
          "base_uri": "https://localhost:8080/",
          "height": 39
        },
        "id": "-1L-hfjoX61d",
        "outputId": "06c426e6-51a6-458f-ffde-99bdc4d8c3ff"
      },
      "execution_count": 23,
      "outputs": [
        {
          "output_type": "execute_result",
          "data": {
            "text/plain": [
              "LaplaceTransform(f(t), t, s)"
            ],
            "text/latex": "$\\displaystyle \\mathcal{L}_{t}\\left[f{\\left(t \\right)}\\right]\\left(s\\right)$"
          },
          "metadata": {},
          "execution_count": 23
        }
      ]
    },
    {
      "cell_type": "code",
      "source": [
        "# inverse Laplace transform\n",
        "inverse_laplace_transform(exp(-a*s)/s, s, t)"
      ],
      "metadata": {
        "colab": {
          "base_uri": "https://localhost:8080/",
          "height": 58
        },
        "id": "v4FOUdcgYwJR",
        "outputId": "88a0a5e7-b51a-4432-a941-62b9869ed94b"
      },
      "execution_count": 24,
      "outputs": [
        {
          "output_type": "execute_result",
          "data": {
            "text/plain": [
              "                       ⎛ -a⋅s            ⎞\n",
              "                       ⎜ℯ                ⎟\n",
              "InverseLaplaceTransform⎜─────, s, t, None⎟\n",
              "                       ⎝  s              ⎠"
            ],
            "text/latex": "$\\displaystyle \\mathcal{L}^{-1}_{s}\\left[\\frac{e^{- a s}}{s}\\right]\\left(t\\right)$"
          },
          "metadata": {},
          "execution_count": 24
        }
      ]
    },
    {
      "cell_type": "code",
      "source": [
        "# Fourier transform\n",
        "FourierTransform(f(x), x, k)"
      ],
      "metadata": {
        "colab": {
          "base_uri": "https://localhost:8080/",
          "height": 39
        },
        "id": "gUBQ9TFHZmsQ",
        "outputId": "51710d3c-558b-4d4d-adf3-f7bf31697200"
      },
      "execution_count": 25,
      "outputs": [
        {
          "output_type": "execute_result",
          "data": {
            "text/plain": [
              "FourierTransform(f(x), x, k)"
            ],
            "text/latex": "$\\displaystyle \\mathcal{F}_{x}\\left[f{\\left(x \\right)}\\right]\\left(k\\right)$"
          },
          "metadata": {},
          "execution_count": 25
        }
      ]
    },
    {
      "cell_type": "code",
      "source": [
        "# inverse Fourier transform\n",
        "inverse_fourier_transform(sqrt(pi)*exp(-(pi*k)**2), k, x)"
      ],
      "metadata": {
        "colab": {
          "base_uri": "https://localhost:8080/",
          "height": 41
        },
        "id": "ReRIWO2GaSyl",
        "outputId": "b84380e8-26a0-49f9-c006-2a917c750e33"
      },
      "execution_count": 26,
      "outputs": [
        {
          "output_type": "execute_result",
          "data": {
            "text/plain": [
              "   2\n",
              " -x \n",
              "ℯ   "
            ],
            "text/latex": "$\\displaystyle e^{- x^{2}}$"
          },
          "metadata": {},
          "execution_count": 26
        }
      ]
    }
  ]
}