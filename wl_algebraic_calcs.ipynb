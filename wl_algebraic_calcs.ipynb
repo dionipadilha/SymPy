{
  "nbformat": 4,
  "nbformat_minor": 0,
  "metadata": {
    "colab": {
      "provenance": [],
      "authorship_tag": "ABX9TyNU+9YgXlABGPjVYXEeC/Cp",
      "include_colab_link": true
    },
    "kernelspec": {
      "name": "python3",
      "display_name": "Python 3"
    },
    "language_info": {
      "name": "python"
    }
  },
  "cells": [
    {
      "cell_type": "markdown",
      "metadata": {
        "id": "view-in-github",
        "colab_type": "text"
      },
      "source": [
        "<a href=\"https://colab.research.google.com/github/dionipadilha/sympy/blob/main/wl_algebraic_calcs.ipynb\" target=\"_parent\"><img src=\"https://colab.research.google.com/assets/colab-badge.svg\" alt=\"Open In Colab\"/></a>"
      ]
    },
    {
      "cell_type": "markdown",
      "source": [
        "# Algebraic Calculations"
      ],
      "metadata": {
        "id": "zQj0fEDumVrH"
      }
    },
    {
      "cell_type": "code",
      "execution_count": null,
      "metadata": {
        "id": "ZhE2op6Rl0PC"
      },
      "outputs": [],
      "source": [
        "from sympy import *\n",
        "a, b, c, d = symbols('a, b, c, d')\n",
        "x, y, z, t = symbols('x, y, z, t')\n",
        "k, m, n = symbols('k, m, n', integer=True)\n",
        "f, g, h = symbols('f, g, h', cls=Function)\n",
        "init_printing()"
      ]
    },
    {
      "cell_type": "markdown",
      "source": [
        "## Symbolic Computation"
      ],
      "metadata": {
        "id": "xAx2_vz4me7S"
      }
    },
    {
      "cell_type": "markdown",
      "source": [
        "Sympy can handle algebraic formulas as well as numbers."
      ],
      "metadata": {
        "id": "LNZiBV9vmhVW"
      }
    },
    {
      "cell_type": "code",
      "source": [
        "# numerical computation:\n",
        "3 + 62 - 1"
      ],
      "metadata": {
        "colab": {
          "base_uri": "https://localhost:8080/",
          "height": 38
        },
        "id": "dKKubfEfmbzO",
        "outputId": "220a4529-d83c-4526-9528-1bb347b144dc"
      },
      "execution_count": null,
      "outputs": [
        {
          "output_type": "execute_result",
          "data": {
            "text/plain": [
              "64"
            ],
            "text/latex": "$\\displaystyle 64$"
          },
          "metadata": {},
          "execution_count": 2
        }
      ]
    },
    {
      "cell_type": "code",
      "source": [
        "# symbolic computation:\n",
        "3*x - x + 2"
      ],
      "metadata": {
        "colab": {
          "base_uri": "https://localhost:8080/",
          "height": 38
        },
        "id": "FKSjMRcDmsAn",
        "outputId": "0f09fc3d-6007-4e0e-daaa-a6015f100ad5"
      },
      "execution_count": null,
      "outputs": [
        {
          "output_type": "execute_result",
          "data": {
            "text/plain": [
              "2⋅x + 2"
            ],
            "text/latex": "$\\displaystyle 2 x + 2$"
          },
          "metadata": {},
          "execution_count": 6
        }
      ]
    },
    {
      "cell_type": "code",
      "source": [
        "# type any algebraic expression:\n",
        "-1 + 2*x + x**3"
      ],
      "metadata": {
        "colab": {
          "base_uri": "https://localhost:8080/",
          "height": 38
        },
        "id": "h0BbDr68myHV",
        "outputId": "f10d7d6b-3abb-4a3d-9561-04724d103f06"
      },
      "execution_count": null,
      "outputs": [
        {
          "output_type": "execute_result",
          "data": {
            "text/plain": [
              " 3          \n",
              "x  + 2⋅x - 1"
            ],
            "text/latex": "$\\displaystyle x^{3} + 2 x - 1$"
          },
          "metadata": {},
          "execution_count": 5
        }
      ]
    },
    {
      "cell_type": "code",
      "source": [
        "# automatically carries out basic algebraic simplifications:\n",
        "x**2 + x - 4*x**2"
      ],
      "metadata": {
        "colab": {
          "base_uri": "https://localhost:8080/",
          "height": 38
        },
        "id": "EMf4qivfnQoI",
        "outputId": "686fdfaa-945d-491d-a3be-fbef3ed4e8c1"
      },
      "execution_count": null,
      "outputs": [
        {
          "output_type": "execute_result",
          "data": {
            "text/plain": [
              "     2    \n",
              "- 3⋅x  + x"
            ],
            "text/latex": "$\\displaystyle - 3 x^{2} + x$"
          },
          "metadata": {},
          "execution_count": 27
        }
      ]
    },
    {
      "cell_type": "code",
      "source": [
        "# automatically rearranges and combines terms:\n",
        "x*y + 2*x**2 * y + y**2 * x**2 - 2*y*x"
      ],
      "metadata": {
        "colab": {
          "base_uri": "https://localhost:8080/",
          "height": 38
        },
        "id": "agmm1jhonmC4",
        "outputId": "67bd24c4-c731-4ec7-a236-684013bd5d56"
      },
      "execution_count": null,
      "outputs": [
        {
          "output_type": "execute_result",
          "data": {
            "text/plain": [
              " 2  2      2        \n",
              "x ⋅y  + 2⋅x ⋅y - x⋅y"
            ],
            "text/latex": "$\\displaystyle x^{2} y^{2} + 2 x^{2} y - x y$"
          },
          "metadata": {},
          "execution_count": 29
        }
      ]
    },
    {
      "cell_type": "code",
      "source": [
        "# more complicated expressions, requiring several parentheses:\n",
        "(1103 + 26390*n)/(396**(4*n))"
      ],
      "metadata": {
        "colab": {
          "base_uri": "https://localhost:8080/",
          "height": 38
        },
        "id": "jmtvykZoo6KB",
        "outputId": "63410a22-b95f-4c03-a763-fbf6c5b28605"
      },
      "execution_count": null,
      "outputs": [
        {
          "output_type": "execute_result",
          "data": {
            "text/plain": [
              "   -4⋅n                 \n",
              "396    ⋅(26390⋅n + 1103)"
            ],
            "text/latex": "$\\displaystyle 396^{- 4 n} \\left(26390 n + 1103\\right)$"
          },
          "metadata": {},
          "execution_count": 35
        }
      ]
    },
    {
      "cell_type": "markdown",
      "source": [
        "If sympy knows no rules for the expression, so it leaves the expression in the original form:"
      ],
      "metadata": {
        "id": "gJKkwScSq3ZN"
      }
    },
    {
      "cell_type": "code",
      "source": [
        "# standard rules of algebra:\n",
        "sqrt(1 + x)**4"
      ],
      "metadata": {
        "colab": {
          "base_uri": "https://localhost:8080/",
          "height": 39
        },
        "id": "aYIa4mpBswP8",
        "outputId": "6e0528d0-ac49-4610-c29c-8e0cd56e4291"
      },
      "execution_count": null,
      "outputs": [
        {
          "output_type": "execute_result",
          "data": {
            "text/plain": [
              "       2\n",
              "(x + 1) "
            ],
            "text/latex": "$\\displaystyle \\left(x + 1\\right)^{2}$"
          },
          "metadata": {},
          "execution_count": 36
        }
      ]
    },
    {
      "cell_type": "code",
      "source": [
        "# knows no rules for this expression:\n",
        "log(1 + cos(x))"
      ],
      "metadata": {
        "colab": {
          "base_uri": "https://localhost:8080/",
          "height": 38
        },
        "id": "Do3BARm3qk88",
        "outputId": "0b30d5ce-6a87-440b-b9b3-c9316b6148b3"
      },
      "execution_count": null,
      "outputs": [
        {
          "output_type": "execute_result",
          "data": {
            "text/plain": [
              "log(cos(x) + 1)"
            ],
            "text/latex": "$\\displaystyle \\log{\\left(\\cos{\\left(x \\right)} + 1 \\right)}$"
          },
          "metadata": {},
          "execution_count": 37
        }
      ]
    },
    {
      "cell_type": "markdown",
      "source": [
        "## Transforming Algebraic Expressions"
      ],
      "metadata": {
        "id": "w5aKvfF4s5k7"
      }
    },
    {
      "cell_type": "markdown",
      "source": [
        "Different ways to write the same algebraic expression."
      ],
      "metadata": {
        "id": "C0VyasDj0b1Z"
      }
    },
    {
      "cell_type": "code",
      "source": [
        "# algebraic expressions:\n",
        "(x + 2*y + 1) * (x - 2)**2"
      ],
      "metadata": {
        "colab": {
          "base_uri": "https://localhost:8080/",
          "height": 39
        },
        "id": "MG-VNJdaoTTK",
        "outputId": "2116be20-8dc3-47b9-a41d-adfb361d5f98"
      },
      "execution_count": null,
      "outputs": [
        {
          "output_type": "execute_result",
          "data": {
            "text/plain": [
              "       2              \n",
              "(x - 2) ⋅(x + 2⋅y + 1)"
            ],
            "text/latex": "$\\displaystyle \\left(x - 2\\right)^{2} \\left(x + 2 y + 1\\right)$"
          },
          "metadata": {},
          "execution_count": 38
        }
      ]
    },
    {
      "cell_type": "code",
      "source": [
        "# expand multiplies out products and powers:\n",
        "_.expand()"
      ],
      "metadata": {
        "colab": {
          "base_uri": "https://localhost:8080/",
          "height": 38
        },
        "id": "M9NtkNTmofdR",
        "outputId": "1e9fd5d2-901d-4c5a-d63c-15c27388226a"
      },
      "execution_count": null,
      "outputs": [
        {
          "output_type": "execute_result",
          "data": {
            "text/plain": [
              " 3      2        2                  \n",
              "x  + 2⋅x ⋅y - 3⋅x  - 8⋅x⋅y + 8⋅y + 4"
            ],
            "text/latex": "$\\displaystyle x^{3} + 2 x^{2} y - 3 x^{2} - 8 x y + 8 y + 4$"
          },
          "metadata": {},
          "execution_count": 39
        }
      ]
    },
    {
      "cell_type": "code",
      "source": [
        "# factor does essentially the inverse of expand:\n",
        "_.factor()"
      ],
      "metadata": {
        "colab": {
          "base_uri": "https://localhost:8080/",
          "height": 39
        },
        "id": "8_ZHz_oBosQ5",
        "outputId": "2c2e2d35-2681-460a-b0a0-6cda46f811fa"
      },
      "execution_count": null,
      "outputs": [
        {
          "output_type": "execute_result",
          "data": {
            "text/plain": [
              "       2              \n",
              "(x - 2) ⋅(x + 2⋅y + 1)"
            ],
            "text/latex": "$\\displaystyle \\left(x - 2\\right)^{2} \\left(x + 2 y + 1\\right)$"
          },
          "metadata": {},
          "execution_count": 40
        }
      ]
    },
    {
      "cell_type": "code",
      "source": [
        "# There are some cases, where Factor can give you more complicated expressions:\n",
        "(x**10-1).factor()"
      ],
      "metadata": {
        "id": "UAiNVXCoq_Dw",
        "colab": {
          "base_uri": "https://localhost:8080/",
          "height": 38
        },
        "outputId": "f4ce228f-bb5e-4691-ccad-10168dcd242b"
      },
      "execution_count": null,
      "outputs": [
        {
          "output_type": "execute_result",
          "data": {
            "text/plain": [
              "                ⎛ 4    3    2        ⎞ ⎛ 4    3    2        ⎞\n",
              "(x - 1)⋅(x + 1)⋅⎝x  - x  + x  - x + 1⎠⋅⎝x  + x  + x  + x + 1⎠"
            ],
            "text/latex": "$\\displaystyle \\left(x - 1\\right) \\left(x + 1\\right) \\left(x^{4} - x^{3} + x^{2} - x + 1\\right) \\left(x^{4} + x^{3} + x^{2} + x + 1\\right)$"
          },
          "metadata": {},
          "execution_count": 41
        }
      ]
    },
    {
      "cell_type": "code",
      "source": [
        "# In this case, Expand gives the \"simpler\" form:\n",
        "_.expand()"
      ],
      "metadata": {
        "colab": {
          "base_uri": "https://localhost:8080/",
          "height": 38
        },
        "id": "ijqB9gOB13AS",
        "outputId": "40f3946a-76f4-479d-a927-e8d6270bdddd"
      },
      "execution_count": null,
      "outputs": [
        {
          "output_type": "execute_result",
          "data": {
            "text/plain": [
              " 10    \n",
              "x   - 1"
            ],
            "text/latex": "$\\displaystyle x^{10} - 1$"
          },
          "metadata": {},
          "execution_count": 42
        }
      ]
    },
    {
      "cell_type": "markdown",
      "source": [
        "## Simplifying Algebraic Expressions"
      ],
      "metadata": {
        "id": "_9QYGjRR2HmN"
      }
    },
    {
      "cell_type": "markdown",
      "source": [
        "Write a algebraic expression in the simplest possible form."
      ],
      "metadata": {
        "id": "L1TDL5cv2O5x"
      }
    },
    {
      "cell_type": "code",
      "source": [
        "# cancel common factors between numerators and denominators\n",
        "((x**2 + 2*x + 1)/(2*x + 2)).cancel()"
      ],
      "metadata": {
        "colab": {
          "base_uri": "https://localhost:8080/",
          "height": 51
        },
        "id": "7CO-4rDS8gxl",
        "outputId": "783d2745-f41c-4670-c814-41d666b052b7"
      },
      "execution_count": null,
      "outputs": [
        {
          "output_type": "execute_result",
          "data": {
            "text/plain": [
              "x   1\n",
              "─ + ─\n",
              "2   2"
            ],
            "text/latex": "$\\displaystyle \\frac{x}{2} + \\frac{1}{2}$"
          },
          "metadata": {},
          "execution_count": 116
        }
      ]
    },
    {
      "cell_type": "code",
      "source": [
        "# put all terms over a common denominator:\n",
        "_.together()"
      ],
      "metadata": {
        "colab": {
          "base_uri": "https://localhost:8080/",
          "height": 51
        },
        "id": "WMV5ZCH35lH8",
        "outputId": "9f751284-cdd7-4b79-c48b-9a460aa8de11"
      },
      "execution_count": null,
      "outputs": [
        {
          "output_type": "execute_result",
          "data": {
            "text/plain": [
              "x + 1\n",
              "─────\n",
              "  2  "
            ],
            "text/latex": "$\\displaystyle \\frac{x + 1}{2}$"
          },
          "metadata": {},
          "execution_count": 117
        }
      ]
    },
    {
      "cell_type": "code",
      "source": [
        "# separate into terms with simple denominators:\n",
        "_.apart()"
      ],
      "metadata": {
        "colab": {
          "base_uri": "https://localhost:8080/",
          "height": 51
        },
        "id": "ubT3VAb156-5",
        "outputId": "90d1786b-2fac-4a6e-e17d-abd06e02ac0e"
      },
      "execution_count": null,
      "outputs": [
        {
          "output_type": "execute_result",
          "data": {
            "text/plain": [
              "x   1\n",
              "─ + ─\n",
              "2   2"
            ],
            "text/latex": "$\\displaystyle \\frac{x}{2} + \\frac{1}{2}$"
          },
          "metadata": {},
          "execution_count": 118
        }
      ]
    },
    {
      "cell_type": "code",
      "source": [
        "# try a sequence of algebraic transformation:\n",
        "((x**2 + 2*x + 1)/(2*x + 2)).simplify()"
      ],
      "metadata": {
        "colab": {
          "base_uri": "https://localhost:8080/",
          "height": 51
        },
        "id": "z169x7tu4VJF",
        "outputId": "6dccf320-e1a6-49d4-d290-7f1761662084"
      },
      "execution_count": null,
      "outputs": [
        {
          "output_type": "execute_result",
          "data": {
            "text/plain": [
              "x   1\n",
              "─ + ─\n",
              "2   2"
            ],
            "text/latex": "$\\displaystyle \\frac{x}{2} + \\frac{1}{2}$"
          },
          "metadata": {},
          "execution_count": 119
        }
      ]
    },
    {
      "cell_type": "markdown",
      "source": [
        "## Putting Expressions into Different Forms"
      ],
      "metadata": {
        "id": "OGtDTKGp_QAA"
      }
    },
    {
      "cell_type": "code",
      "source": [
        "# create a expr:\n",
        "expr = (x**3 / ((x-3)**2 * (x+1))) - (3*x/((x-3)**2 * (x+1))) + (2/((x-3)**2 * (x+1)))\n",
        "expr"
      ],
      "metadata": {
        "colab": {
          "base_uri": "https://localhost:8080/",
          "height": 61
        },
        "id": "1pr5t6ta8r9V",
        "outputId": "994346ed-c965-4bec-c5cc-a97d6c50aa94"
      },
      "execution_count": null,
      "outputs": [
        {
          "output_type": "execute_result",
          "data": {
            "text/plain": [
              "        3                                             \n",
              "       x                 3⋅x                 2        \n",
              "──────────────── - ──────────────── + ────────────────\n",
              "       2                  2                  2        \n",
              "(x - 3) ⋅(x + 1)   (x - 3) ⋅(x + 1)   (x - 3) ⋅(x + 1)"
            ],
            "text/latex": "$\\displaystyle \\frac{x^{3}}{\\left(x - 3\\right)^{2} \\left(x + 1\\right)} - \\frac{3 x}{\\left(x - 3\\right)^{2} \\left(x + 1\\right)} + \\frac{2}{\\left(x - 3\\right)^{2} \\left(x + 1\\right)}$"
          },
          "metadata": {},
          "execution_count": 109
        }
      ]
    },
    {
      "cell_type": "code",
      "source": [
        "# expand the expression:\n",
        "expr.expand()"
      ],
      "metadata": {
        "colab": {
          "base_uri": "https://localhost:8080/",
          "height": 55
        },
        "id": "SGya3SUr9mbd",
        "outputId": "9665a7ff-bd09-455b-9151-65181ebbb8b3"
      },
      "execution_count": null,
      "outputs": [
        {
          "output_type": "execute_result",
          "data": {
            "text/plain": [
              "          3                                                    \n",
              "         x                    3⋅x                    2         \n",
              "─────────────────── - ─────────────────── + ───────────────────\n",
              " 3      2              3      2              3      2          \n",
              "x  - 5⋅x  + 3⋅x + 9   x  - 5⋅x  + 3⋅x + 9   x  - 5⋅x  + 3⋅x + 9"
            ],
            "text/latex": "$\\displaystyle \\frac{x^{3}}{x^{3} - 5 x^{2} + 3 x + 9} - \\frac{3 x}{x^{3} - 5 x^{2} + 3 x + 9} + \\frac{2}{x^{3} - 5 x^{2} + 3 x + 9}$"
          },
          "metadata": {},
          "execution_count": 110
        }
      ]
    },
    {
      "cell_type": "code",
      "source": [
        "# factor the expression:\n",
        "expr.factor()"
      ],
      "metadata": {
        "colab": {
          "base_uri": "https://localhost:8080/",
          "height": 63
        },
        "id": "CRiorsfA9tad",
        "outputId": "3f0495f7-c4c9-4787-85e7-d34b687e29dc"
      },
      "execution_count": null,
      "outputs": [
        {
          "output_type": "execute_result",
          "data": {
            "text/plain": [
              "       2        \n",
              "(x - 1) ⋅(x + 2)\n",
              "────────────────\n",
              "       2        \n",
              "(x - 3) ⋅(x + 1)"
            ],
            "text/latex": "$\\displaystyle \\frac{\\left(x - 1\\right)^{2} \\left(x + 2\\right)}{\\left(x - 3\\right)^{2} \\left(x + 1\\right)}$"
          },
          "metadata": {},
          "execution_count": 111
        }
      ]
    },
    {
      "cell_type": "code",
      "source": [
        "# put all terms over a common denominator:\n",
        "expr.together()"
      ],
      "metadata": {
        "colab": {
          "base_uri": "https://localhost:8080/",
          "height": 61
        },
        "id": "JJvqPMBH9ytV",
        "outputId": "c94d836a-c170-4816-aedc-0493bc21cb9f"
      },
      "execution_count": null,
      "outputs": [
        {
          "output_type": "execute_result",
          "data": {
            "text/plain": [
              "   3            \n",
              "  x  - 3⋅x + 2  \n",
              "────────────────\n",
              "       2        \n",
              "(x - 3) ⋅(x + 1)"
            ],
            "text/latex": "$\\displaystyle \\frac{x^{3} - 3 x + 2}{\\left(x - 3\\right)^{2} \\left(x + 1\\right)}$"
          },
          "metadata": {},
          "execution_count": 112
        }
      ]
    },
    {
      "cell_type": "code",
      "source": [
        "# separate into terms with simple denominators:\n",
        "expr.apart()"
      ],
      "metadata": {
        "colab": {
          "base_uri": "https://localhost:8080/",
          "height": 58
        },
        "id": "31X1GDeW-xyb",
        "outputId": "064f31dd-4bd2-463a-b6df-4f6684d4a517"
      },
      "execution_count": null,
      "outputs": [
        {
          "output_type": "execute_result",
          "data": {
            "text/plain": [
              "        1           19         5    \n",
              "1 + ───────── + ───────── + ────────\n",
              "    4⋅(x + 1)   4⋅(x - 3)          2\n",
              "                            (x - 3) "
            ],
            "text/latex": "$\\displaystyle 1 + \\frac{1}{4 \\left(x + 1\\right)} + \\frac{19}{4 \\left(x - 3\\right)} + \\frac{5}{\\left(x - 3\\right)^{2}}$"
          },
          "metadata": {},
          "execution_count": 113
        }
      ]
    },
    {
      "cell_type": "code",
      "source": [
        "# cancel common factors between numerators and denominators:\n",
        "expr.cancel()"
      ],
      "metadata": {
        "colab": {
          "base_uri": "https://localhost:8080/",
          "height": 55
        },
        "id": "8bObvG7x-0v7",
        "outputId": "88392b49-9145-4a34-e156-378f028380bb"
      },
      "execution_count": null,
      "outputs": [
        {
          "output_type": "execute_result",
          "data": {
            "text/plain": [
              "     3             \n",
              "    x  - 3⋅x + 2   \n",
              "───────────────────\n",
              " 3      2          \n",
              "x  - 5⋅x  + 3⋅x + 9"
            ],
            "text/latex": "$\\displaystyle \\frac{x^{3} - 3 x + 2}{x^{3} - 5 x^{2} + 3 x + 9}$"
          },
          "metadata": {},
          "execution_count": 114
        }
      ]
    },
    {
      "cell_type": "code",
      "source": [
        "# try a sequence of algebraic transformations:\n",
        "expr.simplify()"
      ],
      "metadata": {
        "colab": {
          "base_uri": "https://localhost:8080/",
          "height": 61
        },
        "id": "2CKkQl0U-28j",
        "outputId": "ff1910a2-6fed-47cd-efc4-71f30e9339d9"
      },
      "execution_count": null,
      "outputs": [
        {
          "output_type": "execute_result",
          "data": {
            "text/plain": [
              "   3            \n",
              "  x  - 3⋅x + 2  \n",
              "────────────────\n",
              "       2        \n",
              "(x - 3) ⋅(x + 1)"
            ],
            "text/latex": "$\\displaystyle \\frac{x^{3} - 3 x + 2}{\\left(x - 3\\right)^{2} \\left(x + 1\\right)}$"
          },
          "metadata": {},
          "execution_count": 115
        }
      ]
    },
    {
      "cell_type": "markdown",
      "source": [
        "## Rearranging expressions in several variables"
      ],
      "metadata": {
        "id": "3wBO6u_JAAKJ"
      }
    },
    {
      "cell_type": "code",
      "source": [
        "# algebraic expression in two variables:\n",
        "expr = ((x + 2*y)**2 * (2*x + 3)**2).expand()\n",
        "expr"
      ],
      "metadata": {
        "colab": {
          "base_uri": "https://localhost:8080/",
          "height": 38
        },
        "id": "ZLIuvRvc-6RT",
        "outputId": "f7cd1c2b-d623-4721-aba7-91f2870260e9"
      },
      "execution_count": null,
      "outputs": [
        {
          "output_type": "execute_result",
          "data": {
            "text/plain": [
              "   4       3         3       2  2       2        2         2                2\n",
              "4⋅x  + 16⋅x ⋅y + 12⋅x  + 16⋅x ⋅y  + 48⋅x ⋅y + 9⋅x  + 48⋅x⋅y  + 36⋅x⋅y + 36⋅y "
            ],
            "text/latex": "$\\displaystyle 4 x^{4} + 16 x^{3} y + 12 x^{3} + 16 x^{2} y^{2} + 48 x^{2} y + 9 x^{2} + 48 x y^{2} + 36 x y + 36 y^{2}$"
          },
          "metadata": {},
          "execution_count": 140
        }
      ]
    },
    {
      "cell_type": "code",
      "source": [
        "# groups together powers of x:\n",
        "expr.collect(x)"
      ],
      "metadata": {
        "colab": {
          "base_uri": "https://localhost:8080/",
          "height": 38
        },
        "id": "YSyniczsAcDA",
        "outputId": "2746ea49-629c-4c5b-c142-ac0af9d9ebfd"
      },
      "execution_count": null,
      "outputs": [
        {
          "output_type": "execute_result",
          "data": {
            "text/plain": [
              "   4    3                2 ⎛    2           ⎞     ⎛    2       ⎞       2\n",
              "4⋅x  + x ⋅(16⋅y + 12) + x ⋅⎝16⋅y  + 48⋅y + 9⎠ + x⋅⎝48⋅y  + 36⋅y⎠ + 36⋅y "
            ],
            "text/latex": "$\\displaystyle 4 x^{4} + x^{3} \\cdot \\left(16 y + 12\\right) + x^{2} \\cdot \\left(16 y^{2} + 48 y + 9\\right) + x \\left(48 y^{2} + 36 y\\right) + 36 y^{2}$"
          },
          "metadata": {},
          "execution_count": 141
        }
      ]
    },
    {
      "cell_type": "code",
      "source": [
        "# gives the coefficient of x**n in expr:\n",
        "expr.collect(x).coeff(x, 2)"
      ],
      "metadata": {
        "colab": {
          "base_uri": "https://localhost:8080/",
          "height": 38
        },
        "id": "JRE97gRtA6Vg",
        "outputId": "112c6873-ed9b-4245-c77b-13eed3969e40"
      },
      "execution_count": null,
      "outputs": [
        {
          "output_type": "execute_result",
          "data": {
            "text/plain": [
              "    2           \n",
              "16⋅y  + 48⋅y + 9"
            ],
            "text/latex": "$\\displaystyle 16 y^{2} + 48 y + 9$"
          },
          "metadata": {},
          "execution_count": 142
        }
      ]
    },
    {
      "cell_type": "markdown",
      "source": [
        "## Trigonometric expressions"
      ],
      "metadata": {
        "id": "21HQHt3mEETM"
      }
    },
    {
      "cell_type": "code",
      "source": [
        "# create a trigonometric expressions:\n",
        "expr = sin(x + y)\n",
        "expr"
      ],
      "metadata": {
        "colab": {
          "base_uri": "https://localhost:8080/",
          "height": 38
        },
        "id": "d1sPrqECDhls",
        "outputId": "98404a0c-57d6-442f-e369-56e59b32562c"
      },
      "execution_count": null,
      "outputs": [
        {
          "output_type": "execute_result",
          "data": {
            "text/plain": [
              "sin(x + y)"
            ],
            "text/latex": "$\\displaystyle \\sin{\\left(x + y \\right)}$"
          },
          "metadata": {},
          "execution_count": 154
        }
      ]
    },
    {
      "cell_type": "code",
      "source": [
        "# expand out trigonometric expressions into a sum of terms:\n",
        "expand_trig(expr)"
      ],
      "metadata": {
        "colab": {
          "base_uri": "https://localhost:8080/",
          "height": 38
        },
        "id": "2WVnO5JsEvCb",
        "outputId": "93cc39d2-31e3-4be9-8360-83c1509a4e39"
      },
      "execution_count": null,
      "outputs": [
        {
          "output_type": "execute_result",
          "data": {
            "text/plain": [
              "sin(x)⋅cos(y) + sin(y)⋅cos(x)"
            ],
            "text/latex": "$\\displaystyle \\sin{\\left(x \\right)} \\cos{\\left(y \\right)} + \\sin{\\left(y \\right)} \\cos{\\left(x \\right)}$"
          },
          "metadata": {},
          "execution_count": 155
        }
      ]
    },
    {
      "cell_type": "code",
      "source": [
        "# simplify expressions using trigonometric identities:\n",
        "trigsimp(_)"
      ],
      "metadata": {
        "colab": {
          "base_uri": "https://localhost:8080/",
          "height": 38
        },
        "id": "hVIK1raUEPst",
        "outputId": "5ee0278c-f6be-40cf-de85-d03966bd847a"
      },
      "execution_count": null,
      "outputs": [
        {
          "output_type": "execute_result",
          "data": {
            "text/plain": [
              "sin(x + y)"
            ],
            "text/latex": "$\\displaystyle \\sin{\\left(x + y \\right)}$"
          },
          "metadata": {},
          "execution_count": 157
        }
      ]
    },
    {
      "cell_type": "markdown",
      "source": [
        "## Simplifying with Assumptions"
      ],
      "metadata": {
        "id": "unSYPjx0HSrv"
      }
    },
    {
      "cell_type": "code",
      "source": [
        "# identity is not applied if it is not true under the given assumptions:\n",
        "x = symbols('x')\n",
        "y = symbols('y', positive=True)\n",
        "Eq(sqrt(x**2), sqrt(y**2))"
      ],
      "metadata": {
        "id": "oyBr_3QOGhab",
        "colab": {
          "base_uri": "https://localhost:8080/",
          "height": 40
        },
        "outputId": "072ce325-1f20-473a-ed45-19d21a54e8ab"
      },
      "execution_count": null,
      "outputs": [
        {
          "output_type": "execute_result",
          "data": {
            "text/plain": [
              "   ____    \n",
              "  ╱  2     \n",
              "╲╱  x   = y"
            ],
            "text/latex": "$\\displaystyle \\sqrt{x^{2}} = y$"
          },
          "metadata": {},
          "execution_count": 62
        }
      ]
    },
    {
      "cell_type": "code",
      "source": [
        "# identity is not applied if it is not true under the given assumptions:\n",
        "x = symbols('x')\n",
        "y = symbols('y', real=True)\n",
        "Eq(sqrt(x**2), sqrt(y**2))"
      ],
      "metadata": {
        "colab": {
          "base_uri": "https://localhost:8080/",
          "height": 40
        },
        "id": "g8g2OCqson-X",
        "outputId": "73de2112-8766-40c7-b744-3a36b9044e77"
      },
      "execution_count": null,
      "outputs": [
        {
          "output_type": "execute_result",
          "data": {
            "text/plain": [
              "   ____      \n",
              "  ╱  2       \n",
              "╲╱  x   = │y│"
            ],
            "text/latex": "$\\displaystyle \\sqrt{x^{2}} = \\left|{y}\\right|$"
          },
          "metadata": {},
          "execution_count": 63
        }
      ]
    },
    {
      "cell_type": "code",
      "source": [
        "# force logcombine with assumptions by using force=True:\n",
        "expr = n*log(z)\n",
        "Eq(logcombine(expr), logcombine(expr, force=True))"
      ],
      "metadata": {
        "colab": {
          "base_uri": "https://localhost:8080/",
          "height": 38
        },
        "id": "69YPZHZLkM-z",
        "outputId": "7b8e426d-8971-495f-adba-c022411f6412"
      },
      "execution_count": null,
      "outputs": [
        {
          "output_type": "execute_result",
          "data": {
            "text/plain": [
              "              ⎛ n⎞\n",
              "n⋅log(z) = log⎝z ⎠"
            ],
            "text/latex": "$\\displaystyle n \\log{\\left(z \\right)} = \\log{\\left(z^{n} \\right)}$"
          },
          "metadata": {},
          "execution_count": 64
        }
      ]
    },
    {
      "cell_type": "code",
      "source": [
        "# force powdenest with assumptions by using force=True:\n",
        "expr = (z**a)**b\n",
        "Eq(powdenest(expr), powdenest(expr, force=True))"
      ],
      "metadata": {
        "colab": {
          "base_uri": "https://localhost:8080/",
          "height": 40
        },
        "id": "lD19wYUEk4o2",
        "outputId": "ac773d10-f6b8-4eed-a6fc-a6aa6621b309"
      },
      "execution_count": null,
      "outputs": [
        {
          "output_type": "execute_result",
          "data": {
            "text/plain": [
              "    b       \n",
              "⎛ a⎞     a⋅b\n",
              "⎝z ⎠  = z   "
            ],
            "text/latex": "$\\displaystyle \\left(z^{a}\\right)^{b} = z^{a b}$"
          },
          "metadata": {},
          "execution_count": 65
        }
      ]
    },
    {
      "cell_type": "markdown",
      "source": [
        "## Picking Out Pieces of Algebraic Expressions"
      ],
      "metadata": {
        "id": "pAE9eDO_o8br"
      }
    },
    {
      "cell_type": "code",
      "source": [
        "# define expression:\n",
        "expr = ((x + 2*y)**2 * (2*x + 3)**2).expand()\n",
        "expr"
      ],
      "metadata": {
        "colab": {
          "base_uri": "https://localhost:8080/",
          "height": 38
        },
        "id": "-9R32d21q7XW",
        "outputId": "a917fb18-f980-4d25-d6c6-a695b418b52c"
      },
      "execution_count": null,
      "outputs": [
        {
          "output_type": "execute_result",
          "data": {
            "text/plain": [
              "   4       3         3       2  2       2        2         2                2\n",
              "4⋅x  + 16⋅x ⋅y + 12⋅x  + 16⋅x ⋅y  + 48⋅x ⋅y + 9⋅x  + 48⋅x⋅y  + 36⋅x⋅y + 36⋅y "
            ],
            "text/latex": "$\\displaystyle 4 x^{4} + 16 x^{3} y + 12 x^{3} + 16 x^{2} y^{2} + 48 x^{2} y + 9 x^{2} + 48 x y^{2} + 36 x y + 36 y^{2}$"
          },
          "metadata": {},
          "execution_count": 76
        }
      ]
    },
    {
      "cell_type": "code",
      "source": [
        "# gives the coefficient of x**n in expr:\n",
        "expr.collect(x).coeff(x, 2)"
      ],
      "metadata": {
        "colab": {
          "base_uri": "https://localhost:8080/",
          "height": 38
        },
        "id": "G9MwsmUlni6V",
        "outputId": "1631c635-7f5f-47cd-e7c7-aaee1e52a866"
      },
      "execution_count": null,
      "outputs": [
        {
          "output_type": "execute_result",
          "data": {
            "text/plain": [
              "    2           \n",
              "16⋅y  + 48⋅y + 9"
            ],
            "text/latex": "$\\displaystyle 16 y^{2} + 48 y + 9$"
          },
          "metadata": {},
          "execution_count": 77
        }
      ]
    },
    {
      "cell_type": "code",
      "source": [
        "# gives the coefficient of y**n in expr:\n",
        "expr.collect(y).coeff(y, 2)"
      ],
      "metadata": {
        "colab": {
          "base_uri": "https://localhost:8080/",
          "height": 38
        },
        "id": "BynIIPDgpYDs",
        "outputId": "47030a29-1c6b-4368-ef85-6381aabc9cd6"
      },
      "execution_count": null,
      "outputs": [
        {
          "output_type": "execute_result",
          "data": {
            "text/plain": [
              "    2            \n",
              "16⋅x  + 48⋅x + 36"
            ],
            "text/latex": "$\\displaystyle 16 x^{2} + 48 x + 36$"
          },
          "metadata": {},
          "execution_count": 78
        }
      ]
    },
    {
      "cell_type": "code",
      "source": [
        "# picks out the denominator:\n",
        "expr = (x + 1) / (2* (y - 2))\n",
        "denom(expr)"
      ],
      "metadata": {
        "colab": {
          "base_uri": "https://localhost:8080/",
          "height": 38
        },
        "id": "advjgm23sQsq",
        "outputId": "a3f79ab6-a25b-421b-940f-ec771917ce04"
      },
      "execution_count": null,
      "outputs": [
        {
          "output_type": "execute_result",
          "data": {
            "text/plain": [
              "2⋅y - 4"
            ],
            "text/latex": "$\\displaystyle 2 y - 4$"
          },
          "metadata": {},
          "execution_count": 86
        }
      ]
    },
    {
      "cell_type": "code",
      "source": [
        "# picks out the numerator:\n",
        "numer(expr)"
      ],
      "metadata": {
        "colab": {
          "base_uri": "https://localhost:8080/",
          "height": 38
        },
        "id": "B_mjjaO5svXS",
        "outputId": "234fac78-15a9-4197-d19b-747a055cb542"
      },
      "execution_count": null,
      "outputs": [
        {
          "output_type": "execute_result",
          "data": {
            "text/plain": [
              "x + 1"
            ],
            "text/latex": "$\\displaystyle x + 1$"
          },
          "metadata": {},
          "execution_count": 88
        }
      ]
    }
  ]
}